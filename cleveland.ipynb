{
 "cells": [
  {
   "cell_type": "code",
   "execution_count": 1,
   "metadata": {},
   "outputs": [],
   "source": [
    "import warnings\n",
    "warnings.filterwarnings('ignore')"
   ]
  },
  {
   "cell_type": "code",
   "execution_count": 2,
   "metadata": {},
   "outputs": [],
   "source": [
    "import numpy as np\n",
    "import pandas as pd\n",
    "\n",
    "import matplotlib.pyplot as plt\n",
    "import seaborn as sns"
   ]
  },
  {
   "cell_type": "code",
   "execution_count": 3,
   "metadata": {},
   "outputs": [],
   "source": [
    "feature=[\"age\",\"sex\",\"cp\",\"trestbps\",\"chol\",\"fbs\",\"restecg\",\"thalach\",\"exang\",\"oldpeak\",\"slope\",\"ca\",\"thal\",\"target\"]"
   ]
  },
  {
   "cell_type": "code",
   "execution_count": 4,
   "metadata": {},
   "outputs": [],
   "source": [
    "# load data\n",
    "data  = pd.read_csv('heart+disease/processed.cleveland.data', sep=\",\",names=feature)"
   ]
  },
  {
   "cell_type": "code",
   "execution_count": 5,
   "metadata": {},
   "outputs": [
    {
     "data": {
      "text/html": [
       "<div>\n",
       "<style scoped>\n",
       "    .dataframe tbody tr th:only-of-type {\n",
       "        vertical-align: middle;\n",
       "    }\n",
       "\n",
       "    .dataframe tbody tr th {\n",
       "        vertical-align: top;\n",
       "    }\n",
       "\n",
       "    .dataframe thead th {\n",
       "        text-align: right;\n",
       "    }\n",
       "</style>\n",
       "<table border=\"1\" class=\"dataframe\">\n",
       "  <thead>\n",
       "    <tr style=\"text-align: right;\">\n",
       "      <th></th>\n",
       "      <th>age</th>\n",
       "      <th>sex</th>\n",
       "      <th>cp</th>\n",
       "      <th>trestbps</th>\n",
       "      <th>chol</th>\n",
       "      <th>fbs</th>\n",
       "      <th>restecg</th>\n",
       "      <th>thalach</th>\n",
       "      <th>exang</th>\n",
       "      <th>oldpeak</th>\n",
       "      <th>slope</th>\n",
       "      <th>ca</th>\n",
       "      <th>thal</th>\n",
       "      <th>target</th>\n",
       "    </tr>\n",
       "  </thead>\n",
       "  <tbody>\n",
       "    <tr>\n",
       "      <th>0</th>\n",
       "      <td>63.0</td>\n",
       "      <td>1.0</td>\n",
       "      <td>1.0</td>\n",
       "      <td>145.0</td>\n",
       "      <td>233.0</td>\n",
       "      <td>1.0</td>\n",
       "      <td>2.0</td>\n",
       "      <td>150.0</td>\n",
       "      <td>0.0</td>\n",
       "      <td>2.3</td>\n",
       "      <td>3.0</td>\n",
       "      <td>0.0</td>\n",
       "      <td>6.0</td>\n",
       "      <td>0</td>\n",
       "    </tr>\n",
       "    <tr>\n",
       "      <th>1</th>\n",
       "      <td>67.0</td>\n",
       "      <td>1.0</td>\n",
       "      <td>4.0</td>\n",
       "      <td>160.0</td>\n",
       "      <td>286.0</td>\n",
       "      <td>0.0</td>\n",
       "      <td>2.0</td>\n",
       "      <td>108.0</td>\n",
       "      <td>1.0</td>\n",
       "      <td>1.5</td>\n",
       "      <td>2.0</td>\n",
       "      <td>3.0</td>\n",
       "      <td>3.0</td>\n",
       "      <td>2</td>\n",
       "    </tr>\n",
       "    <tr>\n",
       "      <th>2</th>\n",
       "      <td>67.0</td>\n",
       "      <td>1.0</td>\n",
       "      <td>4.0</td>\n",
       "      <td>120.0</td>\n",
       "      <td>229.0</td>\n",
       "      <td>0.0</td>\n",
       "      <td>2.0</td>\n",
       "      <td>129.0</td>\n",
       "      <td>1.0</td>\n",
       "      <td>2.6</td>\n",
       "      <td>2.0</td>\n",
       "      <td>2.0</td>\n",
       "      <td>7.0</td>\n",
       "      <td>1</td>\n",
       "    </tr>\n",
       "    <tr>\n",
       "      <th>3</th>\n",
       "      <td>37.0</td>\n",
       "      <td>1.0</td>\n",
       "      <td>3.0</td>\n",
       "      <td>130.0</td>\n",
       "      <td>250.0</td>\n",
       "      <td>0.0</td>\n",
       "      <td>0.0</td>\n",
       "      <td>187.0</td>\n",
       "      <td>0.0</td>\n",
       "      <td>3.5</td>\n",
       "      <td>3.0</td>\n",
       "      <td>0.0</td>\n",
       "      <td>3.0</td>\n",
       "      <td>0</td>\n",
       "    </tr>\n",
       "    <tr>\n",
       "      <th>4</th>\n",
       "      <td>41.0</td>\n",
       "      <td>0.0</td>\n",
       "      <td>2.0</td>\n",
       "      <td>130.0</td>\n",
       "      <td>204.0</td>\n",
       "      <td>0.0</td>\n",
       "      <td>2.0</td>\n",
       "      <td>172.0</td>\n",
       "      <td>0.0</td>\n",
       "      <td>1.4</td>\n",
       "      <td>1.0</td>\n",
       "      <td>0.0</td>\n",
       "      <td>3.0</td>\n",
       "      <td>0</td>\n",
       "    </tr>\n",
       "  </tbody>\n",
       "</table>\n",
       "</div>"
      ],
      "text/plain": [
       "    age  sex   cp  trestbps   chol  fbs  restecg  thalach  exang  oldpeak  \\\n",
       "0  63.0  1.0  1.0     145.0  233.0  1.0      2.0    150.0    0.0      2.3   \n",
       "1  67.0  1.0  4.0     160.0  286.0  0.0      2.0    108.0    1.0      1.5   \n",
       "2  67.0  1.0  4.0     120.0  229.0  0.0      2.0    129.0    1.0      2.6   \n",
       "3  37.0  1.0  3.0     130.0  250.0  0.0      0.0    187.0    0.0      3.5   \n",
       "4  41.0  0.0  2.0     130.0  204.0  0.0      2.0    172.0    0.0      1.4   \n",
       "\n",
       "   slope   ca thal  target  \n",
       "0    3.0  0.0  6.0       0  \n",
       "1    2.0  3.0  3.0       2  \n",
       "2    2.0  2.0  7.0       1  \n",
       "3    3.0  0.0  3.0       0  \n",
       "4    1.0  0.0  3.0       0  "
      ]
     },
     "execution_count": 5,
     "metadata": {},
     "output_type": "execute_result"
    }
   ],
   "source": [
    "data.head()"
   ]
  },
  {
   "cell_type": "code",
   "execution_count": 6,
   "metadata": {},
   "outputs": [
    {
     "data": {
      "text/plain": [
       "(303, 14)"
      ]
     },
     "execution_count": 6,
     "metadata": {},
     "output_type": "execute_result"
    }
   ],
   "source": [
    "data.shape"
   ]
  },
  {
   "cell_type": "code",
   "execution_count": 7,
   "metadata": {},
   "outputs": [
    {
     "name": "stdout",
     "output_type": "stream",
     "text": [
      "<class 'pandas.core.frame.DataFrame'>\n",
      "RangeIndex: 303 entries, 0 to 302\n",
      "Data columns (total 14 columns):\n",
      "age         303 non-null float64\n",
      "sex         303 non-null float64\n",
      "cp          303 non-null float64\n",
      "trestbps    303 non-null float64\n",
      "chol        303 non-null float64\n",
      "fbs         303 non-null float64\n",
      "restecg     303 non-null float64\n",
      "thalach     303 non-null float64\n",
      "exang       303 non-null float64\n",
      "oldpeak     303 non-null float64\n",
      "slope       303 non-null float64\n",
      "ca          303 non-null object\n",
      "thal        303 non-null object\n",
      "target      303 non-null int64\n",
      "dtypes: float64(11), int64(1), object(2)\n",
      "memory usage: 33.3+ KB\n"
     ]
    }
   ],
   "source": [
    "data.info()"
   ]
  },
  {
   "cell_type": "code",
   "execution_count": 8,
   "metadata": {},
   "outputs": [],
   "source": [
    "data = data.replace({'?':np.NaN})"
   ]
  },
  {
   "cell_type": "code",
   "execution_count": 9,
   "metadata": {},
   "outputs": [],
   "source": [
    "data = data.dropna()"
   ]
  },
  {
   "cell_type": "code",
   "execution_count": 10,
   "metadata": {},
   "outputs": [
    {
     "name": "stdout",
     "output_type": "stream",
     "text": [
      "<class 'pandas.core.frame.DataFrame'>\n",
      "Int64Index: 297 entries, 0 to 301\n",
      "Data columns (total 14 columns):\n",
      "age         297 non-null float64\n",
      "sex         297 non-null float64\n",
      "cp          297 non-null float64\n",
      "trestbps    297 non-null float64\n",
      "chol        297 non-null float64\n",
      "fbs         297 non-null float64\n",
      "restecg     297 non-null float64\n",
      "thalach     297 non-null float64\n",
      "exang       297 non-null float64\n",
      "oldpeak     297 non-null float64\n",
      "slope       297 non-null float64\n",
      "ca          297 non-null object\n",
      "thal        297 non-null object\n",
      "target      297 non-null int64\n",
      "dtypes: float64(11), int64(1), object(2)\n",
      "memory usage: 34.8+ KB\n"
     ]
    }
   ],
   "source": [
    "data.info()"
   ]
  },
  {
   "cell_type": "code",
   "execution_count": 11,
   "metadata": {},
   "outputs": [
    {
     "data": {
      "text/plain": [
       "array([1, 0, 2], dtype=int64)"
      ]
     },
     "execution_count": 11,
     "metadata": {},
     "output_type": "execute_result"
    }
   ],
   "source": [
    "# Import label encoder\n",
    "from sklearn import preprocessing\n",
    "\n",
    "# label_encoder object knows\n",
    "# how to understand word labels.\n",
    "label_encoder = preprocessing.LabelEncoder()\n",
    "\n",
    "# Encode labels in column 'species'.\n",
    "data['ca']= label_encoder.fit_transform(data['ca'])\n",
    "data['thal']= label_encoder.fit_transform(data['thal'])\n",
    "\n",
    "data['ca'].unique()\n",
    "data['thal'].unique()"
   ]
  },
  {
   "cell_type": "code",
   "execution_count": 12,
   "metadata": {},
   "outputs": [
    {
     "data": {
      "image/png": "[encoded data removed]",
      "text/plain": [
       "<Figure size 288x288 with 1 Axes>"
      ]
     },
     "metadata": {
      "needs_background": "light"
     },
     "output_type": "display_data"
    }
   ],
   "source": [
    "import matplotlib.pyplot as plt\n",
    "\n",
    "plt.matshow(data.corr())\n",
    "plt.show()"
   ]
  },
  {
   "cell_type": "code",
   "execution_count": 13,
   "metadata": {},
   "outputs": [],
   "source": [
    "# changing attack labels to their respective attack class\n",
    "def change_label(df):\n",
    "  df.target.replace([1,2,3,4],1,inplace=True)"
   ]
  },
  {
   "cell_type": "code",
   "execution_count": 14,
   "metadata": {},
   "outputs": [],
   "source": [
    "change_label(data)"
   ]
  },
  {
   "cell_type": "code",
   "execution_count": 15,
   "metadata": {},
   "outputs": [
    {
     "data": {
      "image/png": "[encoded data removed]",
      "text/plain": [
       "<Figure size 432x288 with 1 Axes>"
      ]
     },
     "metadata": {
      "needs_background": "light"
     },
     "output_type": "display_data"
    }
   ],
   "source": [
    "data.target.value_counts().plot(kind='bar',color=['red','green']);"
   ]
  },
  {
   "cell_type": "code",
   "execution_count": 27,
   "metadata": {},
   "outputs": [
    {
     "data": {
      "text/plain": [
       "Index(['age', 'sex', 'cp', 'trestbps', 'chol', 'fbs', 'restecg', 'thalach',\n",
       "       'exang', 'oldpeak', 'slope', 'ca', 'thal', 'target'],\n",
       "      dtype='object')"
      ]
     },
     "execution_count": 27,
     "metadata": {},
     "output_type": "execute_result"
    }
   ],
   "source": [
    "data.columns"
   ]
  },
  {
   "cell_type": "code",
   "execution_count": 16,
   "metadata": {},
   "outputs": [],
   "source": [
    "data.to_csv('cleveland_processed.csv')"
   ]
  },
  {
   "cell_type": "code",
   "execution_count": 17,
   "metadata": {},
   "outputs": [],
   "source": [
    "X = data.drop([\"target\"],axis =1)\n",
    "y = data[\"target\"]"
   ]
  },
  {
   "cell_type": "code",
   "execution_count": 18,
   "metadata": {},
   "outputs": [],
   "source": [
    "from sklearn.metrics import accuracy_score # for calculating accuracy of model\n",
    "from sklearn.model_selection import train_test_split # for splitting the dataset for training and testing\n",
    "from sklearn.metrics import classification_report # for generating a classification report of model\n",
    "\n",
    "from sklearn.metrics import precision_score\n",
    "from sklearn.metrics import recall_score\n",
    "from sklearn.metrics import f1_score"
   ]
  },
  {
   "cell_type": "code",
   "execution_count": 19,
   "metadata": {},
   "outputs": [],
   "source": [
    "from imblearn.metrics import specificity_score, sensitivity_score"
   ]
  },
  {
   "cell_type": "code",
   "execution_count": 20,
   "metadata": {},
   "outputs": [],
   "source": [
    "# splitting the dataset 80% for training and 20% testing\n",
    "X_train, X_test, y_train, y_test = train_test_split(X,y, test_size=0.10, random_state=42)"
   ]
  },
  {
   "cell_type": "code",
   "execution_count": 21,
   "metadata": {},
   "outputs": [],
   "source": [
    "ML_Model = []\n",
    "accuracy = []\n",
    "precision = []\n",
    "recall = []\n",
    "f1score = []\n",
    "spec = []\n",
    "sens = []\n",
    "\n",
    "#function to call for storing the results\n",
    "def storeResults(model, a,b,c,d,e,f):\n",
    "    ML_Model.append(model)\n",
    "    accuracy.append(round(a, 3))\n",
    "    precision.append(round(b, 3))\n",
    "    recall.append(round(c, 3))\n",
    "    f1score.append(round(d, 3))\n",
    "    spec.append(round(e,3))\n",
    "    sens.append(round(f,3))"
   ]
  },
  {
   "cell_type": "code",
   "execution_count": 65,
   "metadata": {},
   "outputs": [],
   "source": [
    "ML_Model1 = []\n",
    "accuracy1 = []\n",
    "precision1 = []\n",
    "recall1 = []\n",
    "f1score1 = []\n",
    "spec1 = []\n",
    "sens1 = []\n",
    "\n",
    "#function to call for storing the results\n",
    "def storeResults1(model, a,b,c,d,e,f):\n",
    "    ML_Model1.append(model)\n",
    "    accuracy1.append(round(a, 3))\n",
    "    precision1.append(round(b, 3))\n",
    "    recall1.append(round(c, 3))\n",
    "    f1score1.append(round(d, 3))\n",
    "    spec1.append(round(e,3))\n",
    "    sens1.append(round(f,3))"
   ]
  },
  {
   "cell_type": "markdown",
   "metadata": {},
   "source": [
    "# Modelling"
   ]
  },
  {
   "cell_type": "markdown",
   "metadata": {},
   "source": [
    "# KNN"
   ]
  },
  {
   "cell_type": "code",
   "execution_count": 22,
   "metadata": {},
   "outputs": [],
   "source": [
    "from sklearn.neighbors import KNeighborsClassifier\n",
    "knn = KNeighborsClassifier(n_neighbors=3)\n",
    "knn.fit(X_train, y_train)\n",
    "\n",
    "y_pred    = knn.predict(X_test)\n",
    "\n",
    "knn_acc = accuracy_score(y_pred, y_test)\n",
    "knn_prec = precision_score(y_pred, y_test,average='weighted')\n",
    "knn_rec = recall_score(y_pred, y_test,average='weighted')\n",
    "knn_f1 = f1_score(y_pred, y_test,average='weighted')\n",
    "knn_spec = specificity_score(y_pred, y_test,average='weighted')\n",
    "knn_sens = sensitivity_score(y_pred, y_test,average='weighted')"
   ]
  },
  {
   "cell_type": "code",
   "execution_count": 66,
   "metadata": {},
   "outputs": [],
   "source": [
    "storeResults('KNN',knn_acc,knn_prec,knn_rec,knn_f1,knn_spec,knn_sens)"
   ]
  },
  {
   "cell_type": "markdown",
   "metadata": {},
   "source": [
    "# Linear SVC"
   ]
  },
  {
   "cell_type": "code",
   "execution_count": 23,
   "metadata": {},
   "outputs": [],
   "source": [
    "from sklearn.svm import LinearSVC\n",
    "lsvc = LinearSVC(random_state=0, tol=1e-5)\n",
    "lsvc.fit(X_train, y_train)\n",
    "\n",
    "y_pred    = lsvc.predict(X_test)\n",
    "\n",
    "lsvc_acc = accuracy_score(y_pred, y_test)\n",
    "lsvc_prec = precision_score(y_pred, y_test,average='weighted')\n",
    "lsvc_rec = recall_score(y_pred, y_test,average='weighted')\n",
    "lsvc_f1 = f1_score(y_pred, y_test,average='weighted')\n",
    "lsvc_spec = specificity_score(y_pred, y_test,average='weighted')\n",
    "lsvc_sens = sensitivity_score(y_pred, y_test,average='weighted')"
   ]
  },
  {
   "cell_type": "code",
   "execution_count": 67,
   "metadata": {},
   "outputs": [],
   "source": [
    "storeResults('LinearSVC',lsvc_acc,lsvc_prec,lsvc_rec,lsvc_f1,lsvc_spec,lsvc_sens)"
   ]
  },
  {
   "cell_type": "markdown",
   "metadata": {},
   "source": [
    "# Gaussian Process"
   ]
  },
  {
   "cell_type": "code",
   "execution_count": 24,
   "metadata": {},
   "outputs": [],
   "source": [
    "from sklearn.gaussian_process import GaussianProcessClassifier\n",
    "from sklearn.gaussian_process.kernels import RBF\n",
    "\n",
    "kernel = 1.0 * RBF(1.0)\n",
    "\n",
    "gp = GaussianProcessClassifier(kernel=kernel,random_state=0)\n",
    "gp.fit(X_train, y_train)\n",
    "\n",
    "y_pred    = gp.predict(X_test)\n",
    "\n",
    "gp_acc = accuracy_score(y_pred, y_test)\n",
    "gp_prec = precision_score(y_pred, y_test,average='weighted')\n",
    "gp_rec = recall_score(y_pred, y_test,average='weighted')\n",
    "gp_f1 = f1_score(y_pred, y_test,average='weighted')\n",
    "gp_spec = specificity_score(y_pred, y_test,average='weighted')\n",
    "gp_sens = sensitivity_score(y_pred, y_test,average='weighted')"
   ]
  },
  {
   "cell_type": "code",
   "execution_count": 68,
   "metadata": {},
   "outputs": [],
   "source": [
    "storeResults('Guassian Process',gp_acc,gp_prec,gp_rec,gp_f1,gp_spec,gp_sens)"
   ]
  },
  {
   "cell_type": "markdown",
   "metadata": {},
   "source": [
    "# Decision Tree"
   ]
  },
  {
   "cell_type": "code",
   "execution_count": 25,
   "metadata": {},
   "outputs": [],
   "source": [
    "from sklearn.tree import DecisionTreeClassifier\n",
    "tree = DecisionTreeClassifier(random_state=1000)\n",
    "\n",
    "tree.fit(X_train, y_train)\n",
    "\n",
    "y_pred    = tree.predict(X_test)\n",
    "\n",
    "dt_acc = accuracy_score(y_pred, y_test)\n",
    "dt_prec = precision_score(y_pred, y_test,average='weighted')\n",
    "dt_rec = recall_score(y_pred, y_test,average='weighted')\n",
    "dt_f1 = f1_score(y_pred, y_test,average='weighted')\n",
    "dt_spec = specificity_score(y_pred, y_test,average='weighted')\n",
    "dt_sens = sensitivity_score(y_pred, y_test,average='weighted')"
   ]
  },
  {
   "cell_type": "code",
   "execution_count": 69,
   "metadata": {},
   "outputs": [],
   "source": [
    "storeResults('Decision Tree',dt_acc,dt_prec,dt_rec,dt_f1,dt_spec,dt_sens)"
   ]
  },
  {
   "cell_type": "markdown",
   "metadata": {},
   "source": [
    "# Naive Bayes"
   ]
  },
  {
   "cell_type": "code",
   "execution_count": 27,
   "metadata": {},
   "outputs": [],
   "source": [
    "from sklearn.naive_bayes import GaussianNB\n",
    "nb = GaussianNB()\n",
    "\n",
    "nb.fit(X_train, y_train)\n",
    "\n",
    "y_pred    = nb.predict(X_test)\n",
    "\n",
    "nb_acc = accuracy_score(y_pred, y_test)\n",
    "nb_prec = precision_score(y_pred, y_test,average='weighted')\n",
    "nb_rec = recall_score(y_pred, y_test,average='weighted')\n",
    "nb_f1 = f1_score(y_pred, y_test,average='weighted')\n",
    "nb_spec = specificity_score(y_pred, y_test,average='weighted')\n",
    "nb_sens = sensitivity_score(y_pred, y_test,average='weighted')"
   ]
  },
  {
   "cell_type": "code",
   "execution_count": 70,
   "metadata": {},
   "outputs": [],
   "source": [
    "storeResults('Naive Bayes',nb_acc,nb_prec,nb_rec,nb_f1,nb_spec,nb_sens)"
   ]
  },
  {
   "cell_type": "markdown",
   "metadata": {},
   "source": [
    "# QDA"
   ]
  },
  {
   "cell_type": "code",
   "execution_count": 28,
   "metadata": {},
   "outputs": [],
   "source": [
    "from sklearn.discriminant_analysis import QuadraticDiscriminantAnalysis\n",
    "qda = QuadraticDiscriminantAnalysis()\n",
    "\n",
    "qda.fit(X_train, y_train)\n",
    "\n",
    "y_pred    = qda.predict(X_test)\n",
    "\n",
    "qda_acc = accuracy_score(y_pred, y_test)\n",
    "qda_prec = precision_score(y_pred, y_test,average='weighted')\n",
    "qda_rec = recall_score(y_pred, y_test,average='weighted')\n",
    "qda_f1 = f1_score(y_pred, y_test,average='weighted')\n",
    "qda_spec = specificity_score(y_pred, y_test,average='weighted')\n",
    "qda_sens = sensitivity_score(y_pred, y_test,average='weighted')"
   ]
  },
  {
   "cell_type": "code",
   "execution_count": 71,
   "metadata": {},
   "outputs": [],
   "source": [
    "storeResults('QDA',qda_acc,qda_prec,qda_rec,qda_f1,qda_spec,qda_sens)"
   ]
  },
  {
   "cell_type": "markdown",
   "metadata": {},
   "source": [
    "# AdaBoost"
   ]
  },
  {
   "cell_type": "code",
   "execution_count": 29,
   "metadata": {},
   "outputs": [],
   "source": [
    "from sklearn.ensemble import AdaBoostClassifier\n",
    "ab = AdaBoostClassifier(n_estimators=100, random_state=0)\n",
    "\n",
    "ab.fit(X_train, y_train)\n",
    "\n",
    "y_pred    = ab.predict(X_test)\n",
    "\n",
    "ab_acc = accuracy_score(y_pred, y_test)\n",
    "ab_prec = precision_score(y_pred, y_test,average='weighted')\n",
    "ab_rec = recall_score(y_pred, y_test,average='weighted')\n",
    "ab_f1 = f1_score(y_pred, y_test,average='weighted')\n",
    "ab_spec = specificity_score(y_pred, y_test,average='weighted')\n",
    "ab_sens = sensitivity_score(y_pred, y_test,average='weighted')"
   ]
  },
  {
   "cell_type": "code",
   "execution_count": 72,
   "metadata": {},
   "outputs": [],
   "source": [
    "storeResults('AdaBoost',ab_acc,ab_prec,ab_rec,ab_f1,ab_spec,ab_sens)"
   ]
  },
  {
   "cell_type": "markdown",
   "metadata": {},
   "source": [
    "# Bagging Classifier"
   ]
  },
  {
   "cell_type": "code",
   "execution_count": 30,
   "metadata": {},
   "outputs": [],
   "source": [
    "from sklearn.ensemble import BaggingClassifier\n",
    "clf = BaggingClassifier(DecisionTreeClassifier(random_state=42),n_estimators=10, random_state=0)\n",
    "clf.fit(X_train, y_train)\n",
    "\n",
    "y_pred    = clf.predict(X_test)\n",
    "bg_acc = accuracy_score(y_pred, y_test)\n",
    "bg_prec = precision_score(y_pred, y_test,average='weighted')\n",
    "bg_rec = recall_score(y_pred, y_test,average='weighted')\n",
    "bg_f1 = f1_score(y_pred, y_test,average='weighted')\n",
    "bg_spec = specificity_score(y_pred, y_test,average='weighted')\n",
    "bg_sens = sensitivity_score(y_pred, y_test,average='weighted')"
   ]
  },
  {
   "cell_type": "code",
   "execution_count": 73,
   "metadata": {},
   "outputs": [],
   "source": [
    "storeResults('Bagging',bg_acc,bg_prec,bg_rec,bg_f1,bg_spec,bg_sens)"
   ]
  },
  {
   "cell_type": "markdown",
   "metadata": {},
   "source": [
    "# Boosting Classifier"
   ]
  },
  {
   "cell_type": "code",
   "execution_count": 31,
   "metadata": {},
   "outputs": [],
   "source": [
    "from sklearn.ensemble import GradientBoostingClassifier\n",
    "clf =  GradientBoostingClassifier(n_estimators=100, learning_rate=1.0,max_depth=1, random_state=0)\n",
    "clf.fit(X_train, y_train)\n",
    "\n",
    "y_pred    = clf.predict(X_test)\n",
    "bos_acc = accuracy_score(y_pred, y_test)\n",
    "bos_prec = precision_score(y_pred, y_test,average='weighted')\n",
    "bos_rec = recall_score(y_pred, y_test,average='weighted')\n",
    "bos_f1 = f1_score(y_pred, y_test,average='weighted')\n",
    "bos_spec = specificity_score(y_pred, y_test,average='weighted')\n",
    "bos_sens = sensitivity_score(y_pred, y_test,average='weighted')"
   ]
  },
  {
   "cell_type": "code",
   "execution_count": 74,
   "metadata": {},
   "outputs": [],
   "source": [
    "storeResults('Boosting',bos_acc,bos_prec,bos_rec,bos_f1,bos_spec,bos_sens)"
   ]
  },
  {
   "cell_type": "markdown",
   "metadata": {},
   "source": [
    "# Stacking Classifier"
   ]
  },
  {
   "cell_type": "code",
   "execution_count": 32,
   "metadata": {},
   "outputs": [],
   "source": [
    "from sklearn.ensemble import RandomForestClassifier\n",
    "from sklearn.neural_network import MLPClassifier\n",
    "from lightgbm import LGBMClassifier\n",
    "from sklearn.ensemble import StackingClassifier\n",
    "\n",
    "estimators = [('rf', RandomForestClassifier(n_estimators=1000)),('mlp', MLPClassifier(random_state=1, max_iter=3000))]\n",
    "\n",
    "clf = StackingClassifier(estimators=estimators, final_estimator=LGBMClassifier(n_estimators=1000))\n",
    "\n",
    "\n",
    "clf.fit(X_train,y_train)\n",
    "\n",
    "y_pred    = clf.predict(X_test)\n",
    "stac_acc = accuracy_score(y_pred, y_test)\n",
    "stac_prec = precision_score(y_pred, y_test,average='weighted')\n",
    "stac_rec = recall_score(y_pred, y_test,average='weighted')\n",
    "stac_f1 = f1_score(y_pred, y_test,average='weighted')\n",
    "stac_spec = specificity_score(y_pred, y_test,average='weighted')\n",
    "stac_sens = sensitivity_score(y_pred, y_test,average='weighted')"
   ]
  },
  {
   "cell_type": "code",
   "execution_count": 100,
   "metadata": {},
   "outputs": [],
   "source": [
    "storeResults('Stacking Classifier',stac_acc,stac_prec,stac_rec,stac_f1,stac_spec,stac_sens)"
   ]
  },
  {
   "cell_type": "markdown",
   "metadata": {},
   "source": [
    "# Voting Classifier"
   ]
  },
  {
   "cell_type": "code",
   "execution_count": 23,
   "metadata": {},
   "outputs": [],
   "source": [
    "from sklearn.ensemble import RandomForestClassifier, VotingClassifier\n",
    "clf1 = DecisionTreeClassifier(random_state=50)\n",
    "clf2 = RandomForestClassifier(random_state=10)\n",
    "\n",
    "eclf1 = VotingClassifier(estimators=[('ad', clf1), ('rf', clf2)], voting='soft')\n",
    "eclf1.fit(X_train,y_train)\n",
    "y_pred    = eclf1.predict(X_test)\n",
    "vot_acc = accuracy_score(y_pred, y_test)\n",
    "vot_prec = precision_score(y_pred, y_test,average='weighted')\n",
    "vot_rec = recall_score(y_pred, y_test,average='weighted')\n",
    "vot_f1 = f1_score(y_pred, y_test,average='weighted')\n",
    "vot_spec = specificity_score(y_pred, y_test,average='weighted')\n",
    "vot_sens = sensitivity_score(y_pred, y_test,average='weighted')"
   ]
  },
  {
   "cell_type": "code",
   "execution_count": 101,
   "metadata": {},
   "outputs": [],
   "source": [
    "storeResults('Voting Classifier',vot_acc,vot_prec,vot_rec,vot_f1,vot_spec,vot_sens)"
   ]
  },
  {
   "cell_type": "markdown",
   "metadata": {},
   "source": [
    "# DNN"
   ]
  },
  {
   "cell_type": "code",
   "execution_count": 34,
   "metadata": {},
   "outputs": [],
   "source": [
    "from keras.layers import Dense, BatchNormalization, Dropout, LSTM\n",
    "from keras.models import Sequential\n",
    "from keras import callbacks"
   ]
  },
  {
   "cell_type": "code",
   "execution_count": 35,
   "metadata": {},
   "outputs": [],
   "source": [
    "early_stopping = callbacks.EarlyStopping(\n",
    "    min_delta=0.001, # minimium amount of change to count as an improvement\n",
    "    patience=20, # how many epochs to wait before stopping\n",
    "    restore_best_weights=True)"
   ]
  },
  {
   "cell_type": "markdown",
   "metadata": {},
   "source": [
    "# 3 Layers"
   ]
  },
  {
   "cell_type": "code",
   "execution_count": 36,
   "metadata": {},
   "outputs": [],
   "source": [
    "# Initialising the NN\n",
    "model = Sequential()\n",
    "\n",
    "# layers\n",
    "model.add(Dense(units = 64, kernel_initializer = 'uniform', activation = 'relu', input_dim = 13))\n",
    "model.add(Dense(units = 32, kernel_initializer = 'uniform', activation = 'relu'))\n",
    "model.add(Dropout(0.25))\n",
    "model.add(Dense(units = 32, kernel_initializer = 'uniform', activation = 'relu'))\n",
    "model.add(Dropout(0.5))\n",
    "model.add(Dense(units = 1, kernel_initializer = 'uniform', activation = 'sigmoid'))\n",
    "\n",
    "# Compiling the ANN\n",
    "model.compile(optimizer = 'adam', loss = 'binary_crossentropy', metrics = ['accuracy'])"
   ]
  },
  {
   "cell_type": "code",
   "execution_count": 37,
   "metadata": {},
   "outputs": [
    {
     "name": "stdout",
     "output_type": "stream",
     "text": [
      "Epoch 1/100\n",
      "107/107 [==============================] - 46s 26ms/step - loss: 0.6934 - accuracy: 0.5271 - val_loss: 0.7071 - val_accuracy: 0.3333\n",
      "Epoch 2/100\n",
      "107/107 [==============================] - 0s 3ms/step - loss: 0.6916 - accuracy: 0.5553 - val_loss: 0.7114 - val_accuracy: 0.3333\n",
      "Epoch 3/100\n",
      "107/107 [==============================] - 0s 4ms/step - loss: 0.6826 - accuracy: 0.5899 - val_loss: 0.6680 - val_accuracy: 0.6667\n",
      "Epoch 4/100\n",
      "107/107 [==============================] - 0s 4ms/step - loss: 0.6743 - accuracy: 0.5982 - val_loss: 0.5759 - val_accuracy: 0.7407\n",
      "Epoch 5/100\n",
      "107/107 [==============================] - 0s 4ms/step - loss: 0.6315 - accuracy: 0.6601 - val_loss: 0.5777 - val_accuracy: 0.7037\n",
      "Epoch 6/100\n",
      "107/107 [==============================] - 0s 4ms/step - loss: 0.6053 - accuracy: 0.6869 - val_loss: 0.5436 - val_accuracy: 0.7222\n",
      "Epoch 7/100\n",
      "107/107 [==============================] - 0s 4ms/step - loss: 0.6627 - accuracy: 0.6333 - val_loss: 0.5467 - val_accuracy: 0.7407\n",
      "Epoch 8/100\n",
      "107/107 [==============================] - 0s 4ms/step - loss: 0.5379 - accuracy: 0.7272 - val_loss: 0.8102 - val_accuracy: 0.6296\n",
      "Epoch 9/100\n",
      "107/107 [==============================] - 0s 3ms/step - loss: 0.5082 - accuracy: 0.7502 - val_loss: 0.5265 - val_accuracy: 0.7037\n",
      "Epoch 10/100\n",
      "107/107 [==============================] - 0s 3ms/step - loss: 0.5434 - accuracy: 0.7676 - val_loss: 0.5818 - val_accuracy: 0.7222\n",
      "Epoch 11/100\n",
      "107/107 [==============================] - 0s 3ms/step - loss: 0.4276 - accuracy: 0.8444 - val_loss: 0.5371 - val_accuracy: 0.7407\n",
      "Epoch 12/100\n",
      "107/107 [==============================] - 0s 4ms/step - loss: 0.4646 - accuracy: 0.7868 - val_loss: 0.4679 - val_accuracy: 0.7778\n",
      "Epoch 13/100\n",
      "107/107 [==============================] - 0s 4ms/step - loss: 0.4653 - accuracy: 0.7797 - val_loss: 0.6071 - val_accuracy: 0.7037\n",
      "Epoch 14/100\n",
      "107/107 [==============================] - 0s 4ms/step - loss: 0.4414 - accuracy: 0.7870 - val_loss: 0.5351 - val_accuracy: 0.7778\n",
      "Epoch 15/100\n",
      "107/107 [==============================] - 0s 4ms/step - loss: 0.5159 - accuracy: 0.7688 - val_loss: 0.4566 - val_accuracy: 0.7778\n",
      "Epoch 16/100\n",
      "107/107 [==============================] - 0s 4ms/step - loss: 0.4474 - accuracy: 0.8050 - val_loss: 0.5052 - val_accuracy: 0.7778\n",
      "Epoch 17/100\n",
      "107/107 [==============================] - 0s 3ms/step - loss: 0.4417 - accuracy: 0.7911 - val_loss: 0.4861 - val_accuracy: 0.7963\n",
      "Epoch 18/100\n",
      "107/107 [==============================] - 0s 3ms/step - loss: 0.3982 - accuracy: 0.8225 - val_loss: 0.4608 - val_accuracy: 0.7593\n",
      "Epoch 19/100\n",
      "107/107 [==============================] - 0s 4ms/step - loss: 0.3278 - accuracy: 0.8848 - val_loss: 0.4724 - val_accuracy: 0.8148\n",
      "Epoch 20/100\n",
      "107/107 [==============================] - 0s 4ms/step - loss: 0.5010 - accuracy: 0.7400 - val_loss: 0.5509 - val_accuracy: 0.7593\n",
      "Epoch 21/100\n",
      "107/107 [==============================] - 0s 4ms/step - loss: 0.4993 - accuracy: 0.8036 - val_loss: 0.5044 - val_accuracy: 0.7963\n",
      "Epoch 22/100\n",
      "107/107 [==============================] - 0s 4ms/step - loss: 0.3952 - accuracy: 0.8705 - val_loss: 0.5239 - val_accuracy: 0.8148\n",
      "Epoch 23/100\n",
      "107/107 [==============================] - 0s 4ms/step - loss: 0.3940 - accuracy: 0.8555 - val_loss: 0.4642 - val_accuracy: 0.8148\n",
      "Epoch 24/100\n",
      "107/107 [==============================] - 0s 3ms/step - loss: 0.3856 - accuracy: 0.8222 - val_loss: 0.4833 - val_accuracy: 0.7963\n",
      "Epoch 25/100\n",
      "107/107 [==============================] - ETA: 0s - loss: 0.3794 - accuracy: 0.81 - 0s 3ms/step - loss: 0.3829 - accuracy: 0.8123 - val_loss: 0.5115 - val_accuracy: 0.8148\n",
      "Epoch 26/100\n",
      "107/107 [==============================] - 0s 4ms/step - loss: 0.4471 - accuracy: 0.7832 - val_loss: 0.6230 - val_accuracy: 0.7778\n",
      "Epoch 27/100\n",
      "107/107 [==============================] - 0s 4ms/step - loss: 0.4216 - accuracy: 0.8152 - val_loss: 0.4530 - val_accuracy: 0.7778\n",
      "Epoch 28/100\n",
      "107/107 [==============================] - 0s 4ms/step - loss: 0.3907 - accuracy: 0.8604 - val_loss: 0.4560 - val_accuracy: 0.7778\n",
      "Epoch 29/100\n",
      "107/107 [==============================] - 0s 3ms/step - loss: 0.3327 - accuracy: 0.8588 - val_loss: 0.4525 - val_accuracy: 0.7963\n",
      "Epoch 30/100\n",
      "107/107 [==============================] - 0s 3ms/step - loss: 0.4685 - accuracy: 0.7920 - val_loss: 0.5902 - val_accuracy: 0.8148\n",
      "Epoch 31/100\n",
      "107/107 [==============================] - 0s 3ms/step - loss: 0.3887 - accuracy: 0.8228 - val_loss: 0.4482 - val_accuracy: 0.7778\n",
      "Epoch 32/100\n",
      "107/107 [==============================] - 0s 3ms/step - loss: 0.4396 - accuracy: 0.8186 - val_loss: 0.6196 - val_accuracy: 0.7778\n",
      "Epoch 33/100\n",
      "107/107 [==============================] - 0s 3ms/step - loss: 0.5023 - accuracy: 0.7836 - val_loss: 0.5445 - val_accuracy: 0.7778\n",
      "Epoch 34/100\n",
      "107/107 [==============================] - 0s 3ms/step - loss: 0.4200 - accuracy: 0.7996 - val_loss: 0.5632 - val_accuracy: 0.7963\n",
      "Epoch 35/100\n",
      "107/107 [==============================] - 0s 3ms/step - loss: 0.4592 - accuracy: 0.7699 - val_loss: 0.5063 - val_accuracy: 0.7963\n",
      "Epoch 36/100\n",
      "107/107 [==============================] - 0s 3ms/step - loss: 0.4361 - accuracy: 0.8327 - val_loss: 0.4997 - val_accuracy: 0.7778\n",
      "Epoch 37/100\n",
      "107/107 [==============================] - 0s 3ms/step - loss: 0.3897 - accuracy: 0.8585 - val_loss: 0.4815 - val_accuracy: 0.7778\n",
      "Epoch 38/100\n",
      "107/107 [==============================] - 0s 3ms/step - loss: 0.4594 - accuracy: 0.8126 - val_loss: 0.5339 - val_accuracy: 0.8148\n",
      "Epoch 39/100\n",
      "107/107 [==============================] - 0s 3ms/step - loss: 0.3374 - accuracy: 0.8798 - val_loss: 0.7349 - val_accuracy: 0.7222\n",
      "Epoch 40/100\n",
      "107/107 [==============================] - 0s 3ms/step - loss: 0.5045 - accuracy: 0.7772 - val_loss: 0.4799 - val_accuracy: 0.8148\n",
      "Epoch 41/100\n",
      "107/107 [==============================] - 0s 3ms/step - loss: 0.3307 - accuracy: 0.8786 - val_loss: 0.4386 - val_accuracy: 0.7778\n",
      "Epoch 42/100\n",
      "107/107 [==============================] - 0s 4ms/step - loss: 0.4176 - accuracy: 0.8519 - val_loss: 0.4796 - val_accuracy: 0.8148\n",
      "Epoch 43/100\n",
      "107/107 [==============================] - 0s 3ms/step - loss: 0.4484 - accuracy: 0.8196 - val_loss: 0.4632 - val_accuracy: 0.7778\n",
      "Epoch 44/100\n",
      "107/107 [==============================] - 0s 3ms/step - loss: 0.3966 - accuracy: 0.8668 - val_loss: 0.5551 - val_accuracy: 0.7963\n",
      "Epoch 45/100\n",
      "107/107 [==============================] - 0s 4ms/step - loss: 0.3236 - accuracy: 0.8481 - val_loss: 0.4330 - val_accuracy: 0.7778\n",
      "Epoch 46/100\n",
      "107/107 [==============================] - 0s 4ms/step - loss: 0.4026 - accuracy: 0.8464 - val_loss: 0.6637 - val_accuracy: 0.7963\n",
      "Epoch 47/100\n",
      "107/107 [==============================] - 0s 4ms/step - loss: 0.4242 - accuracy: 0.8277 - val_loss: 0.5053 - val_accuracy: 0.7963\n",
      "Epoch 48/100\n",
      "107/107 [==============================] - 0s 3ms/step - loss: 0.3520 - accuracy: 0.8615 - val_loss: 0.7028 - val_accuracy: 0.8148\n",
      "Epoch 49/100\n",
      "107/107 [==============================] - 0s 3ms/step - loss: 0.4850 - accuracy: 0.8388 - val_loss: 0.4719 - val_accuracy: 0.8148\n",
      "Epoch 50/100\n",
      "107/107 [==============================] - 0s 3ms/step - loss: 0.3459 - accuracy: 0.8563 - val_loss: 0.7304 - val_accuracy: 0.7963\n",
      "Epoch 51/100\n",
      "107/107 [==============================] - 0s 3ms/step - loss: 0.3570 - accuracy: 0.8665 - val_loss: 0.6580 - val_accuracy: 0.7963\n",
      "Epoch 52/100\n",
      "107/107 [==============================] - 0s 3ms/step - loss: 0.3541 - accuracy: 0.8302 - val_loss: 0.5149 - val_accuracy: 0.7963\n",
      "Epoch 53/100\n",
      "107/107 [==============================] - 0s 4ms/step - loss: 0.4145 - accuracy: 0.8483 - val_loss: 0.8427 - val_accuracy: 0.7593\n",
      "Epoch 54/100\n",
      "107/107 [==============================] - 0s 4ms/step - loss: 0.4663 - accuracy: 0.8385 - val_loss: 0.6145 - val_accuracy: 0.7963\n",
      "Epoch 55/100\n",
      "107/107 [==============================] - 0s 3ms/step - loss: 0.3555 - accuracy: 0.8748 - val_loss: 0.6190 - val_accuracy: 0.8148\n",
      "Epoch 56/100\n",
      "107/107 [==============================] - 0s 3ms/step - loss: 0.3654 - accuracy: 0.8565 - val_loss: 0.8033 - val_accuracy: 0.7407\n",
      "Epoch 57/100\n",
      "107/107 [==============================] - 0s 3ms/step - loss: 0.3875 - accuracy: 0.8195 - val_loss: 0.6192 - val_accuracy: 0.8148\n",
      "Epoch 58/100\n",
      "107/107 [==============================] - 0s 3ms/step - loss: 0.4060 - accuracy: 0.8382 - val_loss: 0.6168 - val_accuracy: 0.7963\n",
      "Epoch 59/100\n",
      "107/107 [==============================] - 0s 3ms/step - loss: 0.3598 - accuracy: 0.8694 - val_loss: 0.4434 - val_accuracy: 0.7963\n",
      "Epoch 60/100\n",
      "107/107 [==============================] - 0s 3ms/step - loss: 0.4600 - accuracy: 0.7985 - val_loss: 0.5885 - val_accuracy: 0.8148\n",
      "Epoch 61/100\n",
      "107/107 [==============================] - 0s 3ms/step - loss: 0.3569 - accuracy: 0.8101 - val_loss: 0.4935 - val_accuracy: 0.7963\n",
      "Epoch 62/100\n",
      "107/107 [==============================] - 0s 3ms/step - loss: 0.4072 - accuracy: 0.8227 - val_loss: 0.6476 - val_accuracy: 0.8148\n",
      "Epoch 63/100\n",
      "107/107 [==============================] - 0s 3ms/step - loss: 0.4375 - accuracy: 0.8364 - val_loss: 0.4606 - val_accuracy: 0.7778\n",
      "Epoch 64/100\n",
      "107/107 [==============================] - 0s 3ms/step - loss: 0.4286 - accuracy: 0.8035 - val_loss: 0.5372 - val_accuracy: 0.7963\n",
      "Epoch 65/100\n",
      "107/107 [==============================] - 0s 3ms/step - loss: 0.3711 - accuracy: 0.8478 - val_loss: 0.5224 - val_accuracy: 0.7963\n",
      "Epoch 66/100\n",
      "107/107 [==============================] - 0s 3ms/step - loss: 0.4052 - accuracy: 0.8356 - val_loss: 0.6469 - val_accuracy: 0.8148\n",
      "Epoch 67/100\n",
      "107/107 [==============================] - 0s 3ms/step - loss: 0.3704 - accuracy: 0.8642 - val_loss: 0.5869 - val_accuracy: 0.8148\n",
      "Epoch 68/100\n",
      "107/107 [==============================] - 0s 4ms/step - loss: 0.4494 - accuracy: 0.8176 - val_loss: 0.5052 - val_accuracy: 0.8148\n",
      "Epoch 69/100\n",
      "107/107 [==============================] - 0s 4ms/step - loss: 0.3829 - accuracy: 0.8510 - val_loss: 0.5166 - val_accuracy: 0.7963\n",
      "Epoch 70/100\n",
      "107/107 [==============================] - 0s 3ms/step - loss: 0.3149 - accuracy: 0.8861 - val_loss: 0.4371 - val_accuracy: 0.7778\n",
      "Epoch 71/100\n",
      "107/107 [==============================] - 0s 3ms/step - loss: 0.4074 - accuracy: 0.8202 - val_loss: 0.5626 - val_accuracy: 0.8148\n",
      "Epoch 72/100\n",
      "107/107 [==============================] - 0s 3ms/step - loss: 0.3316 - accuracy: 0.8765 - val_loss: 0.4482 - val_accuracy: 0.7778\n",
      "Epoch 73/100\n",
      "107/107 [==============================] - 0s 3ms/step - loss: 0.4461 - accuracy: 0.7849 - val_loss: 0.4723 - val_accuracy: 0.7778\n",
      "Epoch 74/100\n",
      "107/107 [==============================] - 0s 3ms/step - loss: 0.4334 - accuracy: 0.8492 - val_loss: 0.5369 - val_accuracy: 0.7963\n",
      "Epoch 75/100\n",
      "107/107 [==============================] - 0s 4ms/step - loss: 0.4407 - accuracy: 0.7887 - val_loss: 0.6580 - val_accuracy: 0.8148\n",
      "Epoch 76/100\n",
      "107/107 [==============================] - 0s 4ms/step - loss: 0.3761 - accuracy: 0.8780 - val_loss: 0.8629 - val_accuracy: 0.7963\n",
      "Epoch 77/100\n",
      "107/107 [==============================] - 0s 3ms/step - loss: 0.4293 - accuracy: 0.8505 - val_loss: 0.6660 - val_accuracy: 0.8148\n",
      "Epoch 78/100\n",
      "107/107 [==============================] - 0s 3ms/step - loss: 0.3779 - accuracy: 0.8148 - val_loss: 0.7235 - val_accuracy: 0.8148\n",
      "Epoch 79/100\n",
      "107/107 [==============================] - 0s 4ms/step - loss: 0.4236 - accuracy: 0.8286 - val_loss: 0.4859 - val_accuracy: 0.7778\n",
      "Epoch 80/100\n",
      "107/107 [==============================] - 0s 4ms/step - loss: 0.4339 - accuracy: 0.8151 - val_loss: 0.5178 - val_accuracy: 0.7963\n",
      "Epoch 81/100\n",
      "107/107 [==============================] - 0s 4ms/step - loss: 0.3752 - accuracy: 0.8570 - val_loss: 0.5636 - val_accuracy: 0.7963\n",
      "Epoch 82/100\n",
      "107/107 [==============================] - 0s 4ms/step - loss: 0.3431 - accuracy: 0.8750 - val_loss: 0.4955 - val_accuracy: 0.7778\n",
      "Epoch 83/100\n",
      "107/107 [==============================] - 0s 4ms/step - loss: 0.3685 - accuracy: 0.8675 - val_loss: 1.2319 - val_accuracy: 0.6111\n",
      "Epoch 84/100\n",
      "107/107 [==============================] - 0s 3ms/step - loss: 0.4933 - accuracy: 0.8596 - val_loss: 0.6357 - val_accuracy: 0.7963\n",
      "Epoch 85/100\n",
      "107/107 [==============================] - 0s 4ms/step - loss: 0.3613 - accuracy: 0.8583 - val_loss: 0.7421 - val_accuracy: 0.7963\n",
      "Epoch 86/100\n",
      "107/107 [==============================] - 0s 4ms/step - loss: 0.3853 - accuracy: 0.8218 - val_loss: 0.5316 - val_accuracy: 0.8148\n",
      "Epoch 87/100\n",
      "107/107 [==============================] - 0s 4ms/step - loss: 0.3524 - accuracy: 0.8751 - val_loss: 0.5067 - val_accuracy: 0.7963\n",
      "Epoch 88/100\n",
      "107/107 [==============================] - 0s 4ms/step - loss: 0.3609 - accuracy: 0.8767 - val_loss: 0.5623 - val_accuracy: 0.8148\n",
      "Epoch 89/100\n",
      "107/107 [==============================] - 0s 4ms/step - loss: 0.3431 - accuracy: 0.8697 - val_loss: 0.5575 - val_accuracy: 0.8148\n",
      "Epoch 90/100\n",
      "107/107 [==============================] - 0s 3ms/step - loss: 0.3826 - accuracy: 0.8108 - val_loss: 0.6024 - val_accuracy: 0.8148\n",
      "Epoch 91/100\n",
      "107/107 [==============================] - 0s 3ms/step - loss: 0.3261 - accuracy: 0.8693 - val_loss: 0.5917 - val_accuracy: 0.8148\n",
      "Epoch 92/100\n",
      "107/107 [==============================] - 0s 4ms/step - loss: 0.3862 - accuracy: 0.8464 - val_loss: 0.5656 - val_accuracy: 0.8148\n",
      "Epoch 93/100\n",
      "107/107 [==============================] - 0s 4ms/step - loss: 0.3589 - accuracy: 0.8564 - val_loss: 0.6929 - val_accuracy: 0.7963\n",
      "Epoch 94/100\n",
      "107/107 [==============================] - 0s 3ms/step - loss: 0.3269 - accuracy: 0.8753 - val_loss: 0.6008 - val_accuracy: 0.8148\n",
      "Epoch 95/100\n",
      "107/107 [==============================] - 0s 3ms/step - loss: 0.3647 - accuracy: 0.8606 - val_loss: 0.8711 - val_accuracy: 0.7778\n",
      "Epoch 96/100\n",
      "107/107 [==============================] - 0s 4ms/step - loss: 0.3843 - accuracy: 0.8421 - val_loss: 0.6114 - val_accuracy: 0.8148\n",
      "Epoch 97/100\n",
      "107/107 [==============================] - 0s 3ms/step - loss: 0.3486 - accuracy: 0.8526 - val_loss: 0.4666 - val_accuracy: 0.7778\n",
      "Epoch 98/100\n",
      "107/107 [==============================] - 0s 3ms/step - loss: 0.3177 - accuracy: 0.8644 - val_loss: 0.4402 - val_accuracy: 0.7778\n",
      "Epoch 99/100\n",
      "107/107 [==============================] - 0s 4ms/step - loss: 0.3738 - accuracy: 0.8561 - val_loss: 0.6384 - val_accuracy: 0.8148\n",
      "Epoch 100/100\n",
      "107/107 [==============================] - 0s 4ms/step - loss: 0.3291 - accuracy: 0.8689 - val_loss: 0.6236 - val_accuracy: 0.8148\n"
     ]
    }
   ],
   "source": [
    "# Train the ANN\n",
    "history = model.fit(X_train, y_train, batch_size = 2, epochs = 100, validation_split=0.2)"
   ]
  },
  {
   "cell_type": "code",
   "execution_count": 38,
   "metadata": {},
   "outputs": [
    {
     "data": {
      "image/png": "[encoded data removed]",
      "text/plain": [
       "<Figure size 432x288 with 1 Axes>"
      ]
     },
     "metadata": {
      "needs_background": "light"
     },
     "output_type": "display_data"
    },
    {
     "data": {
      "image/png": "[encoded data removed]",
      "text/plain": [
       "<Figure size 432x288 with 1 Axes>"
      ]
     },
     "metadata": {
      "needs_background": "light"
     },
     "output_type": "display_data"
    }
   ],
   "source": [
    "history_df = pd.DataFrame(history.history)\n",
    "\n",
    "plt.plot(history_df.loc[:, ['loss']], \"#CD5C5C\", label='Training loss')\n",
    "plt.plot(history_df.loc[:, ['val_loss']],\"#FF0000\", label='Validation loss')\n",
    "plt.title('Training and Validation loss')\n",
    "plt.xlabel('Epochs')\n",
    "plt.ylabel('Loss')\n",
    "plt.legend(loc=\"best\")\n",
    "\n",
    "plt.show()\n",
    "\n",
    "history_df = pd.DataFrame(history.history)\n",
    "\n",
    "plt.plot(history_df.loc[:, ['accuracy']], \"#CD5C5C\", label='Training accuracy')\n",
    "plt.plot(history_df.loc[:, ['val_accuracy']],\"#FF0000\", label='Validation accuracy')\n",
    "\n",
    "plt.title('Training and Validation accuracy')\n",
    "plt.xlabel('Epochs')\n",
    "plt.ylabel('Accuracy')\n",
    "plt.legend()\n",
    "plt.show()"
   ]
  },
  {
   "cell_type": "code",
   "execution_count": 39,
   "metadata": {},
   "outputs": [],
   "source": [
    "# Predicting the test set results\n",
    "y_pred = model.predict(X_test)\n",
    "y_pred = (y_pred > 0.4)"
   ]
  },
  {
   "cell_type": "code",
   "execution_count": 40,
   "metadata": {},
   "outputs": [],
   "source": [
    "dnn_3_acc = accuracy_score(y_pred, y_test)\n",
    "dnn_3_prec = precision_score(y_pred, y_test,average='weighted')\n",
    "dnn_3_rec = recall_score(y_pred, y_test,average='weighted')\n",
    "dnn_3_f1 = f1_score(y_pred, y_test,average='weighted')\n",
    "dnn_3_spec = specificity_score(y_pred, y_test,average='weighted')\n",
    "dnn_3_sens = sensitivity_score(y_pred, y_test,average='weighted')"
   ]
  },
  {
   "cell_type": "code",
   "execution_count": 75,
   "metadata": {},
   "outputs": [],
   "source": [
    "storeResults1('DNN - 3 Layers',dnn_3_acc,dnn_3_prec,dnn_3_rec,dnn_3_f1,dnn_3_spec,dnn_3_sens)"
   ]
  },
  {
   "cell_type": "markdown",
   "metadata": {},
   "source": [
    "# 4 Layers"
   ]
  },
  {
   "cell_type": "code",
   "execution_count": 41,
   "metadata": {},
   "outputs": [],
   "source": [
    "# Initialising the NN\n",
    "model = Sequential()\n",
    "\n",
    "# layers\n",
    "model.add(Dense(units = 128, kernel_initializer = 'uniform', activation = 'relu', input_dim = 13))\n",
    "model.add(Dense(units = 64, kernel_initializer = 'uniform', activation = 'relu'))\n",
    "model.add(Dropout(0.25))\n",
    "model.add(Dense(units = 64, kernel_initializer = 'uniform', activation = 'relu'))\n",
    "model.add(Dropout(0.5))\n",
    "model.add(Dense(units = 32, kernel_initializer = 'uniform', activation = 'relu'))\n",
    "model.add(Dropout(0.5))\n",
    "model.add(Dense(units = 1, kernel_initializer = 'uniform', activation = 'sigmoid'))\n",
    "\n",
    "# Compiling the ANN\n",
    "model.compile(optimizer = 'adam', loss = 'binary_crossentropy', metrics = ['accuracy'])"
   ]
  },
  {
   "cell_type": "code",
   "execution_count": 42,
   "metadata": {},
   "outputs": [
    {
     "name": "stdout",
     "output_type": "stream",
     "text": [
      "Epoch 1/100\n",
      "107/107 [==============================] - 6s 15ms/step - loss: 0.6948 - accuracy: 0.4208 - val_loss: 0.6951 - val_accuracy: 0.3333\n",
      "Epoch 2/100\n",
      "107/107 [==============================] - 0s 4ms/step - loss: 0.6946 - accuracy: 0.4030 - val_loss: 0.6922 - val_accuracy: 0.6667\n",
      "Epoch 3/100\n",
      "107/107 [==============================] - 0s 4ms/step - loss: 0.6938 - accuracy: 0.4114 - val_loss: 0.6927 - val_accuracy: 0.6667\n",
      "Epoch 4/100\n",
      "107/107 [==============================] - 0s 4ms/step - loss: 0.6923 - accuracy: 0.5369 - val_loss: 0.6932 - val_accuracy: 0.3333\n",
      "Epoch 5/100\n",
      "107/107 [==============================] - 0s 4ms/step - loss: 0.6925 - accuracy: 0.5858 - val_loss: 0.7005 - val_accuracy: 0.3333\n",
      "Epoch 6/100\n",
      "107/107 [==============================] - 0s 4ms/step - loss: 0.6822 - accuracy: 0.5669 - val_loss: 0.7305 - val_accuracy: 0.4444\n",
      "Epoch 7/100\n",
      "107/107 [==============================] - 0s 4ms/step - loss: 0.6589 - accuracy: 0.6682 - val_loss: 0.6663 - val_accuracy: 0.7222\n",
      "Epoch 8/100\n",
      "107/107 [==============================] - 0s 4ms/step - loss: 0.6371 - accuracy: 0.6655 - val_loss: 0.5625 - val_accuracy: 0.7407\n",
      "Epoch 9/100\n",
      "107/107 [==============================] - 0s 4ms/step - loss: 0.6234 - accuracy: 0.6812 - val_loss: 0.7099 - val_accuracy: 0.6296\n",
      "Epoch 10/100\n",
      "107/107 [==============================] - 0s 4ms/step - loss: 0.6700 - accuracy: 0.7416 - val_loss: 0.5318 - val_accuracy: 0.7407\n",
      "Epoch 11/100\n",
      "107/107 [==============================] - 0s 4ms/step - loss: 0.5329 - accuracy: 0.7598 - val_loss: 0.5306 - val_accuracy: 0.7037\n",
      "Epoch 12/100\n",
      "107/107 [==============================] - 0s 4ms/step - loss: 0.5622 - accuracy: 0.7560 - val_loss: 0.5892 - val_accuracy: 0.7407\n",
      "Epoch 13/100\n",
      "107/107 [==============================] - 0s 3ms/step - loss: 0.4953 - accuracy: 0.7787 - val_loss: 0.5020 - val_accuracy: 0.7778\n",
      "Epoch 14/100\n",
      "107/107 [==============================] - 0s 3ms/step - loss: 0.4778 - accuracy: 0.7761 - val_loss: 0.5370 - val_accuracy: 0.7407\n",
      "Epoch 15/100\n",
      "107/107 [==============================] - 0s 4ms/step - loss: 0.4895 - accuracy: 0.7951 - val_loss: 0.7164 - val_accuracy: 0.6852\n",
      "Epoch 16/100\n",
      "107/107 [==============================] - 0s 4ms/step - loss: 0.4590 - accuracy: 0.8210 - val_loss: 0.7212 - val_accuracy: 0.7037\n",
      "Epoch 17/100\n",
      "107/107 [==============================] - 0s 4ms/step - loss: 0.4770 - accuracy: 0.8183 - val_loss: 0.5943 - val_accuracy: 0.7037\n",
      "Epoch 18/100\n",
      "107/107 [==============================] - 0s 4ms/step - loss: 0.4684 - accuracy: 0.8676 - val_loss: 0.5105 - val_accuracy: 0.7593\n",
      "Epoch 19/100\n",
      "107/107 [==============================] - 0s 4ms/step - loss: 0.4893 - accuracy: 0.7942 - val_loss: 0.4660 - val_accuracy: 0.7593\n",
      "Epoch 20/100\n",
      "107/107 [==============================] - 0s 3ms/step - loss: 0.4894 - accuracy: 0.7756 - val_loss: 0.4620 - val_accuracy: 0.7593\n",
      "Epoch 21/100\n",
      "107/107 [==============================] - 0s 4ms/step - loss: 0.4026 - accuracy: 0.8296 - val_loss: 0.4725 - val_accuracy: 0.7593\n",
      "Epoch 22/100\n",
      "107/107 [==============================] - 0s 4ms/step - loss: 0.4131 - accuracy: 0.8299 - val_loss: 0.6577 - val_accuracy: 0.7222\n",
      "Epoch 23/100\n",
      "107/107 [==============================] - 0s 4ms/step - loss: 0.4242 - accuracy: 0.8147 - val_loss: 0.4542 - val_accuracy: 0.7593\n",
      "Epoch 24/100\n",
      "107/107 [==============================] - 0s 4ms/step - loss: 0.4004 - accuracy: 0.8074 - val_loss: 0.5100 - val_accuracy: 0.8148\n",
      "Epoch 25/100\n",
      "107/107 [==============================] - 0s 4ms/step - loss: 0.4411 - accuracy: 0.7746 - val_loss: 0.5834 - val_accuracy: 0.7963\n",
      "Epoch 26/100\n",
      "107/107 [==============================] - 0s 3ms/step - loss: 0.3777 - accuracy: 0.8150 - val_loss: 0.5864 - val_accuracy: 0.7778\n",
      "Epoch 27/100\n",
      "107/107 [==============================] - 0s 3ms/step - loss: 0.4682 - accuracy: 0.7867 - val_loss: 0.5870 - val_accuracy: 0.7963\n",
      "Epoch 28/100\n",
      "107/107 [==============================] - 0s 4ms/step - loss: 0.4133 - accuracy: 0.8343 - val_loss: 0.4311 - val_accuracy: 0.7778\n",
      "Epoch 29/100\n",
      "107/107 [==============================] - 0s 4ms/step - loss: 0.4487 - accuracy: 0.8221 - val_loss: 0.4443 - val_accuracy: 0.8148\n",
      "Epoch 30/100\n",
      "107/107 [==============================] - 0s 4ms/step - loss: 0.4416 - accuracy: 0.8386 - val_loss: 0.5958 - val_accuracy: 0.8148\n",
      "Epoch 31/100\n",
      "107/107 [==============================] - 0s 4ms/step - loss: 0.4391 - accuracy: 0.8315 - val_loss: 0.7522 - val_accuracy: 0.7037\n",
      "Epoch 32/100\n",
      "107/107 [==============================] - 0s 4ms/step - loss: 0.3973 - accuracy: 0.8435 - val_loss: 0.6000 - val_accuracy: 0.7963\n",
      "Epoch 33/100\n",
      "107/107 [==============================] - 0s 4ms/step - loss: 0.3677 - accuracy: 0.8302 - val_loss: 0.5598 - val_accuracy: 0.8148\n",
      "Epoch 34/100\n",
      "107/107 [==============================] - 0s 4ms/step - loss: 0.4078 - accuracy: 0.8112 - val_loss: 0.5098 - val_accuracy: 0.7963\n",
      "Epoch 35/100\n",
      "107/107 [==============================] - 0s 5ms/step - loss: 0.4429 - accuracy: 0.8321 - val_loss: 0.5373 - val_accuracy: 0.8148\n",
      "Epoch 36/100\n",
      "107/107 [==============================] - 0s 4ms/step - loss: 0.3714 - accuracy: 0.8370 - val_loss: 0.6258 - val_accuracy: 0.7963\n",
      "Epoch 37/100\n",
      "107/107 [==============================] - 0s 4ms/step - loss: 0.3636 - accuracy: 0.8495 - val_loss: 0.6946 - val_accuracy: 0.7963\n",
      "Epoch 38/100\n",
      "107/107 [==============================] - 0s 4ms/step - loss: 0.4348 - accuracy: 0.7869 - val_loss: 0.5652 - val_accuracy: 0.8148\n",
      "Epoch 39/100\n",
      "107/107 [==============================] - 0s 4ms/step - loss: 0.3911 - accuracy: 0.8280 - val_loss: 0.6514 - val_accuracy: 0.7963\n",
      "Epoch 40/100\n",
      "107/107 [==============================] - 0s 3ms/step - loss: 0.5745 - accuracy: 0.8098 - val_loss: 0.5126 - val_accuracy: 0.7963\n",
      "Epoch 41/100\n",
      "107/107 [==============================] - 0s 4ms/step - loss: 0.3747 - accuracy: 0.8468 - val_loss: 0.4371 - val_accuracy: 0.7778\n",
      "Epoch 42/100\n",
      "107/107 [==============================] - 0s 4ms/step - loss: 0.3671 - accuracy: 0.8394 - val_loss: 0.5543 - val_accuracy: 0.8148\n",
      "Epoch 43/100\n",
      "107/107 [==============================] - 0s 4ms/step - loss: 0.4105 - accuracy: 0.8086 - val_loss: 0.5562 - val_accuracy: 0.8148\n",
      "Epoch 44/100\n",
      "107/107 [==============================] - 0s 4ms/step - loss: 0.3630 - accuracy: 0.8380 - val_loss: 0.4503 - val_accuracy: 0.7963\n",
      "Epoch 45/100\n",
      "107/107 [==============================] - 0s 4ms/step - loss: 0.3621 - accuracy: 0.8415 - val_loss: 0.4917 - val_accuracy: 0.8519\n",
      "Epoch 46/100\n",
      "107/107 [==============================] - 0s 3ms/step - loss: 0.4713 - accuracy: 0.8231 - val_loss: 0.4978 - val_accuracy: 0.7963\n",
      "Epoch 47/100\n",
      "107/107 [==============================] - 0s 3ms/step - loss: 0.4516 - accuracy: 0.8170 - val_loss: 0.4455 - val_accuracy: 0.8148\n",
      "Epoch 48/100\n",
      "107/107 [==============================] - 0s 4ms/step - loss: 0.4195 - accuracy: 0.8088 - val_loss: 0.5316 - val_accuracy: 0.7963\n",
      "Epoch 49/100\n",
      "107/107 [==============================] - 0s 3ms/step - loss: 0.4026 - accuracy: 0.8735 - val_loss: 0.4775 - val_accuracy: 0.8148\n",
      "Epoch 50/100\n",
      "107/107 [==============================] - 0s 4ms/step - loss: 0.3857 - accuracy: 0.8689 - val_loss: 0.4963 - val_accuracy: 0.7963\n",
      "Epoch 51/100\n",
      "107/107 [==============================] - 0s 3ms/step - loss: 0.3418 - accuracy: 0.8836 - val_loss: 0.4707 - val_accuracy: 0.7778\n",
      "Epoch 52/100\n",
      "107/107 [==============================] - 0s 3ms/step - loss: 0.4182 - accuracy: 0.8241 - val_loss: 0.5070 - val_accuracy: 0.7963\n",
      "Epoch 53/100\n",
      "107/107 [==============================] - 0s 3ms/step - loss: 0.3809 - accuracy: 0.8536 - val_loss: 0.5244 - val_accuracy: 0.7963\n",
      "Epoch 54/100\n",
      "107/107 [==============================] - 0s 3ms/step - loss: 0.3059 - accuracy: 0.8721 - val_loss: 0.4903 - val_accuracy: 0.8333\n",
      "Epoch 55/100\n",
      "107/107 [==============================] - 0s 3ms/step - loss: 0.4925 - accuracy: 0.7702 - val_loss: 0.6532 - val_accuracy: 0.7963\n",
      "Epoch 56/100\n",
      "107/107 [==============================] - 0s 4ms/step - loss: 0.4039 - accuracy: 0.7877 - val_loss: 0.5269 - val_accuracy: 0.8148\n",
      "Epoch 57/100\n",
      "107/107 [==============================] - 0s 3ms/step - loss: 0.3859 - accuracy: 0.8648 - val_loss: 0.6035 - val_accuracy: 0.7963\n"
     ]
    },
    {
     "name": "stdout",
     "output_type": "stream",
     "text": [
      "Epoch 58/100\n",
      "107/107 [==============================] - 0s 3ms/step - loss: 0.3641 - accuracy: 0.8327 - val_loss: 0.5549 - val_accuracy: 0.8148\n",
      "Epoch 59/100\n",
      "107/107 [==============================] - 0s 3ms/step - loss: 0.3097 - accuracy: 0.8825 - val_loss: 0.5602 - val_accuracy: 0.7963\n",
      "Epoch 60/100\n",
      "107/107 [==============================] - 0s 3ms/step - loss: 0.4259 - accuracy: 0.8107 - val_loss: 0.5886 - val_accuracy: 0.8148\n",
      "Epoch 61/100\n",
      "107/107 [==============================] - 0s 3ms/step - loss: 0.3784 - accuracy: 0.8421 - val_loss: 0.6095 - val_accuracy: 0.7778\n",
      "Epoch 62/100\n",
      "107/107 [==============================] - 0s 3ms/step - loss: 0.4264 - accuracy: 0.8506 - val_loss: 0.8633 - val_accuracy: 0.6111\n",
      "Epoch 63/100\n",
      "107/107 [==============================] - 0s 3ms/step - loss: 0.4772 - accuracy: 0.7846 - val_loss: 0.5545 - val_accuracy: 0.8148\n",
      "Epoch 64/100\n",
      "107/107 [==============================] - 0s 3ms/step - loss: 0.4264 - accuracy: 0.7742 - val_loss: 0.5827 - val_accuracy: 0.8148\n",
      "Epoch 65/100\n",
      "107/107 [==============================] - 0s 3ms/step - loss: 0.4107 - accuracy: 0.8207 - val_loss: 0.6357 - val_accuracy: 0.8148\n",
      "Epoch 66/100\n",
      "107/107 [==============================] - 0s 3ms/step - loss: 0.2904 - accuracy: 0.8791 - val_loss: 0.5101 - val_accuracy: 0.7963\n",
      "Epoch 67/100\n",
      "107/107 [==============================] - 0s 3ms/step - loss: 0.3545 - accuracy: 0.8753 - val_loss: 0.5155 - val_accuracy: 0.7963\n",
      "Epoch 68/100\n",
      "107/107 [==============================] - 0s 3ms/step - loss: 0.4647 - accuracy: 0.7663 - val_loss: 0.4755 - val_accuracy: 0.8148\n",
      "Epoch 69/100\n",
      "107/107 [==============================] - 0s 3ms/step - loss: 0.4075 - accuracy: 0.8284 - val_loss: 0.5120 - val_accuracy: 0.8148\n",
      "Epoch 70/100\n",
      "107/107 [==============================] - 0s 3ms/step - loss: 0.3288 - accuracy: 0.8724 - val_loss: 0.6134 - val_accuracy: 0.7963\n",
      "Epoch 71/100\n",
      "107/107 [==============================] - 0s 3ms/step - loss: 0.3205 - accuracy: 0.8636 - val_loss: 0.4585 - val_accuracy: 0.7778\n",
      "Epoch 72/100\n",
      "107/107 [==============================] - 0s 3ms/step - loss: 0.3481 - accuracy: 0.8767 - val_loss: 0.5592 - val_accuracy: 0.8148\n",
      "Epoch 73/100\n",
      "107/107 [==============================] - 0s 3ms/step - loss: 0.3700 - accuracy: 0.8514 - val_loss: 0.5586 - val_accuracy: 0.8148\n",
      "Epoch 74/100\n",
      "107/107 [==============================] - 0s 3ms/step - loss: 0.3697 - accuracy: 0.8350 - val_loss: 0.7593 - val_accuracy: 0.7593\n",
      "Epoch 75/100\n",
      "107/107 [==============================] - 0s 3ms/step - loss: 0.4208 - accuracy: 0.8103 - val_loss: 0.8269 - val_accuracy: 0.7778\n",
      "Epoch 76/100\n",
      "107/107 [==============================] - 0s 3ms/step - loss: 0.3681 - accuracy: 0.8404 - val_loss: 0.5639 - val_accuracy: 0.7963\n",
      "Epoch 77/100\n",
      "107/107 [==============================] - 0s 3ms/step - loss: 0.3532 - accuracy: 0.8362 - val_loss: 0.5289 - val_accuracy: 0.7963\n",
      "Epoch 78/100\n",
      "107/107 [==============================] - 0s 3ms/step - loss: 0.3606 - accuracy: 0.8209 - val_loss: 0.5978 - val_accuracy: 0.8148\n",
      "Epoch 79/100\n",
      "107/107 [==============================] - 0s 4ms/step - loss: 0.4344 - accuracy: 0.8008 - val_loss: 0.9777 - val_accuracy: 0.6296\n",
      "Epoch 80/100\n",
      "107/107 [==============================] - 0s 4ms/step - loss: 0.3495 - accuracy: 0.8414 - val_loss: 0.5270 - val_accuracy: 0.8148\n",
      "Epoch 81/100\n",
      "107/107 [==============================] - 0s 4ms/step - loss: 0.3336 - accuracy: 0.8623 - val_loss: 0.4533 - val_accuracy: 0.7778\n",
      "Epoch 82/100\n",
      "107/107 [==============================] - 0s 4ms/step - loss: 0.3800 - accuracy: 0.8244 - val_loss: 0.6457 - val_accuracy: 0.8148\n",
      "Epoch 83/100\n",
      "107/107 [==============================] - 0s 4ms/step - loss: 0.3448 - accuracy: 0.8807 - val_loss: 0.5674 - val_accuracy: 0.8148\n",
      "Epoch 84/100\n",
      "107/107 [==============================] - 0s 4ms/step - loss: 0.3972 - accuracy: 0.7954 - val_loss: 0.5800 - val_accuracy: 0.8148\n",
      "Epoch 85/100\n",
      "107/107 [==============================] - 0s 4ms/step - loss: 0.3718 - accuracy: 0.8423 - val_loss: 0.5696 - val_accuracy: 0.8148\n",
      "Epoch 86/100\n",
      "107/107 [==============================] - 0s 4ms/step - loss: 0.3661 - accuracy: 0.8191 - val_loss: 0.4847 - val_accuracy: 0.8148\n",
      "Epoch 87/100\n",
      "107/107 [==============================] - 0s 4ms/step - loss: 0.4082 - accuracy: 0.8232 - val_loss: 0.6105 - val_accuracy: 0.7778\n",
      "Epoch 88/100\n",
      "107/107 [==============================] - 0s 4ms/step - loss: 0.3976 - accuracy: 0.8528 - val_loss: 0.7259 - val_accuracy: 0.8333\n",
      "Epoch 89/100\n",
      "107/107 [==============================] - 0s 4ms/step - loss: 0.3815 - accuracy: 0.8032 - val_loss: 0.6598 - val_accuracy: 0.8148\n",
      "Epoch 90/100\n",
      "107/107 [==============================] - 0s 3ms/step - loss: 0.3315 - accuracy: 0.8688 - val_loss: 0.4899 - val_accuracy: 0.7963\n",
      "Epoch 91/100\n",
      "107/107 [==============================] - 0s 3ms/step - loss: 0.3769 - accuracy: 0.8447 - val_loss: 0.4979 - val_accuracy: 0.7963\n",
      "Epoch 92/100\n",
      "107/107 [==============================] - 0s 4ms/step - loss: 0.3958 - accuracy: 0.8447 - val_loss: 0.6204 - val_accuracy: 0.7778\n",
      "Epoch 93/100\n",
      "107/107 [==============================] - 0s 4ms/step - loss: 0.3568 - accuracy: 0.8719 - val_loss: 0.5179 - val_accuracy: 0.8148\n",
      "Epoch 94/100\n",
      "107/107 [==============================] - 0s 4ms/step - loss: 0.3612 - accuracy: 0.8435 - val_loss: 0.5234 - val_accuracy: 0.8148\n",
      "Epoch 95/100\n",
      "107/107 [==============================] - 0s 4ms/step - loss: 0.4042 - accuracy: 0.8519 - val_loss: 0.6180 - val_accuracy: 0.8333\n",
      "Epoch 96/100\n",
      "107/107 [==============================] - 0s 4ms/step - loss: 0.3487 - accuracy: 0.8853 - val_loss: 0.5868 - val_accuracy: 0.8148\n",
      "Epoch 97/100\n",
      "107/107 [==============================] - 0s 3ms/step - loss: 0.3981 - accuracy: 0.8402 - val_loss: 0.7715 - val_accuracy: 0.8148\n",
      "Epoch 98/100\n",
      "107/107 [==============================] - 0s 3ms/step - loss: 0.4754 - accuracy: 0.8615 - val_loss: 0.5117 - val_accuracy: 0.8148\n",
      "Epoch 99/100\n",
      "107/107 [==============================] - 0s 4ms/step - loss: 0.3477 - accuracy: 0.8585 - val_loss: 0.6794 - val_accuracy: 0.8148\n",
      "Epoch 100/100\n",
      "107/107 [==============================] - 0s 4ms/step - loss: 0.3103 - accuracy: 0.8751 - val_loss: 0.5887 - val_accuracy: 0.8148\n"
     ]
    }
   ],
   "source": [
    "# Train the ANN\n",
    "history = model.fit(X_train, y_train, batch_size = 2, epochs = 100, validation_split=0.2)"
   ]
  },
  {
   "cell_type": "code",
   "execution_count": 43,
   "metadata": {},
   "outputs": [
    {
     "data": {
      "image/png": "[encoded data removed]",
      "text/plain": [
       "<Figure size 432x288 with 1 Axes>"
      ]
     },
     "metadata": {
      "needs_background": "light"
     },
     "output_type": "display_data"
    },
    {
     "data": {
      "image/png": "[encoded data removed]",
      "text/plain": [
       "<Figure size 432x288 with 1 Axes>"
      ]
     },
     "metadata": {
      "needs_background": "light"
     },
     "output_type": "display_data"
    }
   ],
   "source": [
    "history_df = pd.DataFrame(history.history)\n",
    "\n",
    "plt.plot(history_df.loc[:, ['loss']], \"#CD5C5C\", label='Training loss')\n",
    "plt.plot(history_df.loc[:, ['val_loss']],\"#FF0000\", label='Validation loss')\n",
    "plt.title('Training and Validation loss')\n",
    "plt.xlabel('Epochs')\n",
    "plt.ylabel('Loss')\n",
    "plt.legend(loc=\"best\")\n",
    "\n",
    "plt.show()\n",
    "\n",
    "history_df = pd.DataFrame(history.history)\n",
    "\n",
    "plt.plot(history_df.loc[:, ['accuracy']], \"#CD5C5C\", label='Training accuracy')\n",
    "plt.plot(history_df.loc[:, ['val_accuracy']],\"#FF0000\", label='Validation accuracy')\n",
    "\n",
    "plt.title('Training and Validation accuracy')\n",
    "plt.xlabel('Epochs')\n",
    "plt.ylabel('Accuracy')\n",
    "plt.legend()\n",
    "plt.show()"
   ]
  },
  {
   "cell_type": "code",
   "execution_count": 44,
   "metadata": {},
   "outputs": [],
   "source": [
    "# Predicting the test set results\n",
    "y_pred = model.predict(X_test)\n",
    "y_pred = (y_pred > 0.4)\n",
    "\n",
    "dnn_4_acc = accuracy_score(y_pred, y_test)\n",
    "dnn_4_prec = precision_score(y_pred, y_test,average='weighted')\n",
    "dnn_4_rec = recall_score(y_pred, y_test,average='weighted')\n",
    "dnn_4_f1 = f1_score(y_pred, y_test,average='weighted')\n",
    "dnn_4_spec = specificity_score(y_pred, y_test,average='weighted')\n",
    "dnn_4_sens = sensitivity_score(y_pred, y_test,average='weighted')"
   ]
  },
  {
   "cell_type": "code",
   "execution_count": 76,
   "metadata": {},
   "outputs": [],
   "source": [
    "storeResults1('DNN - 4 Layers',dnn_4_acc,dnn_4_prec,dnn_4_rec,dnn_4_f1,dnn_4_spec,dnn_4_sens)"
   ]
  },
  {
   "cell_type": "markdown",
   "metadata": {},
   "source": [
    "# 5 Layers"
   ]
  },
  {
   "cell_type": "code",
   "execution_count": 45,
   "metadata": {},
   "outputs": [],
   "source": [
    "# Initialising the NN\n",
    "model = Sequential()\n",
    "\n",
    "# layers\n",
    "model.add(Dense(units = 128, kernel_initializer = 'uniform', activation = 'relu', input_dim = 13))\n",
    "model.add(Dense(units = 64, kernel_initializer = 'uniform', activation = 'relu'))\n",
    "model.add(Dropout(0.25))\n",
    "model.add(Dense(units = 64, kernel_initializer = 'uniform', activation = 'relu'))\n",
    "model.add(Dropout(0.5))\n",
    "model.add(Dense(units = 32, kernel_initializer = 'uniform', activation = 'relu'))\n",
    "model.add(Dropout(0.5))\n",
    "model.add(Dense(units = 32, kernel_initializer = 'uniform', activation = 'relu'))\n",
    "model.add(Dropout(0.5))\n",
    "model.add(Dense(units = 1, kernel_initializer = 'uniform', activation = 'sigmoid'))\n",
    "\n",
    "# Compiling the ANN\n",
    "model.compile(optimizer = 'adam', loss = 'binary_crossentropy', metrics = ['accuracy'])"
   ]
  },
  {
   "cell_type": "code",
   "execution_count": 46,
   "metadata": {},
   "outputs": [
    {
     "name": "stdout",
     "output_type": "stream",
     "text": [
      "Epoch 1/100\n",
      "107/107 [==============================] - 7s 18ms/step - loss: 0.6936 - accuracy: 0.4832 - val_loss: 0.6966 - val_accuracy: 0.3333\n",
      "Epoch 2/100\n",
      "107/107 [==============================] - 0s 4ms/step - loss: 0.6936 - accuracy: 0.4765 - val_loss: 0.7010 - val_accuracy: 0.3333\n",
      "Epoch 3/100\n",
      "107/107 [==============================] - 0s 4ms/step - loss: 0.6927 - accuracy: 0.4764 - val_loss: 0.6923 - val_accuracy: 0.6296\n",
      "Epoch 4/100\n",
      "107/107 [==============================] - 0s 4ms/step - loss: 0.6898 - accuracy: 0.6162 - val_loss: 0.7421 - val_accuracy: 0.3333\n",
      "Epoch 5/100\n",
      "107/107 [==============================] - 0s 4ms/step - loss: 0.6688 - accuracy: 0.6275 - val_loss: 0.6849 - val_accuracy: 0.6852\n",
      "Epoch 6/100\n",
      "107/107 [==============================] - 0s 4ms/step - loss: 0.6769 - accuracy: 0.6320 - val_loss: 0.6793 - val_accuracy: 0.7037\n",
      "Epoch 7/100\n",
      "107/107 [==============================] - 0s 4ms/step - loss: 0.6584 - accuracy: 0.5488 - val_loss: 0.6713 - val_accuracy: 0.7222\n",
      "Epoch 8/100\n",
      "107/107 [==============================] - 0s 4ms/step - loss: 0.6450 - accuracy: 0.6115 - val_loss: 0.6377 - val_accuracy: 0.7037\n",
      "Epoch 9/100\n",
      "107/107 [==============================] - 0s 4ms/step - loss: 0.5836 - accuracy: 0.6805 - val_loss: 0.6103 - val_accuracy: 0.7407\n",
      "Epoch 10/100\n",
      "107/107 [==============================] - 0s 4ms/step - loss: 0.6529 - accuracy: 0.7047 - val_loss: 0.6580 - val_accuracy: 0.7037\n",
      "Epoch 11/100\n",
      "107/107 [==============================] - 0s 4ms/step - loss: 0.5796 - accuracy: 0.7569 - val_loss: 0.5360 - val_accuracy: 0.7407\n",
      "Epoch 12/100\n",
      "107/107 [==============================] - 0s 4ms/step - loss: 0.5596 - accuracy: 0.7811 - val_loss: 0.5577 - val_accuracy: 0.7222\n",
      "Epoch 13/100\n",
      "107/107 [==============================] - 0s 4ms/step - loss: 0.4858 - accuracy: 0.7561 - val_loss: 0.5289 - val_accuracy: 0.7593\n",
      "Epoch 14/100\n",
      "107/107 [==============================] - 0s 4ms/step - loss: 0.5143 - accuracy: 0.7984 - val_loss: 0.5269 - val_accuracy: 0.7407\n",
      "Epoch 15/100\n",
      "107/107 [==============================] - 0s 4ms/step - loss: 0.5162 - accuracy: 0.7941 - val_loss: 0.5691 - val_accuracy: 0.7037\n",
      "Epoch 16/100\n",
      "107/107 [==============================] - 0s 3ms/step - loss: 0.5197 - accuracy: 0.7574 - val_loss: 0.6341 - val_accuracy: 0.6852\n",
      "Epoch 17/100\n",
      "107/107 [==============================] - 0s 3ms/step - loss: 0.4800 - accuracy: 0.7522 - val_loss: 0.4564 - val_accuracy: 0.7778\n",
      "Epoch 18/100\n",
      "107/107 [==============================] - 0s 4ms/step - loss: 0.4928 - accuracy: 0.7589 - val_loss: 0.5107 - val_accuracy: 0.7593\n",
      "Epoch 19/100\n",
      "107/107 [==============================] - 0s 4ms/step - loss: 0.6077 - accuracy: 0.7448 - val_loss: 0.9622 - val_accuracy: 0.6481\n",
      "Epoch 20/100\n",
      "107/107 [==============================] - 0s 4ms/step - loss: 0.5438 - accuracy: 0.8028 - val_loss: 0.5187 - val_accuracy: 0.7963\n",
      "Epoch 21/100\n",
      "107/107 [==============================] - 0s 4ms/step - loss: 0.4566 - accuracy: 0.8037 - val_loss: 0.4700 - val_accuracy: 0.7593\n",
      "Epoch 22/100\n",
      "107/107 [==============================] - 0s 4ms/step - loss: 0.4382 - accuracy: 0.7869 - val_loss: 0.6777 - val_accuracy: 0.7407\n",
      "Epoch 23/100\n",
      "107/107 [==============================] - 0s 3ms/step - loss: 0.4600 - accuracy: 0.8454 - val_loss: 0.6650 - val_accuracy: 0.7593\n",
      "Epoch 24/100\n",
      "107/107 [==============================] - 0s 4ms/step - loss: 0.4644 - accuracy: 0.7972 - val_loss: 0.4950 - val_accuracy: 0.8148\n",
      "Epoch 25/100\n",
      "107/107 [==============================] - 0s 4ms/step - loss: 0.3778 - accuracy: 0.8383 - val_loss: 0.4345 - val_accuracy: 0.7778\n",
      "Epoch 26/100\n",
      "107/107 [==============================] - 0s 4ms/step - loss: 0.5052 - accuracy: 0.7623 - val_loss: 0.5907 - val_accuracy: 0.7963\n",
      "Epoch 27/100\n",
      "107/107 [==============================] - 0s 4ms/step - loss: 0.4623 - accuracy: 0.8330 - val_loss: 0.7115 - val_accuracy: 0.7407\n",
      "Epoch 28/100\n",
      "107/107 [==============================] - 0s 4ms/step - loss: 0.4213 - accuracy: 0.7919 - val_loss: 0.4319 - val_accuracy: 0.7963\n",
      "Epoch 29/100\n",
      "107/107 [==============================] - 0s 4ms/step - loss: 0.5001 - accuracy: 0.7984 - val_loss: 0.9628 - val_accuracy: 0.6667\n",
      "Epoch 30/100\n",
      "107/107 [==============================] - 0s 3ms/step - loss: 0.4808 - accuracy: 0.8034 - val_loss: 0.5460 - val_accuracy: 0.7963\n",
      "Epoch 31/100\n",
      "107/107 [==============================] - 0s 4ms/step - loss: 0.4273 - accuracy: 0.8689 - val_loss: 0.6135 - val_accuracy: 0.7778\n",
      "Epoch 32/100\n",
      "107/107 [==============================] - 0s 5ms/step - loss: 0.4267 - accuracy: 0.8056 - val_loss: 0.6697 - val_accuracy: 0.7778\n",
      "Epoch 33/100\n",
      "107/107 [==============================] - 0s 4ms/step - loss: 0.4221 - accuracy: 0.8376 - val_loss: 0.5187 - val_accuracy: 0.8148\n",
      "Epoch 34/100\n",
      "107/107 [==============================] - 0s 4ms/step - loss: 0.3850 - accuracy: 0.8485 - val_loss: 0.4989 - val_accuracy: 0.7963\n",
      "Epoch 35/100\n",
      "107/107 [==============================] - 0s 4ms/step - loss: 0.4693 - accuracy: 0.8020 - val_loss: 0.5167 - val_accuracy: 0.7593\n",
      "Epoch 36/100\n",
      "107/107 [==============================] - 0s 3ms/step - loss: 0.4870 - accuracy: 0.8061 - val_loss: 0.7618 - val_accuracy: 0.7778\n",
      "Epoch 37/100\n",
      "107/107 [==============================] - 0s 4ms/step - loss: 0.3683 - accuracy: 0.8188 - val_loss: 0.5354 - val_accuracy: 0.7963\n",
      "Epoch 38/100\n",
      "107/107 [==============================] - 0s 5ms/step - loss: 0.3414 - accuracy: 0.8884 - val_loss: 0.5441 - val_accuracy: 0.7963\n",
      "Epoch 39/100\n",
      "107/107 [==============================] - 0s 4ms/step - loss: 0.4263 - accuracy: 0.8127 - val_loss: 0.5089 - val_accuracy: 0.8148\n",
      "Epoch 40/100\n",
      "107/107 [==============================] - 0s 4ms/step - loss: 0.4037 - accuracy: 0.8419 - val_loss: 0.5056 - val_accuracy: 0.7963\n",
      "Epoch 41/100\n",
      "107/107 [==============================] - 0s 3ms/step - loss: 0.4887 - accuracy: 0.8460 - val_loss: 0.6717 - val_accuracy: 0.7963\n",
      "Epoch 42/100\n",
      "107/107 [==============================] - 0s 3ms/step - loss: 0.4296 - accuracy: 0.8171 - val_loss: 0.4688 - val_accuracy: 0.8148\n",
      "Epoch 43/100\n",
      "107/107 [==============================] - 0s 3ms/step - loss: 0.3558 - accuracy: 0.8442 - val_loss: 0.6201 - val_accuracy: 0.7963\n",
      "Epoch 44/100\n",
      "107/107 [==============================] - 0s 4ms/step - loss: 0.3528 - accuracy: 0.8657 - val_loss: 0.4781 - val_accuracy: 0.7963\n",
      "Epoch 45/100\n",
      "107/107 [==============================] - 0s 4ms/step - loss: 0.4672 - accuracy: 0.8429 - val_loss: 0.5903 - val_accuracy: 0.7963\n",
      "Epoch 46/100\n",
      "107/107 [==============================] - 0s 4ms/step - loss: 0.3276 - accuracy: 0.8688 - val_loss: 0.4998 - val_accuracy: 0.7963\n",
      "Epoch 47/100\n",
      "107/107 [==============================] - 0s 4ms/step - loss: 0.3970 - accuracy: 0.8498 - val_loss: 0.5609 - val_accuracy: 0.8148\n",
      "Epoch 48/100\n",
      "107/107 [==============================] - 0s 4ms/step - loss: 0.3183 - accuracy: 0.8601 - val_loss: 0.6086 - val_accuracy: 0.8148\n",
      "Epoch 49/100\n",
      "107/107 [==============================] - 0s 4ms/step - loss: 0.3687 - accuracy: 0.8216 - val_loss: 0.5554 - val_accuracy: 0.8148\n",
      "Epoch 50/100\n",
      "107/107 [==============================] - 0s 4ms/step - loss: 0.4278 - accuracy: 0.8523 - val_loss: 0.7525 - val_accuracy: 0.7778\n",
      "Epoch 51/100\n",
      "107/107 [==============================] - 0s 4ms/step - loss: 0.4177 - accuracy: 0.7763 - val_loss: 0.5167 - val_accuracy: 0.7963\n",
      "Epoch 52/100\n",
      "107/107 [==============================] - 0s 3ms/step - loss: 0.4232 - accuracy: 0.8540 - val_loss: 0.6365 - val_accuracy: 0.7963\n",
      "Epoch 53/100\n",
      "107/107 [==============================] - 0s 3ms/step - loss: 0.3758 - accuracy: 0.8370 - val_loss: 0.4486 - val_accuracy: 0.7778\n",
      "Epoch 54/100\n",
      "107/107 [==============================] - 0s 3ms/step - loss: 0.3992 - accuracy: 0.8351 - val_loss: 0.5200 - val_accuracy: 0.7963\n",
      "Epoch 55/100\n",
      "107/107 [==============================] - 0s 3ms/step - loss: 0.3984 - accuracy: 0.8132 - val_loss: 0.5067 - val_accuracy: 0.7778\n",
      "Epoch 56/100\n",
      "107/107 [==============================] - 0s 3ms/step - loss: 0.4160 - accuracy: 0.8008 - val_loss: 0.5323 - val_accuracy: 0.7963\n",
      "Epoch 57/100\n",
      "107/107 [==============================] - 0s 4ms/step - loss: 0.3929 - accuracy: 0.8361 - val_loss: 0.4644 - val_accuracy: 0.7778\n"
     ]
    },
    {
     "name": "stdout",
     "output_type": "stream",
     "text": [
      "Epoch 58/100\n",
      "107/107 [==============================] - 0s 4ms/step - loss: 0.4311 - accuracy: 0.8399 - val_loss: 0.5011 - val_accuracy: 0.8148\n",
      "Epoch 59/100\n",
      "107/107 [==============================] - 0s 4ms/step - loss: 0.4606 - accuracy: 0.7975 - val_loss: 0.4755 - val_accuracy: 0.7963\n",
      "Epoch 60/100\n",
      "107/107 [==============================] - 0s 4ms/step - loss: 0.3410 - accuracy: 0.8718 - val_loss: 0.6139 - val_accuracy: 0.8148\n",
      "Epoch 61/100\n",
      "107/107 [==============================] - 0s 3ms/step - loss: 0.3404 - accuracy: 0.8684 - val_loss: 0.5170 - val_accuracy: 0.7963\n",
      "Epoch 62/100\n",
      "107/107 [==============================] - 0s 3ms/step - loss: 0.4227 - accuracy: 0.8340 - val_loss: 0.4862 - val_accuracy: 0.8148\n",
      "Epoch 63/100\n",
      "107/107 [==============================] - 0s 3ms/step - loss: 0.4323 - accuracy: 0.8457 - val_loss: 0.5296 - val_accuracy: 0.7778\n",
      "Epoch 64/100\n",
      "107/107 [==============================] - 0s 3ms/step - loss: 0.5760 - accuracy: 0.7718 - val_loss: 0.5753 - val_accuracy: 0.8148\n",
      "Epoch 65/100\n",
      "107/107 [==============================] - 0s 3ms/step - loss: 0.4546 - accuracy: 0.8449 - val_loss: 0.6070 - val_accuracy: 0.7963\n",
      "Epoch 66/100\n",
      "107/107 [==============================] - 0s 3ms/step - loss: 0.3927 - accuracy: 0.8314 - val_loss: 0.5219 - val_accuracy: 0.7963\n",
      "Epoch 67/100\n",
      "107/107 [==============================] - 0s 3ms/step - loss: 0.3909 - accuracy: 0.8093 - val_loss: 0.5224 - val_accuracy: 0.7963\n",
      "Epoch 68/100\n",
      "107/107 [==============================] - 0s 3ms/step - loss: 0.4210 - accuracy: 0.8109 - val_loss: 0.5284 - val_accuracy: 0.8148\n",
      "Epoch 69/100\n",
      "107/107 [==============================] - 0s 3ms/step - loss: 0.3868 - accuracy: 0.8647 - val_loss: 0.6272 - val_accuracy: 0.8148\n",
      "Epoch 70/100\n",
      "107/107 [==============================] - 0s 3ms/step - loss: 0.3237 - accuracy: 0.8752 - val_loss: 0.6076 - val_accuracy: 0.8148\n",
      "Epoch 71/100\n",
      "107/107 [==============================] - 0s 3ms/step - loss: 0.4311 - accuracy: 0.7893 - val_loss: 0.5265 - val_accuracy: 0.7963\n",
      "Epoch 72/100\n",
      "107/107 [==============================] - 0s 4ms/step - loss: 0.3662 - accuracy: 0.8367 - val_loss: 0.7830 - val_accuracy: 0.7963\n",
      "Epoch 73/100\n",
      "107/107 [==============================] - 0s 4ms/step - loss: 0.5325 - accuracy: 0.8319 - val_loss: 0.8533 - val_accuracy: 0.7407\n",
      "Epoch 74/100\n",
      "107/107 [==============================] - 0s 4ms/step - loss: 0.4484 - accuracy: 0.7850 - val_loss: 0.7011 - val_accuracy: 0.8148\n",
      "Epoch 75/100\n",
      "107/107 [==============================] - ETA: 0s - loss: 0.4743 - accuracy: 0.84 - 0s 4ms/step - loss: 0.4741 - accuracy: 0.8477 - val_loss: 0.5790 - val_accuracy: 0.7963\n",
      "Epoch 76/100\n",
      "107/107 [==============================] - 0s 4ms/step - loss: 0.4265 - accuracy: 0.8624 - val_loss: 0.5900 - val_accuracy: 0.7963\n",
      "Epoch 77/100\n",
      "107/107 [==============================] - 0s 4ms/step - loss: 0.3973 - accuracy: 0.8483 - val_loss: 0.8665 - val_accuracy: 0.7037\n",
      "Epoch 78/100\n",
      "107/107 [==============================] - 0s 4ms/step - loss: 0.3262 - accuracy: 0.8644 - val_loss: 0.4519 - val_accuracy: 0.7593\n",
      "Epoch 79/100\n",
      "107/107 [==============================] - 0s 3ms/step - loss: 0.4596 - accuracy: 0.7751 - val_loss: 0.5179 - val_accuracy: 0.7963\n",
      "Epoch 80/100\n",
      "107/107 [==============================] - 0s 4ms/step - loss: 0.3675 - accuracy: 0.8296 - val_loss: 0.6288 - val_accuracy: 0.7963\n",
      "Epoch 81/100\n",
      "107/107 [==============================] - 0s 4ms/step - loss: 0.4865 - accuracy: 0.7975 - val_loss: 0.5496 - val_accuracy: 0.7963\n",
      "Epoch 82/100\n",
      "107/107 [==============================] - 0s 4ms/step - loss: 0.3589 - accuracy: 0.8524 - val_loss: 0.5392 - val_accuracy: 0.7963\n",
      "Epoch 83/100\n",
      "107/107 [==============================] - 0s 4ms/step - loss: 0.4728 - accuracy: 0.7844 - val_loss: 0.4972 - val_accuracy: 0.7963\n",
      "Epoch 84/100\n",
      "107/107 [==============================] - 0s 4ms/step - loss: 0.3664 - accuracy: 0.8185 - val_loss: 0.4560 - val_accuracy: 0.8148\n",
      "Epoch 85/100\n",
      "107/107 [==============================] - 0s 4ms/step - loss: 0.4770 - accuracy: 0.8084 - val_loss: 0.8304 - val_accuracy: 0.8148\n",
      "Epoch 86/100\n",
      "107/107 [==============================] - 0s 4ms/step - loss: 0.4053 - accuracy: 0.8043 - val_loss: 0.4789 - val_accuracy: 0.7963\n",
      "Epoch 87/100\n",
      "107/107 [==============================] - 0s 5ms/step - loss: 0.3717 - accuracy: 0.8368 - val_loss: 0.6764 - val_accuracy: 0.7963\n",
      "Epoch 88/100\n",
      "107/107 [==============================] - 0s 4ms/step - loss: 0.4409 - accuracy: 0.8109 - val_loss: 0.5677 - val_accuracy: 0.8148\n",
      "Epoch 89/100\n",
      "107/107 [==============================] - 0s 4ms/step - loss: 0.3847 - accuracy: 0.8313 - val_loss: 0.8947 - val_accuracy: 0.7037\n",
      "Epoch 90/100\n",
      "107/107 [==============================] - 0s 4ms/step - loss: 0.3952 - accuracy: 0.8395 - val_loss: 0.6891 - val_accuracy: 0.7963\n",
      "Epoch 91/100\n",
      "107/107 [==============================] - 0s 3ms/step - loss: 0.4345 - accuracy: 0.8380 - val_loss: 0.6194 - val_accuracy: 0.7963\n",
      "Epoch 92/100\n",
      "107/107 [==============================] - 0s 3ms/step - loss: 0.3969 - accuracy: 0.8290 - val_loss: 0.8186 - val_accuracy: 0.7593\n",
      "Epoch 93/100\n",
      "107/107 [==============================] - 0s 4ms/step - loss: 0.4072 - accuracy: 0.7767 - val_loss: 0.4900 - val_accuracy: 0.7963\n",
      "Epoch 94/100\n",
      "107/107 [==============================] - 0s 4ms/step - loss: 0.3778 - accuracy: 0.8633 - val_loss: 0.5006 - val_accuracy: 0.7778\n",
      "Epoch 95/100\n",
      "107/107 [==============================] - 0s 4ms/step - loss: 0.3666 - accuracy: 0.8266 - val_loss: 0.5033 - val_accuracy: 0.7963\n",
      "Epoch 96/100\n",
      "107/107 [==============================] - 0s 4ms/step - loss: 0.3895 - accuracy: 0.8519 - val_loss: 0.4416 - val_accuracy: 0.7963\n",
      "Epoch 97/100\n",
      "107/107 [==============================] - 0s 4ms/step - loss: 0.4479 - accuracy: 0.7926 - val_loss: 0.6824 - val_accuracy: 0.8148\n",
      "Epoch 98/100\n",
      "107/107 [==============================] - 0s 3ms/step - loss: 0.3577 - accuracy: 0.8483 - val_loss: 0.5344 - val_accuracy: 0.8148\n",
      "Epoch 99/100\n",
      "107/107 [==============================] - 0s 4ms/step - loss: 0.3426 - accuracy: 0.8353 - val_loss: 0.6679 - val_accuracy: 0.7963\n",
      "Epoch 100/100\n",
      "107/107 [==============================] - 0s 4ms/step - loss: 0.3171 - accuracy: 0.8814 - val_loss: 0.4517 - val_accuracy: 0.7593\n"
     ]
    }
   ],
   "source": [
    "# Train the ANN\n",
    "history = model.fit(X_train, y_train, batch_size = 2, epochs = 100, validation_split=0.2)"
   ]
  },
  {
   "cell_type": "code",
   "execution_count": 47,
   "metadata": {},
   "outputs": [
    {
     "data": {
      "image/png": "[encoded data removed]",
      "text/plain": [
       "<Figure size 432x288 with 1 Axes>"
      ]
     },
     "metadata": {
      "needs_background": "light"
     },
     "output_type": "display_data"
    },
    {
     "data": {
      "image/png": "[encoded data removed]",
      "text/plain": [
       "<Figure size 432x288 with 1 Axes>"
      ]
     },
     "metadata": {
      "needs_background": "light"
     },
     "output_type": "display_data"
    }
   ],
   "source": [
    "history_df = pd.DataFrame(history.history)\n",
    "\n",
    "plt.plot(history_df.loc[:, ['loss']], \"#CD5C5C\", label='Training loss')\n",
    "plt.plot(history_df.loc[:, ['val_loss']],\"#FF0000\", label='Validation loss')\n",
    "plt.title('Training and Validation loss')\n",
    "plt.xlabel('Epochs')\n",
    "plt.ylabel('Loss')\n",
    "plt.legend(loc=\"best\")\n",
    "\n",
    "plt.show()\n",
    "\n",
    "history_df = pd.DataFrame(history.history)\n",
    "\n",
    "plt.plot(history_df.loc[:, ['accuracy']], \"#CD5C5C\", label='Training accuracy')\n",
    "plt.plot(history_df.loc[:, ['val_accuracy']],\"#FF0000\", label='Validation accuracy')\n",
    "\n",
    "plt.title('Training and Validation accuracy')\n",
    "plt.xlabel('Epochs')\n",
    "plt.ylabel('Accuracy')\n",
    "plt.legend()\n",
    "plt.show()"
   ]
  },
  {
   "cell_type": "code",
   "execution_count": 48,
   "metadata": {},
   "outputs": [],
   "source": [
    "# Predicting the test set results\n",
    "y_pred = model.predict(X_test)\n",
    "y_pred = (y_pred > 0.4)\n",
    "\n",
    "dnn_5_acc = accuracy_score(y_pred, y_test)\n",
    "dnn_5_prec = precision_score(y_pred, y_test,average='weighted')\n",
    "dnn_5_rec = recall_score(y_pred, y_test,average='weighted')\n",
    "dnn_5_f1 = f1_score(y_pred, y_test,average='weighted')\n",
    "dnn_5_spec = specificity_score(y_pred, y_test,average='weighted')\n",
    "dnn_5_sens = sensitivity_score(y_pred, y_test,average='weighted')"
   ]
  },
  {
   "cell_type": "code",
   "execution_count": 77,
   "metadata": {},
   "outputs": [],
   "source": [
    "storeResults1('DNN - 5 Layers',dnn_5_acc,dnn_5_prec,dnn_5_rec,dnn_5_f1,dnn_5_spec,dnn_5_sens)"
   ]
  },
  {
   "cell_type": "markdown",
   "metadata": {},
   "source": [
    "# 6 Layers"
   ]
  },
  {
   "cell_type": "code",
   "execution_count": 49,
   "metadata": {},
   "outputs": [],
   "source": [
    "# Initialising the NN\n",
    "model = Sequential()\n",
    "\n",
    "# layers\n",
    "model.add(Dense(units = 128, kernel_initializer = 'uniform', activation = 'relu', input_dim = 13))\n",
    "model.add(Dense(units = 64, kernel_initializer = 'uniform', activation = 'relu'))\n",
    "model.add(Dropout(0.25))\n",
    "model.add(Dense(units = 64, kernel_initializer = 'uniform', activation = 'relu'))\n",
    "model.add(Dropout(0.5))\n",
    "model.add(Dense(units = 32, kernel_initializer = 'uniform', activation = 'relu'))\n",
    "model.add(Dropout(0.5))\n",
    "model.add(Dense(units = 32, kernel_initializer = 'uniform', activation = 'relu'))\n",
    "model.add(Dropout(0.5))\n",
    "model.add(Dense(units = 16, kernel_initializer = 'uniform', activation = 'relu'))\n",
    "model.add(Dropout(0.5))\n",
    "model.add(Dense(units = 1, kernel_initializer = 'uniform', activation = 'sigmoid'))\n",
    "\n",
    "# Compiling the ANN\n",
    "model.compile(optimizer = 'adam', loss = 'binary_crossentropy', metrics = ['accuracy'])"
   ]
  },
  {
   "cell_type": "code",
   "execution_count": 50,
   "metadata": {},
   "outputs": [
    {
     "name": "stdout",
     "output_type": "stream",
     "text": [
      "Epoch 1/100\n",
      "107/107 [==============================] - 8s 19ms/step - loss: 0.6932 - accuracy: 0.4927 - val_loss: 0.6943 - val_accuracy: 0.3333\n",
      "Epoch 2/100\n",
      "107/107 [==============================] - 0s 4ms/step - loss: 0.6933 - accuracy: 0.4347 - val_loss: 0.6955 - val_accuracy: 0.3333\n",
      "Epoch 3/100\n",
      "107/107 [==============================] - 0s 4ms/step - loss: 0.6918 - accuracy: 0.5390 - val_loss: 0.7048 - val_accuracy: 0.3333\n",
      "Epoch 4/100\n",
      "107/107 [==============================] - 0s 5ms/step - loss: 0.6968 - accuracy: 0.4708 - val_loss: 0.6957 - val_accuracy: 0.3333\n",
      "Epoch 5/100\n",
      "107/107 [==============================] - 0s 4ms/step - loss: 0.6926 - accuracy: 0.5264 - val_loss: 0.7162 - val_accuracy: 0.3333\n",
      "Epoch 6/100\n",
      "107/107 [==============================] - 0s 4ms/step - loss: 0.6943 - accuracy: 0.5285 - val_loss: 0.6947 - val_accuracy: 0.3333\n",
      "Epoch 7/100\n",
      "107/107 [==============================] - 1s 5ms/step - loss: 0.6786 - accuracy: 0.5278 - val_loss: 0.7106 - val_accuracy: 0.7222\n",
      "Epoch 8/100\n",
      "107/107 [==============================] - 0s 4ms/step - loss: 0.6688 - accuracy: 0.7220 - val_loss: 0.8400 - val_accuracy: 0.4815\n",
      "Epoch 9/100\n",
      "107/107 [==============================] - 0s 4ms/step - loss: 0.6963 - accuracy: 0.6816 - val_loss: 0.6970 - val_accuracy: 0.7037\n",
      "Epoch 10/100\n",
      "107/107 [==============================] - 0s 4ms/step - loss: 0.6647 - accuracy: 0.7379 - val_loss: 0.6400 - val_accuracy: 0.7037\n",
      "Epoch 11/100\n",
      "107/107 [==============================] - 0s 4ms/step - loss: 0.6150 - accuracy: 0.6761 - val_loss: 0.7529 - val_accuracy: 0.7222\n",
      "Epoch 12/100\n",
      "107/107 [==============================] - 0s 4ms/step - loss: 0.5761 - accuracy: 0.7987 - val_loss: 0.5962 - val_accuracy: 0.7222\n",
      "Epoch 13/100\n",
      "107/107 [==============================] - 1s 5ms/step - loss: 0.6194 - accuracy: 0.6924 - val_loss: 0.5660 - val_accuracy: 0.7037\n",
      "Epoch 14/100\n",
      "107/107 [==============================] - 1s 5ms/step - loss: 0.5199 - accuracy: 0.8167 - val_loss: 0.7602 - val_accuracy: 0.5370\n",
      "Epoch 15/100\n",
      "107/107 [==============================] - 0s 4ms/step - loss: 0.6623 - accuracy: 0.6810 - val_loss: 0.5129 - val_accuracy: 0.7222\n",
      "Epoch 16/100\n",
      "107/107 [==============================] - 0s 5ms/step - loss: 0.6754 - accuracy: 0.7025 - val_loss: 0.5119 - val_accuracy: 0.7037\n",
      "Epoch 17/100\n",
      "107/107 [==============================] - 0s 4ms/step - loss: 0.5347 - accuracy: 0.7376 - val_loss: 0.5935 - val_accuracy: 0.6667\n",
      "Epoch 18/100\n",
      "107/107 [==============================] - 0s 4ms/step - loss: 0.5297 - accuracy: 0.7729 - val_loss: 0.5066 - val_accuracy: 0.7963\n",
      "Epoch 19/100\n",
      "107/107 [==============================] - 0s 5ms/step - loss: 0.5288 - accuracy: 0.8147 - val_loss: 0.5066 - val_accuracy: 0.7778\n",
      "Epoch 20/100\n",
      "107/107 [==============================] - 0s 4ms/step - loss: 0.5526 - accuracy: 0.7291 - val_loss: 0.6236 - val_accuracy: 0.7037\n",
      "Epoch 21/100\n",
      "107/107 [==============================] - 0s 4ms/step - loss: 0.6026 - accuracy: 0.7704 - val_loss: 0.6742 - val_accuracy: 0.5926\n",
      "Epoch 22/100\n",
      "107/107 [==============================] - 0s 4ms/step - loss: 0.5512 - accuracy: 0.7566 - val_loss: 0.9701 - val_accuracy: 0.5000\n",
      "Epoch 23/100\n",
      "107/107 [==============================] - 0s 3ms/step - loss: 0.5231 - accuracy: 0.7739 - val_loss: 0.4761 - val_accuracy: 0.7778\n",
      "Epoch 24/100\n",
      "107/107 [==============================] - 0s 3ms/step - loss: 0.4957 - accuracy: 0.7504 - val_loss: 0.6719 - val_accuracy: 0.6667\n",
      "Epoch 25/100\n",
      "107/107 [==============================] - 0s 5ms/step - loss: 0.7649 - accuracy: 0.7679 - val_loss: 0.4571 - val_accuracy: 0.7593\n",
      "Epoch 26/100\n",
      "107/107 [==============================] - 0s 4ms/step - loss: 0.5409 - accuracy: 0.7632 - val_loss: 0.5022 - val_accuracy: 0.8333\n",
      "Epoch 27/100\n",
      "107/107 [==============================] - 0s 4ms/step - loss: 0.4038 - accuracy: 0.8588 - val_loss: 0.4657 - val_accuracy: 0.7593\n",
      "Epoch 28/100\n",
      "107/107 [==============================] - 0s 4ms/step - loss: 0.5046 - accuracy: 0.8177 - val_loss: 0.4994 - val_accuracy: 0.7778\n",
      "Epoch 29/100\n",
      "107/107 [==============================] - 0s 4ms/step - loss: 0.4745 - accuracy: 0.7748 - val_loss: 0.5661 - val_accuracy: 0.7593\n",
      "Epoch 30/100\n",
      "107/107 [==============================] - 0s 3ms/step - loss: 0.4128 - accuracy: 0.8081 - val_loss: 0.4627 - val_accuracy: 0.7963\n",
      "Epoch 31/100\n",
      "107/107 [==============================] - 0s 3ms/step - loss: 0.5081 - accuracy: 0.7634 - val_loss: 0.5595 - val_accuracy: 0.7963\n",
      "Epoch 32/100\n",
      "107/107 [==============================] - 0s 4ms/step - loss: 0.4850 - accuracy: 0.8208 - val_loss: 0.5409 - val_accuracy: 0.7963\n",
      "Epoch 33/100\n",
      "107/107 [==============================] - 0s 4ms/step - loss: 0.4266 - accuracy: 0.7914 - val_loss: 0.4317 - val_accuracy: 0.7778\n",
      "Epoch 34/100\n",
      "107/107 [==============================] - 0s 3ms/step - loss: 0.5559 - accuracy: 0.7760 - val_loss: 0.6677 - val_accuracy: 0.7963\n",
      "Epoch 35/100\n",
      "107/107 [==============================] - 0s 3ms/step - loss: 0.5327 - accuracy: 0.7610 - val_loss: 0.6718 - val_accuracy: 0.7963\n",
      "Epoch 36/100\n",
      "107/107 [==============================] - 0s 3ms/step - loss: 0.4251 - accuracy: 0.8640 - val_loss: 0.6297 - val_accuracy: 0.7778\n",
      "Epoch 37/100\n",
      "107/107 [==============================] - 0s 3ms/step - loss: 0.4864 - accuracy: 0.7837 - val_loss: 0.6746 - val_accuracy: 0.7963\n",
      "Epoch 38/100\n",
      "107/107 [==============================] - 0s 3ms/step - loss: 0.4060 - accuracy: 0.8454 - val_loss: 0.5856 - val_accuracy: 0.7778\n",
      "Epoch 39/100\n",
      "107/107 [==============================] - 0s 3ms/step - loss: 0.5110 - accuracy: 0.7847 - val_loss: 0.4672 - val_accuracy: 0.7963\n",
      "Epoch 40/100\n",
      "107/107 [==============================] - 0s 4ms/step - loss: 0.4181 - accuracy: 0.8726 - val_loss: 0.4948 - val_accuracy: 0.7963\n",
      "Epoch 41/100\n",
      "107/107 [==============================] - 0s 3ms/step - loss: 0.4458 - accuracy: 0.8236 - val_loss: 0.4811 - val_accuracy: 0.7593\n",
      "Epoch 42/100\n",
      "107/107 [==============================] - 0s 3ms/step - loss: 0.4112 - accuracy: 0.8067 - val_loss: 0.8845 - val_accuracy: 0.6667\n",
      "Epoch 43/100\n",
      "107/107 [==============================] - 0s 3ms/step - loss: 0.5067 - accuracy: 0.7626 - val_loss: 0.4316 - val_accuracy: 0.8333\n",
      "Epoch 44/100\n",
      "107/107 [==============================] - 0s 3ms/step - loss: 0.4794 - accuracy: 0.8043 - val_loss: 0.5180 - val_accuracy: 0.8148\n",
      "Epoch 45/100\n",
      "107/107 [==============================] - 0s 3ms/step - loss: 0.3433 - accuracy: 0.9002 - val_loss: 0.6977 - val_accuracy: 0.7593\n",
      "Epoch 46/100\n",
      "107/107 [==============================] - 0s 3ms/step - loss: 0.3842 - accuracy: 0.8645 - val_loss: 0.4553 - val_accuracy: 0.7963\n",
      "Epoch 47/100\n",
      "107/107 [==============================] - 0s 3ms/step - loss: 0.4526 - accuracy: 0.7833 - val_loss: 0.5935 - val_accuracy: 0.8148\n",
      "Epoch 48/100\n",
      "107/107 [==============================] - 0s 3ms/step - loss: 0.3473 - accuracy: 0.8588 - val_loss: 0.5228 - val_accuracy: 0.8148\n",
      "Epoch 49/100\n",
      "107/107 [==============================] - 0s 3ms/step - loss: 0.4364 - accuracy: 0.8128 - val_loss: 0.4307 - val_accuracy: 0.7778\n",
      "Epoch 50/100\n",
      "107/107 [==============================] - 0s 3ms/step - loss: 0.4476 - accuracy: 0.8248 - val_loss: 0.5474 - val_accuracy: 0.8148\n",
      "Epoch 51/100\n",
      "107/107 [==============================] - 0s 3ms/step - loss: 0.3894 - accuracy: 0.8583 - val_loss: 0.4841 - val_accuracy: 0.8148\n",
      "Epoch 52/100\n",
      "107/107 [==============================] - 0s 3ms/step - loss: 0.3999 - accuracy: 0.8345 - val_loss: 0.7550 - val_accuracy: 0.7778\n",
      "Epoch 53/100\n",
      "107/107 [==============================] - 0s 3ms/step - loss: 0.4650 - accuracy: 0.7697 - val_loss: 0.4753 - val_accuracy: 0.8148\n",
      "Epoch 54/100\n",
      "107/107 [==============================] - 0s 3ms/step - loss: 0.3757 - accuracy: 0.8478 - val_loss: 0.4440 - val_accuracy: 0.7963\n",
      "Epoch 55/100\n",
      "107/107 [==============================] - 0s 3ms/step - loss: 0.4924 - accuracy: 0.7979 - val_loss: 0.5639 - val_accuracy: 0.8148\n",
      "Epoch 56/100\n",
      "107/107 [==============================] - 0s 3ms/step - loss: 0.4230 - accuracy: 0.8395 - val_loss: 0.4989 - val_accuracy: 0.8148\n",
      "Epoch 57/100\n",
      "107/107 [==============================] - 0s 3ms/step - loss: 0.3474 - accuracy: 0.8677 - val_loss: 0.5894 - val_accuracy: 0.8148\n"
     ]
    },
    {
     "name": "stdout",
     "output_type": "stream",
     "text": [
      "Epoch 58/100\n",
      "107/107 [==============================] - 0s 3ms/step - loss: 0.4429 - accuracy: 0.8679 - val_loss: 0.4565 - val_accuracy: 0.7778\n",
      "Epoch 59/100\n",
      "107/107 [==============================] - 0s 3ms/step - loss: 0.5014 - accuracy: 0.7903 - val_loss: 0.5033 - val_accuracy: 0.8148\n",
      "Epoch 60/100\n",
      "107/107 [==============================] - 0s 3ms/step - loss: 0.4282 - accuracy: 0.8459 - val_loss: 0.6626 - val_accuracy: 0.7963\n",
      "Epoch 61/100\n",
      "107/107 [==============================] - 0s 2ms/step - loss: 0.4042 - accuracy: 0.8434 - val_loss: 0.5407 - val_accuracy: 0.8148\n",
      "Epoch 62/100\n",
      "107/107 [==============================] - 0s 2ms/step - loss: 0.5338 - accuracy: 0.7885 - val_loss: 0.5528 - val_accuracy: 0.8148\n",
      "Epoch 63/100\n",
      "107/107 [==============================] - 0s 2ms/step - loss: 0.3808 - accuracy: 0.8743 - val_loss: 0.6080 - val_accuracy: 0.8148\n",
      "Epoch 64/100\n",
      "107/107 [==============================] - 0s 2ms/step - loss: 0.4116 - accuracy: 0.8449 - val_loss: 0.5988 - val_accuracy: 0.8148\n",
      "Epoch 65/100\n",
      "107/107 [==============================] - 0s 2ms/step - loss: 0.4944 - accuracy: 0.8253 - val_loss: 0.4899 - val_accuracy: 0.8148\n",
      "Epoch 66/100\n",
      "107/107 [==============================] - 0s 2ms/step - loss: 0.3887 - accuracy: 0.8565 - val_loss: 0.6553 - val_accuracy: 0.8148\n",
      "Epoch 67/100\n",
      "107/107 [==============================] - 0s 2ms/step - loss: 0.4453 - accuracy: 0.8255 - val_loss: 0.5558 - val_accuracy: 0.7963\n",
      "Epoch 68/100\n",
      "107/107 [==============================] - 0s 3ms/step - loss: 0.4820 - accuracy: 0.8155 - val_loss: 0.6509 - val_accuracy: 0.7963\n",
      "Epoch 69/100\n",
      "107/107 [==============================] - 0s 2ms/step - loss: 0.4427 - accuracy: 0.8798 - val_loss: 0.5332 - val_accuracy: 0.8148\n",
      "Epoch 70/100\n",
      "107/107 [==============================] - 0s 3ms/step - loss: 0.4269 - accuracy: 0.8327 - val_loss: 0.5663 - val_accuracy: 0.7963\n",
      "Epoch 71/100\n",
      "107/107 [==============================] - 0s 2ms/step - loss: 0.3661 - accuracy: 0.8083 - val_loss: 0.4706 - val_accuracy: 0.8148\n",
      "Epoch 72/100\n",
      "107/107 [==============================] - 0s 2ms/step - loss: 0.3661 - accuracy: 0.8657 - val_loss: 0.5070 - val_accuracy: 0.8148\n",
      "Epoch 73/100\n",
      "107/107 [==============================] - 0s 3ms/step - loss: 0.3917 - accuracy: 0.8433 - val_loss: 0.6679 - val_accuracy: 0.7778\n",
      "Epoch 74/100\n",
      "107/107 [==============================] - 0s 3ms/step - loss: 0.4122 - accuracy: 0.8466 - val_loss: 0.6621 - val_accuracy: 0.8148\n",
      "Epoch 75/100\n",
      "107/107 [==============================] - 0s 2ms/step - loss: 0.3895 - accuracy: 0.8743 - val_loss: 0.6540 - val_accuracy: 0.8148\n",
      "Epoch 76/100\n",
      "107/107 [==============================] - 0s 3ms/step - loss: 0.4193 - accuracy: 0.8177 - val_loss: 0.4594 - val_accuracy: 0.8148\n",
      "Epoch 77/100\n",
      "107/107 [==============================] - 0s 3ms/step - loss: 0.5409 - accuracy: 0.7973 - val_loss: 0.7665 - val_accuracy: 0.7037\n",
      "Epoch 78/100\n",
      "107/107 [==============================] - 0s 2ms/step - loss: 0.4334 - accuracy: 0.8397 - val_loss: 0.7049 - val_accuracy: 0.7407\n",
      "Epoch 79/100\n",
      "107/107 [==============================] - 0s 3ms/step - loss: 0.4405 - accuracy: 0.7991 - val_loss: 0.5034 - val_accuracy: 0.8148\n",
      "Epoch 80/100\n",
      "107/107 [==============================] - 0s 2ms/step - loss: 0.4556 - accuracy: 0.7904 - val_loss: 0.5787 - val_accuracy: 0.8148\n",
      "Epoch 81/100\n",
      "107/107 [==============================] - 0s 2ms/step - loss: 0.5484 - accuracy: 0.7993 - val_loss: 0.5795 - val_accuracy: 0.8148\n",
      "Epoch 82/100\n",
      "107/107 [==============================] - 0s 2ms/step - loss: 0.4557 - accuracy: 0.8129 - val_loss: 0.6745 - val_accuracy: 0.7963\n",
      "Epoch 83/100\n",
      "107/107 [==============================] - 0s 2ms/step - loss: 0.3576 - accuracy: 0.8621 - val_loss: 0.6076 - val_accuracy: 0.8148\n",
      "Epoch 84/100\n",
      "107/107 [==============================] - 0s 2ms/step - loss: 0.3453 - accuracy: 0.8721 - val_loss: 0.7030 - val_accuracy: 0.8148\n",
      "Epoch 85/100\n",
      "107/107 [==============================] - 0s 3ms/step - loss: 0.4498 - accuracy: 0.8085 - val_loss: 0.7179 - val_accuracy: 0.7963\n",
      "Epoch 86/100\n",
      "107/107 [==============================] - 0s 3ms/step - loss: 0.4109 - accuracy: 0.8318 - val_loss: 0.6744 - val_accuracy: 0.7963\n",
      "Epoch 87/100\n",
      "107/107 [==============================] - 0s 3ms/step - loss: 0.3759 - accuracy: 0.8552 - val_loss: 0.5013 - val_accuracy: 0.8148\n",
      "Epoch 88/100\n",
      "107/107 [==============================] - 0s 3ms/step - loss: 0.4402 - accuracy: 0.8197 - val_loss: 0.8205 - val_accuracy: 0.8148\n",
      "Epoch 89/100\n",
      "107/107 [==============================] - 0s 3ms/step - loss: 0.3683 - accuracy: 0.8356 - val_loss: 0.6740 - val_accuracy: 0.7963\n",
      "Epoch 90/100\n",
      "107/107 [==============================] - 0s 3ms/step - loss: 0.5224 - accuracy: 0.7666 - val_loss: 0.4921 - val_accuracy: 0.7963\n",
      "Epoch 91/100\n",
      "107/107 [==============================] - 0s 3ms/step - loss: 0.6414 - accuracy: 0.7964 - val_loss: 1.1626 - val_accuracy: 0.7037\n",
      "Epoch 92/100\n",
      "107/107 [==============================] - 0s 3ms/step - loss: 0.5575 - accuracy: 0.7920 - val_loss: 0.7512 - val_accuracy: 0.8148\n",
      "Epoch 93/100\n",
      "107/107 [==============================] - 0s 2ms/step - loss: 0.3471 - accuracy: 0.8763 - val_loss: 0.5484 - val_accuracy: 0.8148\n",
      "Epoch 94/100\n",
      "107/107 [==============================] - 0s 2ms/step - loss: 0.3523 - accuracy: 0.8789 - val_loss: 0.4648 - val_accuracy: 0.7963\n",
      "Epoch 95/100\n",
      "107/107 [==============================] - 0s 2ms/step - loss: 0.5895 - accuracy: 0.8069 - val_loss: 0.5664 - val_accuracy: 0.8148\n",
      "Epoch 96/100\n",
      "107/107 [==============================] - 0s 2ms/step - loss: 0.5198 - accuracy: 0.8231 - val_loss: 0.5351 - val_accuracy: 0.8148\n",
      "Epoch 97/100\n",
      "107/107 [==============================] - 0s 3ms/step - loss: 0.5459 - accuracy: 0.7735 - val_loss: 0.5662 - val_accuracy: 0.8148\n",
      "Epoch 98/100\n",
      "107/107 [==============================] - 0s 3ms/step - loss: 0.3760 - accuracy: 0.8506 - val_loss: 0.6245 - val_accuracy: 0.8148\n",
      "Epoch 99/100\n",
      "107/107 [==============================] - 0s 3ms/step - loss: 0.3718 - accuracy: 0.8517 - val_loss: 0.5839 - val_accuracy: 0.8148\n",
      "Epoch 100/100\n",
      "107/107 [==============================] - 0s 3ms/step - loss: 0.3666 - accuracy: 0.8573 - val_loss: 0.5340 - val_accuracy: 0.8148\n"
     ]
    }
   ],
   "source": [
    "# Train the ANN\n",
    "history = model.fit(X_train, y_train, batch_size = 2, epochs = 100, validation_split=0.2)"
   ]
  },
  {
   "cell_type": "code",
   "execution_count": 51,
   "metadata": {},
   "outputs": [
    {
     "data": {
      "image/png": "[encoded data removed]",
      "text/plain": [
       "<Figure size 432x288 with 1 Axes>"
      ]
     },
     "metadata": {
      "needs_background": "light"
     },
     "output_type": "display_data"
    },
    {
     "data": {
      "image/png": "[encoded data removed]",
      "text/plain": [
       "<Figure size 432x288 with 1 Axes>"
      ]
     },
     "metadata": {
      "needs_background": "light"
     },
     "output_type": "display_data"
    }
   ],
   "source": [
    "history_df = pd.DataFrame(history.history)\n",
    "\n",
    "plt.plot(history_df.loc[:, ['loss']], \"#CD5C5C\", label='Training loss')\n",
    "plt.plot(history_df.loc[:, ['val_loss']],\"#FF0000\", label='Validation loss')\n",
    "plt.title('Training and Validation loss')\n",
    "plt.xlabel('Epochs')\n",
    "plt.ylabel('Loss')\n",
    "plt.legend(loc=\"best\")\n",
    "\n",
    "plt.show()\n",
    "\n",
    "history_df = pd.DataFrame(history.history)\n",
    "\n",
    "plt.plot(history_df.loc[:, ['accuracy']], \"#CD5C5C\", label='Training accuracy')\n",
    "plt.plot(history_df.loc[:, ['val_accuracy']],\"#FF0000\", label='Validation accuracy')\n",
    "\n",
    "plt.title('Training and Validation accuracy')\n",
    "plt.xlabel('Epochs')\n",
    "plt.ylabel('Accuracy')\n",
    "plt.legend()\n",
    "plt.show()"
   ]
  },
  {
   "cell_type": "code",
   "execution_count": 52,
   "metadata": {},
   "outputs": [],
   "source": [
    "# Predicting the test set results\n",
    "y_pred = model.predict(X_test)\n",
    "y_pred = (y_pred > 0.4)\n",
    "\n",
    "dnn_6_acc = accuracy_score(y_pred, y_test)\n",
    "dnn_6_prec = precision_score(y_pred, y_test,average='weighted')\n",
    "dnn_6_rec = recall_score(y_pred, y_test,average='weighted')\n",
    "dnn_6_f1 = f1_score(y_pred, y_test,average='weighted')\n",
    "dnn_6_spec = specificity_score(y_pred, y_test,average='weighted')\n",
    "dnn_6_sens = sensitivity_score(y_pred, y_test,average='weighted')"
   ]
  },
  {
   "cell_type": "code",
   "execution_count": 78,
   "metadata": {},
   "outputs": [],
   "source": [
    "storeResults1('DNN - 6 Layers',dnn_6_acc,dnn_6_prec,dnn_6_rec,dnn_6_f1,dnn_6_spec,dnn_6_sens)"
   ]
  },
  {
   "cell_type": "markdown",
   "metadata": {},
   "source": [
    "# 7 Layers"
   ]
  },
  {
   "cell_type": "code",
   "execution_count": 53,
   "metadata": {},
   "outputs": [],
   "source": [
    "# Initialising the NN\n",
    "model = Sequential()\n",
    "\n",
    "# layers\n",
    "model.add(Dense(units = 128, kernel_initializer = 'uniform', activation = 'relu', input_dim = 13))\n",
    "model.add(Dense(units = 64, kernel_initializer = 'uniform', activation = 'relu'))\n",
    "model.add(Dropout(0.25))\n",
    "model.add(Dense(units = 64, kernel_initializer = 'uniform', activation = 'relu'))\n",
    "model.add(Dropout(0.5))\n",
    "model.add(Dense(units = 32, kernel_initializer = 'uniform', activation = 'relu'))\n",
    "model.add(Dropout(0.5))\n",
    "model.add(Dense(units = 32, kernel_initializer = 'uniform', activation = 'relu'))\n",
    "model.add(Dropout(0.5))\n",
    "model.add(Dense(units = 16, kernel_initializer = 'uniform', activation = 'relu'))\n",
    "model.add(Dropout(0.5))\n",
    "model.add(Dense(units = 16, kernel_initializer = 'uniform', activation = 'relu'))\n",
    "model.add(Dropout(0.5))\n",
    "model.add(Dense(units = 1, kernel_initializer = 'uniform', activation = 'sigmoid'))\n",
    "\n",
    "# Compiling the ANN\n",
    "model.compile(optimizer = 'adam', loss = 'binary_crossentropy', metrics = ['accuracy'])"
   ]
  },
  {
   "cell_type": "code",
   "execution_count": 54,
   "metadata": {},
   "outputs": [
    {
     "name": "stdout",
     "output_type": "stream",
     "text": [
      "Epoch 1/100\n",
      "107/107 [==============================] - 5s 12ms/step - loss: 0.6933 - accuracy: 0.4326 - val_loss: 0.6933 - val_accuracy: 0.3333\n",
      "Epoch 2/100\n",
      "107/107 [==============================] - 0s 2ms/step - loss: 0.6932 - accuracy: 0.5239 - val_loss: 0.6941 - val_accuracy: 0.3333\n",
      "Epoch 3/100\n",
      "107/107 [==============================] - 0s 2ms/step - loss: 0.6932 - accuracy: 0.5238 - val_loss: 0.6939 - val_accuracy: 0.3333\n",
      "Epoch 4/100\n",
      "107/107 [==============================] - 0s 3ms/step - loss: 0.6933 - accuracy: 0.4738 - val_loss: 0.6943 - val_accuracy: 0.3333\n",
      "Epoch 5/100\n",
      "107/107 [==============================] - 0s 3ms/step - loss: 0.6932 - accuracy: 0.5025 - val_loss: 0.6949 - val_accuracy: 0.3333\n",
      "Epoch 6/100\n",
      "107/107 [==============================] - 0s 3ms/step - loss: 0.6934 - accuracy: 0.4771 - val_loss: 0.6952 - val_accuracy: 0.3333\n",
      "Epoch 7/100\n",
      "107/107 [==============================] - 0s 3ms/step - loss: 0.6934 - accuracy: 0.4848 - val_loss: 0.6950 - val_accuracy: 0.3333\n",
      "Epoch 8/100\n",
      "107/107 [==============================] - 0s 3ms/step - loss: 0.6934 - accuracy: 0.4864 - val_loss: 0.6951 - val_accuracy: 0.3333\n",
      "Epoch 9/100\n",
      "107/107 [==============================] - 0s 3ms/step - loss: 0.6939 - accuracy: 0.4336 - val_loss: 0.6951 - val_accuracy: 0.3333\n",
      "Epoch 10/100\n",
      "107/107 [==============================] - 0s 3ms/step - loss: 0.6940 - accuracy: 0.4504 - val_loss: 0.6956 - val_accuracy: 0.3333\n",
      "Epoch 11/100\n",
      "107/107 [==============================] - 0s 3ms/step - loss: 0.6935 - accuracy: 0.4850 - val_loss: 0.6969 - val_accuracy: 0.3333\n",
      "Epoch 12/100\n",
      "107/107 [==============================] - 0s 3ms/step - loss: 0.6938 - accuracy: 0.4705 - val_loss: 0.6971 - val_accuracy: 0.3333\n",
      "Epoch 13/100\n",
      "107/107 [==============================] - 0s 2ms/step - loss: 0.6940 - accuracy: 0.4682 - val_loss: 0.6975 - val_accuracy: 0.3333\n",
      "Epoch 14/100\n",
      "107/107 [==============================] - 0s 2ms/step - loss: 0.6945 - accuracy: 0.4837 - val_loss: 0.6969 - val_accuracy: 0.3333\n",
      "Epoch 15/100\n",
      "107/107 [==============================] - 0s 2ms/step - loss: 0.6917 - accuracy: 0.5493 - val_loss: 0.6925 - val_accuracy: 0.4630\n",
      "Epoch 16/100\n",
      "107/107 [==============================] - 0s 2ms/step - loss: 0.6914 - accuracy: 0.6110 - val_loss: 0.6826 - val_accuracy: 0.7407\n",
      "Epoch 17/100\n",
      "107/107 [==============================] - 0s 3ms/step - loss: 0.6646 - accuracy: 0.6769 - val_loss: 0.5656 - val_accuracy: 0.7593\n",
      "Epoch 18/100\n",
      "107/107 [==============================] - 0s 4ms/step - loss: 0.6253 - accuracy: 0.6575 - val_loss: 0.5810 - val_accuracy: 0.7407\n",
      "Epoch 19/100\n",
      "107/107 [==============================] - 0s 3ms/step - loss: 0.7422 - accuracy: 0.7069 - val_loss: 0.7100 - val_accuracy: 0.4444\n",
      "Epoch 20/100\n",
      "107/107 [==============================] - 0s 3ms/step - loss: 0.6711 - accuracy: 0.6484 - val_loss: 0.6471 - val_accuracy: 0.7222\n",
      "Epoch 21/100\n",
      "107/107 [==============================] - 0s 3ms/step - loss: 0.6436 - accuracy: 0.7122 - val_loss: 0.5761 - val_accuracy: 0.7037\n",
      "Epoch 22/100\n",
      "107/107 [==============================] - 0s 3ms/step - loss: 0.5903 - accuracy: 0.6990 - val_loss: 0.6230 - val_accuracy: 0.5926\n",
      "Epoch 23/100\n",
      "107/107 [==============================] - 0s 3ms/step - loss: 0.6343 - accuracy: 0.7046 - val_loss: 0.5578 - val_accuracy: 0.7222\n",
      "Epoch 24/100\n",
      "107/107 [==============================] - 0s 3ms/step - loss: 0.6626 - accuracy: 0.6747 - val_loss: 0.6142 - val_accuracy: 0.6481\n",
      "Epoch 25/100\n",
      "107/107 [==============================] - 0s 2ms/step - loss: 0.5653 - accuracy: 0.7294 - val_loss: 0.6885 - val_accuracy: 0.5185\n",
      "Epoch 26/100\n",
      "107/107 [==============================] - 0s 3ms/step - loss: 0.6234 - accuracy: 0.6916 - val_loss: 0.5545 - val_accuracy: 0.7407\n",
      "Epoch 27/100\n",
      "107/107 [==============================] - 0s 2ms/step - loss: 0.6002 - accuracy: 0.7717 - val_loss: 0.5863 - val_accuracy: 0.7407\n",
      "Epoch 28/100\n",
      "107/107 [==============================] - 0s 2ms/step - loss: 0.6284 - accuracy: 0.7345 - val_loss: 0.5523 - val_accuracy: 0.7222\n",
      "Epoch 29/100\n",
      "107/107 [==============================] - 0s 3ms/step - loss: 0.5749 - accuracy: 0.7611 - val_loss: 0.5941 - val_accuracy: 0.6852\n",
      "Epoch 30/100\n",
      "107/107 [==============================] - 0s 4ms/step - loss: 0.5458 - accuracy: 0.7478 - val_loss: 0.5380 - val_accuracy: 0.6852\n",
      "Epoch 31/100\n",
      "107/107 [==============================] - 0s 3ms/step - loss: 0.5541 - accuracy: 0.7666 - val_loss: 0.5669 - val_accuracy: 0.7222\n",
      "Epoch 32/100\n",
      "107/107 [==============================] - 0s 3ms/step - loss: 0.5361 - accuracy: 0.7145 - val_loss: 0.7084 - val_accuracy: 0.5926\n",
      "Epoch 33/100\n",
      "107/107 [==============================] - 0s 3ms/step - loss: 0.6259 - accuracy: 0.6924 - val_loss: 0.7735 - val_accuracy: 0.4444\n",
      "Epoch 34/100\n",
      "107/107 [==============================] - 0s 3ms/step - loss: 0.6142 - accuracy: 0.7009 - val_loss: 0.5184 - val_accuracy: 0.7407\n",
      "Epoch 35/100\n",
      "107/107 [==============================] - 0s 4ms/step - loss: 0.5618 - accuracy: 0.7557 - val_loss: 0.5838 - val_accuracy: 0.7407\n",
      "Epoch 36/100\n",
      "107/107 [==============================] - 0s 2ms/step - loss: 0.5816 - accuracy: 0.7442 - val_loss: 0.5377 - val_accuracy: 0.7407\n",
      "Epoch 37/100\n",
      "107/107 [==============================] - 0s 2ms/step - loss: 0.5314 - accuracy: 0.7850 - val_loss: 0.7093 - val_accuracy: 0.5370\n",
      "Epoch 38/100\n",
      "107/107 [==============================] - 0s 2ms/step - loss: 0.5623 - accuracy: 0.7365 - val_loss: 0.7433 - val_accuracy: 0.5370\n",
      "Epoch 39/100\n",
      "107/107 [==============================] - 0s 3ms/step - loss: 0.5906 - accuracy: 0.7356 - val_loss: 0.6714 - val_accuracy: 0.5926\n",
      "Epoch 40/100\n",
      "107/107 [==============================] - 0s 3ms/step - loss: 0.6323 - accuracy: 0.7127 - val_loss: 0.7837 - val_accuracy: 0.5000\n",
      "Epoch 41/100\n",
      "107/107 [==============================] - 0s 2ms/step - loss: 0.6121 - accuracy: 0.6957 - val_loss: 0.5885 - val_accuracy: 0.6852\n",
      "Epoch 42/100\n",
      "107/107 [==============================] - 0s 2ms/step - loss: 0.5743 - accuracy: 0.7490 - val_loss: 0.7111 - val_accuracy: 0.5926\n",
      "Epoch 43/100\n",
      "107/107 [==============================] - 0s 2ms/step - loss: 0.6311 - accuracy: 0.6727 - val_loss: 0.5567 - val_accuracy: 0.7037\n",
      "Epoch 44/100\n",
      "107/107 [==============================] - 0s 3ms/step - loss: 0.5933 - accuracy: 0.7773 - val_loss: 0.5911 - val_accuracy: 0.7222\n",
      "Epoch 45/100\n",
      "107/107 [==============================] - 0s 3ms/step - loss: 0.5326 - accuracy: 0.8091 - val_loss: 0.5662 - val_accuracy: 0.7222\n",
      "Epoch 46/100\n",
      "107/107 [==============================] - 0s 2ms/step - loss: 0.5674 - accuracy: 0.7889 - val_loss: 0.4988 - val_accuracy: 0.7407\n",
      "Epoch 47/100\n",
      "107/107 [==============================] - 0s 2ms/step - loss: 0.5418 - accuracy: 0.7827 - val_loss: 0.6050 - val_accuracy: 0.7037\n",
      "Epoch 48/100\n",
      "107/107 [==============================] - 0s 3ms/step - loss: 0.5536 - accuracy: 0.7403 - val_loss: 0.4967 - val_accuracy: 0.7407\n",
      "Epoch 49/100\n",
      "107/107 [==============================] - 0s 2ms/step - loss: 0.5139 - accuracy: 0.7553 - val_loss: 0.5893 - val_accuracy: 0.7037\n",
      "Epoch 50/100\n",
      "107/107 [==============================] - 0s 2ms/step - loss: 0.6164 - accuracy: 0.7501 - val_loss: 0.5795 - val_accuracy: 0.7222\n",
      "Epoch 51/100\n",
      "107/107 [==============================] - 0s 2ms/step - loss: 0.5606 - accuracy: 0.7156 - val_loss: 0.5003 - val_accuracy: 0.7778\n",
      "Epoch 52/100\n",
      "107/107 [==============================] - 0s 2ms/step - loss: 0.5026 - accuracy: 0.7545 - val_loss: 0.5404 - val_accuracy: 0.7407\n",
      "Epoch 53/100\n",
      "107/107 [==============================] - 0s 2ms/step - loss: 0.5301 - accuracy: 0.7373 - val_loss: 0.5021 - val_accuracy: 0.7407\n",
      "Epoch 54/100\n",
      "107/107 [==============================] - 0s 2ms/step - loss: 0.5825 - accuracy: 0.6693 - val_loss: 0.6503 - val_accuracy: 0.7407\n",
      "Epoch 55/100\n",
      "107/107 [==============================] - 0s 2ms/step - loss: 0.5126 - accuracy: 0.7398 - val_loss: 0.6038 - val_accuracy: 0.7407\n",
      "Epoch 56/100\n",
      "107/107 [==============================] - 0s 2ms/step - loss: 0.5340 - accuracy: 0.7669 - val_loss: 0.4718 - val_accuracy: 0.7778\n",
      "Epoch 57/100\n",
      "107/107 [==============================] - 0s 3ms/step - loss: 0.5616 - accuracy: 0.7350 - val_loss: 0.5426 - val_accuracy: 0.7407\n"
     ]
    },
    {
     "name": "stdout",
     "output_type": "stream",
     "text": [
      "Epoch 58/100\n",
      "107/107 [==============================] - 0s 3ms/step - loss: 0.5069 - accuracy: 0.8106 - val_loss: 0.5404 - val_accuracy: 0.7407\n",
      "Epoch 59/100\n",
      "107/107 [==============================] - 0s 3ms/step - loss: 0.4636 - accuracy: 0.8459 - val_loss: 0.6706 - val_accuracy: 0.7222\n",
      "Epoch 60/100\n",
      "107/107 [==============================] - 0s 3ms/step - loss: 0.5712 - accuracy: 0.7533 - val_loss: 0.5190 - val_accuracy: 0.7407\n",
      "Epoch 61/100\n",
      "107/107 [==============================] - 0s 3ms/step - loss: 0.4795 - accuracy: 0.7977 - val_loss: 0.5550 - val_accuracy: 0.7407\n",
      "Epoch 62/100\n",
      "107/107 [==============================] - 0s 3ms/step - loss: 0.5585 - accuracy: 0.6689 - val_loss: 0.4994 - val_accuracy: 0.7593\n",
      "Epoch 63/100\n",
      "107/107 [==============================] - 0s 3ms/step - loss: 0.5675 - accuracy: 0.7718 - val_loss: 0.5372 - val_accuracy: 0.7593\n",
      "Epoch 64/100\n",
      "107/107 [==============================] - 0s 3ms/step - loss: 0.5089 - accuracy: 0.8295 - val_loss: 0.6578 - val_accuracy: 0.7222\n",
      "Epoch 65/100\n",
      "107/107 [==============================] - 0s 3ms/step - loss: 0.4739 - accuracy: 0.7743 - val_loss: 0.5865 - val_accuracy: 0.7778\n",
      "Epoch 66/100\n",
      "107/107 [==============================] - 0s 2ms/step - loss: 0.5593 - accuracy: 0.7365 - val_loss: 0.5855 - val_accuracy: 0.7778\n",
      "Epoch 67/100\n",
      "107/107 [==============================] - 0s 2ms/step - loss: 0.4920 - accuracy: 0.8029 - val_loss: 0.5761 - val_accuracy: 0.7407\n",
      "Epoch 68/100\n",
      "107/107 [==============================] - 0s 3ms/step - loss: 0.5024 - accuracy: 0.7639 - val_loss: 0.5137 - val_accuracy: 0.7407\n",
      "Epoch 69/100\n",
      "107/107 [==============================] - 0s 3ms/step - loss: 0.5159 - accuracy: 0.7764 - val_loss: 0.5283 - val_accuracy: 0.7593\n",
      "Epoch 70/100\n",
      "107/107 [==============================] - 0s 3ms/step - loss: 0.5023 - accuracy: 0.8367 - val_loss: 0.5345 - val_accuracy: 0.7593\n",
      "Epoch 71/100\n",
      "107/107 [==============================] - 0s 3ms/step - loss: 0.5330 - accuracy: 0.7618 - val_loss: 0.5733 - val_accuracy: 0.7778\n",
      "Epoch 72/100\n",
      "107/107 [==============================] - 0s 3ms/step - loss: 0.5713 - accuracy: 0.7267 - val_loss: 0.5864 - val_accuracy: 0.7222\n",
      "Epoch 73/100\n",
      "107/107 [==============================] - 0s 3ms/step - loss: 0.5089 - accuracy: 0.8077 - val_loss: 0.5810 - val_accuracy: 0.7037\n",
      "Epoch 74/100\n",
      "107/107 [==============================] - 0s 3ms/step - loss: 0.5158 - accuracy: 0.7964 - val_loss: 0.4957 - val_accuracy: 0.7778\n",
      "Epoch 75/100\n",
      "107/107 [==============================] - 0s 2ms/step - loss: 0.4704 - accuracy: 0.7763 - val_loss: 0.4980 - val_accuracy: 0.7778\n",
      "Epoch 76/100\n",
      "107/107 [==============================] - 0s 2ms/step - loss: 0.6369 - accuracy: 0.6758 - val_loss: 0.5861 - val_accuracy: 0.7593\n",
      "Epoch 77/100\n",
      "107/107 [==============================] - 0s 2ms/step - loss: 0.4834 - accuracy: 0.7559 - val_loss: 0.5545 - val_accuracy: 0.8148\n",
      "Epoch 78/100\n",
      "107/107 [==============================] - 0s 2ms/step - loss: 0.5019 - accuracy: 0.7520 - val_loss: 0.5096 - val_accuracy: 0.7407\n",
      "Epoch 79/100\n",
      "107/107 [==============================] - 0s 3ms/step - loss: 0.5026 - accuracy: 0.8152 - val_loss: 0.5828 - val_accuracy: 0.7407\n",
      "Epoch 80/100\n",
      "107/107 [==============================] - 0s 3ms/step - loss: 0.5377 - accuracy: 0.7271 - val_loss: 0.5514 - val_accuracy: 0.7593\n",
      "Epoch 81/100\n",
      "107/107 [==============================] - 0s 4ms/step - loss: 0.4706 - accuracy: 0.8441 - val_loss: 0.4454 - val_accuracy: 0.7963\n",
      "Epoch 82/100\n",
      "107/107 [==============================] - 0s 3ms/step - loss: 0.5228 - accuracy: 0.7550 - val_loss: 0.5556 - val_accuracy: 0.7963\n",
      "Epoch 83/100\n",
      "107/107 [==============================] - 0s 3ms/step - loss: 0.4633 - accuracy: 0.8200 - val_loss: 0.4912 - val_accuracy: 0.7593\n",
      "Epoch 84/100\n",
      "107/107 [==============================] - 0s 3ms/step - loss: 0.4165 - accuracy: 0.8494 - val_loss: 0.5163 - val_accuracy: 0.7778\n",
      "Epoch 85/100\n",
      "107/107 [==============================] - 0s 3ms/step - loss: 0.5054 - accuracy: 0.7971 - val_loss: 0.7228 - val_accuracy: 0.7407\n",
      "Epoch 86/100\n",
      "107/107 [==============================] - 0s 3ms/step - loss: 0.6301 - accuracy: 0.7527 - val_loss: 0.6232 - val_accuracy: 0.7593\n",
      "Epoch 87/100\n",
      "107/107 [==============================] - 0s 3ms/step - loss: 0.4586 - accuracy: 0.8273 - val_loss: 0.6730 - val_accuracy: 0.6667\n",
      "Epoch 88/100\n",
      "107/107 [==============================] - 0s 2ms/step - loss: 0.4734 - accuracy: 0.7701 - val_loss: 0.5723 - val_accuracy: 0.8148\n",
      "Epoch 89/100\n",
      "107/107 [==============================] - 0s 3ms/step - loss: 0.4840 - accuracy: 0.8313 - val_loss: 0.4934 - val_accuracy: 0.7963\n",
      "Epoch 90/100\n",
      "107/107 [==============================] - 0s 3ms/step - loss: 0.5240 - accuracy: 0.7798 - val_loss: 0.6035 - val_accuracy: 0.7963\n",
      "Epoch 91/100\n",
      "107/107 [==============================] - 0s 2ms/step - loss: 0.5171 - accuracy: 0.7452 - val_loss: 0.5468 - val_accuracy: 0.8148\n",
      "Epoch 92/100\n",
      "107/107 [==============================] - 0s 3ms/step - loss: 0.4667 - accuracy: 0.8394 - val_loss: 0.5005 - val_accuracy: 0.7963\n",
      "Epoch 93/100\n",
      "107/107 [==============================] - 0s 3ms/step - loss: 0.4662 - accuracy: 0.8577 - val_loss: 0.5292 - val_accuracy: 0.7963\n",
      "Epoch 94/100\n",
      "107/107 [==============================] - 0s 3ms/step - loss: 0.4196 - accuracy: 0.8325 - val_loss: 0.4724 - val_accuracy: 0.7778\n",
      "Epoch 95/100\n",
      "107/107 [==============================] - 0s 3ms/step - loss: 0.5309 - accuracy: 0.8116 - val_loss: 0.5526 - val_accuracy: 0.7778\n",
      "Epoch 96/100\n",
      "107/107 [==============================] - 0s 3ms/step - loss: 0.5043 - accuracy: 0.8055 - val_loss: 0.5387 - val_accuracy: 0.7963\n",
      "Epoch 97/100\n",
      "107/107 [==============================] - 0s 3ms/step - loss: 0.5435 - accuracy: 0.7432 - val_loss: 0.5829 - val_accuracy: 0.7963\n",
      "Epoch 98/100\n",
      "107/107 [==============================] - 0s 3ms/step - loss: 0.4855 - accuracy: 0.8312 - val_loss: 0.5428 - val_accuracy: 0.7778\n",
      "Epoch 99/100\n",
      "107/107 [==============================] - 0s 3ms/step - loss: 0.5210 - accuracy: 0.7579 - val_loss: 0.5551 - val_accuracy: 0.7778\n",
      "Epoch 100/100\n",
      "107/107 [==============================] - 0s 2ms/step - loss: 0.5317 - accuracy: 0.7843 - val_loss: 0.5381 - val_accuracy: 0.7407\n"
     ]
    }
   ],
   "source": [
    "# Train the ANN\n",
    "history = model.fit(X_train, y_train, batch_size = 2, epochs = 100, validation_split=0.2)"
   ]
  },
  {
   "cell_type": "code",
   "execution_count": 55,
   "metadata": {},
   "outputs": [
    {
     "data": {
      "image/png": "[encoded data removed]",
      "text/plain": [
       "<Figure size 432x288 with 1 Axes>"
      ]
     },
     "metadata": {
      "needs_background": "light"
     },
     "output_type": "display_data"
    },
    {
     "data": {
      "image/png": "[encoded data removed]",
      "text/plain": [
       "<Figure size 432x288 with 1 Axes>"
      ]
     },
     "metadata": {
      "needs_background": "light"
     },
     "output_type": "display_data"
    }
   ],
   "source": [
    "history_df = pd.DataFrame(history.history)\n",
    "\n",
    "plt.plot(history_df.loc[:, ['loss']], \"#CD5C5C\", label='Training loss')\n",
    "plt.plot(history_df.loc[:, ['val_loss']],\"#FF0000\", label='Validation loss')\n",
    "plt.title('Training and Validation loss')\n",
    "plt.xlabel('Epochs')\n",
    "plt.ylabel('Loss')\n",
    "plt.legend(loc=\"best\")\n",
    "\n",
    "plt.show()\n",
    "\n",
    "history_df = pd.DataFrame(history.history)\n",
    "\n",
    "plt.plot(history_df.loc[:, ['accuracy']], \"#CD5C5C\", label='Training accuracy')\n",
    "plt.plot(history_df.loc[:, ['val_accuracy']],\"#FF0000\", label='Validation accuracy')\n",
    "\n",
    "plt.title('Training and Validation accuracy')\n",
    "plt.xlabel('Epochs')\n",
    "plt.ylabel('Accuracy')\n",
    "plt.legend()\n",
    "plt.show()"
   ]
  },
  {
   "cell_type": "code",
   "execution_count": 56,
   "metadata": {},
   "outputs": [
    {
     "name": "stdout",
     "output_type": "stream",
     "text": [
      "WARNING:tensorflow:5 out of the last 5 calls to <function Model.make_predict_function.<locals>.predict_function at 0x0000021789EC1E58> triggered tf.function retracing. Tracing is expensive and the excessive number of tracings could be due to (1) creating @tf.function repeatedly in a loop, (2) passing tensors with different shapes, (3) passing Python objects instead of tensors. For (1), please define your @tf.function outside of the loop. For (2), @tf.function has experimental_relax_shapes=True option that relaxes argument shapes that can avoid unnecessary retracing. For (3), please refer to https://www.tensorflow.org/guide/function#controlling_retracing and https://www.tensorflow.org/api_docs/python/tf/function for  more details.\n"
     ]
    }
   ],
   "source": [
    "# Predicting the test set results\n",
    "y_pred = model.predict(X_test)\n",
    "y_pred = (y_pred > 0.4)\n",
    "\n",
    "dnn_7_acc = accuracy_score(y_pred, y_test)\n",
    "dnn_7_prec = precision_score(y_pred, y_test,average='weighted')\n",
    "dnn_7_rec = recall_score(y_pred, y_test,average='weighted')\n",
    "dnn_7_f1 = f1_score(y_pred, y_test,average='weighted')\n",
    "dnn_7_spec = specificity_score(y_pred, y_test,average='weighted')\n",
    "dnn_7_sens = sensitivity_score(y_pred, y_test,average='weighted')"
   ]
  },
  {
   "cell_type": "code",
   "execution_count": 79,
   "metadata": {},
   "outputs": [],
   "source": [
    "storeResults1('DNN - 7 Layers',dnn_7_acc,dnn_7_prec,dnn_7_rec,dnn_7_f1,dnn_7_spec,dnn_7_sens)"
   ]
  },
  {
   "cell_type": "markdown",
   "metadata": {},
   "source": [
    "# 8 Layers"
   ]
  },
  {
   "cell_type": "code",
   "execution_count": 57,
   "metadata": {},
   "outputs": [],
   "source": [
    "# Initialising the NN\n",
    "model = Sequential()\n",
    "\n",
    "# layers\n",
    "model.add(Dense(units = 128, kernel_initializer = 'uniform', activation = 'relu', input_dim = 13))\n",
    "model.add(Dense(units = 64, kernel_initializer = 'uniform', activation = 'relu'))\n",
    "model.add(Dropout(0.25))\n",
    "model.add(Dense(units = 64, kernel_initializer = 'uniform', activation = 'relu'))\n",
    "model.add(Dropout(0.5))\n",
    "model.add(Dense(units = 32, kernel_initializer = 'uniform', activation = 'relu'))\n",
    "model.add(Dropout(0.5))\n",
    "model.add(Dense(units = 32, kernel_initializer = 'uniform', activation = 'relu'))\n",
    "model.add(Dropout(0.5))\n",
    "model.add(Dense(units = 16, kernel_initializer = 'uniform', activation = 'relu'))\n",
    "model.add(Dropout(0.5))\n",
    "model.add(Dense(units = 16, kernel_initializer = 'uniform', activation = 'relu'))\n",
    "model.add(Dropout(0.5))\n",
    "model.add(Dense(units = 8, kernel_initializer = 'uniform', activation = 'relu'))\n",
    "model.add(Dropout(0.5))\n",
    "model.add(Dense(units = 1, kernel_initializer = 'uniform', activation = 'sigmoid'))\n",
    "\n",
    "# Compiling the ANN\n",
    "model.compile(optimizer = 'adam', loss = 'binary_crossentropy', metrics = ['accuracy'])"
   ]
  },
  {
   "cell_type": "code",
   "execution_count": 58,
   "metadata": {},
   "outputs": [
    {
     "name": "stdout",
     "output_type": "stream",
     "text": [
      "Epoch 1/100\n",
      "107/107 [==============================] - 6s 13ms/step - loss: 0.6931 - accuracy: 0.5241 - val_loss: 0.6942 - val_accuracy: 0.3333\n",
      "Epoch 2/100\n",
      "107/107 [==============================] - 0s 2ms/step - loss: 0.6933 - accuracy: 0.4623 - val_loss: 0.6938 - val_accuracy: 0.3333\n",
      "Epoch 3/100\n",
      "107/107 [==============================] - 0s 2ms/step - loss: 0.6932 - accuracy: 0.5057 - val_loss: 0.6945 - val_accuracy: 0.3333\n",
      "Epoch 4/100\n",
      "107/107 [==============================] - 0s 2ms/step - loss: 0.6928 - accuracy: 0.5468 - val_loss: 0.6983 - val_accuracy: 0.3333\n",
      "Epoch 5/100\n",
      "107/107 [==============================] - 0s 3ms/step - loss: 0.6964 - accuracy: 0.4554 - val_loss: 0.6942 - val_accuracy: 0.3333\n",
      "Epoch 6/100\n",
      "107/107 [==============================] - 0s 3ms/step - loss: 0.6934 - accuracy: 0.4430 - val_loss: 0.6950 - val_accuracy: 0.3333\n",
      "Epoch 7/100\n",
      "107/107 [==============================] - 0s 3ms/step - loss: 0.6931 - accuracy: 0.5108 - val_loss: 0.6948 - val_accuracy: 0.3333\n",
      "Epoch 8/100\n",
      "107/107 [==============================] - 0s 3ms/step - loss: 0.6938 - accuracy: 0.4451 - val_loss: 0.6954 - val_accuracy: 0.3333\n",
      "Epoch 9/100\n",
      "107/107 [==============================] - 0s 3ms/step - loss: 0.6936 - accuracy: 0.4717 - val_loss: 0.6954 - val_accuracy: 0.3333\n",
      "Epoch 10/100\n",
      "107/107 [==============================] - 0s 3ms/step - loss: 0.6928 - accuracy: 0.5248 - val_loss: 0.6959 - val_accuracy: 0.3333\n",
      "Epoch 11/100\n",
      "107/107 [==============================] - 0s 3ms/step - loss: 0.6926 - accuracy: 0.5398 - val_loss: 0.6958 - val_accuracy: 0.3333\n",
      "Epoch 12/100\n",
      "107/107 [==============================] - 0s 3ms/step - loss: 0.6932 - accuracy: 0.5026 - val_loss: 0.6961 - val_accuracy: 0.3333\n",
      "Epoch 13/100\n",
      "107/107 [==============================] - 0s 3ms/step - loss: 0.6934 - accuracy: 0.4949 - val_loss: 0.6959 - val_accuracy: 0.3333\n",
      "Epoch 14/100\n",
      "107/107 [==============================] - 0s 3ms/step - loss: 0.6933 - accuracy: 0.4999 - val_loss: 0.6959 - val_accuracy: 0.3333\n",
      "Epoch 15/100\n",
      "107/107 [==============================] - 0s 3ms/step - loss: 0.6931 - accuracy: 0.5162 - val_loss: 0.6961 - val_accuracy: 0.3333\n",
      "Epoch 16/100\n",
      "107/107 [==============================] - 0s 3ms/step - loss: 0.6932 - accuracy: 0.4999 - val_loss: 0.6963 - val_accuracy: 0.3333\n",
      "Epoch 17/100\n",
      "107/107 [==============================] - 0s 2ms/step - loss: 0.6931 - accuracy: 0.5103 - val_loss: 0.6960 - val_accuracy: 0.3333\n",
      "Epoch 18/100\n",
      "107/107 [==============================] - 0s 2ms/step - loss: 0.6935 - accuracy: 0.4877 - val_loss: 0.6959 - val_accuracy: 0.3333\n",
      "Epoch 19/100\n",
      "107/107 [==============================] - 0s 2ms/step - loss: 0.6927 - accuracy: 0.5356 - val_loss: 0.6968 - val_accuracy: 0.3333\n",
      "Epoch 20/100\n",
      "107/107 [==============================] - 0s 2ms/step - loss: 0.6933 - accuracy: 0.4914 - val_loss: 0.6978 - val_accuracy: 0.3333\n",
      "Epoch 21/100\n",
      "107/107 [==============================] - 0s 3ms/step - loss: 0.6942 - accuracy: 0.4665 - val_loss: 0.7024 - val_accuracy: 0.3333\n",
      "Epoch 22/100\n",
      "107/107 [==============================] - 0s 3ms/step - loss: 0.6994 - accuracy: 0.4805 - val_loss: 0.6971 - val_accuracy: 0.3333\n",
      "Epoch 23/100\n",
      "107/107 [==============================] - 0s 3ms/step - loss: 0.6929 - accuracy: 0.5463 - val_loss: 0.6966 - val_accuracy: 0.3333\n",
      "Epoch 24/100\n",
      "107/107 [==============================] - 0s 4ms/step - loss: 0.6930 - accuracy: 0.5127 - val_loss: 0.6969 - val_accuracy: 0.3333\n",
      "Epoch 25/100\n",
      "107/107 [==============================] - 0s 2ms/step - loss: 0.6906 - accuracy: 0.5868 - val_loss: 0.6961 - val_accuracy: 0.3333\n",
      "Epoch 26/100\n",
      "107/107 [==============================] - 0s 2ms/step - loss: 0.6932 - accuracy: 0.4727 - val_loss: 0.6949 - val_accuracy: 0.3333\n",
      "Epoch 27/100\n",
      "107/107 [==============================] - 0s 2ms/step - loss: 0.6899 - accuracy: 0.5058 - val_loss: 0.6954 - val_accuracy: 0.3333\n",
      "Epoch 28/100\n",
      "107/107 [==============================] - 0s 2ms/step - loss: 0.6931 - accuracy: 0.5155 - val_loss: 0.6955 - val_accuracy: 0.3333\n",
      "Epoch 29/100\n",
      "107/107 [==============================] - 0s 2ms/step - loss: 0.6930 - accuracy: 0.5107 - val_loss: 0.6955 - val_accuracy: 0.3333\n",
      "Epoch 30/100\n",
      "107/107 [==============================] - 0s 3ms/step - loss: 0.6936 - accuracy: 0.4688 - val_loss: 0.6954 - val_accuracy: 0.3333\n",
      "Epoch 31/100\n",
      "107/107 [==============================] - 0s 3ms/step - loss: 0.6929 - accuracy: 0.5306 - val_loss: 0.6956 - val_accuracy: 0.3333\n",
      "Epoch 32/100\n",
      "107/107 [==============================] - 0s 2ms/step - loss: 0.6936 - accuracy: 0.4704 - val_loss: 0.6960 - val_accuracy: 0.3333\n",
      "Epoch 33/100\n",
      "107/107 [==============================] - 0s 2ms/step - loss: 0.6935 - accuracy: 0.4913 - val_loss: 0.6961 - val_accuracy: 0.3333\n",
      "Epoch 34/100\n",
      "107/107 [==============================] - 0s 2ms/step - loss: 0.6920 - accuracy: 0.5535 - val_loss: 0.6968 - val_accuracy: 0.3333\n",
      "Epoch 35/100\n",
      "107/107 [==============================] - 0s 2ms/step - loss: 0.6927 - accuracy: 0.5292 - val_loss: 0.6966 - val_accuracy: 0.3333\n",
      "Epoch 36/100\n",
      "107/107 [==============================] - 0s 2ms/step - loss: 0.6932 - accuracy: 0.5074 - val_loss: 0.6966 - val_accuracy: 0.3333\n",
      "Epoch 37/100\n",
      "107/107 [==============================] - 0s 2ms/step - loss: 0.6928 - accuracy: 0.5257 - val_loss: 0.6967 - val_accuracy: 0.3333\n",
      "Epoch 38/100\n",
      "107/107 [==============================] - 0s 2ms/step - loss: 0.6930 - accuracy: 0.4970 - val_loss: 0.6958 - val_accuracy: 0.3333\n",
      "Epoch 39/100\n",
      "107/107 [==============================] - 0s 3ms/step - loss: 0.6929 - accuracy: 0.5160 - val_loss: 0.6963 - val_accuracy: 0.3333\n",
      "Epoch 40/100\n",
      "107/107 [==============================] - 0s 2ms/step - loss: 0.6933 - accuracy: 0.4993 - val_loss: 0.6976 - val_accuracy: 0.3333\n",
      "Epoch 41/100\n",
      "107/107 [==============================] - 0s 2ms/step - loss: 0.6940 - accuracy: 0.4840 - val_loss: 0.6965 - val_accuracy: 0.3333\n",
      "Epoch 42/100\n",
      "107/107 [==============================] - 0s 2ms/step - loss: 0.6942 - accuracy: 0.4533 - val_loss: 0.6961 - val_accuracy: 0.3333\n",
      "Epoch 43/100\n",
      "107/107 [==============================] - 0s 3ms/step - loss: 0.6913 - accuracy: 0.5904 - val_loss: 0.6973 - val_accuracy: 0.3333\n",
      "Epoch 44/100\n",
      "107/107 [==============================] - 0s 2ms/step - loss: 0.6942 - accuracy: 0.4679 - val_loss: 0.6965 - val_accuracy: 0.3333\n",
      "Epoch 45/100\n",
      "107/107 [==============================] - 0s 3ms/step - loss: 0.6935 - accuracy: 0.4947 - val_loss: 0.6979 - val_accuracy: 0.3333\n",
      "Epoch 46/100\n",
      "107/107 [==============================] - 0s 2ms/step - loss: 0.6918 - accuracy: 0.5478 - val_loss: 0.6975 - val_accuracy: 0.3333\n",
      "Epoch 47/100\n",
      "107/107 [==============================] - 0s 2ms/step - loss: 0.6907 - accuracy: 0.5867 - val_loss: 0.6974 - val_accuracy: 0.3333\n",
      "Epoch 48/100\n",
      "107/107 [==============================] - 0s 2ms/step - loss: 0.6923 - accuracy: 0.5365 - val_loss: 0.6969 - val_accuracy: 0.3333\n",
      "Epoch 49/100\n",
      "107/107 [==============================] - 0s 3ms/step - loss: 0.6922 - accuracy: 0.5527 - val_loss: 0.6970 - val_accuracy: 0.3333\n",
      "Epoch 50/100\n",
      "107/107 [==============================] - 0s 3ms/step - loss: 0.6940 - accuracy: 0.4807 - val_loss: 0.6970 - val_accuracy: 0.3333\n",
      "Epoch 51/100\n",
      "107/107 [==============================] - 0s 3ms/step - loss: 0.6928 - accuracy: 0.5193 - val_loss: 0.6979 - val_accuracy: 0.3333\n",
      "Epoch 52/100\n",
      "107/107 [==============================] - 0s 3ms/step - loss: 0.6915 - accuracy: 0.5614 - val_loss: 0.6972 - val_accuracy: 0.3333\n",
      "Epoch 53/100\n",
      "107/107 [==============================] - 0s 3ms/step - loss: 0.6936 - accuracy: 0.4911 - val_loss: 0.6979 - val_accuracy: 0.3333\n",
      "Epoch 54/100\n",
      "107/107 [==============================] - 0s 2ms/step - loss: 0.6907 - accuracy: 0.5853 - val_loss: 0.6986 - val_accuracy: 0.3333\n",
      "Epoch 55/100\n",
      "107/107 [==============================] - 0s 2ms/step - loss: 0.6932 - accuracy: 0.5076 - val_loss: 0.6987 - val_accuracy: 0.3333\n",
      "Epoch 56/100\n",
      "107/107 [==============================] - 0s 2ms/step - loss: 0.6934 - accuracy: 0.4852 - val_loss: 0.6987 - val_accuracy: 0.3333\n",
      "Epoch 57/100\n",
      "107/107 [==============================] - 0s 3ms/step - loss: 0.6914 - accuracy: 0.5609 - val_loss: 0.6984 - val_accuracy: 0.3333\n"
     ]
    },
    {
     "name": "stdout",
     "output_type": "stream",
     "text": [
      "Epoch 58/100\n",
      "107/107 [==============================] - 0s 3ms/step - loss: 0.6932 - accuracy: 0.5232 - val_loss: 0.6976 - val_accuracy: 0.3333\n",
      "Epoch 59/100\n",
      "107/107 [==============================] - 0s 3ms/step - loss: 0.6943 - accuracy: 0.4528 - val_loss: 0.6977 - val_accuracy: 0.3333\n",
      "Epoch 60/100\n",
      "107/107 [==============================] - 0s 3ms/step - loss: 0.6942 - accuracy: 0.4698 - val_loss: 0.6974 - val_accuracy: 0.3333\n",
      "Epoch 61/100\n",
      "107/107 [==============================] - 0s 3ms/step - loss: 0.6932 - accuracy: 0.5016 - val_loss: 0.6978 - val_accuracy: 0.3333\n",
      "Epoch 62/100\n",
      "107/107 [==============================] - 0s 3ms/step - loss: 0.6919 - accuracy: 0.5538 - val_loss: 0.6981 - val_accuracy: 0.3333\n",
      "Epoch 63/100\n",
      "107/107 [==============================] - 0s 3ms/step - loss: 0.6941 - accuracy: 0.4774 - val_loss: 0.6977 - val_accuracy: 0.3333\n",
      "Epoch 64/100\n",
      "107/107 [==============================] - 0s 2ms/step - loss: 0.6936 - accuracy: 0.4991 - val_loss: 0.6979 - val_accuracy: 0.3333\n",
      "Epoch 65/100\n",
      "107/107 [==============================] - 0s 2ms/step - loss: 0.6940 - accuracy: 0.4779 - val_loss: 0.6978 - val_accuracy: 0.3333\n",
      "Epoch 66/100\n",
      "107/107 [==============================] - 0s 2ms/step - loss: 0.6920 - accuracy: 0.5420 - val_loss: 0.6984 - val_accuracy: 0.3333\n",
      "Epoch 67/100\n",
      "107/107 [==============================] - 0s 3ms/step - loss: 0.6951 - accuracy: 0.4459 - val_loss: 0.6980 - val_accuracy: 0.3333\n",
      "Epoch 68/100\n",
      "107/107 [==============================] - 0s 3ms/step - loss: 0.6933 - accuracy: 0.5064 - val_loss: 0.6982 - val_accuracy: 0.3333\n",
      "Epoch 69/100\n",
      "107/107 [==============================] - 0s 3ms/step - loss: 0.6932 - accuracy: 0.5082 - val_loss: 0.6988 - val_accuracy: 0.3333\n",
      "Epoch 70/100\n",
      "107/107 [==============================] - 0s 3ms/step - loss: 0.6917 - accuracy: 0.5527 - val_loss: 0.6979 - val_accuracy: 0.3333\n",
      "Epoch 71/100\n",
      "107/107 [==============================] - 0s 3ms/step - loss: 0.6930 - accuracy: 0.5095 - val_loss: 0.6982 - val_accuracy: 0.3333\n",
      "Epoch 72/100\n",
      "107/107 [==============================] - 0s 3ms/step - loss: 0.6937 - accuracy: 0.4866 - val_loss: 0.6978 - val_accuracy: 0.3333\n",
      "Epoch 73/100\n",
      "107/107 [==============================] - 0s 3ms/step - loss: 0.6917 - accuracy: 0.5621 - val_loss: 0.6976 - val_accuracy: 0.3333\n",
      "Epoch 74/100\n",
      "107/107 [==============================] - 0s 3ms/step - loss: 0.6938 - accuracy: 0.4858 - val_loss: 0.6975 - val_accuracy: 0.3333\n",
      "Epoch 75/100\n",
      "107/107 [==============================] - 0s 3ms/step - loss: 0.6921 - accuracy: 0.5465 - val_loss: 0.6980 - val_accuracy: 0.3333\n",
      "Epoch 76/100\n",
      "107/107 [==============================] - 0s 2ms/step - loss: 0.6947 - accuracy: 0.4521 - val_loss: 0.6974 - val_accuracy: 0.3333\n",
      "Epoch 77/100\n",
      "107/107 [==============================] - 0s 2ms/step - loss: 0.6940 - accuracy: 0.4741 - val_loss: 0.6986 - val_accuracy: 0.3333\n",
      "Epoch 78/100\n",
      "107/107 [==============================] - 0s 2ms/step - loss: 0.6953 - accuracy: 0.4403 - val_loss: 0.6982 - val_accuracy: 0.3333\n",
      "Epoch 79/100\n",
      "107/107 [==============================] - 0s 3ms/step - loss: 0.6946 - accuracy: 0.4536 - val_loss: 0.6974 - val_accuracy: 0.3333\n",
      "Epoch 80/100\n",
      "107/107 [==============================] - 0s 3ms/step - loss: 0.6923 - accuracy: 0.5366 - val_loss: 0.6980 - val_accuracy: 0.3333\n",
      "Epoch 81/100\n",
      "107/107 [==============================] - 0s 3ms/step - loss: 0.6933 - accuracy: 0.5024 - val_loss: 0.6978 - val_accuracy: 0.3333\n",
      "Epoch 82/100\n",
      "107/107 [==============================] - 0s 3ms/step - loss: 0.6924 - accuracy: 0.5320 - val_loss: 0.6975 - val_accuracy: 0.3333\n",
      "Epoch 83/100\n",
      "107/107 [==============================] - 0s 3ms/step - loss: 0.6922 - accuracy: 0.5452 - val_loss: 0.6982 - val_accuracy: 0.3333\n",
      "Epoch 84/100\n",
      "107/107 [==============================] - 0s 3ms/step - loss: 0.6933 - accuracy: 0.5015 - val_loss: 0.6976 - val_accuracy: 0.3333\n",
      "Epoch 85/100\n",
      "107/107 [==============================] - 0s 3ms/step - loss: 0.6932 - accuracy: 0.5011 - val_loss: 0.6977 - val_accuracy: 0.3333\n",
      "Epoch 86/100\n",
      "107/107 [==============================] - 0s 3ms/step - loss: 0.6935 - accuracy: 0.4947 - val_loss: 0.6980 - val_accuracy: 0.3333\n",
      "Epoch 87/100\n",
      "107/107 [==============================] - 0s 3ms/step - loss: 0.6944 - accuracy: 0.4633 - val_loss: 0.6978 - val_accuracy: 0.3333\n",
      "Epoch 88/100\n",
      "107/107 [==============================] - 0s 3ms/step - loss: 0.6938 - accuracy: 0.4831 - val_loss: 0.6978 - val_accuracy: 0.3333\n",
      "Epoch 89/100\n",
      "107/107 [==============================] - 0s 2ms/step - loss: 0.6933 - accuracy: 0.5017 - val_loss: 0.6974 - val_accuracy: 0.3333\n",
      "Epoch 90/100\n",
      "107/107 [==============================] - 0s 2ms/step - loss: 0.6915 - accuracy: 0.5703 - val_loss: 0.6978 - val_accuracy: 0.3333\n",
      "Epoch 91/100\n",
      "107/107 [==============================] - 0s 3ms/step - loss: 0.6922 - accuracy: 0.5412 - val_loss: 0.6979 - val_accuracy: 0.3333\n",
      "Epoch 92/100\n",
      "107/107 [==============================] - 0s 3ms/step - loss: 0.6923 - accuracy: 0.5377 - val_loss: 0.6981 - val_accuracy: 0.3333\n",
      "Epoch 93/100\n",
      "107/107 [==============================] - 0s 3ms/step - loss: 0.6928 - accuracy: 0.5172 - val_loss: 0.6982 - val_accuracy: 0.3333\n",
      "Epoch 94/100\n",
      "107/107 [==============================] - 0s 3ms/step - loss: 0.6921 - accuracy: 0.5411 - val_loss: 0.6984 - val_accuracy: 0.3333\n",
      "Epoch 95/100\n",
      "107/107 [==============================] - 0s 3ms/step - loss: 0.6923 - accuracy: 0.5358 - val_loss: 0.6980 - val_accuracy: 0.3333\n",
      "Epoch 96/100\n",
      "107/107 [==============================] - 0s 3ms/step - loss: 0.6931 - accuracy: 0.5090 - val_loss: 0.6977 - val_accuracy: 0.3333\n",
      "Epoch 97/100\n",
      "107/107 [==============================] - 0s 3ms/step - loss: 0.6940 - accuracy: 0.4726 - val_loss: 0.6982 - val_accuracy: 0.3333\n",
      "Epoch 98/100\n",
      "107/107 [==============================] - 0s 3ms/step - loss: 0.6925 - accuracy: 0.5261 - val_loss: 0.6983 - val_accuracy: 0.3333\n",
      "Epoch 99/100\n",
      "107/107 [==============================] - 0s 3ms/step - loss: 0.6948 - accuracy: 0.4485 - val_loss: 0.6978 - val_accuracy: 0.3333\n",
      "Epoch 100/100\n",
      "107/107 [==============================] - 0s 2ms/step - loss: 0.6940 - accuracy: 0.4745 - val_loss: 0.6986 - val_accuracy: 0.3333\n"
     ]
    }
   ],
   "source": [
    "# Train the ANN\n",
    "history = model.fit(X_train, y_train, batch_size = 2, epochs = 100, validation_split=0.2)"
   ]
  },
  {
   "cell_type": "code",
   "execution_count": 59,
   "metadata": {},
   "outputs": [
    {
     "data": {
      "image/png": "[encoded data removed]",
      "text/plain": [
       "<Figure size 432x288 with 1 Axes>"
      ]
     },
     "metadata": {
      "needs_background": "light"
     },
     "output_type": "display_data"
    },
    {
     "data": {
      "image/png": "[encoded data removed]",
      "text/plain": [
       "<Figure size 432x288 with 1 Axes>"
      ]
     },
     "metadata": {
      "needs_background": "light"
     },
     "output_type": "display_data"
    }
   ],
   "source": [
    "history_df = pd.DataFrame(history.history)\n",
    "\n",
    "plt.plot(history_df.loc[:, ['loss']], \"#CD5C5C\", label='Training loss')\n",
    "plt.plot(history_df.loc[:, ['val_loss']],\"#FF0000\", label='Validation loss')\n",
    "plt.title('Training and Validation loss')\n",
    "plt.xlabel('Epochs')\n",
    "plt.ylabel('Loss')\n",
    "plt.legend(loc=\"best\")\n",
    "\n",
    "plt.show()\n",
    "\n",
    "history_df = pd.DataFrame(history.history)\n",
    "\n",
    "plt.plot(history_df.loc[:, ['accuracy']], \"#CD5C5C\", label='Training accuracy')\n",
    "plt.plot(history_df.loc[:, ['val_accuracy']],\"#FF0000\", label='Validation accuracy')\n",
    "\n",
    "plt.title('Training and Validation accuracy')\n",
    "plt.xlabel('Epochs')\n",
    "plt.ylabel('Accuracy')\n",
    "plt.legend()\n",
    "plt.show()"
   ]
  },
  {
   "cell_type": "code",
   "execution_count": 60,
   "metadata": {},
   "outputs": [
    {
     "name": "stdout",
     "output_type": "stream",
     "text": [
      "WARNING:tensorflow:6 out of the last 6 calls to <function Model.make_predict_function.<locals>.predict_function at 0x000002178944D678> triggered tf.function retracing. Tracing is expensive and the excessive number of tracings could be due to (1) creating @tf.function repeatedly in a loop, (2) passing tensors with different shapes, (3) passing Python objects instead of tensors. For (1), please define your @tf.function outside of the loop. For (2), @tf.function has experimental_relax_shapes=True option that relaxes argument shapes that can avoid unnecessary retracing. For (3), please refer to https://www.tensorflow.org/guide/function#controlling_retracing and https://www.tensorflow.org/api_docs/python/tf/function for  more details.\n"
     ]
    }
   ],
   "source": [
    "# Predicting the test set results\n",
    "y_pred = model.predict(X_test)\n",
    "y_pred = (y_pred > 0.4)\n",
    "\n",
    "dnn_8_acc = accuracy_score(y_pred, y_test)\n",
    "dnn_8_prec = precision_score(y_pred, y_test,average='weighted')\n",
    "dnn_8_rec = recall_score(y_pred, y_test,average='weighted')\n",
    "dnn_8_f1 = f1_score(y_pred, y_test,average='weighted')\n",
    "dnn_8_spec = specificity_score(y_pred, y_test,average='weighted')\n",
    "dnn_8_sens = sensitivity_score(y_pred, y_test,average='weighted')"
   ]
  },
  {
   "cell_type": "code",
   "execution_count": 80,
   "metadata": {},
   "outputs": [],
   "source": [
    "storeResults1('DNN - 8 Layers',dnn_8_acc,dnn_8_prec,dnn_8_rec,dnn_8_f1,dnn_8_spec,dnn_8_sens)"
   ]
  },
  {
   "cell_type": "markdown",
   "metadata": {},
   "source": [
    "# 9 Layers"
   ]
  },
  {
   "cell_type": "code",
   "execution_count": 61,
   "metadata": {},
   "outputs": [],
   "source": [
    "# Initialising the NN\n",
    "model = Sequential()\n",
    "\n",
    "# layers\n",
    "model.add(Dense(units = 128, kernel_initializer = 'uniform', activation = 'relu', input_dim = 13))\n",
    "model.add(Dense(units = 64, kernel_initializer = 'uniform', activation = 'relu'))\n",
    "model.add(Dropout(0.25))\n",
    "model.add(Dense(units = 64, kernel_initializer = 'uniform', activation = 'relu'))\n",
    "model.add(Dropout(0.5))\n",
    "model.add(Dense(units = 32, kernel_initializer = 'uniform', activation = 'relu'))\n",
    "model.add(Dropout(0.5))\n",
    "model.add(Dense(units = 32, kernel_initializer = 'uniform', activation = 'relu'))\n",
    "model.add(Dropout(0.5))\n",
    "model.add(Dense(units = 16, kernel_initializer = 'uniform', activation = 'relu'))\n",
    "model.add(Dropout(0.5))\n",
    "model.add(Dense(units = 16, kernel_initializer = 'uniform', activation = 'relu'))\n",
    "model.add(Dropout(0.5))\n",
    "model.add(Dense(units = 8, kernel_initializer = 'uniform', activation = 'relu'))\n",
    "model.add(Dropout(0.5))\n",
    "model.add(Dense(units = 8, kernel_initializer = 'uniform', activation = 'relu'))\n",
    "model.add(Dropout(0.5))\n",
    "model.add(Dense(units = 1, kernel_initializer = 'uniform', activation = 'sigmoid'))\n",
    "\n",
    "# Compiling the ANN\n",
    "model.compile(optimizer = 'adam', loss = 'binary_crossentropy', metrics = ['accuracy'])"
   ]
  },
  {
   "cell_type": "code",
   "execution_count": 62,
   "metadata": {},
   "outputs": [
    {
     "name": "stdout",
     "output_type": "stream",
     "text": [
      "Epoch 1/100\n",
      "107/107 [==============================] - 6s 14ms/step - loss: 0.6933 - accuracy: 0.4621 - val_loss: 0.6935 - val_accuracy: 0.3333\n",
      "Epoch 2/100\n",
      "107/107 [==============================] - 0s 3ms/step - loss: 0.6932 - accuracy: 0.5508 - val_loss: 0.6936 - val_accuracy: 0.3333\n",
      "Epoch 3/100\n",
      "107/107 [==============================] - 0s 3ms/step - loss: 0.6933 - accuracy: 0.4720 - val_loss: 0.6939 - val_accuracy: 0.3333\n",
      "Epoch 4/100\n",
      "107/107 [==============================] - 0s 3ms/step - loss: 0.6930 - accuracy: 0.5311 - val_loss: 0.6946 - val_accuracy: 0.3333\n",
      "Epoch 5/100\n",
      "107/107 [==============================] - 0s 3ms/step - loss: 0.6934 - accuracy: 0.4777 - val_loss: 0.6948 - val_accuracy: 0.3333\n",
      "Epoch 6/100\n",
      "107/107 [==============================] - 0s 3ms/step - loss: 0.6935 - accuracy: 0.4648 - val_loss: 0.6950 - val_accuracy: 0.3333\n",
      "Epoch 7/100\n",
      "107/107 [==============================] - 0s 3ms/step - loss: 0.6930 - accuracy: 0.5253 - val_loss: 0.6954 - val_accuracy: 0.3333\n",
      "Epoch 8/100\n",
      "107/107 [==============================] - 0s 3ms/step - loss: 0.6931 - accuracy: 0.5136 - val_loss: 0.6955 - val_accuracy: 0.3333\n",
      "Epoch 9/100\n",
      "107/107 [==============================] - 0s 3ms/step - loss: 0.6931 - accuracy: 0.5110 - val_loss: 0.6960 - val_accuracy: 0.3333\n",
      "Epoch 10/100\n",
      "107/107 [==============================] - 0s 3ms/step - loss: 0.6913 - accuracy: 0.6052 - val_loss: 0.6963 - val_accuracy: 0.3333\n",
      "Epoch 11/100\n",
      "107/107 [==============================] - 0s 3ms/step - loss: 0.6932 - accuracy: 0.5049 - val_loss: 0.6964 - val_accuracy: 0.3333\n",
      "Epoch 12/100\n",
      "107/107 [==============================] - 0s 2ms/step - loss: 0.6937 - accuracy: 0.4761 - val_loss: 0.6968 - val_accuracy: 0.3333\n",
      "Epoch 13/100\n",
      "107/107 [==============================] - 0s 4ms/step - loss: 0.6925 - accuracy: 0.5354 - val_loss: 0.6972 - val_accuracy: 0.3333\n",
      "Epoch 14/100\n",
      "107/107 [==============================] - 0s 3ms/step - loss: 0.6925 - accuracy: 0.5309 - val_loss: 0.6969 - val_accuracy: 0.3333\n",
      "Epoch 15/100\n",
      "107/107 [==============================] - 0s 2ms/step - loss: 0.6932 - accuracy: 0.5068 - val_loss: 0.6963 - val_accuracy: 0.3333\n",
      "Epoch 16/100\n",
      "107/107 [==============================] - 0s 2ms/step - loss: 0.6926 - accuracy: 0.5330 - val_loss: 0.6965 - val_accuracy: 0.3333\n",
      "Epoch 17/100\n",
      "107/107 [==============================] - 0s 2ms/step - loss: 0.6938 - accuracy: 0.4710 - val_loss: 0.6968 - val_accuracy: 0.3333\n",
      "Epoch 18/100\n",
      "107/107 [==============================] - 0s 2ms/step - loss: 0.6926 - accuracy: 0.5318 - val_loss: 0.6968 - val_accuracy: 0.3333\n",
      "Epoch 19/100\n",
      "107/107 [==============================] - 0s 2ms/step - loss: 0.6937 - accuracy: 0.4826 - val_loss: 0.6971 - val_accuracy: 0.3333\n",
      "Epoch 20/100\n",
      "107/107 [==============================] - 0s 2ms/step - loss: 0.6927 - accuracy: 0.5262 - val_loss: 0.6972 - val_accuracy: 0.3333\n",
      "Epoch 21/100\n",
      "107/107 [==============================] - 0s 2ms/step - loss: 0.6922 - accuracy: 0.5460 - val_loss: 0.6974 - val_accuracy: 0.3333\n",
      "Epoch 22/100\n",
      "107/107 [==============================] - 0s 2ms/step - loss: 0.6942 - accuracy: 0.4591 - val_loss: 0.6973 - val_accuracy: 0.3333\n",
      "Epoch 23/100\n",
      "107/107 [==============================] - 0s 2ms/step - loss: 0.6933 - accuracy: 0.5007 - val_loss: 0.6971 - val_accuracy: 0.3333\n",
      "Epoch 24/100\n",
      "107/107 [==============================] - 0s 2ms/step - loss: 0.6933 - accuracy: 0.4975 - val_loss: 0.6970 - val_accuracy: 0.3333\n",
      "Epoch 25/100\n",
      "107/107 [==============================] - 0s 2ms/step - loss: 0.6932 - accuracy: 0.5029 - val_loss: 0.6976 - val_accuracy: 0.3333\n",
      "Epoch 26/100\n",
      "107/107 [==============================] - 0s 2ms/step - loss: 0.6927 - accuracy: 0.5240 - val_loss: 0.6974 - val_accuracy: 0.3333\n",
      "Epoch 27/100\n",
      "107/107 [==============================] - 0s 2ms/step - loss: 0.6934 - accuracy: 0.4936 - val_loss: 0.6973 - val_accuracy: 0.3333\n",
      "Epoch 28/100\n",
      "107/107 [==============================] - 0s 2ms/step - loss: 0.6928 - accuracy: 0.5224 - val_loss: 0.6976 - val_accuracy: 0.3333\n",
      "Epoch 29/100\n",
      "107/107 [==============================] - 0s 2ms/step - loss: 0.6935 - accuracy: 0.4936 - val_loss: 0.6977 - val_accuracy: 0.3333\n",
      "Epoch 30/100\n",
      "107/107 [==============================] - 0s 2ms/step - loss: 0.6939 - accuracy: 0.4793 - val_loss: 0.6975 - val_accuracy: 0.3333\n",
      "Epoch 31/100\n",
      "107/107 [==============================] - 0s 2ms/step - loss: 0.6932 - accuracy: 0.5021 - val_loss: 0.6982 - val_accuracy: 0.3333\n",
      "Epoch 32/100\n",
      "107/107 [==============================] - 0s 2ms/step - loss: 0.6936 - accuracy: 0.4917 - val_loss: 0.6974 - val_accuracy: 0.3333\n",
      "Epoch 33/100\n",
      "107/107 [==============================] - 0s 2ms/step - loss: 0.6931 - accuracy: 0.5061 - val_loss: 0.6970 - val_accuracy: 0.3333\n",
      "Epoch 34/100\n",
      "107/107 [==============================] - 0s 2ms/step - loss: 0.6924 - accuracy: 0.5416 - val_loss: 0.6975 - val_accuracy: 0.3333\n",
      "Epoch 35/100\n",
      "107/107 [==============================] - 0s 2ms/step - loss: 0.6928 - accuracy: 0.5188 - val_loss: 0.6973 - val_accuracy: 0.3333\n",
      "Epoch 36/100\n",
      "107/107 [==============================] - 0s 2ms/step - loss: 0.6937 - accuracy: 0.4843 - val_loss: 0.6976 - val_accuracy: 0.3333\n",
      "Epoch 37/100\n",
      "107/107 [==============================] - 0s 2ms/step - loss: 0.6935 - accuracy: 0.4917 - val_loss: 0.6971 - val_accuracy: 0.3333\n",
      "Epoch 38/100\n",
      "107/107 [==============================] - 0s 2ms/step - loss: 0.6920 - accuracy: 0.5507 - val_loss: 0.6977 - val_accuracy: 0.3333\n",
      "Epoch 39/100\n",
      "107/107 [==============================] - 0s 2ms/step - loss: 0.6931 - accuracy: 0.5058 - val_loss: 0.6977 - val_accuracy: 0.3333\n",
      "Epoch 40/100\n",
      "107/107 [==============================] - 0s 2ms/step - loss: 0.6932 - accuracy: 0.5027 - val_loss: 0.6980 - val_accuracy: 0.3333\n",
      "Epoch 41/100\n",
      "107/107 [==============================] - 0s 2ms/step - loss: 0.6938 - accuracy: 0.4856 - val_loss: 0.6984 - val_accuracy: 0.3333\n",
      "Epoch 42/100\n",
      "107/107 [==============================] - 0s 2ms/step - loss: 0.6917 - accuracy: 0.5540 - val_loss: 0.6977 - val_accuracy: 0.3333\n",
      "Epoch 43/100\n",
      "107/107 [==============================] - 0s 2ms/step - loss: 0.6939 - accuracy: 0.4783 - val_loss: 0.6979 - val_accuracy: 0.3333\n",
      "Epoch 44/100\n",
      "107/107 [==============================] - 0s 2ms/step - loss: 0.6936 - accuracy: 0.4899 - val_loss: 0.6981 - val_accuracy: 0.3333\n",
      "Epoch 45/100\n",
      "107/107 [==============================] - 0s 2ms/step - loss: 0.6913 - accuracy: 0.5738 - val_loss: 0.6975 - val_accuracy: 0.3333\n",
      "Epoch 46/100\n",
      "107/107 [==============================] - 0s 2ms/step - loss: 0.6935 - accuracy: 0.4957 - val_loss: 0.6976 - val_accuracy: 0.3333\n",
      "Epoch 47/100\n",
      "107/107 [==============================] - 0s 2ms/step - loss: 0.6920 - accuracy: 0.5493 - val_loss: 0.6981 - val_accuracy: 0.3333\n",
      "Epoch 48/100\n",
      "107/107 [==============================] - 0s 2ms/step - loss: 0.6928 - accuracy: 0.5200 - val_loss: 0.6974 - val_accuracy: 0.3333\n",
      "Epoch 49/100\n",
      "107/107 [==============================] - 0s 2ms/step - loss: 0.6937 - accuracy: 0.4880 - val_loss: 0.6972 - val_accuracy: 0.3333\n",
      "Epoch 50/100\n",
      "107/107 [==============================] - 0s 2ms/step - loss: 0.6924 - accuracy: 0.5318 - val_loss: 0.6983 - val_accuracy: 0.3333\n",
      "Epoch 51/100\n",
      "107/107 [==============================] - 0s 2ms/step - loss: 0.6912 - accuracy: 0.5719 - val_loss: 0.6977 - val_accuracy: 0.3333\n",
      "Epoch 52/100\n",
      "107/107 [==============================] - 0s 2ms/step - loss: 0.6930 - accuracy: 0.5119 - val_loss: 0.6982 - val_accuracy: 0.3333\n",
      "Epoch 53/100\n",
      "107/107 [==============================] - 0s 2ms/step - loss: 0.6922 - accuracy: 0.5415 - val_loss: 0.6975 - val_accuracy: 0.3333\n",
      "Epoch 54/100\n",
      "107/107 [==============================] - 0s 2ms/step - loss: 0.6929 - accuracy: 0.5144 - val_loss: 0.6981 - val_accuracy: 0.3333\n",
      "Epoch 55/100\n",
      "107/107 [==============================] - 0s 2ms/step - loss: 0.6936 - accuracy: 0.4898 - val_loss: 0.6974 - val_accuracy: 0.3333\n",
      "Epoch 56/100\n",
      "107/107 [==============================] - 0s 2ms/step - loss: 0.6945 - accuracy: 0.4541 - val_loss: 0.6973 - val_accuracy: 0.3333\n",
      "Epoch 57/100\n",
      "107/107 [==============================] - 0s 2ms/step - loss: 0.6932 - accuracy: 0.5014 - val_loss: 0.6982 - val_accuracy: 0.3333\n"
     ]
    },
    {
     "name": "stdout",
     "output_type": "stream",
     "text": [
      "Epoch 58/100\n",
      "107/107 [==============================] - 0s 2ms/step - loss: 0.6926 - accuracy: 0.5250 - val_loss: 0.6986 - val_accuracy: 0.3333\n",
      "Epoch 59/100\n",
      "107/107 [==============================] - 0s 2ms/step - loss: 0.6937 - accuracy: 0.4910 - val_loss: 0.6980 - val_accuracy: 0.3333\n",
      "Epoch 60/100\n",
      "107/107 [==============================] - 0s 2ms/step - loss: 0.6938 - accuracy: 0.4829 - val_loss: 0.6979 - val_accuracy: 0.3333\n",
      "Epoch 61/100\n",
      "107/107 [==============================] - 0s 2ms/step - loss: 0.6930 - accuracy: 0.5111 - val_loss: 0.6975 - val_accuracy: 0.3333\n",
      "Epoch 62/100\n",
      "107/107 [==============================] - 0s 2ms/step - loss: 0.6937 - accuracy: 0.4818 - val_loss: 0.6972 - val_accuracy: 0.3333\n",
      "Epoch 63/100\n",
      "107/107 [==============================] - 0s 2ms/step - loss: 0.6936 - accuracy: 0.4893 - val_loss: 0.6979 - val_accuracy: 0.3333\n",
      "Epoch 64/100\n",
      "107/107 [==============================] - 0s 2ms/step - loss: 0.6928 - accuracy: 0.5202 - val_loss: 0.6978 - val_accuracy: 0.3333\n",
      "Epoch 65/100\n",
      "107/107 [==============================] - 0s 2ms/step - loss: 0.6915 - accuracy: 0.5626 - val_loss: 0.6983 - val_accuracy: 0.3333\n",
      "Epoch 66/100\n",
      "107/107 [==============================] - 0s 2ms/step - loss: 0.6932 - accuracy: 0.5041 - val_loss: 0.6974 - val_accuracy: 0.3333\n",
      "Epoch 67/100\n",
      "107/107 [==============================] - 0s 2ms/step - loss: 0.6934 - accuracy: 0.4996 - val_loss: 0.6976 - val_accuracy: 0.3333\n",
      "Epoch 68/100\n",
      "107/107 [==============================] - 0s 2ms/step - loss: 0.6929 - accuracy: 0.5163 - val_loss: 0.6975 - val_accuracy: 0.3333\n",
      "Epoch 69/100\n",
      "107/107 [==============================] - 0s 2ms/step - loss: 0.6915 - accuracy: 0.5674 - val_loss: 0.6975 - val_accuracy: 0.3333\n",
      "Epoch 70/100\n",
      "107/107 [==============================] - 0s 2ms/step - loss: 0.6939 - accuracy: 0.4797 - val_loss: 0.6974 - val_accuracy: 0.3333\n",
      "Epoch 71/100\n",
      "107/107 [==============================] - 0s 2ms/step - loss: 0.6930 - accuracy: 0.5094 - val_loss: 0.6971 - val_accuracy: 0.3333\n",
      "Epoch 72/100\n",
      "107/107 [==============================] - 0s 2ms/step - loss: 0.6912 - accuracy: 0.5824 - val_loss: 0.6975 - val_accuracy: 0.3333\n",
      "Epoch 73/100\n",
      "107/107 [==============================] - 0s 2ms/step - loss: 0.6921 - accuracy: 0.5476 - val_loss: 0.6976 - val_accuracy: 0.3333\n",
      "Epoch 74/100\n",
      "107/107 [==============================] - 0s 2ms/step - loss: 0.6920 - accuracy: 0.5518 - val_loss: 0.6973 - val_accuracy: 0.3333\n",
      "Epoch 75/100\n",
      "107/107 [==============================] - 0s 2ms/step - loss: 0.6935 - accuracy: 0.4940 - val_loss: 0.6969 - val_accuracy: 0.3333\n",
      "Epoch 76/100\n",
      "107/107 [==============================] - 0s 2ms/step - loss: 0.6924 - accuracy: 0.5390 - val_loss: 0.6966 - val_accuracy: 0.3333\n",
      "Epoch 77/100\n",
      "107/107 [==============================] - 0s 2ms/step - loss: 0.6943 - accuracy: 0.4444 - val_loss: 0.6964 - val_accuracy: 0.3333\n",
      "Epoch 78/100\n",
      "107/107 [==============================] - 0s 2ms/step - loss: 0.6926 - accuracy: 0.5312 - val_loss: 0.6970 - val_accuracy: 0.3333\n",
      "Epoch 79/100\n",
      "107/107 [==============================] - 0s 2ms/step - loss: 0.6947 - accuracy: 0.4336 - val_loss: 0.6975 - val_accuracy: 0.3333\n",
      "Epoch 80/100\n",
      "107/107 [==============================] - 0s 2ms/step - loss: 0.6943 - accuracy: 0.4618 - val_loss: 0.6971 - val_accuracy: 0.3333\n",
      "Epoch 81/100\n",
      "107/107 [==============================] - 0s 2ms/step - loss: 0.6931 - accuracy: 0.5088 - val_loss: 0.6971 - val_accuracy: 0.3333\n",
      "Epoch 82/100\n",
      "107/107 [==============================] - 0s 2ms/step - loss: 0.6922 - accuracy: 0.5430 - val_loss: 0.6979 - val_accuracy: 0.3333\n",
      "Epoch 83/100\n",
      "107/107 [==============================] - 0s 2ms/step - loss: 0.6942 - accuracy: 0.4665 - val_loss: 0.6976 - val_accuracy: 0.3333\n",
      "Epoch 84/100\n",
      "107/107 [==============================] - 0s 2ms/step - loss: 0.6927 - accuracy: 0.5236 - val_loss: 0.6977 - val_accuracy: 0.3333\n",
      "Epoch 85/100\n",
      "107/107 [==============================] - 0s 2ms/step - loss: 0.6927 - accuracy: 0.5208 - val_loss: 0.6977 - val_accuracy: 0.3333\n",
      "Epoch 86/100\n",
      "107/107 [==============================] - 0s 2ms/step - loss: 0.6939 - accuracy: 0.4751 - val_loss: 0.6974 - val_accuracy: 0.3333\n",
      "Epoch 87/100\n",
      "107/107 [==============================] - 0s 2ms/step - loss: 0.6925 - accuracy: 0.5320 - val_loss: 0.6979 - val_accuracy: 0.3333\n",
      "Epoch 88/100\n",
      "107/107 [==============================] - 0s 2ms/step - loss: 0.6937 - accuracy: 0.4841 - val_loss: 0.6977 - val_accuracy: 0.3333\n",
      "Epoch 89/100\n",
      "107/107 [==============================] - 0s 2ms/step - loss: 0.6914 - accuracy: 0.5725 - val_loss: 0.6976 - val_accuracy: 0.3333\n",
      "Epoch 90/100\n",
      "107/107 [==============================] - 0s 2ms/step - loss: 0.6924 - accuracy: 0.5362 - val_loss: 0.6978 - val_accuracy: 0.3333\n",
      "Epoch 91/100\n",
      "107/107 [==============================] - 0s 2ms/step - loss: 0.6923 - accuracy: 0.5384 - val_loss: 0.6978 - val_accuracy: 0.3333\n",
      "Epoch 92/100\n",
      "107/107 [==============================] - 0s 2ms/step - loss: 0.6928 - accuracy: 0.5199 - val_loss: 0.6980 - val_accuracy: 0.3333\n",
      "Epoch 93/100\n",
      "107/107 [==============================] - 0s 2ms/step - loss: 0.6923 - accuracy: 0.5357 - val_loss: 0.6971 - val_accuracy: 0.3333\n",
      "Epoch 94/100\n",
      "107/107 [==============================] - 0s 2ms/step - loss: 0.6933 - accuracy: 0.5033 - val_loss: 0.6975 - val_accuracy: 0.3333\n",
      "Epoch 95/100\n",
      "107/107 [==============================] - 0s 2ms/step - loss: 0.6939 - accuracy: 0.4804 - val_loss: 0.6979 - val_accuracy: 0.3333\n",
      "Epoch 96/100\n",
      "107/107 [==============================] - 0s 2ms/step - loss: 0.6932 - accuracy: 0.5046 - val_loss: 0.6973 - val_accuracy: 0.3333\n",
      "Epoch 97/100\n",
      "107/107 [==============================] - 0s 2ms/step - loss: 0.6927 - accuracy: 0.5256 - val_loss: 0.6969 - val_accuracy: 0.3333\n",
      "Epoch 98/100\n",
      "107/107 [==============================] - 0s 2ms/step - loss: 0.6933 - accuracy: 0.5001 - val_loss: 0.6978 - val_accuracy: 0.3333\n",
      "Epoch 99/100\n",
      "107/107 [==============================] - 0s 2ms/step - loss: 0.6932 - accuracy: 0.5052 - val_loss: 0.6975 - val_accuracy: 0.3333\n",
      "Epoch 100/100\n",
      "107/107 [==============================] - 0s 2ms/step - loss: 0.6917 - accuracy: 0.5621 - val_loss: 0.6974 - val_accuracy: 0.3333\n"
     ]
    }
   ],
   "source": [
    "# Train the ANN\n",
    "history = model.fit(X_train, y_train, batch_size = 2, epochs = 100, validation_split=0.2)"
   ]
  },
  {
   "cell_type": "code",
   "execution_count": 63,
   "metadata": {},
   "outputs": [
    {
     "data": {
      "image/png": "[encoded data removed]",
      "text/plain": [
       "<Figure size 432x288 with 1 Axes>"
      ]
     },
     "metadata": {
      "needs_background": "light"
     },
     "output_type": "display_data"
    },
    {
     "data": {
      "image/png": "[encoded data removed]",
      "text/plain": [
       "<Figure size 432x288 with 1 Axes>"
      ]
     },
     "metadata": {
      "needs_background": "light"
     },
     "output_type": "display_data"
    }
   ],
   "source": [
    "history_df = pd.DataFrame(history.history)\n",
    "\n",
    "plt.plot(history_df.loc[:, ['loss']], \"#CD5C5C\", label='Training loss')\n",
    "plt.plot(history_df.loc[:, ['val_loss']],\"#FF0000\", label='Validation loss')\n",
    "plt.title('Training and Validation loss')\n",
    "plt.xlabel('Epochs')\n",
    "plt.ylabel('Loss')\n",
    "plt.legend(loc=\"best\")\n",
    "\n",
    "plt.show()\n",
    "\n",
    "history_df = pd.DataFrame(history.history)\n",
    "\n",
    "plt.plot(history_df.loc[:, ['accuracy']], \"#CD5C5C\", label='Training accuracy')\n",
    "plt.plot(history_df.loc[:, ['val_accuracy']],\"#FF0000\", label='Validation accuracy')\n",
    "\n",
    "plt.title('Training and Validation accuracy')\n",
    "plt.xlabel('Epochs')\n",
    "plt.ylabel('Accuracy')\n",
    "plt.legend()\n",
    "plt.show()"
   ]
  },
  {
   "cell_type": "code",
   "execution_count": 64,
   "metadata": {},
   "outputs": [],
   "source": [
    "# Predicting the test set results\n",
    "y_pred = model.predict(X_test)\n",
    "y_pred = (y_pred > 0.4)\n",
    "\n",
    "dnn_9_acc = accuracy_score(y_pred, y_test)\n",
    "dnn_9_prec = precision_score(y_pred, y_test,average='weighted')\n",
    "dnn_9_rec = recall_score(y_pred, y_test,average='weighted')\n",
    "dnn_9_f1 = f1_score(y_pred, y_test,average='weighted')\n",
    "dnn_9_spec = specificity_score(y_pred, y_test,average='weighted')\n",
    "dnn_9_sens = sensitivity_score(y_pred, y_test,average='weighted')"
   ]
  },
  {
   "cell_type": "code",
   "execution_count": 81,
   "metadata": {},
   "outputs": [],
   "source": [
    "storeResults1('DNN - 9 Layers',dnn_9_acc,dnn_9_prec,dnn_9_rec,dnn_9_f1,dnn_9_spec,dnn_9_sens)"
   ]
  },
  {
   "cell_type": "markdown",
   "metadata": {},
   "source": [
    "# Comparison"
   ]
  },
  {
   "cell_type": "code",
   "execution_count": 102,
   "metadata": {},
   "outputs": [],
   "source": [
    "#creating dataframe\n",
    "result = pd.DataFrame({ 'ML Model' : ML_Model,\n",
    "                        'Accuracy' : accuracy,\n",
    "                       'Precision': precision,\n",
    "                       'Recall'   : recall, \n",
    "                       'F1_score' : f1score,\n",
    "                       'Specificity' : spec,\n",
    "                       'Sensitivity' : sens\n",
    "                      }) "
   ]
  },
  {
   "cell_type": "code",
   "execution_count": 103,
   "metadata": {},
   "outputs": [
    {
     "data": {
      "text/html": [
       "<div>\n",
       "<style scoped>\n",
       "    .dataframe tbody tr th:only-of-type {\n",
       "        vertical-align: middle;\n",
       "    }\n",
       "\n",
       "    .dataframe tbody tr th {\n",
       "        vertical-align: top;\n",
       "    }\n",
       "\n",
       "    .dataframe thead th {\n",
       "        text-align: right;\n",
       "    }\n",
       "</style>\n",
       "<table border=\"1\" class=\"dataframe\">\n",
       "  <thead>\n",
       "    <tr style=\"text-align: right;\">\n",
       "      <th></th>\n",
       "      <th>ML Model</th>\n",
       "      <th>Accuracy</th>\n",
       "      <th>Precision</th>\n",
       "      <th>Recall</th>\n",
       "      <th>F1_score</th>\n",
       "      <th>Specificity</th>\n",
       "      <th>Sensitivity</th>\n",
       "    </tr>\n",
       "  </thead>\n",
       "  <tbody>\n",
       "    <tr>\n",
       "      <td>0</td>\n",
       "      <td>KNN</td>\n",
       "      <td>0.600</td>\n",
       "      <td>0.608</td>\n",
       "      <td>0.600</td>\n",
       "      <td>0.593</td>\n",
       "      <td>0.600</td>\n",
       "      <td>0.600</td>\n",
       "    </tr>\n",
       "    <tr>\n",
       "      <td>1</td>\n",
       "      <td>LinearSVC</td>\n",
       "      <td>0.933</td>\n",
       "      <td>0.945</td>\n",
       "      <td>0.933</td>\n",
       "      <td>0.935</td>\n",
       "      <td>0.971</td>\n",
       "      <td>0.933</td>\n",
       "    </tr>\n",
       "    <tr>\n",
       "      <td>2</td>\n",
       "      <td>Guassian Process</td>\n",
       "      <td>0.533</td>\n",
       "      <td>0.536</td>\n",
       "      <td>0.533</td>\n",
       "      <td>0.525</td>\n",
       "      <td>0.533</td>\n",
       "      <td>0.533</td>\n",
       "    </tr>\n",
       "    <tr>\n",
       "      <td>3</td>\n",
       "      <td>Decision Tree</td>\n",
       "      <td>0.800</td>\n",
       "      <td>0.823</td>\n",
       "      <td>0.800</td>\n",
       "      <td>0.796</td>\n",
       "      <td>0.800</td>\n",
       "      <td>0.800</td>\n",
       "    </tr>\n",
       "    <tr>\n",
       "      <td>4</td>\n",
       "      <td>Naive Bayes</td>\n",
       "      <td>0.867</td>\n",
       "      <td>0.867</td>\n",
       "      <td>0.867</td>\n",
       "      <td>0.867</td>\n",
       "      <td>0.846</td>\n",
       "      <td>0.867</td>\n",
       "    </tr>\n",
       "    <tr>\n",
       "      <td>5</td>\n",
       "      <td>QDA</td>\n",
       "      <td>0.900</td>\n",
       "      <td>0.927</td>\n",
       "      <td>0.900</td>\n",
       "      <td>0.904</td>\n",
       "      <td>0.964</td>\n",
       "      <td>0.900</td>\n",
       "    </tr>\n",
       "    <tr>\n",
       "      <td>6</td>\n",
       "      <td>AdaBoost</td>\n",
       "      <td>0.867</td>\n",
       "      <td>0.871</td>\n",
       "      <td>0.867</td>\n",
       "      <td>0.865</td>\n",
       "      <td>0.844</td>\n",
       "      <td>0.867</td>\n",
       "    </tr>\n",
       "    <tr>\n",
       "      <td>7</td>\n",
       "      <td>Bagging</td>\n",
       "      <td>0.833</td>\n",
       "      <td>0.845</td>\n",
       "      <td>0.833</td>\n",
       "      <td>0.830</td>\n",
       "      <td>0.818</td>\n",
       "      <td>0.833</td>\n",
       "    </tr>\n",
       "    <tr>\n",
       "      <td>8</td>\n",
       "      <td>Boosting</td>\n",
       "      <td>0.833</td>\n",
       "      <td>0.833</td>\n",
       "      <td>0.833</td>\n",
       "      <td>0.832</td>\n",
       "      <td>0.806</td>\n",
       "      <td>0.833</td>\n",
       "    </tr>\n",
       "    <tr>\n",
       "      <td>9</td>\n",
       "      <td>Stacking Classifier</td>\n",
       "      <td>0.933</td>\n",
       "      <td>0.933</td>\n",
       "      <td>0.933</td>\n",
       "      <td>0.933</td>\n",
       "      <td>0.931</td>\n",
       "      <td>0.933</td>\n",
       "    </tr>\n",
       "    <tr>\n",
       "      <td>10</td>\n",
       "      <td>Voting Classifier</td>\n",
       "      <td>0.933</td>\n",
       "      <td>0.933</td>\n",
       "      <td>0.933</td>\n",
       "      <td>0.933</td>\n",
       "      <td>0.931</td>\n",
       "      <td>0.933</td>\n",
       "    </tr>\n",
       "  </tbody>\n",
       "</table>\n",
       "</div>"
      ],
      "text/plain": [
       "               ML Model  Accuracy  Precision  Recall  F1_score  Specificity  \\\n",
       "0                   KNN     0.600      0.608   0.600     0.593        0.600   \n",
       "1             LinearSVC     0.933      0.945   0.933     0.935        0.971   \n",
       "2      Guassian Process     0.533      0.536   0.533     0.525        0.533   \n",
       "3         Decision Tree     0.800      0.823   0.800     0.796        0.800   \n",
       "4           Naive Bayes     0.867      0.867   0.867     0.867        0.846   \n",
       "5                   QDA     0.900      0.927   0.900     0.904        0.964   \n",
       "6              AdaBoost     0.867      0.871   0.867     0.865        0.844   \n",
       "7               Bagging     0.833      0.845   0.833     0.830        0.818   \n",
       "8              Boosting     0.833      0.833   0.833     0.832        0.806   \n",
       "9   Stacking Classifier     0.933      0.933   0.933     0.933        0.931   \n",
       "10    Voting Classifier     0.933      0.933   0.933     0.933        0.931   \n",
       "\n",
       "    Sensitivity  \n",
       "0         0.600  \n",
       "1         0.933  \n",
       "2         0.533  \n",
       "3         0.800  \n",
       "4         0.867  \n",
       "5         0.900  \n",
       "6         0.867  \n",
       "7         0.833  \n",
       "8         0.833  \n",
       "9         0.933  \n",
       "10        0.933  "
      ]
     },
     "execution_count": 103,
     "metadata": {},
     "output_type": "execute_result"
    }
   ],
   "source": [
    "result"
   ]
  },
  {
   "cell_type": "markdown",
   "metadata": {},
   "source": [
    "# Modelling"
   ]
  },
  {
   "cell_type": "code",
   "execution_count": 25,
   "metadata": {},
   "outputs": [
    {
     "data": {
      "text/plain": [
       "['model.sav']"
      ]
     },
     "execution_count": 25,
     "metadata": {},
     "output_type": "execute_result"
    }
   ],
   "source": [
    "import joblib\n",
    "filename = 'model.sav'\n",
    "joblib.dump(eclf1, filename)"
   ]
  },
  {
   "cell_type": "code",
   "execution_count": 84,
   "metadata": {},
   "outputs": [],
   "source": [
    "#creating dataframe\n",
    "result1 = pd.DataFrame({ 'ML Model' : ML_Model1,\n",
    "                        'Accuracy' : accuracy1,\n",
    "                       'Precision': precision1,\n",
    "                       'Recall'   : recall1, \n",
    "                       'F1_score' : f1score1,\n",
    "                       'Specificity' : spec1,\n",
    "                       'Sensitivity' : sens1\n",
    "                      }) "
   ]
  },
  {
   "cell_type": "code",
   "execution_count": 85,
   "metadata": {},
   "outputs": [
    {
     "data": {
      "text/html": [
       "<div>\n",
       "<style scoped>\n",
       "    .dataframe tbody tr th:only-of-type {\n",
       "        vertical-align: middle;\n",
       "    }\n",
       "\n",
       "    .dataframe tbody tr th {\n",
       "        vertical-align: top;\n",
       "    }\n",
       "\n",
       "    .dataframe thead th {\n",
       "        text-align: right;\n",
       "    }\n",
       "</style>\n",
       "<table border=\"1\" class=\"dataframe\">\n",
       "  <thead>\n",
       "    <tr style=\"text-align: right;\">\n",
       "      <th></th>\n",
       "      <th>ML Model</th>\n",
       "      <th>Accuracy</th>\n",
       "      <th>Precision</th>\n",
       "      <th>Recall</th>\n",
       "      <th>F1_score</th>\n",
       "      <th>Specificity</th>\n",
       "      <th>Sensitivity</th>\n",
       "    </tr>\n",
       "  </thead>\n",
       "  <tbody>\n",
       "    <tr>\n",
       "      <td>0</td>\n",
       "      <td>DNN - 3 Layers</td>\n",
       "      <td>0.900</td>\n",
       "      <td>0.900</td>\n",
       "      <td>0.900</td>\n",
       "      <td>0.899</td>\n",
       "      <td>0.878</td>\n",
       "      <td>0.900</td>\n",
       "    </tr>\n",
       "    <tr>\n",
       "      <td>1</td>\n",
       "      <td>DNN - 4 Layers</td>\n",
       "      <td>0.900</td>\n",
       "      <td>0.904</td>\n",
       "      <td>0.900</td>\n",
       "      <td>0.901</td>\n",
       "      <td>0.900</td>\n",
       "      <td>0.900</td>\n",
       "    </tr>\n",
       "    <tr>\n",
       "      <td>2</td>\n",
       "      <td>DNN - 5 Layers</td>\n",
       "      <td>0.867</td>\n",
       "      <td>0.915</td>\n",
       "      <td>0.867</td>\n",
       "      <td>0.875</td>\n",
       "      <td>0.959</td>\n",
       "      <td>0.867</td>\n",
       "    </tr>\n",
       "    <tr>\n",
       "      <td>3</td>\n",
       "      <td>DNN - 6 Layers</td>\n",
       "      <td>0.900</td>\n",
       "      <td>0.904</td>\n",
       "      <td>0.900</td>\n",
       "      <td>0.901</td>\n",
       "      <td>0.900</td>\n",
       "      <td>0.900</td>\n",
       "    </tr>\n",
       "    <tr>\n",
       "      <td>4</td>\n",
       "      <td>DNN - 7 Layers</td>\n",
       "      <td>0.900</td>\n",
       "      <td>0.900</td>\n",
       "      <td>0.900</td>\n",
       "      <td>0.899</td>\n",
       "      <td>0.878</td>\n",
       "      <td>0.900</td>\n",
       "    </tr>\n",
       "    <tr>\n",
       "      <td>5</td>\n",
       "      <td>DNN - 8 Layers</td>\n",
       "      <td>0.367</td>\n",
       "      <td>1.000</td>\n",
       "      <td>0.367</td>\n",
       "      <td>0.537</td>\n",
       "      <td>0.000</td>\n",
       "      <td>0.367</td>\n",
       "    </tr>\n",
       "    <tr>\n",
       "      <td>6</td>\n",
       "      <td>DNN - 9 Layers</td>\n",
       "      <td>0.367</td>\n",
       "      <td>1.000</td>\n",
       "      <td>0.367</td>\n",
       "      <td>0.537</td>\n",
       "      <td>0.000</td>\n",
       "      <td>0.367</td>\n",
       "    </tr>\n",
       "  </tbody>\n",
       "</table>\n",
       "</div>"
      ],
      "text/plain": [
       "         ML Model  Accuracy  Precision  Recall  F1_score  Specificity  \\\n",
       "0  DNN - 3 Layers     0.900      0.900   0.900     0.899        0.878   \n",
       "1  DNN - 4 Layers     0.900      0.904   0.900     0.901        0.900   \n",
       "2  DNN - 5 Layers     0.867      0.915   0.867     0.875        0.959   \n",
       "3  DNN - 6 Layers     0.900      0.904   0.900     0.901        0.900   \n",
       "4  DNN - 7 Layers     0.900      0.900   0.900     0.899        0.878   \n",
       "5  DNN - 8 Layers     0.367      1.000   0.367     0.537        0.000   \n",
       "6  DNN - 9 Layers     0.367      1.000   0.367     0.537        0.000   \n",
       "\n",
       "   Sensitivity  \n",
       "0        0.900  \n",
       "1        0.900  \n",
       "2        0.867  \n",
       "3        0.900  \n",
       "4        0.900  \n",
       "5        0.367  \n",
       "6        0.367  "
      ]
     },
     "execution_count": 85,
     "metadata": {},
     "output_type": "execute_result"
    }
   ],
   "source": [
    "result1"
   ]
  },
  {
   "cell_type": "markdown",
   "metadata": {},
   "source": [
    "# Graph"
   ]
  },
  {
   "cell_type": "markdown",
   "metadata": {},
   "source": [
    "# ML"
   ]
  },
  {
   "cell_type": "code",
   "execution_count": 104,
   "metadata": {},
   "outputs": [],
   "source": [
    "classifier = ML_Model\n",
    "y_pos = np.arange(len(classifier))"
   ]
  },
  {
   "cell_type": "markdown",
   "metadata": {},
   "source": [
    "# Accuracy"
   ]
  },
  {
   "cell_type": "code",
   "execution_count": 105,
   "metadata": {},
   "outputs": [
    {
     "data": {
      "image/png": "[encoded data removed]",
      "text/plain": [
       "<Figure size 432x288 with 1 Axes>"
      ]
     },
     "metadata": {
      "needs_background": "light"
     },
     "output_type": "display_data"
    }
   ],
   "source": [
    "import matplotlib.pyplot as plt2\n",
    "plt2.barh(y_pos, accuracy, align='center', alpha=0.5,color='blue')\n",
    "plt2.yticks(y_pos, classifier)\n",
    "plt2.xlabel('Accuracy Score')\n",
    "plt2.title('Classification Performance')\n",
    "plt2.show()"
   ]
  },
  {
   "cell_type": "markdown",
   "metadata": {},
   "source": [
    "# Precision"
   ]
  },
  {
   "cell_type": "code",
   "execution_count": 106,
   "metadata": {},
   "outputs": [
    {
     "data": {
      "image/png": "[encoded data removed]",
      "text/plain": [
       "<Figure size 432x288 with 1 Axes>"
      ]
     },
     "metadata": {
      "needs_background": "light"
     },
     "output_type": "display_data"
    }
   ],
   "source": [
    "plt2.barh(y_pos, precision, align='center', alpha=0.5,color='red')\n",
    "plt2.yticks(y_pos, classifier)\n",
    "plt2.xlabel('Precision Score')\n",
    "plt2.title('Classification Performance')\n",
    "plt2.show()"
   ]
  },
  {
   "cell_type": "markdown",
   "metadata": {},
   "source": [
    "# Recall"
   ]
  },
  {
   "cell_type": "code",
   "execution_count": 107,
   "metadata": {},
   "outputs": [
    {
     "data": {
      "image/png": "[encoded data removed]",
      "text/plain": [
       "<Figure size 432x288 with 1 Axes>"
      ]
     },
     "metadata": {
      "needs_background": "light"
     },
     "output_type": "display_data"
    }
   ],
   "source": [
    "plt2.barh(y_pos, recall, align='center', alpha=0.5,color='yellow')\n",
    "plt2.yticks(y_pos, classifier)\n",
    "plt2.xlabel('Recall Score')\n",
    "plt2.title('Classification Performance')\n",
    "plt2.show()"
   ]
  },
  {
   "cell_type": "markdown",
   "metadata": {},
   "source": [
    "# F1 SCore"
   ]
  },
  {
   "cell_type": "code",
   "execution_count": 108,
   "metadata": {},
   "outputs": [
    {
     "data": {
      "image/png": "[encoded data removed]",
      "text/plain": [
       "<Figure size 432x288 with 1 Axes>"
      ]
     },
     "metadata": {
      "needs_background": "light"
     },
     "output_type": "display_data"
    }
   ],
   "source": [
    "plt2.barh(y_pos, f1score, align='center', alpha=0.5,color='pink')\n",
    "plt2.yticks(y_pos, classifier)\n",
    "plt2.xlabel('F1 Score')\n",
    "plt2.title('Classification Performance')\n",
    "plt2.show()"
   ]
  },
  {
   "cell_type": "markdown",
   "metadata": {},
   "source": [
    "# Specificity"
   ]
  },
  {
   "cell_type": "code",
   "execution_count": 109,
   "metadata": {},
   "outputs": [
    {
     "data": {
      "image/png": "[encoded data removed]",
      "text/plain": [
       "<Figure size 432x288 with 1 Axes>"
      ]
     },
     "metadata": {
      "needs_background": "light"
     },
     "output_type": "display_data"
    }
   ],
   "source": [
    "plt2.barh(y_pos, spec, align='center', alpha=0.5,color='brown')\n",
    "plt2.yticks(y_pos, classifier)\n",
    "plt2.xlabel('Specificity')\n",
    "plt2.title('Classification Performance')\n",
    "plt2.show()"
   ]
  },
  {
   "cell_type": "markdown",
   "metadata": {},
   "source": [
    "# Sensitivity"
   ]
  },
  {
   "cell_type": "code",
   "execution_count": 110,
   "metadata": {},
   "outputs": [
    {
     "data": {
      "image/png": "[encoded data removed]",
      "text/plain": [
       "<Figure size 432x288 with 1 Axes>"
      ]
     },
     "metadata": {
      "needs_background": "light"
     },
     "output_type": "display_data"
    }
   ],
   "source": [
    "plt2.barh(y_pos, sens, align='center', alpha=0.5,color='navy')\n",
    "plt2.yticks(y_pos, classifier)\n",
    "plt2.xlabel('Sensitivity')\n",
    "plt2.title('Classification Performance')\n",
    "plt2.show()"
   ]
  },
  {
   "cell_type": "markdown",
   "metadata": {},
   "source": [
    "# DL"
   ]
  },
  {
   "cell_type": "code",
   "execution_count": 93,
   "metadata": {},
   "outputs": [],
   "source": [
    "classifier = ML_Model1\n",
    "y_pos = np.arange(len(classifier))"
   ]
  },
  {
   "cell_type": "markdown",
   "metadata": {},
   "source": [
    "# ACcuracy"
   ]
  },
  {
   "cell_type": "code",
   "execution_count": 94,
   "metadata": {},
   "outputs": [
    {
     "data": {
      "image/png": "[encoded data removed]",
      "text/plain": [
       "<Figure size 432x288 with 1 Axes>"
      ]
     },
     "metadata": {
      "needs_background": "light"
     },
     "output_type": "display_data"
    }
   ],
   "source": [
    "plt2.barh(y_pos, accuracy1, align='center', alpha=0.5,color='blue')\n",
    "plt2.yticks(y_pos, classifier)\n",
    "plt2.xlabel('Accuracy Score')\n",
    "plt2.title('Classification Performance')\n",
    "plt2.show()"
   ]
  },
  {
   "cell_type": "markdown",
   "metadata": {},
   "source": [
    "# Precision"
   ]
  },
  {
   "cell_type": "code",
   "execution_count": 95,
   "metadata": {},
   "outputs": [
    {
     "data": {
      "image/png": "[encoded data removed]",
      "text/plain": [
       "<Figure size 432x288 with 1 Axes>"
      ]
     },
     "metadata": {
      "needs_background": "light"
     },
     "output_type": "display_data"
    }
   ],
   "source": [
    "plt2.barh(y_pos, precision1, align='center', alpha=0.5,color='red')\n",
    "plt2.yticks(y_pos, classifier)\n",
    "plt2.xlabel('Precision Score')\n",
    "plt2.title('Classification Performance')\n",
    "plt2.show()"
   ]
  },
  {
   "cell_type": "markdown",
   "metadata": {},
   "source": [
    "# Recall"
   ]
  },
  {
   "cell_type": "code",
   "execution_count": 96,
   "metadata": {},
   "outputs": [
    {
     "data": {
      "image/png": "[encoded data removed]",
      "text/plain": [
       "<Figure size 432x288 with 1 Axes>"
      ]
     },
     "metadata": {
      "needs_background": "light"
     },
     "output_type": "display_data"
    }
   ],
   "source": [
    "plt2.barh(y_pos, recall1, align='center', alpha=0.5,color='yellow')\n",
    "plt2.yticks(y_pos, classifier)\n",
    "plt2.xlabel('Recall Score')\n",
    "plt2.title('Classification Performance')\n",
    "plt2.show()"
   ]
  },
  {
   "cell_type": "markdown",
   "metadata": {},
   "source": [
    "# F1 Score"
   ]
  },
  {
   "cell_type": "code",
   "execution_count": 97,
   "metadata": {},
   "outputs": [
    {
     "data": {
      "image/png": "[encoded data removed]",
      "text/plain": [
       "<Figure size 432x288 with 1 Axes>"
      ]
     },
     "metadata": {
      "needs_background": "light"
     },
     "output_type": "display_data"
    }
   ],
   "source": [
    "plt2.barh(y_pos, f1score1, align='center', alpha=0.5,color='pink')\n",
    "plt2.yticks(y_pos, classifier)\n",
    "plt2.xlabel('F1 Score')\n",
    "plt2.title('Classification Performance')\n",
    "plt2.show()"
   ]
  },
  {
   "cell_type": "markdown",
   "metadata": {},
   "source": [
    "# Specificity"
   ]
  },
  {
   "cell_type": "code",
   "execution_count": 98,
   "metadata": {},
   "outputs": [
    {
     "data": {
      "image/png": "[encoded data removed]",
      "text/plain": [
       "<Figure size 432x288 with 1 Axes>"
      ]
     },
     "metadata": {
      "needs_background": "light"
     },
     "output_type": "display_data"
    }
   ],
   "source": [
    "plt2.barh(y_pos, spec1, align='center', alpha=0.5,color='brown')\n",
    "plt2.yticks(y_pos, classifier)\n",
    "plt2.xlabel('Specificity')\n",
    "plt2.title('Classification Performance')\n",
    "plt2.show()"
   ]
  },
  {
   "cell_type": "markdown",
   "metadata": {},
   "source": [
    "# Sensitivity"
   ]
  },
  {
   "cell_type": "code",
   "execution_count": 99,
   "metadata": {},
   "outputs": [
    {
     "data": {
      "image/png": "[encoded data removed]",
      "text/plain": [
       "<Figure size 432x288 with 1 Axes>"
      ]
     },
     "metadata": {
      "needs_background": "light"
     },
     "output_type": "display_data"
    }
   ],
   "source": [
    "plt2.barh(y_pos, sens1, align='center', alpha=0.5,color='navy')\n",
    "plt2.yticks(y_pos, classifier)\n",
    "plt2.xlabel('Sensitivity')\n",
    "plt2.title('Classification Performance')\n",
    "plt2.show()"
   ]
  },
  {
   "cell_type": "code",
   "execution_count": null,
   "metadata": {},
   "outputs": [],
   "source": []
  }
 ],
 "metadata": {
  "kernelspec": {
   "display_name": "Python 3",
   "language": "python",
   "name": "python3"
  },
  "language_info": {
   "codemirror_mode": {
    "name": "ipython",
    "version": 3
   },
   "file_extension": ".py",
   "mimetype": "text/x-python",
   "name": "python",
   "nbconvert_exporter": "python",
   "pygments_lexer": "ipython3",
   "version": "3.7.4"
  }
 },
 "nbformat": 4,
 "nbformat_minor": 2
}
