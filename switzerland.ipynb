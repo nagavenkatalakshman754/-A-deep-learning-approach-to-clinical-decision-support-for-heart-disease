{
 "cells": [
  {
   "cell_type": "code",
   "execution_count": 1,
   "metadata": {},
   "outputs": [],
   "source": [
    "import warnings\n",
    "warnings.filterwarnings('ignore')"
   ]
  },
  {
   "cell_type": "code",
   "execution_count": 2,
   "metadata": {},
   "outputs": [],
   "source": [
    "import numpy as np\n",
    "import pandas as pd\n",
    "\n",
    "import matplotlib.pyplot as plt\n",
    "import seaborn as sns"
   ]
  },
  {
   "cell_type": "code",
   "execution_count": 3,
   "metadata": {},
   "outputs": [],
   "source": [
    "feature=[\"age\",\"sex\",\"cp\",\"trestbps\",\"chol\",\"fbs\",\"restecg\",\"thalach\",\"exang\",\"oldpeak\",\"slope\",\"ca\",\"thal\",\"target\"]"
   ]
  },
  {
   "cell_type": "code",
   "execution_count": 4,
   "metadata": {},
   "outputs": [],
   "source": [
    "# load data\n",
    "data  = pd.read_csv('heart+disease/processed.switzerland.data', sep=\",\",names=feature)"
   ]
  },
  {
   "cell_type": "code",
   "execution_count": 5,
   "metadata": {},
   "outputs": [
    {
     "data": {
      "text/html": [
       "<div>\n",
       "<style scoped>\n",
       "    .dataframe tbody tr th:only-of-type {\n",
       "        vertical-align: middle;\n",
       "    }\n",
       "\n",
       "    .dataframe tbody tr th {\n",
       "        vertical-align: top;\n",
       "    }\n",
       "\n",
       "    .dataframe thead th {\n",
       "        text-align: right;\n",
       "    }\n",
       "</style>\n",
       "<table border=\"1\" class=\"dataframe\">\n",
       "  <thead>\n",
       "    <tr style=\"text-align: right;\">\n",
       "      <th></th>\n",
       "      <th>age</th>\n",
       "      <th>sex</th>\n",
       "      <th>cp</th>\n",
       "      <th>trestbps</th>\n",
       "      <th>chol</th>\n",
       "      <th>fbs</th>\n",
       "      <th>restecg</th>\n",
       "      <th>thalach</th>\n",
       "      <th>exang</th>\n",
       "      <th>oldpeak</th>\n",
       "      <th>slope</th>\n",
       "      <th>ca</th>\n",
       "      <th>thal</th>\n",
       "      <th>target</th>\n",
       "    </tr>\n",
       "  </thead>\n",
       "  <tbody>\n",
       "    <tr>\n",
       "      <td>0</td>\n",
       "      <td>32</td>\n",
       "      <td>1</td>\n",
       "      <td>1</td>\n",
       "      <td>95</td>\n",
       "      <td>0</td>\n",
       "      <td>?</td>\n",
       "      <td>0</td>\n",
       "      <td>127</td>\n",
       "      <td>0</td>\n",
       "      <td>.7</td>\n",
       "      <td>1</td>\n",
       "      <td>?</td>\n",
       "      <td>?</td>\n",
       "      <td>1</td>\n",
       "    </tr>\n",
       "    <tr>\n",
       "      <td>1</td>\n",
       "      <td>34</td>\n",
       "      <td>1</td>\n",
       "      <td>4</td>\n",
       "      <td>115</td>\n",
       "      <td>0</td>\n",
       "      <td>?</td>\n",
       "      <td>?</td>\n",
       "      <td>154</td>\n",
       "      <td>0</td>\n",
       "      <td>.2</td>\n",
       "      <td>1</td>\n",
       "      <td>?</td>\n",
       "      <td>?</td>\n",
       "      <td>1</td>\n",
       "    </tr>\n",
       "    <tr>\n",
       "      <td>2</td>\n",
       "      <td>35</td>\n",
       "      <td>1</td>\n",
       "      <td>4</td>\n",
       "      <td>?</td>\n",
       "      <td>0</td>\n",
       "      <td>?</td>\n",
       "      <td>0</td>\n",
       "      <td>130</td>\n",
       "      <td>1</td>\n",
       "      <td>?</td>\n",
       "      <td>?</td>\n",
       "      <td>?</td>\n",
       "      <td>7</td>\n",
       "      <td>3</td>\n",
       "    </tr>\n",
       "    <tr>\n",
       "      <td>3</td>\n",
       "      <td>36</td>\n",
       "      <td>1</td>\n",
       "      <td>4</td>\n",
       "      <td>110</td>\n",
       "      <td>0</td>\n",
       "      <td>?</td>\n",
       "      <td>0</td>\n",
       "      <td>125</td>\n",
       "      <td>1</td>\n",
       "      <td>1</td>\n",
       "      <td>2</td>\n",
       "      <td>?</td>\n",
       "      <td>6</td>\n",
       "      <td>1</td>\n",
       "    </tr>\n",
       "    <tr>\n",
       "      <td>4</td>\n",
       "      <td>38</td>\n",
       "      <td>0</td>\n",
       "      <td>4</td>\n",
       "      <td>105</td>\n",
       "      <td>0</td>\n",
       "      <td>?</td>\n",
       "      <td>0</td>\n",
       "      <td>166</td>\n",
       "      <td>0</td>\n",
       "      <td>2.8</td>\n",
       "      <td>1</td>\n",
       "      <td>?</td>\n",
       "      <td>?</td>\n",
       "      <td>2</td>\n",
       "    </tr>\n",
       "  </tbody>\n",
       "</table>\n",
       "</div>"
      ],
      "text/plain": [
       "   age  sex  cp trestbps  chol fbs restecg thalach exang oldpeak slope ca  \\\n",
       "0   32    1   1       95     0   ?       0     127     0      .7     1  ?   \n",
       "1   34    1   4      115     0   ?       ?     154     0      .2     1  ?   \n",
       "2   35    1   4        ?     0   ?       0     130     1       ?     ?  ?   \n",
       "3   36    1   4      110     0   ?       0     125     1       1     2  ?   \n",
       "4   38    0   4      105     0   ?       0     166     0     2.8     1  ?   \n",
       "\n",
       "  thal  target  \n",
       "0    ?       1  \n",
       "1    ?       1  \n",
       "2    7       3  \n",
       "3    6       1  \n",
       "4    ?       2  "
      ]
     },
     "execution_count": 5,
     "metadata": {},
     "output_type": "execute_result"
    }
   ],
   "source": [
    "data.head()"
   ]
  },
  {
   "cell_type": "code",
   "execution_count": 6,
   "metadata": {},
   "outputs": [
    {
     "data": {
      "text/plain": [
       "(123, 14)"
      ]
     },
     "execution_count": 6,
     "metadata": {},
     "output_type": "execute_result"
    }
   ],
   "source": [
    "data.shape"
   ]
  },
  {
   "cell_type": "code",
   "execution_count": 7,
   "metadata": {},
   "outputs": [
    {
     "name": "stdout",
     "output_type": "stream",
     "text": [
      "<class 'pandas.core.frame.DataFrame'>\n",
      "RangeIndex: 123 entries, 0 to 122\n",
      "Data columns (total 14 columns):\n",
      "age         123 non-null int64\n",
      "sex         123 non-null int64\n",
      "cp          123 non-null int64\n",
      "trestbps    123 non-null object\n",
      "chol        123 non-null int64\n",
      "fbs         123 non-null object\n",
      "restecg     123 non-null object\n",
      "thalach     123 non-null object\n",
      "exang       123 non-null object\n",
      "oldpeak     123 non-null object\n",
      "slope       123 non-null object\n",
      "ca          123 non-null object\n",
      "thal        123 non-null object\n",
      "target      123 non-null int64\n",
      "dtypes: int64(5), object(9)\n",
      "memory usage: 13.6+ KB\n"
     ]
    }
   ],
   "source": [
    "data.info()"
   ]
  },
  {
   "cell_type": "code",
   "execution_count": 8,
   "metadata": {},
   "outputs": [],
   "source": [
    "data = data.replace({'?':np.NaN})"
   ]
  },
  {
   "cell_type": "code",
   "execution_count": 9,
   "metadata": {},
   "outputs": [],
   "source": [
    "del data['fbs']\n",
    "del data['ca']\n",
    "del data['thal']"
   ]
  },
  {
   "cell_type": "code",
   "execution_count": 10,
   "metadata": {},
   "outputs": [],
   "source": [
    "data = data.dropna()"
   ]
  },
  {
   "cell_type": "code",
   "execution_count": 11,
   "metadata": {},
   "outputs": [
    {
     "name": "stdout",
     "output_type": "stream",
     "text": [
      "<class 'pandas.core.frame.DataFrame'>\n",
      "Int64Index: 105 entries, 0 to 122\n",
      "Data columns (total 11 columns):\n",
      "age         105 non-null int64\n",
      "sex         105 non-null int64\n",
      "cp          105 non-null int64\n",
      "trestbps    105 non-null object\n",
      "chol        105 non-null int64\n",
      "restecg     105 non-null object\n",
      "thalach     105 non-null object\n",
      "exang       105 non-null object\n",
      "oldpeak     105 non-null object\n",
      "slope       105 non-null object\n",
      "target      105 non-null int64\n",
      "dtypes: int64(5), object(6)\n",
      "memory usage: 9.8+ KB\n"
     ]
    }
   ],
   "source": [
    "data.info()"
   ]
  },
  {
   "cell_type": "code",
   "execution_count": 12,
   "metadata": {},
   "outputs": [],
   "source": [
    "# Import label encoder\n",
    "from sklearn import preprocessing\n",
    "\n",
    "# label_encoder object knows\n",
    "# how to understand word labels.\n",
    "label_encoder = preprocessing.LabelEncoder()\n",
    "\n",
    "# Encode labels in column 'species'.\n",
    "data['trestbps']= label_encoder.fit_transform(data['trestbps'])\n",
    "data['oldpeak']= label_encoder.fit_transform(data['oldpeak'])\n",
    "data['slope']= label_encoder.fit_transform(data['slope'])\n",
    "data['restecg']= label_encoder.fit_transform(data['restecg'])\n",
    "data['thalach']= label_encoder.fit_transform(data['thalach'])\n",
    "data['exang']= label_encoder.fit_transform(data['exang'])"
   ]
  },
  {
   "cell_type": "code",
   "execution_count": 13,
   "metadata": {},
   "outputs": [
    {
     "data": {
      "image/png": "[encoded data removed]",
      "text/plain": [
       "<Figure size 288x288 with 1 Axes>"
      ]
     },
     "metadata": {
      "needs_background": "light"
     },
     "output_type": "display_data"
    }
   ],
   "source": [
    "import matplotlib.pyplot as plt\n",
    "\n",
    "plt.matshow(data.corr())\n",
    "plt.show()"
   ]
  },
  {
   "cell_type": "code",
   "execution_count": 14,
   "metadata": {},
   "outputs": [],
   "source": [
    "# changing attack labels to their respective attack class\n",
    "def change_label(df):\n",
    "  df.target.replace([1,2,3,4],1,inplace=True)"
   ]
  },
  {
   "cell_type": "code",
   "execution_count": 15,
   "metadata": {},
   "outputs": [],
   "source": [
    "change_label(data)"
   ]
  },
  {
   "cell_type": "code",
   "execution_count": 16,
   "metadata": {},
   "outputs": [
    {
     "data": {
      "image/png": "[encoded data removed]",
      "text/plain": [
       "<Figure size 432x288 with 1 Axes>"
      ]
     },
     "metadata": {
      "needs_background": "light"
     },
     "output_type": "display_data"
    }
   ],
   "source": [
    "data.target.value_counts().plot(kind='bar',color=['red','green']);"
   ]
  },
  {
   "cell_type": "code",
   "execution_count": 17,
   "metadata": {},
   "outputs": [],
   "source": [
    "data.to_csv('switzerkand_processed.csv')"
   ]
  },
  {
   "cell_type": "code",
   "execution_count": 18,
   "metadata": {},
   "outputs": [],
   "source": [
    "X = data.drop([\"target\"],axis =1)\n",
    "y = data[\"target\"]"
   ]
  },
  {
   "cell_type": "code",
   "execution_count": 19,
   "metadata": {},
   "outputs": [],
   "source": [
    "from sklearn.metrics import accuracy_score # for calculating accuracy of model\n",
    "from sklearn.model_selection import train_test_split # for splitting the dataset for training and testing\n",
    "from sklearn.metrics import classification_report # for generating a classification report of model\n",
    "\n",
    "from sklearn.metrics import precision_score\n",
    "from sklearn.metrics import recall_score\n",
    "from sklearn.metrics import f1_score"
   ]
  },
  {
   "cell_type": "code",
   "execution_count": 20,
   "metadata": {},
   "outputs": [],
   "source": [
    "from imblearn.metrics import specificity_score, sensitivity_score"
   ]
  },
  {
   "cell_type": "code",
   "execution_count": 21,
   "metadata": {},
   "outputs": [],
   "source": [
    "# splitting the dataset 80% for training and 20% testing\n",
    "X_train, X_test, y_train, y_test = train_test_split(X,y, test_size=0.10, random_state=42)"
   ]
  },
  {
   "cell_type": "code",
   "execution_count": 22,
   "metadata": {},
   "outputs": [
    {
     "data": {
      "text/plain": [
       "(94, 10)"
      ]
     },
     "execution_count": 22,
     "metadata": {},
     "output_type": "execute_result"
    }
   ],
   "source": [
    "X_train.shape"
   ]
  },
  {
   "cell_type": "code",
   "execution_count": 23,
   "metadata": {},
   "outputs": [],
   "source": [
    "ML_Model = []\n",
    "accuracy = []\n",
    "precision = []\n",
    "recall = []\n",
    "f1score = []\n",
    "spec = []\n",
    "sens = []\n",
    "\n",
    "#function to call for storing the results\n",
    "def storeResults(model, a,b,c,d,e,f):\n",
    "    ML_Model.append(model)\n",
    "    accuracy.append(round(a, 3))\n",
    "    precision.append(round(b, 3))\n",
    "    recall.append(round(c, 3))\n",
    "    f1score.append(round(d, 3))\n",
    "    spec.append(round(e,3))\n",
    "    sens.append(round(f,3))"
   ]
  },
  {
   "cell_type": "code",
   "execution_count": 67,
   "metadata": {},
   "outputs": [],
   "source": [
    "ML_Model1 = []\n",
    "accuracy1 = []\n",
    "precision1 = []\n",
    "recall1 = []\n",
    "f1score1 = []\n",
    "spec1 = []\n",
    "sens1 = []\n",
    "\n",
    "#function to call for storing the results\n",
    "def storeResults1(model, a,b,c,d,e,f):\n",
    "    ML_Model1.append(model)\n",
    "    accuracy1.append(round(a, 3))\n",
    "    precision1.append(round(b, 3))\n",
    "    recall1.append(round(c, 3))\n",
    "    f1score1.append(round(d, 3))\n",
    "    spec1.append(round(e,3))\n",
    "    sens1.append(round(f,3))"
   ]
  },
  {
   "cell_type": "markdown",
   "metadata": {},
   "source": [
    "# Modelling"
   ]
  },
  {
   "cell_type": "markdown",
   "metadata": {},
   "source": [
    "# KNN"
   ]
  },
  {
   "cell_type": "code",
   "execution_count": 24,
   "metadata": {},
   "outputs": [],
   "source": [
    "from sklearn.neighbors import KNeighborsClassifier\n",
    "knn = KNeighborsClassifier(n_neighbors=3)\n",
    "knn.fit(X_train, y_train)\n",
    "\n",
    "y_pred    = knn.predict(X_test)\n",
    "\n",
    "knn_acc = accuracy_score(y_pred, y_test)\n",
    "knn_prec = precision_score(y_pred, y_test,average='weighted')\n",
    "knn_rec = recall_score(y_pred, y_test,average='weighted')\n",
    "knn_f1 = f1_score(y_pred, y_test,average='weighted')\n",
    "knn_spec = specificity_score(y_pred, y_test,average='weighted')\n",
    "knn_sens = sensitivity_score(y_pred, y_test,average='weighted')"
   ]
  },
  {
   "cell_type": "code",
   "execution_count": 68,
   "metadata": {},
   "outputs": [],
   "source": [
    "storeResults('KNN',knn_acc,knn_prec,knn_rec,knn_f1,knn_spec,knn_sens)"
   ]
  },
  {
   "cell_type": "markdown",
   "metadata": {},
   "source": [
    "# Linear SVC"
   ]
  },
  {
   "cell_type": "code",
   "execution_count": 25,
   "metadata": {},
   "outputs": [],
   "source": [
    "from sklearn.svm import LinearSVC\n",
    "lsvc = LinearSVC(random_state=0, tol=1e-5)\n",
    "lsvc.fit(X_train, y_train)\n",
    "\n",
    "y_pred    = lsvc.predict(X_test)\n",
    "\n",
    "lsvc_acc = accuracy_score(y_pred, y_test)\n",
    "lsvc_prec = precision_score(y_pred, y_test,average='weighted')\n",
    "lsvc_rec = recall_score(y_pred, y_test,average='weighted')\n",
    "lsvc_f1 = f1_score(y_pred, y_test,average='weighted')\n",
    "lsvc_spec = specificity_score(y_pred, y_test,average='weighted')\n",
    "lsvc_sens = sensitivity_score(y_pred, y_test,average='weighted')"
   ]
  },
  {
   "cell_type": "code",
   "execution_count": 69,
   "metadata": {},
   "outputs": [],
   "source": [
    "storeResults('LinearSVC',lsvc_acc,lsvc_prec,lsvc_rec,lsvc_f1,lsvc_spec,lsvc_sens)"
   ]
  },
  {
   "cell_type": "markdown",
   "metadata": {},
   "source": [
    "# Gaussian Process"
   ]
  },
  {
   "cell_type": "code",
   "execution_count": 26,
   "metadata": {},
   "outputs": [],
   "source": [
    "from sklearn.gaussian_process import GaussianProcessClassifier\n",
    "from sklearn.gaussian_process.kernels import RBF\n",
    "\n",
    "kernel = 1.0 * RBF(1.0)\n",
    "\n",
    "gp = GaussianProcessClassifier(kernel=kernel,random_state=0)\n",
    "gp.fit(X_train, y_train)\n",
    "\n",
    "y_pred    = gp.predict(X_test)\n",
    "\n",
    "gp_acc = accuracy_score(y_pred, y_test)\n",
    "gp_prec = precision_score(y_pred, y_test,average='weighted')\n",
    "gp_rec = recall_score(y_pred, y_test,average='weighted')\n",
    "gp_f1 = f1_score(y_pred, y_test,average='weighted')\n",
    "gp_spec = specificity_score(y_pred, y_test,average='weighted')\n",
    "gp_sens = sensitivity_score(y_pred, y_test,average='weighted')"
   ]
  },
  {
   "cell_type": "code",
   "execution_count": 70,
   "metadata": {},
   "outputs": [],
   "source": [
    "storeResults('Guassian Process',gp_acc,gp_prec,gp_rec,gp_f1,gp_spec,gp_sens)"
   ]
  },
  {
   "cell_type": "markdown",
   "metadata": {},
   "source": [
    "# Decision Tree"
   ]
  },
  {
   "cell_type": "code",
   "execution_count": 27,
   "metadata": {},
   "outputs": [],
   "source": [
    "from sklearn.tree import DecisionTreeClassifier\n",
    "tree = DecisionTreeClassifier(random_state=1000)\n",
    "\n",
    "tree.fit(X_train, y_train)\n",
    "\n",
    "y_pred    = tree.predict(X_test)\n",
    "\n",
    "dt_acc = accuracy_score(y_pred, y_test)\n",
    "dt_prec = precision_score(y_pred, y_test,average='weighted')\n",
    "dt_rec = recall_score(y_pred, y_test,average='weighted')\n",
    "dt_f1 = f1_score(y_pred, y_test,average='weighted')\n",
    "dt_spec = specificity_score(y_pred, y_test,average='weighted')\n",
    "dt_sens = sensitivity_score(y_pred, y_test,average='weighted')"
   ]
  },
  {
   "cell_type": "code",
   "execution_count": 71,
   "metadata": {},
   "outputs": [],
   "source": [
    "storeResults('Decision Tree',dt_acc,dt_prec,dt_rec,dt_f1,dt_spec,dt_sens)"
   ]
  },
  {
   "cell_type": "markdown",
   "metadata": {},
   "source": [
    "# Naive Bayes"
   ]
  },
  {
   "cell_type": "code",
   "execution_count": 29,
   "metadata": {},
   "outputs": [],
   "source": [
    "from sklearn.naive_bayes import GaussianNB\n",
    "nb = GaussianNB()\n",
    "\n",
    "nb.fit(X_train, y_train)\n",
    "\n",
    "y_pred    = nb.predict(X_test)\n",
    "\n",
    "nb_acc = accuracy_score(y_pred, y_test)\n",
    "nb_prec = precision_score(y_pred, y_test,average='weighted')\n",
    "nb_rec = recall_score(y_pred, y_test,average='weighted')\n",
    "nb_f1 = f1_score(y_pred, y_test,average='weighted')\n",
    "nb_spec = specificity_score(y_pred, y_test,average='weighted')\n",
    "nb_sens = sensitivity_score(y_pred, y_test,average='weighted')"
   ]
  },
  {
   "cell_type": "code",
   "execution_count": 72,
   "metadata": {},
   "outputs": [],
   "source": [
    "storeResults('Naive Bayes',nb_acc,nb_prec,nb_rec,nb_f1,nb_spec,nb_sens)"
   ]
  },
  {
   "cell_type": "markdown",
   "metadata": {},
   "source": [
    "# QDA"
   ]
  },
  {
   "cell_type": "code",
   "execution_count": 30,
   "metadata": {},
   "outputs": [],
   "source": [
    "from sklearn.discriminant_analysis import QuadraticDiscriminantAnalysis\n",
    "qda = QuadraticDiscriminantAnalysis()\n",
    "\n",
    "qda.fit(X_train, y_train)\n",
    "\n",
    "y_pred    = qda.predict(X_test)\n",
    "\n",
    "qda_acc = accuracy_score(y_pred, y_test)\n",
    "qda_prec = precision_score(y_pred, y_test,average='weighted')\n",
    "qda_rec = recall_score(y_pred, y_test,average='weighted')\n",
    "qda_f1 = f1_score(y_pred, y_test,average='weighted')\n",
    "qda_spec = specificity_score(y_pred, y_test,average='weighted')\n",
    "qda_sens = sensitivity_score(y_pred, y_test,average='weighted')"
   ]
  },
  {
   "cell_type": "code",
   "execution_count": 73,
   "metadata": {},
   "outputs": [],
   "source": [
    "storeResults('QDA',qda_acc,qda_prec,qda_rec,qda_f1,qda_spec,qda_sens)"
   ]
  },
  {
   "cell_type": "markdown",
   "metadata": {},
   "source": [
    "# AdaBoost"
   ]
  },
  {
   "cell_type": "code",
   "execution_count": 31,
   "metadata": {},
   "outputs": [],
   "source": [
    "from sklearn.ensemble import AdaBoostClassifier\n",
    "ab = AdaBoostClassifier(n_estimators=100, random_state=0)\n",
    "\n",
    "ab.fit(X_train, y_train)\n",
    "\n",
    "y_pred    = ab.predict(X_test)\n",
    "\n",
    "ab_acc = accuracy_score(y_pred, y_test)\n",
    "ab_prec = precision_score(y_pred, y_test,average='weighted')\n",
    "ab_rec = recall_score(y_pred, y_test,average='weighted')\n",
    "ab_f1 = f1_score(y_pred, y_test,average='weighted')\n",
    "ab_spec = specificity_score(y_pred, y_test,average='weighted')\n",
    "ab_sens = sensitivity_score(y_pred, y_test,average='weighted')"
   ]
  },
  {
   "cell_type": "code",
   "execution_count": 74,
   "metadata": {},
   "outputs": [],
   "source": [
    "storeResults('AdaBoost',ab_acc,ab_prec,ab_rec,ab_f1,ab_spec,ab_sens)"
   ]
  },
  {
   "cell_type": "markdown",
   "metadata": {},
   "source": [
    "# Bagging Classifier"
   ]
  },
  {
   "cell_type": "code",
   "execution_count": 32,
   "metadata": {},
   "outputs": [],
   "source": [
    "from sklearn.ensemble import BaggingClassifier\n",
    "clf = BaggingClassifier(DecisionTreeClassifier(random_state=42),n_estimators=10, random_state=0)\n",
    "clf.fit(X_train, y_train)\n",
    "\n",
    "y_pred    = clf.predict(X_test)\n",
    "bg_acc = accuracy_score(y_pred, y_test)\n",
    "bg_prec = precision_score(y_pred, y_test,average='weighted')\n",
    "bg_rec = recall_score(y_pred, y_test,average='weighted')\n",
    "bg_f1 = f1_score(y_pred, y_test,average='weighted')\n",
    "bg_spec = specificity_score(y_pred, y_test,average='weighted')\n",
    "bg_sens = sensitivity_score(y_pred, y_test,average='weighted')"
   ]
  },
  {
   "cell_type": "code",
   "execution_count": 75,
   "metadata": {},
   "outputs": [],
   "source": [
    "storeResults('Bagging',bg_acc,bg_prec,bg_rec,bg_f1,bg_spec,bg_sens)"
   ]
  },
  {
   "cell_type": "markdown",
   "metadata": {},
   "source": [
    "# Boosting Classifier"
   ]
  },
  {
   "cell_type": "code",
   "execution_count": 33,
   "metadata": {},
   "outputs": [],
   "source": [
    "from sklearn.ensemble import GradientBoostingClassifier\n",
    "clf =  GradientBoostingClassifier(n_estimators=100, learning_rate=1.0,max_depth=1, random_state=0)\n",
    "clf.fit(X_train, y_train)\n",
    "\n",
    "y_pred    = clf.predict(X_test)\n",
    "bos_acc = accuracy_score(y_pred, y_test)\n",
    "bos_prec = precision_score(y_pred, y_test,average='weighted')\n",
    "bos_rec = recall_score(y_pred, y_test,average='weighted')\n",
    "bos_f1 = f1_score(y_pred, y_test,average='weighted')\n",
    "bos_spec = specificity_score(y_pred, y_test,average='weighted')\n",
    "bos_sens = sensitivity_score(y_pred, y_test,average='weighted')"
   ]
  },
  {
   "cell_type": "code",
   "execution_count": 76,
   "metadata": {},
   "outputs": [],
   "source": [
    "storeResults('Boosting',bos_acc,bos_prec,bos_rec,bos_f1,bos_spec,bos_sens)"
   ]
  },
  {
   "cell_type": "markdown",
   "metadata": {},
   "source": [
    "# Stacking Classifier"
   ]
  },
  {
   "cell_type": "code",
   "execution_count": 112,
   "metadata": {},
   "outputs": [],
   "source": [
    "from sklearn.ensemble import RandomForestClassifier\n",
    "from sklearn.neural_network import MLPClassifier\n",
    "from lightgbm import LGBMClassifier\n",
    "from sklearn.ensemble import StackingClassifier\n",
    "\n",
    "estimators = [('rf', RandomForestClassifier(n_estimators=1000)),('dt', DecisionTreeClassifier())]\n",
    "\n",
    "clf = StackingClassifier(estimators=estimators, final_estimator=LGBMClassifier(n_estimators=1000))\n",
    "\n",
    "\n",
    "clf.fit(X_train,y_train)\n",
    "\n",
    "y_pred    = clf.predict(X_test)\n",
    "stac_acc = accuracy_score(y_pred, y_test)\n",
    "stac_prec = precision_score(y_pred, y_test,average='weighted')\n",
    "stac_rec = recall_score(y_pred, y_test,average='weighted')\n",
    "stac_f1 = f1_score(y_pred, y_test,average='weighted')\n",
    "stac_spec = specificity_score(y_pred, y_test,average='weighted')\n",
    "stac_sens = sensitivity_score(y_pred, y_test,average='weighted')"
   ]
  },
  {
   "cell_type": "code",
   "execution_count": 103,
   "metadata": {},
   "outputs": [],
   "source": [
    "storeResults('Stacking Classifier',stac_acc,stac_prec,stac_rec,stac_f1,stac_spec,stac_sens)"
   ]
  },
  {
   "cell_type": "markdown",
   "metadata": {},
   "source": [
    "# Voting Classifier"
   ]
  },
  {
   "cell_type": "code",
   "execution_count": 35,
   "metadata": {},
   "outputs": [],
   "source": [
    "from sklearn.ensemble import RandomForestClassifier, VotingClassifier\n",
    "clf1 = DecisionTreeClassifier(random_state=50)\n",
    "clf2 = RandomForestClassifier(random_state=10)\n",
    "\n",
    "eclf1 = VotingClassifier(estimators=[('ad', clf1), ('rf', clf2)], voting='soft')\n",
    "eclf1.fit(X_train,y_train)\n",
    "y_pred    = clf.predict(X_test)\n",
    "vot_acc = accuracy_score(y_pred, y_test)\n",
    "vot_prec = precision_score(y_pred, y_test,average='weighted')\n",
    "vot_rec = recall_score(y_pred, y_test,average='weighted')\n",
    "vot_f1 = f1_score(y_pred, y_test,average='weighted')\n",
    "vot_spec = specificity_score(y_pred, y_test,average='weighted')\n",
    "vot_sens = sensitivity_score(y_pred, y_test,average='weighted')"
   ]
  },
  {
   "cell_type": "code",
   "execution_count": 104,
   "metadata": {},
   "outputs": [],
   "source": [
    "storeResults('Voting Classifier',vot_acc,vot_prec,vot_rec,vot_f1,vot_spec,vot_sens)"
   ]
  },
  {
   "cell_type": "markdown",
   "metadata": {},
   "source": [
    "# DNN"
   ]
  },
  {
   "cell_type": "code",
   "execution_count": 36,
   "metadata": {},
   "outputs": [],
   "source": [
    "from keras.layers import Dense, BatchNormalization, Dropout, LSTM\n",
    "from keras.models import Sequential\n",
    "from keras import callbacks"
   ]
  },
  {
   "cell_type": "code",
   "execution_count": 37,
   "metadata": {},
   "outputs": [],
   "source": [
    "early_stopping = callbacks.EarlyStopping(\n",
    "    min_delta=0.001, # minimium amount of change to count as an improvement\n",
    "    patience=20, # how many epochs to wait before stopping\n",
    "    restore_best_weights=True)"
   ]
  },
  {
   "cell_type": "markdown",
   "metadata": {},
   "source": [
    "# 3 Layers"
   ]
  },
  {
   "cell_type": "code",
   "execution_count": 38,
   "metadata": {},
   "outputs": [],
   "source": [
    "# Initialising the NN\n",
    "model = Sequential()\n",
    "\n",
    "# layers\n",
    "model.add(Dense(units = 64, kernel_initializer = 'uniform', activation = 'relu', input_dim = 10))\n",
    "model.add(Dense(units = 32, kernel_initializer = 'uniform', activation = 'relu'))\n",
    "model.add(Dropout(0.25))\n",
    "model.add(Dense(units = 32, kernel_initializer = 'uniform', activation = 'relu'))\n",
    "model.add(Dropout(0.5))\n",
    "model.add(Dense(units = 1, kernel_initializer = 'uniform', activation = 'sigmoid'))\n",
    "\n",
    "# Compiling the ANN\n",
    "model.compile(optimizer = 'adam', loss = 'binary_crossentropy', metrics = ['accuracy'])"
   ]
  },
  {
   "cell_type": "code",
   "execution_count": 39,
   "metadata": {},
   "outputs": [
    {
     "name": "stdout",
     "output_type": "stream",
     "text": [
      "Epoch 1/100\n",
      "38/38 [==============================] - 29s 29ms/step - loss: 0.6595 - accuracy: 0.9327 - val_loss: 0.3621 - val_accuracy: 0.9474\n",
      "Epoch 2/100\n",
      "38/38 [==============================] - 0s 2ms/step - loss: 0.3134 - accuracy: 0.8967 - val_loss: 0.2466 - val_accuracy: 0.9474\n",
      "Epoch 3/100\n",
      "38/38 [==============================] - 0s 2ms/step - loss: 0.3484 - accuracy: 0.9261 - val_loss: 0.2510 - val_accuracy: 0.9474\n",
      "Epoch 4/100\n",
      "38/38 [==============================] - 0s 2ms/step - loss: 0.2912 - accuracy: 0.8900 - val_loss: 0.2453 - val_accuracy: 0.9474\n",
      "Epoch 5/100\n",
      "38/38 [==============================] - 0s 2ms/step - loss: 0.5112 - accuracy: 0.8870 - val_loss: 0.2374 - val_accuracy: 0.9474\n",
      "Epoch 6/100\n",
      "38/38 [==============================] - 0s 2ms/step - loss: 0.1569 - accuracy: 0.9613 - val_loss: 0.2370 - val_accuracy: 0.9474\n",
      "Epoch 7/100\n",
      "38/38 [==============================] - 0s 2ms/step - loss: 0.3245 - accuracy: 0.9204 - val_loss: 0.2590 - val_accuracy: 0.9474\n",
      "Epoch 8/100\n",
      "38/38 [==============================] - 0s 2ms/step - loss: 0.3994 - accuracy: 0.8917 - val_loss: 0.2408 - val_accuracy: 0.9474\n",
      "Epoch 9/100\n",
      "38/38 [==============================] - 0s 3ms/step - loss: 0.1564 - accuracy: 0.9719 - val_loss: 0.2418 - val_accuracy: 0.9474\n",
      "Epoch 10/100\n",
      "38/38 [==============================] - 0s 2ms/step - loss: 0.2618 - accuracy: 0.9082 - val_loss: 0.2448 - val_accuracy: 0.9474\n",
      "Epoch 11/100\n",
      "38/38 [==============================] - 0s 2ms/step - loss: 0.2675 - accuracy: 0.9208 - val_loss: 0.2492 - val_accuracy: 0.9474\n",
      "Epoch 12/100\n",
      "38/38 [==============================] - 0s 3ms/step - loss: 0.1804 - accuracy: 0.9604 - val_loss: 0.2499 - val_accuracy: 0.9474\n",
      "Epoch 13/100\n",
      "38/38 [==============================] - 0s 3ms/step - loss: 0.2926 - accuracy: 0.9267 - val_loss: 0.2511 - val_accuracy: 0.9474\n",
      "Epoch 14/100\n",
      "38/38 [==============================] - 0s 3ms/step - loss: 0.3198 - accuracy: 0.9015 - val_loss: 0.2542 - val_accuracy: 0.9474\n",
      "Epoch 15/100\n",
      "38/38 [==============================] - 0s 3ms/step - loss: 0.1893 - accuracy: 0.9567 - val_loss: 0.2564 - val_accuracy: 0.9474\n",
      "Epoch 16/100\n",
      "38/38 [==============================] - 0s 3ms/step - loss: 0.4162 - accuracy: 0.8659 - val_loss: 0.2572 - val_accuracy: 0.9474\n",
      "Epoch 17/100\n",
      "38/38 [==============================] - 0s 3ms/step - loss: 0.2887 - accuracy: 0.9260 - val_loss: 0.2541 - val_accuracy: 0.9474\n",
      "Epoch 18/100\n",
      "38/38 [==============================] - 0s 3ms/step - loss: 0.3996 - accuracy: 0.8819 - val_loss: 0.2736 - val_accuracy: 0.9474\n",
      "Epoch 19/100\n",
      "38/38 [==============================] - 0s 3ms/step - loss: 0.4572 - accuracy: 0.8668 - val_loss: 0.2633 - val_accuracy: 0.9474\n",
      "Epoch 20/100\n",
      "38/38 [==============================] - 0s 3ms/step - loss: 0.2214 - accuracy: 0.9273 - val_loss: 0.2661 - val_accuracy: 0.9474\n",
      "Epoch 21/100\n",
      "38/38 [==============================] - 0s 3ms/step - loss: 0.2632 - accuracy: 0.9252 - val_loss: 0.2720 - val_accuracy: 0.9474\n",
      "Epoch 22/100\n",
      "38/38 [==============================] - 0s 4ms/step - loss: 0.3375 - accuracy: 0.9153 - val_loss: 0.2650 - val_accuracy: 0.9474\n",
      "Epoch 23/100\n",
      "38/38 [==============================] - 0s 4ms/step - loss: 0.2020 - accuracy: 0.9572 - val_loss: 0.2701 - val_accuracy: 0.9474\n",
      "Epoch 24/100\n",
      "38/38 [==============================] - 0s 4ms/step - loss: 0.2034 - accuracy: 0.9454 - val_loss: 0.2658 - val_accuracy: 0.9474\n",
      "Epoch 25/100\n",
      "38/38 [==============================] - 0s 4ms/step - loss: 0.2446 - accuracy: 0.9419 - val_loss: 0.2669 - val_accuracy: 0.9474\n",
      "Epoch 26/100\n",
      "38/38 [==============================] - 0s 4ms/step - loss: 0.3939 - accuracy: 0.8918 - val_loss: 0.2788 - val_accuracy: 0.9474\n",
      "Epoch 27/100\n",
      "38/38 [==============================] - 0s 4ms/step - loss: 0.1965 - accuracy: 0.9347 - val_loss: 0.2857 - val_accuracy: 0.9474\n",
      "Epoch 28/100\n",
      "38/38 [==============================] - 0s 4ms/step - loss: 0.2229 - accuracy: 0.9560 - val_loss: 0.2583 - val_accuracy: 0.9474\n",
      "Epoch 29/100\n",
      "38/38 [==============================] - 0s 4ms/step - loss: 0.2961 - accuracy: 0.8991 - val_loss: 0.2718 - val_accuracy: 0.9474\n",
      "Epoch 30/100\n",
      "38/38 [==============================] - 0s 4ms/step - loss: 0.3393 - accuracy: 0.8842 - val_loss: 0.2718 - val_accuracy: 0.9474\n",
      "Epoch 31/100\n",
      "38/38 [==============================] - 0s 4ms/step - loss: 0.1617 - accuracy: 0.9621 - val_loss: 0.2702 - val_accuracy: 0.9474\n",
      "Epoch 32/100\n",
      "38/38 [==============================] - 0s 4ms/step - loss: 0.2035 - accuracy: 0.9431 - val_loss: 0.2741 - val_accuracy: 0.9474\n",
      "Epoch 33/100\n",
      "38/38 [==============================] - 0s 4ms/step - loss: 0.2352 - accuracy: 0.9274 - val_loss: 0.2688 - val_accuracy: 0.9474\n",
      "Epoch 34/100\n",
      "38/38 [==============================] - 0s 4ms/step - loss: 0.1236 - accuracy: 0.9814 - val_loss: 0.2678 - val_accuracy: 0.9474\n",
      "Epoch 35/100\n",
      "38/38 [==============================] - 0s 4ms/step - loss: 0.2138 - accuracy: 0.9326 - val_loss: 0.2597 - val_accuracy: 0.9474\n",
      "Epoch 36/100\n",
      "38/38 [==============================] - 0s 4ms/step - loss: 0.3177 - accuracy: 0.8536 - val_loss: 0.2787 - val_accuracy: 0.9474\n",
      "Epoch 37/100\n",
      "38/38 [==============================] - 0s 4ms/step - loss: 0.2032 - accuracy: 0.9369 - val_loss: 0.2693 - val_accuracy: 0.9474\n",
      "Epoch 38/100\n",
      "38/38 [==============================] - 0s 4ms/step - loss: 0.2166 - accuracy: 0.9277 - val_loss: 0.2677 - val_accuracy: 0.9474\n",
      "Epoch 39/100\n",
      "38/38 [==============================] - 0s 4ms/step - loss: 0.3112 - accuracy: 0.8929 - val_loss: 0.2554 - val_accuracy: 0.9474\n",
      "Epoch 40/100\n",
      "38/38 [==============================] - 0s 4ms/step - loss: 0.1929 - accuracy: 0.9504 - val_loss: 0.2735 - val_accuracy: 0.9474\n",
      "Epoch 41/100\n",
      "38/38 [==============================] - 0s 4ms/step - loss: 0.2663 - accuracy: 0.9174 - val_loss: 0.2547 - val_accuracy: 0.9474\n",
      "Epoch 42/100\n",
      "38/38 [==============================] - 0s 4ms/step - loss: 0.3444 - accuracy: 0.8950 - val_loss: 0.2619 - val_accuracy: 0.9474\n",
      "Epoch 43/100\n",
      "38/38 [==============================] - 0s 4ms/step - loss: 0.1640 - accuracy: 0.9498 - val_loss: 0.2615 - val_accuracy: 0.9474\n",
      "Epoch 44/100\n",
      "38/38 [==============================] - 0s 4ms/step - loss: 0.2530 - accuracy: 0.9208 - val_loss: 0.2593 - val_accuracy: 0.9474\n",
      "Epoch 45/100\n",
      "38/38 [==============================] - 0s 4ms/step - loss: 0.2206 - accuracy: 0.9455 - val_loss: 0.2596 - val_accuracy: 0.9474\n",
      "Epoch 46/100\n",
      "38/38 [==============================] - 0s 4ms/step - loss: 0.2639 - accuracy: 0.9293 - val_loss: 0.2618 - val_accuracy: 0.9474\n",
      "Epoch 47/100\n",
      "38/38 [==============================] - 0s 4ms/step - loss: 0.2810 - accuracy: 0.9106 - val_loss: 0.2563 - val_accuracy: 0.9474\n",
      "Epoch 48/100\n",
      "38/38 [==============================] - 0s 4ms/step - loss: 0.2375 - accuracy: 0.9489 - val_loss: 0.2486 - val_accuracy: 0.9474\n",
      "Epoch 49/100\n",
      "38/38 [==============================] - 0s 4ms/step - loss: 0.2550 - accuracy: 0.9203 - val_loss: 0.2621 - val_accuracy: 0.9474\n",
      "Epoch 50/100\n",
      "38/38 [==============================] - 0s 4ms/step - loss: 0.2262 - accuracy: 0.8978 - val_loss: 0.2804 - val_accuracy: 0.9474\n",
      "Epoch 51/100\n",
      "38/38 [==============================] - 0s 4ms/step - loss: 0.2364 - accuracy: 0.9265 - val_loss: 0.2648 - val_accuracy: 0.9474\n",
      "Epoch 52/100\n",
      "38/38 [==============================] - 0s 4ms/step - loss: 0.2208 - accuracy: 0.9224 - val_loss: 0.2444 - val_accuracy: 0.9474\n",
      "Epoch 53/100\n",
      "38/38 [==============================] - 0s 4ms/step - loss: 0.2566 - accuracy: 0.9060 - val_loss: 0.2744 - val_accuracy: 0.9474\n",
      "Epoch 54/100\n",
      "38/38 [==============================] - 0s 4ms/step - loss: 0.2265 - accuracy: 0.9153 - val_loss: 0.2460 - val_accuracy: 0.9474\n",
      "Epoch 55/100\n",
      "38/38 [==============================] - 0s 4ms/step - loss: 0.2439 - accuracy: 0.9261 - val_loss: 0.2716 - val_accuracy: 0.9474\n",
      "Epoch 56/100\n",
      "38/38 [==============================] - 0s 4ms/step - loss: 0.2157 - accuracy: 0.9475 - val_loss: 0.2599 - val_accuracy: 0.9474\n",
      "Epoch 57/100\n",
      "38/38 [==============================] - 0s 3ms/step - loss: 0.3142 - accuracy: 0.8620 - val_loss: 0.2611 - val_accuracy: 0.9474\n",
      "Epoch 58/100\n",
      "38/38 [==============================] - 0s 4ms/step - loss: 0.3243 - accuracy: 0.9231 - val_loss: 0.2219 - val_accuracy: 0.9474\n"
     ]
    },
    {
     "name": "stdout",
     "output_type": "stream",
     "text": [
      "Epoch 59/100\n",
      "38/38 [==============================] - 0s 4ms/step - loss: 0.1643 - accuracy: 0.9376 - val_loss: 0.2505 - val_accuracy: 0.9474\n",
      "Epoch 60/100\n",
      "38/38 [==============================] - 0s 4ms/step - loss: 0.2634 - accuracy: 0.9335 - val_loss: 0.2217 - val_accuracy: 0.9474\n",
      "Epoch 61/100\n",
      "38/38 [==============================] - 0s 3ms/step - loss: 0.2407 - accuracy: 0.9423 - val_loss: 0.2127 - val_accuracy: 0.9474\n",
      "Epoch 62/100\n",
      "38/38 [==============================] - 0s 3ms/step - loss: 0.2266 - accuracy: 0.9137 - val_loss: 0.2353 - val_accuracy: 0.9474\n",
      "Epoch 63/100\n",
      "38/38 [==============================] - 0s 4ms/step - loss: 0.1207 - accuracy: 0.9771 - val_loss: 0.2229 - val_accuracy: 0.9474\n",
      "Epoch 64/100\n",
      "38/38 [==============================] - 0s 3ms/step - loss: 0.2859 - accuracy: 0.9224 - val_loss: 0.2245 - val_accuracy: 0.9474\n",
      "Epoch 65/100\n",
      "38/38 [==============================] - 0s 4ms/step - loss: 0.1845 - accuracy: 0.9386 - val_loss: 0.2208 - val_accuracy: 0.9474\n",
      "Epoch 66/100\n",
      "38/38 [==============================] - 0s 3ms/step - loss: 0.2503 - accuracy: 0.9198 - val_loss: 0.2522 - val_accuracy: 0.9474\n",
      "Epoch 67/100\n",
      "38/38 [==============================] - 0s 4ms/step - loss: 0.3184 - accuracy: 0.9179 - val_loss: 0.2120 - val_accuracy: 0.9474\n",
      "Epoch 68/100\n",
      "38/38 [==============================] - 0s 4ms/step - loss: 0.1917 - accuracy: 0.9488 - val_loss: 0.2103 - val_accuracy: 0.9474\n",
      "Epoch 69/100\n",
      "38/38 [==============================] - 0s 4ms/step - loss: 0.2150 - accuracy: 0.9417 - val_loss: 0.2167 - val_accuracy: 0.9474\n",
      "Epoch 70/100\n",
      "38/38 [==============================] - 0s 4ms/step - loss: 0.1667 - accuracy: 0.9518 - val_loss: 0.2784 - val_accuracy: 0.9474\n",
      "Epoch 71/100\n",
      "38/38 [==============================] - 0s 4ms/step - loss: 0.2587 - accuracy: 0.9154 - val_loss: 0.2140 - val_accuracy: 0.9474\n",
      "Epoch 72/100\n",
      "38/38 [==============================] - 0s 4ms/step - loss: 0.2396 - accuracy: 0.8959 - val_loss: 0.2233 - val_accuracy: 0.9474\n",
      "Epoch 73/100\n",
      "38/38 [==============================] - 0s 4ms/step - loss: 0.2511 - accuracy: 0.9093 - val_loss: 0.2457 - val_accuracy: 0.9474\n",
      "Epoch 74/100\n",
      "38/38 [==============================] - 0s 3ms/step - loss: 0.2389 - accuracy: 0.9186 - val_loss: 0.2794 - val_accuracy: 0.9474\n",
      "Epoch 75/100\n",
      "38/38 [==============================] - 0s 4ms/step - loss: 0.3006 - accuracy: 0.8913 - val_loss: 0.2079 - val_accuracy: 0.9474\n",
      "Epoch 76/100\n",
      "38/38 [==============================] - 0s 3ms/step - loss: 0.3140 - accuracy: 0.8757 - val_loss: 0.2222 - val_accuracy: 0.9474\n",
      "Epoch 77/100\n",
      "38/38 [==============================] - 0s 3ms/step - loss: 0.1979 - accuracy: 0.9481 - val_loss: 0.2119 - val_accuracy: 0.9474\n",
      "Epoch 78/100\n",
      "38/38 [==============================] - 0s 3ms/step - loss: 0.2382 - accuracy: 0.8924 - val_loss: 0.2000 - val_accuracy: 0.9474\n",
      "Epoch 79/100\n",
      "38/38 [==============================] - 0s 3ms/step - loss: 0.1211 - accuracy: 0.9719 - val_loss: 0.1733 - val_accuracy: 0.9474\n",
      "Epoch 80/100\n",
      "38/38 [==============================] - 0s 4ms/step - loss: 0.2035 - accuracy: 0.9227 - val_loss: 0.2216 - val_accuracy: 0.9474\n",
      "Epoch 81/100\n",
      "38/38 [==============================] - 0s 4ms/step - loss: 0.2309 - accuracy: 0.9256 - val_loss: 0.1603 - val_accuracy: 0.9474\n",
      "Epoch 82/100\n",
      "38/38 [==============================] - 0s 3ms/step - loss: 0.2302 - accuracy: 0.9255 - val_loss: 0.1664 - val_accuracy: 0.9474\n",
      "Epoch 83/100\n",
      "38/38 [==============================] - 0s 4ms/step - loss: 0.2634 - accuracy: 0.9108 - val_loss: 0.1713 - val_accuracy: 0.9474\n",
      "Epoch 84/100\n",
      "38/38 [==============================] - 0s 4ms/step - loss: 0.1976 - accuracy: 0.9136 - val_loss: 0.2445 - val_accuracy: 0.9474\n",
      "Epoch 85/100\n",
      "38/38 [==============================] - 0s 4ms/step - loss: 0.1594 - accuracy: 0.9512 - val_loss: 0.1747 - val_accuracy: 0.9474\n",
      "Epoch 86/100\n",
      "38/38 [==============================] - 0s 3ms/step - loss: 0.2281 - accuracy: 0.9097 - val_loss: 0.2134 - val_accuracy: 0.9474\n",
      "Epoch 87/100\n",
      "38/38 [==============================] - 0s 4ms/step - loss: 0.2935 - accuracy: 0.8414 - val_loss: 0.2216 - val_accuracy: 0.9474\n",
      "Epoch 88/100\n",
      "38/38 [==============================] - 0s 4ms/step - loss: 0.1299 - accuracy: 0.9492 - val_loss: 0.1771 - val_accuracy: 0.9474\n",
      "Epoch 89/100\n",
      "38/38 [==============================] - 0s 4ms/step - loss: 0.2295 - accuracy: 0.9204 - val_loss: 0.1776 - val_accuracy: 0.9474\n",
      "Epoch 90/100\n",
      "38/38 [==============================] - 0s 3ms/step - loss: 0.2073 - accuracy: 0.9163 - val_loss: 0.2214 - val_accuracy: 0.9474\n",
      "Epoch 91/100\n",
      "38/38 [==============================] - 0s 3ms/step - loss: 0.3431 - accuracy: 0.8948 - val_loss: 0.1783 - val_accuracy: 0.9474\n",
      "Epoch 92/100\n",
      "38/38 [==============================] - 0s 3ms/step - loss: 0.2913 - accuracy: 0.9073 - val_loss: 0.1719 - val_accuracy: 0.9474\n",
      "Epoch 93/100\n",
      "38/38 [==============================] - 0s 3ms/step - loss: 0.2259 - accuracy: 0.9046 - val_loss: 0.1671 - val_accuracy: 0.9474\n",
      "Epoch 94/100\n",
      "38/38 [==============================] - 0s 4ms/step - loss: 0.1619 - accuracy: 0.9482 - val_loss: 0.1432 - val_accuracy: 0.9474\n",
      "Epoch 95/100\n",
      "38/38 [==============================] - 0s 4ms/step - loss: 0.1944 - accuracy: 0.9451 - val_loss: 0.1710 - val_accuracy: 0.9474\n",
      "Epoch 96/100\n",
      "38/38 [==============================] - 0s 3ms/step - loss: 0.1556 - accuracy: 0.9347 - val_loss: 0.1770 - val_accuracy: 0.9474\n",
      "Epoch 97/100\n",
      "38/38 [==============================] - 0s 3ms/step - loss: 0.2743 - accuracy: 0.8669 - val_loss: 0.1822 - val_accuracy: 0.9474\n",
      "Epoch 98/100\n",
      "38/38 [==============================] - 0s 3ms/step - loss: 0.2455 - accuracy: 0.8875 - val_loss: 0.1716 - val_accuracy: 0.9474\n",
      "Epoch 99/100\n",
      "38/38 [==============================] - 0s 4ms/step - loss: 0.1397 - accuracy: 0.9634 - val_loss: 0.1639 - val_accuracy: 0.9474\n",
      "Epoch 100/100\n",
      "38/38 [==============================] - 0s 4ms/step - loss: 0.2439 - accuracy: 0.9080 - val_loss: 0.2645 - val_accuracy: 0.9474\n"
     ]
    }
   ],
   "source": [
    "# Train the ANN\n",
    "history = model.fit(X_train, y_train, batch_size = 2, epochs = 100, validation_split=0.2)"
   ]
  },
  {
   "cell_type": "code",
   "execution_count": 40,
   "metadata": {},
   "outputs": [
    {
     "data": {
      "image/png": "[encoded data removed]",
      "text/plain": [
       "<Figure size 432x288 with 1 Axes>"
      ]
     },
     "metadata": {
      "needs_background": "light"
     },
     "output_type": "display_data"
    },
    {
     "data": {
      "image/png": "[encoded data removed]",
      "text/plain": [
       "<Figure size 432x288 with 1 Axes>"
      ]
     },
     "metadata": {
      "needs_background": "light"
     },
     "output_type": "display_data"
    }
   ],
   "source": [
    "history_df = pd.DataFrame(history.history)\n",
    "\n",
    "plt.plot(history_df.loc[:, ['loss']], \"#CD5C5C\", label='Training loss')\n",
    "plt.plot(history_df.loc[:, ['val_loss']],\"#FF0000\", label='Validation loss')\n",
    "plt.title('Training and Validation loss')\n",
    "plt.xlabel('Epochs')\n",
    "plt.ylabel('Loss')\n",
    "plt.legend(loc=\"best\")\n",
    "\n",
    "plt.show()\n",
    "\n",
    "history_df = pd.DataFrame(history.history)\n",
    "\n",
    "plt.plot(history_df.loc[:, ['accuracy']], \"#CD5C5C\", label='Training accuracy')\n",
    "plt.plot(history_df.loc[:, ['val_accuracy']],\"#FF0000\", label='Validation accuracy')\n",
    "\n",
    "plt.title('Training and Validation accuracy')\n",
    "plt.xlabel('Epochs')\n",
    "plt.ylabel('Accuracy')\n",
    "plt.legend()\n",
    "plt.show()"
   ]
  },
  {
   "cell_type": "code",
   "execution_count": 41,
   "metadata": {},
   "outputs": [],
   "source": [
    "# Predicting the test set results\n",
    "y_pred = model.predict(X_test)\n",
    "y_pred = (y_pred > 0.4)"
   ]
  },
  {
   "cell_type": "code",
   "execution_count": 42,
   "metadata": {},
   "outputs": [],
   "source": [
    "dnn_3_acc = accuracy_score(y_pred, y_test)\n",
    "dnn_3_prec = precision_score(y_pred, y_test,average='weighted')\n",
    "dnn_3_rec = recall_score(y_pred, y_test,average='weighted')\n",
    "dnn_3_f1 = f1_score(y_pred, y_test,average='weighted')\n",
    "dnn_3_spec = specificity_score(y_pred, y_test,average='weighted')\n",
    "dnn_3_sens = sensitivity_score(y_pred, y_test,average='weighted')"
   ]
  },
  {
   "cell_type": "code",
   "execution_count": 77,
   "metadata": {},
   "outputs": [],
   "source": [
    "storeResults1('DNN - 3 Layers',dnn_3_acc,dnn_3_prec,dnn_3_rec,dnn_3_f1,dnn_3_spec,dnn_3_sens)"
   ]
  },
  {
   "cell_type": "markdown",
   "metadata": {},
   "source": [
    "# 4 Layers"
   ]
  },
  {
   "cell_type": "code",
   "execution_count": 43,
   "metadata": {},
   "outputs": [],
   "source": [
    "# Initialising the NN\n",
    "model = Sequential()\n",
    "\n",
    "# layers\n",
    "model.add(Dense(units = 128, kernel_initializer = 'uniform', activation = 'relu', input_dim = 10))\n",
    "model.add(Dense(units = 64, kernel_initializer = 'uniform', activation = 'relu'))\n",
    "model.add(Dropout(0.25))\n",
    "model.add(Dense(units = 64, kernel_initializer = 'uniform', activation = 'relu'))\n",
    "model.add(Dropout(0.5))\n",
    "model.add(Dense(units = 32, kernel_initializer = 'uniform', activation = 'relu'))\n",
    "model.add(Dropout(0.5))\n",
    "model.add(Dense(units = 1, kernel_initializer = 'uniform', activation = 'sigmoid'))\n",
    "\n",
    "# Compiling the ANN\n",
    "model.compile(optimizer = 'adam', loss = 'binary_crossentropy', metrics = ['accuracy'])"
   ]
  },
  {
   "cell_type": "code",
   "execution_count": 44,
   "metadata": {},
   "outputs": [
    {
     "name": "stdout",
     "output_type": "stream",
     "text": [
      "Epoch 1/100\n",
      "38/38 [==============================] - 4s 26ms/step - loss: 0.6744 - accuracy: 0.7719 - val_loss: 0.3263 - val_accuracy: 0.9474\n",
      "Epoch 2/100\n",
      "38/38 [==============================] - 0s 3ms/step - loss: 0.3081 - accuracy: 0.9352 - val_loss: 0.2344 - val_accuracy: 0.9474\n",
      "Epoch 3/100\n",
      "38/38 [==============================] - 0s 3ms/step - loss: 0.2942 - accuracy: 0.8940 - val_loss: 0.2548 - val_accuracy: 0.9474\n",
      "Epoch 4/100\n",
      "38/38 [==============================] - 0s 4ms/step - loss: 0.2986 - accuracy: 0.9305 - val_loss: 0.2412 - val_accuracy: 0.9474\n",
      "Epoch 5/100\n",
      "38/38 [==============================] - 0s 3ms/step - loss: 0.2284 - accuracy: 0.9438 - val_loss: 0.2439 - val_accuracy: 0.9474\n",
      "Epoch 6/100\n",
      "38/38 [==============================] - 0s 3ms/step - loss: 0.4251 - accuracy: 0.8635 - val_loss: 0.2617 - val_accuracy: 0.9474\n",
      "Epoch 7/100\n",
      "38/38 [==============================] - 0s 3ms/step - loss: 0.2480 - accuracy: 0.9528 - val_loss: 0.2557 - val_accuracy: 0.9474\n",
      "Epoch 8/100\n",
      "38/38 [==============================] - 0s 4ms/step - loss: 0.3011 - accuracy: 0.9238 - val_loss: 0.2582 - val_accuracy: 0.9474\n",
      "Epoch 9/100\n",
      "38/38 [==============================] - 0s 4ms/step - loss: 0.2415 - accuracy: 0.9285 - val_loss: 0.2652 - val_accuracy: 0.9474\n",
      "Epoch 10/100\n",
      "38/38 [==============================] - 0s 4ms/step - loss: 0.3299 - accuracy: 0.8948 - val_loss: 0.2714 - val_accuracy: 0.9474\n",
      "Epoch 11/100\n",
      "38/38 [==============================] - 0s 4ms/step - loss: 0.3334 - accuracy: 0.8917 - val_loss: 0.2992 - val_accuracy: 0.9474\n",
      "Epoch 12/100\n",
      "38/38 [==============================] - 0s 4ms/step - loss: 0.2644 - accuracy: 0.9365 - val_loss: 0.2849 - val_accuracy: 0.9474\n",
      "Epoch 13/100\n",
      "38/38 [==============================] - 0s 4ms/step - loss: 0.3258 - accuracy: 0.9179 - val_loss: 0.2922 - val_accuracy: 0.9474\n",
      "Epoch 14/100\n",
      "38/38 [==============================] - 0s 4ms/step - loss: 0.2634 - accuracy: 0.9147 - val_loss: 0.3736 - val_accuracy: 0.9474\n",
      "Epoch 15/100\n",
      "38/38 [==============================] - 0s 4ms/step - loss: 0.3367 - accuracy: 0.9215 - val_loss: 0.2928 - val_accuracy: 0.9474\n",
      "Epoch 16/100\n",
      "38/38 [==============================] - 0s 4ms/step - loss: 0.2099 - accuracy: 0.9485 - val_loss: 0.3076 - val_accuracy: 0.9474\n",
      "Epoch 17/100\n",
      "38/38 [==============================] - 0s 4ms/step - loss: 0.2129 - accuracy: 0.9610 - val_loss: 0.3036 - val_accuracy: 0.9474\n",
      "Epoch 18/100\n",
      "38/38 [==============================] - 0s 4ms/step - loss: 0.2846 - accuracy: 0.9042 - val_loss: 0.2990 - val_accuracy: 0.9474\n",
      "Epoch 19/100\n",
      "38/38 [==============================] - 0s 3ms/step - loss: 0.3135 - accuracy: 0.8964 - val_loss: 0.3396 - val_accuracy: 0.9474\n",
      "Epoch 20/100\n",
      "38/38 [==============================] - 0s 4ms/step - loss: 0.2105 - accuracy: 0.9280 - val_loss: 0.3039 - val_accuracy: 0.9474\n",
      "Epoch 21/100\n",
      "38/38 [==============================] - 0s 4ms/step - loss: 0.3366 - accuracy: 0.9070 - val_loss: 0.2834 - val_accuracy: 0.9474\n",
      "Epoch 22/100\n",
      "38/38 [==============================] - 0s 4ms/step - loss: 0.2274 - accuracy: 0.9231 - val_loss: 0.2934 - val_accuracy: 0.9474\n",
      "Epoch 23/100\n",
      "38/38 [==============================] - 0s 4ms/step - loss: 0.2490 - accuracy: 0.9102 - val_loss: 0.2803 - val_accuracy: 0.9474\n",
      "Epoch 24/100\n",
      "38/38 [==============================] - 0s 4ms/step - loss: 0.4490 - accuracy: 0.8553 - val_loss: 0.3036 - val_accuracy: 0.9474\n",
      "Epoch 25/100\n",
      "38/38 [==============================] - 0s 4ms/step - loss: 0.3233 - accuracy: 0.9054 - val_loss: 0.3088 - val_accuracy: 0.9474\n",
      "Epoch 26/100\n",
      "38/38 [==============================] - 0s 4ms/step - loss: 0.3162 - accuracy: 0.9172 - val_loss: 0.3306 - val_accuracy: 0.9474\n",
      "Epoch 27/100\n",
      "38/38 [==============================] - 0s 4ms/step - loss: 0.2099 - accuracy: 0.9261 - val_loss: 0.2890 - val_accuracy: 0.9474\n",
      "Epoch 28/100\n",
      "38/38 [==============================] - 0s 4ms/step - loss: 0.2711 - accuracy: 0.9393 - val_loss: 0.2870 - val_accuracy: 0.9474\n",
      "Epoch 29/100\n",
      "38/38 [==============================] - 0s 4ms/step - loss: 0.3140 - accuracy: 0.8915 - val_loss: 0.2907 - val_accuracy: 0.9474\n",
      "Epoch 30/100\n",
      "38/38 [==============================] - 0s 4ms/step - loss: 0.2390 - accuracy: 0.9108 - val_loss: 0.2694 - val_accuracy: 0.9474\n",
      "Epoch 31/100\n",
      "38/38 [==============================] - 0s 4ms/step - loss: 0.3033 - accuracy: 0.9100 - val_loss: 0.2852 - val_accuracy: 0.9474\n",
      "Epoch 32/100\n",
      "38/38 [==============================] - 0s 4ms/step - loss: 0.2036 - accuracy: 0.9557 - val_loss: 0.2680 - val_accuracy: 0.9474\n",
      "Epoch 33/100\n",
      "38/38 [==============================] - 0s 4ms/step - loss: 0.2593 - accuracy: 0.9412 - val_loss: 0.2849 - val_accuracy: 0.9474\n",
      "Epoch 34/100\n",
      "38/38 [==============================] - 0s 4ms/step - loss: 0.2515 - accuracy: 0.9075 - val_loss: 0.3416 - val_accuracy: 0.9474\n",
      "Epoch 35/100\n",
      "38/38 [==============================] - 0s 4ms/step - loss: 0.2499 - accuracy: 0.9289 - val_loss: 0.2846 - val_accuracy: 0.9474\n",
      "Epoch 36/100\n",
      "38/38 [==============================] - 0s 4ms/step - loss: 0.3786 - accuracy: 0.8697 - val_loss: 0.2797 - val_accuracy: 0.9474\n",
      "Epoch 37/100\n",
      "38/38 [==============================] - 0s 4ms/step - loss: 0.2254 - accuracy: 0.9621 - val_loss: 0.2636 - val_accuracy: 0.9474\n",
      "Epoch 38/100\n",
      "38/38 [==============================] - 0s 4ms/step - loss: 0.3204 - accuracy: 0.9059 - val_loss: 0.2837 - val_accuracy: 0.9474\n",
      "Epoch 39/100\n",
      "38/38 [==============================] - 0s 4ms/step - loss: 0.2099 - accuracy: 0.9514 - val_loss: 0.2929 - val_accuracy: 0.9474\n",
      "Epoch 40/100\n",
      "38/38 [==============================] - 0s 4ms/step - loss: 0.2467 - accuracy: 0.9260 - val_loss: 0.2974 - val_accuracy: 0.9474\n",
      "Epoch 41/100\n",
      "38/38 [==============================] - 0s 4ms/step - loss: 0.2090 - accuracy: 0.9575 - val_loss: 0.2845 - val_accuracy: 0.9474\n",
      "Epoch 42/100\n",
      "38/38 [==============================] - 0s 4ms/step - loss: 0.2984 - accuracy: 0.8979 - val_loss: 0.2594 - val_accuracy: 0.9474\n",
      "Epoch 43/100\n",
      "38/38 [==============================] - 0s 4ms/step - loss: 0.2828 - accuracy: 0.9368 - val_loss: 0.2523 - val_accuracy: 0.9474\n",
      "Epoch 44/100\n",
      "38/38 [==============================] - 0s 4ms/step - loss: 0.2602 - accuracy: 0.9191 - val_loss: 0.2850 - val_accuracy: 0.9474\n",
      "Epoch 45/100\n",
      "38/38 [==============================] - 0s 4ms/step - loss: 0.1481 - accuracy: 0.9512 - val_loss: 0.2707 - val_accuracy: 0.9474\n",
      "Epoch 46/100\n",
      "38/38 [==============================] - 0s 4ms/step - loss: 0.1863 - accuracy: 0.9528 - val_loss: 0.2897 - val_accuracy: 0.9474\n",
      "Epoch 47/100\n",
      "38/38 [==============================] - 0s 4ms/step - loss: 0.1979 - accuracy: 0.9580 - val_loss: 0.2678 - val_accuracy: 0.9474\n",
      "Epoch 48/100\n",
      "38/38 [==============================] - 0s 4ms/step - loss: 0.2812 - accuracy: 0.9298 - val_loss: 0.3766 - val_accuracy: 0.9474\n",
      "Epoch 49/100\n",
      "38/38 [==============================] - 0s 4ms/step - loss: 0.1743 - accuracy: 0.9446 - val_loss: 0.2692 - val_accuracy: 0.9474\n",
      "Epoch 50/100\n",
      "38/38 [==============================] - 0s 4ms/step - loss: 0.2461 - accuracy: 0.9136 - val_loss: 0.2425 - val_accuracy: 0.9474\n",
      "Epoch 51/100\n",
      "38/38 [==============================] - 0s 4ms/step - loss: 0.2345 - accuracy: 0.9321 - val_loss: 0.2495 - val_accuracy: 0.9474\n",
      "Epoch 52/100\n",
      "38/38 [==============================] - 0s 4ms/step - loss: 0.3005 - accuracy: 0.8588 - val_loss: 0.3762 - val_accuracy: 0.9474\n",
      "Epoch 53/100\n",
      "38/38 [==============================] - 0s 4ms/step - loss: 0.2119 - accuracy: 0.9548 - val_loss: 0.2035 - val_accuracy: 0.9474\n",
      "Epoch 54/100\n",
      "38/38 [==============================] - 0s 4ms/step - loss: 0.2057 - accuracy: 0.8932 - val_loss: 0.3676 - val_accuracy: 0.9474\n",
      "Epoch 55/100\n",
      "38/38 [==============================] - 0s 4ms/step - loss: 0.2314 - accuracy: 0.9282 - val_loss: 0.2343 - val_accuracy: 0.9474\n",
      "Epoch 56/100\n",
      "38/38 [==============================] - 0s 4ms/step - loss: 0.3126 - accuracy: 0.9293 - val_loss: 0.2453 - val_accuracy: 0.9474\n",
      "Epoch 57/100\n",
      "38/38 [==============================] - 0s 4ms/step - loss: 0.2393 - accuracy: 0.9062 - val_loss: 0.2673 - val_accuracy: 0.9474\n",
      "Epoch 58/100\n",
      "38/38 [==============================] - 0s 4ms/step - loss: 0.2179 - accuracy: 0.9381 - val_loss: 0.2685 - val_accuracy: 0.9474\n"
     ]
    },
    {
     "name": "stdout",
     "output_type": "stream",
     "text": [
      "Epoch 59/100\n",
      "38/38 [==============================] - 0s 4ms/step - loss: 0.2497 - accuracy: 0.9365 - val_loss: 0.2233 - val_accuracy: 0.9474\n",
      "Epoch 60/100\n",
      "38/38 [==============================] - 0s 4ms/step - loss: 0.2407 - accuracy: 0.9060 - val_loss: 0.2832 - val_accuracy: 0.9474\n",
      "Epoch 61/100\n",
      "38/38 [==============================] - 0s 4ms/step - loss: 0.2508 - accuracy: 0.9083 - val_loss: 0.3005 - val_accuracy: 0.9474\n",
      "Epoch 62/100\n",
      "38/38 [==============================] - 0s 4ms/step - loss: 0.2184 - accuracy: 0.9302 - val_loss: 0.2839 - val_accuracy: 0.9474\n",
      "Epoch 63/100\n",
      "38/38 [==============================] - 0s 4ms/step - loss: 0.2959 - accuracy: 0.8755 - val_loss: 0.3400 - val_accuracy: 0.9474\n",
      "Epoch 64/100\n",
      "38/38 [==============================] - 0s 4ms/step - loss: 0.1939 - accuracy: 0.9331 - val_loss: 0.2533 - val_accuracy: 0.9474\n",
      "Epoch 65/100\n",
      "38/38 [==============================] - 0s 5ms/step - loss: 0.1867 - accuracy: 0.9299 - val_loss: 0.3087 - val_accuracy: 0.9474\n",
      "Epoch 66/100\n",
      "38/38 [==============================] - 0s 4ms/step - loss: 0.3034 - accuracy: 0.8845 - val_loss: 0.2473 - val_accuracy: 0.9474\n",
      "Epoch 67/100\n",
      "38/38 [==============================] - 0s 4ms/step - loss: 0.1965 - accuracy: 0.9364 - val_loss: 0.2206 - val_accuracy: 0.9474\n",
      "Epoch 68/100\n",
      "38/38 [==============================] - 0s 4ms/step - loss: 0.1777 - accuracy: 0.9390 - val_loss: 0.2520 - val_accuracy: 0.9474\n",
      "Epoch 69/100\n",
      "38/38 [==============================] - 0s 4ms/step - loss: 0.1862 - accuracy: 0.9449 - val_loss: 0.2760 - val_accuracy: 0.9474\n",
      "Epoch 70/100\n",
      "38/38 [==============================] - 0s 4ms/step - loss: 0.2411 - accuracy: 0.8729 - val_loss: 0.3862 - val_accuracy: 0.9474\n",
      "Epoch 71/100\n",
      "38/38 [==============================] - 0s 4ms/step - loss: 0.2917 - accuracy: 0.8800 - val_loss: 0.4769 - val_accuracy: 0.9474\n",
      "Epoch 72/100\n",
      "38/38 [==============================] - 0s 4ms/step - loss: 0.1738 - accuracy: 0.9463 - val_loss: 0.3287 - val_accuracy: 0.9474\n",
      "Epoch 73/100\n",
      "38/38 [==============================] - 0s 4ms/step - loss: 0.2266 - accuracy: 0.9366 - val_loss: 0.2120 - val_accuracy: 0.9474\n",
      "Epoch 74/100\n",
      "38/38 [==============================] - 0s 5ms/step - loss: 0.2861 - accuracy: 0.8799 - val_loss: 0.3092 - val_accuracy: 0.9474\n",
      "Epoch 75/100\n",
      "38/38 [==============================] - 0s 5ms/step - loss: 0.1591 - accuracy: 0.9413 - val_loss: 0.2025 - val_accuracy: 0.9474\n",
      "Epoch 76/100\n",
      "38/38 [==============================] - 0s 5ms/step - loss: 0.1733 - accuracy: 0.9524 - val_loss: 0.1814 - val_accuracy: 0.9474\n",
      "Epoch 77/100\n",
      "38/38 [==============================] - 0s 4ms/step - loss: 0.2247 - accuracy: 0.9257 - val_loss: 0.1796 - val_accuracy: 0.9474\n",
      "Epoch 78/100\n",
      "38/38 [==============================] - 0s 4ms/step - loss: 0.2027 - accuracy: 0.9434 - val_loss: 0.1811 - val_accuracy: 0.9474\n",
      "Epoch 79/100\n",
      "38/38 [==============================] - 0s 4ms/step - loss: 0.2190 - accuracy: 0.9122 - val_loss: 0.1855 - val_accuracy: 0.9474\n",
      "Epoch 80/100\n",
      "38/38 [==============================] - 0s 4ms/step - loss: 0.1710 - accuracy: 0.9423 - val_loss: 0.1710 - val_accuracy: 0.9474\n",
      "Epoch 81/100\n",
      "38/38 [==============================] - 0s 4ms/step - loss: 0.2852 - accuracy: 0.8820 - val_loss: 0.1926 - val_accuracy: 0.9474\n",
      "Epoch 82/100\n",
      "38/38 [==============================] - 0s 4ms/step - loss: 0.1954 - accuracy: 0.9286 - val_loss: 0.1615 - val_accuracy: 0.9474\n",
      "Epoch 83/100\n",
      "38/38 [==============================] - 0s 4ms/step - loss: 0.2336 - accuracy: 0.9149 - val_loss: 0.1803 - val_accuracy: 0.9474\n",
      "Epoch 84/100\n",
      "38/38 [==============================] - 0s 4ms/step - loss: 0.3110 - accuracy: 0.8333 - val_loss: 0.3074 - val_accuracy: 0.9474\n",
      "Epoch 85/100\n",
      "38/38 [==============================] - 0s 4ms/step - loss: 0.1501 - accuracy: 0.9450 - val_loss: 0.2347 - val_accuracy: 0.9474\n",
      "Epoch 86/100\n",
      "38/38 [==============================] - 0s 4ms/step - loss: 0.2378 - accuracy: 0.9080 - val_loss: 0.3268 - val_accuracy: 0.9474\n",
      "Epoch 87/100\n",
      "38/38 [==============================] - 0s 4ms/step - loss: 0.1809 - accuracy: 0.9212 - val_loss: 0.2809 - val_accuracy: 0.9474\n",
      "Epoch 88/100\n",
      "38/38 [==============================] - 0s 4ms/step - loss: 0.2075 - accuracy: 0.9125 - val_loss: 0.2061 - val_accuracy: 0.9474\n",
      "Epoch 89/100\n",
      "38/38 [==============================] - 0s 4ms/step - loss: 0.1764 - accuracy: 0.9382 - val_loss: 0.1960 - val_accuracy: 0.9474\n",
      "Epoch 90/100\n",
      "38/38 [==============================] - 0s 4ms/step - loss: 0.2085 - accuracy: 0.9421 - val_loss: 0.2053 - val_accuracy: 0.9474\n",
      "Epoch 91/100\n",
      "38/38 [==============================] - 0s 5ms/step - loss: 0.1616 - accuracy: 0.9424 - val_loss: 0.2857 - val_accuracy: 0.9474\n",
      "Epoch 92/100\n",
      "38/38 [==============================] - 0s 5ms/step - loss: 0.1735 - accuracy: 0.9560 - val_loss: 0.1894 - val_accuracy: 0.9474\n",
      "Epoch 93/100\n",
      "38/38 [==============================] - 0s 5ms/step - loss: 0.1804 - accuracy: 0.9467 - val_loss: 0.1845 - val_accuracy: 0.9474\n",
      "Epoch 94/100\n",
      "38/38 [==============================] - 0s 5ms/step - loss: 0.2701 - accuracy: 0.8727 - val_loss: 0.2175 - val_accuracy: 0.9474\n",
      "Epoch 95/100\n",
      "38/38 [==============================] - 0s 4ms/step - loss: 0.2590 - accuracy: 0.8993 - val_loss: 0.2124 - val_accuracy: 0.9474\n",
      "Epoch 96/100\n",
      "38/38 [==============================] - 0s 5ms/step - loss: 0.1424 - accuracy: 0.9445 - val_loss: 0.2268 - val_accuracy: 0.9474\n",
      "Epoch 97/100\n",
      "38/38 [==============================] - 0s 5ms/step - loss: 0.1582 - accuracy: 0.9768 - val_loss: 0.2081 - val_accuracy: 0.9474\n",
      "Epoch 98/100\n",
      "38/38 [==============================] - 0s 5ms/step - loss: 0.3508 - accuracy: 0.8808 - val_loss: 0.3299 - val_accuracy: 0.9474\n",
      "Epoch 99/100\n",
      "38/38 [==============================] - 0s 5ms/step - loss: 0.2036 - accuracy: 0.9448 - val_loss: 0.3921 - val_accuracy: 0.9474\n",
      "Epoch 100/100\n",
      "38/38 [==============================] - 0s 6ms/step - loss: 0.2066 - accuracy: 0.9103 - val_loss: 0.2384 - val_accuracy: 0.9474\n"
     ]
    }
   ],
   "source": [
    "# Train the ANN\n",
    "history = model.fit(X_train, y_train, batch_size = 2, epochs = 100, validation_split=0.2)"
   ]
  },
  {
   "cell_type": "code",
   "execution_count": 45,
   "metadata": {},
   "outputs": [
    {
     "data": {
      "image/png": "[encoded data removed]",
      "text/plain": [
       "<Figure size 432x288 with 1 Axes>"
      ]
     },
     "metadata": {
      "needs_background": "light"
     },
     "output_type": "display_data"
    },
    {
     "data": {
      "image/png": "[encoded data removed]",
      "text/plain": [
       "<Figure size 432x288 with 1 Axes>"
      ]
     },
     "metadata": {
      "needs_background": "light"
     },
     "output_type": "display_data"
    }
   ],
   "source": [
    "history_df = pd.DataFrame(history.history)\n",
    "\n",
    "plt.plot(history_df.loc[:, ['loss']], \"#CD5C5C\", label='Training loss')\n",
    "plt.plot(history_df.loc[:, ['val_loss']],\"#FF0000\", label='Validation loss')\n",
    "plt.title('Training and Validation loss')\n",
    "plt.xlabel('Epochs')\n",
    "plt.ylabel('Loss')\n",
    "plt.legend(loc=\"best\")\n",
    "\n",
    "plt.show()\n",
    "\n",
    "history_df = pd.DataFrame(history.history)\n",
    "\n",
    "plt.plot(history_df.loc[:, ['accuracy']], \"#CD5C5C\", label='Training accuracy')\n",
    "plt.plot(history_df.loc[:, ['val_accuracy']],\"#FF0000\", label='Validation accuracy')\n",
    "\n",
    "plt.title('Training and Validation accuracy')\n",
    "plt.xlabel('Epochs')\n",
    "plt.ylabel('Accuracy')\n",
    "plt.legend()\n",
    "plt.show()"
   ]
  },
  {
   "cell_type": "code",
   "execution_count": 46,
   "metadata": {},
   "outputs": [],
   "source": [
    "# Predicting the test set results\n",
    "y_pred = model.predict(X_test)\n",
    "y_pred = (y_pred > 0.4)\n",
    "\n",
    "dnn_4_acc = accuracy_score(y_pred, y_test)\n",
    "dnn_4_prec = precision_score(y_pred, y_test,average='weighted')\n",
    "dnn_4_rec = recall_score(y_pred, y_test,average='weighted')\n",
    "dnn_4_f1 = f1_score(y_pred, y_test,average='weighted')\n",
    "dnn_4_spec = specificity_score(y_pred, y_test,average='weighted')\n",
    "dnn_4_sens = sensitivity_score(y_pred, y_test,average='weighted')"
   ]
  },
  {
   "cell_type": "code",
   "execution_count": 78,
   "metadata": {},
   "outputs": [],
   "source": [
    "storeResults1('DNN - 4 Layers',dnn_4_acc,dnn_4_prec,dnn_4_rec,dnn_4_f1,dnn_4_spec,dnn_4_sens)"
   ]
  },
  {
   "cell_type": "markdown",
   "metadata": {},
   "source": [
    "# 5 Layers"
   ]
  },
  {
   "cell_type": "code",
   "execution_count": 47,
   "metadata": {},
   "outputs": [],
   "source": [
    "# Initialising the NN\n",
    "model = Sequential()\n",
    "\n",
    "# layers\n",
    "model.add(Dense(units = 128, kernel_initializer = 'uniform', activation = 'relu', input_dim = 10))\n",
    "model.add(Dense(units = 64, kernel_initializer = 'uniform', activation = 'relu'))\n",
    "model.add(Dropout(0.25))\n",
    "model.add(Dense(units = 64, kernel_initializer = 'uniform', activation = 'relu'))\n",
    "model.add(Dropout(0.5))\n",
    "model.add(Dense(units = 32, kernel_initializer = 'uniform', activation = 'relu'))\n",
    "model.add(Dropout(0.5))\n",
    "model.add(Dense(units = 32, kernel_initializer = 'uniform', activation = 'relu'))\n",
    "model.add(Dropout(0.5))\n",
    "model.add(Dense(units = 1, kernel_initializer = 'uniform', activation = 'sigmoid'))\n",
    "\n",
    "# Compiling the ANN\n",
    "model.compile(optimizer = 'adam', loss = 'binary_crossentropy', metrics = ['accuracy'])"
   ]
  },
  {
   "cell_type": "code",
   "execution_count": 48,
   "metadata": {},
   "outputs": [
    {
     "name": "stdout",
     "output_type": "stream",
     "text": [
      "Epoch 1/100\n",
      "38/38 [==============================] - 9s 47ms/step - loss: 0.6866 - accuracy: 0.8918 - val_loss: 0.5860 - val_accuracy: 0.9474\n",
      "Epoch 2/100\n",
      "38/38 [==============================] - 0s 4ms/step - loss: 0.4474 - accuracy: 0.9393 - val_loss: 0.2833 - val_accuracy: 0.9474\n",
      "Epoch 3/100\n",
      "38/38 [==============================] - 0s 5ms/step - loss: 0.2259 - accuracy: 0.9516 - val_loss: 0.2411 - val_accuracy: 0.9474\n",
      "Epoch 4/100\n",
      "38/38 [==============================] - 0s 4ms/step - loss: 0.1825 - accuracy: 0.9442 - val_loss: 0.2423 - val_accuracy: 0.9474\n",
      "Epoch 5/100\n",
      "38/38 [==============================] - 0s 4ms/step - loss: 0.3088 - accuracy: 0.9211 - val_loss: 0.2496 - val_accuracy: 0.9474\n",
      "Epoch 6/100\n",
      "38/38 [==============================] - 0s 5ms/step - loss: 0.3582 - accuracy: 0.9208 - val_loss: 0.2479 - val_accuracy: 0.9474\n",
      "Epoch 7/100\n",
      "38/38 [==============================] - 0s 5ms/step - loss: 0.3274 - accuracy: 0.9021 - val_loss: 0.2929 - val_accuracy: 0.9474\n",
      "Epoch 8/100\n",
      "38/38 [==============================] - 0s 5ms/step - loss: 0.2151 - accuracy: 0.9352 - val_loss: 0.2704 - val_accuracy: 0.9474\n",
      "Epoch 9/100\n",
      "38/38 [==============================] - 0s 5ms/step - loss: 0.2195 - accuracy: 0.9305 - val_loss: 0.2743 - val_accuracy: 0.9474\n",
      "Epoch 10/100\n",
      "38/38 [==============================] - 0s 5ms/step - loss: 0.3604 - accuracy: 0.8839 - val_loss: 0.2917 - val_accuracy: 0.9474\n",
      "Epoch 11/100\n",
      "38/38 [==============================] - 0s 5ms/step - loss: 0.2468 - accuracy: 0.9355 - val_loss: 0.2843 - val_accuracy: 0.9474\n",
      "Epoch 12/100\n",
      "38/38 [==============================] - 0s 4ms/step - loss: 0.4580 - accuracy: 0.8622 - val_loss: 0.3086 - val_accuracy: 0.9474\n",
      "Epoch 13/100\n",
      "38/38 [==============================] - 0s 4ms/step - loss: 0.3710 - accuracy: 0.9068 - val_loss: 0.2810 - val_accuracy: 0.9474\n",
      "Epoch 14/100\n",
      "38/38 [==============================] - 0s 6ms/step - loss: 0.2459 - accuracy: 0.8974 - val_loss: 0.3388 - val_accuracy: 0.9474\n",
      "Epoch 15/100\n",
      "38/38 [==============================] - 0s 5ms/step - loss: 0.3694 - accuracy: 0.8768 - val_loss: 0.2759 - val_accuracy: 0.9474\n",
      "Epoch 16/100\n",
      "38/38 [==============================] - 0s 5ms/step - loss: 0.2597 - accuracy: 0.9400 - val_loss: 0.2730 - val_accuracy: 0.9474\n",
      "Epoch 17/100\n",
      "38/38 [==============================] - 0s 5ms/step - loss: 0.3265 - accuracy: 0.8564 - val_loss: 0.3522 - val_accuracy: 0.9474\n",
      "Epoch 18/100\n",
      "38/38 [==============================] - 0s 5ms/step - loss: 0.3597 - accuracy: 0.9111 - val_loss: 0.2682 - val_accuracy: 0.9474\n",
      "Epoch 19/100\n",
      "38/38 [==============================] - 0s 5ms/step - loss: 0.4998 - accuracy: 0.8685 - val_loss: 0.2865 - val_accuracy: 0.9474\n",
      "Epoch 20/100\n",
      "38/38 [==============================] - 0s 5ms/step - loss: 0.2139 - accuracy: 0.9398 - val_loss: 0.2874 - val_accuracy: 0.9474\n",
      "Epoch 21/100\n",
      "38/38 [==============================] - 0s 5ms/step - loss: 0.2244 - accuracy: 0.9349 - val_loss: 0.3033 - val_accuracy: 0.9474\n",
      "Epoch 22/100\n",
      "38/38 [==============================] - 0s 5ms/step - loss: 0.4077 - accuracy: 0.8485 - val_loss: 0.3482 - val_accuracy: 0.9474\n",
      "Epoch 23/100\n",
      "38/38 [==============================] - 0s 4ms/step - loss: 0.4877 - accuracy: 0.9101 - val_loss: 0.3058 - val_accuracy: 0.9474\n",
      "Epoch 24/100\n",
      "38/38 [==============================] - 0s 4ms/step - loss: 0.2351 - accuracy: 0.9207 - val_loss: 0.3533 - val_accuracy: 0.9474\n",
      "Epoch 25/100\n",
      "38/38 [==============================] - 0s 4ms/step - loss: 0.3584 - accuracy: 0.9081 - val_loss: 0.3552 - val_accuracy: 0.9474\n",
      "Epoch 26/100\n",
      "38/38 [==============================] - 0s 4ms/step - loss: 0.5672 - accuracy: 0.8868 - val_loss: 0.2728 - val_accuracy: 0.9474\n",
      "Epoch 27/100\n",
      "38/38 [==============================] - 0s 4ms/step - loss: 0.1962 - accuracy: 0.9618 - val_loss: 0.2580 - val_accuracy: 0.9474\n",
      "Epoch 28/100\n",
      "38/38 [==============================] - 0s 4ms/step - loss: 0.2631 - accuracy: 0.9453 - val_loss: 0.2561 - val_accuracy: 0.9474\n",
      "Epoch 29/100\n",
      "38/38 [==============================] - 0s 4ms/step - loss: 0.3144 - accuracy: 0.9281 - val_loss: 0.2965 - val_accuracy: 0.9474\n",
      "Epoch 30/100\n",
      "38/38 [==============================] - 0s 5ms/step - loss: 0.2047 - accuracy: 0.9499 - val_loss: 0.3211 - val_accuracy: 0.9474\n",
      "Epoch 31/100\n",
      "38/38 [==============================] - 0s 6ms/step - loss: 0.2962 - accuracy: 0.8711 - val_loss: 0.4048 - val_accuracy: 0.9474\n",
      "Epoch 32/100\n",
      "38/38 [==============================] - 0s 5ms/step - loss: 0.2696 - accuracy: 0.9138 - val_loss: 0.3373 - val_accuracy: 0.9474\n",
      "Epoch 33/100\n",
      "38/38 [==============================] - 0s 5ms/step - loss: 0.1785 - accuracy: 0.9682 - val_loss: 0.2981 - val_accuracy: 0.9474\n",
      "Epoch 34/100\n",
      "38/38 [==============================] - 0s 5ms/step - loss: 0.2610 - accuracy: 0.8863 - val_loss: 0.3341 - val_accuracy: 0.9474\n",
      "Epoch 35/100\n",
      "38/38 [==============================] - 0s 4ms/step - loss: 0.6576 - accuracy: 0.8667 - val_loss: 0.3302 - val_accuracy: 0.9474\n",
      "Epoch 36/100\n",
      "38/38 [==============================] - 0s 5ms/step - loss: 0.2557 - accuracy: 0.9098 - val_loss: 0.2609 - val_accuracy: 0.9474\n",
      "Epoch 37/100\n",
      "38/38 [==============================] - 0s 4ms/step - loss: 0.2435 - accuracy: 0.9606 - val_loss: 0.2861 - val_accuracy: 0.9474\n",
      "Epoch 38/100\n",
      "38/38 [==============================] - 0s 5ms/step - loss: 0.4071 - accuracy: 0.9133 - val_loss: 0.2678 - val_accuracy: 0.9474\n",
      "Epoch 39/100\n",
      "38/38 [==============================] - 0s 5ms/step - loss: 0.3350 - accuracy: 0.8997 - val_loss: 0.3461 - val_accuracy: 0.9474\n",
      "Epoch 40/100\n",
      "38/38 [==============================] - 0s 4ms/step - loss: 0.2139 - accuracy: 0.9233 - val_loss: 0.2663 - val_accuracy: 0.9474\n",
      "Epoch 41/100\n",
      "38/38 [==============================] - 0s 4ms/step - loss: 0.3303 - accuracy: 0.8911 - val_loss: 0.2623 - val_accuracy: 0.9474\n",
      "Epoch 42/100\n",
      "38/38 [==============================] - 0s 4ms/step - loss: 0.2194 - accuracy: 0.9381 - val_loss: 0.3095 - val_accuracy: 0.9474\n",
      "Epoch 43/100\n",
      "38/38 [==============================] - 0s 4ms/step - loss: 0.2589 - accuracy: 0.9268 - val_loss: 0.3618 - val_accuracy: 0.9474\n",
      "Epoch 44/100\n",
      "38/38 [==============================] - 0s 4ms/step - loss: 0.5102 - accuracy: 0.8806 - val_loss: 0.3283 - val_accuracy: 0.9474\n",
      "Epoch 45/100\n",
      "38/38 [==============================] - 0s 4ms/step - loss: 0.1458 - accuracy: 0.9675 - val_loss: 0.2863 - val_accuracy: 0.9474\n",
      "Epoch 46/100\n",
      "38/38 [==============================] - 0s 4ms/step - loss: 0.3604 - accuracy: 0.9178 - val_loss: 0.2851 - val_accuracy: 0.9474\n",
      "Epoch 47/100\n",
      "38/38 [==============================] - 0s 4ms/step - loss: 0.2057 - accuracy: 0.9489 - val_loss: 0.2438 - val_accuracy: 0.9474\n",
      "Epoch 48/100\n",
      "38/38 [==============================] - 0s 4ms/step - loss: 0.2639 - accuracy: 0.8589 - val_loss: 0.3015 - val_accuracy: 0.9474\n",
      "Epoch 49/100\n",
      "38/38 [==============================] - 0s 4ms/step - loss: 0.2113 - accuracy: 0.9119 - val_loss: 0.2938 - val_accuracy: 0.9474\n",
      "Epoch 50/100\n",
      "38/38 [==============================] - 0s 4ms/step - loss: 0.2055 - accuracy: 0.9006 - val_loss: 0.2676 - val_accuracy: 0.9474\n",
      "Epoch 51/100\n",
      "38/38 [==============================] - 0s 4ms/step - loss: 0.3121 - accuracy: 0.9154 - val_loss: 0.2411 - val_accuracy: 0.9474\n",
      "Epoch 52/100\n",
      "38/38 [==============================] - 0s 4ms/step - loss: 0.2869 - accuracy: 0.8646 - val_loss: 0.2493 - val_accuracy: 0.9474\n",
      "Epoch 53/100\n",
      "38/38 [==============================] - 0s 5ms/step - loss: 0.3390 - accuracy: 0.8702 - val_loss: 0.2862 - val_accuracy: 0.9474\n",
      "Epoch 54/100\n",
      "38/38 [==============================] - ETA: 0s - loss: 0.2175 - accuracy: 0.93 - 0s 5ms/step - loss: 0.2172 - accuracy: 0.9310 - val_loss: 0.3103 - val_accuracy: 0.9474\n",
      "Epoch 55/100\n",
      "38/38 [==============================] - 0s 4ms/step - loss: 0.3276 - accuracy: 0.9041 - val_loss: 0.2520 - val_accuracy: 0.9474\n",
      "Epoch 56/100\n",
      "38/38 [==============================] - 0s 5ms/step - loss: 0.2388 - accuracy: 0.9161 - val_loss: 0.3065 - val_accuracy: 0.9474\n",
      "Epoch 57/100\n",
      "38/38 [==============================] - 0s 5ms/step - loss: 0.3405 - accuracy: 0.8778 - val_loss: 0.3052 - val_accuracy: 0.9474\n",
      "Epoch 58/100\n"
     ]
    },
    {
     "name": "stdout",
     "output_type": "stream",
     "text": [
      "38/38 [==============================] - 0s 4ms/step - loss: 0.1759 - accuracy: 0.9397 - val_loss: 0.2118 - val_accuracy: 0.9474\n",
      "Epoch 59/100\n",
      "38/38 [==============================] - 0s 5ms/step - loss: 0.2278 - accuracy: 0.9070 - val_loss: 0.2321 - val_accuracy: 0.9474\n",
      "Epoch 60/100\n",
      "38/38 [==============================] - 0s 5ms/step - loss: 0.2389 - accuracy: 0.8985 - val_loss: 0.3137 - val_accuracy: 0.9474\n",
      "Epoch 61/100\n",
      "38/38 [==============================] - 0s 5ms/step - loss: 0.1409 - accuracy: 0.9507 - val_loss: 0.2640 - val_accuracy: 0.9474\n",
      "Epoch 62/100\n",
      "38/38 [==============================] - 0s 5ms/step - loss: 0.2675 - accuracy: 0.8786 - val_loss: 0.3502 - val_accuracy: 0.9474\n",
      "Epoch 63/100\n",
      "38/38 [==============================] - 0s 5ms/step - loss: 0.2320 - accuracy: 0.9461 - val_loss: 0.2145 - val_accuracy: 0.9474\n",
      "Epoch 64/100\n",
      "38/38 [==============================] - 0s 5ms/step - loss: 0.1239 - accuracy: 0.9790 - val_loss: 0.1922 - val_accuracy: 0.9474\n",
      "Epoch 65/100\n",
      "38/38 [==============================] - 0s 4ms/step - loss: 0.2354 - accuracy: 0.9098 - val_loss: 0.1971 - val_accuracy: 0.9474\n",
      "Epoch 66/100\n",
      "38/38 [==============================] - 0s 5ms/step - loss: 0.2230 - accuracy: 0.9375 - val_loss: 0.2290 - val_accuracy: 0.9474\n",
      "Epoch 67/100\n",
      "38/38 [==============================] - 0s 4ms/step - loss: 0.2205 - accuracy: 0.9097 - val_loss: 0.1809 - val_accuracy: 0.9474\n",
      "Epoch 68/100\n",
      "38/38 [==============================] - 0s 5ms/step - loss: 0.2281 - accuracy: 0.9324 - val_loss: 0.2081 - val_accuracy: 0.9474\n",
      "Epoch 69/100\n",
      "38/38 [==============================] - 0s 5ms/step - loss: 0.2217 - accuracy: 0.9377 - val_loss: 0.2188 - val_accuracy: 0.9474\n",
      "Epoch 70/100\n",
      "38/38 [==============================] - 0s 5ms/step - loss: 0.2217 - accuracy: 0.9072 - val_loss: 0.2801 - val_accuracy: 0.9474\n",
      "Epoch 71/100\n",
      "38/38 [==============================] - 0s 5ms/step - loss: 0.2823 - accuracy: 0.9076 - val_loss: 0.1971 - val_accuracy: 0.9474\n",
      "Epoch 72/100\n",
      "38/38 [==============================] - 0s 5ms/step - loss: 0.3640 - accuracy: 0.8526 - val_loss: 0.3761 - val_accuracy: 0.9474\n",
      "Epoch 73/100\n",
      "38/38 [==============================] - 0s 4ms/step - loss: 0.4858 - accuracy: 0.8935 - val_loss: 0.2168 - val_accuracy: 0.9474\n",
      "Epoch 74/100\n",
      "38/38 [==============================] - 0s 4ms/step - loss: 0.2415 - accuracy: 0.9297 - val_loss: 0.1903 - val_accuracy: 0.9474\n",
      "Epoch 75/100\n",
      "38/38 [==============================] - 0s 5ms/step - loss: 0.2512 - accuracy: 0.9251 - val_loss: 0.1744 - val_accuracy: 0.9474\n",
      "Epoch 76/100\n",
      "38/38 [==============================] - 0s 5ms/step - loss: 0.2158 - accuracy: 0.9290 - val_loss: 0.1873 - val_accuracy: 0.9474\n",
      "Epoch 77/100\n",
      "38/38 [==============================] - 0s 5ms/step - loss: 0.1884 - accuracy: 0.9417 - val_loss: 0.1685 - val_accuracy: 0.9474\n",
      "Epoch 78/100\n",
      "38/38 [==============================] - 0s 4ms/step - loss: 0.1992 - accuracy: 0.9486 - val_loss: 0.1781 - val_accuracy: 0.9474\n",
      "Epoch 79/100\n",
      "38/38 [==============================] - 0s 4ms/step - loss: 0.1284 - accuracy: 0.9446 - val_loss: 0.1700 - val_accuracy: 0.9474\n",
      "Epoch 80/100\n",
      "38/38 [==============================] - 0s 4ms/step - loss: 0.2566 - accuracy: 0.9139 - val_loss: 0.1473 - val_accuracy: 0.9474\n",
      "Epoch 81/100\n",
      "38/38 [==============================] - 0s 4ms/step - loss: 0.1375 - accuracy: 0.9518 - val_loss: 0.2008 - val_accuracy: 0.9474\n",
      "Epoch 82/100\n",
      "38/38 [==============================] - 0s 5ms/step - loss: 0.2066 - accuracy: 0.9231 - val_loss: 0.2270 - val_accuracy: 0.9474\n",
      "Epoch 83/100\n",
      "38/38 [==============================] - 0s 5ms/step - loss: 0.2478 - accuracy: 0.9055 - val_loss: 0.2903 - val_accuracy: 0.9474\n",
      "Epoch 84/100\n",
      "38/38 [==============================] - 0s 5ms/step - loss: 0.1864 - accuracy: 0.9635 - val_loss: 0.1384 - val_accuracy: 0.9474\n",
      "Epoch 85/100\n",
      "38/38 [==============================] - 0s 5ms/step - loss: 0.1640 - accuracy: 0.9653 - val_loss: 0.2562 - val_accuracy: 0.9474\n",
      "Epoch 86/100\n",
      "38/38 [==============================] - 0s 5ms/step - loss: 0.1734 - accuracy: 0.9382 - val_loss: 0.2089 - val_accuracy: 0.9474\n",
      "Epoch 87/100\n",
      "38/38 [==============================] - 0s 6ms/step - loss: 0.1408 - accuracy: 0.9736 - val_loss: 0.1322 - val_accuracy: 0.9474\n",
      "Epoch 88/100\n",
      "38/38 [==============================] - 0s 5ms/step - loss: 0.2472 - accuracy: 0.8954 - val_loss: 0.1403 - val_accuracy: 0.9474\n",
      "Epoch 89/100\n",
      "38/38 [==============================] - 0s 5ms/step - loss: 0.1877 - accuracy: 0.9292 - val_loss: 0.1290 - val_accuracy: 0.9474\n",
      "Epoch 90/100\n",
      "38/38 [==============================] - 0s 5ms/step - loss: 0.3119 - accuracy: 0.8555 - val_loss: 0.1870 - val_accuracy: 0.9474\n",
      "Epoch 91/100\n",
      "38/38 [==============================] - 0s 6ms/step - loss: 0.1288 - accuracy: 0.9488 - val_loss: 0.1349 - val_accuracy: 0.9474\n",
      "Epoch 92/100\n",
      "38/38 [==============================] - 0s 5ms/step - loss: 0.2171 - accuracy: 0.9065 - val_loss: 0.2090 - val_accuracy: 0.9474\n",
      "Epoch 93/100\n",
      "38/38 [==============================] - 0s 4ms/step - loss: 0.2308 - accuracy: 0.9078 - val_loss: 0.1657 - val_accuracy: 0.9474\n",
      "Epoch 94/100\n",
      "38/38 [==============================] - 0s 4ms/step - loss: 0.1991 - accuracy: 0.9236 - val_loss: 0.1566 - val_accuracy: 0.9474\n",
      "Epoch 95/100\n",
      "38/38 [==============================] - 0s 5ms/step - loss: 0.3003 - accuracy: 0.8400 - val_loss: 0.3130 - val_accuracy: 0.9474\n",
      "Epoch 96/100\n",
      "38/38 [==============================] - 0s 6ms/step - loss: 0.2878 - accuracy: 0.9105 - val_loss: 0.1819 - val_accuracy: 0.9474\n",
      "Epoch 97/100\n",
      "38/38 [==============================] - 0s 6ms/step - loss: 0.3110 - accuracy: 0.8239 - val_loss: 0.2491 - val_accuracy: 0.9474\n",
      "Epoch 98/100\n",
      "38/38 [==============================] - 0s 5ms/step - loss: 0.2539 - accuracy: 0.9157 - val_loss: 0.1882 - val_accuracy: 0.9474\n",
      "Epoch 99/100\n",
      "38/38 [==============================] - 0s 6ms/step - loss: 0.2416 - accuracy: 0.9225 - val_loss: 0.1170 - val_accuracy: 0.9474\n",
      "Epoch 100/100\n",
      "38/38 [==============================] - 0s 5ms/step - loss: 0.1274 - accuracy: 0.9574 - val_loss: 0.1675 - val_accuracy: 0.9474\n"
     ]
    }
   ],
   "source": [
    "# Train the ANN\n",
    "history = model.fit(X_train, y_train, batch_size = 2, epochs = 100, validation_split=0.2)"
   ]
  },
  {
   "cell_type": "code",
   "execution_count": 49,
   "metadata": {},
   "outputs": [
    {
     "data": {
      "image/png": "[encoded data removed]",
      "text/plain": [
       "<Figure size 432x288 with 1 Axes>"
      ]
     },
     "metadata": {
      "needs_background": "light"
     },
     "output_type": "display_data"
    },
    {
     "data": {
      "image/png": "[encoded data removed]",
      "text/plain": [
       "<Figure size 432x288 with 1 Axes>"
      ]
     },
     "metadata": {
      "needs_background": "light"
     },
     "output_type": "display_data"
    }
   ],
   "source": [
    "history_df = pd.DataFrame(history.history)\n",
    "\n",
    "plt.plot(history_df.loc[:, ['loss']], \"#CD5C5C\", label='Training loss')\n",
    "plt.plot(history_df.loc[:, ['val_loss']],\"#FF0000\", label='Validation loss')\n",
    "plt.title('Training and Validation loss')\n",
    "plt.xlabel('Epochs')\n",
    "plt.ylabel('Loss')\n",
    "plt.legend(loc=\"best\")\n",
    "\n",
    "plt.show()\n",
    "\n",
    "history_df = pd.DataFrame(history.history)\n",
    "\n",
    "plt.plot(history_df.loc[:, ['accuracy']], \"#CD5C5C\", label='Training accuracy')\n",
    "plt.plot(history_df.loc[:, ['val_accuracy']],\"#FF0000\", label='Validation accuracy')\n",
    "\n",
    "plt.title('Training and Validation accuracy')\n",
    "plt.xlabel('Epochs')\n",
    "plt.ylabel('Accuracy')\n",
    "plt.legend()\n",
    "plt.show()"
   ]
  },
  {
   "cell_type": "code",
   "execution_count": 50,
   "metadata": {},
   "outputs": [],
   "source": [
    "# Predicting the test set results\n",
    "y_pred = model.predict(X_test)\n",
    "y_pred = (y_pred > 0.4)\n",
    "\n",
    "dnn_5_acc = accuracy_score(y_pred, y_test)\n",
    "dnn_5_prec = precision_score(y_pred, y_test,average='weighted')\n",
    "dnn_5_rec = recall_score(y_pred, y_test,average='weighted')\n",
    "dnn_5_f1 = f1_score(y_pred, y_test,average='weighted')\n",
    "dnn_5_spec = specificity_score(y_pred, y_test,average='weighted')\n",
    "dnn_5_sens = sensitivity_score(y_pred, y_test,average='weighted')"
   ]
  },
  {
   "cell_type": "code",
   "execution_count": 79,
   "metadata": {},
   "outputs": [],
   "source": [
    "storeResults1('DNN - 5 Layers',dnn_5_acc,dnn_5_prec,dnn_5_rec,dnn_5_f1,dnn_5_spec,dnn_5_sens)"
   ]
  },
  {
   "cell_type": "markdown",
   "metadata": {},
   "source": [
    "# 6 Layers"
   ]
  },
  {
   "cell_type": "code",
   "execution_count": 51,
   "metadata": {},
   "outputs": [],
   "source": [
    "# Initialising the NN\n",
    "model = Sequential()\n",
    "\n",
    "# layers\n",
    "model.add(Dense(units = 128, kernel_initializer = 'uniform', activation = 'relu', input_dim = 10))\n",
    "model.add(Dense(units = 64, kernel_initializer = 'uniform', activation = 'relu'))\n",
    "model.add(Dropout(0.25))\n",
    "model.add(Dense(units = 64, kernel_initializer = 'uniform', activation = 'relu'))\n",
    "model.add(Dropout(0.5))\n",
    "model.add(Dense(units = 32, kernel_initializer = 'uniform', activation = 'relu'))\n",
    "model.add(Dropout(0.5))\n",
    "model.add(Dense(units = 32, kernel_initializer = 'uniform', activation = 'relu'))\n",
    "model.add(Dropout(0.5))\n",
    "model.add(Dense(units = 16, kernel_initializer = 'uniform', activation = 'relu'))\n",
    "model.add(Dropout(0.5))\n",
    "model.add(Dense(units = 1, kernel_initializer = 'uniform', activation = 'sigmoid'))\n",
    "\n",
    "# Compiling the ANN\n",
    "model.compile(optimizer = 'adam', loss = 'binary_crossentropy', metrics = ['accuracy'])"
   ]
  },
  {
   "cell_type": "code",
   "execution_count": 52,
   "metadata": {},
   "outputs": [
    {
     "name": "stdout",
     "output_type": "stream",
     "text": [
      "Epoch 1/100\n",
      "38/38 [==============================] - 8s 39ms/step - loss: 0.6872 - accuracy: 0.9378 - val_loss: 0.6145 - val_accuracy: 0.9474\n",
      "Epoch 2/100\n",
      "38/38 [==============================] - 0s 4ms/step - loss: 0.4415 - accuracy: 0.9398 - val_loss: 0.3642 - val_accuracy: 0.9474\n",
      "Epoch 3/100\n",
      "38/38 [==============================] - 0s 4ms/step - loss: 0.7069 - accuracy: 0.8778 - val_loss: 0.2383 - val_accuracy: 0.9474\n",
      "Epoch 4/100\n",
      "38/38 [==============================] - 0s 4ms/step - loss: 0.2230 - accuracy: 0.9140 - val_loss: 0.3136 - val_accuracy: 0.9474\n",
      "Epoch 5/100\n",
      "38/38 [==============================] - 0s 5ms/step - loss: 0.2057 - accuracy: 0.9495 - val_loss: 0.2520 - val_accuracy: 0.9474\n",
      "Epoch 6/100\n",
      "38/38 [==============================] - 0s 5ms/step - loss: 0.3386 - accuracy: 0.9199 - val_loss: 0.2510 - val_accuracy: 0.9474\n",
      "Epoch 7/100\n",
      "38/38 [==============================] - 0s 4ms/step - loss: 0.2472 - accuracy: 0.9317 - val_loss: 0.2543 - val_accuracy: 0.9474\n",
      "Epoch 8/100\n",
      "38/38 [==============================] - 0s 4ms/step - loss: 0.3694 - accuracy: 0.9519 - val_loss: 0.2607 - val_accuracy: 0.9474\n",
      "Epoch 9/100\n",
      "38/38 [==============================] - 0s 4ms/step - loss: 0.2162 - accuracy: 0.9434 - val_loss: 0.2856 - val_accuracy: 0.9474\n",
      "Epoch 10/100\n",
      "38/38 [==============================] - 0s 4ms/step - loss: 0.3363 - accuracy: 0.9090 - val_loss: 0.2588 - val_accuracy: 0.9474\n",
      "Epoch 11/100\n",
      "38/38 [==============================] - 0s 4ms/step - loss: 0.2372 - accuracy: 0.9501 - val_loss: 0.2614 - val_accuracy: 0.9474\n",
      "Epoch 12/100\n",
      "38/38 [==============================] - 0s 4ms/step - loss: 0.3716 - accuracy: 0.9264 - val_loss: 0.2938 - val_accuracy: 0.9474\n",
      "Epoch 13/100\n",
      "38/38 [==============================] - 0s 4ms/step - loss: 0.2683 - accuracy: 0.9057 - val_loss: 0.2812 - val_accuracy: 0.9474\n",
      "Epoch 14/100\n",
      "38/38 [==============================] - 0s 4ms/step - loss: 0.6151 - accuracy: 0.8402 - val_loss: 0.2916 - val_accuracy: 0.9474\n",
      "Epoch 15/100\n",
      "38/38 [==============================] - 0s 5ms/step - loss: 0.2731 - accuracy: 0.9094 - val_loss: 0.3147 - val_accuracy: 0.9474\n",
      "Epoch 16/100\n",
      "38/38 [==============================] - 0s 5ms/step - loss: 0.3502 - accuracy: 0.8782 - val_loss: 0.3058 - val_accuracy: 0.9474\n",
      "Epoch 17/100\n",
      "38/38 [==============================] - 0s 5ms/step - loss: 0.3019 - accuracy: 0.8998 - val_loss: 0.2870 - val_accuracy: 0.9474\n",
      "Epoch 18/100\n",
      "38/38 [==============================] - 0s 4ms/step - loss: 0.2970 - accuracy: 0.9256 - val_loss: 0.2846 - val_accuracy: 0.9474\n",
      "Epoch 19/100\n",
      "38/38 [==============================] - 0s 5ms/step - loss: 0.3069 - accuracy: 0.9239 - val_loss: 0.2820 - val_accuracy: 0.9474\n",
      "Epoch 20/100\n",
      "38/38 [==============================] - 0s 5ms/step - loss: 0.3249 - accuracy: 0.9229 - val_loss: 0.2856 - val_accuracy: 0.9474\n",
      "Epoch 21/100\n",
      "38/38 [==============================] - 0s 5ms/step - loss: 0.2100 - accuracy: 0.9244 - val_loss: 0.4603 - val_accuracy: 0.9474\n",
      "Epoch 22/100\n",
      "38/38 [==============================] - 0s 5ms/step - loss: 0.4647 - accuracy: 0.8826 - val_loss: 0.3517 - val_accuracy: 0.9474\n",
      "Epoch 23/100\n",
      "38/38 [==============================] - 0s 5ms/step - loss: 0.3267 - accuracy: 0.9070 - val_loss: 0.2889 - val_accuracy: 0.9474\n",
      "Epoch 24/100\n",
      "38/38 [==============================] - 0s 5ms/step - loss: 0.3221 - accuracy: 0.8904 - val_loss: 0.2805 - val_accuracy: 0.9474\n",
      "Epoch 25/100\n",
      "38/38 [==============================] - 0s 5ms/step - loss: 0.2328 - accuracy: 0.9547 - val_loss: 0.2825 - val_accuracy: 0.9474\n",
      "Epoch 26/100\n",
      "38/38 [==============================] - 0s 5ms/step - loss: 0.3884 - accuracy: 0.8967 - val_loss: 0.3403 - val_accuracy: 0.9474\n",
      "Epoch 27/100\n",
      "38/38 [==============================] - 0s 5ms/step - loss: 0.3068 - accuracy: 0.9126 - val_loss: 0.3064 - val_accuracy: 0.9474\n",
      "Epoch 28/100\n",
      "38/38 [==============================] - 0s 5ms/step - loss: 0.2878 - accuracy: 0.9187 - val_loss: 0.2544 - val_accuracy: 0.9474\n",
      "Epoch 29/100\n",
      "38/38 [==============================] - 0s 5ms/step - loss: 0.2434 - accuracy: 0.9330 - val_loss: 0.2597 - val_accuracy: 0.9474\n",
      "Epoch 30/100\n",
      "38/38 [==============================] - 0s 5ms/step - loss: 0.2866 - accuracy: 0.8980 - val_loss: 0.4144 - val_accuracy: 0.9474\n",
      "Epoch 31/100\n",
      "38/38 [==============================] - 0s 5ms/step - loss: 0.3359 - accuracy: 0.9222 - val_loss: 0.2379 - val_accuracy: 0.9474\n",
      "Epoch 32/100\n",
      "38/38 [==============================] - 0s 5ms/step - loss: 0.2732 - accuracy: 0.9208 - val_loss: 0.2611 - val_accuracy: 0.9474\n",
      "Epoch 33/100\n",
      "38/38 [==============================] - 0s 5ms/step - loss: 0.3074 - accuracy: 0.9388 - val_loss: 0.2455 - val_accuracy: 0.9474\n",
      "Epoch 34/100\n",
      "38/38 [==============================] - 0s 5ms/step - loss: 0.3559 - accuracy: 0.9349 - val_loss: 0.2589 - val_accuracy: 0.9474\n",
      "Epoch 35/100\n",
      "38/38 [==============================] - 0s 5ms/step - loss: 0.2118 - accuracy: 0.9431 - val_loss: 0.2608 - val_accuracy: 0.9474\n",
      "Epoch 36/100\n",
      "38/38 [==============================] - 0s 5ms/step - loss: 0.4838 - accuracy: 0.9295 - val_loss: 0.2497 - val_accuracy: 0.9474\n",
      "Epoch 37/100\n",
      "38/38 [==============================] - 0s 5ms/step - loss: 0.3066 - accuracy: 0.9051 - val_loss: 0.2739 - val_accuracy: 0.9474\n",
      "Epoch 38/100\n",
      "38/38 [==============================] - 0s 5ms/step - loss: 0.1787 - accuracy: 0.9255 - val_loss: 0.2798 - val_accuracy: 0.9474\n",
      "Epoch 39/100\n",
      "38/38 [==============================] - 0s 4ms/step - loss: 0.2666 - accuracy: 0.9173 - val_loss: 0.3217 - val_accuracy: 0.9474\n",
      "Epoch 40/100\n",
      "38/38 [==============================] - 0s 4ms/step - loss: 0.2034 - accuracy: 0.9421 - val_loss: 0.2553 - val_accuracy: 0.9474\n",
      "Epoch 41/100\n",
      "38/38 [==============================] - 0s 4ms/step - loss: 0.3454 - accuracy: 0.9324 - val_loss: 0.2406 - val_accuracy: 0.9474\n",
      "Epoch 42/100\n",
      "38/38 [==============================] - 0s 6ms/step - loss: 0.3169 - accuracy: 0.9260 - val_loss: 0.2304 - val_accuracy: 0.9474\n",
      "Epoch 43/100\n",
      "38/38 [==============================] - 0s 5ms/step - loss: 0.1978 - accuracy: 0.9442 - val_loss: 0.2720 - val_accuracy: 0.9474\n",
      "Epoch 44/100\n",
      "38/38 [==============================] - 0s 6ms/step - loss: 0.3254 - accuracy: 0.8872 - val_loss: 0.2968 - val_accuracy: 0.9474\n",
      "Epoch 45/100\n",
      "38/38 [==============================] - 0s 5ms/step - loss: 0.4516 - accuracy: 0.8521 - val_loss: 0.3095 - val_accuracy: 0.9474\n",
      "Epoch 46/100\n",
      "38/38 [==============================] - 0s 5ms/step - loss: 0.6163 - accuracy: 0.8924 - val_loss: 0.2450 - val_accuracy: 0.9474\n",
      "Epoch 47/100\n",
      "38/38 [==============================] - 0s 5ms/step - loss: 0.1977 - accuracy: 0.9406 - val_loss: 0.2389 - val_accuracy: 0.9474\n",
      "Epoch 48/100\n",
      "38/38 [==============================] - 0s 5ms/step - loss: 0.3034 - accuracy: 0.8676 - val_loss: 0.2546 - val_accuracy: 0.9474\n",
      "Epoch 49/100\n",
      "38/38 [==============================] - 0s 5ms/step - loss: 0.3488 - accuracy: 0.9035 - val_loss: 0.2760 - val_accuracy: 0.9474\n",
      "Epoch 50/100\n",
      "38/38 [==============================] - 0s 5ms/step - loss: 0.1597 - accuracy: 0.9693 - val_loss: 0.2221 - val_accuracy: 0.9474\n",
      "Epoch 51/100\n",
      "38/38 [==============================] - 0s 5ms/step - loss: 0.2888 - accuracy: 0.9240 - val_loss: 0.2249 - val_accuracy: 0.9474\n",
      "Epoch 52/100\n",
      "38/38 [==============================] - 0s 5ms/step - loss: 0.2778 - accuracy: 0.9520 - val_loss: 0.2092 - val_accuracy: 0.9474\n",
      "Epoch 53/100\n",
      "38/38 [==============================] - 0s 4ms/step - loss: 0.2445 - accuracy: 0.9658 - val_loss: 0.2309 - val_accuracy: 0.9474\n",
      "Epoch 54/100\n",
      "38/38 [==============================] - 0s 4ms/step - loss: 0.2563 - accuracy: 0.9208 - val_loss: 0.2552 - val_accuracy: 0.9474\n",
      "Epoch 55/100\n",
      "38/38 [==============================] - 0s 4ms/step - loss: 0.2396 - accuracy: 0.9490 - val_loss: 0.1973 - val_accuracy: 0.9474\n",
      "Epoch 56/100\n",
      "38/38 [==============================] - 0s 6ms/step - loss: 0.1683 - accuracy: 0.9429 - val_loss: 0.2432 - val_accuracy: 0.9474\n",
      "Epoch 57/100\n",
      "38/38 [==============================] - 0s 5ms/step - loss: 0.2168 - accuracy: 0.9429 - val_loss: 0.2378 - val_accuracy: 0.9474\n",
      "Epoch 58/100\n",
      "38/38 [==============================] - 0s 5ms/step - loss: 0.2520 - accuracy: 0.8811 - val_loss: 0.2799 - val_accuracy: 0.9474\n"
     ]
    },
    {
     "name": "stdout",
     "output_type": "stream",
     "text": [
      "Epoch 59/100\n",
      "38/38 [==============================] - 0s 5ms/step - loss: 0.1546 - accuracy: 0.9396 - val_loss: 0.2992 - val_accuracy: 0.9474\n",
      "Epoch 60/100\n",
      "38/38 [==============================] - 0s 5ms/step - loss: 0.3341 - accuracy: 0.8956 - val_loss: 0.2748 - val_accuracy: 0.9474\n",
      "Epoch 61/100\n",
      "38/38 [==============================] - 0s 5ms/step - loss: 0.2378 - accuracy: 0.9254 - val_loss: 0.1919 - val_accuracy: 0.9474\n",
      "Epoch 62/100\n",
      "38/38 [==============================] - 0s 5ms/step - loss: 0.1757 - accuracy: 0.9608 - val_loss: 0.1876 - val_accuracy: 0.9474\n",
      "Epoch 63/100\n",
      "38/38 [==============================] - 0s 6ms/step - loss: 0.2510 - accuracy: 0.9477 - val_loss: 0.1956 - val_accuracy: 0.9474\n",
      "Epoch 64/100\n",
      "38/38 [==============================] - 0s 5ms/step - loss: 0.2204 - accuracy: 0.9478 - val_loss: 0.2128 - val_accuracy: 0.9474\n",
      "Epoch 65/100\n",
      "38/38 [==============================] - 0s 5ms/step - loss: 0.3875 - accuracy: 0.8689 - val_loss: 0.3048 - val_accuracy: 0.9474\n",
      "Epoch 66/100\n",
      "38/38 [==============================] - 0s 4ms/step - loss: 0.2502 - accuracy: 0.9368 - val_loss: 0.1641 - val_accuracy: 0.9474\n",
      "Epoch 67/100\n",
      "38/38 [==============================] - 0s 4ms/step - loss: 0.1272 - accuracy: 0.9676 - val_loss: 0.1803 - val_accuracy: 0.9474\n",
      "Epoch 68/100\n",
      "38/38 [==============================] - 0s 4ms/step - loss: 0.1654 - accuracy: 0.9692 - val_loss: 0.1938 - val_accuracy: 0.9474\n",
      "Epoch 69/100\n",
      "38/38 [==============================] - 0s 4ms/step - loss: 0.2098 - accuracy: 0.9518 - val_loss: 0.2465 - val_accuracy: 0.9474\n",
      "Epoch 70/100\n",
      "38/38 [==============================] - 0s 5ms/step - loss: 0.2557 - accuracy: 0.8948 - val_loss: 0.1971 - val_accuracy: 0.9474\n",
      "Epoch 71/100\n",
      "38/38 [==============================] - 0s 6ms/step - loss: 0.2144 - accuracy: 0.9130 - val_loss: 0.1808 - val_accuracy: 0.9474\n",
      "Epoch 72/100\n",
      "38/38 [==============================] - 0s 5ms/step - loss: 0.2369 - accuracy: 0.9300 - val_loss: 0.2618 - val_accuracy: 0.9474\n",
      "Epoch 73/100\n",
      "38/38 [==============================] - 0s 6ms/step - loss: 0.2728 - accuracy: 0.9224 - val_loss: 0.2056 - val_accuracy: 0.9474\n",
      "Epoch 74/100\n",
      "38/38 [==============================] - 0s 5ms/step - loss: 0.1798 - accuracy: 0.9203 - val_loss: 0.2191 - val_accuracy: 0.9474\n",
      "Epoch 75/100\n",
      "38/38 [==============================] - 0s 5ms/step - loss: 0.2090 - accuracy: 0.9235 - val_loss: 0.2556 - val_accuracy: 0.9474\n",
      "Epoch 76/100\n",
      "38/38 [==============================] - 0s 5ms/step - loss: 0.1690 - accuracy: 0.9507 - val_loss: 0.2222 - val_accuracy: 0.9474\n",
      "Epoch 77/100\n",
      "38/38 [==============================] - 0s 5ms/step - loss: 0.2347 - accuracy: 0.9346 - val_loss: 0.3402 - val_accuracy: 0.9474\n",
      "Epoch 78/100\n",
      "38/38 [==============================] - 0s 6ms/step - loss: 0.3946 - accuracy: 0.9301 - val_loss: 0.2608 - val_accuracy: 0.9474\n",
      "Epoch 79/100\n",
      "38/38 [==============================] - 0s 6ms/step - loss: 0.1819 - accuracy: 0.9369 - val_loss: 0.1846 - val_accuracy: 0.9474\n",
      "Epoch 80/100\n",
      "38/38 [==============================] - 0s 5ms/step - loss: 0.2157 - accuracy: 0.9488 - val_loss: 0.2488 - val_accuracy: 0.9474\n",
      "Epoch 81/100\n",
      "38/38 [==============================] - 0s 4ms/step - loss: 0.2404 - accuracy: 0.8872 - val_loss: 0.2738 - val_accuracy: 0.9474\n",
      "Epoch 82/100\n",
      "38/38 [==============================] - 0s 5ms/step - loss: 0.2292 - accuracy: 0.9377 - val_loss: 0.1700 - val_accuracy: 0.9474\n",
      "Epoch 83/100\n",
      "38/38 [==============================] - 0s 7ms/step - loss: 0.2001 - accuracy: 0.9292 - val_loss: 0.1958 - val_accuracy: 0.9474\n",
      "Epoch 84/100\n",
      "38/38 [==============================] - 0s 6ms/step - loss: 0.3102 - accuracy: 0.8899 - val_loss: 0.1918 - val_accuracy: 0.9474\n",
      "Epoch 85/100\n",
      "38/38 [==============================] - 0s 6ms/step - loss: 0.1641 - accuracy: 0.9573 - val_loss: 0.2105 - val_accuracy: 0.9474\n",
      "Epoch 86/100\n",
      "38/38 [==============================] - 0s 6ms/step - loss: 0.2087 - accuracy: 0.9201 - val_loss: 0.2206 - val_accuracy: 0.9474\n",
      "Epoch 87/100\n",
      "38/38 [==============================] - 0s 6ms/step - loss: 0.2340 - accuracy: 0.9143 - val_loss: 0.1591 - val_accuracy: 0.9474\n",
      "Epoch 88/100\n",
      "38/38 [==============================] - 0s 5ms/step - loss: 0.2208 - accuracy: 0.9359 - val_loss: 0.1242 - val_accuracy: 0.9474\n",
      "Epoch 89/100\n",
      "38/38 [==============================] - 0s 6ms/step - loss: 0.1867 - accuracy: 0.9467 - val_loss: 0.1506 - val_accuracy: 0.9474\n",
      "Epoch 90/100\n",
      "38/38 [==============================] - 0s 6ms/step - loss: 0.1786 - accuracy: 0.9464 - val_loss: 0.1463 - val_accuracy: 0.9474\n",
      "Epoch 91/100\n",
      "38/38 [==============================] - 0s 5ms/step - loss: 0.1948 - accuracy: 0.9008 - val_loss: 0.2718 - val_accuracy: 0.9474\n",
      "Epoch 92/100\n",
      "38/38 [==============================] - 0s 5ms/step - loss: 0.1476 - accuracy: 0.9555 - val_loss: 0.1561 - val_accuracy: 0.9474\n",
      "Epoch 93/100\n",
      "38/38 [==============================] - 0s 5ms/step - loss: 0.2478 - accuracy: 0.9201 - val_loss: 0.2465 - val_accuracy: 0.9474\n",
      "Epoch 94/100\n",
      "38/38 [==============================] - 0s 4ms/step - loss: 0.2071 - accuracy: 0.9128 - val_loss: 0.2148 - val_accuracy: 0.9474\n",
      "Epoch 95/100\n",
      "38/38 [==============================] - 0s 4ms/step - loss: 0.1952 - accuracy: 0.9578 - val_loss: 0.0975 - val_accuracy: 0.9474\n",
      "Epoch 96/100\n",
      "38/38 [==============================] - 0s 5ms/step - loss: 0.2314 - accuracy: 0.9129 - val_loss: 0.1142 - val_accuracy: 0.9474\n",
      "Epoch 97/100\n",
      "38/38 [==============================] - 0s 6ms/step - loss: 0.1844 - accuracy: 0.9321 - val_loss: 0.1807 - val_accuracy: 0.9474\n",
      "Epoch 98/100\n",
      "38/38 [==============================] - 0s 6ms/step - loss: 0.1359 - accuracy: 0.9443 - val_loss: 0.1435 - val_accuracy: 0.9474\n",
      "Epoch 99/100\n",
      "38/38 [==============================] - 0s 6ms/step - loss: 0.1711 - accuracy: 0.9289 - val_loss: 0.1490 - val_accuracy: 0.9474\n",
      "Epoch 100/100\n",
      "38/38 [==============================] - 0s 6ms/step - loss: 0.2271 - accuracy: 0.8900 - val_loss: 0.1874 - val_accuracy: 0.9474\n"
     ]
    }
   ],
   "source": [
    "# Train the ANN\n",
    "history = model.fit(X_train, y_train, batch_size = 2, epochs = 100, validation_split=0.2)"
   ]
  },
  {
   "cell_type": "code",
   "execution_count": 53,
   "metadata": {},
   "outputs": [
    {
     "data": {
      "image/png": "[encoded data removed]",
      "text/plain": [
       "<Figure size 432x288 with 1 Axes>"
      ]
     },
     "metadata": {
      "needs_background": "light"
     },
     "output_type": "display_data"
    },
    {
     "data": {
      "image/png": "[encoded data removed]",
      "text/plain": [
       "<Figure size 432x288 with 1 Axes>"
      ]
     },
     "metadata": {
      "needs_background": "light"
     },
     "output_type": "display_data"
    }
   ],
   "source": [
    "history_df = pd.DataFrame(history.history)\n",
    "\n",
    "plt.plot(history_df.loc[:, ['loss']], \"#CD5C5C\", label='Training loss')\n",
    "plt.plot(history_df.loc[:, ['val_loss']],\"#FF0000\", label='Validation loss')\n",
    "plt.title('Training and Validation loss')\n",
    "plt.xlabel('Epochs')\n",
    "plt.ylabel('Loss')\n",
    "plt.legend(loc=\"best\")\n",
    "\n",
    "plt.show()\n",
    "\n",
    "history_df = pd.DataFrame(history.history)\n",
    "\n",
    "plt.plot(history_df.loc[:, ['accuracy']], \"#CD5C5C\", label='Training accuracy')\n",
    "plt.plot(history_df.loc[:, ['val_accuracy']],\"#FF0000\", label='Validation accuracy')\n",
    "\n",
    "plt.title('Training and Validation accuracy')\n",
    "plt.xlabel('Epochs')\n",
    "plt.ylabel('Accuracy')\n",
    "plt.legend()\n",
    "plt.show()"
   ]
  },
  {
   "cell_type": "code",
   "execution_count": 54,
   "metadata": {},
   "outputs": [],
   "source": [
    "# Predicting the test set results\n",
    "y_pred = model.predict(X_test)\n",
    "y_pred = (y_pred > 0.4)\n",
    "\n",
    "dnn_6_acc = accuracy_score(y_pred, y_test)\n",
    "dnn_6_prec = precision_score(y_pred, y_test,average='weighted')\n",
    "dnn_6_rec = recall_score(y_pred, y_test,average='weighted')\n",
    "dnn_6_f1 = f1_score(y_pred, y_test,average='weighted')\n",
    "dnn_6_spec = specificity_score(y_pred, y_test,average='weighted')\n",
    "dnn_6_sens = sensitivity_score(y_pred, y_test,average='weighted')"
   ]
  },
  {
   "cell_type": "code",
   "execution_count": 80,
   "metadata": {},
   "outputs": [],
   "source": [
    "storeResults1('DNN - 6 Layers',dnn_6_acc,dnn_6_prec,dnn_6_rec,dnn_6_f1,dnn_6_spec,dnn_6_sens)"
   ]
  },
  {
   "cell_type": "markdown",
   "metadata": {},
   "source": [
    "# 7 Layers"
   ]
  },
  {
   "cell_type": "code",
   "execution_count": 55,
   "metadata": {},
   "outputs": [],
   "source": [
    "# Initialising the NN\n",
    "model = Sequential()\n",
    "\n",
    "# layers\n",
    "model.add(Dense(units = 128, kernel_initializer = 'uniform', activation = 'relu', input_dim = 10))\n",
    "model.add(Dense(units = 64, kernel_initializer = 'uniform', activation = 'relu'))\n",
    "model.add(Dropout(0.25))\n",
    "model.add(Dense(units = 64, kernel_initializer = 'uniform', activation = 'relu'))\n",
    "model.add(Dropout(0.5))\n",
    "model.add(Dense(units = 32, kernel_initializer = 'uniform', activation = 'relu'))\n",
    "model.add(Dropout(0.5))\n",
    "model.add(Dense(units = 32, kernel_initializer = 'uniform', activation = 'relu'))\n",
    "model.add(Dropout(0.5))\n",
    "model.add(Dense(units = 16, kernel_initializer = 'uniform', activation = 'relu'))\n",
    "model.add(Dropout(0.5))\n",
    "model.add(Dense(units = 16, kernel_initializer = 'uniform', activation = 'relu'))\n",
    "model.add(Dropout(0.5))\n",
    "model.add(Dense(units = 1, kernel_initializer = 'uniform', activation = 'sigmoid'))\n",
    "\n",
    "# Compiling the ANN\n",
    "model.compile(optimizer = 'adam', loss = 'binary_crossentropy', metrics = ['accuracy'])"
   ]
  },
  {
   "cell_type": "code",
   "execution_count": 56,
   "metadata": {},
   "outputs": [
    {
     "name": "stdout",
     "output_type": "stream",
     "text": [
      "Epoch 1/100\n",
      "38/38 [==============================] - 10s 68ms/step - loss: 0.6887 - accuracy: 0.8789 - val_loss: 0.6720 - val_accuracy: 0.9474\n",
      "Epoch 2/100\n",
      "38/38 [==============================] - 0s 5ms/step - loss: 0.6622 - accuracy: 0.9320 - val_loss: 0.4572 - val_accuracy: 0.9474\n",
      "Epoch 3/100\n",
      "38/38 [==============================] - 0s 5ms/step - loss: 0.4150 - accuracy: 0.9008 - val_loss: 0.4318 - val_accuracy: 0.9474\n",
      "Epoch 4/100\n",
      "38/38 [==============================] - 0s 6ms/step - loss: 0.3829 - accuracy: 0.9254 - val_loss: 0.2320 - val_accuracy: 0.9474\n",
      "Epoch 5/100\n",
      "38/38 [==============================] - 0s 6ms/step - loss: 0.3075 - accuracy: 0.9306 - val_loss: 0.2614 - val_accuracy: 0.9474\n",
      "Epoch 6/100\n",
      "38/38 [==============================] - 0s 6ms/step - loss: 0.5227 - accuracy: 0.9302 - val_loss: 0.2677 - val_accuracy: 0.9474\n",
      "Epoch 7/100\n",
      "38/38 [==============================] - 0s 5ms/step - loss: 0.2427 - accuracy: 0.9458 - val_loss: 0.2556 - val_accuracy: 0.9474\n",
      "Epoch 8/100\n",
      "38/38 [==============================] - 0s 5ms/step - loss: 0.4594 - accuracy: 0.8528 - val_loss: 0.2456 - val_accuracy: 0.9474\n",
      "Epoch 9/100\n",
      "38/38 [==============================] - 0s 6ms/step - loss: 0.5279 - accuracy: 0.8445 - val_loss: 0.2464 - val_accuracy: 0.9474\n",
      "Epoch 10/100\n",
      "38/38 [==============================] - 0s 7ms/step - loss: 0.3221 - accuracy: 0.9097 - val_loss: 0.3081 - val_accuracy: 0.9474\n",
      "Epoch 11/100\n",
      "38/38 [==============================] - 0s 5ms/step - loss: 0.4691 - accuracy: 0.8396 - val_loss: 0.2620 - val_accuracy: 0.9474\n",
      "Epoch 12/100\n",
      "38/38 [==============================] - 0s 5ms/step - loss: 0.4819 - accuracy: 0.9248 - val_loss: 0.2746 - val_accuracy: 0.9474\n",
      "Epoch 13/100\n",
      "38/38 [==============================] - 0s 5ms/step - loss: 0.6069 - accuracy: 0.8734 - val_loss: 0.2592 - val_accuracy: 0.9474\n",
      "Epoch 14/100\n",
      "38/38 [==============================] - 0s 5ms/step - loss: 0.3423 - accuracy: 0.8979 - val_loss: 0.2638 - val_accuracy: 0.9474\n",
      "Epoch 15/100\n",
      "38/38 [==============================] - 0s 5ms/step - loss: 0.3192 - accuracy: 0.9186 - val_loss: 0.2686 - val_accuracy: 0.9474\n",
      "Epoch 16/100\n",
      "38/38 [==============================] - 0s 5ms/step - loss: 0.2178 - accuracy: 0.9633 - val_loss: 0.2746 - val_accuracy: 0.9474\n",
      "Epoch 17/100\n",
      "38/38 [==============================] - 0s 5ms/step - loss: 0.4518 - accuracy: 0.8915 - val_loss: 0.2823 - val_accuracy: 0.9474\n",
      "Epoch 18/100\n",
      "38/38 [==============================] - 0s 5ms/step - loss: 0.2400 - accuracy: 0.9319 - val_loss: 0.3019 - val_accuracy: 0.9474\n",
      "Epoch 19/100\n",
      "38/38 [==============================] - 0s 5ms/step - loss: 0.2181 - accuracy: 0.9581 - val_loss: 0.3243 - val_accuracy: 0.9474\n",
      "Epoch 20/100\n",
      "38/38 [==============================] - 0s 4ms/step - loss: 0.3351 - accuracy: 0.9396 - val_loss: 0.3031 - val_accuracy: 0.9474\n",
      "Epoch 21/100\n",
      "38/38 [==============================] - 0s 4ms/step - loss: 0.1885 - accuracy: 0.9517 - val_loss: 0.3035 - val_accuracy: 0.9474\n",
      "Epoch 22/100\n",
      "38/38 [==============================] - 0s 4ms/step - loss: 0.3574 - accuracy: 0.9027 - val_loss: 0.3233 - val_accuracy: 0.9474\n",
      "Epoch 23/100\n",
      "38/38 [==============================] - 0s 5ms/step - loss: 0.2469 - accuracy: 0.9357 - val_loss: 0.3033 - val_accuracy: 0.9474\n",
      "Epoch 24/100\n",
      "38/38 [==============================] - 0s 6ms/step - loss: 0.4227 - accuracy: 0.8990 - val_loss: 0.2756 - val_accuracy: 0.9474\n",
      "Epoch 25/100\n",
      "38/38 [==============================] - 0s 6ms/step - loss: 0.2700 - accuracy: 0.9591 - val_loss: 0.2499 - val_accuracy: 0.9474\n",
      "Epoch 26/100\n",
      "38/38 [==============================] - 0s 5ms/step - loss: 0.2929 - accuracy: 0.9246 - val_loss: 0.2732 - val_accuracy: 0.9474\n",
      "Epoch 27/100\n",
      "38/38 [==============================] - 0s 5ms/step - loss: 0.3177 - accuracy: 0.9168 - val_loss: 0.2663 - val_accuracy: 0.9474\n",
      "Epoch 28/100\n",
      "38/38 [==============================] - 0s 5ms/step - loss: 0.2018 - accuracy: 0.9497 - val_loss: 0.3078 - val_accuracy: 0.9474\n",
      "Epoch 29/100\n",
      "38/38 [==============================] - 0s 5ms/step - loss: 0.3083 - accuracy: 0.8891 - val_loss: 0.3279 - val_accuracy: 0.9474\n",
      "Epoch 30/100\n",
      "38/38 [==============================] - 0s 5ms/step - loss: 0.2536 - accuracy: 0.9086 - val_loss: 0.3069 - val_accuracy: 0.9474\n",
      "Epoch 31/100\n",
      "38/38 [==============================] - 0s 5ms/step - loss: 0.3717 - accuracy: 0.9178 - val_loss: 0.2691 - val_accuracy: 0.9474\n",
      "Epoch 32/100\n",
      "38/38 [==============================] - 0s 5ms/step - loss: 0.5732 - accuracy: 0.8580 - val_loss: 0.4192 - val_accuracy: 0.9474\n",
      "Epoch 33/100\n",
      "38/38 [==============================] - 0s 5ms/step - loss: 0.3371 - accuracy: 0.9335 - val_loss: 0.3319 - val_accuracy: 0.9474\n",
      "Epoch 34/100\n",
      "38/38 [==============================] - 0s 5ms/step - loss: 0.1868 - accuracy: 0.9605 - val_loss: 0.3594 - val_accuracy: 0.9474\n",
      "Epoch 35/100\n",
      "38/38 [==============================] - 0s 4ms/step - loss: 0.2092 - accuracy: 0.9483 - val_loss: 0.4068 - val_accuracy: 0.9474\n",
      "Epoch 36/100\n",
      "38/38 [==============================] - 0s 4ms/step - loss: 0.1952 - accuracy: 0.9470 - val_loss: 0.2871 - val_accuracy: 0.9474\n",
      "Epoch 37/100\n",
      "38/38 [==============================] - 0s 4ms/step - loss: 0.3366 - accuracy: 0.9195 - val_loss: 0.3472 - val_accuracy: 0.9474\n",
      "Epoch 38/100\n",
      "38/38 [==============================] - 0s 6ms/step - loss: 0.2348 - accuracy: 0.8936 - val_loss: 0.4305 - val_accuracy: 0.9474\n",
      "Epoch 39/100\n",
      "38/38 [==============================] - 0s 6ms/step - loss: 0.2816 - accuracy: 0.9324 - val_loss: 0.2740 - val_accuracy: 0.9474\n",
      "Epoch 40/100\n",
      "38/38 [==============================] - 0s 5ms/step - loss: 0.3228 - accuracy: 0.9148 - val_loss: 0.2565 - val_accuracy: 0.9474\n",
      "Epoch 41/100\n",
      "38/38 [==============================] - 0s 5ms/step - loss: 0.2985 - accuracy: 0.9140 - val_loss: 0.3501 - val_accuracy: 0.9474\n",
      "Epoch 42/100\n",
      "38/38 [==============================] - 0s 5ms/step - loss: 0.2436 - accuracy: 0.9362 - val_loss: 0.3255 - val_accuracy: 0.9474\n",
      "Epoch 43/100\n",
      "38/38 [==============================] - 0s 5ms/step - loss: 0.2587 - accuracy: 0.8885 - val_loss: 0.5570 - val_accuracy: 0.9474\n",
      "Epoch 44/100\n",
      "38/38 [==============================] - 0s 4ms/step - loss: 0.3231 - accuracy: 0.9427 - val_loss: 0.2453 - val_accuracy: 0.9474\n",
      "Epoch 45/100\n",
      "38/38 [==============================] - 0s 4ms/step - loss: 0.2696 - accuracy: 0.9271 - val_loss: 0.4003 - val_accuracy: 0.9474\n",
      "Epoch 46/100\n",
      "38/38 [==============================] - 0s 4ms/step - loss: 0.2557 - accuracy: 0.9274 - val_loss: 0.2472 - val_accuracy: 0.9474\n",
      "Epoch 47/100\n",
      "38/38 [==============================] - 0s 4ms/step - loss: 0.3037 - accuracy: 0.9023 - val_loss: 0.3310 - val_accuracy: 0.9474\n",
      "Epoch 48/100\n",
      "38/38 [==============================] - 0s 4ms/step - loss: 0.2415 - accuracy: 0.9291 - val_loss: 0.2864 - val_accuracy: 0.9474\n",
      "Epoch 49/100\n",
      "38/38 [==============================] - 0s 4ms/step - loss: 0.2820 - accuracy: 0.9212 - val_loss: 0.3198 - val_accuracy: 0.9474\n",
      "Epoch 50/100\n",
      "38/38 [==============================] - 0s 4ms/step - loss: 0.2589 - accuracy: 0.9350 - val_loss: 0.2784 - val_accuracy: 0.9474\n",
      "Epoch 51/100\n",
      "38/38 [==============================] - 0s 4ms/step - loss: 0.4501 - accuracy: 0.9410 - val_loss: 0.2351 - val_accuracy: 0.9474\n",
      "Epoch 52/100\n",
      "38/38 [==============================] - 0s 4ms/step - loss: 0.2270 - accuracy: 0.9319 - val_loss: 0.3292 - val_accuracy: 0.9474\n",
      "Epoch 53/100\n",
      "38/38 [==============================] - 0s 4ms/step - loss: 0.3971 - accuracy: 0.9481 - val_loss: 0.2450 - val_accuracy: 0.9474\n",
      "Epoch 54/100\n",
      "38/38 [==============================] - 0s 4ms/step - loss: 0.2986 - accuracy: 0.9316 - val_loss: 0.2089 - val_accuracy: 0.9474\n",
      "Epoch 55/100\n",
      "38/38 [==============================] - 0s 5ms/step - loss: 0.3085 - accuracy: 0.8922 - val_loss: 0.2100 - val_accuracy: 0.9474\n",
      "Epoch 56/100\n",
      "38/38 [==============================] - 0s 4ms/step - loss: 0.2661 - accuracy: 0.9168 - val_loss: 0.2631 - val_accuracy: 0.9474\n",
      "Epoch 57/100\n",
      "38/38 [==============================] - 0s 4ms/step - loss: 0.1623 - accuracy: 0.9543 - val_loss: 0.3021 - val_accuracy: 0.9474\n",
      "Epoch 58/100\n",
      "38/38 [==============================] - 0s 4ms/step - loss: 0.2626 - accuracy: 0.9434 - val_loss: 0.2232 - val_accuracy: 0.9474\n"
     ]
    },
    {
     "name": "stdout",
     "output_type": "stream",
     "text": [
      "Epoch 59/100\n",
      "38/38 [==============================] - 0s 4ms/step - loss: 0.2493 - accuracy: 0.9180 - val_loss: 0.2496 - val_accuracy: 0.9474\n",
      "Epoch 60/100\n",
      "38/38 [==============================] - 0s 4ms/step - loss: 0.3170 - accuracy: 0.8948 - val_loss: 0.2023 - val_accuracy: 0.9474\n",
      "Epoch 61/100\n",
      "38/38 [==============================] - 0s 4ms/step - loss: 0.2643 - accuracy: 0.9556 - val_loss: 0.2212 - val_accuracy: 0.9474\n",
      "Epoch 62/100\n",
      "38/38 [==============================] - 0s 4ms/step - loss: 0.2426 - accuracy: 0.9469 - val_loss: 0.2415 - val_accuracy: 0.9474\n",
      "Epoch 63/100\n",
      "38/38 [==============================] - 0s 4ms/step - loss: 0.2816 - accuracy: 0.9245 - val_loss: 0.2944 - val_accuracy: 0.9474\n",
      "Epoch 64/100\n",
      "38/38 [==============================] - 0s 4ms/step - loss: 0.3628 - accuracy: 0.8925 - val_loss: 0.2122 - val_accuracy: 0.9474\n",
      "Epoch 65/100\n",
      "38/38 [==============================] - 0s 4ms/step - loss: 0.2989 - accuracy: 0.8607 - val_loss: 0.2688 - val_accuracy: 0.9474\n",
      "Epoch 66/100\n",
      "38/38 [==============================] - 0s 4ms/step - loss: 0.1855 - accuracy: 0.9603 - val_loss: 0.2344 - val_accuracy: 0.9474\n",
      "Epoch 67/100\n",
      "38/38 [==============================] - 0s 4ms/step - loss: 0.3313 - accuracy: 0.9182 - val_loss: 0.2687 - val_accuracy: 0.9474\n",
      "Epoch 68/100\n",
      "38/38 [==============================] - 0s 4ms/step - loss: 0.2745 - accuracy: 0.8688 - val_loss: 0.2770 - val_accuracy: 0.9474\n",
      "Epoch 69/100\n",
      "38/38 [==============================] - 0s 4ms/step - loss: 0.2205 - accuracy: 0.9261 - val_loss: 0.2318 - val_accuracy: 0.9474\n",
      "Epoch 70/100\n",
      "38/38 [==============================] - 0s 4ms/step - loss: 0.1872 - accuracy: 0.9559 - val_loss: 0.2683 - val_accuracy: 0.9474\n",
      "Epoch 71/100\n",
      "38/38 [==============================] - 0s 4ms/step - loss: 0.2232 - accuracy: 0.9447 - val_loss: 0.3303 - val_accuracy: 0.9474\n",
      "Epoch 72/100\n",
      "38/38 [==============================] - 0s 4ms/step - loss: 0.1966 - accuracy: 0.9348 - val_loss: 0.2558 - val_accuracy: 0.9474\n",
      "Epoch 73/100\n",
      "38/38 [==============================] - 0s 4ms/step - loss: 0.3035 - accuracy: 0.9200 - val_loss: 0.2085 - val_accuracy: 0.9474\n",
      "Epoch 74/100\n",
      "38/38 [==============================] - 0s 4ms/step - loss: 0.2987 - accuracy: 0.8866 - val_loss: 0.3022 - val_accuracy: 0.9474\n",
      "Epoch 75/100\n",
      "38/38 [==============================] - 0s 4ms/step - loss: 0.2751 - accuracy: 0.9024 - val_loss: 0.2457 - val_accuracy: 0.9474\n",
      "Epoch 76/100\n",
      "38/38 [==============================] - 0s 4ms/step - loss: 0.2006 - accuracy: 0.9314 - val_loss: 0.2812 - val_accuracy: 0.9474\n",
      "Epoch 77/100\n",
      "38/38 [==============================] - 0s 4ms/step - loss: 0.3850 - accuracy: 0.9111 - val_loss: 0.2564 - val_accuracy: 0.9474\n",
      "Epoch 78/100\n",
      "38/38 [==============================] - 0s 4ms/step - loss: 0.2417 - accuracy: 0.9226 - val_loss: 0.2545 - val_accuracy: 0.9474\n",
      "Epoch 79/100\n",
      "38/38 [==============================] - 0s 4ms/step - loss: 0.2757 - accuracy: 0.9359 - val_loss: 0.2224 - val_accuracy: 0.9474\n",
      "Epoch 80/100\n",
      "38/38 [==============================] - 0s 4ms/step - loss: 0.3540 - accuracy: 0.8783 - val_loss: 0.2116 - val_accuracy: 0.9474\n",
      "Epoch 81/100\n",
      "38/38 [==============================] - 0s 4ms/step - loss: 0.2230 - accuracy: 0.9122 - val_loss: 0.2363 - val_accuracy: 0.9474\n",
      "Epoch 82/100\n",
      "38/38 [==============================] - 0s 4ms/step - loss: 0.2288 - accuracy: 0.9338 - val_loss: 0.2113 - val_accuracy: 0.9474\n",
      "Epoch 83/100\n",
      "38/38 [==============================] - 0s 4ms/step - loss: 0.2488 - accuracy: 0.9465 - val_loss: 0.2492 - val_accuracy: 0.9474\n",
      "Epoch 84/100\n",
      "38/38 [==============================] - 0s 4ms/step - loss: 0.2415 - accuracy: 0.9442 - val_loss: 0.2283 - val_accuracy: 0.9474\n",
      "Epoch 85/100\n",
      "38/38 [==============================] - 0s 4ms/step - loss: 0.3036 - accuracy: 0.9135 - val_loss: 0.1896 - val_accuracy: 0.9474\n",
      "Epoch 86/100\n",
      "38/38 [==============================] - 0s 4ms/step - loss: 0.2708 - accuracy: 0.9263 - val_loss: 0.2250 - val_accuracy: 0.9474\n",
      "Epoch 87/100\n",
      "38/38 [==============================] - 0s 4ms/step - loss: 0.2309 - accuracy: 0.9241 - val_loss: 0.3496 - val_accuracy: 0.9474\n",
      "Epoch 88/100\n",
      "38/38 [==============================] - 0s 4ms/step - loss: 0.3073 - accuracy: 0.8905 - val_loss: 0.2747 - val_accuracy: 0.9474\n",
      "Epoch 89/100\n",
      "38/38 [==============================] - 0s 4ms/step - loss: 0.2370 - accuracy: 0.9286 - val_loss: 0.2045 - val_accuracy: 0.9474\n",
      "Epoch 90/100\n",
      "38/38 [==============================] - 0s 4ms/step - loss: 0.1817 - accuracy: 0.9475 - val_loss: 0.2367 - val_accuracy: 0.9474\n",
      "Epoch 91/100\n",
      "38/38 [==============================] - 0s 4ms/step - loss: 0.1792 - accuracy: 0.9511 - val_loss: 0.2500 - val_accuracy: 0.9474\n",
      "Epoch 92/100\n",
      "38/38 [==============================] - 0s 4ms/step - loss: 0.1576 - accuracy: 0.9681 - val_loss: 0.2586 - val_accuracy: 0.9474\n",
      "Epoch 93/100\n",
      "38/38 [==============================] - 0s 4ms/step - loss: 0.2266 - accuracy: 0.9251 - val_loss: 0.2919 - val_accuracy: 0.9474\n",
      "Epoch 94/100\n",
      "38/38 [==============================] - 0s 4ms/step - loss: 0.1904 - accuracy: 0.9275 - val_loss: 0.3300 - val_accuracy: 0.9474\n",
      "Epoch 95/100\n",
      "38/38 [==============================] - 0s 4ms/step - loss: 0.3066 - accuracy: 0.9464 - val_loss: 0.3766 - val_accuracy: 0.9474\n",
      "Epoch 96/100\n",
      "38/38 [==============================] - 0s 4ms/step - loss: 0.2307 - accuracy: 0.9204 - val_loss: 0.1913 - val_accuracy: 0.9474\n",
      "Epoch 97/100\n",
      "38/38 [==============================] - 0s 4ms/step - loss: 0.2187 - accuracy: 0.9015 - val_loss: 0.3692 - val_accuracy: 0.9474\n",
      "Epoch 98/100\n",
      "38/38 [==============================] - 0s 4ms/step - loss: 0.4379 - accuracy: 0.8810 - val_loss: 0.4029 - val_accuracy: 0.9474\n",
      "Epoch 99/100\n",
      "38/38 [==============================] - 0s 4ms/step - loss: 0.2411 - accuracy: 0.9164 - val_loss: 0.1741 - val_accuracy: 0.9474\n",
      "Epoch 100/100\n",
      "38/38 [==============================] - 0s 4ms/step - loss: 0.2733 - accuracy: 0.9097 - val_loss: 0.2338 - val_accuracy: 0.9474\n"
     ]
    }
   ],
   "source": [
    "# Train the ANN\n",
    "history = model.fit(X_train, y_train, batch_size = 2, epochs = 100, validation_split=0.2)"
   ]
  },
  {
   "cell_type": "code",
   "execution_count": 57,
   "metadata": {},
   "outputs": [
    {
     "data": {
      "image/png": "[encoded data removed]",
      "text/plain": [
       "<Figure size 432x288 with 1 Axes>"
      ]
     },
     "metadata": {
      "needs_background": "light"
     },
     "output_type": "display_data"
    },
    {
     "data": {
      "image/png": "[encoded data removed]",
      "text/plain": [
       "<Figure size 432x288 with 1 Axes>"
      ]
     },
     "metadata": {
      "needs_background": "light"
     },
     "output_type": "display_data"
    }
   ],
   "source": [
    "history_df = pd.DataFrame(history.history)\n",
    "\n",
    "plt.plot(history_df.loc[:, ['loss']], \"#CD5C5C\", label='Training loss')\n",
    "plt.plot(history_df.loc[:, ['val_loss']],\"#FF0000\", label='Validation loss')\n",
    "plt.title('Training and Validation loss')\n",
    "plt.xlabel('Epochs')\n",
    "plt.ylabel('Loss')\n",
    "plt.legend(loc=\"best\")\n",
    "\n",
    "plt.show()\n",
    "\n",
    "history_df = pd.DataFrame(history.history)\n",
    "\n",
    "plt.plot(history_df.loc[:, ['accuracy']], \"#CD5C5C\", label='Training accuracy')\n",
    "plt.plot(history_df.loc[:, ['val_accuracy']],\"#FF0000\", label='Validation accuracy')\n",
    "\n",
    "plt.title('Training and Validation accuracy')\n",
    "plt.xlabel('Epochs')\n",
    "plt.ylabel('Accuracy')\n",
    "plt.legend()\n",
    "plt.show()"
   ]
  },
  {
   "cell_type": "code",
   "execution_count": 58,
   "metadata": {},
   "outputs": [
    {
     "name": "stdout",
     "output_type": "stream",
     "text": [
      "WARNING:tensorflow:5 out of the last 5 calls to <function Model.make_predict_function.<locals>.predict_function at 0x0000025B1E9CD8B8> triggered tf.function retracing. Tracing is expensive and the excessive number of tracings could be due to (1) creating @tf.function repeatedly in a loop, (2) passing tensors with different shapes, (3) passing Python objects instead of tensors. For (1), please define your @tf.function outside of the loop. For (2), @tf.function has experimental_relax_shapes=True option that relaxes argument shapes that can avoid unnecessary retracing. For (3), please refer to https://www.tensorflow.org/guide/function#controlling_retracing and https://www.tensorflow.org/api_docs/python/tf/function for  more details.\n"
     ]
    }
   ],
   "source": [
    "# Predicting the test set results\n",
    "y_pred = model.predict(X_test)\n",
    "y_pred = (y_pred > 0.4)\n",
    "\n",
    "dnn_7_acc = accuracy_score(y_pred, y_test)\n",
    "dnn_7_prec = precision_score(y_pred, y_test,average='weighted')\n",
    "dnn_7_rec = recall_score(y_pred, y_test,average='weighted')\n",
    "dnn_7_f1 = f1_score(y_pred, y_test,average='weighted')\n",
    "dnn_7_spec = specificity_score(y_pred, y_test,average='weighted')\n",
    "dnn_7_sens = sensitivity_score(y_pred, y_test,average='weighted')"
   ]
  },
  {
   "cell_type": "code",
   "execution_count": 81,
   "metadata": {},
   "outputs": [],
   "source": [
    "storeResults1('DNN - 7 Layers',dnn_7_acc,dnn_7_prec,dnn_7_rec,dnn_7_f1,dnn_7_spec,dnn_7_sens)"
   ]
  },
  {
   "cell_type": "markdown",
   "metadata": {},
   "source": [
    "# 8 Layers"
   ]
  },
  {
   "cell_type": "code",
   "execution_count": 59,
   "metadata": {},
   "outputs": [],
   "source": [
    "# Initialising the NN\n",
    "model = Sequential()\n",
    "\n",
    "# layers\n",
    "model.add(Dense(units = 128, kernel_initializer = 'uniform', activation = 'relu', input_dim = 10))\n",
    "model.add(Dense(units = 64, kernel_initializer = 'uniform', activation = 'relu'))\n",
    "model.add(Dropout(0.25))\n",
    "model.add(Dense(units = 64, kernel_initializer = 'uniform', activation = 'relu'))\n",
    "model.add(Dropout(0.5))\n",
    "model.add(Dense(units = 32, kernel_initializer = 'uniform', activation = 'relu'))\n",
    "model.add(Dropout(0.5))\n",
    "model.add(Dense(units = 32, kernel_initializer = 'uniform', activation = 'relu'))\n",
    "model.add(Dropout(0.5))\n",
    "model.add(Dense(units = 16, kernel_initializer = 'uniform', activation = 'relu'))\n",
    "model.add(Dropout(0.5))\n",
    "model.add(Dense(units = 16, kernel_initializer = 'uniform', activation = 'relu'))\n",
    "model.add(Dropout(0.5))\n",
    "model.add(Dense(units = 8, kernel_initializer = 'uniform', activation = 'relu'))\n",
    "model.add(Dropout(0.5))\n",
    "model.add(Dense(units = 1, kernel_initializer = 'uniform', activation = 'sigmoid'))\n",
    "\n",
    "# Compiling the ANN\n",
    "model.compile(optimizer = 'adam', loss = 'binary_crossentropy', metrics = ['accuracy'])"
   ]
  },
  {
   "cell_type": "code",
   "execution_count": 60,
   "metadata": {},
   "outputs": [
    {
     "name": "stdout",
     "output_type": "stream",
     "text": [
      "Epoch 1/100\n",
      "38/38 [==============================] - 14s 66ms/step - loss: 0.6890 - accuracy: 0.8561 - val_loss: 0.6738 - val_accuracy: 0.9474\n",
      "Epoch 2/100\n",
      "38/38 [==============================] - 0s 5ms/step - loss: 0.6693 - accuracy: 0.9259 - val_loss: 0.6207 - val_accuracy: 0.9474\n",
      "Epoch 3/100\n",
      "38/38 [==============================] - 0s 5ms/step - loss: 0.4797 - accuracy: 0.9277 - val_loss: 0.4547 - val_accuracy: 0.9474\n",
      "Epoch 4/100\n",
      "38/38 [==============================] - 0s 6ms/step - loss: 1.0074 - accuracy: 0.9037 - val_loss: 0.2308 - val_accuracy: 0.9474\n",
      "Epoch 5/100\n",
      "38/38 [==============================] - 0s 6ms/step - loss: 0.4318 - accuracy: 0.9317 - val_loss: 0.2417 - val_accuracy: 0.9474\n",
      "Epoch 6/100\n",
      "38/38 [==============================] - 0s 5ms/step - loss: 0.3282 - accuracy: 0.9573 - val_loss: 0.2425 - val_accuracy: 0.9474\n",
      "Epoch 7/100\n",
      "38/38 [==============================] - 0s 5ms/step - loss: 0.3342 - accuracy: 0.9432 - val_loss: 0.2398 - val_accuracy: 0.9474\n",
      "Epoch 8/100\n",
      "38/38 [==============================] - 0s 5ms/step - loss: 0.4196 - accuracy: 0.9223 - val_loss: 0.2496 - val_accuracy: 0.9474\n",
      "Epoch 9/100\n",
      "38/38 [==============================] - 0s 5ms/step - loss: 0.3176 - accuracy: 0.9515 - val_loss: 0.2444 - val_accuracy: 0.9474\n",
      "Epoch 10/100\n",
      "38/38 [==============================] - 0s 5ms/step - loss: 0.5684 - accuracy: 0.8815 - val_loss: 0.2528 - val_accuracy: 0.9474\n",
      "Epoch 11/100\n",
      "38/38 [==============================] - 0s 5ms/step - loss: 0.2356 - accuracy: 0.9399 - val_loss: 0.2588 - val_accuracy: 0.9474\n",
      "Epoch 12/100\n",
      "38/38 [==============================] - 0s 5ms/step - loss: 0.4708 - accuracy: 0.8998 - val_loss: 0.3000 - val_accuracy: 0.9474\n",
      "Epoch 13/100\n",
      "38/38 [==============================] - 0s 5ms/step - loss: 0.2743 - accuracy: 0.9714 - val_loss: 0.2518 - val_accuracy: 0.9474\n",
      "Epoch 14/100\n",
      "38/38 [==============================] - 0s 5ms/step - loss: 0.2690 - accuracy: 0.9634 - val_loss: 0.2778 - val_accuracy: 0.9474\n",
      "Epoch 15/100\n",
      "38/38 [==============================] - 0s 5ms/step - loss: 0.2427 - accuracy: 0.9510 - val_loss: 0.2802 - val_accuracy: 0.9474\n",
      "Epoch 16/100\n",
      "38/38 [==============================] - 0s 5ms/step - loss: 0.2387 - accuracy: 0.9281 - val_loss: 0.3014 - val_accuracy: 0.9474\n",
      "Epoch 17/100\n",
      "38/38 [==============================] - 0s 4ms/step - loss: 0.3207 - accuracy: 0.9303 - val_loss: 0.2675 - val_accuracy: 0.9474\n",
      "Epoch 18/100\n",
      "38/38 [==============================] - 0s 5ms/step - loss: 0.3531 - accuracy: 0.9010 - val_loss: 0.2726 - val_accuracy: 0.9474\n",
      "Epoch 19/100\n",
      "38/38 [==============================] - 0s 4ms/step - loss: 0.2203 - accuracy: 0.8887 - val_loss: 0.4323 - val_accuracy: 0.9474\n",
      "Epoch 20/100\n",
      "38/38 [==============================] - 0s 5ms/step - loss: 0.3144 - accuracy: 0.9305 - val_loss: 0.2990 - val_accuracy: 0.9474\n",
      "Epoch 21/100\n",
      "38/38 [==============================] - 0s 4ms/step - loss: 0.2964 - accuracy: 0.9654 - val_loss: 0.3074 - val_accuracy: 0.9474\n",
      "Epoch 22/100\n",
      "38/38 [==============================] - 0s 5ms/step - loss: 0.3972 - accuracy: 0.8719 - val_loss: 0.2853 - val_accuracy: 0.9474\n",
      "Epoch 23/100\n",
      "38/38 [==============================] - 0s 5ms/step - loss: 0.2958 - accuracy: 0.9257 - val_loss: 0.3134 - val_accuracy: 0.9474\n",
      "Epoch 24/100\n",
      "38/38 [==============================] - 0s 4ms/step - loss: 0.4128 - accuracy: 0.8252 - val_loss: 0.3933 - val_accuracy: 0.9474\n",
      "Epoch 25/100\n",
      "38/38 [==============================] - 0s 4ms/step - loss: 0.4039 - accuracy: 0.9068 - val_loss: 0.3108 - val_accuracy: 0.9474\n",
      "Epoch 26/100\n",
      "38/38 [==============================] - 0s 4ms/step - loss: 0.3853 - accuracy: 0.9441 - val_loss: 0.2743 - val_accuracy: 0.9474\n",
      "Epoch 27/100\n",
      "38/38 [==============================] - 0s 4ms/step - loss: 0.2401 - accuracy: 0.9413 - val_loss: 0.3710 - val_accuracy: 0.9474\n",
      "Epoch 28/100\n",
      "38/38 [==============================] - 0s 5ms/step - loss: 0.1468 - accuracy: 0.9697 - val_loss: 0.2910 - val_accuracy: 0.9474\n",
      "Epoch 29/100\n",
      "38/38 [==============================] - 0s 5ms/step - loss: 0.4002 - accuracy: 0.8999 - val_loss: 0.2834 - val_accuracy: 0.9474\n",
      "Epoch 30/100\n",
      "38/38 [==============================] - 0s 5ms/step - loss: 0.3836 - accuracy: 0.9301 - val_loss: 0.2852 - val_accuracy: 0.9474\n",
      "Epoch 31/100\n",
      "38/38 [==============================] - 0s 5ms/step - loss: 0.2608 - accuracy: 0.9533 - val_loss: 0.2868 - val_accuracy: 0.9474\n",
      "Epoch 32/100\n",
      "38/38 [==============================] - 0s 5ms/step - loss: 0.2791 - accuracy: 0.9133 - val_loss: 0.4233 - val_accuracy: 0.9474\n",
      "Epoch 33/100\n",
      "38/38 [==============================] - 0s 5ms/step - loss: 0.2360 - accuracy: 0.9562 - val_loss: 0.3323 - val_accuracy: 0.9474\n",
      "Epoch 34/100\n",
      "38/38 [==============================] - 0s 5ms/step - loss: 0.2703 - accuracy: 0.9269 - val_loss: 0.4213 - val_accuracy: 0.9474\n",
      "Epoch 35/100\n",
      "38/38 [==============================] - 0s 5ms/step - loss: 0.4956 - accuracy: 0.8785 - val_loss: 0.3320 - val_accuracy: 0.9474\n",
      "Epoch 36/100\n",
      "38/38 [==============================] - 0s 4ms/step - loss: 0.4596 - accuracy: 0.8869 - val_loss: 0.3577 - val_accuracy: 0.9474\n",
      "Epoch 37/100\n",
      "38/38 [==============================] - 0s 4ms/step - loss: 0.4029 - accuracy: 0.9184 - val_loss: 0.3142 - val_accuracy: 0.9474\n",
      "Epoch 38/100\n",
      "38/38 [==============================] - 0s 4ms/step - loss: 0.2395 - accuracy: 0.9369 - val_loss: 0.4046 - val_accuracy: 0.9474\n",
      "Epoch 39/100\n",
      "38/38 [==============================] - 0s 4ms/step - loss: 0.2488 - accuracy: 0.9174 - val_loss: 0.3732 - val_accuracy: 0.9474\n",
      "Epoch 40/100\n",
      "38/38 [==============================] - 0s 4ms/step - loss: 0.2342 - accuracy: 0.9330 - val_loss: 0.4610 - val_accuracy: 0.9474\n",
      "Epoch 41/100\n",
      "38/38 [==============================] - 0s 4ms/step - loss: 0.2345 - accuracy: 0.9338 - val_loss: 0.3830 - val_accuracy: 0.9474\n",
      "Epoch 42/100\n",
      "38/38 [==============================] - 0s 5ms/step - loss: 0.2622 - accuracy: 0.9573 - val_loss: 0.2852 - val_accuracy: 0.9474\n",
      "Epoch 43/100\n",
      "38/38 [==============================] - 0s 4ms/step - loss: 0.3638 - accuracy: 0.8753 - val_loss: 0.3215 - val_accuracy: 0.9474\n",
      "Epoch 44/100\n",
      "38/38 [==============================] - 0s 4ms/step - loss: 0.3204 - accuracy: 0.9251 - val_loss: 0.3310 - val_accuracy: 0.9474\n",
      "Epoch 45/100\n",
      "38/38 [==============================] - 0s 4ms/step - loss: 0.2283 - accuracy: 0.9324 - val_loss: 0.3498 - val_accuracy: 0.9474\n",
      "Epoch 46/100\n",
      "38/38 [==============================] - 0s 4ms/step - loss: 0.5775 - accuracy: 0.9086 - val_loss: 0.2604 - val_accuracy: 0.9474\n",
      "Epoch 47/100\n",
      "38/38 [==============================] - 0s 4ms/step - loss: 0.2598 - accuracy: 0.9213 - val_loss: 0.3789 - val_accuracy: 0.9474\n",
      "Epoch 48/100\n",
      "38/38 [==============================] - 0s 4ms/step - loss: 0.2771 - accuracy: 0.9234 - val_loss: 0.3747 - val_accuracy: 0.9474\n",
      "Epoch 49/100\n",
      "38/38 [==============================] - 0s 5ms/step - loss: 0.2782 - accuracy: 0.9271 - val_loss: 0.4509 - val_accuracy: 0.9474\n",
      "Epoch 50/100\n",
      "38/38 [==============================] - 0s 5ms/step - loss: 0.1743 - accuracy: 0.9455 - val_loss: 0.5241 - val_accuracy: 0.9474\n",
      "Epoch 51/100\n",
      "38/38 [==============================] - 0s 4ms/step - loss: 0.2325 - accuracy: 0.9380 - val_loss: 0.3311 - val_accuracy: 0.9474\n",
      "Epoch 52/100\n",
      "38/38 [==============================] - 0s 4ms/step - loss: 0.3022 - accuracy: 0.9029 - val_loss: 0.3565 - val_accuracy: 0.9474\n",
      "Epoch 53/100\n",
      "38/38 [==============================] - 0s 4ms/step - loss: 0.2383 - accuracy: 0.9536 - val_loss: 0.3063 - val_accuracy: 0.9474\n",
      "Epoch 54/100\n",
      "38/38 [==============================] - 0s 4ms/step - loss: 0.2898 - accuracy: 0.9406 - val_loss: 0.3015 - val_accuracy: 0.9474\n",
      "Epoch 55/100\n",
      "38/38 [==============================] - 0s 4ms/step - loss: 0.2563 - accuracy: 0.9169 - val_loss: 0.4326 - val_accuracy: 0.9474\n",
      "Epoch 56/100\n",
      "38/38 [==============================] - 0s 4ms/step - loss: 0.2045 - accuracy: 0.9635 - val_loss: 0.2627 - val_accuracy: 0.9474\n",
      "Epoch 57/100\n",
      "38/38 [==============================] - 0s 4ms/step - loss: 0.2794 - accuracy: 0.9233 - val_loss: 0.3062 - val_accuracy: 0.9474\n",
      "Epoch 58/100\n",
      "38/38 [==============================] - 0s 4ms/step - loss: 0.3093 - accuracy: 0.8804 - val_loss: 0.2811 - val_accuracy: 0.9474\n"
     ]
    },
    {
     "name": "stdout",
     "output_type": "stream",
     "text": [
      "Epoch 59/100\n",
      "38/38 [==============================] - 0s 4ms/step - loss: 0.3439 - accuracy: 0.8917 - val_loss: 0.3181 - val_accuracy: 0.9474\n",
      "Epoch 60/100\n",
      "38/38 [==============================] - 0s 4ms/step - loss: 0.2232 - accuracy: 0.9403 - val_loss: 0.2925 - val_accuracy: 0.9474\n",
      "Epoch 61/100\n",
      "38/38 [==============================] - 0s 5ms/step - loss: 0.2779 - accuracy: 0.9351 - val_loss: 0.2335 - val_accuracy: 0.9474\n",
      "Epoch 62/100\n",
      "38/38 [==============================] - ETA: 0s - loss: 0.2619 - accuracy: 0.91 - 0s 5ms/step - loss: 0.2627 - accuracy: 0.9125 - val_loss: 0.3267 - val_accuracy: 0.9474\n",
      "Epoch 63/100\n",
      "38/38 [==============================] - 0s 5ms/step - loss: 0.3134 - accuracy: 0.8862 - val_loss: 0.2996 - val_accuracy: 0.9474\n",
      "Epoch 64/100\n",
      "38/38 [==============================] - 0s 4ms/step - loss: 0.3298 - accuracy: 0.8617 - val_loss: 0.3041 - val_accuracy: 0.9474\n",
      "Epoch 65/100\n",
      "38/38 [==============================] - 0s 5ms/step - loss: 0.2548 - accuracy: 0.9433 - val_loss: 0.2723 - val_accuracy: 0.9474\n",
      "Epoch 66/100\n",
      "38/38 [==============================] - 0s 4ms/step - loss: 0.2505 - accuracy: 0.8941 - val_loss: 0.3226 - val_accuracy: 0.9474\n",
      "Epoch 67/100\n",
      "38/38 [==============================] - 0s 5ms/step - loss: 0.1847 - accuracy: 0.9378 - val_loss: 0.4102 - val_accuracy: 0.9474\n",
      "Epoch 68/100\n",
      "38/38 [==============================] - 0s 5ms/step - loss: 0.2342 - accuracy: 0.9323 - val_loss: 0.2426 - val_accuracy: 0.9474\n",
      "Epoch 69/100\n",
      "38/38 [==============================] - 0s 5ms/step - loss: 0.2542 - accuracy: 0.9527 - val_loss: 0.2673 - val_accuracy: 0.9474\n",
      "Epoch 70/100\n",
      "38/38 [==============================] - 0s 4ms/step - loss: 0.2294 - accuracy: 0.9328 - val_loss: 0.2576 - val_accuracy: 0.9474\n",
      "Epoch 71/100\n",
      "38/38 [==============================] - 0s 5ms/step - loss: 0.2083 - accuracy: 0.9669 - val_loss: 0.2427 - val_accuracy: 0.9474\n",
      "Epoch 72/100\n",
      "38/38 [==============================] - 0s 5ms/step - loss: 0.3784 - accuracy: 0.8923 - val_loss: 0.2607 - val_accuracy: 0.9474\n",
      "Epoch 73/100\n",
      "38/38 [==============================] - 0s 5ms/step - loss: 0.4530 - accuracy: 0.8638 - val_loss: 0.3011 - val_accuracy: 0.9474\n",
      "Epoch 74/100\n",
      "38/38 [==============================] - 0s 5ms/step - loss: 0.1637 - accuracy: 0.9792 - val_loss: 0.3339 - val_accuracy: 0.9474\n",
      "Epoch 75/100\n",
      "38/38 [==============================] - 0s 5ms/step - loss: 0.3108 - accuracy: 0.9302 - val_loss: 0.2554 - val_accuracy: 0.9474\n",
      "Epoch 76/100\n",
      "38/38 [==============================] - 0s 4ms/step - loss: 0.3773 - accuracy: 0.8752 - val_loss: 0.3878 - val_accuracy: 0.9474\n",
      "Epoch 77/100\n",
      "38/38 [==============================] - 0s 5ms/step - loss: 0.2616 - accuracy: 0.9133 - val_loss: 0.4160 - val_accuracy: 0.9474\n",
      "Epoch 78/100\n",
      "38/38 [==============================] - 0s 6ms/step - loss: 0.3363 - accuracy: 0.9288 - val_loss: 0.2174 - val_accuracy: 0.9474\n",
      "Epoch 79/100\n",
      "38/38 [==============================] - 0s 5ms/step - loss: 0.2514 - accuracy: 0.9501 - val_loss: 0.2316 - val_accuracy: 0.9474\n",
      "Epoch 80/100\n",
      "38/38 [==============================] - 0s 5ms/step - loss: 0.2998 - accuracy: 0.8982 - val_loss: 0.2273 - val_accuracy: 0.9474\n",
      "Epoch 81/100\n",
      "38/38 [==============================] - 0s 5ms/step - loss: 0.2552 - accuracy: 0.9458 - val_loss: 0.2483 - val_accuracy: 0.9474\n",
      "Epoch 82/100\n",
      "38/38 [==============================] - 0s 5ms/step - loss: 0.3171 - accuracy: 0.9051 - val_loss: 0.2718 - val_accuracy: 0.9474\n",
      "Epoch 83/100\n",
      "38/38 [==============================] - 0s 5ms/step - loss: 0.5946 - accuracy: 0.8261 - val_loss: 0.2378 - val_accuracy: 0.9474\n",
      "Epoch 84/100\n",
      "38/38 [==============================] - 0s 5ms/step - loss: 0.2088 - accuracy: 0.9505 - val_loss: 0.2147 - val_accuracy: 0.9474\n",
      "Epoch 85/100\n",
      "38/38 [==============================] - 0s 5ms/step - loss: 0.2032 - accuracy: 0.9517 - val_loss: 0.2342 - val_accuracy: 0.9474\n",
      "Epoch 86/100\n",
      "38/38 [==============================] - 0s 5ms/step - loss: 0.2433 - accuracy: 0.8915 - val_loss: 0.2847 - val_accuracy: 0.9474\n",
      "Epoch 87/100\n",
      "38/38 [==============================] - 0s 5ms/step - loss: 0.2252 - accuracy: 0.9211 - val_loss: 0.3109 - val_accuracy: 0.9474\n",
      "Epoch 88/100\n",
      "38/38 [==============================] - 0s 5ms/step - loss: 0.4175 - accuracy: 0.8518 - val_loss: 0.2374 - val_accuracy: 0.9474\n",
      "Epoch 89/100\n",
      "38/38 [==============================] - 0s 5ms/step - loss: 0.2807 - accuracy: 0.9042 - val_loss: 0.3108 - val_accuracy: 0.9474\n",
      "Epoch 90/100\n",
      "38/38 [==============================] - 0s 5ms/step - loss: 0.1693 - accuracy: 0.9462 - val_loss: 0.3425 - val_accuracy: 0.9474\n",
      "Epoch 91/100\n",
      "38/38 [==============================] - 0s 6ms/step - loss: 0.2704 - accuracy: 0.9127 - val_loss: 0.2986 - val_accuracy: 0.9474\n",
      "Epoch 92/100\n",
      "38/38 [==============================] - 0s 6ms/step - loss: 0.1881 - accuracy: 0.9559 - val_loss: 0.2941 - val_accuracy: 0.9474\n",
      "Epoch 93/100\n",
      "38/38 [==============================] - 0s 6ms/step - loss: 0.2354 - accuracy: 0.9361 - val_loss: 0.3123 - val_accuracy: 0.9474\n",
      "Epoch 94/100\n",
      "38/38 [==============================] - 0s 6ms/step - loss: 0.2293 - accuracy: 0.9237 - val_loss: 0.3022 - val_accuracy: 0.9474\n",
      "Epoch 95/100\n",
      "38/38 [==============================] - 0s 5ms/step - loss: 0.2414 - accuracy: 0.9130 - val_loss: 0.4115 - val_accuracy: 0.9474\n",
      "Epoch 96/100\n",
      "38/38 [==============================] - 0s 5ms/step - loss: 0.2120 - accuracy: 0.9399 - val_loss: 0.2642 - val_accuracy: 0.9474\n",
      "Epoch 97/100\n",
      "38/38 [==============================] - 0s 5ms/step - loss: 0.2313 - accuracy: 0.9596 - val_loss: 0.2468 - val_accuracy: 0.9474\n",
      "Epoch 98/100\n",
      "38/38 [==============================] - 0s 5ms/step - loss: 0.1983 - accuracy: 0.9346 - val_loss: 0.2722 - val_accuracy: 0.9474\n",
      "Epoch 99/100\n",
      "38/38 [==============================] - 0s 5ms/step - loss: 0.2843 - accuracy: 0.9248 - val_loss: 0.2245 - val_accuracy: 0.9474\n",
      "Epoch 100/100\n",
      "38/38 [==============================] - 0s 5ms/step - loss: 0.3028 - accuracy: 0.9078 - val_loss: 0.2329 - val_accuracy: 0.9474\n"
     ]
    }
   ],
   "source": [
    "# Train the ANN\n",
    "history = model.fit(X_train, y_train, batch_size = 2, epochs = 100, validation_split=0.2)"
   ]
  },
  {
   "cell_type": "code",
   "execution_count": 61,
   "metadata": {},
   "outputs": [
    {
     "data": {
      "image/png": "[encoded data removed]",
      "text/plain": [
       "<Figure size 432x288 with 1 Axes>"
      ]
     },
     "metadata": {
      "needs_background": "light"
     },
     "output_type": "display_data"
    },
    {
     "data": {
      "image/png": "[encoded data removed]",
      "text/plain": [
       "<Figure size 432x288 with 1 Axes>"
      ]
     },
     "metadata": {
      "needs_background": "light"
     },
     "output_type": "display_data"
    }
   ],
   "source": [
    "history_df = pd.DataFrame(history.history)\n",
    "\n",
    "plt.plot(history_df.loc[:, ['loss']], \"#CD5C5C\", label='Training loss')\n",
    "plt.plot(history_df.loc[:, ['val_loss']],\"#FF0000\", label='Validation loss')\n",
    "plt.title('Training and Validation loss')\n",
    "plt.xlabel('Epochs')\n",
    "plt.ylabel('Loss')\n",
    "plt.legend(loc=\"best\")\n",
    "\n",
    "plt.show()\n",
    "\n",
    "history_df = pd.DataFrame(history.history)\n",
    "\n",
    "plt.plot(history_df.loc[:, ['accuracy']], \"#CD5C5C\", label='Training accuracy')\n",
    "plt.plot(history_df.loc[:, ['val_accuracy']],\"#FF0000\", label='Validation accuracy')\n",
    "\n",
    "plt.title('Training and Validation accuracy')\n",
    "plt.xlabel('Epochs')\n",
    "plt.ylabel('Accuracy')\n",
    "plt.legend()\n",
    "plt.show()"
   ]
  },
  {
   "cell_type": "code",
   "execution_count": 62,
   "metadata": {},
   "outputs": [
    {
     "name": "stdout",
     "output_type": "stream",
     "text": [
      "WARNING:tensorflow:6 out of the last 6 calls to <function Model.make_predict_function.<locals>.predict_function at 0x0000025B1EA96048> triggered tf.function retracing. Tracing is expensive and the excessive number of tracings could be due to (1) creating @tf.function repeatedly in a loop, (2) passing tensors with different shapes, (3) passing Python objects instead of tensors. For (1), please define your @tf.function outside of the loop. For (2), @tf.function has experimental_relax_shapes=True option that relaxes argument shapes that can avoid unnecessary retracing. For (3), please refer to https://www.tensorflow.org/guide/function#controlling_retracing and https://www.tensorflow.org/api_docs/python/tf/function for  more details.\n"
     ]
    }
   ],
   "source": [
    "# Predicting the test set results\n",
    "y_pred = model.predict(X_test)\n",
    "y_pred = (y_pred > 0.4)\n",
    "\n",
    "dnn_8_acc = accuracy_score(y_pred, y_test)\n",
    "dnn_8_prec = precision_score(y_pred, y_test,average='weighted')\n",
    "dnn_8_rec = recall_score(y_pred, y_test,average='weighted')\n",
    "dnn_8_f1 = f1_score(y_pred, y_test,average='weighted')\n",
    "dnn_8_spec = specificity_score(y_pred, y_test,average='weighted')\n",
    "dnn_8_sens = sensitivity_score(y_pred, y_test,average='weighted')"
   ]
  },
  {
   "cell_type": "code",
   "execution_count": 82,
   "metadata": {},
   "outputs": [],
   "source": [
    "storeResults1('DNN - 8 Layers',dnn_8_acc,dnn_8_prec,dnn_8_rec,dnn_8_f1,dnn_8_spec,dnn_8_sens)"
   ]
  },
  {
   "cell_type": "markdown",
   "metadata": {},
   "source": [
    "# 9 Layers"
   ]
  },
  {
   "cell_type": "code",
   "execution_count": 63,
   "metadata": {},
   "outputs": [],
   "source": [
    "# Initialising the NN\n",
    "model = Sequential()\n",
    "\n",
    "# layers\n",
    "model.add(Dense(units = 128, kernel_initializer = 'uniform', activation = 'relu', input_dim = 10))\n",
    "model.add(Dense(units = 64, kernel_initializer = 'uniform', activation = 'relu'))\n",
    "model.add(Dropout(0.25))\n",
    "model.add(Dense(units = 64, kernel_initializer = 'uniform', activation = 'relu'))\n",
    "model.add(Dropout(0.5))\n",
    "model.add(Dense(units = 32, kernel_initializer = 'uniform', activation = 'relu'))\n",
    "model.add(Dropout(0.5))\n",
    "model.add(Dense(units = 32, kernel_initializer = 'uniform', activation = 'relu'))\n",
    "model.add(Dropout(0.5))\n",
    "model.add(Dense(units = 16, kernel_initializer = 'uniform', activation = 'relu'))\n",
    "model.add(Dropout(0.5))\n",
    "model.add(Dense(units = 16, kernel_initializer = 'uniform', activation = 'relu'))\n",
    "model.add(Dropout(0.5))\n",
    "model.add(Dense(units = 8, kernel_initializer = 'uniform', activation = 'relu'))\n",
    "model.add(Dropout(0.5))\n",
    "model.add(Dense(units = 8, kernel_initializer = 'uniform', activation = 'relu'))\n",
    "model.add(Dropout(0.5))\n",
    "model.add(Dense(units = 1, kernel_initializer = 'uniform', activation = 'sigmoid'))\n",
    "\n",
    "# Compiling the ANN\n",
    "model.compile(optimizer = 'adam', loss = 'binary_crossentropy', metrics = ['accuracy'])"
   ]
  },
  {
   "cell_type": "code",
   "execution_count": 64,
   "metadata": {},
   "outputs": [
    {
     "name": "stdout",
     "output_type": "stream",
     "text": [
      "Epoch 1/100\n",
      "38/38 [==============================] - 11s 63ms/step - loss: 0.6889 - accuracy: 0.8502 - val_loss: 0.6741 - val_accuracy: 0.9474\n",
      "Epoch 2/100\n",
      "38/38 [==============================] - 0s 6ms/step - loss: 0.6666 - accuracy: 0.9548 - val_loss: 0.6455 - val_accuracy: 0.9474\n",
      "Epoch 3/100\n",
      "38/38 [==============================] - 0s 5ms/step - loss: 0.6375 - accuracy: 0.9189 - val_loss: 0.5904 - val_accuracy: 0.9474\n",
      "Epoch 4/100\n",
      "38/38 [==============================] - 0s 6ms/step - loss: 0.5167 - accuracy: 0.9264 - val_loss: 0.9336 - val_accuracy: 0.9474\n",
      "Epoch 5/100\n",
      "38/38 [==============================] - 0s 6ms/step - loss: 0.8349 - accuracy: 0.9195 - val_loss: 0.9369 - val_accuracy: 0.9474\n",
      "Epoch 6/100\n",
      "38/38 [==============================] - 0s 6ms/step - loss: 0.4405 - accuracy: 0.9214 - val_loss: 0.2577 - val_accuracy: 0.9474\n",
      "Epoch 7/100\n",
      "38/38 [==============================] - 0s 6ms/step - loss: 0.3052 - accuracy: 0.9034 - val_loss: 0.2614 - val_accuracy: 0.9474\n",
      "Epoch 8/100\n",
      "38/38 [==============================] - 0s 6ms/step - loss: 0.4382 - accuracy: 0.9237 - val_loss: 0.2322 - val_accuracy: 0.9474\n",
      "Epoch 9/100\n",
      "38/38 [==============================] - 0s 6ms/step - loss: 0.3313 - accuracy: 0.8937 - val_loss: 0.2347 - val_accuracy: 0.9474\n",
      "Epoch 10/100\n",
      "38/38 [==============================] - 0s 6ms/step - loss: 0.5398 - accuracy: 0.8720 - val_loss: 0.2357 - val_accuracy: 0.9474\n",
      "Epoch 11/100\n",
      "38/38 [==============================] - 0s 6ms/step - loss: 0.2906 - accuracy: 0.9574 - val_loss: 0.2404 - val_accuracy: 0.9474\n",
      "Epoch 12/100\n",
      "38/38 [==============================] - 0s 6ms/step - loss: 0.4216 - accuracy: 0.9478 - val_loss: 0.2606 - val_accuracy: 0.9474\n",
      "Epoch 13/100\n",
      "38/38 [==============================] - 0s 6ms/step - loss: 0.3908 - accuracy: 0.9073 - val_loss: 0.2597 - val_accuracy: 0.9474\n",
      "Epoch 14/100\n",
      "38/38 [==============================] - 0s 6ms/step - loss: 0.4117 - accuracy: 0.9052 - val_loss: 0.2608 - val_accuracy: 0.9474\n",
      "Epoch 15/100\n",
      "38/38 [==============================] - 0s 6ms/step - loss: 0.2361 - accuracy: 0.9447 - val_loss: 0.2650 - val_accuracy: 0.9474\n",
      "Epoch 16/100\n",
      "38/38 [==============================] - 0s 6ms/step - loss: 0.2631 - accuracy: 0.9124 - val_loss: 0.2750 - val_accuracy: 0.9474\n",
      "Epoch 17/100\n",
      "38/38 [==============================] - 0s 6ms/step - loss: 0.3399 - accuracy: 0.9362 - val_loss: 0.2492 - val_accuracy: 0.9474\n",
      "Epoch 18/100\n",
      "38/38 [==============================] - 0s 6ms/step - loss: 0.3347 - accuracy: 0.8818 - val_loss: 0.3318 - val_accuracy: 0.9474\n",
      "Epoch 19/100\n",
      "38/38 [==============================] - 0s 6ms/step - loss: 0.3467 - accuracy: 0.9111 - val_loss: 0.3021 - val_accuracy: 0.9474\n",
      "Epoch 20/100\n",
      "38/38 [==============================] - 0s 6ms/step - loss: 0.2971 - accuracy: 0.9290 - val_loss: 0.2812 - val_accuracy: 0.9474\n",
      "Epoch 21/100\n",
      "38/38 [==============================] - 0s 5ms/step - loss: 0.2096 - accuracy: 0.9500 - val_loss: 0.3349 - val_accuracy: 0.9474\n",
      "Epoch 22/100\n",
      "38/38 [==============================] - 0s 5ms/step - loss: 0.3920 - accuracy: 0.9131 - val_loss: 0.2731 - val_accuracy: 0.9474\n",
      "Epoch 23/100\n",
      "38/38 [==============================] - 0s 5ms/step - loss: 0.5533 - accuracy: 0.8767 - val_loss: 0.2869 - val_accuracy: 0.9474\n",
      "Epoch 24/100\n",
      "38/38 [==============================] - 0s 6ms/step - loss: 0.3751 - accuracy: 0.9344 - val_loss: 0.3008 - val_accuracy: 0.9474\n",
      "Epoch 25/100\n",
      "38/38 [==============================] - 0s 7ms/step - loss: 0.2634 - accuracy: 0.9215 - val_loss: 0.4316 - val_accuracy: 0.9474\n",
      "Epoch 26/100\n",
      "38/38 [==============================] - 0s 6ms/step - loss: 0.2457 - accuracy: 0.9760 - val_loss: 0.3014 - val_accuracy: 0.9474\n",
      "Epoch 27/100\n",
      "38/38 [==============================] - 0s 6ms/step - loss: 0.3983 - accuracy: 0.9108 - val_loss: 0.2995 - val_accuracy: 0.9474\n",
      "Epoch 28/100\n",
      "38/38 [==============================] - 0s 6ms/step - loss: 0.3683 - accuracy: 0.9188 - val_loss: 0.2674 - val_accuracy: 0.9474\n",
      "Epoch 29/100\n",
      "38/38 [==============================] - 0s 6ms/step - loss: 0.2557 - accuracy: 0.9648 - val_loss: 0.2777 - val_accuracy: 0.9474\n",
      "Epoch 30/100\n",
      "38/38 [==============================] - 0s 7ms/step - loss: 0.3334 - accuracy: 0.9114 - val_loss: 0.2856 - val_accuracy: 0.9474\n",
      "Epoch 31/100\n",
      "38/38 [==============================] - 0s 6ms/step - loss: 0.3065 - accuracy: 0.9479 - val_loss: 0.2976 - val_accuracy: 0.9474\n",
      "Epoch 32/100\n",
      "38/38 [==============================] - 0s 6ms/step - loss: 0.3812 - accuracy: 0.9271 - val_loss: 0.2863 - val_accuracy: 0.9474\n",
      "Epoch 33/100\n",
      "38/38 [==============================] - 0s 6ms/step - loss: 0.3810 - accuracy: 0.9129 - val_loss: 0.3716 - val_accuracy: 0.9474\n",
      "Epoch 34/100\n",
      "38/38 [==============================] - 0s 5ms/step - loss: 0.5079 - accuracy: 0.8804 - val_loss: 0.3646 - val_accuracy: 0.9474\n",
      "Epoch 35/100\n",
      "38/38 [==============================] - 0s 6ms/step - loss: 0.5189 - accuracy: 0.8860 - val_loss: 0.2960 - val_accuracy: 0.9474\n",
      "Epoch 36/100\n",
      "38/38 [==============================] - 0s 5ms/step - loss: 0.2777 - accuracy: 0.9320 - val_loss: 0.3949 - val_accuracy: 0.9474\n",
      "Epoch 37/100\n",
      "38/38 [==============================] - 0s 6ms/step - loss: 0.3552 - accuracy: 0.9347 - val_loss: 0.2856 - val_accuracy: 0.9474\n",
      "Epoch 38/100\n",
      "38/38 [==============================] - 0s 6ms/step - loss: 0.3592 - accuracy: 0.8737 - val_loss: 0.4596 - val_accuracy: 0.9474\n",
      "Epoch 39/100\n",
      "38/38 [==============================] - 0s 5ms/step - loss: 0.2799 - accuracy: 0.9395 - val_loss: 0.4158 - val_accuracy: 0.9474\n",
      "Epoch 40/100\n",
      "38/38 [==============================] - 0s 6ms/step - loss: 0.2175 - accuracy: 0.9585 - val_loss: 0.3403 - val_accuracy: 0.9474\n",
      "Epoch 41/100\n",
      "38/38 [==============================] - 0s 5ms/step - loss: 0.2636 - accuracy: 0.9236 - val_loss: 0.3568 - val_accuracy: 0.9474\n",
      "Epoch 42/100\n",
      "38/38 [==============================] - 0s 6ms/step - loss: 0.2988 - accuracy: 0.9277 - val_loss: 0.3408 - val_accuracy: 0.9474\n",
      "Epoch 43/100\n",
      "38/38 [==============================] - 0s 5ms/step - loss: 0.2576 - accuracy: 0.8920 - val_loss: 0.5215 - val_accuracy: 0.9474\n",
      "Epoch 44/100\n",
      "38/38 [==============================] - 0s 6ms/step - loss: 0.1656 - accuracy: 0.9521 - val_loss: 0.6617 - val_accuracy: 0.9474\n",
      "Epoch 45/100\n",
      "38/38 [==============================] - 0s 6ms/step - loss: 1.0641 - accuracy: 0.8307 - val_loss: 0.3035 - val_accuracy: 0.9474\n",
      "Epoch 46/100\n",
      "38/38 [==============================] - 0s 5ms/step - loss: 0.2898 - accuracy: 0.9326 - val_loss: 0.3360 - val_accuracy: 0.9474\n",
      "Epoch 47/100\n",
      "38/38 [==============================] - 0s 4ms/step - loss: 0.4559 - accuracy: 0.8936 - val_loss: 0.2852 - val_accuracy: 0.9474\n",
      "Epoch 48/100\n",
      "38/38 [==============================] - 0s 4ms/step - loss: 0.3488 - accuracy: 0.9229 - val_loss: 0.3007 - val_accuracy: 0.9474\n",
      "Epoch 49/100\n",
      "38/38 [==============================] - 0s 5ms/step - loss: 0.3389 - accuracy: 0.9350 - val_loss: 0.2946 - val_accuracy: 0.9474\n",
      "Epoch 50/100\n",
      "38/38 [==============================] - 0s 5ms/step - loss: 0.2527 - accuracy: 0.9475 - val_loss: 0.3127 - val_accuracy: 0.9474\n",
      "Epoch 51/100\n",
      "38/38 [==============================] - 0s 6ms/step - loss: 0.2622 - accuracy: 0.9388 - val_loss: 0.3166 - val_accuracy: 0.9474\n",
      "Epoch 52/100\n",
      "38/38 [==============================] - 0s 6ms/step - loss: 0.2483 - accuracy: 0.9396 - val_loss: 0.2795 - val_accuracy: 0.9474\n",
      "Epoch 53/100\n",
      "38/38 [==============================] - 0s 6ms/step - loss: 0.3159 - accuracy: 0.8953 - val_loss: 0.3461 - val_accuracy: 0.9474\n",
      "Epoch 54/100\n",
      "38/38 [==============================] - 0s 6ms/step - loss: 0.2709 - accuracy: 0.9358 - val_loss: 0.3903 - val_accuracy: 0.9474\n",
      "Epoch 55/100\n",
      "38/38 [==============================] - 0s 6ms/step - loss: 0.2801 - accuracy: 0.9467 - val_loss: 0.2812 - val_accuracy: 0.9474\n",
      "Epoch 56/100\n",
      "38/38 [==============================] - 0s 5ms/step - loss: 0.2633 - accuracy: 0.9595 - val_loss: 0.3062 - val_accuracy: 0.9474\n",
      "Epoch 57/100\n",
      "38/38 [==============================] - 0s 5ms/step - loss: 0.3573 - accuracy: 0.8994 - val_loss: 0.2604 - val_accuracy: 0.9474\n",
      "Epoch 58/100\n",
      "38/38 [==============================] - 0s 5ms/step - loss: 0.2571 - accuracy: 0.9353 - val_loss: 0.3383 - val_accuracy: 0.9474\n"
     ]
    },
    {
     "name": "stdout",
     "output_type": "stream",
     "text": [
      "Epoch 59/100\n",
      "38/38 [==============================] - 0s 5ms/step - loss: 0.2062 - accuracy: 0.9571 - val_loss: 0.3316 - val_accuracy: 0.9474\n",
      "Epoch 60/100\n",
      "38/38 [==============================] - 0s 4ms/step - loss: 0.2450 - accuracy: 0.9404 - val_loss: 0.2889 - val_accuracy: 0.9474\n",
      "Epoch 61/100\n",
      "38/38 [==============================] - 0s 4ms/step - loss: 0.2820 - accuracy: 0.9214 - val_loss: 0.3402 - val_accuracy: 0.9474\n",
      "Epoch 62/100\n",
      "38/38 [==============================] - 0s 4ms/step - loss: 0.2634 - accuracy: 0.9264 - val_loss: 0.3605 - val_accuracy: 0.9474\n",
      "Epoch 63/100\n",
      "38/38 [==============================] - 0s 4ms/step - loss: 0.2886 - accuracy: 0.9117 - val_loss: 0.2980 - val_accuracy: 0.9474\n",
      "Epoch 64/100\n",
      "38/38 [==============================] - 0s 4ms/step - loss: 0.2600 - accuracy: 0.9455 - val_loss: 0.2607 - val_accuracy: 0.9474\n",
      "Epoch 65/100\n",
      "38/38 [==============================] - 0s 6ms/step - loss: 0.2470 - accuracy: 0.9561 - val_loss: 0.2651 - val_accuracy: 0.9474\n",
      "Epoch 66/100\n",
      "38/38 [==============================] - 0s 5ms/step - loss: 0.2322 - accuracy: 0.9351 - val_loss: 0.2853 - val_accuracy: 0.9474\n",
      "Epoch 67/100\n",
      "38/38 [==============================] - 0s 5ms/step - loss: 0.3150 - accuracy: 0.9258 - val_loss: 0.2785 - val_accuracy: 0.9474\n",
      "Epoch 68/100\n",
      "38/38 [==============================] - 0s 5ms/step - loss: 0.5420 - accuracy: 0.8189 - val_loss: 0.3023 - val_accuracy: 0.9474\n",
      "Epoch 69/100\n",
      "38/38 [==============================] - 0s 5ms/step - loss: 0.1672 - accuracy: 0.9494 - val_loss: 0.3491 - val_accuracy: 0.9474\n",
      "Epoch 70/100\n",
      "38/38 [==============================] - 0s 4ms/step - loss: 0.2449 - accuracy: 0.9178 - val_loss: 0.3170 - val_accuracy: 0.9474\n",
      "Epoch 71/100\n",
      "38/38 [==============================] - 0s 5ms/step - loss: 0.2671 - accuracy: 0.9100 - val_loss: 0.3519 - val_accuracy: 0.9474\n",
      "Epoch 72/100\n",
      "38/38 [==============================] - 0s 5ms/step - loss: 0.2176 - accuracy: 0.9453 - val_loss: 0.2800 - val_accuracy: 0.9474\n",
      "Epoch 73/100\n",
      "38/38 [==============================] - 0s 4ms/step - loss: 0.2609 - accuracy: 0.9061 - val_loss: 0.2783 - val_accuracy: 0.9474\n",
      "Epoch 74/100\n",
      "38/38 [==============================] - 0s 4ms/step - loss: 0.2607 - accuracy: 0.9383 - val_loss: 0.2812 - val_accuracy: 0.9474\n",
      "Epoch 75/100\n",
      "38/38 [==============================] - 0s 5ms/step - loss: 0.2564 - accuracy: 0.9380 - val_loss: 0.2934 - val_accuracy: 0.9474\n",
      "Epoch 76/100\n",
      "38/38 [==============================] - 0s 4ms/step - loss: 0.2403 - accuracy: 0.9182 - val_loss: 0.2606 - val_accuracy: 0.9474\n",
      "Epoch 77/100\n",
      "38/38 [==============================] - 0s 4ms/step - loss: 0.3459 - accuracy: 0.8906 - val_loss: 0.2545 - val_accuracy: 0.9474\n",
      "Epoch 78/100\n",
      "38/38 [==============================] - 0s 3ms/step - loss: 0.2914 - accuracy: 0.9040 - val_loss: 0.3886 - val_accuracy: 0.9474\n",
      "Epoch 79/100\n",
      "38/38 [==============================] - 0s 3ms/step - loss: 0.2152 - accuracy: 0.9739 - val_loss: 0.2675 - val_accuracy: 0.9474\n",
      "Epoch 80/100\n",
      "38/38 [==============================] - 0s 3ms/step - loss: 0.2407 - accuracy: 0.9503 - val_loss: 0.2892 - val_accuracy: 0.9474\n",
      "Epoch 81/100\n",
      "38/38 [==============================] - 0s 4ms/step - loss: 0.2937 - accuracy: 0.9162 - val_loss: 0.3065 - val_accuracy: 0.9474\n",
      "Epoch 82/100\n",
      "38/38 [==============================] - 0s 5ms/step - loss: 0.2969 - accuracy: 0.9031 - val_loss: 0.3794 - val_accuracy: 0.9474\n",
      "Epoch 83/100\n",
      "38/38 [==============================] - 0s 5ms/step - loss: 0.3220 - accuracy: 0.8901 - val_loss: 0.3922 - val_accuracy: 0.9474\n",
      "Epoch 84/100\n",
      "38/38 [==============================] - 0s 5ms/step - loss: 0.2789 - accuracy: 0.8958 - val_loss: 0.3436 - val_accuracy: 0.9474\n",
      "Epoch 85/100\n",
      "38/38 [==============================] - 0s 4ms/step - loss: 0.2136 - accuracy: 0.9540 - val_loss: 0.4669 - val_accuracy: 0.9474\n",
      "Epoch 86/100\n",
      "38/38 [==============================] - 0s 4ms/step - loss: 0.2579 - accuracy: 0.9254 - val_loss: 0.3087 - val_accuracy: 0.9474\n",
      "Epoch 87/100\n",
      "38/38 [==============================] - 0s 4ms/step - loss: 0.2115 - accuracy: 0.9270 - val_loss: 0.3291 - val_accuracy: 0.9474\n",
      "Epoch 88/100\n",
      "38/38 [==============================] - 0s 4ms/step - loss: 0.3074 - accuracy: 0.8785 - val_loss: 0.4032 - val_accuracy: 0.9474\n",
      "Epoch 89/100\n",
      "38/38 [==============================] - 0s 4ms/step - loss: 0.3049 - accuracy: 0.9111 - val_loss: 0.2787 - val_accuracy: 0.9474\n",
      "Epoch 90/100\n",
      "38/38 [==============================] - 0s 4ms/step - loss: 0.2307 - accuracy: 0.9562 - val_loss: 0.3023 - val_accuracy: 0.9474\n",
      "Epoch 91/100\n",
      "38/38 [==============================] - 0s 4ms/step - loss: 0.2995 - accuracy: 0.9092 - val_loss: 0.3755 - val_accuracy: 0.9474\n",
      "Epoch 92/100\n",
      "38/38 [==============================] - 0s 4ms/step - loss: 0.2325 - accuracy: 0.9466 - val_loss: 0.3263 - val_accuracy: 0.9474\n",
      "Epoch 93/100\n",
      "38/38 [==============================] - 0s 4ms/step - loss: 0.5488 - accuracy: 0.9023 - val_loss: 0.2354 - val_accuracy: 0.9474\n",
      "Epoch 94/100\n",
      "38/38 [==============================] - 0s 4ms/step - loss: 0.3464 - accuracy: 0.8847 - val_loss: 0.2352 - val_accuracy: 0.9474\n",
      "Epoch 95/100\n",
      "38/38 [==============================] - 0s 4ms/step - loss: 0.3646 - accuracy: 0.8715 - val_loss: 0.2538 - val_accuracy: 0.9474\n",
      "Epoch 96/100\n",
      "38/38 [==============================] - 0s 3ms/step - loss: 0.2279 - accuracy: 0.9351 - val_loss: 0.3376 - val_accuracy: 0.9474\n",
      "Epoch 97/100\n",
      "38/38 [==============================] - 0s 4ms/step - loss: 0.3420 - accuracy: 0.8792 - val_loss: 0.3165 - val_accuracy: 0.9474\n",
      "Epoch 98/100\n",
      "38/38 [==============================] - 0s 4ms/step - loss: 0.1967 - accuracy: 0.9409 - val_loss: 0.3296 - val_accuracy: 0.9474\n",
      "Epoch 99/100\n",
      "38/38 [==============================] - 0s 4ms/step - loss: 0.2582 - accuracy: 0.9119 - val_loss: 0.4162 - val_accuracy: 0.9474\n",
      "Epoch 100/100\n",
      "38/38 [==============================] - 0s 4ms/step - loss: 0.2923 - accuracy: 0.8984 - val_loss: 0.4868 - val_accuracy: 0.9474\n"
     ]
    }
   ],
   "source": [
    "# Train the ANN\n",
    "history = model.fit(X_train, y_train, batch_size = 2, epochs = 100, validation_split=0.2)"
   ]
  },
  {
   "cell_type": "code",
   "execution_count": 65,
   "metadata": {},
   "outputs": [
    {
     "data": {
      "image/png": "[encoded data removed]",
      "text/plain": [
       "<Figure size 432x288 with 1 Axes>"
      ]
     },
     "metadata": {
      "needs_background": "light"
     },
     "output_type": "display_data"
    },
    {
     "data": {
      "image/png": "[encoded data removed]",
      "text/plain": [
       "<Figure size 432x288 with 1 Axes>"
      ]
     },
     "metadata": {
      "needs_background": "light"
     },
     "output_type": "display_data"
    }
   ],
   "source": [
    "history_df = pd.DataFrame(history.history)\n",
    "\n",
    "plt.plot(history_df.loc[:, ['loss']], \"#CD5C5C\", label='Training loss')\n",
    "plt.plot(history_df.loc[:, ['val_loss']],\"#FF0000\", label='Validation loss')\n",
    "plt.title('Training and Validation loss')\n",
    "plt.xlabel('Epochs')\n",
    "plt.ylabel('Loss')\n",
    "plt.legend(loc=\"best\")\n",
    "\n",
    "plt.show()\n",
    "\n",
    "history_df = pd.DataFrame(history.history)\n",
    "\n",
    "plt.plot(history_df.loc[:, ['accuracy']], \"#CD5C5C\", label='Training accuracy')\n",
    "plt.plot(history_df.loc[:, ['val_accuracy']],\"#FF0000\", label='Validation accuracy')\n",
    "\n",
    "plt.title('Training and Validation accuracy')\n",
    "plt.xlabel('Epochs')\n",
    "plt.ylabel('Accuracy')\n",
    "plt.legend()\n",
    "plt.show()"
   ]
  },
  {
   "cell_type": "code",
   "execution_count": 66,
   "metadata": {},
   "outputs": [],
   "source": [
    "# Predicting the test set results\n",
    "y_pred = model.predict(X_test)\n",
    "y_pred = (y_pred > 0.4)\n",
    "\n",
    "dnn_9_acc = accuracy_score(y_pred, y_test)\n",
    "dnn_9_prec = precision_score(y_pred, y_test,average='weighted')\n",
    "dnn_9_rec = recall_score(y_pred, y_test,average='weighted')\n",
    "dnn_9_f1 = f1_score(y_pred, y_test,average='weighted')\n",
    "dnn_9_spec = specificity_score(y_pred, y_test,average='weighted')\n",
    "dnn_9_sens = sensitivity_score(y_pred, y_test,average='weighted')"
   ]
  },
  {
   "cell_type": "code",
   "execution_count": 83,
   "metadata": {},
   "outputs": [],
   "source": [
    "storeResults1('DNN - 9 Layers',dnn_9_acc,dnn_9_prec,dnn_9_rec,dnn_9_f1,dnn_9_spec,dnn_9_sens)"
   ]
  },
  {
   "cell_type": "markdown",
   "metadata": {},
   "source": [
    "# Comparison"
   ]
  },
  {
   "cell_type": "code",
   "execution_count": 114,
   "metadata": {},
   "outputs": [],
   "source": [
    "#creating dataframe\n",
    "result = pd.DataFrame({ 'ML Model' : ML_Model,\n",
    "                        'Accuracy' : accuracy,\n",
    "                       'Precision': precision,\n",
    "                       'Recall'   : recall, \n",
    "                       'F1_score' : f1score,\n",
    "                       'Specificity' : spec,\n",
    "                       'Sensitivity' : sens\n",
    "                      }) "
   ]
  },
  {
   "cell_type": "code",
   "execution_count": 115,
   "metadata": {},
   "outputs": [
    {
     "data": {
      "text/html": [
       "<div>\n",
       "<style scoped>\n",
       "    .dataframe tbody tr th:only-of-type {\n",
       "        vertical-align: middle;\n",
       "    }\n",
       "\n",
       "    .dataframe tbody tr th {\n",
       "        vertical-align: top;\n",
       "    }\n",
       "\n",
       "    .dataframe thead th {\n",
       "        text-align: right;\n",
       "    }\n",
       "</style>\n",
       "<table border=\"1\" class=\"dataframe\">\n",
       "  <thead>\n",
       "    <tr style=\"text-align: right;\">\n",
       "      <th></th>\n",
       "      <th>ML Model</th>\n",
       "      <th>Accuracy</th>\n",
       "      <th>Precision</th>\n",
       "      <th>Recall</th>\n",
       "      <th>F1_score</th>\n",
       "      <th>Specificity</th>\n",
       "      <th>Sensitivity</th>\n",
       "    </tr>\n",
       "  </thead>\n",
       "  <tbody>\n",
       "    <tr>\n",
       "      <td>0</td>\n",
       "      <td>KNN</td>\n",
       "      <td>0.909</td>\n",
       "      <td>1.000</td>\n",
       "      <td>0.909</td>\n",
       "      <td>0.952</td>\n",
       "      <td>0.000</td>\n",
       "      <td>0.909</td>\n",
       "    </tr>\n",
       "    <tr>\n",
       "      <td>1</td>\n",
       "      <td>LinearSVC</td>\n",
       "      <td>0.818</td>\n",
       "      <td>0.818</td>\n",
       "      <td>0.818</td>\n",
       "      <td>0.818</td>\n",
       "      <td>0.082</td>\n",
       "      <td>0.818</td>\n",
       "    </tr>\n",
       "    <tr>\n",
       "      <td>2</td>\n",
       "      <td>Guassian Process</td>\n",
       "      <td>0.909</td>\n",
       "      <td>1.000</td>\n",
       "      <td>0.909</td>\n",
       "      <td>0.952</td>\n",
       "      <td>0.000</td>\n",
       "      <td>0.909</td>\n",
       "    </tr>\n",
       "    <tr>\n",
       "      <td>3</td>\n",
       "      <td>Decision Tree</td>\n",
       "      <td>0.727</td>\n",
       "      <td>0.655</td>\n",
       "      <td>0.727</td>\n",
       "      <td>0.689</td>\n",
       "      <td>0.162</td>\n",
       "      <td>0.727</td>\n",
       "    </tr>\n",
       "    <tr>\n",
       "      <td>4</td>\n",
       "      <td>Naive Bayes</td>\n",
       "      <td>0.455</td>\n",
       "      <td>0.782</td>\n",
       "      <td>0.455</td>\n",
       "      <td>0.367</td>\n",
       "      <td>0.688</td>\n",
       "      <td>0.455</td>\n",
       "    </tr>\n",
       "    <tr>\n",
       "      <td>5</td>\n",
       "      <td>QDA</td>\n",
       "      <td>0.909</td>\n",
       "      <td>1.000</td>\n",
       "      <td>0.909</td>\n",
       "      <td>0.952</td>\n",
       "      <td>0.000</td>\n",
       "      <td>0.909</td>\n",
       "    </tr>\n",
       "    <tr>\n",
       "      <td>6</td>\n",
       "      <td>AdaBoost</td>\n",
       "      <td>0.818</td>\n",
       "      <td>0.818</td>\n",
       "      <td>0.818</td>\n",
       "      <td>0.818</td>\n",
       "      <td>0.082</td>\n",
       "      <td>0.818</td>\n",
       "    </tr>\n",
       "    <tr>\n",
       "      <td>7</td>\n",
       "      <td>Bagging</td>\n",
       "      <td>0.636</td>\n",
       "      <td>0.509</td>\n",
       "      <td>0.636</td>\n",
       "      <td>0.566</td>\n",
       "      <td>0.239</td>\n",
       "      <td>0.636</td>\n",
       "    </tr>\n",
       "    <tr>\n",
       "      <td>8</td>\n",
       "      <td>Boosting</td>\n",
       "      <td>0.818</td>\n",
       "      <td>0.818</td>\n",
       "      <td>0.818</td>\n",
       "      <td>0.818</td>\n",
       "      <td>0.082</td>\n",
       "      <td>0.818</td>\n",
       "    </tr>\n",
       "    <tr>\n",
       "      <td>9</td>\n",
       "      <td>Stacking Classifier</td>\n",
       "      <td>0.876</td>\n",
       "      <td>0.884</td>\n",
       "      <td>0.876</td>\n",
       "      <td>0.880</td>\n",
       "      <td>0.195</td>\n",
       "      <td>0.876</td>\n",
       "    </tr>\n",
       "    <tr>\n",
       "      <td>10</td>\n",
       "      <td>Voting Classifier</td>\n",
       "      <td>0.876</td>\n",
       "      <td>0.884</td>\n",
       "      <td>0.876</td>\n",
       "      <td>0.880</td>\n",
       "      <td>0.195</td>\n",
       "      <td>0.876</td>\n",
       "    </tr>\n",
       "  </tbody>\n",
       "</table>\n",
       "</div>"
      ],
      "text/plain": [
       "               ML Model  Accuracy  Precision  Recall  F1_score  Specificity  \\\n",
       "0                   KNN     0.909      1.000   0.909     0.952        0.000   \n",
       "1             LinearSVC     0.818      0.818   0.818     0.818        0.082   \n",
       "2      Guassian Process     0.909      1.000   0.909     0.952        0.000   \n",
       "3         Decision Tree     0.727      0.655   0.727     0.689        0.162   \n",
       "4           Naive Bayes     0.455      0.782   0.455     0.367        0.688   \n",
       "5                   QDA     0.909      1.000   0.909     0.952        0.000   \n",
       "6              AdaBoost     0.818      0.818   0.818     0.818        0.082   \n",
       "7               Bagging     0.636      0.509   0.636     0.566        0.239   \n",
       "8              Boosting     0.818      0.818   0.818     0.818        0.082   \n",
       "9   Stacking Classifier     0.876      0.884   0.876     0.880        0.195   \n",
       "10    Voting Classifier     0.876      0.884   0.876     0.880        0.195   \n",
       "\n",
       "    Sensitivity  \n",
       "0         0.909  \n",
       "1         0.818  \n",
       "2         0.909  \n",
       "3         0.727  \n",
       "4         0.455  \n",
       "5         0.909  \n",
       "6         0.818  \n",
       "7         0.636  \n",
       "8         0.818  \n",
       "9         0.876  \n",
       "10        0.876  "
      ]
     },
     "execution_count": 115,
     "metadata": {},
     "output_type": "execute_result"
    }
   ],
   "source": [
    "result"
   ]
  },
  {
   "cell_type": "code",
   "execution_count": 107,
   "metadata": {},
   "outputs": [],
   "source": [
    "#creating dataframe\n",
    "result1 = pd.DataFrame({ 'ML Model' : ML_Model1,\n",
    "                        'Accuracy' : accuracy1,\n",
    "                       'Precision': precision1,\n",
    "                       'Recall'   : recall1, \n",
    "                       'F1_score' : f1score1,\n",
    "                       'Specificity' : spec1,\n",
    "                       'Sensitivity' : sens1\n",
    "                      }) "
   ]
  },
  {
   "cell_type": "code",
   "execution_count": 108,
   "metadata": {},
   "outputs": [
    {
     "data": {
      "text/html": [
       "<div>\n",
       "<style scoped>\n",
       "    .dataframe tbody tr th:only-of-type {\n",
       "        vertical-align: middle;\n",
       "    }\n",
       "\n",
       "    .dataframe tbody tr th {\n",
       "        vertical-align: top;\n",
       "    }\n",
       "\n",
       "    .dataframe thead th {\n",
       "        text-align: right;\n",
       "    }\n",
       "</style>\n",
       "<table border=\"1\" class=\"dataframe\">\n",
       "  <thead>\n",
       "    <tr style=\"text-align: right;\">\n",
       "      <th></th>\n",
       "      <th>ML Model</th>\n",
       "      <th>Accuracy</th>\n",
       "      <th>Precision</th>\n",
       "      <th>Recall</th>\n",
       "      <th>F1_score</th>\n",
       "      <th>Specificity</th>\n",
       "      <th>Sensitivity</th>\n",
       "    </tr>\n",
       "  </thead>\n",
       "  <tbody>\n",
       "    <tr>\n",
       "      <td>0</td>\n",
       "      <td>DNN - 3 Layers</td>\n",
       "      <td>0.909</td>\n",
       "      <td>1.0</td>\n",
       "      <td>0.909</td>\n",
       "      <td>0.952</td>\n",
       "      <td>0.0</td>\n",
       "      <td>0.909</td>\n",
       "    </tr>\n",
       "    <tr>\n",
       "      <td>1</td>\n",
       "      <td>DNN - 4 Layers</td>\n",
       "      <td>0.909</td>\n",
       "      <td>1.0</td>\n",
       "      <td>0.909</td>\n",
       "      <td>0.952</td>\n",
       "      <td>0.0</td>\n",
       "      <td>0.909</td>\n",
       "    </tr>\n",
       "    <tr>\n",
       "      <td>2</td>\n",
       "      <td>DNN - 5 Layers</td>\n",
       "      <td>0.909</td>\n",
       "      <td>1.0</td>\n",
       "      <td>0.909</td>\n",
       "      <td>0.952</td>\n",
       "      <td>0.0</td>\n",
       "      <td>0.909</td>\n",
       "    </tr>\n",
       "    <tr>\n",
       "      <td>3</td>\n",
       "      <td>DNN - 6 Layers</td>\n",
       "      <td>0.909</td>\n",
       "      <td>1.0</td>\n",
       "      <td>0.909</td>\n",
       "      <td>0.952</td>\n",
       "      <td>0.0</td>\n",
       "      <td>0.909</td>\n",
       "    </tr>\n",
       "    <tr>\n",
       "      <td>4</td>\n",
       "      <td>DNN - 7 Layers</td>\n",
       "      <td>0.909</td>\n",
       "      <td>1.0</td>\n",
       "      <td>0.909</td>\n",
       "      <td>0.952</td>\n",
       "      <td>0.0</td>\n",
       "      <td>0.909</td>\n",
       "    </tr>\n",
       "    <tr>\n",
       "      <td>5</td>\n",
       "      <td>DNN - 8 Layers</td>\n",
       "      <td>0.909</td>\n",
       "      <td>1.0</td>\n",
       "      <td>0.909</td>\n",
       "      <td>0.952</td>\n",
       "      <td>0.0</td>\n",
       "      <td>0.909</td>\n",
       "    </tr>\n",
       "    <tr>\n",
       "      <td>6</td>\n",
       "      <td>DNN - 9 Layers</td>\n",
       "      <td>0.909</td>\n",
       "      <td>1.0</td>\n",
       "      <td>0.909</td>\n",
       "      <td>0.952</td>\n",
       "      <td>0.0</td>\n",
       "      <td>0.909</td>\n",
       "    </tr>\n",
       "  </tbody>\n",
       "</table>\n",
       "</div>"
      ],
      "text/plain": [
       "         ML Model  Accuracy  Precision  Recall  F1_score  Specificity  \\\n",
       "0  DNN - 3 Layers     0.909        1.0   0.909     0.952          0.0   \n",
       "1  DNN - 4 Layers     0.909        1.0   0.909     0.952          0.0   \n",
       "2  DNN - 5 Layers     0.909        1.0   0.909     0.952          0.0   \n",
       "3  DNN - 6 Layers     0.909        1.0   0.909     0.952          0.0   \n",
       "4  DNN - 7 Layers     0.909        1.0   0.909     0.952          0.0   \n",
       "5  DNN - 8 Layers     0.909        1.0   0.909     0.952          0.0   \n",
       "6  DNN - 9 Layers     0.909        1.0   0.909     0.952          0.0   \n",
       "\n",
       "   Sensitivity  \n",
       "0        0.909  \n",
       "1        0.909  \n",
       "2        0.909  \n",
       "3        0.909  \n",
       "4        0.909  \n",
       "5        0.909  \n",
       "6        0.909  "
      ]
     },
     "execution_count": 108,
     "metadata": {},
     "output_type": "execute_result"
    }
   ],
   "source": [
    "result1"
   ]
  },
  {
   "cell_type": "markdown",
   "metadata": {},
   "source": [
    "# Graph"
   ]
  },
  {
   "cell_type": "markdown",
   "metadata": {},
   "source": [
    "# ML"
   ]
  },
  {
   "cell_type": "code",
   "execution_count": 109,
   "metadata": {},
   "outputs": [],
   "source": [
    "classifier = ML_Model\n",
    "y_pos = np.arange(len(classifier))"
   ]
  },
  {
   "cell_type": "markdown",
   "metadata": {},
   "source": [
    "# Accuracy"
   ]
  },
  {
   "cell_type": "code",
   "execution_count": 110,
   "metadata": {},
   "outputs": [
    {
     "data": {
      "image/png": "[encoded data removed]",
      "text/plain": [
       "<Figure size 432x288 with 1 Axes>"
      ]
     },
     "metadata": {
      "needs_background": "light"
     },
     "output_type": "display_data"
    }
   ],
   "source": [
    "import matplotlib.pyplot as plt2\n",
    "plt2.barh(y_pos, accuracy, align='center', alpha=0.5,color='blue')\n",
    "plt2.yticks(y_pos, classifier)\n",
    "plt2.xlabel('Accuracy Score')\n",
    "plt2.title('Classification Performance')\n",
    "plt2.show()"
   ]
  },
  {
   "cell_type": "markdown",
   "metadata": {},
   "source": [
    "# Precision"
   ]
  },
  {
   "cell_type": "code",
   "execution_count": 111,
   "metadata": {},
   "outputs": [
    {
     "data": {
      "image/png": "[encoded data removed]",
      "text/plain": [
       "<Figure size 432x288 with 1 Axes>"
      ]
     },
     "metadata": {
      "needs_background": "light"
     },
     "output_type": "display_data"
    }
   ],
   "source": [
    "plt2.barh(y_pos, precision, align='center', alpha=0.5,color='red')\n",
    "plt2.yticks(y_pos, classifier)\n",
    "plt2.xlabel('Precision Score')\n",
    "plt2.title('Classification Performance')\n",
    "plt2.show()"
   ]
  },
  {
   "cell_type": "markdown",
   "metadata": {},
   "source": [
    "# Recall"
   ]
  },
  {
   "cell_type": "code",
   "execution_count": 92,
   "metadata": {},
   "outputs": [
    {
     "data": {
      "image/png": "[encoded data removed]",
      "text/plain": [
       "<Figure size 432x288 with 1 Axes>"
      ]
     },
     "metadata": {
      "needs_background": "light"
     },
     "output_type": "display_data"
    }
   ],
   "source": [
    "plt2.barh(y_pos, recall, align='center', alpha=0.5,color='yellow')\n",
    "plt2.yticks(y_pos, classifier)\n",
    "plt2.xlabel('Recall Score')\n",
    "plt2.title('Classification Performance')\n",
    "plt2.show()"
   ]
  },
  {
   "cell_type": "markdown",
   "metadata": {},
   "source": [
    "# F1 Score"
   ]
  },
  {
   "cell_type": "code",
   "execution_count": 93,
   "metadata": {},
   "outputs": [
    {
     "data": {
      "image/png": "[encoded data removed]",
      "text/plain": [
       "<Figure size 432x288 with 1 Axes>"
      ]
     },
     "metadata": {
      "needs_background": "light"
     },
     "output_type": "display_data"
    }
   ],
   "source": [
    "plt2.barh(y_pos, f1score, align='center', alpha=0.5,color='pink')\n",
    "plt2.yticks(y_pos, classifier)\n",
    "plt2.xlabel('F1 Score')\n",
    "plt2.title('Classification Performance')\n",
    "plt2.show()"
   ]
  },
  {
   "cell_type": "markdown",
   "metadata": {},
   "source": [
    "# Specificity"
   ]
  },
  {
   "cell_type": "code",
   "execution_count": 94,
   "metadata": {},
   "outputs": [
    {
     "data": {
      "image/png": "[encoded data removed]",
      "text/plain": [
       "<Figure size 432x288 with 1 Axes>"
      ]
     },
     "metadata": {
      "needs_background": "light"
     },
     "output_type": "display_data"
    }
   ],
   "source": [
    "plt2.barh(y_pos, spec, align='center', alpha=0.5,color='brown')\n",
    "plt2.yticks(y_pos, classifier)\n",
    "plt2.xlabel('Specificity')\n",
    "plt2.title('Classification Performance')\n",
    "plt2.show()"
   ]
  },
  {
   "cell_type": "markdown",
   "metadata": {},
   "source": [
    "# Sensitivity"
   ]
  },
  {
   "cell_type": "code",
   "execution_count": 95,
   "metadata": {},
   "outputs": [
    {
     "data": {
      "image/png": "[encoded data removed]",
      "text/plain": [
       "<Figure size 432x288 with 1 Axes>"
      ]
     },
     "metadata": {
      "needs_background": "light"
     },
     "output_type": "display_data"
    }
   ],
   "source": [
    "plt2.barh(y_pos, sens, align='center', alpha=0.5,color='navy')\n",
    "plt2.yticks(y_pos, classifier)\n",
    "plt2.xlabel('Sensitivity')\n",
    "plt2.title('Classification Performance')\n",
    "plt2.show()"
   ]
  },
  {
   "cell_type": "markdown",
   "metadata": {},
   "source": [
    "# DL"
   ]
  },
  {
   "cell_type": "code",
   "execution_count": 96,
   "metadata": {},
   "outputs": [],
   "source": [
    "classifier = ML_Model1\n",
    "y_pos = np.arange(len(classifier))"
   ]
  },
  {
   "cell_type": "markdown",
   "metadata": {},
   "source": [
    "# Accuracy"
   ]
  },
  {
   "cell_type": "code",
   "execution_count": 97,
   "metadata": {},
   "outputs": [
    {
     "data": {
      "image/png": "[encoded data removed]",
      "text/plain": [
       "<Figure size 432x288 with 1 Axes>"
      ]
     },
     "metadata": {
      "needs_background": "light"
     },
     "output_type": "display_data"
    }
   ],
   "source": [
    "plt2.barh(y_pos, accuracy1, align='center', alpha=0.5,color='blue')\n",
    "plt2.yticks(y_pos, classifier)\n",
    "plt2.xlabel('Accuracy Score')\n",
    "plt2.title('Classification Performance')\n",
    "plt2.show()"
   ]
  },
  {
   "cell_type": "markdown",
   "metadata": {},
   "source": [
    "# Precision"
   ]
  },
  {
   "cell_type": "code",
   "execution_count": 98,
   "metadata": {},
   "outputs": [
    {
     "data": {
      "image/png": "[encoded data removed]",
      "text/plain": [
       "<Figure size 432x288 with 1 Axes>"
      ]
     },
     "metadata": {
      "needs_background": "light"
     },
     "output_type": "display_data"
    }
   ],
   "source": [
    "plt2.barh(y_pos, precision1, align='center', alpha=0.5,color='red')\n",
    "plt2.yticks(y_pos, classifier)\n",
    "plt2.xlabel('Precision Score')\n",
    "plt2.title('Classification Performance')\n",
    "plt2.show()"
   ]
  },
  {
   "cell_type": "markdown",
   "metadata": {},
   "source": [
    "# Recall"
   ]
  },
  {
   "cell_type": "code",
   "execution_count": 99,
   "metadata": {},
   "outputs": [
    {
     "data": {
      "image/png": "[encoded data removed]",
      "text/plain": [
       "<Figure size 432x288 with 1 Axes>"
      ]
     },
     "metadata": {
      "needs_background": "light"
     },
     "output_type": "display_data"
    }
   ],
   "source": [
    "plt2.barh(y_pos, recall1, align='center', alpha=0.5,color='yellow')\n",
    "plt2.yticks(y_pos, classifier)\n",
    "plt2.xlabel('Recall Score')\n",
    "plt2.title('Classification Performance')\n",
    "plt2.show()"
   ]
  },
  {
   "cell_type": "markdown",
   "metadata": {},
   "source": [
    "# F1 Score"
   ]
  },
  {
   "cell_type": "code",
   "execution_count": 100,
   "metadata": {},
   "outputs": [
    {
     "data": {
      "image/png": "[encoded data removed]",
      "text/plain": [
       "<Figure size 432x288 with 1 Axes>"
      ]
     },
     "metadata": {
      "needs_background": "light"
     },
     "output_type": "display_data"
    }
   ],
   "source": [
    "plt2.barh(y_pos, f1score1, align='center', alpha=0.5,color='pink')\n",
    "plt2.yticks(y_pos, classifier)\n",
    "plt2.xlabel('F1 Score')\n",
    "plt2.title('Classification Performance')\n",
    "plt2.show()"
   ]
  },
  {
   "cell_type": "markdown",
   "metadata": {},
   "source": [
    "# Specificity"
   ]
  },
  {
   "cell_type": "code",
   "execution_count": 101,
   "metadata": {},
   "outputs": [
    {
     "data": {
      "image/png": "[encoded data removed]",
      "text/plain": [
       "<Figure size 432x288 with 1 Axes>"
      ]
     },
     "metadata": {
      "needs_background": "light"
     },
     "output_type": "display_data"
    }
   ],
   "source": [
    "plt2.barh(y_pos, spec1, align='center', alpha=0.5,color='brown')\n",
    "plt2.yticks(y_pos, classifier)\n",
    "plt2.xlabel('Specificity')\n",
    "plt2.title('Classification Performance')\n",
    "plt2.show()"
   ]
  },
  {
   "cell_type": "markdown",
   "metadata": {},
   "source": [
    "# Sensitivity"
   ]
  },
  {
   "cell_type": "code",
   "execution_count": 102,
   "metadata": {},
   "outputs": [
    {
     "data": {
      "image/png": "[encoded data removed]",
      "text/plain": [
       "<Figure size 432x288 with 1 Axes>"
      ]
     },
     "metadata": {
      "needs_background": "light"
     },
     "output_type": "display_data"
    }
   ],
   "source": [
    "plt2.barh(y_pos, sens1, align='center', alpha=0.5,color='navy')\n",
    "plt2.yticks(y_pos, classifier)\n",
    "plt2.xlabel('Sensitivity')\n",
    "plt2.title('Classification Performance')\n",
    "plt2.show()"
   ]
  },
  {
   "cell_type": "code",
   "execution_count": null,
   "metadata": {},
   "outputs": [],
   "source": []
  }
 ],
 "metadata": {
  "kernelspec": {
   "display_name": "Python 3",
   "language": "python",
   "name": "python3"
  },
  "language_info": {
   "codemirror_mode": {
    "name": "ipython",
    "version": 3
   },
   "file_extension": ".py",
   "mimetype": "text/x-python",
   "name": "python",
   "nbconvert_exporter": "python",
   "pygments_lexer": "ipython3",
   "version": "3.7.4"
  }
 },
 "nbformat": 4,
 "nbformat_minor": 2
}
