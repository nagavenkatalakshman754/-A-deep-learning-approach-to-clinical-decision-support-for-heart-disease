{
 "cells": [
  {
   "cell_type": "code",
   "execution_count": 1,
   "metadata": {},
   "outputs": [],
   "source": [
    "import warnings\n",
    "warnings.filterwarnings('ignore')"
   ]
  },
  {
   "cell_type": "code",
   "execution_count": 2,
   "metadata": {},
   "outputs": [],
   "source": [
    "import numpy as np\n",
    "import pandas as pd\n",
    "\n",
    "import matplotlib.pyplot as plt\n",
    "import seaborn as sns"
   ]
  },
  {
   "cell_type": "code",
   "execution_count": 3,
   "metadata": {},
   "outputs": [],
   "source": [
    "feature=[\"age\",\"sex\",\"cp\",\"trestbps\",\"chol\",\"fbs\",\"restecg\",\"thalach\",\"exang\",\"oldpeak\",\"slope\",\"ca\",\"thal\",\"target\"]"
   ]
  },
  {
   "cell_type": "code",
   "execution_count": 4,
   "metadata": {},
   "outputs": [],
   "source": [
    "# load data\n",
    "data  = pd.read_csv('heart+disease/processed.hungarian.data', sep=\",\",names=feature)"
   ]
  },
  {
   "cell_type": "code",
   "execution_count": 5,
   "metadata": {},
   "outputs": [
    {
     "data": {
      "text/html": [
       "<div>\n",
       "<style scoped>\n",
       "    .dataframe tbody tr th:only-of-type {\n",
       "        vertical-align: middle;\n",
       "    }\n",
       "\n",
       "    .dataframe tbody tr th {\n",
       "        vertical-align: top;\n",
       "    }\n",
       "\n",
       "    .dataframe thead th {\n",
       "        text-align: right;\n",
       "    }\n",
       "</style>\n",
       "<table border=\"1\" class=\"dataframe\">\n",
       "  <thead>\n",
       "    <tr style=\"text-align: right;\">\n",
       "      <th></th>\n",
       "      <th>age</th>\n",
       "      <th>sex</th>\n",
       "      <th>cp</th>\n",
       "      <th>trestbps</th>\n",
       "      <th>chol</th>\n",
       "      <th>fbs</th>\n",
       "      <th>restecg</th>\n",
       "      <th>thalach</th>\n",
       "      <th>exang</th>\n",
       "      <th>oldpeak</th>\n",
       "      <th>slope</th>\n",
       "      <th>ca</th>\n",
       "      <th>thal</th>\n",
       "      <th>target</th>\n",
       "    </tr>\n",
       "  </thead>\n",
       "  <tbody>\n",
       "    <tr>\n",
       "      <td>0</td>\n",
       "      <td>28</td>\n",
       "      <td>1</td>\n",
       "      <td>2</td>\n",
       "      <td>130</td>\n",
       "      <td>132</td>\n",
       "      <td>0</td>\n",
       "      <td>2</td>\n",
       "      <td>185</td>\n",
       "      <td>0</td>\n",
       "      <td>0.0</td>\n",
       "      <td>?</td>\n",
       "      <td>?</td>\n",
       "      <td>?</td>\n",
       "      <td>0</td>\n",
       "    </tr>\n",
       "    <tr>\n",
       "      <td>1</td>\n",
       "      <td>29</td>\n",
       "      <td>1</td>\n",
       "      <td>2</td>\n",
       "      <td>120</td>\n",
       "      <td>243</td>\n",
       "      <td>0</td>\n",
       "      <td>0</td>\n",
       "      <td>160</td>\n",
       "      <td>0</td>\n",
       "      <td>0.0</td>\n",
       "      <td>?</td>\n",
       "      <td>?</td>\n",
       "      <td>?</td>\n",
       "      <td>0</td>\n",
       "    </tr>\n",
       "    <tr>\n",
       "      <td>2</td>\n",
       "      <td>29</td>\n",
       "      <td>1</td>\n",
       "      <td>2</td>\n",
       "      <td>140</td>\n",
       "      <td>?</td>\n",
       "      <td>0</td>\n",
       "      <td>0</td>\n",
       "      <td>170</td>\n",
       "      <td>0</td>\n",
       "      <td>0.0</td>\n",
       "      <td>?</td>\n",
       "      <td>?</td>\n",
       "      <td>?</td>\n",
       "      <td>0</td>\n",
       "    </tr>\n",
       "    <tr>\n",
       "      <td>3</td>\n",
       "      <td>30</td>\n",
       "      <td>0</td>\n",
       "      <td>1</td>\n",
       "      <td>170</td>\n",
       "      <td>237</td>\n",
       "      <td>0</td>\n",
       "      <td>1</td>\n",
       "      <td>170</td>\n",
       "      <td>0</td>\n",
       "      <td>0.0</td>\n",
       "      <td>?</td>\n",
       "      <td>?</td>\n",
       "      <td>6</td>\n",
       "      <td>0</td>\n",
       "    </tr>\n",
       "    <tr>\n",
       "      <td>4</td>\n",
       "      <td>31</td>\n",
       "      <td>0</td>\n",
       "      <td>2</td>\n",
       "      <td>100</td>\n",
       "      <td>219</td>\n",
       "      <td>0</td>\n",
       "      <td>1</td>\n",
       "      <td>150</td>\n",
       "      <td>0</td>\n",
       "      <td>0.0</td>\n",
       "      <td>?</td>\n",
       "      <td>?</td>\n",
       "      <td>?</td>\n",
       "      <td>0</td>\n",
       "    </tr>\n",
       "  </tbody>\n",
       "</table>\n",
       "</div>"
      ],
      "text/plain": [
       "   age  sex  cp trestbps chol fbs restecg thalach exang  oldpeak slope ca  \\\n",
       "0   28    1   2      130  132   0       2     185     0      0.0     ?  ?   \n",
       "1   29    1   2      120  243   0       0     160     0      0.0     ?  ?   \n",
       "2   29    1   2      140    ?   0       0     170     0      0.0     ?  ?   \n",
       "3   30    0   1      170  237   0       1     170     0      0.0     ?  ?   \n",
       "4   31    0   2      100  219   0       1     150     0      0.0     ?  ?   \n",
       "\n",
       "  thal  target  \n",
       "0    ?       0  \n",
       "1    ?       0  \n",
       "2    ?       0  \n",
       "3    6       0  \n",
       "4    ?       0  "
      ]
     },
     "execution_count": 5,
     "metadata": {},
     "output_type": "execute_result"
    }
   ],
   "source": [
    "data.head()"
   ]
  },
  {
   "cell_type": "code",
   "execution_count": 6,
   "metadata": {},
   "outputs": [
    {
     "data": {
      "text/plain": [
       "(294, 14)"
      ]
     },
     "execution_count": 6,
     "metadata": {},
     "output_type": "execute_result"
    }
   ],
   "source": [
    "data.shape"
   ]
  },
  {
   "cell_type": "code",
   "execution_count": 7,
   "metadata": {},
   "outputs": [
    {
     "name": "stdout",
     "output_type": "stream",
     "text": [
      "<class 'pandas.core.frame.DataFrame'>\n",
      "RangeIndex: 294 entries, 0 to 293\n",
      "Data columns (total 14 columns):\n",
      "age         294 non-null int64\n",
      "sex         294 non-null int64\n",
      "cp          294 non-null int64\n",
      "trestbps    294 non-null object\n",
      "chol        294 non-null object\n",
      "fbs         294 non-null object\n",
      "restecg     294 non-null object\n",
      "thalach     294 non-null object\n",
      "exang       294 non-null object\n",
      "oldpeak     294 non-null float64\n",
      "slope       294 non-null object\n",
      "ca          294 non-null object\n",
      "thal        294 non-null object\n",
      "target      294 non-null int64\n",
      "dtypes: float64(1), int64(4), object(9)\n",
      "memory usage: 32.3+ KB\n"
     ]
    }
   ],
   "source": [
    "data.info()"
   ]
  },
  {
   "cell_type": "code",
   "execution_count": 8,
   "metadata": {},
   "outputs": [],
   "source": [
    "data = data.replace({'?':np.NaN})"
   ]
  },
  {
   "cell_type": "code",
   "execution_count": 9,
   "metadata": {},
   "outputs": [],
   "source": [
    "del data['slope']\n",
    "del data['ca']\n",
    "del data['thal']"
   ]
  },
  {
   "cell_type": "code",
   "execution_count": 10,
   "metadata": {
    "scrolled": true
   },
   "outputs": [
    {
     "name": "stdout",
     "output_type": "stream",
     "text": [
      "<class 'pandas.core.frame.DataFrame'>\n",
      "RangeIndex: 294 entries, 0 to 293\n",
      "Data columns (total 11 columns):\n",
      "age         294 non-null int64\n",
      "sex         294 non-null int64\n",
      "cp          294 non-null int64\n",
      "trestbps    293 non-null object\n",
      "chol        271 non-null object\n",
      "fbs         286 non-null object\n",
      "restecg     293 non-null object\n",
      "thalach     293 non-null object\n",
      "exang       293 non-null object\n",
      "oldpeak     294 non-null float64\n",
      "target      294 non-null int64\n",
      "dtypes: float64(1), int64(4), object(6)\n",
      "memory usage: 25.4+ KB\n"
     ]
    }
   ],
   "source": [
    "data.info()"
   ]
  },
  {
   "cell_type": "code",
   "execution_count": 11,
   "metadata": {},
   "outputs": [],
   "source": [
    "data = data.dropna()\n",
    "#data = data.fillna(data.mean())"
   ]
  },
  {
   "cell_type": "code",
   "execution_count": 12,
   "metadata": {},
   "outputs": [
    {
     "name": "stdout",
     "output_type": "stream",
     "text": [
      "<class 'pandas.core.frame.DataFrame'>\n",
      "Int64Index: 261 entries, 0 to 293\n",
      "Data columns (total 11 columns):\n",
      "age         261 non-null int64\n",
      "sex         261 non-null int64\n",
      "cp          261 non-null int64\n",
      "trestbps    261 non-null object\n",
      "chol        261 non-null object\n",
      "fbs         261 non-null object\n",
      "restecg     261 non-null object\n",
      "thalach     261 non-null object\n",
      "exang       261 non-null object\n",
      "oldpeak     261 non-null float64\n",
      "target      261 non-null int64\n",
      "dtypes: float64(1), int64(4), object(6)\n",
      "memory usage: 24.5+ KB\n"
     ]
    }
   ],
   "source": [
    "data.info()"
   ]
  },
  {
   "cell_type": "code",
   "execution_count": 13,
   "metadata": {},
   "outputs": [
    {
     "data": {
      "text/html": [
       "<div>\n",
       "<style scoped>\n",
       "    .dataframe tbody tr th:only-of-type {\n",
       "        vertical-align: middle;\n",
       "    }\n",
       "\n",
       "    .dataframe tbody tr th {\n",
       "        vertical-align: top;\n",
       "    }\n",
       "\n",
       "    .dataframe thead th {\n",
       "        text-align: right;\n",
       "    }\n",
       "</style>\n",
       "<table border=\"1\" class=\"dataframe\">\n",
       "  <thead>\n",
       "    <tr style=\"text-align: right;\">\n",
       "      <th></th>\n",
       "      <th>age</th>\n",
       "      <th>sex</th>\n",
       "      <th>cp</th>\n",
       "      <th>trestbps</th>\n",
       "      <th>chol</th>\n",
       "      <th>fbs</th>\n",
       "      <th>restecg</th>\n",
       "      <th>thalach</th>\n",
       "      <th>exang</th>\n",
       "      <th>oldpeak</th>\n",
       "      <th>target</th>\n",
       "    </tr>\n",
       "  </thead>\n",
       "  <tbody>\n",
       "    <tr>\n",
       "      <td>0</td>\n",
       "      <td>28</td>\n",
       "      <td>1</td>\n",
       "      <td>2</td>\n",
       "      <td>130</td>\n",
       "      <td>132</td>\n",
       "      <td>0</td>\n",
       "      <td>2</td>\n",
       "      <td>185</td>\n",
       "      <td>0</td>\n",
       "      <td>0.0</td>\n",
       "      <td>0</td>\n",
       "    </tr>\n",
       "    <tr>\n",
       "      <td>1</td>\n",
       "      <td>29</td>\n",
       "      <td>1</td>\n",
       "      <td>2</td>\n",
       "      <td>120</td>\n",
       "      <td>243</td>\n",
       "      <td>0</td>\n",
       "      <td>0</td>\n",
       "      <td>160</td>\n",
       "      <td>0</td>\n",
       "      <td>0.0</td>\n",
       "      <td>0</td>\n",
       "    </tr>\n",
       "    <tr>\n",
       "      <td>3</td>\n",
       "      <td>30</td>\n",
       "      <td>0</td>\n",
       "      <td>1</td>\n",
       "      <td>170</td>\n",
       "      <td>237</td>\n",
       "      <td>0</td>\n",
       "      <td>1</td>\n",
       "      <td>170</td>\n",
       "      <td>0</td>\n",
       "      <td>0.0</td>\n",
       "      <td>0</td>\n",
       "    </tr>\n",
       "    <tr>\n",
       "      <td>4</td>\n",
       "      <td>31</td>\n",
       "      <td>0</td>\n",
       "      <td>2</td>\n",
       "      <td>100</td>\n",
       "      <td>219</td>\n",
       "      <td>0</td>\n",
       "      <td>1</td>\n",
       "      <td>150</td>\n",
       "      <td>0</td>\n",
       "      <td>0.0</td>\n",
       "      <td>0</td>\n",
       "    </tr>\n",
       "    <tr>\n",
       "      <td>5</td>\n",
       "      <td>32</td>\n",
       "      <td>0</td>\n",
       "      <td>2</td>\n",
       "      <td>105</td>\n",
       "      <td>198</td>\n",
       "      <td>0</td>\n",
       "      <td>0</td>\n",
       "      <td>165</td>\n",
       "      <td>0</td>\n",
       "      <td>0.0</td>\n",
       "      <td>0</td>\n",
       "    </tr>\n",
       "  </tbody>\n",
       "</table>\n",
       "</div>"
      ],
      "text/plain": [
       "   age  sex  cp trestbps chol fbs restecg thalach exang  oldpeak  target\n",
       "0   28    1   2      130  132   0       2     185     0      0.0       0\n",
       "1   29    1   2      120  243   0       0     160     0      0.0       0\n",
       "3   30    0   1      170  237   0       1     170     0      0.0       0\n",
       "4   31    0   2      100  219   0       1     150     0      0.0       0\n",
       "5   32    0   2      105  198   0       0     165     0      0.0       0"
      ]
     },
     "execution_count": 13,
     "metadata": {},
     "output_type": "execute_result"
    }
   ],
   "source": [
    "data.head()"
   ]
  },
  {
   "cell_type": "code",
   "execution_count": 14,
   "metadata": {},
   "outputs": [
    {
     "data": {
      "image/png": "[encoded data removed]",
      "text/plain": [
       "<Figure size 288x288 with 1 Axes>"
      ]
     },
     "metadata": {
      "needs_background": "light"
     },
     "output_type": "display_data"
    }
   ],
   "source": [
    "import matplotlib.pyplot as plt\n",
    "\n",
    "plt.matshow(data.corr())\n",
    "plt.show()"
   ]
  },
  {
   "cell_type": "code",
   "execution_count": 15,
   "metadata": {},
   "outputs": [
    {
     "data": {
      "image/png": "[encoded data removed]",
      "text/plain": [
       "<Figure size 432x288 with 1 Axes>"
      ]
     },
     "metadata": {
      "needs_background": "light"
     },
     "output_type": "display_data"
    }
   ],
   "source": [
    "data.target.value_counts().plot(kind='bar',color=['red','green']);"
   ]
  },
  {
   "cell_type": "code",
   "execution_count": 16,
   "metadata": {},
   "outputs": [],
   "source": [
    "# Import label encoder\n",
    "from sklearn import preprocessing\n",
    "\n",
    "# label_encoder object knows\n",
    "# how to understand word labels.\n",
    "label_encoder = preprocessing.LabelEncoder()\n",
    "\n",
    "# Encode labels in column 'species'.\n",
    "data['trestbps']= label_encoder.fit_transform(data['trestbps'])\n",
    "data['chol']= label_encoder.fit_transform(data['chol'])\n",
    "data['fbs']= label_encoder.fit_transform(data['fbs'])\n",
    "data['restecg']= label_encoder.fit_transform(data['restecg'])\n",
    "data['thalach']= label_encoder.fit_transform(data['thalach'])\n",
    "data['exang']= label_encoder.fit_transform(data['exang'])"
   ]
  },
  {
   "cell_type": "code",
   "execution_count": 17,
   "metadata": {},
   "outputs": [],
   "source": [
    "data.to_csv('hungarian_processed.csv')"
   ]
  },
  {
   "cell_type": "code",
   "execution_count": 18,
   "metadata": {},
   "outputs": [],
   "source": [
    "X = data.drop([\"target\"],axis =1)\n",
    "y = data[\"target\"]"
   ]
  },
  {
   "cell_type": "code",
   "execution_count": 19,
   "metadata": {},
   "outputs": [],
   "source": [
    "from sklearn.metrics import accuracy_score # for calculating accuracy of model\n",
    "from sklearn.model_selection import train_test_split # for splitting the dataset for training and testing\n",
    "from sklearn.metrics import classification_report # for generating a classification report of model\n",
    "\n",
    "from sklearn.metrics import precision_score\n",
    "from sklearn.metrics import recall_score\n",
    "from sklearn.metrics import f1_score"
   ]
  },
  {
   "cell_type": "code",
   "execution_count": 20,
   "metadata": {},
   "outputs": [],
   "source": [
    "from imblearn.metrics import specificity_score, sensitivity_score"
   ]
  },
  {
   "cell_type": "code",
   "execution_count": 21,
   "metadata": {},
   "outputs": [],
   "source": [
    "# splitting the dataset 80% for training and 20% testing\n",
    "X_train, X_test, y_train, y_test = train_test_split(X,y, test_size=0.10, random_state=42)"
   ]
  },
  {
   "cell_type": "code",
   "execution_count": 22,
   "metadata": {},
   "outputs": [
    {
     "data": {
      "text/plain": [
       "(234, 10)"
      ]
     },
     "execution_count": 22,
     "metadata": {},
     "output_type": "execute_result"
    }
   ],
   "source": [
    "X_train.shape"
   ]
  },
  {
   "cell_type": "code",
   "execution_count": 23,
   "metadata": {},
   "outputs": [],
   "source": [
    "ML_Model = []\n",
    "accuracy = []\n",
    "precision = []\n",
    "recall = []\n",
    "f1score = []\n",
    "spec = []\n",
    "sens = []\n",
    "\n",
    "#function to call for storing the results\n",
    "def storeResults(model, a,b,c,d,e,f):\n",
    "    ML_Model.append(model)\n",
    "    accuracy.append(round(a, 3))\n",
    "    precision.append(round(b, 3))\n",
    "    recall.append(round(c, 3))\n",
    "    f1score.append(round(d, 3))\n",
    "    spec.append(round(e,3))\n",
    "    sens.append(round(f,3))"
   ]
  },
  {
   "cell_type": "code",
   "execution_count": 67,
   "metadata": {},
   "outputs": [],
   "source": [
    "ML_Model1 = []\n",
    "accuracy1 = []\n",
    "precision1 = []\n",
    "recall1 = []\n",
    "f1score1 = []\n",
    "spec1 = []\n",
    "sens1 = []\n",
    "\n",
    "#function to call for storing the results\n",
    "def storeResults1(model, a,b,c,d,e,f):\n",
    "    ML_Model1.append(model)\n",
    "    accuracy1.append(round(a, 3))\n",
    "    precision1.append(round(b, 3))\n",
    "    recall1.append(round(c, 3))\n",
    "    f1score1.append(round(d, 3))\n",
    "    spec1.append(round(e,3))\n",
    "    sens1.append(round(f,3))"
   ]
  },
  {
   "cell_type": "markdown",
   "metadata": {},
   "source": [
    "# Modelling"
   ]
  },
  {
   "cell_type": "markdown",
   "metadata": {},
   "source": [
    "# KNN"
   ]
  },
  {
   "cell_type": "code",
   "execution_count": 24,
   "metadata": {},
   "outputs": [],
   "source": [
    "from sklearn.neighbors import KNeighborsClassifier\n",
    "knn = KNeighborsClassifier(n_neighbors=3)\n",
    "knn.fit(X_train, y_train)\n",
    "\n",
    "y_pred    = knn.predict(X_test)\n",
    "\n",
    "knn_acc = accuracy_score(y_pred, y_test)\n",
    "knn_prec = precision_score(y_pred, y_test,average='weighted')\n",
    "knn_rec = recall_score(y_pred, y_test,average='weighted')\n",
    "knn_f1 = f1_score(y_pred, y_test,average='weighted')\n",
    "knn_spec = specificity_score(y_pred, y_test,average='weighted')\n",
    "knn_sens = sensitivity_score(y_pred, y_test,average='weighted')"
   ]
  },
  {
   "cell_type": "code",
   "execution_count": 68,
   "metadata": {},
   "outputs": [],
   "source": [
    "storeResults('KNN',knn_acc,knn_prec,knn_rec,knn_f1,knn_spec,knn_sens)"
   ]
  },
  {
   "cell_type": "markdown",
   "metadata": {},
   "source": [
    "# Linear SVC"
   ]
  },
  {
   "cell_type": "code",
   "execution_count": 25,
   "metadata": {},
   "outputs": [],
   "source": [
    "from sklearn.svm import LinearSVC\n",
    "lsvc = LinearSVC(random_state=0, tol=1e-5)\n",
    "lsvc.fit(X_train, y_train)\n",
    "\n",
    "y_pred    = lsvc.predict(X_test)\n",
    "\n",
    "lsvc_acc = accuracy_score(y_pred, y_test)\n",
    "lsvc_prec = precision_score(y_pred, y_test,average='weighted')\n",
    "lsvc_rec = recall_score(y_pred, y_test,average='weighted')\n",
    "lsvc_f1 = f1_score(y_pred, y_test,average='weighted')\n",
    "lsvc_spec = specificity_score(y_pred, y_test,average='weighted')\n",
    "lsvc_sens = sensitivity_score(y_pred, y_test,average='weighted')"
   ]
  },
  {
   "cell_type": "code",
   "execution_count": 69,
   "metadata": {},
   "outputs": [],
   "source": [
    "storeResults('LinearSVC',lsvc_acc,lsvc_prec,lsvc_rec,lsvc_f1,lsvc_spec,lsvc_sens)"
   ]
  },
  {
   "cell_type": "markdown",
   "metadata": {},
   "source": [
    "# Gaussian Process"
   ]
  },
  {
   "cell_type": "code",
   "execution_count": 26,
   "metadata": {},
   "outputs": [],
   "source": [
    "from sklearn.gaussian_process import GaussianProcessClassifier\n",
    "from sklearn.gaussian_process.kernels import RBF\n",
    "\n",
    "kernel = 1.0 * RBF(1.0)\n",
    "\n",
    "gp = GaussianProcessClassifier(kernel=kernel,random_state=0)\n",
    "gp.fit(X_train, y_train)\n",
    "\n",
    "y_pred    = gp.predict(X_test)\n",
    "\n",
    "gp_acc = accuracy_score(y_pred, y_test)\n",
    "gp_prec = precision_score(y_pred, y_test,average='weighted')\n",
    "gp_rec = recall_score(y_pred, y_test,average='weighted')\n",
    "gp_f1 = f1_score(y_pred, y_test,average='weighted')\n",
    "gp_spec = specificity_score(y_pred, y_test,average='weighted')\n",
    "gp_sens = sensitivity_score(y_pred, y_test,average='weighted')"
   ]
  },
  {
   "cell_type": "code",
   "execution_count": 70,
   "metadata": {},
   "outputs": [],
   "source": [
    "storeResults('Guassian Process',gp_acc,gp_prec,gp_rec,gp_f1,gp_spec,gp_sens)"
   ]
  },
  {
   "cell_type": "markdown",
   "metadata": {},
   "source": [
    "# Decision Tree"
   ]
  },
  {
   "cell_type": "code",
   "execution_count": 27,
   "metadata": {},
   "outputs": [],
   "source": [
    "from sklearn.tree import DecisionTreeClassifier\n",
    "tree = DecisionTreeClassifier(random_state=1000)\n",
    "\n",
    "tree.fit(X_train, y_train)\n",
    "\n",
    "y_pred    = tree.predict(X_test)\n",
    "\n",
    "dt_acc = accuracy_score(y_pred, y_test)\n",
    "dt_prec = precision_score(y_pred, y_test,average='weighted')\n",
    "dt_rec = recall_score(y_pred, y_test,average='weighted')\n",
    "dt_f1 = f1_score(y_pred, y_test,average='weighted')\n",
    "dt_spec = specificity_score(y_pred, y_test,average='weighted')\n",
    "dt_sens = sensitivity_score(y_pred, y_test,average='weighted')"
   ]
  },
  {
   "cell_type": "code",
   "execution_count": 71,
   "metadata": {},
   "outputs": [],
   "source": [
    "storeResults('Decision Tree',dt_acc,dt_prec,dt_rec,dt_f1,dt_spec,dt_sens)"
   ]
  },
  {
   "cell_type": "markdown",
   "metadata": {},
   "source": [
    "# Naive Bayes"
   ]
  },
  {
   "cell_type": "code",
   "execution_count": 29,
   "metadata": {},
   "outputs": [],
   "source": [
    "from sklearn.naive_bayes import GaussianNB\n",
    "nb = GaussianNB()\n",
    "\n",
    "nb.fit(X_train, y_train)\n",
    "\n",
    "y_pred    = nb.predict(X_test)\n",
    "\n",
    "nb_acc = accuracy_score(y_pred, y_test)\n",
    "nb_prec = precision_score(y_pred, y_test,average='weighted')\n",
    "nb_rec = recall_score(y_pred, y_test,average='weighted')\n",
    "nb_f1 = f1_score(y_pred, y_test,average='weighted')\n",
    "nb_spec = specificity_score(y_pred, y_test,average='weighted')\n",
    "nb_sens = sensitivity_score(y_pred, y_test,average='weighted')"
   ]
  },
  {
   "cell_type": "code",
   "execution_count": 72,
   "metadata": {},
   "outputs": [],
   "source": [
    "storeResults('Naive Bayes',nb_acc,nb_prec,nb_rec,nb_f1,nb_spec,nb_sens)"
   ]
  },
  {
   "cell_type": "markdown",
   "metadata": {},
   "source": [
    "# QDA"
   ]
  },
  {
   "cell_type": "code",
   "execution_count": 30,
   "metadata": {},
   "outputs": [],
   "source": [
    "from sklearn.discriminant_analysis import QuadraticDiscriminantAnalysis\n",
    "qda = QuadraticDiscriminantAnalysis()\n",
    "\n",
    "qda.fit(X_train, y_train)\n",
    "\n",
    "y_pred    = qda.predict(X_test)\n",
    "\n",
    "qda_acc = accuracy_score(y_pred, y_test)\n",
    "qda_prec = precision_score(y_pred, y_test,average='weighted')\n",
    "qda_rec = recall_score(y_pred, y_test,average='weighted')\n",
    "qda_f1 = f1_score(y_pred, y_test,average='weighted')\n",
    "qda_spec = specificity_score(y_pred, y_test,average='weighted')\n",
    "qda_sens = sensitivity_score(y_pred, y_test,average='weighted')"
   ]
  },
  {
   "cell_type": "code",
   "execution_count": 73,
   "metadata": {},
   "outputs": [],
   "source": [
    "storeResults('QDA',qda_acc,qda_prec,qda_rec,qda_f1,qda_spec,qda_sens)"
   ]
  },
  {
   "cell_type": "markdown",
   "metadata": {},
   "source": [
    "# AdaBoost"
   ]
  },
  {
   "cell_type": "code",
   "execution_count": 31,
   "metadata": {},
   "outputs": [],
   "source": [
    "from sklearn.ensemble import AdaBoostClassifier\n",
    "ab = AdaBoostClassifier(n_estimators=100, random_state=0)\n",
    "\n",
    "ab.fit(X_train, y_train)\n",
    "\n",
    "y_pred    = ab.predict(X_test)\n",
    "\n",
    "ab_acc = accuracy_score(y_pred, y_test)\n",
    "ab_prec = precision_score(y_pred, y_test,average='weighted')\n",
    "ab_rec = recall_score(y_pred, y_test,average='weighted')\n",
    "ab_f1 = f1_score(y_pred, y_test,average='weighted')\n",
    "ab_spec = specificity_score(y_pred, y_test,average='weighted')\n",
    "ab_sens = sensitivity_score(y_pred, y_test,average='weighted')"
   ]
  },
  {
   "cell_type": "code",
   "execution_count": 74,
   "metadata": {},
   "outputs": [],
   "source": [
    "storeResults('AdaBoost',ab_acc,ab_prec,ab_rec,ab_f1,ab_spec,ab_sens)"
   ]
  },
  {
   "cell_type": "markdown",
   "metadata": {},
   "source": [
    "# Bagging Classifier"
   ]
  },
  {
   "cell_type": "code",
   "execution_count": 32,
   "metadata": {},
   "outputs": [],
   "source": [
    "from sklearn.ensemble import BaggingClassifier\n",
    "clf = BaggingClassifier(DecisionTreeClassifier(random_state=42),n_estimators=10, random_state=0)\n",
    "clf.fit(X_train, y_train)\n",
    "\n",
    "y_pred    = clf.predict(X_test)\n",
    "bg_acc = accuracy_score(y_pred, y_test)\n",
    "bg_prec = precision_score(y_pred, y_test,average='weighted')\n",
    "bg_rec = recall_score(y_pred, y_test,average='weighted')\n",
    "bg_f1 = f1_score(y_pred, y_test,average='weighted')\n",
    "bg_spec = specificity_score(y_pred, y_test,average='weighted')\n",
    "bg_sens = sensitivity_score(y_pred, y_test,average='weighted')"
   ]
  },
  {
   "cell_type": "code",
   "execution_count": 75,
   "metadata": {},
   "outputs": [],
   "source": [
    "storeResults('Bagging',bg_acc,bg_prec,bg_rec,bg_f1,bg_spec,bg_sens)"
   ]
  },
  {
   "cell_type": "markdown",
   "metadata": {},
   "source": [
    "# Boosting Classifier"
   ]
  },
  {
   "cell_type": "code",
   "execution_count": 33,
   "metadata": {},
   "outputs": [],
   "source": [
    "from sklearn.ensemble import GradientBoostingClassifier\n",
    "clf =  GradientBoostingClassifier(n_estimators=100, learning_rate=1.0,max_depth=1, random_state=0)\n",
    "clf.fit(X_train, y_train)\n",
    "\n",
    "y_pred    = clf.predict(X_test)\n",
    "bos_acc = accuracy_score(y_pred, y_test)\n",
    "bos_prec = precision_score(y_pred, y_test,average='weighted')\n",
    "bos_rec = recall_score(y_pred, y_test,average='weighted')\n",
    "bos_f1 = f1_score(y_pred, y_test,average='weighted')\n",
    "bos_spec = specificity_score(y_pred, y_test,average='weighted')\n",
    "bos_sens = sensitivity_score(y_pred, y_test,average='weighted')"
   ]
  },
  {
   "cell_type": "code",
   "execution_count": 76,
   "metadata": {},
   "outputs": [],
   "source": [
    "storeResults('Boosting',bos_acc,bos_prec,bos_rec,bos_f1,bos_spec,bos_sens)"
   ]
  },
  {
   "cell_type": "markdown",
   "metadata": {},
   "source": [
    "# Stacking Classifier"
   ]
  },
  {
   "cell_type": "code",
   "execution_count": 34,
   "metadata": {},
   "outputs": [],
   "source": [
    "from sklearn.ensemble import RandomForestClassifier\n",
    "from sklearn.neural_network import MLPClassifier\n",
    "from lightgbm import LGBMClassifier\n",
    "from sklearn.ensemble import StackingClassifier\n",
    "\n",
    "estimators = [('rf', RandomForestClassifier(n_estimators=1000)),('mlp', MLPClassifier(random_state=1, max_iter=3000))]\n",
    "\n",
    "clf = StackingClassifier(estimators=estimators, final_estimator=LGBMClassifier(n_estimators=1000))\n",
    "\n",
    "\n",
    "clf.fit(X_train,y_train)\n",
    "\n",
    "y_pred    = clf.predict(X_test)\n",
    "stac_acc = accuracy_score(y_pred, y_test)\n",
    "stac_prec = precision_score(y_pred, y_test,average='weighted')\n",
    "stac_rec = recall_score(y_pred, y_test,average='weighted')\n",
    "stac_f1 = f1_score(y_pred, y_test,average='weighted')\n",
    "stac_spec = specificity_score(y_pred, y_test,average='weighted')\n",
    "stac_sens = sensitivity_score(y_pred, y_test,average='weighted')"
   ]
  },
  {
   "cell_type": "code",
   "execution_count": 102,
   "metadata": {},
   "outputs": [],
   "source": [
    "storeResults('Stacking Classifier',stac_acc,stac_prec,stac_rec,stac_f1,stac_spec,stac_sens)"
   ]
  },
  {
   "cell_type": "markdown",
   "metadata": {},
   "source": [
    "# Voting Classifier"
   ]
  },
  {
   "cell_type": "code",
   "execution_count": 35,
   "metadata": {},
   "outputs": [],
   "source": [
    "from sklearn.ensemble import RandomForestClassifier, VotingClassifier\n",
    "clf1 = DecisionTreeClassifier(random_state=50)\n",
    "clf2 = RandomForestClassifier(random_state=10)\n",
    "\n",
    "eclf1 = VotingClassifier(estimators=[('ad', clf1), ('rf', clf2)], voting='soft')\n",
    "eclf1.fit(X_train,y_train)\n",
    "y_pred    = clf.predict(X_test)\n",
    "vot_acc = accuracy_score(y_pred, y_test)\n",
    "vot_prec = precision_score(y_pred, y_test,average='weighted')\n",
    "vot_rec = recall_score(y_pred, y_test,average='weighted')\n",
    "vot_f1 = f1_score(y_pred, y_test,average='weighted')\n",
    "vot_spec = specificity_score(y_pred, y_test,average='weighted')\n",
    "vot_sens = sensitivity_score(y_pred, y_test,average='weighted')"
   ]
  },
  {
   "cell_type": "code",
   "execution_count": 103,
   "metadata": {},
   "outputs": [],
   "source": [
    "storeResults('Voting Classifier',vot_acc,vot_prec,vot_rec,vot_f1,vot_spec,vot_sens)"
   ]
  },
  {
   "cell_type": "markdown",
   "metadata": {},
   "source": [
    "# DNN"
   ]
  },
  {
   "cell_type": "code",
   "execution_count": 36,
   "metadata": {},
   "outputs": [],
   "source": [
    "from keras.layers import Dense, BatchNormalization, Dropout, LSTM\n",
    "from keras.models import Sequential\n",
    "from keras import callbacks"
   ]
  },
  {
   "cell_type": "code",
   "execution_count": 37,
   "metadata": {},
   "outputs": [],
   "source": [
    "early_stopping = callbacks.EarlyStopping(\n",
    "    min_delta=0.001, # minimium amount of change to count as an improvement\n",
    "    patience=20, # how many epochs to wait before stopping\n",
    "    restore_best_weights=True)"
   ]
  },
  {
   "cell_type": "markdown",
   "metadata": {},
   "source": [
    "# 3 Layers"
   ]
  },
  {
   "cell_type": "code",
   "execution_count": 38,
   "metadata": {},
   "outputs": [],
   "source": [
    "# Initialising the NN\n",
    "model = Sequential()\n",
    "\n",
    "# layers\n",
    "model.add(Dense(units = 64, kernel_initializer = 'uniform', activation = 'relu', input_dim = 10))\n",
    "model.add(Dense(units = 32, kernel_initializer = 'uniform', activation = 'relu'))\n",
    "model.add(Dropout(0.25))\n",
    "model.add(Dense(units = 32, kernel_initializer = 'uniform', activation = 'relu'))\n",
    "model.add(Dropout(0.5))\n",
    "model.add(Dense(units = 1, kernel_initializer = 'uniform', activation = 'sigmoid'))\n",
    "\n",
    "# Compiling the ANN\n",
    "model.compile(optimizer = 'adam', loss = 'binary_crossentropy', metrics = ['accuracy'])"
   ]
  },
  {
   "cell_type": "code",
   "execution_count": 39,
   "metadata": {},
   "outputs": [
    {
     "name": "stdout",
     "output_type": "stream",
     "text": [
      "Epoch 1/100\n",
      "94/94 [==============================] - 38s 16ms/step - loss: 0.6894 - accuracy: 0.5501 - val_loss: 0.6909 - val_accuracy: 0.5745\n",
      "Epoch 2/100\n",
      "94/94 [==============================] - 0s 3ms/step - loss: 0.6795 - accuracy: 0.6000 - val_loss: 0.6933 - val_accuracy: 0.5745\n",
      "Epoch 3/100\n",
      "94/94 [==============================] - 0s 3ms/step - loss: 0.6335 - accuracy: 0.6643 - val_loss: 0.6991 - val_accuracy: 0.5745\n",
      "Epoch 4/100\n",
      "94/94 [==============================] - 0s 3ms/step - loss: 0.6226 - accuracy: 0.6752 - val_loss: 0.6928 - val_accuracy: 0.5745\n",
      "Epoch 5/100\n",
      "94/94 [==============================] - 0s 3ms/step - loss: 0.6338 - accuracy: 0.6993 - val_loss: 0.7337 - val_accuracy: 0.5957\n",
      "Epoch 6/100\n",
      "94/94 [==============================] - 0s 3ms/step - loss: 0.6256 - accuracy: 0.6845 - val_loss: 0.6914 - val_accuracy: 0.6170\n",
      "Epoch 7/100\n",
      "94/94 [==============================] - 0s 3ms/step - loss: 0.6315 - accuracy: 0.6939 - val_loss: 0.6655 - val_accuracy: 0.6383\n",
      "Epoch 8/100\n",
      "94/94 [==============================] - 0s 3ms/step - loss: 0.6138 - accuracy: 0.7070 - val_loss: 0.6832 - val_accuracy: 0.6809\n",
      "Epoch 9/100\n",
      "94/94 [==============================] - 0s 3ms/step - loss: 0.5697 - accuracy: 0.7339 - val_loss: 0.6458 - val_accuracy: 0.6596\n",
      "Epoch 10/100\n",
      "94/94 [==============================] - 0s 3ms/step - loss: 0.5639 - accuracy: 0.7632 - val_loss: 0.6838 - val_accuracy: 0.6170\n",
      "Epoch 11/100\n",
      "94/94 [==============================] - 0s 3ms/step - loss: 0.5239 - accuracy: 0.7982 - val_loss: 0.7928 - val_accuracy: 0.6170\n",
      "Epoch 12/100\n",
      "94/94 [==============================] - 0s 3ms/step - loss: 0.6328 - accuracy: 0.7525 - val_loss: 0.5465 - val_accuracy: 0.7660\n",
      "Epoch 13/100\n",
      "94/94 [==============================] - 0s 3ms/step - loss: 0.4766 - accuracy: 0.8237 - val_loss: 0.5161 - val_accuracy: 0.8085\n",
      "Epoch 14/100\n",
      "94/94 [==============================] - 0s 3ms/step - loss: 0.4744 - accuracy: 0.8334 - val_loss: 0.5948 - val_accuracy: 0.6596\n",
      "Epoch 15/100\n",
      "94/94 [==============================] - 0s 3ms/step - loss: 0.6753 - accuracy: 0.6746 - val_loss: 0.4782 - val_accuracy: 0.8085\n",
      "Epoch 16/100\n",
      "94/94 [==============================] - 0s 3ms/step - loss: 0.4885 - accuracy: 0.7886 - val_loss: 0.4432 - val_accuracy: 0.8511\n",
      "Epoch 17/100\n",
      "94/94 [==============================] - 0s 3ms/step - loss: 0.4873 - accuracy: 0.7626 - val_loss: 0.4540 - val_accuracy: 0.8511\n",
      "Epoch 18/100\n",
      "94/94 [==============================] - 0s 3ms/step - loss: 0.4476 - accuracy: 0.8214 - val_loss: 0.4323 - val_accuracy: 0.8511\n",
      "Epoch 19/100\n",
      "94/94 [==============================] - 0s 3ms/step - loss: 0.5313 - accuracy: 0.7751 - val_loss: 0.4194 - val_accuracy: 0.8511\n",
      "Epoch 20/100\n",
      "94/94 [==============================] - 0s 3ms/step - loss: 0.4643 - accuracy: 0.7915 - val_loss: 0.4775 - val_accuracy: 0.8298\n",
      "Epoch 21/100\n",
      "94/94 [==============================] - 0s 3ms/step - loss: 0.4678 - accuracy: 0.7738 - val_loss: 0.4441 - val_accuracy: 0.8511\n",
      "Epoch 22/100\n",
      "94/94 [==============================] - 0s 3ms/step - loss: 0.5954 - accuracy: 0.6898 - val_loss: 0.4577 - val_accuracy: 0.8511\n",
      "Epoch 23/100\n",
      "94/94 [==============================] - 0s 3ms/step - loss: 0.4047 - accuracy: 0.8427 - val_loss: 0.4337 - val_accuracy: 0.8511\n",
      "Epoch 24/100\n",
      "94/94 [==============================] - 0s 3ms/step - loss: 0.5276 - accuracy: 0.7895 - val_loss: 0.4430 - val_accuracy: 0.8511\n",
      "Epoch 25/100\n",
      "94/94 [==============================] - 0s 3ms/step - loss: 0.4739 - accuracy: 0.7878 - val_loss: 0.4072 - val_accuracy: 0.8511\n",
      "Epoch 26/100\n",
      "94/94 [==============================] - 0s 3ms/step - loss: 0.4314 - accuracy: 0.8512 - val_loss: 0.5059 - val_accuracy: 0.8085\n",
      "Epoch 27/100\n",
      "94/94 [==============================] - 0s 3ms/step - loss: 0.4920 - accuracy: 0.8036 - val_loss: 0.4374 - val_accuracy: 0.8298\n",
      "Epoch 28/100\n",
      "94/94 [==============================] - 0s 3ms/step - loss: 0.4371 - accuracy: 0.8250 - val_loss: 0.4113 - val_accuracy: 0.8511\n",
      "Epoch 29/100\n",
      "94/94 [==============================] - 0s 3ms/step - loss: 0.4405 - accuracy: 0.8231 - val_loss: 0.4351 - val_accuracy: 0.8298\n",
      "Epoch 30/100\n",
      "94/94 [==============================] - 0s 3ms/step - loss: 0.4544 - accuracy: 0.8369 - val_loss: 0.5285 - val_accuracy: 0.7872\n",
      "Epoch 31/100\n",
      "94/94 [==============================] - 0s 3ms/step - loss: 0.4090 - accuracy: 0.8445 - val_loss: 0.4329 - val_accuracy: 0.8298\n",
      "Epoch 32/100\n",
      "94/94 [==============================] - 0s 3ms/step - loss: 0.4179 - accuracy: 0.8305 - val_loss: 0.4433 - val_accuracy: 0.8085\n",
      "Epoch 33/100\n",
      "94/94 [==============================] - 0s 3ms/step - loss: 0.4049 - accuracy: 0.8586 - val_loss: 0.4500 - val_accuracy: 0.8298\n",
      "Epoch 34/100\n",
      "94/94 [==============================] - 0s 3ms/step - loss: 0.4454 - accuracy: 0.8098 - val_loss: 0.4152 - val_accuracy: 0.8723\n",
      "Epoch 35/100\n",
      "94/94 [==============================] - 0s 3ms/step - loss: 0.4249 - accuracy: 0.8098 - val_loss: 0.4911 - val_accuracy: 0.8298\n",
      "Epoch 36/100\n",
      "94/94 [==============================] - 0s 3ms/step - loss: 0.3854 - accuracy: 0.8307 - val_loss: 0.4064 - val_accuracy: 0.8511\n",
      "Epoch 37/100\n",
      "94/94 [==============================] - 0s 3ms/step - loss: 0.5275 - accuracy: 0.7904 - val_loss: 0.4160 - val_accuracy: 0.8511\n",
      "Epoch 38/100\n",
      "94/94 [==============================] - 0s 3ms/step - loss: 0.5261 - accuracy: 0.7862 - val_loss: 0.4798 - val_accuracy: 0.8298\n",
      "Epoch 39/100\n",
      "94/94 [==============================] - 0s 4ms/step - loss: 0.4837 - accuracy: 0.8166 - val_loss: 0.4640 - val_accuracy: 0.8298\n",
      "Epoch 40/100\n",
      "94/94 [==============================] - 0s 4ms/step - loss: 0.4467 - accuracy: 0.8116 - val_loss: 0.4172 - val_accuracy: 0.8723\n",
      "Epoch 41/100\n",
      "94/94 [==============================] - 0s 3ms/step - loss: 0.3991 - accuracy: 0.8431 - val_loss: 0.3932 - val_accuracy: 0.8511\n",
      "Epoch 42/100\n",
      "94/94 [==============================] - 0s 3ms/step - loss: 0.4329 - accuracy: 0.8439 - val_loss: 0.4427 - val_accuracy: 0.8298\n",
      "Epoch 43/100\n",
      "94/94 [==============================] - 0s 3ms/step - loss: 0.4302 - accuracy: 0.8199 - val_loss: 0.4102 - val_accuracy: 0.8511\n",
      "Epoch 44/100\n",
      "94/94 [==============================] - 0s 3ms/step - loss: 0.3852 - accuracy: 0.8684 - val_loss: 0.4175 - val_accuracy: 0.8298\n",
      "Epoch 45/100\n",
      "94/94 [==============================] - 0s 3ms/step - loss: 0.4833 - accuracy: 0.8257 - val_loss: 0.3794 - val_accuracy: 0.8511\n",
      "Epoch 46/100\n",
      "94/94 [==============================] - 0s 3ms/step - loss: 0.4219 - accuracy: 0.8408 - val_loss: 0.3842 - val_accuracy: 0.8511\n",
      "Epoch 47/100\n",
      "94/94 [==============================] - 0s 3ms/step - loss: 0.4413 - accuracy: 0.8255 - val_loss: 0.4346 - val_accuracy: 0.8511\n",
      "Epoch 48/100\n",
      "94/94 [==============================] - 0s 4ms/step - loss: 0.4681 - accuracy: 0.7986 - val_loss: 0.4445 - val_accuracy: 0.8298\n",
      "Epoch 49/100\n",
      "94/94 [==============================] - 0s 4ms/step - loss: 0.3726 - accuracy: 0.8476 - val_loss: 0.4176 - val_accuracy: 0.8298\n",
      "Epoch 50/100\n",
      "94/94 [==============================] - 0s 4ms/step - loss: 0.3640 - accuracy: 0.8428 - val_loss: 0.3921 - val_accuracy: 0.8298\n",
      "Epoch 51/100\n",
      "94/94 [==============================] - 0s 4ms/step - loss: 0.4525 - accuracy: 0.8212 - val_loss: 0.4208 - val_accuracy: 0.8298\n",
      "Epoch 52/100\n",
      "94/94 [==============================] - 0s 4ms/step - loss: 0.3742 - accuracy: 0.8376 - val_loss: 0.4170 - val_accuracy: 0.8298\n",
      "Epoch 53/100\n",
      "94/94 [==============================] - 0s 4ms/step - loss: 0.3793 - accuracy: 0.8407 - val_loss: 0.4006 - val_accuracy: 0.8298\n",
      "Epoch 54/100\n",
      "94/94 [==============================] - 0s 4ms/step - loss: 0.4908 - accuracy: 0.7859 - val_loss: 0.4101 - val_accuracy: 0.8511\n",
      "Epoch 55/100\n",
      "94/94 [==============================] - 0s 4ms/step - loss: 0.3833 - accuracy: 0.8607 - val_loss: 0.3981 - val_accuracy: 0.8511\n",
      "Epoch 56/100\n",
      "94/94 [==============================] - 0s 4ms/step - loss: 0.3577 - accuracy: 0.8434 - val_loss: 0.3695 - val_accuracy: 0.8298\n",
      "Epoch 57/100\n",
      "94/94 [==============================] - 0s 3ms/step - loss: 0.4339 - accuracy: 0.8022 - val_loss: 0.5201 - val_accuracy: 0.8298\n",
      "Epoch 58/100\n",
      "94/94 [==============================] - 0s 3ms/step - loss: 0.4756 - accuracy: 0.7842 - val_loss: 0.4469 - val_accuracy: 0.8085\n"
     ]
    },
    {
     "name": "stdout",
     "output_type": "stream",
     "text": [
      "Epoch 59/100\n",
      "94/94 [==============================] - 0s 4ms/step - loss: 0.3844 - accuracy: 0.8260 - val_loss: 0.4959 - val_accuracy: 0.7660\n",
      "Epoch 60/100\n",
      "94/94 [==============================] - 0s 4ms/step - loss: 0.4725 - accuracy: 0.7833 - val_loss: 0.4256 - val_accuracy: 0.8085\n",
      "Epoch 61/100\n",
      "94/94 [==============================] - 0s 4ms/step - loss: 0.4020 - accuracy: 0.8344 - val_loss: 0.3922 - val_accuracy: 0.8298\n",
      "Epoch 62/100\n",
      "94/94 [==============================] - 0s 4ms/step - loss: 0.3381 - accuracy: 0.8864 - val_loss: 0.3901 - val_accuracy: 0.8298\n",
      "Epoch 63/100\n",
      "94/94 [==============================] - 0s 4ms/step - loss: 0.4170 - accuracy: 0.7809 - val_loss: 0.5069 - val_accuracy: 0.8298\n",
      "Epoch 64/100\n",
      "94/94 [==============================] - 0s 4ms/step - loss: 0.3899 - accuracy: 0.8317 - val_loss: 0.4359 - val_accuracy: 0.8085\n",
      "Epoch 65/100\n",
      "94/94 [==============================] - 0s 3ms/step - loss: 0.4871 - accuracy: 0.8315 - val_loss: 0.5341 - val_accuracy: 0.8085\n",
      "Epoch 66/100\n",
      "94/94 [==============================] - 0s 3ms/step - loss: 0.3697 - accuracy: 0.8228 - val_loss: 0.4893 - val_accuracy: 0.8298\n",
      "Epoch 67/100\n",
      "94/94 [==============================] - 0s 4ms/step - loss: 0.4872 - accuracy: 0.7386 - val_loss: 0.5265 - val_accuracy: 0.8298\n",
      "Epoch 68/100\n",
      "94/94 [==============================] - 0s 4ms/step - loss: 0.3475 - accuracy: 0.8552 - val_loss: 0.3984 - val_accuracy: 0.8085\n",
      "Epoch 69/100\n",
      "94/94 [==============================] - 0s 4ms/step - loss: 0.4162 - accuracy: 0.8143 - val_loss: 0.4280 - val_accuracy: 0.8298\n",
      "Epoch 70/100\n",
      "94/94 [==============================] - 0s 4ms/step - loss: 0.4260 - accuracy: 0.8458 - val_loss: 0.4335 - val_accuracy: 0.8511\n",
      "Epoch 71/100\n",
      "94/94 [==============================] - 0s 4ms/step - loss: 0.4436 - accuracy: 0.8280 - val_loss: 0.4037 - val_accuracy: 0.8085\n",
      "Epoch 72/100\n",
      "94/94 [==============================] - 0s 3ms/step - loss: 0.3873 - accuracy: 0.8493 - val_loss: 0.6209 - val_accuracy: 0.8085\n",
      "Epoch 73/100\n",
      "94/94 [==============================] - 0s 3ms/step - loss: 0.5136 - accuracy: 0.7989 - val_loss: 0.4982 - val_accuracy: 0.7872\n",
      "Epoch 74/100\n",
      "94/94 [==============================] - 0s 4ms/step - loss: 0.4119 - accuracy: 0.8013 - val_loss: 0.3950 - val_accuracy: 0.8085\n",
      "Epoch 75/100\n",
      "94/94 [==============================] - 0s 4ms/step - loss: 0.3741 - accuracy: 0.8279 - val_loss: 0.4016 - val_accuracy: 0.8085\n",
      "Epoch 76/100\n",
      "94/94 [==============================] - 0s 4ms/step - loss: 0.3572 - accuracy: 0.8581 - val_loss: 0.4385 - val_accuracy: 0.8511\n",
      "Epoch 77/100\n",
      "94/94 [==============================] - 0s 4ms/step - loss: 0.3482 - accuracy: 0.8446 - val_loss: 0.4978 - val_accuracy: 0.8298\n",
      "Epoch 78/100\n",
      "94/94 [==============================] - 0s 3ms/step - loss: 0.4236 - accuracy: 0.8018 - val_loss: 0.4918 - val_accuracy: 0.8298\n",
      "Epoch 79/100\n",
      "94/94 [==============================] - 0s 3ms/step - loss: 0.3589 - accuracy: 0.8540 - val_loss: 0.4200 - val_accuracy: 0.8085\n",
      "Epoch 80/100\n",
      "94/94 [==============================] - 0s 3ms/step - loss: 0.3399 - accuracy: 0.8430 - val_loss: 0.4427 - val_accuracy: 0.8511\n",
      "Epoch 81/100\n",
      "94/94 [==============================] - 0s 3ms/step - loss: 0.3485 - accuracy: 0.8353 - val_loss: 0.4250 - val_accuracy: 0.8085\n",
      "Epoch 82/100\n",
      "94/94 [==============================] - 0s 3ms/step - loss: 0.4379 - accuracy: 0.8084 - val_loss: 0.4387 - val_accuracy: 0.8085\n",
      "Epoch 83/100\n",
      "94/94 [==============================] - 0s 4ms/step - loss: 0.3199 - accuracy: 0.8685 - val_loss: 0.4190 - val_accuracy: 0.8085\n",
      "Epoch 84/100\n",
      "94/94 [==============================] - 0s 3ms/step - loss: 0.4010 - accuracy: 0.8343 - val_loss: 0.4437 - val_accuracy: 0.8511\n",
      "Epoch 85/100\n",
      "94/94 [==============================] - 0s 3ms/step - loss: 0.3369 - accuracy: 0.8359 - val_loss: 0.4120 - val_accuracy: 0.8298\n",
      "Epoch 86/100\n",
      "94/94 [==============================] - 0s 3ms/step - loss: 0.3399 - accuracy: 0.8727 - val_loss: 0.5036 - val_accuracy: 0.8298\n",
      "Epoch 87/100\n",
      "94/94 [==============================] - 0s 3ms/step - loss: 0.3764 - accuracy: 0.8388 - val_loss: 0.4649 - val_accuracy: 0.8298\n",
      "Epoch 88/100\n",
      "94/94 [==============================] - 0s 3ms/step - loss: 0.3956 - accuracy: 0.8429 - val_loss: 0.5594 - val_accuracy: 0.8298\n",
      "Epoch 89/100\n",
      "94/94 [==============================] - 0s 3ms/step - loss: 0.3250 - accuracy: 0.8620 - val_loss: 0.4523 - val_accuracy: 0.8298\n",
      "Epoch 90/100\n",
      "94/94 [==============================] - 0s 3ms/step - loss: 0.3866 - accuracy: 0.8184 - val_loss: 0.6307 - val_accuracy: 0.7872\n",
      "Epoch 91/100\n",
      "94/94 [==============================] - 0s 4ms/step - loss: 0.3613 - accuracy: 0.8628 - val_loss: 0.4446 - val_accuracy: 0.8511\n",
      "Epoch 92/100\n",
      "94/94 [==============================] - 0s 4ms/step - loss: 0.3547 - accuracy: 0.8395 - val_loss: 0.4146 - val_accuracy: 0.8085\n",
      "Epoch 93/100\n",
      "94/94 [==============================] - 0s 4ms/step - loss: 0.4325 - accuracy: 0.8202 - val_loss: 0.4758 - val_accuracy: 0.8511\n",
      "Epoch 94/100\n",
      "94/94 [==============================] - 0s 4ms/step - loss: 0.3980 - accuracy: 0.8312 - val_loss: 0.5461 - val_accuracy: 0.7872\n",
      "Epoch 95/100\n",
      "94/94 [==============================] - 0s 3ms/step - loss: 0.3996 - accuracy: 0.8090 - val_loss: 0.4491 - val_accuracy: 0.8298\n",
      "Epoch 96/100\n",
      "94/94 [==============================] - 0s 4ms/step - loss: 0.3788 - accuracy: 0.8514 - val_loss: 0.4586 - val_accuracy: 0.8298\n",
      "Epoch 97/100\n",
      "94/94 [==============================] - 0s 4ms/step - loss: 0.3000 - accuracy: 0.8761 - val_loss: 0.4353 - val_accuracy: 0.8085\n",
      "Epoch 98/100\n",
      "94/94 [==============================] - 0s 4ms/step - loss: 0.4037 - accuracy: 0.8067 - val_loss: 0.4487 - val_accuracy: 0.8085\n",
      "Epoch 99/100\n",
      "94/94 [==============================] - 0s 4ms/step - loss: 0.3214 - accuracy: 0.8546 - val_loss: 0.5691 - val_accuracy: 0.7872\n",
      "Epoch 100/100\n",
      "94/94 [==============================] - 0s 4ms/step - loss: 0.3003 - accuracy: 0.8586 - val_loss: 0.5094 - val_accuracy: 0.8298\n"
     ]
    }
   ],
   "source": [
    "# Train the ANN\n",
    "history = model.fit(X_train, y_train, batch_size = 2, epochs = 100, validation_split=0.2)"
   ]
  },
  {
   "cell_type": "code",
   "execution_count": 40,
   "metadata": {},
   "outputs": [
    {
     "data": {
      "image/png": "[encoded data removed]",
      "text/plain": [
       "<Figure size 432x288 with 1 Axes>"
      ]
     },
     "metadata": {
      "needs_background": "light"
     },
     "output_type": "display_data"
    },
    {
     "data": {
      "image/png": "[encoded data removed]",
      "text/plain": [
       "<Figure size 432x288 with 1 Axes>"
      ]
     },
     "metadata": {
      "needs_background": "light"
     },
     "output_type": "display_data"
    }
   ],
   "source": [
    "history_df = pd.DataFrame(history.history)\n",
    "\n",
    "plt.plot(history_df.loc[:, ['loss']], \"#CD5C5C\", label='Training loss')\n",
    "plt.plot(history_df.loc[:, ['val_loss']],\"#FF0000\", label='Validation loss')\n",
    "plt.title('Training and Validation loss')\n",
    "plt.xlabel('Epochs')\n",
    "plt.ylabel('Loss')\n",
    "plt.legend(loc=\"best\")\n",
    "\n",
    "plt.show()\n",
    "\n",
    "history_df = pd.DataFrame(history.history)\n",
    "\n",
    "plt.plot(history_df.loc[:, ['accuracy']], \"#CD5C5C\", label='Training accuracy')\n",
    "plt.plot(history_df.loc[:, ['val_accuracy']],\"#FF0000\", label='Validation accuracy')\n",
    "\n",
    "plt.title('Training and Validation accuracy')\n",
    "plt.xlabel('Epochs')\n",
    "plt.ylabel('Accuracy')\n",
    "plt.legend()\n",
    "plt.show()"
   ]
  },
  {
   "cell_type": "code",
   "execution_count": 41,
   "metadata": {},
   "outputs": [],
   "source": [
    "# Predicting the test set results\n",
    "y_pred = model.predict(X_test)\n",
    "y_pred = (y_pred > 0.4)"
   ]
  },
  {
   "cell_type": "code",
   "execution_count": 42,
   "metadata": {},
   "outputs": [],
   "source": [
    "dnn_3_acc = accuracy_score(y_pred, y_test)\n",
    "dnn_3_prec = precision_score(y_pred, y_test,average='weighted')\n",
    "dnn_3_rec = recall_score(y_pred, y_test,average='weighted')\n",
    "dnn_3_f1 = f1_score(y_pred, y_test,average='weighted')\n",
    "dnn_3_spec = specificity_score(y_pred, y_test,average='weighted')\n",
    "dnn_3_sens = sensitivity_score(y_pred, y_test,average='weighted')"
   ]
  },
  {
   "cell_type": "code",
   "execution_count": 77,
   "metadata": {},
   "outputs": [],
   "source": [
    "storeResults1('DNN - 3 Layers',dnn_3_acc,dnn_3_prec,dnn_3_rec,dnn_3_f1,dnn_3_spec,dnn_3_sens)"
   ]
  },
  {
   "cell_type": "markdown",
   "metadata": {},
   "source": [
    "# 4 Layers"
   ]
  },
  {
   "cell_type": "code",
   "execution_count": 43,
   "metadata": {},
   "outputs": [],
   "source": [
    "# Initialising the NN\n",
    "model = Sequential()\n",
    "\n",
    "# layers\n",
    "model.add(Dense(units = 128, kernel_initializer = 'uniform', activation = 'relu', input_dim = 10))\n",
    "model.add(Dense(units = 64, kernel_initializer = 'uniform', activation = 'relu'))\n",
    "model.add(Dropout(0.25))\n",
    "model.add(Dense(units = 64, kernel_initializer = 'uniform', activation = 'relu'))\n",
    "model.add(Dropout(0.5))\n",
    "model.add(Dense(units = 32, kernel_initializer = 'uniform', activation = 'relu'))\n",
    "model.add(Dropout(0.5))\n",
    "model.add(Dense(units = 1, kernel_initializer = 'uniform', activation = 'sigmoid'))\n",
    "\n",
    "# Compiling the ANN\n",
    "model.compile(optimizer = 'adam', loss = 'binary_crossentropy', metrics = ['accuracy'])"
   ]
  },
  {
   "cell_type": "code",
   "execution_count": 44,
   "metadata": {},
   "outputs": [
    {
     "name": "stdout",
     "output_type": "stream",
     "text": [
      "Epoch 1/100\n",
      "94/94 [==============================] - 8s 22ms/step - loss: 0.6929 - accuracy: 0.5620 - val_loss: 0.6897 - val_accuracy: 0.5745\n",
      "Epoch 2/100\n",
      "94/94 [==============================] - 0s 4ms/step - loss: 0.6778 - accuracy: 0.6046 - val_loss: 0.7446 - val_accuracy: 0.5745\n",
      "Epoch 3/100\n",
      "94/94 [==============================] - 0s 4ms/step - loss: 0.6164 - accuracy: 0.6538 - val_loss: 0.6898 - val_accuracy: 0.5745\n",
      "Epoch 4/100\n",
      "94/94 [==============================] - 0s 4ms/step - loss: 0.6170 - accuracy: 0.6434 - val_loss: 0.6871 - val_accuracy: 0.5745\n",
      "Epoch 5/100\n",
      "94/94 [==============================] - 0s 4ms/step - loss: 0.5993 - accuracy: 0.6767 - val_loss: 0.6846 - val_accuracy: 0.5745\n",
      "Epoch 6/100\n",
      "94/94 [==============================] - 0s 4ms/step - loss: 0.6340 - accuracy: 0.6507 - val_loss: 0.7021 - val_accuracy: 0.5745\n",
      "Epoch 7/100\n",
      "94/94 [==============================] - 0s 4ms/step - loss: 0.6786 - accuracy: 0.6050 - val_loss: 0.7533 - val_accuracy: 0.5957\n",
      "Epoch 8/100\n",
      "94/94 [==============================] - 0s 4ms/step - loss: 0.5743 - accuracy: 0.6306 - val_loss: 0.6735 - val_accuracy: 0.6809\n",
      "Epoch 9/100\n",
      "94/94 [==============================] - 0s 4ms/step - loss: 0.6232 - accuracy: 0.6057 - val_loss: 0.7048 - val_accuracy: 0.5745\n",
      "Epoch 10/100\n",
      "94/94 [==============================] - 0s 4ms/step - loss: 0.5405 - accuracy: 0.7193 - val_loss: 0.6470 - val_accuracy: 0.6596\n",
      "Epoch 11/100\n",
      "94/94 [==============================] - 0s 3ms/step - loss: 0.6237 - accuracy: 0.7383 - val_loss: 0.6107 - val_accuracy: 0.7234\n",
      "Epoch 12/100\n",
      "94/94 [==============================] - 0s 3ms/step - loss: 0.6022 - accuracy: 0.7222 - val_loss: 0.5663 - val_accuracy: 0.8085\n",
      "Epoch 13/100\n",
      "94/94 [==============================] - 0s 4ms/step - loss: 0.5885 - accuracy: 0.8054 - val_loss: 0.6323 - val_accuracy: 0.6596\n",
      "Epoch 14/100\n",
      "94/94 [==============================] - 0s 4ms/step - loss: 0.5588 - accuracy: 0.7600 - val_loss: 0.5347 - val_accuracy: 0.7447\n",
      "Epoch 15/100\n",
      "94/94 [==============================] - 0s 4ms/step - loss: 0.5027 - accuracy: 0.8252 - val_loss: 0.5876 - val_accuracy: 0.7021\n",
      "Epoch 16/100\n",
      "94/94 [==============================] - 0s 4ms/step - loss: 0.5273 - accuracy: 0.7905 - val_loss: 0.4568 - val_accuracy: 0.8298\n",
      "Epoch 17/100\n",
      "94/94 [==============================] - 0s 4ms/step - loss: 0.4647 - accuracy: 0.7807 - val_loss: 0.5313 - val_accuracy: 0.7660\n",
      "Epoch 18/100\n",
      "94/94 [==============================] - 0s 4ms/step - loss: 0.4951 - accuracy: 0.7695 - val_loss: 0.4717 - val_accuracy: 0.8511\n",
      "Epoch 19/100\n",
      "94/94 [==============================] - 0s 3ms/step - loss: 0.4781 - accuracy: 0.8332 - val_loss: 0.5276 - val_accuracy: 0.7447\n",
      "Epoch 20/100\n",
      "94/94 [==============================] - 0s 3ms/step - loss: 0.5129 - accuracy: 0.7683 - val_loss: 0.5281 - val_accuracy: 0.7660\n",
      "Epoch 21/100\n",
      "94/94 [==============================] - 0s 5ms/step - loss: 0.4305 - accuracy: 0.8672 - val_loss: 0.4595 - val_accuracy: 0.7872\n",
      "Epoch 22/100\n",
      "94/94 [==============================] - 0s 4ms/step - loss: 0.4732 - accuracy: 0.8270 - val_loss: 0.5294 - val_accuracy: 0.7872\n",
      "Epoch 23/100\n",
      "94/94 [==============================] - 0s 4ms/step - loss: 0.5645 - accuracy: 0.7877 - val_loss: 0.4287 - val_accuracy: 0.8511\n",
      "Epoch 24/100\n",
      "94/94 [==============================] - 0s 4ms/step - loss: 0.4956 - accuracy: 0.8126 - val_loss: 0.4036 - val_accuracy: 0.8511\n",
      "Epoch 25/100\n",
      "94/94 [==============================] - 0s 3ms/step - loss: 0.3803 - accuracy: 0.8839 - val_loss: 0.4330 - val_accuracy: 0.8298\n",
      "Epoch 26/100\n",
      "94/94 [==============================] - 0s 3ms/step - loss: 0.4668 - accuracy: 0.8058 - val_loss: 0.4352 - val_accuracy: 0.8298\n",
      "Epoch 27/100\n",
      "94/94 [==============================] - 0s 3ms/step - loss: 0.4010 - accuracy: 0.8537 - val_loss: 0.4082 - val_accuracy: 0.8511\n",
      "Epoch 28/100\n",
      "94/94 [==============================] - 0s 3ms/step - loss: 0.5380 - accuracy: 0.8130 - val_loss: 0.4586 - val_accuracy: 0.8085\n",
      "Epoch 29/100\n",
      "94/94 [==============================] - 0s 3ms/step - loss: 0.3915 - accuracy: 0.8270 - val_loss: 0.5099 - val_accuracy: 0.8085\n",
      "Epoch 30/100\n",
      "94/94 [==============================] - 0s 3ms/step - loss: 0.3595 - accuracy: 0.8866 - val_loss: 0.4067 - val_accuracy: 0.8511\n",
      "Epoch 31/100\n",
      "94/94 [==============================] - 0s 4ms/step - loss: 0.4908 - accuracy: 0.7880 - val_loss: 0.4460 - val_accuracy: 0.8085\n",
      "Epoch 32/100\n",
      "94/94 [==============================] - 0s 3ms/step - loss: 0.4655 - accuracy: 0.8303 - val_loss: 0.5227 - val_accuracy: 0.8085\n",
      "Epoch 33/100\n",
      "94/94 [==============================] - 0s 3ms/step - loss: 0.4147 - accuracy: 0.8219 - val_loss: 0.5012 - val_accuracy: 0.8085\n",
      "Epoch 34/100\n",
      "94/94 [==============================] - 0s 3ms/step - loss: 0.3912 - accuracy: 0.8303 - val_loss: 0.4890 - val_accuracy: 0.8298\n",
      "Epoch 35/100\n",
      "94/94 [==============================] - 0s 3ms/step - loss: 0.4099 - accuracy: 0.8283 - val_loss: 0.4452 - val_accuracy: 0.8085\n",
      "Epoch 36/100\n",
      "94/94 [==============================] - 0s 3ms/step - loss: 0.4706 - accuracy: 0.8095 - val_loss: 0.4223 - val_accuracy: 0.8298\n",
      "Epoch 37/100\n",
      "94/94 [==============================] - 0s 3ms/step - loss: 0.4950 - accuracy: 0.8175 - val_loss: 0.4786 - val_accuracy: 0.8298\n",
      "Epoch 38/100\n",
      "94/94 [==============================] - 0s 3ms/step - loss: 0.4124 - accuracy: 0.8516 - val_loss: 0.4157 - val_accuracy: 0.8298\n",
      "Epoch 39/100\n",
      "94/94 [==============================] - 0s 3ms/step - loss: 0.3991 - accuracy: 0.8642 - val_loss: 0.5109 - val_accuracy: 0.8085\n",
      "Epoch 40/100\n",
      "94/94 [==============================] - 0s 3ms/step - loss: 0.4618 - accuracy: 0.8464 - val_loss: 0.4711 - val_accuracy: 0.8085\n",
      "Epoch 41/100\n",
      "94/94 [==============================] - 0s 3ms/step - loss: 0.4400 - accuracy: 0.8425 - val_loss: 0.5163 - val_accuracy: 0.7872\n",
      "Epoch 42/100\n",
      "94/94 [==============================] - 0s 3ms/step - loss: 0.3965 - accuracy: 0.7843 - val_loss: 0.4732 - val_accuracy: 0.8085\n",
      "Epoch 43/100\n",
      "94/94 [==============================] - 0s 3ms/step - loss: 0.5469 - accuracy: 0.8201 - val_loss: 0.4694 - val_accuracy: 0.8298\n",
      "Epoch 44/100\n",
      "94/94 [==============================] - 0s 3ms/step - loss: 0.4559 - accuracy: 0.8097 - val_loss: 0.4236 - val_accuracy: 0.8298\n",
      "Epoch 45/100\n",
      "94/94 [==============================] - 0s 3ms/step - loss: 0.5020 - accuracy: 0.7831 - val_loss: 0.4527 - val_accuracy: 0.8085\n",
      "Epoch 46/100\n",
      "94/94 [==============================] - 0s 3ms/step - loss: 0.4035 - accuracy: 0.8357 - val_loss: 0.4358 - val_accuracy: 0.8085\n",
      "Epoch 47/100\n",
      "94/94 [==============================] - 0s 3ms/step - loss: 0.4393 - accuracy: 0.8010 - val_loss: 0.5734 - val_accuracy: 0.7872\n",
      "Epoch 48/100\n",
      "94/94 [==============================] - 0s 3ms/step - loss: 0.4235 - accuracy: 0.8383 - val_loss: 0.4568 - val_accuracy: 0.7872\n",
      "Epoch 49/100\n",
      "94/94 [==============================] - 0s 3ms/step - loss: 0.4030 - accuracy: 0.8659 - val_loss: 0.4410 - val_accuracy: 0.8085\n",
      "Epoch 50/100\n",
      "94/94 [==============================] - 0s 3ms/step - loss: 0.4135 - accuracy: 0.8194 - val_loss: 0.4605 - val_accuracy: 0.8085\n",
      "Epoch 51/100\n",
      "94/94 [==============================] - 0s 3ms/step - loss: 0.4069 - accuracy: 0.8342 - val_loss: 0.5704 - val_accuracy: 0.7872\n",
      "Epoch 52/100\n",
      "94/94 [==============================] - 0s 4ms/step - loss: 0.3766 - accuracy: 0.8429 - val_loss: 0.4395 - val_accuracy: 0.8085\n",
      "Epoch 53/100\n",
      "94/94 [==============================] - 0s 4ms/step - loss: 0.4477 - accuracy: 0.8067 - val_loss: 0.4884 - val_accuracy: 0.8085\n",
      "Epoch 54/100\n",
      "94/94 [==============================] - 0s 4ms/step - loss: 0.4394 - accuracy: 0.8432 - val_loss: 0.4288 - val_accuracy: 0.8298\n",
      "Epoch 55/100\n",
      "94/94 [==============================] - 0s 4ms/step - loss: 0.4101 - accuracy: 0.8725 - val_loss: 0.4117 - val_accuracy: 0.8511\n",
      "Epoch 56/100\n",
      "94/94 [==============================] - 0s 4ms/step - loss: 0.3664 - accuracy: 0.8461 - val_loss: 0.6202 - val_accuracy: 0.8085\n",
      "Epoch 57/100\n",
      "94/94 [==============================] - 0s 4ms/step - loss: 0.3853 - accuracy: 0.8363 - val_loss: 0.4048 - val_accuracy: 0.8298\n",
      "Epoch 58/100\n",
      "94/94 [==============================] - 0s 4ms/step - loss: 0.4851 - accuracy: 0.8395 - val_loss: 0.4604 - val_accuracy: 0.8085\n"
     ]
    },
    {
     "name": "stdout",
     "output_type": "stream",
     "text": [
      "Epoch 59/100\n",
      "94/94 [==============================] - 0s 4ms/step - loss: 0.3651 - accuracy: 0.8716 - val_loss: 0.4523 - val_accuracy: 0.8298\n",
      "Epoch 60/100\n",
      "94/94 [==============================] - 0s 4ms/step - loss: 0.4393 - accuracy: 0.7857 - val_loss: 0.7229 - val_accuracy: 0.8085\n",
      "Epoch 61/100\n",
      "94/94 [==============================] - 0s 4ms/step - loss: 0.4432 - accuracy: 0.7775 - val_loss: 0.4147 - val_accuracy: 0.8298\n",
      "Epoch 62/100\n",
      "94/94 [==============================] - 0s 4ms/step - loss: 0.3815 - accuracy: 0.8613 - val_loss: 0.5602 - val_accuracy: 0.8085\n",
      "Epoch 63/100\n",
      "94/94 [==============================] - 0s 4ms/step - loss: 0.3769 - accuracy: 0.8114 - val_loss: 0.4515 - val_accuracy: 0.8298\n",
      "Epoch 64/100\n",
      "94/94 [==============================] - 0s 3ms/step - loss: 0.4036 - accuracy: 0.8313 - val_loss: 0.5698 - val_accuracy: 0.7872\n",
      "Epoch 65/100\n",
      "94/94 [==============================] - 0s 3ms/step - loss: 0.3724 - accuracy: 0.8398 - val_loss: 0.4904 - val_accuracy: 0.8085\n",
      "Epoch 66/100\n",
      "94/94 [==============================] - 0s 4ms/step - loss: 0.3711 - accuracy: 0.8881 - val_loss: 0.5124 - val_accuracy: 0.7872\n",
      "Epoch 67/100\n",
      "94/94 [==============================] - 0s 4ms/step - loss: 0.4305 - accuracy: 0.8137 - val_loss: 0.5925 - val_accuracy: 0.8085\n",
      "Epoch 68/100\n",
      "94/94 [==============================] - 0s 4ms/step - loss: 0.4747 - accuracy: 0.8016 - val_loss: 0.4073 - val_accuracy: 0.8085\n",
      "Epoch 69/100\n",
      "94/94 [==============================] - 0s 4ms/step - loss: 0.4200 - accuracy: 0.8033 - val_loss: 0.4367 - val_accuracy: 0.8298\n",
      "Epoch 70/100\n",
      "94/94 [==============================] - 0s 4ms/step - loss: 0.3842 - accuracy: 0.8459 - val_loss: 0.4235 - val_accuracy: 0.8298\n",
      "Epoch 71/100\n",
      "94/94 [==============================] - 0s 4ms/step - loss: 0.4498 - accuracy: 0.8223 - val_loss: 0.4622 - val_accuracy: 0.8298\n",
      "Epoch 72/100\n",
      "94/94 [==============================] - 0s 3ms/step - loss: 0.3394 - accuracy: 0.8611 - val_loss: 0.4650 - val_accuracy: 0.8298\n",
      "Epoch 73/100\n",
      "94/94 [==============================] - 0s 4ms/step - loss: 0.4076 - accuracy: 0.8163 - val_loss: 0.4523 - val_accuracy: 0.8085\n",
      "Epoch 74/100\n",
      "94/94 [==============================] - 0s 4ms/step - loss: 0.3403 - accuracy: 0.8681 - val_loss: 0.4784 - val_accuracy: 0.8085\n",
      "Epoch 75/100\n",
      "94/94 [==============================] - 0s 4ms/step - loss: 0.3930 - accuracy: 0.7904 - val_loss: 0.4753 - val_accuracy: 0.8298\n",
      "Epoch 76/100\n",
      "94/94 [==============================] - 0s 4ms/step - loss: 0.3076 - accuracy: 0.8788 - val_loss: 0.4491 - val_accuracy: 0.8085\n",
      "Epoch 77/100\n",
      "94/94 [==============================] - 0s 4ms/step - loss: 0.3481 - accuracy: 0.8530 - val_loss: 0.4416 - val_accuracy: 0.8298\n",
      "Epoch 78/100\n",
      "94/94 [==============================] - 0s 4ms/step - loss: 0.3815 - accuracy: 0.8145 - val_loss: 0.4166 - val_accuracy: 0.8298\n",
      "Epoch 79/100\n",
      "94/94 [==============================] - 0s 3ms/step - loss: 0.3618 - accuracy: 0.8428 - val_loss: 0.8396 - val_accuracy: 0.7660\n",
      "Epoch 80/100\n",
      "94/94 [==============================] - 0s 3ms/step - loss: 0.4437 - accuracy: 0.8132 - val_loss: 0.4523 - val_accuracy: 0.8085\n",
      "Epoch 81/100\n",
      "94/94 [==============================] - 0s 4ms/step - loss: 0.3984 - accuracy: 0.8155 - val_loss: 0.4447 - val_accuracy: 0.8085\n",
      "Epoch 82/100\n",
      "94/94 [==============================] - 0s 4ms/step - loss: 0.3468 - accuracy: 0.8473 - val_loss: 0.4292 - val_accuracy: 0.8085\n",
      "Epoch 83/100\n",
      "94/94 [==============================] - 0s 4ms/step - loss: 0.4035 - accuracy: 0.8347 - val_loss: 0.3866 - val_accuracy: 0.8298\n",
      "Epoch 84/100\n",
      "94/94 [==============================] - 0s 4ms/step - loss: 0.3334 - accuracy: 0.8566 - val_loss: 0.5367 - val_accuracy: 0.8085\n",
      "Epoch 85/100\n",
      "94/94 [==============================] - 0s 4ms/step - loss: 0.4714 - accuracy: 0.7745 - val_loss: 0.8305 - val_accuracy: 0.7660\n",
      "Epoch 86/100\n",
      "94/94 [==============================] - 0s 4ms/step - loss: 0.2681 - accuracy: 0.8834 - val_loss: 0.4597 - val_accuracy: 0.8085\n",
      "Epoch 87/100\n",
      "94/94 [==============================] - 0s 4ms/step - loss: 0.3633 - accuracy: 0.8251 - val_loss: 0.4811 - val_accuracy: 0.8085\n",
      "Epoch 88/100\n",
      "94/94 [==============================] - 0s 5ms/step - loss: 0.3054 - accuracy: 0.8739 - val_loss: 0.4979 - val_accuracy: 0.8085\n",
      "Epoch 89/100\n",
      "94/94 [==============================] - 0s 5ms/step - loss: 0.3185 - accuracy: 0.8352 - val_loss: 0.5456 - val_accuracy: 0.8298\n",
      "Epoch 90/100\n",
      "94/94 [==============================] - 0s 4ms/step - loss: 0.3230 - accuracy: 0.8554 - val_loss: 0.3483 - val_accuracy: 0.8511\n",
      "Epoch 91/100\n",
      "94/94 [==============================] - 0s 4ms/step - loss: 0.3653 - accuracy: 0.8374 - val_loss: 0.4559 - val_accuracy: 0.8085\n",
      "Epoch 92/100\n",
      "94/94 [==============================] - 0s 4ms/step - loss: 0.3373 - accuracy: 0.8148 - val_loss: 0.3563 - val_accuracy: 0.8298\n",
      "Epoch 93/100\n",
      "94/94 [==============================] - 0s 3ms/step - loss: 0.2988 - accuracy: 0.8572 - val_loss: 0.4025 - val_accuracy: 0.7872\n",
      "Epoch 94/100\n",
      "94/94 [==============================] - 0s 3ms/step - loss: 0.3122 - accuracy: 0.8875 - val_loss: 0.4187 - val_accuracy: 0.8085\n",
      "Epoch 95/100\n",
      "94/94 [==============================] - 0s 5ms/step - loss: 0.3279 - accuracy: 0.8418 - val_loss: 0.4628 - val_accuracy: 0.8298\n",
      "Epoch 96/100\n",
      "94/94 [==============================] - 0s 5ms/step - loss: 0.3038 - accuracy: 0.8582 - val_loss: 0.5472 - val_accuracy: 0.8085\n",
      "Epoch 97/100\n",
      "94/94 [==============================] - 0s 4ms/step - loss: 0.2934 - accuracy: 0.8560 - val_loss: 0.4982 - val_accuracy: 0.8085\n",
      "Epoch 98/100\n",
      "94/94 [==============================] - 0s 4ms/step - loss: 0.2161 - accuracy: 0.8805 - val_loss: 0.9807 - val_accuracy: 0.8085\n",
      "Epoch 99/100\n",
      "94/94 [==============================] - 0s 4ms/step - loss: 0.3693 - accuracy: 0.8857 - val_loss: 0.4437 - val_accuracy: 0.8085\n",
      "Epoch 100/100\n",
      "94/94 [==============================] - 0s 4ms/step - loss: 0.2877 - accuracy: 0.8311 - val_loss: 0.4336 - val_accuracy: 0.7872\n"
     ]
    }
   ],
   "source": [
    "# Train the ANN\n",
    "history = model.fit(X_train, y_train, batch_size = 2, epochs = 100, validation_split=0.2)"
   ]
  },
  {
   "cell_type": "code",
   "execution_count": 45,
   "metadata": {},
   "outputs": [
    {
     "data": {
      "image/png": "[encoded data removed]",
      "text/plain": [
       "<Figure size 432x288 with 1 Axes>"
      ]
     },
     "metadata": {
      "needs_background": "light"
     },
     "output_type": "display_data"
    },
    {
     "data": {
      "image/png": "[encoded data removed]",
      "text/plain": [
       "<Figure size 432x288 with 1 Axes>"
      ]
     },
     "metadata": {
      "needs_background": "light"
     },
     "output_type": "display_data"
    }
   ],
   "source": [
    "history_df = pd.DataFrame(history.history)\n",
    "\n",
    "plt.plot(history_df.loc[:, ['loss']], \"#CD5C5C\", label='Training loss')\n",
    "plt.plot(history_df.loc[:, ['val_loss']],\"#FF0000\", label='Validation loss')\n",
    "plt.title('Training and Validation loss')\n",
    "plt.xlabel('Epochs')\n",
    "plt.ylabel('Loss')\n",
    "plt.legend(loc=\"best\")\n",
    "\n",
    "plt.show()\n",
    "\n",
    "history_df = pd.DataFrame(history.history)\n",
    "\n",
    "plt.plot(history_df.loc[:, ['accuracy']], \"#CD5C5C\", label='Training accuracy')\n",
    "plt.plot(history_df.loc[:, ['val_accuracy']],\"#FF0000\", label='Validation accuracy')\n",
    "\n",
    "plt.title('Training and Validation accuracy')\n",
    "plt.xlabel('Epochs')\n",
    "plt.ylabel('Accuracy')\n",
    "plt.legend()\n",
    "plt.show()"
   ]
  },
  {
   "cell_type": "code",
   "execution_count": 46,
   "metadata": {},
   "outputs": [],
   "source": [
    "# Predicting the test set results\n",
    "y_pred = model.predict(X_test)\n",
    "y_pred = (y_pred > 0.4)\n",
    "\n",
    "dnn_4_acc = accuracy_score(y_pred, y_test)\n",
    "dnn_4_prec = precision_score(y_pred, y_test,average='weighted')\n",
    "dnn_4_rec = recall_score(y_pred, y_test,average='weighted')\n",
    "dnn_4_f1 = f1_score(y_pred, y_test,average='weighted')\n",
    "dnn_4_spec = specificity_score(y_pred, y_test,average='weighted')\n",
    "dnn_4_sens = sensitivity_score(y_pred, y_test,average='weighted')"
   ]
  },
  {
   "cell_type": "code",
   "execution_count": 78,
   "metadata": {},
   "outputs": [],
   "source": [
    "storeResults1('DNN - 4 Layers',dnn_4_acc,dnn_4_prec,dnn_4_rec,dnn_4_f1,dnn_4_spec,dnn_4_sens)"
   ]
  },
  {
   "cell_type": "markdown",
   "metadata": {},
   "source": [
    "# 5 Layers"
   ]
  },
  {
   "cell_type": "code",
   "execution_count": 47,
   "metadata": {},
   "outputs": [],
   "source": [
    "# Initialising the NN\n",
    "model = Sequential()\n",
    "\n",
    "# layers\n",
    "model.add(Dense(units = 128, kernel_initializer = 'uniform', activation = 'relu', input_dim = 10))\n",
    "model.add(Dense(units = 64, kernel_initializer = 'uniform', activation = 'relu'))\n",
    "model.add(Dropout(0.25))\n",
    "model.add(Dense(units = 64, kernel_initializer = 'uniform', activation = 'relu'))\n",
    "model.add(Dropout(0.5))\n",
    "model.add(Dense(units = 32, kernel_initializer = 'uniform', activation = 'relu'))\n",
    "model.add(Dropout(0.5))\n",
    "model.add(Dense(units = 32, kernel_initializer = 'uniform', activation = 'relu'))\n",
    "model.add(Dropout(0.5))\n",
    "model.add(Dense(units = 1, kernel_initializer = 'uniform', activation = 'sigmoid'))\n",
    "\n",
    "# Compiling the ANN\n",
    "model.compile(optimizer = 'adam', loss = 'binary_crossentropy', metrics = ['accuracy'])"
   ]
  },
  {
   "cell_type": "code",
   "execution_count": 48,
   "metadata": {},
   "outputs": [
    {
     "name": "stdout",
     "output_type": "stream",
     "text": [
      "Epoch 1/100\n",
      "94/94 [==============================] - 8s 21ms/step - loss: 0.6918 - accuracy: 0.6040 - val_loss: 0.6893 - val_accuracy: 0.5745\n",
      "Epoch 2/100\n",
      "94/94 [==============================] - 0s 4ms/step - loss: 0.6819 - accuracy: 0.6279 - val_loss: 0.6978 - val_accuracy: 0.5745\n",
      "Epoch 3/100\n",
      "94/94 [==============================] - 0s 4ms/step - loss: 0.6827 - accuracy: 0.6348 - val_loss: 0.6932 - val_accuracy: 0.5745\n",
      "Epoch 4/100\n",
      "94/94 [==============================] - 0s 3ms/step - loss: 0.6474 - accuracy: 0.6469 - val_loss: 0.6868 - val_accuracy: 0.5745\n",
      "Epoch 5/100\n",
      "94/94 [==============================] - 0s 4ms/step - loss: 0.6494 - accuracy: 0.6525 - val_loss: 0.6973 - val_accuracy: 0.5745\n",
      "Epoch 6/100\n",
      "94/94 [==============================] - 0s 4ms/step - loss: 0.6521 - accuracy: 0.6388 - val_loss: 0.6871 - val_accuracy: 0.5745\n",
      "Epoch 7/100\n",
      "94/94 [==============================] - 0s 4ms/step - loss: 0.6176 - accuracy: 0.6753 - val_loss: 0.7036 - val_accuracy: 0.5745\n",
      "Epoch 8/100\n",
      "94/94 [==============================] - 0s 4ms/step - loss: 0.6185 - accuracy: 0.6279 - val_loss: 0.6851 - val_accuracy: 0.5745\n",
      "Epoch 9/100\n",
      "94/94 [==============================] - 0s 5ms/step - loss: 0.6470 - accuracy: 0.6459 - val_loss: 0.6635 - val_accuracy: 0.5745\n",
      "Epoch 10/100\n",
      "94/94 [==============================] - 0s 4ms/step - loss: 0.5922 - accuracy: 0.6548 - val_loss: 0.6795 - val_accuracy: 0.5745\n",
      "Epoch 11/100\n",
      "94/94 [==============================] - 0s 5ms/step - loss: 0.5977 - accuracy: 0.6054 - val_loss: 0.6754 - val_accuracy: 0.5745\n",
      "Epoch 12/100\n",
      "94/94 [==============================] - 0s 4ms/step - loss: 0.5659 - accuracy: 0.6866 - val_loss: 0.6252 - val_accuracy: 0.5745\n",
      "Epoch 13/100\n",
      "94/94 [==============================] - 0s 4ms/step - loss: 0.6030 - accuracy: 0.6174 - val_loss: 0.6333 - val_accuracy: 0.5745\n",
      "Epoch 14/100\n",
      "94/94 [==============================] - 0s 4ms/step - loss: 0.5993 - accuracy: 0.6346 - val_loss: 0.6545 - val_accuracy: 0.5745\n",
      "Epoch 15/100\n",
      "94/94 [==============================] - 0s 4ms/step - loss: 0.6148 - accuracy: 0.6336 - val_loss: 0.6128 - val_accuracy: 0.5745\n",
      "Epoch 16/100\n",
      "94/94 [==============================] - 0s 4ms/step - loss: 0.6080 - accuracy: 0.6783 - val_loss: 0.5861 - val_accuracy: 0.7447\n",
      "Epoch 17/100\n",
      "94/94 [==============================] - 0s 3ms/step - loss: 0.5782 - accuracy: 0.6269 - val_loss: 0.6268 - val_accuracy: 0.7234\n",
      "Epoch 18/100\n",
      "94/94 [==============================] - 0s 3ms/step - loss: 0.5124 - accuracy: 0.7729 - val_loss: 0.5755 - val_accuracy: 0.7234\n",
      "Epoch 19/100\n",
      "94/94 [==============================] - 0s 4ms/step - loss: 0.4974 - accuracy: 0.7634 - val_loss: 0.5177 - val_accuracy: 0.8085\n",
      "Epoch 20/100\n",
      "94/94 [==============================] - 0s 4ms/step - loss: 0.5500 - accuracy: 0.7724 - val_loss: 0.5178 - val_accuracy: 0.8085\n",
      "Epoch 21/100\n",
      "94/94 [==============================] - 0s 4ms/step - loss: 0.5191 - accuracy: 0.7841 - val_loss: 0.5829 - val_accuracy: 0.7660\n",
      "Epoch 22/100\n",
      "94/94 [==============================] - ETA: 0s - loss: 0.5684 - accuracy: 0.74 - 0s 4ms/step - loss: 0.5681 - accuracy: 0.7366 - val_loss: 0.6031 - val_accuracy: 0.7660\n",
      "Epoch 23/100\n",
      "94/94 [==============================] - 0s 4ms/step - loss: 0.5498 - accuracy: 0.8081 - val_loss: 0.5374 - val_accuracy: 0.8085\n",
      "Epoch 24/100\n",
      "94/94 [==============================] - 0s 4ms/step - loss: 0.4977 - accuracy: 0.7880 - val_loss: 0.4933 - val_accuracy: 0.8298\n",
      "Epoch 25/100\n",
      "94/94 [==============================] - 0s 3ms/step - loss: 0.5327 - accuracy: 0.7727 - val_loss: 0.4869 - val_accuracy: 0.8298\n",
      "Epoch 26/100\n",
      "94/94 [==============================] - 0s 4ms/step - loss: 0.5287 - accuracy: 0.8029 - val_loss: 0.5043 - val_accuracy: 0.8298\n",
      "Epoch 27/100\n",
      "94/94 [==============================] - 0s 4ms/step - loss: 0.4300 - accuracy: 0.8228 - val_loss: 0.4486 - val_accuracy: 0.8511\n",
      "Epoch 28/100\n",
      "94/94 [==============================] - 0s 4ms/step - loss: 0.4302 - accuracy: 0.8549 - val_loss: 0.7887 - val_accuracy: 0.7021\n",
      "Epoch 29/100\n",
      "94/94 [==============================] - 0s 4ms/step - loss: 0.4793 - accuracy: 0.8088 - val_loss: 0.4697 - val_accuracy: 0.8298\n",
      "Epoch 30/100\n",
      "94/94 [==============================] - 0s 3ms/step - loss: 0.4936 - accuracy: 0.8265 - val_loss: 0.4540 - val_accuracy: 0.8511\n",
      "Epoch 31/100\n",
      "94/94 [==============================] - 0s 3ms/step - loss: 0.4792 - accuracy: 0.8138 - val_loss: 0.4924 - val_accuracy: 0.8085\n",
      "Epoch 32/100\n",
      "94/94 [==============================] - 0s 3ms/step - loss: 0.4706 - accuracy: 0.8227 - val_loss: 0.4465 - val_accuracy: 0.8298\n",
      "Epoch 33/100\n",
      "94/94 [==============================] - 0s 3ms/step - loss: 0.4854 - accuracy: 0.7738 - val_loss: 0.5056 - val_accuracy: 0.8298\n",
      "Epoch 34/100\n",
      "94/94 [==============================] - 0s 3ms/step - loss: 0.3766 - accuracy: 0.8615 - val_loss: 0.5604 - val_accuracy: 0.8085\n",
      "Epoch 35/100\n",
      "94/94 [==============================] - 0s 3ms/step - loss: 0.4897 - accuracy: 0.8011 - val_loss: 0.4878 - val_accuracy: 0.8085\n",
      "Epoch 36/100\n",
      "94/94 [==============================] - 0s 3ms/step - loss: 0.5061 - accuracy: 0.7981 - val_loss: 0.5191 - val_accuracy: 0.7872\n",
      "Epoch 37/100\n",
      "94/94 [==============================] - 0s 3ms/step - loss: 0.4281 - accuracy: 0.8155 - val_loss: 0.5144 - val_accuracy: 0.8085\n",
      "Epoch 38/100\n",
      "94/94 [==============================] - 0s 3ms/step - loss: 0.4728 - accuracy: 0.8021 - val_loss: 0.4256 - val_accuracy: 0.8298\n",
      "Epoch 39/100\n",
      "94/94 [==============================] - 0s 3ms/step - loss: 0.4602 - accuracy: 0.8091 - val_loss: 0.4175 - val_accuracy: 0.8298\n",
      "Epoch 40/100\n",
      "94/94 [==============================] - 0s 3ms/step - loss: 0.5635 - accuracy: 0.8072 - val_loss: 0.5176 - val_accuracy: 0.7872\n",
      "Epoch 41/100\n",
      "94/94 [==============================] - 0s 3ms/step - loss: 0.4921 - accuracy: 0.7656 - val_loss: 0.4493 - val_accuracy: 0.8298\n",
      "Epoch 42/100\n",
      "94/94 [==============================] - 0s 3ms/step - loss: 0.4882 - accuracy: 0.7786 - val_loss: 0.4923 - val_accuracy: 0.8298\n",
      "Epoch 43/100\n",
      "94/94 [==============================] - 0s 3ms/step - loss: 0.4574 - accuracy: 0.8400 - val_loss: 0.4666 - val_accuracy: 0.8298\n",
      "Epoch 44/100\n",
      "94/94 [==============================] - 0s 3ms/step - loss: 0.4630 - accuracy: 0.7475 - val_loss: 0.6842 - val_accuracy: 0.7872\n",
      "Epoch 45/100\n",
      "94/94 [==============================] - 0s 3ms/step - loss: 0.5530 - accuracy: 0.7764 - val_loss: 0.5947 - val_accuracy: 0.7872\n",
      "Epoch 46/100\n",
      "94/94 [==============================] - 0s 3ms/step - loss: 0.3696 - accuracy: 0.8532 - val_loss: 0.5258 - val_accuracy: 0.7447\n",
      "Epoch 47/100\n",
      "94/94 [==============================] - 0s 3ms/step - loss: 0.4924 - accuracy: 0.8151 - val_loss: 0.5204 - val_accuracy: 0.8085\n",
      "Epoch 48/100\n",
      "94/94 [==============================] - 0s 3ms/step - loss: 0.4413 - accuracy: 0.8226 - val_loss: 0.5155 - val_accuracy: 0.8298\n",
      "Epoch 49/100\n",
      "94/94 [==============================] - 0s 3ms/step - loss: 0.4826 - accuracy: 0.8052 - val_loss: 0.5013 - val_accuracy: 0.8298\n",
      "Epoch 50/100\n",
      "94/94 [==============================] - 0s 3ms/step - loss: 0.5870 - accuracy: 0.7739 - val_loss: 0.4284 - val_accuracy: 0.8298\n",
      "Epoch 51/100\n",
      "94/94 [==============================] - 0s 3ms/step - loss: 0.4325 - accuracy: 0.8018 - val_loss: 0.5344 - val_accuracy: 0.8298\n",
      "Epoch 52/100\n",
      "94/94 [==============================] - 0s 3ms/step - loss: 0.4269 - accuracy: 0.8309 - val_loss: 0.4791 - val_accuracy: 0.8511\n",
      "Epoch 53/100\n",
      "94/94 [==============================] - 0s 3ms/step - loss: 0.4138 - accuracy: 0.8281 - val_loss: 0.4482 - val_accuracy: 0.8298\n",
      "Epoch 54/100\n",
      "94/94 [==============================] - 0s 3ms/step - loss: 0.4174 - accuracy: 0.8604 - val_loss: 0.4658 - val_accuracy: 0.8298\n",
      "Epoch 55/100\n",
      "94/94 [==============================] - 0s 3ms/step - loss: 0.4903 - accuracy: 0.7784 - val_loss: 0.6013 - val_accuracy: 0.7872\n",
      "Epoch 56/100\n",
      "94/94 [==============================] - 0s 3ms/step - loss: 0.4060 - accuracy: 0.8395 - val_loss: 0.4713 - val_accuracy: 0.8298\n",
      "Epoch 57/100\n",
      "94/94 [==============================] - 0s 3ms/step - loss: 0.4322 - accuracy: 0.8365 - val_loss: 0.5229 - val_accuracy: 0.8298\n",
      "Epoch 58/100\n"
     ]
    },
    {
     "name": "stdout",
     "output_type": "stream",
     "text": [
      "94/94 [==============================] - 0s 3ms/step - loss: 0.4150 - accuracy: 0.8746 - val_loss: 0.4523 - val_accuracy: 0.8298\n",
      "Epoch 59/100\n",
      "94/94 [==============================] - 0s 4ms/step - loss: 0.4608 - accuracy: 0.8324 - val_loss: 0.5327 - val_accuracy: 0.8298\n",
      "Epoch 60/100\n",
      "94/94 [==============================] - 0s 4ms/step - loss: 0.3756 - accuracy: 0.8447 - val_loss: 0.4965 - val_accuracy: 0.8298\n",
      "Epoch 61/100\n",
      "94/94 [==============================] - 0s 4ms/step - loss: 0.4305 - accuracy: 0.7953 - val_loss: 0.4468 - val_accuracy: 0.8298\n",
      "Epoch 62/100\n",
      "94/94 [==============================] - 0s 4ms/step - loss: 0.4497 - accuracy: 0.7777 - val_loss: 0.5970 - val_accuracy: 0.7660\n",
      "Epoch 63/100\n",
      "94/94 [==============================] - 0s 4ms/step - loss: 0.4770 - accuracy: 0.7922 - val_loss: 0.5112 - val_accuracy: 0.8298\n",
      "Epoch 64/100\n",
      "94/94 [==============================] - 0s 4ms/step - loss: 0.4163 - accuracy: 0.8411 - val_loss: 0.4385 - val_accuracy: 0.8298\n",
      "Epoch 65/100\n",
      "94/94 [==============================] - 0s 4ms/step - loss: 0.4051 - accuracy: 0.7999 - val_loss: 0.5789 - val_accuracy: 0.7872\n",
      "Epoch 66/100\n",
      "94/94 [==============================] - 0s 4ms/step - loss: 0.4147 - accuracy: 0.8289 - val_loss: 0.4072 - val_accuracy: 0.8298\n",
      "Epoch 67/100\n",
      "94/94 [==============================] - 0s 4ms/step - loss: 0.4391 - accuracy: 0.8009 - val_loss: 0.6287 - val_accuracy: 0.7872\n",
      "Epoch 68/100\n",
      "94/94 [==============================] - 0s 4ms/step - loss: 0.4316 - accuracy: 0.7912 - val_loss: 0.4695 - val_accuracy: 0.8085\n",
      "Epoch 69/100\n",
      "94/94 [==============================] - 0s 3ms/step - loss: 0.3460 - accuracy: 0.8926 - val_loss: 0.5294 - val_accuracy: 0.8085\n",
      "Epoch 70/100\n",
      "94/94 [==============================] - 0s 5ms/step - loss: 0.4638 - accuracy: 0.7908 - val_loss: 0.4475 - val_accuracy: 0.8085\n",
      "Epoch 71/100\n",
      "94/94 [==============================] - 0s 5ms/step - loss: 0.3370 - accuracy: 0.8576 - val_loss: 0.4987 - val_accuracy: 0.8298\n",
      "Epoch 72/100\n",
      "94/94 [==============================] - 0s 4ms/step - loss: 0.3646 - accuracy: 0.8569 - val_loss: 0.5304 - val_accuracy: 0.8298\n",
      "Epoch 73/100\n",
      "94/94 [==============================] - 0s 4ms/step - loss: 0.5418 - accuracy: 0.7598 - val_loss: 0.4361 - val_accuracy: 0.8298\n",
      "Epoch 74/100\n",
      "94/94 [==============================] - 0s 4ms/step - loss: 0.3933 - accuracy: 0.8836 - val_loss: 0.5621 - val_accuracy: 0.8085\n",
      "Epoch 75/100\n",
      "94/94 [==============================] - 0s 3ms/step - loss: 0.4278 - accuracy: 0.7804 - val_loss: 0.5020 - val_accuracy: 0.8298\n",
      "Epoch 76/100\n",
      "94/94 [==============================] - 0s 3ms/step - loss: 0.3613 - accuracy: 0.8777 - val_loss: 0.5027 - val_accuracy: 0.8298\n",
      "Epoch 77/100\n",
      "94/94 [==============================] - 0s 4ms/step - loss: 0.4512 - accuracy: 0.8299 - val_loss: 0.4162 - val_accuracy: 0.8298\n",
      "Epoch 78/100\n",
      "94/94 [==============================] - 0s 4ms/step - loss: 0.3906 - accuracy: 0.8497 - val_loss: 0.5358 - val_accuracy: 0.8085\n",
      "Epoch 79/100\n",
      "94/94 [==============================] - 0s 4ms/step - loss: 0.4735 - accuracy: 0.7900 - val_loss: 0.4728 - val_accuracy: 0.8298\n",
      "Epoch 80/100\n",
      "94/94 [==============================] - 0s 4ms/step - loss: 0.3530 - accuracy: 0.8811 - val_loss: 0.5604 - val_accuracy: 0.7447\n",
      "Epoch 81/100\n",
      "94/94 [==============================] - ETA: 0s - loss: 0.4532 - accuracy: 0.79 - 0s 4ms/step - loss: 0.4532 - accuracy: 0.7990 - val_loss: 0.5248 - val_accuracy: 0.8298\n",
      "Epoch 82/100\n",
      "94/94 [==============================] - 0s 4ms/step - loss: 0.4032 - accuracy: 0.8369 - val_loss: 0.5399 - val_accuracy: 0.7872\n",
      "Epoch 83/100\n",
      "94/94 [==============================] - 0s 3ms/step - loss: 0.3654 - accuracy: 0.8681 - val_loss: 0.4621 - val_accuracy: 0.8298\n",
      "Epoch 84/100\n",
      "94/94 [==============================] - 0s 4ms/step - loss: 0.3623 - accuracy: 0.8875 - val_loss: 0.6610 - val_accuracy: 0.7872\n",
      "Epoch 85/100\n",
      "94/94 [==============================] - 0s 4ms/step - loss: 0.3818 - accuracy: 0.8307 - val_loss: 0.4495 - val_accuracy: 0.8085\n",
      "Epoch 86/100\n",
      "94/94 [==============================] - 0s 4ms/step - loss: 0.4221 - accuracy: 0.7974 - val_loss: 0.4242 - val_accuracy: 0.8298\n",
      "Epoch 87/100\n",
      "94/94 [==============================] - 0s 4ms/step - loss: 0.3741 - accuracy: 0.8887 - val_loss: 0.4827 - val_accuracy: 0.8085\n",
      "Epoch 88/100\n",
      "94/94 [==============================] - 0s 4ms/step - loss: 0.4506 - accuracy: 0.8307 - val_loss: 0.4318 - val_accuracy: 0.8085\n",
      "Epoch 89/100\n",
      "94/94 [==============================] - 0s 4ms/step - loss: 0.3825 - accuracy: 0.8168 - val_loss: 0.5915 - val_accuracy: 0.7872\n",
      "Epoch 90/100\n",
      "94/94 [==============================] - 0s 3ms/step - loss: 0.3364 - accuracy: 0.8620 - val_loss: 0.4083 - val_accuracy: 0.8298\n",
      "Epoch 91/100\n",
      "94/94 [==============================] - 0s 3ms/step - loss: 0.4829 - accuracy: 0.7960 - val_loss: 0.4689 - val_accuracy: 0.7872\n",
      "Epoch 92/100\n",
      "94/94 [==============================] - 0s 5ms/step - loss: 0.3695 - accuracy: 0.8631 - val_loss: 0.4749 - val_accuracy: 0.8085\n",
      "Epoch 93/100\n",
      "94/94 [==============================] - 0s 5ms/step - loss: 0.3668 - accuracy: 0.8711 - val_loss: 0.5214 - val_accuracy: 0.7872\n",
      "Epoch 94/100\n",
      "94/94 [==============================] - 0s 4ms/step - loss: 0.4110 - accuracy: 0.8029 - val_loss: 0.4860 - val_accuracy: 0.7872\n",
      "Epoch 95/100\n",
      "94/94 [==============================] - 0s 4ms/step - loss: 0.3426 - accuracy: 0.8878 - val_loss: 0.4945 - val_accuracy: 0.8085\n",
      "Epoch 96/100\n",
      "94/94 [==============================] - 0s 4ms/step - loss: 0.3628 - accuracy: 0.8500 - val_loss: 1.1117 - val_accuracy: 0.7234\n",
      "Epoch 97/100\n",
      "94/94 [==============================] - 0s 4ms/step - loss: 0.3806 - accuracy: 0.8367 - val_loss: 0.5101 - val_accuracy: 0.8085\n",
      "Epoch 98/100\n",
      "94/94 [==============================] - 0s 4ms/step - loss: 0.3500 - accuracy: 0.8491 - val_loss: 0.4296 - val_accuracy: 0.8085\n",
      "Epoch 99/100\n",
      "94/94 [==============================] - 0s 5ms/step - loss: 0.3221 - accuracy: 0.8862 - val_loss: 0.5918 - val_accuracy: 0.7872\n",
      "Epoch 100/100\n",
      "94/94 [==============================] - 0s 4ms/step - loss: 0.3796 - accuracy: 0.8728 - val_loss: 0.5278 - val_accuracy: 0.7872\n"
     ]
    }
   ],
   "source": [
    "# Train the ANN\n",
    "history = model.fit(X_train, y_train, batch_size = 2, epochs = 100, validation_split=0.2)"
   ]
  },
  {
   "cell_type": "code",
   "execution_count": 49,
   "metadata": {},
   "outputs": [
    {
     "data": {
      "image/png": "[encoded data removed]",
      "text/plain": [
       "<Figure size 432x288 with 1 Axes>"
      ]
     },
     "metadata": {
      "needs_background": "light"
     },
     "output_type": "display_data"
    },
    {
     "data": {
      "image/png": "[encoded data removed]",
      "text/plain": [
       "<Figure size 432x288 with 1 Axes>"
      ]
     },
     "metadata": {
      "needs_background": "light"
     },
     "output_type": "display_data"
    }
   ],
   "source": [
    "history_df = pd.DataFrame(history.history)\n",
    "\n",
    "plt.plot(history_df.loc[:, ['loss']], \"#CD5C5C\", label='Training loss')\n",
    "plt.plot(history_df.loc[:, ['val_loss']],\"#FF0000\", label='Validation loss')\n",
    "plt.title('Training and Validation loss')\n",
    "plt.xlabel('Epochs')\n",
    "plt.ylabel('Loss')\n",
    "plt.legend(loc=\"best\")\n",
    "\n",
    "plt.show()\n",
    "\n",
    "history_df = pd.DataFrame(history.history)\n",
    "\n",
    "plt.plot(history_df.loc[:, ['accuracy']], \"#CD5C5C\", label='Training accuracy')\n",
    "plt.plot(history_df.loc[:, ['val_accuracy']],\"#FF0000\", label='Validation accuracy')\n",
    "\n",
    "plt.title('Training and Validation accuracy')\n",
    "plt.xlabel('Epochs')\n",
    "plt.ylabel('Accuracy')\n",
    "plt.legend()\n",
    "plt.show()"
   ]
  },
  {
   "cell_type": "code",
   "execution_count": 50,
   "metadata": {},
   "outputs": [],
   "source": [
    "# Predicting the test set results\n",
    "y_pred = model.predict(X_test)\n",
    "y_pred = (y_pred > 0.4)\n",
    "\n",
    "dnn_5_acc = accuracy_score(y_pred, y_test)\n",
    "dnn_5_prec = precision_score(y_pred, y_test,average='weighted')\n",
    "dnn_5_rec = recall_score(y_pred, y_test,average='weighted')\n",
    "dnn_5_f1 = f1_score(y_pred, y_test,average='weighted')\n",
    "dnn_5_spec = specificity_score(y_pred, y_test,average='weighted')\n",
    "dnn_5_sens = sensitivity_score(y_pred, y_test,average='weighted')"
   ]
  },
  {
   "cell_type": "code",
   "execution_count": 79,
   "metadata": {},
   "outputs": [],
   "source": [
    "storeResults1('DNN - 5 Layers',dnn_5_acc,dnn_5_prec,dnn_5_rec,dnn_5_f1,dnn_5_spec,dnn_5_sens)"
   ]
  },
  {
   "cell_type": "markdown",
   "metadata": {},
   "source": [
    "# 6 Layers"
   ]
  },
  {
   "cell_type": "code",
   "execution_count": 51,
   "metadata": {},
   "outputs": [],
   "source": [
    "# Initialising the NN\n",
    "model = Sequential()\n",
    "\n",
    "# layers\n",
    "model.add(Dense(units = 128, kernel_initializer = 'uniform', activation = 'relu', input_dim = 10))\n",
    "model.add(Dense(units = 64, kernel_initializer = 'uniform', activation = 'relu'))\n",
    "model.add(Dropout(0.25))\n",
    "model.add(Dense(units = 64, kernel_initializer = 'uniform', activation = 'relu'))\n",
    "model.add(Dropout(0.5))\n",
    "model.add(Dense(units = 32, kernel_initializer = 'uniform', activation = 'relu'))\n",
    "model.add(Dropout(0.5))\n",
    "model.add(Dense(units = 32, kernel_initializer = 'uniform', activation = 'relu'))\n",
    "model.add(Dropout(0.5))\n",
    "model.add(Dense(units = 16, kernel_initializer = 'uniform', activation = 'relu'))\n",
    "model.add(Dropout(0.5))\n",
    "model.add(Dense(units = 1, kernel_initializer = 'uniform', activation = 'sigmoid'))\n",
    "\n",
    "# Compiling the ANN\n",
    "model.compile(optimizer = 'adam', loss = 'binary_crossentropy', metrics = ['accuracy'])"
   ]
  },
  {
   "cell_type": "code",
   "execution_count": 52,
   "metadata": {},
   "outputs": [
    {
     "name": "stdout",
     "output_type": "stream",
     "text": [
      "Epoch 1/100\n",
      "94/94 [==============================] - 9s 22ms/step - loss: 0.6924 - accuracy: 0.5505 - val_loss: 0.6903 - val_accuracy: 0.5745\n",
      "Epoch 2/100\n",
      "94/94 [==============================] - 0s 4ms/step - loss: 0.6882 - accuracy: 0.6115 - val_loss: 0.6878 - val_accuracy: 0.5745\n",
      "Epoch 3/100\n",
      "94/94 [==============================] - 0s 4ms/step - loss: 0.6561 - accuracy: 0.6608 - val_loss: 0.6921 - val_accuracy: 0.5745\n",
      "Epoch 4/100\n",
      "94/94 [==============================] - 0s 4ms/step - loss: 0.6763 - accuracy: 0.5611 - val_loss: 0.7254 - val_accuracy: 0.5745\n",
      "Epoch 5/100\n",
      "94/94 [==============================] - 0s 4ms/step - loss: 0.6556 - accuracy: 0.6540 - val_loss: 0.6852 - val_accuracy: 0.5745\n",
      "Epoch 6/100\n",
      "94/94 [==============================] - 0s 4ms/step - loss: 0.6716 - accuracy: 0.5919 - val_loss: 0.6853 - val_accuracy: 0.5745\n",
      "Epoch 7/100\n",
      "94/94 [==============================] - 0s 4ms/step - loss: 0.6490 - accuracy: 0.6317 - val_loss: 0.7341 - val_accuracy: 0.5745\n",
      "Epoch 8/100\n",
      "94/94 [==============================] - 0s 4ms/step - loss: 0.6473 - accuracy: 0.6145 - val_loss: 0.7257 - val_accuracy: 0.5745\n",
      "Epoch 9/100\n",
      "94/94 [==============================] - 0s 4ms/step - loss: 0.6100 - accuracy: 0.6153 - val_loss: 0.7219 - val_accuracy: 0.5745\n",
      "Epoch 10/100\n",
      "94/94 [==============================] - 0s 4ms/step - loss: 0.7004 - accuracy: 0.5780 - val_loss: 0.7261 - val_accuracy: 0.5745\n",
      "Epoch 11/100\n",
      "94/94 [==============================] - 0s 4ms/step - loss: 0.6845 - accuracy: 0.5997 - val_loss: 0.6878 - val_accuracy: 0.5745\n",
      "Epoch 12/100\n",
      "94/94 [==============================] - 0s 4ms/step - loss: 0.6501 - accuracy: 0.6025 - val_loss: 0.6795 - val_accuracy: 0.5745\n",
      "Epoch 13/100\n",
      "94/94 [==============================] - 0s 4ms/step - loss: 0.6055 - accuracy: 0.6791 - val_loss: 0.6700 - val_accuracy: 0.5745\n",
      "Epoch 14/100\n",
      "94/94 [==============================] - 0s 4ms/step - loss: 0.5694 - accuracy: 0.6583 - val_loss: 0.6637 - val_accuracy: 0.5745\n",
      "Epoch 15/100\n",
      "94/94 [==============================] - 0s 4ms/step - loss: 0.6280 - accuracy: 0.6340 - val_loss: 0.6579 - val_accuracy: 0.5745\n",
      "Epoch 16/100\n",
      "94/94 [==============================] - 0s 4ms/step - loss: 0.6055 - accuracy: 0.6650 - val_loss: 0.6510 - val_accuracy: 0.5745\n",
      "Epoch 17/100\n",
      "94/94 [==============================] - 0s 5ms/step - loss: 0.5789 - accuracy: 0.6644 - val_loss: 0.6110 - val_accuracy: 0.7660\n",
      "Epoch 18/100\n",
      "94/94 [==============================] - 0s 5ms/step - loss: 0.5488 - accuracy: 0.7291 - val_loss: 0.6065 - val_accuracy: 0.7234\n",
      "Epoch 19/100\n",
      "94/94 [==============================] - 0s 4ms/step - loss: 0.5749 - accuracy: 0.7392 - val_loss: 0.6511 - val_accuracy: 0.5745\n",
      "Epoch 20/100\n",
      "94/94 [==============================] - 0s 4ms/step - loss: 0.6064 - accuracy: 0.6627 - val_loss: 0.6050 - val_accuracy: 0.6596\n",
      "Epoch 21/100\n",
      "94/94 [==============================] - 0s 4ms/step - loss: 0.5730 - accuracy: 0.6817 - val_loss: 0.5511 - val_accuracy: 0.8511\n",
      "Epoch 22/100\n",
      "94/94 [==============================] - 0s 3ms/step - loss: 0.5595 - accuracy: 0.6884 - val_loss: 0.5787 - val_accuracy: 0.7872\n",
      "Epoch 23/100\n",
      "94/94 [==============================] - 0s 3ms/step - loss: 0.4969 - accuracy: 0.7835 - val_loss: 0.6316 - val_accuracy: 0.6809\n",
      "Epoch 24/100\n",
      "94/94 [==============================] - 0s 4ms/step - loss: 0.5459 - accuracy: 0.7095 - val_loss: 0.6405 - val_accuracy: 0.7021\n",
      "Epoch 25/100\n",
      "94/94 [==============================] - 0s 4ms/step - loss: 0.5287 - accuracy: 0.7630 - val_loss: 0.5190 - val_accuracy: 0.7447\n",
      "Epoch 26/100\n",
      "94/94 [==============================] - 0s 4ms/step - loss: 0.5867 - accuracy: 0.7240 - val_loss: 0.4991 - val_accuracy: 0.8085\n",
      "Epoch 27/100\n",
      "94/94 [==============================] - 0s 4ms/step - loss: 0.5908 - accuracy: 0.7592 - val_loss: 0.5621 - val_accuracy: 0.7021\n",
      "Epoch 28/100\n",
      "94/94 [==============================] - 0s 4ms/step - loss: 0.5851 - accuracy: 0.7420 - val_loss: 0.4169 - val_accuracy: 0.8723\n",
      "Epoch 29/100\n",
      "94/94 [==============================] - 0s 4ms/step - loss: 0.4668 - accuracy: 0.7583 - val_loss: 0.5300 - val_accuracy: 0.7660\n",
      "Epoch 30/100\n",
      "94/94 [==============================] - 0s 3ms/step - loss: 0.6298 - accuracy: 0.5841 - val_loss: 0.4696 - val_accuracy: 0.8511\n",
      "Epoch 31/100\n",
      "94/94 [==============================] - 0s 4ms/step - loss: 0.5418 - accuracy: 0.7527 - val_loss: 0.4261 - val_accuracy: 0.8298\n",
      "Epoch 32/100\n",
      "94/94 [==============================] - 0s 5ms/step - loss: 0.5400 - accuracy: 0.7551 - val_loss: 0.5397 - val_accuracy: 0.8085\n",
      "Epoch 33/100\n",
      "94/94 [==============================] - 0s 5ms/step - loss: 0.5349 - accuracy: 0.7681 - val_loss: 0.6631 - val_accuracy: 0.7021\n",
      "Epoch 34/100\n",
      "94/94 [==============================] - 0s 4ms/step - loss: 0.5885 - accuracy: 0.7479 - val_loss: 0.6172 - val_accuracy: 0.8085\n",
      "Epoch 35/100\n",
      "94/94 [==============================] - 0s 4ms/step - loss: 0.5530 - accuracy: 0.7774 - val_loss: 0.5779 - val_accuracy: 0.7660\n",
      "Epoch 36/100\n",
      "94/94 [==============================] - 0s 4ms/step - loss: 0.4682 - accuracy: 0.7945 - val_loss: 0.4409 - val_accuracy: 0.8511\n",
      "Epoch 37/100\n",
      "94/94 [==============================] - 0s 3ms/step - loss: 0.4964 - accuracy: 0.8126 - val_loss: 0.5158 - val_accuracy: 0.8298\n",
      "Epoch 38/100\n",
      "94/94 [==============================] - 0s 3ms/step - loss: 0.5155 - accuracy: 0.7770 - val_loss: 0.4255 - val_accuracy: 0.8085\n",
      "Epoch 39/100\n",
      "94/94 [==============================] - 0s 4ms/step - loss: 0.4986 - accuracy: 0.7788 - val_loss: 0.5369 - val_accuracy: 0.7234\n",
      "Epoch 40/100\n",
      "94/94 [==============================] - 0s 4ms/step - loss: 0.4213 - accuracy: 0.7990 - val_loss: 0.3894 - val_accuracy: 0.8511\n",
      "Epoch 41/100\n",
      "94/94 [==============================] - 0s 3ms/step - loss: 0.4723 - accuracy: 0.7466 - val_loss: 0.4429 - val_accuracy: 0.7872\n",
      "Epoch 42/100\n",
      "94/94 [==============================] - 0s 4ms/step - loss: 0.4145 - accuracy: 0.8194 - val_loss: 0.5239 - val_accuracy: 0.7872\n",
      "Epoch 43/100\n",
      "94/94 [==============================] - 0s 4ms/step - loss: 0.5764 - accuracy: 0.7373 - val_loss: 0.4315 - val_accuracy: 0.8298\n",
      "Epoch 44/100\n",
      "94/94 [==============================] - 0s 4ms/step - loss: 0.4598 - accuracy: 0.8145 - val_loss: 0.4885 - val_accuracy: 0.7872\n",
      "Epoch 45/100\n",
      "94/94 [==============================] - 0s 3ms/step - loss: 0.3752 - accuracy: 0.8740 - val_loss: 0.4106 - val_accuracy: 0.8298\n",
      "Epoch 46/100\n",
      "94/94 [==============================] - 0s 3ms/step - loss: 0.5001 - accuracy: 0.7911 - val_loss: 0.4056 - val_accuracy: 0.8298\n",
      "Epoch 47/100\n",
      "94/94 [==============================] - 0s 3ms/step - loss: 0.5360 - accuracy: 0.7796 - val_loss: 0.4151 - val_accuracy: 0.8511\n",
      "Epoch 48/100\n",
      "94/94 [==============================] - 0s 3ms/step - loss: 0.5088 - accuracy: 0.8243 - val_loss: 0.4194 - val_accuracy: 0.8298\n",
      "Epoch 49/100\n",
      "94/94 [==============================] - 0s 3ms/step - loss: 0.4197 - accuracy: 0.8236 - val_loss: 0.4406 - val_accuracy: 0.8511\n",
      "Epoch 50/100\n",
      "94/94 [==============================] - 0s 3ms/step - loss: 0.5243 - accuracy: 0.7715 - val_loss: 0.4497 - val_accuracy: 0.8085\n",
      "Epoch 51/100\n",
      "94/94 [==============================] - 0s 3ms/step - loss: 0.5204 - accuracy: 0.7938 - val_loss: 0.6409 - val_accuracy: 0.6809\n",
      "Epoch 52/100\n",
      "94/94 [==============================] - 0s 3ms/step - loss: 0.5766 - accuracy: 0.7451 - val_loss: 0.4528 - val_accuracy: 0.8085\n",
      "Epoch 53/100\n",
      "94/94 [==============================] - 0s 3ms/step - loss: 0.5298 - accuracy: 0.7471 - val_loss: 0.4162 - val_accuracy: 0.8511\n",
      "Epoch 54/100\n",
      "94/94 [==============================] - 0s 3ms/step - loss: 0.4696 - accuracy: 0.8330 - val_loss: 0.4206 - val_accuracy: 0.8085\n",
      "Epoch 55/100\n",
      "94/94 [==============================] - 0s 3ms/step - loss: 0.4553 - accuracy: 0.8312 - val_loss: 0.4239 - val_accuracy: 0.8511\n",
      "Epoch 56/100\n",
      "94/94 [==============================] - 0s 3ms/step - loss: 0.4380 - accuracy: 0.8320 - val_loss: 0.4268 - val_accuracy: 0.8511\n",
      "Epoch 57/100\n",
      "94/94 [==============================] - 0s 3ms/step - loss: 0.4548 - accuracy: 0.7886 - val_loss: 0.4855 - val_accuracy: 0.8085\n",
      "Epoch 58/100\n",
      "94/94 [==============================] - 0s 3ms/step - loss: 0.4180 - accuracy: 0.7839 - val_loss: 0.4476 - val_accuracy: 0.7872\n"
     ]
    },
    {
     "name": "stdout",
     "output_type": "stream",
     "text": [
      "Epoch 59/100\n",
      "94/94 [==============================] - 0s 3ms/step - loss: 0.4207 - accuracy: 0.8468 - val_loss: 0.4545 - val_accuracy: 0.8085\n",
      "Epoch 60/100\n",
      "94/94 [==============================] - 0s 3ms/step - loss: 0.4728 - accuracy: 0.8013 - val_loss: 0.4952 - val_accuracy: 0.7872\n",
      "Epoch 61/100\n",
      "94/94 [==============================] - 0s 4ms/step - loss: 0.4554 - accuracy: 0.8252 - val_loss: 0.4627 - val_accuracy: 0.8511\n",
      "Epoch 62/100\n",
      "94/94 [==============================] - 0s 3ms/step - loss: 0.6140 - accuracy: 0.7659 - val_loss: 0.4210 - val_accuracy: 0.8298\n",
      "Epoch 63/100\n",
      "94/94 [==============================] - 0s 3ms/step - loss: 0.4100 - accuracy: 0.8132 - val_loss: 0.4243 - val_accuracy: 0.8511\n",
      "Epoch 64/100\n",
      "94/94 [==============================] - 0s 3ms/step - loss: 0.4512 - accuracy: 0.8197 - val_loss: 0.4156 - val_accuracy: 0.8298\n",
      "Epoch 65/100\n",
      "94/94 [==============================] - 0s 3ms/step - loss: 0.3785 - accuracy: 0.8479 - val_loss: 0.4518 - val_accuracy: 0.8085\n",
      "Epoch 66/100\n",
      "94/94 [==============================] - 0s 4ms/step - loss: 0.4847 - accuracy: 0.7614 - val_loss: 0.4420 - val_accuracy: 0.8085\n",
      "Epoch 67/100\n",
      "94/94 [==============================] - 0s 4ms/step - loss: 0.5257 - accuracy: 0.7461 - val_loss: 0.5211 - val_accuracy: 0.8085\n",
      "Epoch 68/100\n",
      "94/94 [==============================] - 0s 4ms/step - loss: 0.5664 - accuracy: 0.7707 - val_loss: 0.4801 - val_accuracy: 0.8298\n",
      "Epoch 69/100\n",
      "94/94 [==============================] - 0s 5ms/step - loss: 0.5372 - accuracy: 0.7684 - val_loss: 0.5094 - val_accuracy: 0.8511\n",
      "Epoch 70/100\n",
      "94/94 [==============================] - 0s 5ms/step - loss: 0.4713 - accuracy: 0.8080 - val_loss: 0.4532 - val_accuracy: 0.7872\n",
      "Epoch 71/100\n",
      "94/94 [==============================] - 0s 5ms/step - loss: 0.5255 - accuracy: 0.6747 - val_loss: 0.4263 - val_accuracy: 0.8511\n",
      "Epoch 72/100\n",
      "94/94 [==============================] - 0s 5ms/step - loss: 0.4061 - accuracy: 0.8461 - val_loss: 0.4446 - val_accuracy: 0.8298\n",
      "Epoch 73/100\n",
      "94/94 [==============================] - 0s 5ms/step - loss: 0.3826 - accuracy: 0.8772 - val_loss: 0.4097 - val_accuracy: 0.8298\n",
      "Epoch 74/100\n",
      "94/94 [==============================] - 0s 5ms/step - loss: 0.4317 - accuracy: 0.7929 - val_loss: 0.4564 - val_accuracy: 0.8298\n",
      "Epoch 75/100\n",
      "94/94 [==============================] - 0s 5ms/step - loss: 0.4337 - accuracy: 0.8393 - val_loss: 0.4020 - val_accuracy: 0.8511\n",
      "Epoch 76/100\n",
      "94/94 [==============================] - 0s 5ms/step - loss: 0.5083 - accuracy: 0.7976 - val_loss: 0.3889 - val_accuracy: 0.8085\n",
      "Epoch 77/100\n",
      "94/94 [==============================] - 0s 4ms/step - loss: 0.5230 - accuracy: 0.7857 - val_loss: 0.3968 - val_accuracy: 0.8298\n",
      "Epoch 78/100\n",
      "94/94 [==============================] - 0s 5ms/step - loss: 0.4468 - accuracy: 0.8329 - val_loss: 0.4116 - val_accuracy: 0.8511\n",
      "Epoch 79/100\n",
      "94/94 [==============================] - 0s 5ms/step - loss: 0.4166 - accuracy: 0.8300 - val_loss: 0.4010 - val_accuracy: 0.8298\n",
      "Epoch 80/100\n",
      "94/94 [==============================] - 0s 5ms/step - loss: 0.4281 - accuracy: 0.7845 - val_loss: 0.3969 - val_accuracy: 0.8298\n",
      "Epoch 81/100\n",
      "94/94 [==============================] - 0s 5ms/step - loss: 0.5103 - accuracy: 0.7514 - val_loss: 0.5479 - val_accuracy: 0.8298\n",
      "Epoch 82/100\n",
      "94/94 [==============================] - 0s 5ms/step - loss: 0.6455 - accuracy: 0.7496 - val_loss: 0.4544 - val_accuracy: 0.8298\n",
      "Epoch 83/100\n",
      "94/94 [==============================] - 0s 4ms/step - loss: 0.4012 - accuracy: 0.8155 - val_loss: 0.4305 - val_accuracy: 0.8298\n",
      "Epoch 84/100\n",
      "94/94 [==============================] - 0s 4ms/step - loss: 0.4536 - accuracy: 0.7715 - val_loss: 0.4104 - val_accuracy: 0.8298\n",
      "Epoch 85/100\n",
      "94/94 [==============================] - 0s 5ms/step - loss: 0.4593 - accuracy: 0.8328 - val_loss: 0.4290 - val_accuracy: 0.8298\n",
      "Epoch 86/100\n",
      "94/94 [==============================] - 0s 5ms/step - loss: 0.4294 - accuracy: 0.8479 - val_loss: 0.4138 - val_accuracy: 0.8511\n",
      "Epoch 87/100\n",
      "94/94 [==============================] - 0s 4ms/step - loss: 0.4567 - accuracy: 0.8018 - val_loss: 0.4391 - val_accuracy: 0.8298\n",
      "Epoch 88/100\n",
      "94/94 [==============================] - 0s 4ms/step - loss: 0.4600 - accuracy: 0.7798 - val_loss: 0.4109 - val_accuracy: 0.8298\n",
      "Epoch 89/100\n",
      "94/94 [==============================] - 0s 4ms/step - loss: 0.5127 - accuracy: 0.7667 - val_loss: 0.4525 - val_accuracy: 0.8298\n",
      "Epoch 90/100\n",
      "94/94 [==============================] - 0s 3ms/step - loss: 0.4070 - accuracy: 0.8153 - val_loss: 0.4145 - val_accuracy: 0.8511\n",
      "Epoch 91/100\n",
      "94/94 [==============================] - 0s 3ms/step - loss: 0.4081 - accuracy: 0.7894 - val_loss: 0.4089 - val_accuracy: 0.8298\n",
      "Epoch 92/100\n",
      "94/94 [==============================] - 0s 5ms/step - loss: 0.4136 - accuracy: 0.8532 - val_loss: 0.5706 - val_accuracy: 0.8085\n",
      "Epoch 93/100\n",
      "94/94 [==============================] - 0s 5ms/step - loss: 0.5948 - accuracy: 0.7492 - val_loss: 0.4377 - val_accuracy: 0.8085\n",
      "Epoch 94/100\n",
      "94/94 [==============================] - 0s 4ms/step - loss: 0.3998 - accuracy: 0.8363 - val_loss: 0.4744 - val_accuracy: 0.8298\n",
      "Epoch 95/100\n",
      "94/94 [==============================] - 0s 4ms/step - loss: 0.3364 - accuracy: 0.8510 - val_loss: 0.6354 - val_accuracy: 0.7447\n",
      "Epoch 96/100\n",
      "94/94 [==============================] - 0s 4ms/step - loss: 0.4858 - accuracy: 0.7861 - val_loss: 0.4287 - val_accuracy: 0.8298\n",
      "Epoch 97/100\n",
      "94/94 [==============================] - 0s 3ms/step - loss: 0.4998 - accuracy: 0.7781 - val_loss: 0.4256 - val_accuracy: 0.8085\n",
      "Epoch 98/100\n",
      "94/94 [==============================] - 0s 3ms/step - loss: 0.4351 - accuracy: 0.7930 - val_loss: 0.5177 - val_accuracy: 0.7872\n",
      "Epoch 99/100\n",
      "94/94 [==============================] - 0s 4ms/step - loss: 0.4202 - accuracy: 0.7848 - val_loss: 0.4517 - val_accuracy: 0.8085\n",
      "Epoch 100/100\n",
      "94/94 [==============================] - 0s 4ms/step - loss: 0.4763 - accuracy: 0.7996 - val_loss: 0.4704 - val_accuracy: 0.8298\n"
     ]
    }
   ],
   "source": [
    "# Train the ANN\n",
    "history = model.fit(X_train, y_train, batch_size = 2, epochs = 100, validation_split=0.2)"
   ]
  },
  {
   "cell_type": "code",
   "execution_count": 53,
   "metadata": {},
   "outputs": [
    {
     "data": {
      "image/png": "[encoded data removed]",
      "text/plain": [
       "<Figure size 432x288 with 1 Axes>"
      ]
     },
     "metadata": {
      "needs_background": "light"
     },
     "output_type": "display_data"
    },
    {
     "data": {
      "image/png": "[encoded data removed]",
      "text/plain": [
       "<Figure size 432x288 with 1 Axes>"
      ]
     },
     "metadata": {
      "needs_background": "light"
     },
     "output_type": "display_data"
    }
   ],
   "source": [
    "history_df = pd.DataFrame(history.history)\n",
    "\n",
    "plt.plot(history_df.loc[:, ['loss']], \"#CD5C5C\", label='Training loss')\n",
    "plt.plot(history_df.loc[:, ['val_loss']],\"#FF0000\", label='Validation loss')\n",
    "plt.title('Training and Validation loss')\n",
    "plt.xlabel('Epochs')\n",
    "plt.ylabel('Loss')\n",
    "plt.legend(loc=\"best\")\n",
    "\n",
    "plt.show()\n",
    "\n",
    "history_df = pd.DataFrame(history.history)\n",
    "\n",
    "plt.plot(history_df.loc[:, ['accuracy']], \"#CD5C5C\", label='Training accuracy')\n",
    "plt.plot(history_df.loc[:, ['val_accuracy']],\"#FF0000\", label='Validation accuracy')\n",
    "\n",
    "plt.title('Training and Validation accuracy')\n",
    "plt.xlabel('Epochs')\n",
    "plt.ylabel('Accuracy')\n",
    "plt.legend()\n",
    "plt.show()"
   ]
  },
  {
   "cell_type": "code",
   "execution_count": 54,
   "metadata": {},
   "outputs": [],
   "source": [
    "# Predicting the test set results\n",
    "y_pred = model.predict(X_test)\n",
    "y_pred = (y_pred > 0.4)\n",
    "\n",
    "dnn_6_acc = accuracy_score(y_pred, y_test)\n",
    "dnn_6_prec = precision_score(y_pred, y_test,average='weighted')\n",
    "dnn_6_rec = recall_score(y_pred, y_test,average='weighted')\n",
    "dnn_6_f1 = f1_score(y_pred, y_test,average='weighted')\n",
    "dnn_6_spec = specificity_score(y_pred, y_test,average='weighted')\n",
    "dnn_6_sens = sensitivity_score(y_pred, y_test,average='weighted')"
   ]
  },
  {
   "cell_type": "code",
   "execution_count": 80,
   "metadata": {},
   "outputs": [],
   "source": [
    "storeResults1('DNN - 6 Layers',dnn_6_acc,dnn_6_prec,dnn_6_rec,dnn_6_f1,dnn_6_spec,dnn_6_sens)"
   ]
  },
  {
   "cell_type": "markdown",
   "metadata": {},
   "source": [
    "# 7 Layers"
   ]
  },
  {
   "cell_type": "code",
   "execution_count": 55,
   "metadata": {},
   "outputs": [],
   "source": [
    "# Initialising the NN\n",
    "model = Sequential()\n",
    "\n",
    "# layers\n",
    "model.add(Dense(units = 128, kernel_initializer = 'uniform', activation = 'relu', input_dim = 10))\n",
    "model.add(Dense(units = 64, kernel_initializer = 'uniform', activation = 'relu'))\n",
    "model.add(Dropout(0.25))\n",
    "model.add(Dense(units = 64, kernel_initializer = 'uniform', activation = 'relu'))\n",
    "model.add(Dropout(0.5))\n",
    "model.add(Dense(units = 32, kernel_initializer = 'uniform', activation = 'relu'))\n",
    "model.add(Dropout(0.5))\n",
    "model.add(Dense(units = 32, kernel_initializer = 'uniform', activation = 'relu'))\n",
    "model.add(Dropout(0.5))\n",
    "model.add(Dense(units = 16, kernel_initializer = 'uniform', activation = 'relu'))\n",
    "model.add(Dropout(0.5))\n",
    "model.add(Dense(units = 16, kernel_initializer = 'uniform', activation = 'relu'))\n",
    "model.add(Dropout(0.5))\n",
    "model.add(Dense(units = 1, kernel_initializer = 'uniform', activation = 'sigmoid'))\n",
    "\n",
    "# Compiling the ANN\n",
    "model.compile(optimizer = 'adam', loss = 'binary_crossentropy', metrics = ['accuracy'])"
   ]
  },
  {
   "cell_type": "code",
   "execution_count": 56,
   "metadata": {},
   "outputs": [
    {
     "name": "stdout",
     "output_type": "stream",
     "text": [
      "Epoch 1/100\n",
      "94/94 [==============================] - 7s 15ms/step - loss: 0.6919 - accuracy: 0.6392 - val_loss: 0.6899 - val_accuracy: 0.5745\n",
      "Epoch 2/100\n",
      "94/94 [==============================] - 0s 2ms/step - loss: 0.6843 - accuracy: 0.6416 - val_loss: 0.6954 - val_accuracy: 0.5745\n",
      "Epoch 3/100\n",
      "94/94 [==============================] - 0s 3ms/step - loss: 0.6767 - accuracy: 0.6500 - val_loss: 0.6881 - val_accuracy: 0.5745\n",
      "Epoch 4/100\n",
      "94/94 [==============================] - 0s 2ms/step - loss: 0.6692 - accuracy: 0.6059 - val_loss: 0.6883 - val_accuracy: 0.5745\n",
      "Epoch 5/100\n",
      "94/94 [==============================] - 0s 3ms/step - loss: 0.6562 - accuracy: 0.6515 - val_loss: 0.6848 - val_accuracy: 0.5745\n",
      "Epoch 6/100\n",
      "94/94 [==============================] - 0s 3ms/step - loss: 0.6815 - accuracy: 0.5975 - val_loss: 0.6843 - val_accuracy: 0.5745\n",
      "Epoch 7/100\n",
      "94/94 [==============================] - 0s 3ms/step - loss: 0.6718 - accuracy: 0.5985 - val_loss: 0.6852 - val_accuracy: 0.5745\n",
      "Epoch 8/100\n",
      "94/94 [==============================] - 0s 3ms/step - loss: 0.6616 - accuracy: 0.6007 - val_loss: 0.7130 - val_accuracy: 0.5745\n",
      "Epoch 9/100\n",
      "94/94 [==============================] - 0s 2ms/step - loss: 0.7177 - accuracy: 0.6169 - val_loss: 0.6799 - val_accuracy: 0.5745\n",
      "Epoch 10/100\n",
      "94/94 [==============================] - 0s 2ms/step - loss: 0.6208 - accuracy: 0.7290 - val_loss: 0.6943 - val_accuracy: 0.5745\n",
      "Epoch 11/100\n",
      "94/94 [==============================] - 0s 3ms/step - loss: 0.6362 - accuracy: 0.5676 - val_loss: 0.7353 - val_accuracy: 0.5745\n",
      "Epoch 12/100\n",
      "94/94 [==============================] - 0s 3ms/step - loss: 0.6250 - accuracy: 0.6218 - val_loss: 0.7003 - val_accuracy: 0.5745\n",
      "Epoch 13/100\n",
      "94/94 [==============================] - 0s 3ms/step - loss: 0.5673 - accuracy: 0.7206 - val_loss: 0.6814 - val_accuracy: 0.5745\n",
      "Epoch 14/100\n",
      "94/94 [==============================] - 0s 3ms/step - loss: 0.6461 - accuracy: 0.6432 - val_loss: 0.6936 - val_accuracy: 0.5745\n",
      "Epoch 15/100\n",
      "94/94 [==============================] - 0s 3ms/step - loss: 0.6639 - accuracy: 0.6016 - val_loss: 0.6720 - val_accuracy: 0.5745\n",
      "Epoch 16/100\n",
      "94/94 [==============================] - 0s 3ms/step - loss: 0.6604 - accuracy: 0.6043 - val_loss: 0.6811 - val_accuracy: 0.5745\n",
      "Epoch 17/100\n",
      "94/94 [==============================] - 0s 3ms/step - loss: 0.6511 - accuracy: 0.6201 - val_loss: 0.6882 - val_accuracy: 0.5745\n",
      "Epoch 18/100\n",
      "94/94 [==============================] - 0s 3ms/step - loss: 0.5968 - accuracy: 0.6582 - val_loss: 0.6670 - val_accuracy: 0.5745\n",
      "Epoch 19/100\n",
      "94/94 [==============================] - 0s 2ms/step - loss: 0.5993 - accuracy: 0.6181 - val_loss: 0.6660 - val_accuracy: 0.5745\n",
      "Epoch 20/100\n",
      "94/94 [==============================] - 0s 2ms/step - loss: 0.5748 - accuracy: 0.6442 - val_loss: 0.6685 - val_accuracy: 0.5745\n",
      "Epoch 21/100\n",
      "94/94 [==============================] - 0s 2ms/step - loss: 0.5939 - accuracy: 0.7041 - val_loss: 0.6654 - val_accuracy: 0.5745\n",
      "Epoch 22/100\n",
      "94/94 [==============================] - 0s 2ms/step - loss: 0.6171 - accuracy: 0.6579 - val_loss: 0.6411 - val_accuracy: 0.5745\n",
      "Epoch 23/100\n",
      "94/94 [==============================] - 0s 3ms/step - loss: 0.5736 - accuracy: 0.7062 - val_loss: 0.6382 - val_accuracy: 0.5745\n",
      "Epoch 24/100\n",
      "94/94 [==============================] - 0s 3ms/step - loss: 0.6198 - accuracy: 0.6161 - val_loss: 0.6552 - val_accuracy: 0.5745\n",
      "Epoch 25/100\n",
      "94/94 [==============================] - 0s 3ms/step - loss: 0.6010 - accuracy: 0.6367 - val_loss: 0.6338 - val_accuracy: 0.5745\n",
      "Epoch 26/100\n",
      "94/94 [==============================] - 0s 3ms/step - loss: 0.5976 - accuracy: 0.6250 - val_loss: 0.6182 - val_accuracy: 0.5745\n",
      "Epoch 27/100\n",
      "94/94 [==============================] - 0s 3ms/step - loss: 0.5945 - accuracy: 0.6822 - val_loss: 0.5891 - val_accuracy: 0.5745\n",
      "Epoch 28/100\n",
      "94/94 [==============================] - 0s 3ms/step - loss: 0.5864 - accuracy: 0.6414 - val_loss: 0.5815 - val_accuracy: 0.5745\n",
      "Epoch 29/100\n",
      "94/94 [==============================] - 0s 3ms/step - loss: 0.6247 - accuracy: 0.5588 - val_loss: 0.5939 - val_accuracy: 0.5745\n",
      "Epoch 30/100\n",
      "94/94 [==============================] - 0s 3ms/step - loss: 0.5640 - accuracy: 0.6489 - val_loss: 0.6017 - val_accuracy: 0.5745\n",
      "Epoch 31/100\n",
      "94/94 [==============================] - 0s 3ms/step - loss: 0.6816 - accuracy: 0.5758 - val_loss: 0.5730 - val_accuracy: 0.5745\n",
      "Epoch 32/100\n",
      "94/94 [==============================] - 0s 3ms/step - loss: 0.6506 - accuracy: 0.6087 - val_loss: 0.6326 - val_accuracy: 0.5745\n",
      "Epoch 33/100\n",
      "94/94 [==============================] - 0s 2ms/step - loss: 0.5766 - accuracy: 0.6508 - val_loss: 0.6404 - val_accuracy: 0.5745\n",
      "Epoch 34/100\n",
      "94/94 [==============================] - 0s 2ms/step - loss: 0.5783 - accuracy: 0.5932 - val_loss: 0.6233 - val_accuracy: 0.5745\n",
      "Epoch 35/100\n",
      "94/94 [==============================] - 0s 2ms/step - loss: 0.5730 - accuracy: 0.6283 - val_loss: 0.6736 - val_accuracy: 0.5745\n",
      "Epoch 36/100\n",
      "94/94 [==============================] - 0s 2ms/step - loss: 0.5973 - accuracy: 0.6107 - val_loss: 0.5942 - val_accuracy: 0.5745\n",
      "Epoch 37/100\n",
      "94/94 [==============================] - 0s 2ms/step - loss: 0.5593 - accuracy: 0.6549 - val_loss: 0.5882 - val_accuracy: 0.5745\n",
      "Epoch 38/100\n",
      "94/94 [==============================] - 0s 3ms/step - loss: 0.5524 - accuracy: 0.6437 - val_loss: 0.6493 - val_accuracy: 0.5745\n",
      "Epoch 39/100\n",
      "94/94 [==============================] - 0s 3ms/step - loss: 0.5570 - accuracy: 0.6298 - val_loss: 0.5467 - val_accuracy: 0.5745\n",
      "Epoch 40/100\n",
      "94/94 [==============================] - 0s 3ms/step - loss: 0.5622 - accuracy: 0.6177 - val_loss: 0.5579 - val_accuracy: 0.5745\n",
      "Epoch 41/100\n",
      "94/94 [==============================] - 0s 3ms/step - loss: 0.6039 - accuracy: 0.6283 - val_loss: 0.5581 - val_accuracy: 0.5745\n",
      "Epoch 42/100\n",
      "94/94 [==============================] - 0s 3ms/step - loss: 0.6370 - accuracy: 0.6266 - val_loss: 0.5731 - val_accuracy: 0.5745\n",
      "Epoch 43/100\n",
      "94/94 [==============================] - 0s 2ms/step - loss: 0.5227 - accuracy: 0.6476 - val_loss: 0.5536 - val_accuracy: 0.5745\n",
      "Epoch 44/100\n",
      "94/94 [==============================] - 0s 2ms/step - loss: 0.5480 - accuracy: 0.7256 - val_loss: 0.6543 - val_accuracy: 0.8511\n",
      "Epoch 45/100\n",
      "94/94 [==============================] - 0s 2ms/step - loss: 0.4949 - accuracy: 0.8203 - val_loss: 0.5888 - val_accuracy: 0.8298\n",
      "Epoch 46/100\n",
      "94/94 [==============================] - 0s 2ms/step - loss: 0.4964 - accuracy: 0.8093 - val_loss: 0.5568 - val_accuracy: 0.8298\n",
      "Epoch 47/100\n",
      "94/94 [==============================] - 0s 2ms/step - loss: 0.5264 - accuracy: 0.8097 - val_loss: 0.6263 - val_accuracy: 0.8085\n",
      "Epoch 48/100\n",
      "94/94 [==============================] - 0s 2ms/step - loss: 0.5571 - accuracy: 0.7211 - val_loss: 0.6838 - val_accuracy: 0.8511\n",
      "Epoch 49/100\n",
      "94/94 [==============================] - 0s 2ms/step - loss: 0.5392 - accuracy: 0.6644 - val_loss: 0.6636 - val_accuracy: 0.5532\n",
      "Epoch 50/100\n",
      "94/94 [==============================] - 0s 2ms/step - loss: 0.6230 - accuracy: 0.6345 - val_loss: 0.7000 - val_accuracy: 0.8085\n",
      "Epoch 51/100\n",
      "94/94 [==============================] - 0s 2ms/step - loss: 0.5624 - accuracy: 0.7897 - val_loss: 0.5870 - val_accuracy: 0.8298\n",
      "Epoch 52/100\n",
      "94/94 [==============================] - 0s 3ms/step - loss: 0.5283 - accuracy: 0.8309 - val_loss: 0.5928 - val_accuracy: 0.8085\n",
      "Epoch 53/100\n",
      "94/94 [==============================] - 0s 2ms/step - loss: 0.6219 - accuracy: 0.7580 - val_loss: 0.5796 - val_accuracy: 0.8085\n",
      "Epoch 54/100\n",
      "94/94 [==============================] - 0s 2ms/step - loss: 0.5199 - accuracy: 0.8100 - val_loss: 0.6154 - val_accuracy: 0.8085\n",
      "Epoch 55/100\n",
      "94/94 [==============================] - 0s 2ms/step - loss: 0.5857 - accuracy: 0.7953 - val_loss: 0.5774 - val_accuracy: 0.8085\n",
      "Epoch 56/100\n",
      "94/94 [==============================] - 0s 2ms/step - loss: 0.6252 - accuracy: 0.5754 - val_loss: 0.6606 - val_accuracy: 0.6809\n",
      "Epoch 57/100\n",
      "94/94 [==============================] - 0s 2ms/step - loss: 0.6659 - accuracy: 0.5493 - val_loss: 0.6146 - val_accuracy: 0.8298\n",
      "Epoch 58/100\n",
      "94/94 [==============================] - 0s 2ms/step - loss: 0.5898 - accuracy: 0.8011 - val_loss: 0.6601 - val_accuracy: 0.5957\n"
     ]
    },
    {
     "name": "stdout",
     "output_type": "stream",
     "text": [
      "Epoch 59/100\n",
      "94/94 [==============================] - 0s 2ms/step - loss: 0.6016 - accuracy: 0.6659 - val_loss: 0.5481 - val_accuracy: 0.8511\n",
      "Epoch 60/100\n",
      "94/94 [==============================] - 0s 2ms/step - loss: 0.5374 - accuracy: 0.7873 - val_loss: 0.5448 - val_accuracy: 0.8511\n",
      "Epoch 61/100\n",
      "94/94 [==============================] - 0s 2ms/step - loss: 0.5584 - accuracy: 0.7281 - val_loss: 0.6153 - val_accuracy: 0.8298\n",
      "Epoch 62/100\n",
      "94/94 [==============================] - 0s 2ms/step - loss: 0.5135 - accuracy: 0.7410 - val_loss: 0.5711 - val_accuracy: 0.8298\n",
      "Epoch 63/100\n",
      "94/94 [==============================] - 0s 2ms/step - loss: 0.4838 - accuracy: 0.7153 - val_loss: 0.6270 - val_accuracy: 0.6596\n",
      "Epoch 64/100\n",
      "94/94 [==============================] - 0s 2ms/step - loss: 0.5250 - accuracy: 0.7159 - val_loss: 0.5466 - val_accuracy: 0.8298\n",
      "Epoch 65/100\n",
      "94/94 [==============================] - 0s 2ms/step - loss: 0.4839 - accuracy: 0.8380 - val_loss: 0.5503 - val_accuracy: 0.8298\n",
      "Epoch 66/100\n",
      "94/94 [==============================] - 0s 2ms/step - loss: 0.5526 - accuracy: 0.7075 - val_loss: 0.6093 - val_accuracy: 0.8085\n",
      "Epoch 67/100\n",
      "94/94 [==============================] - 0s 2ms/step - loss: 0.4758 - accuracy: 0.7794 - val_loss: 0.5580 - val_accuracy: 0.8298\n",
      "Epoch 68/100\n",
      "94/94 [==============================] - 0s 2ms/step - loss: 0.5515 - accuracy: 0.7108 - val_loss: 0.6178 - val_accuracy: 0.7021\n",
      "Epoch 69/100\n",
      "94/94 [==============================] - 0s 2ms/step - loss: 0.5976 - accuracy: 0.6380 - val_loss: 0.5644 - val_accuracy: 0.8085\n",
      "Epoch 70/100\n",
      "94/94 [==============================] - 0s 2ms/step - loss: 0.4888 - accuracy: 0.8168 - val_loss: 0.6201 - val_accuracy: 0.6809\n",
      "Epoch 71/100\n",
      "94/94 [==============================] - 0s 2ms/step - loss: 0.5253 - accuracy: 0.7628 - val_loss: 0.6097 - val_accuracy: 0.8085\n",
      "Epoch 72/100\n",
      "94/94 [==============================] - 0s 2ms/step - loss: 0.5821 - accuracy: 0.8090 - val_loss: 0.5482 - val_accuracy: 0.8085\n",
      "Epoch 73/100\n",
      "94/94 [==============================] - 0s 2ms/step - loss: 0.5090 - accuracy: 0.8097 - val_loss: 0.5610 - val_accuracy: 0.8511\n",
      "Epoch 74/100\n",
      "94/94 [==============================] - 0s 2ms/step - loss: 0.4607 - accuracy: 0.8408 - val_loss: 0.5520 - val_accuracy: 0.8298\n",
      "Epoch 75/100\n",
      "94/94 [==============================] - 0s 2ms/step - loss: 0.5144 - accuracy: 0.8183 - val_loss: 0.5276 - val_accuracy: 0.8511\n",
      "Epoch 76/100\n",
      "94/94 [==============================] - 0s 3ms/step - loss: 0.5084 - accuracy: 0.7740 - val_loss: 0.5412 - val_accuracy: 0.8298\n",
      "Epoch 77/100\n",
      "94/94 [==============================] - 0s 3ms/step - loss: 0.5654 - accuracy: 0.6537 - val_loss: 0.7015 - val_accuracy: 0.5106\n",
      "Epoch 78/100\n",
      "94/94 [==============================] - 0s 3ms/step - loss: 0.6999 - accuracy: 0.5438 - val_loss: 0.6359 - val_accuracy: 0.6383\n",
      "Epoch 79/100\n",
      "94/94 [==============================] - 0s 3ms/step - loss: 0.5786 - accuracy: 0.6713 - val_loss: 0.5596 - val_accuracy: 0.8085\n",
      "Epoch 80/100\n",
      "94/94 [==============================] - 0s 3ms/step - loss: 0.5824 - accuracy: 0.7110 - val_loss: 0.5421 - val_accuracy: 0.8298\n",
      "Epoch 81/100\n",
      "94/94 [==============================] - 0s 3ms/step - loss: 0.4806 - accuracy: 0.8185 - val_loss: 0.5387 - val_accuracy: 0.8085\n",
      "Epoch 82/100\n",
      "94/94 [==============================] - 0s 3ms/step - loss: 0.4648 - accuracy: 0.7869 - val_loss: 0.5345 - val_accuracy: 0.8298\n",
      "Epoch 83/100\n",
      "94/94 [==============================] - 0s 3ms/step - loss: 0.5097 - accuracy: 0.7821 - val_loss: 0.6284 - val_accuracy: 0.8085\n",
      "Epoch 84/100\n",
      "94/94 [==============================] - 0s 3ms/step - loss: 0.4306 - accuracy: 0.8885 - val_loss: 0.5187 - val_accuracy: 0.8511\n",
      "Epoch 85/100\n",
      "94/94 [==============================] - 0s 3ms/step - loss: 0.4985 - accuracy: 0.7832 - val_loss: 0.5445 - val_accuracy: 0.8511\n",
      "Epoch 86/100\n",
      "94/94 [==============================] - 0s 3ms/step - loss: 0.5237 - accuracy: 0.7389 - val_loss: 0.6479 - val_accuracy: 0.8298\n",
      "Epoch 87/100\n",
      "94/94 [==============================] - 0s 2ms/step - loss: 0.5167 - accuracy: 0.8222 - val_loss: 0.5073 - val_accuracy: 0.8511\n",
      "Epoch 88/100\n",
      "94/94 [==============================] - 0s 2ms/step - loss: 0.4793 - accuracy: 0.8212 - val_loss: 0.5768 - val_accuracy: 0.8298\n",
      "Epoch 89/100\n",
      "94/94 [==============================] - 0s 2ms/step - loss: 0.5350 - accuracy: 0.8233 - val_loss: 0.5502 - val_accuracy: 0.8298\n",
      "Epoch 90/100\n",
      "94/94 [==============================] - 0s 3ms/step - loss: 0.5289 - accuracy: 0.7559 - val_loss: 0.5740 - val_accuracy: 0.8085\n",
      "Epoch 91/100\n",
      "94/94 [==============================] - 0s 3ms/step - loss: 0.4411 - accuracy: 0.8149 - val_loss: 0.5090 - val_accuracy: 0.8511\n",
      "Epoch 92/100\n",
      "94/94 [==============================] - 0s 3ms/step - loss: 0.5196 - accuracy: 0.7776 - val_loss: 0.5409 - val_accuracy: 0.8298\n",
      "Epoch 93/100\n",
      "94/94 [==============================] - 0s 4ms/step - loss: 0.4738 - accuracy: 0.8466 - val_loss: 0.6232 - val_accuracy: 0.8298\n",
      "Epoch 94/100\n",
      "94/94 [==============================] - 0s 3ms/step - loss: 0.4792 - accuracy: 0.7686 - val_loss: 0.8759 - val_accuracy: 0.7660\n",
      "Epoch 95/100\n",
      "94/94 [==============================] - 0s 3ms/step - loss: 0.3973 - accuracy: 0.8604 - val_loss: 0.8689 - val_accuracy: 0.7872\n",
      "Epoch 96/100\n",
      "94/94 [==============================] - 0s 3ms/step - loss: 0.5545 - accuracy: 0.7100 - val_loss: 0.7265 - val_accuracy: 0.8298\n",
      "Epoch 97/100\n",
      "94/94 [==============================] - 0s 3ms/step - loss: 0.5875 - accuracy: 0.8332 - val_loss: 0.5349 - val_accuracy: 0.8511\n",
      "Epoch 98/100\n",
      "94/94 [==============================] - 0s 3ms/step - loss: 0.4960 - accuracy: 0.8095 - val_loss: 0.5053 - val_accuracy: 0.8298\n",
      "Epoch 99/100\n",
      "94/94 [==============================] - 0s 3ms/step - loss: 0.4475 - accuracy: 0.8213 - val_loss: 0.6278 - val_accuracy: 0.8298\n",
      "Epoch 100/100\n",
      "94/94 [==============================] - 0s 3ms/step - loss: 0.5569 - accuracy: 0.8050 - val_loss: 0.6577 - val_accuracy: 0.7234\n"
     ]
    }
   ],
   "source": [
    "# Train the ANN\n",
    "history = model.fit(X_train, y_train, batch_size = 2, epochs = 100, validation_split=0.2)"
   ]
  },
  {
   "cell_type": "code",
   "execution_count": 57,
   "metadata": {},
   "outputs": [
    {
     "data": {
      "image/png": "[encoded data removed]",
      "text/plain": [
       "<Figure size 432x288 with 1 Axes>"
      ]
     },
     "metadata": {
      "needs_background": "light"
     },
     "output_type": "display_data"
    },
    {
     "data": {
      "image/png": "[encoded data removed]",
      "text/plain": [
       "<Figure size 432x288 with 1 Axes>"
      ]
     },
     "metadata": {
      "needs_background": "light"
     },
     "output_type": "display_data"
    }
   ],
   "source": [
    "history_df = pd.DataFrame(history.history)\n",
    "\n",
    "plt.plot(history_df.loc[:, ['loss']], \"#CD5C5C\", label='Training loss')\n",
    "plt.plot(history_df.loc[:, ['val_loss']],\"#FF0000\", label='Validation loss')\n",
    "plt.title('Training and Validation loss')\n",
    "plt.xlabel('Epochs')\n",
    "plt.ylabel('Loss')\n",
    "plt.legend(loc=\"best\")\n",
    "\n",
    "plt.show()\n",
    "\n",
    "history_df = pd.DataFrame(history.history)\n",
    "\n",
    "plt.plot(history_df.loc[:, ['accuracy']], \"#CD5C5C\", label='Training accuracy')\n",
    "plt.plot(history_df.loc[:, ['val_accuracy']],\"#FF0000\", label='Validation accuracy')\n",
    "\n",
    "plt.title('Training and Validation accuracy')\n",
    "plt.xlabel('Epochs')\n",
    "plt.ylabel('Accuracy')\n",
    "plt.legend()\n",
    "plt.show()"
   ]
  },
  {
   "cell_type": "code",
   "execution_count": 58,
   "metadata": {},
   "outputs": [
    {
     "name": "stdout",
     "output_type": "stream",
     "text": [
      "WARNING:tensorflow:5 out of the last 5 calls to <function Model.make_predict_function.<locals>.predict_function at 0x0000018AE7E8EEE8> triggered tf.function retracing. Tracing is expensive and the excessive number of tracings could be due to (1) creating @tf.function repeatedly in a loop, (2) passing tensors with different shapes, (3) passing Python objects instead of tensors. For (1), please define your @tf.function outside of the loop. For (2), @tf.function has experimental_relax_shapes=True option that relaxes argument shapes that can avoid unnecessary retracing. For (3), please refer to https://www.tensorflow.org/guide/function#controlling_retracing and https://www.tensorflow.org/api_docs/python/tf/function for  more details.\n"
     ]
    }
   ],
   "source": [
    "# Predicting the test set results\n",
    "y_pred = model.predict(X_test)\n",
    "y_pred = (y_pred > 0.4)\n",
    "\n",
    "dnn_7_acc = accuracy_score(y_pred, y_test)\n",
    "dnn_7_prec = precision_score(y_pred, y_test,average='weighted')\n",
    "dnn_7_rec = recall_score(y_pred, y_test,average='weighted')\n",
    "dnn_7_f1 = f1_score(y_pred, y_test,average='weighted')\n",
    "dnn_7_spec = specificity_score(y_pred, y_test,average='weighted')\n",
    "dnn_7_sens = sensitivity_score(y_pred, y_test,average='weighted')"
   ]
  },
  {
   "cell_type": "code",
   "execution_count": 81,
   "metadata": {},
   "outputs": [],
   "source": [
    "storeResults1('DNN - 7 Layers',dnn_7_acc,dnn_7_prec,dnn_7_rec,dnn_7_f1,dnn_7_spec,dnn_7_sens)"
   ]
  },
  {
   "cell_type": "markdown",
   "metadata": {},
   "source": [
    "# 8 Layers"
   ]
  },
  {
   "cell_type": "code",
   "execution_count": 59,
   "metadata": {},
   "outputs": [],
   "source": [
    "# Initialising the NN\n",
    "model = Sequential()\n",
    "\n",
    "# layers\n",
    "model.add(Dense(units = 128, kernel_initializer = 'uniform', activation = 'relu', input_dim = 10))\n",
    "model.add(Dense(units = 64, kernel_initializer = 'uniform', activation = 'relu'))\n",
    "model.add(Dropout(0.25))\n",
    "model.add(Dense(units = 64, kernel_initializer = 'uniform', activation = 'relu'))\n",
    "model.add(Dropout(0.5))\n",
    "model.add(Dense(units = 32, kernel_initializer = 'uniform', activation = 'relu'))\n",
    "model.add(Dropout(0.5))\n",
    "model.add(Dense(units = 32, kernel_initializer = 'uniform', activation = 'relu'))\n",
    "model.add(Dropout(0.5))\n",
    "model.add(Dense(units = 16, kernel_initializer = 'uniform', activation = 'relu'))\n",
    "model.add(Dropout(0.5))\n",
    "model.add(Dense(units = 16, kernel_initializer = 'uniform', activation = 'relu'))\n",
    "model.add(Dropout(0.5))\n",
    "model.add(Dense(units = 8, kernel_initializer = 'uniform', activation = 'relu'))\n",
    "model.add(Dropout(0.5))\n",
    "model.add(Dense(units = 1, kernel_initializer = 'uniform', activation = 'sigmoid'))\n",
    "\n",
    "# Compiling the ANN\n",
    "model.compile(optimizer = 'adam', loss = 'binary_crossentropy', metrics = ['accuracy'])"
   ]
  },
  {
   "cell_type": "code",
   "execution_count": 60,
   "metadata": {},
   "outputs": [
    {
     "name": "stdout",
     "output_type": "stream",
     "text": [
      "Epoch 1/100\n",
      "94/94 [==============================] - 6s 15ms/step - loss: 0.6917 - accuracy: 0.6816 - val_loss: 0.6905 - val_accuracy: 0.5745\n",
      "Epoch 2/100\n",
      "94/94 [==============================] - 0s 2ms/step - loss: 0.6865 - accuracy: 0.6484 - val_loss: 0.6883 - val_accuracy: 0.5745\n",
      "Epoch 3/100\n",
      "94/94 [==============================] - 0s 3ms/step - loss: 0.6900 - accuracy: 0.5467 - val_loss: 0.6863 - val_accuracy: 0.5745\n",
      "Epoch 4/100\n",
      "94/94 [==============================] - 0s 3ms/step - loss: 0.6885 - accuracy: 0.5597 - val_loss: 0.6847 - val_accuracy: 0.5745\n",
      "Epoch 5/100\n",
      "94/94 [==============================] - 0s 3ms/step - loss: 0.6707 - accuracy: 0.6333 - val_loss: 0.6836 - val_accuracy: 0.5745\n",
      "Epoch 6/100\n",
      "94/94 [==============================] - 0s 3ms/step - loss: 0.6610 - accuracy: 0.6776 - val_loss: 0.6828 - val_accuracy: 0.5745\n",
      "Epoch 7/100\n",
      "94/94 [==============================] - 0s 3ms/step - loss: 0.6363 - accuracy: 0.7080 - val_loss: 0.7010 - val_accuracy: 0.5745\n",
      "Epoch 8/100\n",
      "94/94 [==============================] - 0s 3ms/step - loss: 0.6374 - accuracy: 0.7043 - val_loss: 0.6929 - val_accuracy: 0.5745\n",
      "Epoch 9/100\n",
      "94/94 [==============================] - 0s 3ms/step - loss: 0.6059 - accuracy: 0.7074 - val_loss: 0.7228 - val_accuracy: 0.5745\n",
      "Epoch 10/100\n",
      "94/94 [==============================] - 0s 3ms/step - loss: 0.6896 - accuracy: 0.6370 - val_loss: 0.6815 - val_accuracy: 0.5745\n",
      "Epoch 11/100\n",
      "94/94 [==============================] - 0s 4ms/step - loss: 0.6538 - accuracy: 0.5893 - val_loss: 0.7060 - val_accuracy: 0.5745\n",
      "Epoch 12/100\n",
      "94/94 [==============================] - 0s 2ms/step - loss: 0.6573 - accuracy: 0.5799 - val_loss: 0.6795 - val_accuracy: 0.5745\n",
      "Epoch 13/100\n",
      "94/94 [==============================] - 0s 2ms/step - loss: 0.6544 - accuracy: 0.6394 - val_loss: 0.6772 - val_accuracy: 0.5745\n",
      "Epoch 14/100\n",
      "94/94 [==============================] - 0s 2ms/step - loss: 0.6125 - accuracy: 0.6177 - val_loss: 0.6806 - val_accuracy: 0.5745\n",
      "Epoch 15/100\n",
      "94/94 [==============================] - 0s 3ms/step - loss: 0.6309 - accuracy: 0.6258 - val_loss: 0.6760 - val_accuracy: 0.5745\n",
      "Epoch 16/100\n",
      "94/94 [==============================] - 0s 3ms/step - loss: 0.6087 - accuracy: 0.6747 - val_loss: 0.6714 - val_accuracy: 0.5745\n",
      "Epoch 17/100\n",
      "94/94 [==============================] - 0s 3ms/step - loss: 0.6678 - accuracy: 0.5946 - val_loss: 0.6739 - val_accuracy: 0.5745\n",
      "Epoch 18/100\n",
      "94/94 [==============================] - 0s 3ms/step - loss: 0.6793 - accuracy: 0.5880 - val_loss: 0.6657 - val_accuracy: 0.5745\n",
      "Epoch 19/100\n",
      "94/94 [==============================] - 0s 3ms/step - loss: 0.6377 - accuracy: 0.6537 - val_loss: 0.6700 - val_accuracy: 0.5745\n",
      "Epoch 20/100\n",
      "94/94 [==============================] - 0s 3ms/step - loss: 0.6250 - accuracy: 0.6322 - val_loss: 0.6673 - val_accuracy: 0.5745\n",
      "Epoch 21/100\n",
      "94/94 [==============================] - 0s 3ms/step - loss: 0.6111 - accuracy: 0.6438 - val_loss: 0.6804 - val_accuracy: 0.5745\n",
      "Epoch 22/100\n",
      "94/94 [==============================] - 0s 3ms/step - loss: 0.7262 - accuracy: 0.6546 - val_loss: 0.6606 - val_accuracy: 0.5745\n",
      "Epoch 23/100\n",
      "94/94 [==============================] - 0s 2ms/step - loss: 0.6446 - accuracy: 0.6423 - val_loss: 0.6576 - val_accuracy: 0.5745\n",
      "Epoch 24/100\n",
      "94/94 [==============================] - 0s 2ms/step - loss: 0.6215 - accuracy: 0.6601 - val_loss: 0.6514 - val_accuracy: 0.5745\n",
      "Epoch 25/100\n",
      "94/94 [==============================] - 0s 2ms/step - loss: 0.6351 - accuracy: 0.6464 - val_loss: 0.6658 - val_accuracy: 0.5745\n",
      "Epoch 26/100\n",
      "94/94 [==============================] - 0s 3ms/step - loss: 0.6417 - accuracy: 0.5893 - val_loss: 0.6699 - val_accuracy: 0.5745\n",
      "Epoch 27/100\n",
      "94/94 [==============================] - 0s 3ms/step - loss: 0.5681 - accuracy: 0.7007 - val_loss: 0.6397 - val_accuracy: 0.5745\n",
      "Epoch 28/100\n",
      "94/94 [==============================] - 0s 3ms/step - loss: 0.6527 - accuracy: 0.6689 - val_loss: 0.6593 - val_accuracy: 0.5745\n",
      "Epoch 29/100\n",
      "94/94 [==============================] - 0s 4ms/step - loss: 0.6223 - accuracy: 0.6300 - val_loss: 0.6680 - val_accuracy: 0.5745\n",
      "Epoch 30/100\n",
      "94/94 [==============================] - 0s 4ms/step - loss: 0.6385 - accuracy: 0.6180 - val_loss: 0.6782 - val_accuracy: 0.5745\n",
      "Epoch 31/100\n",
      "94/94 [==============================] - 0s 3ms/step - loss: 0.6401 - accuracy: 0.6356 - val_loss: 0.6263 - val_accuracy: 0.5745\n",
      "Epoch 32/100\n",
      "94/94 [==============================] - 0s 3ms/step - loss: 0.6302 - accuracy: 0.6396 - val_loss: 0.6352 - val_accuracy: 0.5745\n",
      "Epoch 33/100\n",
      "94/94 [==============================] - 0s 3ms/step - loss: 0.5534 - accuracy: 0.6477 - val_loss: 0.6264 - val_accuracy: 0.5745\n",
      "Epoch 34/100\n",
      "94/94 [==============================] - 0s 3ms/step - loss: 0.5317 - accuracy: 0.7433 - val_loss: 0.6387 - val_accuracy: 0.5745\n",
      "Epoch 35/100\n",
      "94/94 [==============================] - 0s 3ms/step - loss: 0.6566 - accuracy: 0.6438 - val_loss: 0.6254 - val_accuracy: 0.5745\n",
      "Epoch 36/100\n",
      "94/94 [==============================] - 0s 3ms/step - loss: 0.5649 - accuracy: 0.6734 - val_loss: 0.6524 - val_accuracy: 0.5745\n",
      "Epoch 37/100\n",
      "94/94 [==============================] - 0s 2ms/step - loss: 0.6027 - accuracy: 0.6590 - val_loss: 0.5865 - val_accuracy: 0.5745\n",
      "Epoch 38/100\n",
      "94/94 [==============================] - 0s 2ms/step - loss: 0.5703 - accuracy: 0.6372 - val_loss: 0.5920 - val_accuracy: 0.5745\n",
      "Epoch 39/100\n",
      "94/94 [==============================] - 0s 3ms/step - loss: 0.5788 - accuracy: 0.6709 - val_loss: 0.5860 - val_accuracy: 0.5745\n",
      "Epoch 40/100\n",
      "94/94 [==============================] - 0s 2ms/step - loss: 0.5655 - accuracy: 0.6344 - val_loss: 0.5705 - val_accuracy: 0.5745\n",
      "Epoch 41/100\n",
      "94/94 [==============================] - 0s 3ms/step - loss: 0.5824 - accuracy: 0.6403 - val_loss: 0.6620 - val_accuracy: 0.5745\n",
      "Epoch 42/100\n",
      "94/94 [==============================] - 0s 3ms/step - loss: 0.6395 - accuracy: 0.6134 - val_loss: 0.5700 - val_accuracy: 0.5745\n",
      "Epoch 43/100\n",
      "94/94 [==============================] - 0s 3ms/step - loss: 0.5634 - accuracy: 0.6113 - val_loss: 0.5607 - val_accuracy: 0.5745\n",
      "Epoch 44/100\n",
      "94/94 [==============================] - 0s 3ms/step - loss: 0.6183 - accuracy: 0.5998 - val_loss: 0.6844 - val_accuracy: 0.5745\n",
      "Epoch 45/100\n",
      "94/94 [==============================] - 0s 3ms/step - loss: 0.6642 - accuracy: 0.6520 - val_loss: 0.6706 - val_accuracy: 0.5745\n",
      "Epoch 46/100\n",
      "94/94 [==============================] - 0s 3ms/step - loss: 0.6544 - accuracy: 0.6289 - val_loss: 0.6275 - val_accuracy: 0.5745\n",
      "Epoch 47/100\n",
      "94/94 [==============================] - 0s 3ms/step - loss: 0.6050 - accuracy: 0.6088 - val_loss: 0.5883 - val_accuracy: 0.5745\n",
      "Epoch 48/100\n",
      "94/94 [==============================] - 0s 3ms/step - loss: 0.5439 - accuracy: 0.6395 - val_loss: 0.6190 - val_accuracy: 0.5745\n",
      "Epoch 49/100\n",
      "94/94 [==============================] - 0s 3ms/step - loss: 0.6269 - accuracy: 0.5744 - val_loss: 0.6250 - val_accuracy: 0.5745\n",
      "Epoch 50/100\n",
      "94/94 [==============================] - 0s 2ms/step - loss: 0.8249 - accuracy: 0.6081 - val_loss: 0.5789 - val_accuracy: 0.5745\n",
      "Epoch 51/100\n",
      "94/94 [==============================] - 0s 2ms/step - loss: 0.5744 - accuracy: 0.6638 - val_loss: 0.6002 - val_accuracy: 0.5745\n",
      "Epoch 52/100\n",
      "94/94 [==============================] - 0s 2ms/step - loss: 0.6063 - accuracy: 0.6468 - val_loss: 0.5639 - val_accuracy: 0.5745\n",
      "Epoch 53/100\n",
      "94/94 [==============================] - 0s 2ms/step - loss: 0.6192 - accuracy: 0.5932 - val_loss: 0.5723 - val_accuracy: 0.5745\n",
      "Epoch 54/100\n",
      "94/94 [==============================] - 0s 2ms/step - loss: 0.5336 - accuracy: 0.6717 - val_loss: 0.5575 - val_accuracy: 0.5745\n",
      "Epoch 55/100\n",
      "94/94 [==============================] - 0s 2ms/step - loss: 0.6600 - accuracy: 0.6601 - val_loss: 0.6000 - val_accuracy: 0.5745\n",
      "Epoch 56/100\n",
      "94/94 [==============================] - 0s 2ms/step - loss: 0.6401 - accuracy: 0.5931 - val_loss: 0.5667 - val_accuracy: 0.5745\n",
      "Epoch 57/100\n",
      "94/94 [==============================] - 0s 3ms/step - loss: 0.5877 - accuracy: 0.6507 - val_loss: 0.6321 - val_accuracy: 0.5745\n",
      "Epoch 58/100\n",
      "94/94 [==============================] - 0s 3ms/step - loss: 0.6858 - accuracy: 0.6296 - val_loss: 0.6272 - val_accuracy: 0.5745\n"
     ]
    },
    {
     "name": "stdout",
     "output_type": "stream",
     "text": [
      "Epoch 59/100\n",
      "94/94 [==============================] - 0s 3ms/step - loss: 0.6362 - accuracy: 0.6197 - val_loss: 0.6456 - val_accuracy: 0.5745\n",
      "Epoch 60/100\n",
      "94/94 [==============================] - 0s 2ms/step - loss: 0.5674 - accuracy: 0.6868 - val_loss: 0.6281 - val_accuracy: 0.5745\n",
      "Epoch 61/100\n",
      "94/94 [==============================] - 0s 2ms/step - loss: 0.6479 - accuracy: 0.5997 - val_loss: 0.6225 - val_accuracy: 0.5745\n",
      "Epoch 62/100\n",
      "94/94 [==============================] - 0s 2ms/step - loss: 0.5958 - accuracy: 0.5944 - val_loss: 0.5997 - val_accuracy: 0.5745\n",
      "Epoch 63/100\n",
      "94/94 [==============================] - 0s 2ms/step - loss: 0.5566 - accuracy: 0.6668 - val_loss: 0.5762 - val_accuracy: 0.5745\n",
      "Epoch 64/100\n",
      "94/94 [==============================] - 0s 2ms/step - loss: 0.5594 - accuracy: 0.6247 - val_loss: 0.5687 - val_accuracy: 0.5745\n",
      "Epoch 65/100\n",
      "94/94 [==============================] - 0s 2ms/step - loss: 0.5291 - accuracy: 0.6918 - val_loss: 0.6377 - val_accuracy: 0.5745\n",
      "Epoch 66/100\n",
      "94/94 [==============================] - 0s 2ms/step - loss: 0.5622 - accuracy: 0.6243 - val_loss: 0.5748 - val_accuracy: 0.5745\n",
      "Epoch 67/100\n",
      "94/94 [==============================] - 0s 2ms/step - loss: 0.5041 - accuracy: 0.6490 - val_loss: 0.5585 - val_accuracy: 0.5745\n",
      "Epoch 68/100\n",
      "94/94 [==============================] - 0s 2ms/step - loss: 0.4779 - accuracy: 0.6518 - val_loss: 0.5832 - val_accuracy: 0.5745\n",
      "Epoch 69/100\n",
      "94/94 [==============================] - 0s 2ms/step - loss: 0.6073 - accuracy: 0.5999 - val_loss: 0.6042 - val_accuracy: 0.5745\n",
      "Epoch 70/100\n",
      "94/94 [==============================] - 0s 2ms/step - loss: 0.4633 - accuracy: 0.6695 - val_loss: 0.6019 - val_accuracy: 0.5745\n",
      "Epoch 71/100\n",
      "94/94 [==============================] - 0s 2ms/step - loss: 0.5353 - accuracy: 0.7441 - val_loss: 0.5635 - val_accuracy: 0.8298\n",
      "Epoch 72/100\n",
      "94/94 [==============================] - 0s 2ms/step - loss: 0.5430 - accuracy: 0.7436 - val_loss: 0.5441 - val_accuracy: 0.8298\n",
      "Epoch 73/100\n",
      "94/94 [==============================] - 0s 2ms/step - loss: 0.6154 - accuracy: 0.7608 - val_loss: 0.5686 - val_accuracy: 0.8085\n",
      "Epoch 74/100\n",
      "94/94 [==============================] - 0s 2ms/step - loss: 0.5355 - accuracy: 0.8171 - val_loss: 0.5518 - val_accuracy: 0.8298\n",
      "Epoch 75/100\n",
      "94/94 [==============================] - 0s 2ms/step - loss: 0.5788 - accuracy: 0.6893 - val_loss: 0.5945 - val_accuracy: 0.8298\n",
      "Epoch 76/100\n",
      "94/94 [==============================] - 0s 2ms/step - loss: 0.5614 - accuracy: 0.7904 - val_loss: 0.5490 - val_accuracy: 0.8298\n",
      "Epoch 77/100\n",
      "94/94 [==============================] - 0s 2ms/step - loss: 0.5552 - accuracy: 0.8065 - val_loss: 0.5406 - val_accuracy: 0.8298\n",
      "Epoch 78/100\n",
      "94/94 [==============================] - 0s 2ms/step - loss: 0.4853 - accuracy: 0.8648 - val_loss: 0.5499 - val_accuracy: 0.8298\n",
      "Epoch 79/100\n",
      "94/94 [==============================] - 0s 2ms/step - loss: 0.5448 - accuracy: 0.8155 - val_loss: 0.5467 - val_accuracy: 0.8298\n",
      "Epoch 80/100\n",
      "94/94 [==============================] - 0s 3ms/step - loss: 0.5308 - accuracy: 0.8021 - val_loss: 0.5961 - val_accuracy: 0.8298\n",
      "Epoch 81/100\n",
      "94/94 [==============================] - 0s 2ms/step - loss: 0.6215 - accuracy: 0.7903 - val_loss: 0.5466 - val_accuracy: 0.8298\n",
      "Epoch 82/100\n",
      "94/94 [==============================] - 0s 2ms/step - loss: 0.5280 - accuracy: 0.8369 - val_loss: 0.5542 - val_accuracy: 0.8298\n",
      "Epoch 83/100\n",
      "94/94 [==============================] - 0s 2ms/step - loss: 0.5713 - accuracy: 0.7837 - val_loss: 0.5758 - val_accuracy: 0.7660\n",
      "Epoch 84/100\n",
      "94/94 [==============================] - 0s 2ms/step - loss: 0.5141 - accuracy: 0.8093 - val_loss: 0.5880 - val_accuracy: 0.7021\n",
      "Epoch 85/100\n",
      "94/94 [==============================] - 0s 2ms/step - loss: 0.5621 - accuracy: 0.6441 - val_loss: 0.7355 - val_accuracy: 0.8511\n",
      "Epoch 86/100\n",
      "94/94 [==============================] - 0s 2ms/step - loss: 0.5188 - accuracy: 0.7850 - val_loss: 0.5431 - val_accuracy: 0.8298\n",
      "Epoch 87/100\n",
      "94/94 [==============================] - 0s 2ms/step - loss: 0.5080 - accuracy: 0.7779 - val_loss: 0.5561 - val_accuracy: 0.8298\n",
      "Epoch 88/100\n",
      "94/94 [==============================] - 0s 3ms/step - loss: 0.5120 - accuracy: 0.7296 - val_loss: 0.5358 - val_accuracy: 0.8511\n",
      "Epoch 89/100\n",
      "94/94 [==============================] - 0s 3ms/step - loss: 0.4866 - accuracy: 0.8532 - val_loss: 0.5367 - val_accuracy: 0.8723\n",
      "Epoch 90/100\n",
      "94/94 [==============================] - 0s 3ms/step - loss: 0.5819 - accuracy: 0.7742 - val_loss: 0.6907 - val_accuracy: 0.4894\n",
      "Epoch 91/100\n",
      "94/94 [==============================] - 0s 3ms/step - loss: 0.6542 - accuracy: 0.5112 - val_loss: 0.5720 - val_accuracy: 0.8085\n",
      "Epoch 92/100\n",
      "94/94 [==============================] - 0s 3ms/step - loss: 0.5743 - accuracy: 0.7099 - val_loss: 0.6520 - val_accuracy: 0.8511\n",
      "Epoch 93/100\n",
      "94/94 [==============================] - 0s 3ms/step - loss: 0.5067 - accuracy: 0.8273 - val_loss: 1.0576 - val_accuracy: 0.8085\n",
      "Epoch 94/100\n",
      "94/94 [==============================] - 0s 3ms/step - loss: 0.5658 - accuracy: 0.7633 - val_loss: 0.6024 - val_accuracy: 0.8298\n",
      "Epoch 95/100\n",
      "94/94 [==============================] - 0s 3ms/step - loss: 0.5284 - accuracy: 0.7394 - val_loss: 0.5135 - val_accuracy: 0.8511\n",
      "Epoch 96/100\n",
      "94/94 [==============================] - 0s 3ms/step - loss: 0.4730 - accuracy: 0.8557 - val_loss: 0.6830 - val_accuracy: 0.5106\n",
      "Epoch 97/100\n",
      "94/94 [==============================] - 0s 3ms/step - loss: 0.6757 - accuracy: 0.4080 - val_loss: 0.6457 - val_accuracy: 0.5745\n",
      "Epoch 98/100\n",
      "94/94 [==============================] - 0s 3ms/step - loss: 0.6131 - accuracy: 0.6416 - val_loss: 0.5400 - val_accuracy: 0.8298\n",
      "Epoch 99/100\n",
      "94/94 [==============================] - 0s 3ms/step - loss: 0.5636 - accuracy: 0.8137 - val_loss: 0.5416 - val_accuracy: 0.8085\n",
      "Epoch 100/100\n",
      "94/94 [==============================] - 0s 3ms/step - loss: 0.5585 - accuracy: 0.8495 - val_loss: 0.5527 - val_accuracy: 0.8511\n"
     ]
    }
   ],
   "source": [
    "# Train the ANN\n",
    "history = model.fit(X_train, y_train, batch_size = 2, epochs = 100, validation_split=0.2)"
   ]
  },
  {
   "cell_type": "code",
   "execution_count": 61,
   "metadata": {},
   "outputs": [
    {
     "data": {
      "image/png": "[encoded data removed]",
      "text/plain": [
       "<Figure size 432x288 with 1 Axes>"
      ]
     },
     "metadata": {
      "needs_background": "light"
     },
     "output_type": "display_data"
    },
    {
     "data": {
      "image/png": "[encoded data removed]",
      "text/plain": [
       "<Figure size 432x288 with 1 Axes>"
      ]
     },
     "metadata": {
      "needs_background": "light"
     },
     "output_type": "display_data"
    }
   ],
   "source": [
    "history_df = pd.DataFrame(history.history)\n",
    "\n",
    "plt.plot(history_df.loc[:, ['loss']], \"#CD5C5C\", label='Training loss')\n",
    "plt.plot(history_df.loc[:, ['val_loss']],\"#FF0000\", label='Validation loss')\n",
    "plt.title('Training and Validation loss')\n",
    "plt.xlabel('Epochs')\n",
    "plt.ylabel('Loss')\n",
    "plt.legend(loc=\"best\")\n",
    "\n",
    "plt.show()\n",
    "\n",
    "history_df = pd.DataFrame(history.history)\n",
    "\n",
    "plt.plot(history_df.loc[:, ['accuracy']], \"#CD5C5C\", label='Training accuracy')\n",
    "plt.plot(history_df.loc[:, ['val_accuracy']],\"#FF0000\", label='Validation accuracy')\n",
    "\n",
    "plt.title('Training and Validation accuracy')\n",
    "plt.xlabel('Epochs')\n",
    "plt.ylabel('Accuracy')\n",
    "plt.legend()\n",
    "plt.show()"
   ]
  },
  {
   "cell_type": "code",
   "execution_count": 62,
   "metadata": {},
   "outputs": [
    {
     "name": "stdout",
     "output_type": "stream",
     "text": [
      "WARNING:tensorflow:6 out of the last 6 calls to <function Model.make_predict_function.<locals>.predict_function at 0x0000018AF26D5708> triggered tf.function retracing. Tracing is expensive and the excessive number of tracings could be due to (1) creating @tf.function repeatedly in a loop, (2) passing tensors with different shapes, (3) passing Python objects instead of tensors. For (1), please define your @tf.function outside of the loop. For (2), @tf.function has experimental_relax_shapes=True option that relaxes argument shapes that can avoid unnecessary retracing. For (3), please refer to https://www.tensorflow.org/guide/function#controlling_retracing and https://www.tensorflow.org/api_docs/python/tf/function for  more details.\n"
     ]
    }
   ],
   "source": [
    "# Predicting the test set results\n",
    "y_pred = model.predict(X_test)\n",
    "y_pred = (y_pred > 0.4)\n",
    "\n",
    "dnn_8_acc = accuracy_score(y_pred, y_test)\n",
    "dnn_8_prec = precision_score(y_pred, y_test,average='weighted')\n",
    "dnn_8_rec = recall_score(y_pred, y_test,average='weighted')\n",
    "dnn_8_f1 = f1_score(y_pred, y_test,average='weighted')\n",
    "dnn_8_spec = specificity_score(y_pred, y_test,average='weighted')\n",
    "dnn_8_sens = sensitivity_score(y_pred, y_test,average='weighted')"
   ]
  },
  {
   "cell_type": "code",
   "execution_count": 82,
   "metadata": {},
   "outputs": [],
   "source": [
    "storeResults1('DNN - 8 Layers',dnn_8_acc,dnn_8_prec,dnn_8_rec,dnn_8_f1,dnn_8_spec,dnn_8_sens)"
   ]
  },
  {
   "cell_type": "markdown",
   "metadata": {},
   "source": [
    "# 9 Layers"
   ]
  },
  {
   "cell_type": "code",
   "execution_count": 63,
   "metadata": {},
   "outputs": [],
   "source": [
    "# Initialising the NN\n",
    "model = Sequential()\n",
    "\n",
    "# layers\n",
    "model.add(Dense(units = 128, kernel_initializer = 'uniform', activation = 'relu', input_dim = 10))\n",
    "model.add(Dense(units = 64, kernel_initializer = 'uniform', activation = 'relu'))\n",
    "model.add(Dropout(0.25))\n",
    "model.add(Dense(units = 64, kernel_initializer = 'uniform', activation = 'relu'))\n",
    "model.add(Dropout(0.5))\n",
    "model.add(Dense(units = 32, kernel_initializer = 'uniform', activation = 'relu'))\n",
    "model.add(Dropout(0.5))\n",
    "model.add(Dense(units = 32, kernel_initializer = 'uniform', activation = 'relu'))\n",
    "model.add(Dropout(0.5))\n",
    "model.add(Dense(units = 16, kernel_initializer = 'uniform', activation = 'relu'))\n",
    "model.add(Dropout(0.5))\n",
    "model.add(Dense(units = 16, kernel_initializer = 'uniform', activation = 'relu'))\n",
    "model.add(Dropout(0.5))\n",
    "model.add(Dense(units = 8, kernel_initializer = 'uniform', activation = 'relu'))\n",
    "model.add(Dropout(0.5))\n",
    "model.add(Dense(units = 8, kernel_initializer = 'uniform', activation = 'relu'))\n",
    "model.add(Dropout(0.5))\n",
    "model.add(Dense(units = 1, kernel_initializer = 'uniform', activation = 'sigmoid'))\n",
    "\n",
    "# Compiling the ANN\n",
    "model.compile(optimizer = 'adam', loss = 'binary_crossentropy', metrics = ['accuracy'])"
   ]
  },
  {
   "cell_type": "code",
   "execution_count": 64,
   "metadata": {},
   "outputs": [
    {
     "name": "stdout",
     "output_type": "stream",
     "text": [
      "Epoch 1/100\n",
      "94/94 [==============================] - 7s 17ms/step - loss: 0.6921 - accuracy: 0.6403 - val_loss: 0.6907 - val_accuracy: 0.5745\n",
      "Epoch 2/100\n",
      "94/94 [==============================] - 0s 3ms/step - loss: 0.6864 - accuracy: 0.6646 - val_loss: 0.6883 - val_accuracy: 0.5745\n",
      "Epoch 3/100\n",
      "94/94 [==============================] - 0s 3ms/step - loss: 0.6821 - accuracy: 0.6289 - val_loss: 0.6858 - val_accuracy: 0.5745\n",
      "Epoch 4/100\n",
      "94/94 [==============================] - 0s 3ms/step - loss: 0.6786 - accuracy: 0.6223 - val_loss: 0.6839 - val_accuracy: 0.5745\n",
      "Epoch 5/100\n",
      "94/94 [==============================] - 0s 3ms/step - loss: 0.6735 - accuracy: 0.6404 - val_loss: 0.6828 - val_accuracy: 0.5745\n",
      "Epoch 6/100\n",
      "94/94 [==============================] - 0s 3ms/step - loss: 0.6726 - accuracy: 0.6235 - val_loss: 0.6822 - val_accuracy: 0.5745\n",
      "Epoch 7/100\n",
      "94/94 [==============================] - 0s 3ms/step - loss: 0.6791 - accuracy: 0.5932 - val_loss: 0.6821 - val_accuracy: 0.5745\n",
      "Epoch 8/100\n",
      "94/94 [==============================] - 0s 2ms/step - loss: 0.6543 - accuracy: 0.6984 - val_loss: 0.6822 - val_accuracy: 0.5745\n",
      "Epoch 9/100\n",
      "94/94 [==============================] - 0s 2ms/step - loss: 0.6705 - accuracy: 0.6260 - val_loss: 0.6861 - val_accuracy: 0.5745\n",
      "Epoch 10/100\n",
      "94/94 [==============================] - 0s 3ms/step - loss: 0.6564 - accuracy: 0.6061 - val_loss: 0.7543 - val_accuracy: 0.5745\n",
      "Epoch 11/100\n",
      "94/94 [==============================] - 0s 3ms/step - loss: 0.6547 - accuracy: 0.6712 - val_loss: 0.6980 - val_accuracy: 0.5745\n",
      "Epoch 12/100\n",
      "94/94 [==============================] - 0s 3ms/step - loss: 0.6090 - accuracy: 0.6541 - val_loss: 0.6814 - val_accuracy: 0.5745\n",
      "Epoch 13/100\n",
      "94/94 [==============================] - 0s 3ms/step - loss: 0.6405 - accuracy: 0.6686 - val_loss: 0.6877 - val_accuracy: 0.5745\n",
      "Epoch 14/100\n",
      "94/94 [==============================] - 0s 3ms/step - loss: 0.6762 - accuracy: 0.6491 - val_loss: 0.6815 - val_accuracy: 0.5745\n",
      "Epoch 15/100\n",
      "94/94 [==============================] - 0s 3ms/step - loss: 0.6546 - accuracy: 0.6649 - val_loss: 0.6830 - val_accuracy: 0.5745\n",
      "Epoch 16/100\n",
      "94/94 [==============================] - 0s 3ms/step - loss: 0.6205 - accuracy: 0.6792 - val_loss: 0.6836 - val_accuracy: 0.5745\n",
      "Epoch 17/100\n",
      "94/94 [==============================] - 0s 3ms/step - loss: 0.6675 - accuracy: 0.5980 - val_loss: 0.6839 - val_accuracy: 0.5745\n",
      "Epoch 18/100\n",
      "94/94 [==============================] - 0s 3ms/step - loss: 0.6562 - accuracy: 0.6150 - val_loss: 0.6892 - val_accuracy: 0.5745\n",
      "Epoch 19/100\n",
      "94/94 [==============================] - 0s 3ms/step - loss: 0.6540 - accuracy: 0.6243 - val_loss: 0.6849 - val_accuracy: 0.5745\n",
      "Epoch 20/100\n",
      "94/94 [==============================] - 0s 2ms/step - loss: 0.6379 - accuracy: 0.6217 - val_loss: 0.7425 - val_accuracy: 0.5745\n",
      "Epoch 21/100\n",
      "94/94 [==============================] - 0s 2ms/step - loss: 0.6408 - accuracy: 0.6058 - val_loss: 0.8637 - val_accuracy: 0.5745\n",
      "Epoch 22/100\n",
      "94/94 [==============================] - 0s 3ms/step - loss: 0.6944 - accuracy: 0.6259 - val_loss: 0.7030 - val_accuracy: 0.5745\n",
      "Epoch 23/100\n",
      "94/94 [==============================] - 0s 3ms/step - loss: 0.6747 - accuracy: 0.6330 - val_loss: 0.6834 - val_accuracy: 0.5745\n",
      "Epoch 24/100\n",
      "94/94 [==============================] - 0s 3ms/step - loss: 0.6741 - accuracy: 0.6060 - val_loss: 0.6868 - val_accuracy: 0.5745\n",
      "Epoch 25/100\n",
      "94/94 [==============================] - 0s 3ms/step - loss: 0.6362 - accuracy: 0.6988 - val_loss: 0.6847 - val_accuracy: 0.5745\n",
      "Epoch 26/100\n",
      "94/94 [==============================] - 0s 3ms/step - loss: 0.6294 - accuracy: 0.6832 - val_loss: 0.6855 - val_accuracy: 0.5745\n",
      "Epoch 27/100\n",
      "94/94 [==============================] - 0s 3ms/step - loss: 0.6074 - accuracy: 0.6714 - val_loss: 0.7357 - val_accuracy: 0.5745\n",
      "Epoch 28/100\n",
      "94/94 [==============================] - 0s 3ms/step - loss: 0.7740 - accuracy: 0.5923 - val_loss: 0.6823 - val_accuracy: 0.5745\n",
      "Epoch 29/100\n",
      "94/94 [==============================] - 0s 3ms/step - loss: 0.6073 - accuracy: 0.6877 - val_loss: 0.7012 - val_accuracy: 0.5745\n",
      "Epoch 30/100\n",
      "94/94 [==============================] - 0s 3ms/step - loss: 0.6730 - accuracy: 0.5888 - val_loss: 0.7448 - val_accuracy: 0.5745\n",
      "Epoch 31/100\n",
      "94/94 [==============================] - 0s 3ms/step - loss: 0.7216 - accuracy: 0.6319 - val_loss: 0.6794 - val_accuracy: 0.5745\n",
      "Epoch 32/100\n",
      "94/94 [==============================] - 0s 2ms/step - loss: 0.6751 - accuracy: 0.6098 - val_loss: 0.6820 - val_accuracy: 0.5745\n",
      "Epoch 33/100\n",
      "94/94 [==============================] - 0s 2ms/step - loss: 0.6527 - accuracy: 0.6322 - val_loss: 0.6821 - val_accuracy: 0.5745\n",
      "Epoch 34/100\n",
      "94/94 [==============================] - 0s 3ms/step - loss: 0.6865 - accuracy: 0.5964 - val_loss: 0.6794 - val_accuracy: 0.5745\n",
      "Epoch 35/100\n",
      "94/94 [==============================] - 0s 3ms/step - loss: 0.6544 - accuracy: 0.6189 - val_loss: 0.6761 - val_accuracy: 0.5745\n",
      "Epoch 36/100\n",
      "94/94 [==============================] - 0s 3ms/step - loss: 0.6269 - accuracy: 0.6590 - val_loss: 0.6752 - val_accuracy: 0.5745\n",
      "Epoch 37/100\n",
      "94/94 [==============================] - 0s 3ms/step - loss: 0.6423 - accuracy: 0.6169 - val_loss: 0.6721 - val_accuracy: 0.5745\n",
      "Epoch 38/100\n",
      "94/94 [==============================] - 0s 4ms/step - loss: 0.6496 - accuracy: 0.6169 - val_loss: 0.6679 - val_accuracy: 0.5745\n",
      "Epoch 39/100\n",
      "94/94 [==============================] - 0s 3ms/step - loss: 0.6470 - accuracy: 0.6933 - val_loss: 0.6735 - val_accuracy: 0.5745\n",
      "Epoch 40/100\n",
      "94/94 [==============================] - 0s 3ms/step - loss: 0.6539 - accuracy: 0.6152 - val_loss: 0.6647 - val_accuracy: 0.5745\n",
      "Epoch 41/100\n",
      "94/94 [==============================] - 0s 3ms/step - loss: 0.6286 - accuracy: 0.6011 - val_loss: 0.6754 - val_accuracy: 0.5745\n",
      "Epoch 42/100\n",
      "94/94 [==============================] - 0s 3ms/step - loss: 0.6504 - accuracy: 0.6428 - val_loss: 0.6705 - val_accuracy: 0.5745\n",
      "Epoch 43/100\n",
      "94/94 [==============================] - 0s 3ms/step - loss: 0.6361 - accuracy: 0.6376 - val_loss: 0.6596 - val_accuracy: 0.5745\n",
      "Epoch 44/100\n",
      "94/94 [==============================] - 0s 3ms/step - loss: 0.6353 - accuracy: 0.6044 - val_loss: 0.6693 - val_accuracy: 0.5745\n",
      "Epoch 45/100\n",
      "94/94 [==============================] - 0s 3ms/step - loss: 0.6462 - accuracy: 0.6376 - val_loss: 0.6465 - val_accuracy: 0.5745\n",
      "Epoch 46/100\n",
      "94/94 [==============================] - 0s 2ms/step - loss: 0.7487 - accuracy: 0.6195 - val_loss: 0.6628 - val_accuracy: 0.5745\n",
      "Epoch 47/100\n",
      "94/94 [==============================] - 0s 3ms/step - loss: 0.6266 - accuracy: 0.6181 - val_loss: 0.6671 - val_accuracy: 0.5745\n",
      "Epoch 48/100\n",
      "94/94 [==============================] - 0s 3ms/step - loss: 0.6290 - accuracy: 0.6443 - val_loss: 0.6628 - val_accuracy: 0.5745\n",
      "Epoch 49/100\n",
      "94/94 [==============================] - ETA: 0s - loss: 0.5970 - accuracy: 0.64 - 0s 2ms/step - loss: 0.6002 - accuracy: 0.6454 - val_loss: 0.6636 - val_accuracy: 0.5745\n",
      "Epoch 50/100\n",
      "94/94 [==============================] - 0s 3ms/step - loss: 0.6558 - accuracy: 0.6287 - val_loss: 0.6453 - val_accuracy: 0.5745\n",
      "Epoch 51/100\n",
      "94/94 [==============================] - 0s 4ms/step - loss: 0.5945 - accuracy: 0.6778 - val_loss: 0.6627 - val_accuracy: 0.5745\n",
      "Epoch 52/100\n",
      "94/94 [==============================] - 0s 3ms/step - loss: 0.6574 - accuracy: 0.6543 - val_loss: 0.6725 - val_accuracy: 0.5745\n",
      "Epoch 53/100\n",
      "94/94 [==============================] - 0s 3ms/step - loss: 0.6163 - accuracy: 0.6508 - val_loss: 0.6583 - val_accuracy: 0.5745\n",
      "Epoch 54/100\n",
      "94/94 [==============================] - 0s 3ms/step - loss: 0.6162 - accuracy: 0.6540 - val_loss: 0.6476 - val_accuracy: 0.5745\n",
      "Epoch 55/100\n",
      "94/94 [==============================] - 0s 3ms/step - loss: 0.6301 - accuracy: 0.6518 - val_loss: 0.6556 - val_accuracy: 0.5745\n",
      "Epoch 56/100\n",
      "94/94 [==============================] - 0s 3ms/step - loss: 0.6145 - accuracy: 0.7153 - val_loss: 0.6561 - val_accuracy: 0.5745\n",
      "Epoch 57/100\n",
      "94/94 [==============================] - 0s 3ms/step - loss: 0.6006 - accuracy: 0.6833 - val_loss: 0.6451 - val_accuracy: 0.5745\n",
      "Epoch 58/100\n"
     ]
    },
    {
     "name": "stdout",
     "output_type": "stream",
     "text": [
      "94/94 [==============================] - 0s 2ms/step - loss: 0.5886 - accuracy: 0.6514 - val_loss: 0.6692 - val_accuracy: 0.5745\n",
      "Epoch 59/100\n",
      "94/94 [==============================] - 0s 2ms/step - loss: 0.6373 - accuracy: 0.6255 - val_loss: 0.6445 - val_accuracy: 0.5745\n",
      "Epoch 60/100\n",
      "94/94 [==============================] - 0s 3ms/step - loss: 0.6794 - accuracy: 0.6411 - val_loss: 0.6436 - val_accuracy: 0.5745\n",
      "Epoch 61/100\n",
      "94/94 [==============================] - 0s 2ms/step - loss: 0.5550 - accuracy: 0.6750 - val_loss: 0.6338 - val_accuracy: 0.5745\n",
      "Epoch 62/100\n",
      "94/94 [==============================] - 0s 2ms/step - loss: 0.6097 - accuracy: 0.6294 - val_loss: 0.6397 - val_accuracy: 0.5745\n",
      "Epoch 63/100\n",
      "94/94 [==============================] - 0s 3ms/step - loss: 0.5815 - accuracy: 0.6538 - val_loss: 0.6253 - val_accuracy: 0.5745\n",
      "Epoch 64/100\n",
      "94/94 [==============================] - 0s 3ms/step - loss: 0.6291 - accuracy: 0.6369 - val_loss: 0.5901 - val_accuracy: 0.5745\n",
      "Epoch 65/100\n",
      "94/94 [==============================] - 0s 3ms/step - loss: 0.6955 - accuracy: 0.5722 - val_loss: 0.6440 - val_accuracy: 0.5745\n",
      "Epoch 66/100\n",
      "94/94 [==============================] - 0s 3ms/step - loss: 0.5725 - accuracy: 0.6718 - val_loss: 0.6476 - val_accuracy: 0.5745\n",
      "Epoch 67/100\n",
      "94/94 [==============================] - 0s 3ms/step - loss: 0.5651 - accuracy: 0.6525 - val_loss: 0.6346 - val_accuracy: 0.5745\n",
      "Epoch 68/100\n",
      "94/94 [==============================] - 0s 3ms/step - loss: 0.5951 - accuracy: 0.6794 - val_loss: 0.6018 - val_accuracy: 0.5745\n",
      "Epoch 69/100\n",
      "94/94 [==============================] - 0s 2ms/step - loss: 0.5931 - accuracy: 0.6456 - val_loss: 0.6089 - val_accuracy: 0.5745\n",
      "Epoch 70/100\n",
      "94/94 [==============================] - 0s 3ms/step - loss: 0.5493 - accuracy: 0.6368 - val_loss: 0.6419 - val_accuracy: 0.5745\n",
      "Epoch 71/100\n",
      "94/94 [==============================] - 0s 2ms/step - loss: 0.6385 - accuracy: 0.5807 - val_loss: 0.6175 - val_accuracy: 0.5745\n",
      "Epoch 72/100\n",
      "94/94 [==============================] - 0s 3ms/step - loss: 0.6288 - accuracy: 0.6239 - val_loss: 0.6142 - val_accuracy: 0.5745\n",
      "Epoch 73/100\n",
      "94/94 [==============================] - 0s 2ms/step - loss: 0.6266 - accuracy: 0.6361 - val_loss: 0.6011 - val_accuracy: 0.5745\n",
      "Epoch 74/100\n",
      "94/94 [==============================] - 0s 3ms/step - loss: 0.6984 - accuracy: 0.5624 - val_loss: 0.6034 - val_accuracy: 0.5745\n",
      "Epoch 75/100\n",
      "94/94 [==============================] - 0s 3ms/step - loss: 0.5981 - accuracy: 0.6539 - val_loss: 0.6027 - val_accuracy: 0.5745\n",
      "Epoch 76/100\n",
      "94/94 [==============================] - 0s 3ms/step - loss: 0.6311 - accuracy: 0.6162 - val_loss: 0.6747 - val_accuracy: 0.5745\n",
      "Epoch 77/100\n",
      "94/94 [==============================] - 0s 2ms/step - loss: 0.6283 - accuracy: 0.6325 - val_loss: 0.7556 - val_accuracy: 0.5745\n",
      "Epoch 78/100\n",
      "94/94 [==============================] - 0s 2ms/step - loss: 0.6986 - accuracy: 0.6011 - val_loss: 0.6742 - val_accuracy: 0.5745\n",
      "Epoch 79/100\n",
      "94/94 [==============================] - 0s 2ms/step - loss: 0.6247 - accuracy: 0.6640 - val_loss: 0.6754 - val_accuracy: 0.5745\n",
      "Epoch 80/100\n",
      "94/94 [==============================] - 0s 2ms/step - loss: 0.5965 - accuracy: 0.6455 - val_loss: 0.6267 - val_accuracy: 0.5745\n",
      "Epoch 81/100\n",
      "94/94 [==============================] - 0s 2ms/step - loss: 0.6423 - accuracy: 0.5797 - val_loss: 0.6373 - val_accuracy: 0.5745\n",
      "Epoch 82/100\n",
      "94/94 [==============================] - 0s 2ms/step - loss: 0.6036 - accuracy: 0.6287 - val_loss: 0.6231 - val_accuracy: 0.5745\n",
      "Epoch 83/100\n",
      "94/94 [==============================] - 0s 2ms/step - loss: 0.5866 - accuracy: 0.6428 - val_loss: 0.6463 - val_accuracy: 0.5745\n",
      "Epoch 84/100\n",
      "94/94 [==============================] - 0s 2ms/step - loss: 0.5688 - accuracy: 0.6558 - val_loss: 0.6484 - val_accuracy: 0.5745\n",
      "Epoch 85/100\n",
      "94/94 [==============================] - 0s 2ms/step - loss: 0.5938 - accuracy: 0.6691 - val_loss: 0.6129 - val_accuracy: 0.5745\n",
      "Epoch 86/100\n",
      "94/94 [==============================] - 0s 2ms/step - loss: 0.6359 - accuracy: 0.6209 - val_loss: 0.6280 - val_accuracy: 0.5745\n",
      "Epoch 87/100\n",
      "94/94 [==============================] - 0s 2ms/step - loss: 0.6233 - accuracy: 0.6773 - val_loss: 0.5805 - val_accuracy: 0.5745\n",
      "Epoch 88/100\n",
      "94/94 [==============================] - 0s 2ms/step - loss: 0.5808 - accuracy: 0.6343 - val_loss: 0.5904 - val_accuracy: 0.5745\n",
      "Epoch 89/100\n",
      "94/94 [==============================] - 0s 3ms/step - loss: 0.5593 - accuracy: 0.6474 - val_loss: 0.6033 - val_accuracy: 0.5745\n",
      "Epoch 90/100\n",
      "94/94 [==============================] - 0s 2ms/step - loss: 0.5705 - accuracy: 0.6226 - val_loss: 0.5938 - val_accuracy: 0.5745\n",
      "Epoch 91/100\n",
      "94/94 [==============================] - 0s 2ms/step - loss: 0.5144 - accuracy: 0.6894 - val_loss: 0.6723 - val_accuracy: 0.5745\n",
      "Epoch 92/100\n",
      "94/94 [==============================] - 0s 2ms/step - loss: 0.6211 - accuracy: 0.6445 - val_loss: 0.6379 - val_accuracy: 0.5745\n",
      "Epoch 93/100\n",
      "94/94 [==============================] - 0s 2ms/step - loss: 0.6543 - accuracy: 0.5734 - val_loss: 0.6290 - val_accuracy: 0.5745\n",
      "Epoch 94/100\n",
      "94/94 [==============================] - 0s 2ms/step - loss: 0.6458 - accuracy: 0.6376 - val_loss: 0.6222 - val_accuracy: 0.5745\n",
      "Epoch 95/100\n",
      "94/94 [==============================] - 0s 2ms/step - loss: 0.5254 - accuracy: 0.6701 - val_loss: 0.6933 - val_accuracy: 0.5745\n",
      "Epoch 96/100\n",
      "94/94 [==============================] - 0s 3ms/step - loss: 0.5222 - accuracy: 0.6479 - val_loss: 0.7033 - val_accuracy: 0.5745\n",
      "Epoch 97/100\n",
      "94/94 [==============================] - 0s 3ms/step - loss: 0.5354 - accuracy: 0.6384 - val_loss: 0.5892 - val_accuracy: 0.5745\n",
      "Epoch 98/100\n",
      "94/94 [==============================] - 0s 3ms/step - loss: 0.5795 - accuracy: 0.6195 - val_loss: 0.5980 - val_accuracy: 0.5745\n",
      "Epoch 99/100\n",
      "94/94 [==============================] - 0s 3ms/step - loss: 0.5663 - accuracy: 0.6354 - val_loss: 0.5668 - val_accuracy: 0.5745\n",
      "Epoch 100/100\n",
      "94/94 [==============================] - 0s 3ms/step - loss: 0.5434 - accuracy: 0.6862 - val_loss: 0.6851 - val_accuracy: 0.5745\n"
     ]
    }
   ],
   "source": [
    "# Train the ANN\n",
    "history = model.fit(X_train, y_train, batch_size = 2, epochs = 100, validation_split=0.2)"
   ]
  },
  {
   "cell_type": "code",
   "execution_count": 65,
   "metadata": {},
   "outputs": [
    {
     "data": {
      "image/png": "[encoded data removed]",
      "text/plain": [
       "<Figure size 432x288 with 1 Axes>"
      ]
     },
     "metadata": {
      "needs_background": "light"
     },
     "output_type": "display_data"
    },
    {
     "data": {
      "image/png": "[encoded data removed]",
      "text/plain": [
       "<Figure size 432x288 with 1 Axes>"
      ]
     },
     "metadata": {
      "needs_background": "light"
     },
     "output_type": "display_data"
    }
   ],
   "source": [
    "history_df = pd.DataFrame(history.history)\n",
    "\n",
    "plt.plot(history_df.loc[:, ['loss']], \"#CD5C5C\", label='Training loss')\n",
    "plt.plot(history_df.loc[:, ['val_loss']],\"#FF0000\", label='Validation loss')\n",
    "plt.title('Training and Validation loss')\n",
    "plt.xlabel('Epochs')\n",
    "plt.ylabel('Loss')\n",
    "plt.legend(loc=\"best\")\n",
    "\n",
    "plt.show()\n",
    "\n",
    "history_df = pd.DataFrame(history.history)\n",
    "\n",
    "plt.plot(history_df.loc[:, ['accuracy']], \"#CD5C5C\", label='Training accuracy')\n",
    "plt.plot(history_df.loc[:, ['val_accuracy']],\"#FF0000\", label='Validation accuracy')\n",
    "\n",
    "plt.title('Training and Validation accuracy')\n",
    "plt.xlabel('Epochs')\n",
    "plt.ylabel('Accuracy')\n",
    "plt.legend()\n",
    "plt.show()"
   ]
  },
  {
   "cell_type": "code",
   "execution_count": 66,
   "metadata": {},
   "outputs": [],
   "source": [
    "# Predicting the test set results\n",
    "y_pred = model.predict(X_test)\n",
    "y_pred = (y_pred > 0.4)\n",
    "\n",
    "dnn_9_acc = accuracy_score(y_pred, y_test)\n",
    "dnn_9_prec = precision_score(y_pred, y_test,average='weighted')\n",
    "dnn_9_rec = recall_score(y_pred, y_test,average='weighted')\n",
    "dnn_9_f1 = f1_score(y_pred, y_test,average='weighted')\n",
    "dnn_9_spec = specificity_score(y_pred, y_test,average='weighted')\n",
    "dnn_9_sens = sensitivity_score(y_pred, y_test,average='weighted')"
   ]
  },
  {
   "cell_type": "code",
   "execution_count": 83,
   "metadata": {},
   "outputs": [],
   "source": [
    "storeResults1('DNN - 9 Layers',dnn_9_acc,dnn_9_prec,dnn_9_rec,dnn_9_f1,dnn_9_spec,dnn_9_sens)"
   ]
  },
  {
   "cell_type": "markdown",
   "metadata": {},
   "source": [
    "# Comparison"
   ]
  },
  {
   "cell_type": "code",
   "execution_count": 104,
   "metadata": {},
   "outputs": [],
   "source": [
    "#creating dataframe\n",
    "result = pd.DataFrame({ 'ML Model' : ML_Model,\n",
    "                        'Accuracy' : accuracy,\n",
    "                       'Precision': precision,\n",
    "                       'Recall'   : recall, \n",
    "                       'F1_score' : f1score,\n",
    "                       'Specificity' : spec,\n",
    "                       'Sensitivity' : sens\n",
    "                      }) "
   ]
  },
  {
   "cell_type": "code",
   "execution_count": 105,
   "metadata": {},
   "outputs": [
    {
     "data": {
      "text/html": [
       "<div>\n",
       "<style scoped>\n",
       "    .dataframe tbody tr th:only-of-type {\n",
       "        vertical-align: middle;\n",
       "    }\n",
       "\n",
       "    .dataframe tbody tr th {\n",
       "        vertical-align: top;\n",
       "    }\n",
       "\n",
       "    .dataframe thead th {\n",
       "        text-align: right;\n",
       "    }\n",
       "</style>\n",
       "<table border=\"1\" class=\"dataframe\">\n",
       "  <thead>\n",
       "    <tr style=\"text-align: right;\">\n",
       "      <th></th>\n",
       "      <th>ML Model</th>\n",
       "      <th>Accuracy</th>\n",
       "      <th>Precision</th>\n",
       "      <th>Recall</th>\n",
       "      <th>F1_score</th>\n",
       "      <th>Specificity</th>\n",
       "      <th>Sensitivity</th>\n",
       "    </tr>\n",
       "  </thead>\n",
       "  <tbody>\n",
       "    <tr>\n",
       "      <td>0</td>\n",
       "      <td>KNN</td>\n",
       "      <td>0.741</td>\n",
       "      <td>0.783</td>\n",
       "      <td>0.741</td>\n",
       "      <td>0.753</td>\n",
       "      <td>0.724</td>\n",
       "      <td>0.741</td>\n",
       "    </tr>\n",
       "    <tr>\n",
       "      <td>1</td>\n",
       "      <td>LinearSVC</td>\n",
       "      <td>0.704</td>\n",
       "      <td>0.846</td>\n",
       "      <td>0.704</td>\n",
       "      <td>0.745</td>\n",
       "      <td>0.742</td>\n",
       "      <td>0.704</td>\n",
       "    </tr>\n",
       "    <tr>\n",
       "      <td>2</td>\n",
       "      <td>Guassian Process</td>\n",
       "      <td>0.778</td>\n",
       "      <td>0.778</td>\n",
       "      <td>0.778</td>\n",
       "      <td>0.778</td>\n",
       "      <td>0.746</td>\n",
       "      <td>0.778</td>\n",
       "    </tr>\n",
       "    <tr>\n",
       "      <td>3</td>\n",
       "      <td>Decision Tree</td>\n",
       "      <td>0.778</td>\n",
       "      <td>0.807</td>\n",
       "      <td>0.778</td>\n",
       "      <td>0.774</td>\n",
       "      <td>0.788</td>\n",
       "      <td>0.778</td>\n",
       "    </tr>\n",
       "    <tr>\n",
       "      <td>4</td>\n",
       "      <td>Naive Bayes</td>\n",
       "      <td>0.815</td>\n",
       "      <td>0.814</td>\n",
       "      <td>0.815</td>\n",
       "      <td>0.813</td>\n",
       "      <td>0.787</td>\n",
       "      <td>0.815</td>\n",
       "    </tr>\n",
       "    <tr>\n",
       "      <td>5</td>\n",
       "      <td>QDA</td>\n",
       "      <td>0.815</td>\n",
       "      <td>0.822</td>\n",
       "      <td>0.815</td>\n",
       "      <td>0.817</td>\n",
       "      <td>0.796</td>\n",
       "      <td>0.815</td>\n",
       "    </tr>\n",
       "    <tr>\n",
       "      <td>6</td>\n",
       "      <td>AdaBoost</td>\n",
       "      <td>0.852</td>\n",
       "      <td>0.870</td>\n",
       "      <td>0.852</td>\n",
       "      <td>0.856</td>\n",
       "      <td>0.865</td>\n",
       "      <td>0.852</td>\n",
       "    </tr>\n",
       "    <tr>\n",
       "      <td>7</td>\n",
       "      <td>Bagging</td>\n",
       "      <td>0.778</td>\n",
       "      <td>0.778</td>\n",
       "      <td>0.778</td>\n",
       "      <td>0.778</td>\n",
       "      <td>0.746</td>\n",
       "      <td>0.778</td>\n",
       "    </tr>\n",
       "    <tr>\n",
       "      <td>8</td>\n",
       "      <td>Boosting</td>\n",
       "      <td>0.852</td>\n",
       "      <td>0.858</td>\n",
       "      <td>0.852</td>\n",
       "      <td>0.850</td>\n",
       "      <td>0.831</td>\n",
       "      <td>0.852</td>\n",
       "    </tr>\n",
       "    <tr>\n",
       "      <td>9</td>\n",
       "      <td>Stacking Classifier</td>\n",
       "      <td>0.778</td>\n",
       "      <td>0.779</td>\n",
       "      <td>0.778</td>\n",
       "      <td>0.775</td>\n",
       "      <td>0.755</td>\n",
       "      <td>0.778</td>\n",
       "    </tr>\n",
       "    <tr>\n",
       "      <td>10</td>\n",
       "      <td>Voting Classifier</td>\n",
       "      <td>0.778</td>\n",
       "      <td>0.779</td>\n",
       "      <td>0.778</td>\n",
       "      <td>0.775</td>\n",
       "      <td>0.755</td>\n",
       "      <td>0.778</td>\n",
       "    </tr>\n",
       "  </tbody>\n",
       "</table>\n",
       "</div>"
      ],
      "text/plain": [
       "               ML Model  Accuracy  Precision  Recall  F1_score  Specificity  \\\n",
       "0                   KNN     0.741      0.783   0.741     0.753        0.724   \n",
       "1             LinearSVC     0.704      0.846   0.704     0.745        0.742   \n",
       "2      Guassian Process     0.778      0.778   0.778     0.778        0.746   \n",
       "3         Decision Tree     0.778      0.807   0.778     0.774        0.788   \n",
       "4           Naive Bayes     0.815      0.814   0.815     0.813        0.787   \n",
       "5                   QDA     0.815      0.822   0.815     0.817        0.796   \n",
       "6              AdaBoost     0.852      0.870   0.852     0.856        0.865   \n",
       "7               Bagging     0.778      0.778   0.778     0.778        0.746   \n",
       "8              Boosting     0.852      0.858   0.852     0.850        0.831   \n",
       "9   Stacking Classifier     0.778      0.779   0.778     0.775        0.755   \n",
       "10    Voting Classifier     0.778      0.779   0.778     0.775        0.755   \n",
       "\n",
       "    Sensitivity  \n",
       "0         0.741  \n",
       "1         0.704  \n",
       "2         0.778  \n",
       "3         0.778  \n",
       "4         0.815  \n",
       "5         0.815  \n",
       "6         0.852  \n",
       "7         0.778  \n",
       "8         0.852  \n",
       "9         0.778  \n",
       "10        0.778  "
      ]
     },
     "execution_count": 105,
     "metadata": {},
     "output_type": "execute_result"
    }
   ],
   "source": [
    "result"
   ]
  },
  {
   "cell_type": "code",
   "execution_count": 106,
   "metadata": {},
   "outputs": [],
   "source": [
    "#creating dataframe\n",
    "result1 = pd.DataFrame({ 'ML Model' : ML_Model1,\n",
    "                        'Accuracy' : accuracy1,\n",
    "                       'Precision': precision1,\n",
    "                       'Recall'   : recall1, \n",
    "                       'F1_score' : f1score1,\n",
    "                       'Specificity' : spec1,\n",
    "                       'Sensitivity' : sens1\n",
    "                      }) "
   ]
  },
  {
   "cell_type": "code",
   "execution_count": 107,
   "metadata": {},
   "outputs": [
    {
     "data": {
      "text/html": [
       "<div>\n",
       "<style scoped>\n",
       "    .dataframe tbody tr th:only-of-type {\n",
       "        vertical-align: middle;\n",
       "    }\n",
       "\n",
       "    .dataframe tbody tr th {\n",
       "        vertical-align: top;\n",
       "    }\n",
       "\n",
       "    .dataframe thead th {\n",
       "        text-align: right;\n",
       "    }\n",
       "</style>\n",
       "<table border=\"1\" class=\"dataframe\">\n",
       "  <thead>\n",
       "    <tr style=\"text-align: right;\">\n",
       "      <th></th>\n",
       "      <th>ML Model</th>\n",
       "      <th>Accuracy</th>\n",
       "      <th>Precision</th>\n",
       "      <th>Recall</th>\n",
       "      <th>F1_score</th>\n",
       "      <th>Specificity</th>\n",
       "      <th>Sensitivity</th>\n",
       "    </tr>\n",
       "  </thead>\n",
       "  <tbody>\n",
       "    <tr>\n",
       "      <td>0</td>\n",
       "      <td>DNN - 3 Layers</td>\n",
       "      <td>0.815</td>\n",
       "      <td>0.822</td>\n",
       "      <td>0.815</td>\n",
       "      <td>0.817</td>\n",
       "      <td>0.796</td>\n",
       "      <td>0.815</td>\n",
       "    </tr>\n",
       "    <tr>\n",
       "      <td>1</td>\n",
       "      <td>DNN - 4 Layers</td>\n",
       "      <td>0.778</td>\n",
       "      <td>0.780</td>\n",
       "      <td>0.778</td>\n",
       "      <td>0.775</td>\n",
       "      <td>0.756</td>\n",
       "      <td>0.778</td>\n",
       "    </tr>\n",
       "    <tr>\n",
       "      <td>2</td>\n",
       "      <td>DNN - 5 Layers</td>\n",
       "      <td>0.778</td>\n",
       "      <td>0.778</td>\n",
       "      <td>0.778</td>\n",
       "      <td>0.778</td>\n",
       "      <td>0.746</td>\n",
       "      <td>0.778</td>\n",
       "    </tr>\n",
       "    <tr>\n",
       "      <td>3</td>\n",
       "      <td>DNN - 6 Layers</td>\n",
       "      <td>0.778</td>\n",
       "      <td>0.778</td>\n",
       "      <td>0.778</td>\n",
       "      <td>0.778</td>\n",
       "      <td>0.746</td>\n",
       "      <td>0.778</td>\n",
       "    </tr>\n",
       "    <tr>\n",
       "      <td>4</td>\n",
       "      <td>DNN - 7 Layers</td>\n",
       "      <td>0.593</td>\n",
       "      <td>0.755</td>\n",
       "      <td>0.593</td>\n",
       "      <td>0.603</td>\n",
       "      <td>0.756</td>\n",
       "      <td>0.593</td>\n",
       "    </tr>\n",
       "    <tr>\n",
       "      <td>5</td>\n",
       "      <td>DNN - 8 Layers</td>\n",
       "      <td>0.815</td>\n",
       "      <td>0.814</td>\n",
       "      <td>0.815</td>\n",
       "      <td>0.813</td>\n",
       "      <td>0.787</td>\n",
       "      <td>0.815</td>\n",
       "    </tr>\n",
       "    <tr>\n",
       "      <td>6</td>\n",
       "      <td>DNN - 9 Layers</td>\n",
       "      <td>0.370</td>\n",
       "      <td>1.000</td>\n",
       "      <td>0.370</td>\n",
       "      <td>0.541</td>\n",
       "      <td>0.000</td>\n",
       "      <td>0.370</td>\n",
       "    </tr>\n",
       "  </tbody>\n",
       "</table>\n",
       "</div>"
      ],
      "text/plain": [
       "         ML Model  Accuracy  Precision  Recall  F1_score  Specificity  \\\n",
       "0  DNN - 3 Layers     0.815      0.822   0.815     0.817        0.796   \n",
       "1  DNN - 4 Layers     0.778      0.780   0.778     0.775        0.756   \n",
       "2  DNN - 5 Layers     0.778      0.778   0.778     0.778        0.746   \n",
       "3  DNN - 6 Layers     0.778      0.778   0.778     0.778        0.746   \n",
       "4  DNN - 7 Layers     0.593      0.755   0.593     0.603        0.756   \n",
       "5  DNN - 8 Layers     0.815      0.814   0.815     0.813        0.787   \n",
       "6  DNN - 9 Layers     0.370      1.000   0.370     0.541        0.000   \n",
       "\n",
       "   Sensitivity  \n",
       "0        0.815  \n",
       "1        0.778  \n",
       "2        0.778  \n",
       "3        0.778  \n",
       "4        0.593  \n",
       "5        0.815  \n",
       "6        0.370  "
      ]
     },
     "execution_count": 107,
     "metadata": {},
     "output_type": "execute_result"
    }
   ],
   "source": [
    "result1"
   ]
  },
  {
   "cell_type": "markdown",
   "metadata": {},
   "source": [
    "# Graph"
   ]
  },
  {
   "cell_type": "markdown",
   "metadata": {},
   "source": [
    "# ML"
   ]
  },
  {
   "cell_type": "code",
   "execution_count": 108,
   "metadata": {},
   "outputs": [],
   "source": [
    "classifier = ML_Model\n",
    "y_pos = np.arange(len(classifier))"
   ]
  },
  {
   "cell_type": "markdown",
   "metadata": {},
   "source": [
    "# Accuracy"
   ]
  },
  {
   "cell_type": "code",
   "execution_count": 109,
   "metadata": {},
   "outputs": [
    {
     "data": {
      "image/png": "[encoded data removed]",
      "text/plain": [
       "<Figure size 432x288 with 1 Axes>"
      ]
     },
     "metadata": {
      "needs_background": "light"
     },
     "output_type": "display_data"
    }
   ],
   "source": [
    "import matplotlib.pyplot as plt2\n",
    "plt2.barh(y_pos, accuracy, align='center', alpha=0.5,color='blue')\n",
    "plt2.yticks(y_pos, classifier)\n",
    "plt2.xlabel('Accuracy Score')\n",
    "plt2.title('Classification Performance')\n",
    "plt2.show()"
   ]
  },
  {
   "cell_type": "markdown",
   "metadata": {},
   "source": [
    "# Precision"
   ]
  },
  {
   "cell_type": "code",
   "execution_count": 110,
   "metadata": {},
   "outputs": [
    {
     "data": {
      "image/png": "[encoded data removed]",
      "text/plain": [
       "<Figure size 432x288 with 1 Axes>"
      ]
     },
     "metadata": {
      "needs_background": "light"
     },
     "output_type": "display_data"
    }
   ],
   "source": [
    "plt2.barh(y_pos, precision, align='center', alpha=0.5,color='red')\n",
    "plt2.yticks(y_pos, classifier)\n",
    "plt2.xlabel('Precision Score')\n",
    "plt2.title('Classification Performance')\n",
    "plt2.show()"
   ]
  },
  {
   "cell_type": "markdown",
   "metadata": {},
   "source": [
    "# Recall"
   ]
  },
  {
   "cell_type": "code",
   "execution_count": 111,
   "metadata": {},
   "outputs": [
    {
     "data": {
      "image/png": "[encoded data removed]",
      "text/plain": [
       "<Figure size 432x288 with 1 Axes>"
      ]
     },
     "metadata": {
      "needs_background": "light"
     },
     "output_type": "display_data"
    }
   ],
   "source": [
    "plt2.barh(y_pos, recall, align='center', alpha=0.5,color='yellow')\n",
    "plt2.yticks(y_pos, classifier)\n",
    "plt2.xlabel('Recall Score')\n",
    "plt2.title('Classification Performance')\n",
    "plt2.show()"
   ]
  },
  {
   "cell_type": "markdown",
   "metadata": {},
   "source": [
    "# F1 Score"
   ]
  },
  {
   "cell_type": "code",
   "execution_count": 112,
   "metadata": {},
   "outputs": [
    {
     "data": {
      "image/png": "[encoded data removed]",
      "text/plain": [
       "<Figure size 432x288 with 1 Axes>"
      ]
     },
     "metadata": {
      "needs_background": "light"
     },
     "output_type": "display_data"
    }
   ],
   "source": [
    "plt2.barh(y_pos, f1score, align='center', alpha=0.5,color='pink')\n",
    "plt2.yticks(y_pos, classifier)\n",
    "plt2.xlabel('F1 Score')\n",
    "plt2.title('Classification Performance')\n",
    "plt2.show()"
   ]
  },
  {
   "cell_type": "markdown",
   "metadata": {},
   "source": [
    "# Specificity"
   ]
  },
  {
   "cell_type": "code",
   "execution_count": 113,
   "metadata": {},
   "outputs": [
    {
     "data": {
      "image/png": "[encoded data removed]",
      "text/plain": [
       "<Figure size 432x288 with 1 Axes>"
      ]
     },
     "metadata": {
      "needs_background": "light"
     },
     "output_type": "display_data"
    }
   ],
   "source": [
    "plt2.barh(y_pos, spec, align='center', alpha=0.5,color='brown')\n",
    "plt2.yticks(y_pos, classifier)\n",
    "plt2.xlabel('Specificity')\n",
    "plt2.title('Classification Performance')\n",
    "plt2.show()"
   ]
  },
  {
   "cell_type": "markdown",
   "metadata": {},
   "source": [
    "# Sensitivity"
   ]
  },
  {
   "cell_type": "code",
   "execution_count": 114,
   "metadata": {},
   "outputs": [
    {
     "data": {
      "image/png": "[encoded data removed]",
      "text/plain": [
       "<Figure size 432x288 with 1 Axes>"
      ]
     },
     "metadata": {
      "needs_background": "light"
     },
     "output_type": "display_data"
    }
   ],
   "source": [
    "plt2.barh(y_pos, sens, align='center', alpha=0.5,color='navy')\n",
    "plt2.yticks(y_pos, classifier)\n",
    "plt2.xlabel('Sensitivity')\n",
    "plt2.title('Classification Performance')\n",
    "plt2.show()"
   ]
  },
  {
   "cell_type": "markdown",
   "metadata": {},
   "source": [
    "# DL"
   ]
  },
  {
   "cell_type": "code",
   "execution_count": 95,
   "metadata": {},
   "outputs": [],
   "source": [
    "classifier = ML_Model1\n",
    "y_pos = np.arange(len(classifier))"
   ]
  },
  {
   "cell_type": "markdown",
   "metadata": {},
   "source": [
    "# Accuracy"
   ]
  },
  {
   "cell_type": "code",
   "execution_count": 96,
   "metadata": {},
   "outputs": [
    {
     "data": {
      "image/png": "[encoded data removed]",
      "text/plain": [
       "<Figure size 432x288 with 1 Axes>"
      ]
     },
     "metadata": {
      "needs_background": "light"
     },
     "output_type": "display_data"
    }
   ],
   "source": [
    "plt2.barh(y_pos, accuracy1, align='center', alpha=0.5,color='blue')\n",
    "plt2.yticks(y_pos, classifier)\n",
    "plt2.xlabel('Accuracy Score')\n",
    "plt2.title('Classification Performance')\n",
    "plt2.show()"
   ]
  },
  {
   "cell_type": "markdown",
   "metadata": {},
   "source": [
    "# Precision"
   ]
  },
  {
   "cell_type": "code",
   "execution_count": 97,
   "metadata": {},
   "outputs": [
    {
     "data": {
      "image/png": "[encoded data removed]",
      "text/plain": [
       "<Figure size 432x288 with 1 Axes>"
      ]
     },
     "metadata": {
      "needs_background": "light"
     },
     "output_type": "display_data"
    }
   ],
   "source": [
    "plt2.barh(y_pos, precision1, align='center', alpha=0.5,color='red')\n",
    "plt2.yticks(y_pos, classifier)\n",
    "plt2.xlabel('Precision Score')\n",
    "plt2.title('Classification Performance')\n",
    "plt2.show()"
   ]
  },
  {
   "cell_type": "markdown",
   "metadata": {},
   "source": [
    "# Recall"
   ]
  },
  {
   "cell_type": "code",
   "execution_count": 98,
   "metadata": {},
   "outputs": [
    {
     "data": {
      "image/png": "[encoded data removed]",
      "text/plain": [
       "<Figure size 432x288 with 1 Axes>"
      ]
     },
     "metadata": {
      "needs_background": "light"
     },
     "output_type": "display_data"
    }
   ],
   "source": [
    "plt2.barh(y_pos, recall1, align='center', alpha=0.5,color='yellow')\n",
    "plt2.yticks(y_pos, classifier)\n",
    "plt2.xlabel('Recall Score')\n",
    "plt2.title('Classification Performance')\n",
    "plt2.show()"
   ]
  },
  {
   "cell_type": "markdown",
   "metadata": {},
   "source": [
    "# F1 Score"
   ]
  },
  {
   "cell_type": "code",
   "execution_count": 99,
   "metadata": {},
   "outputs": [
    {
     "data": {
      "image/png": "[encoded data removed]",
      "text/plain": [
       "<Figure size 432x288 with 1 Axes>"
      ]
     },
     "metadata": {
      "needs_background": "light"
     },
     "output_type": "display_data"
    }
   ],
   "source": [
    "plt2.barh(y_pos, f1score1, align='center', alpha=0.5,color='pink')\n",
    "plt2.yticks(y_pos, classifier)\n",
    "plt2.xlabel('F1 Score')\n",
    "plt2.title('Classification Performance')\n",
    "plt2.show()"
   ]
  },
  {
   "cell_type": "markdown",
   "metadata": {},
   "source": [
    "# Specificity"
   ]
  },
  {
   "cell_type": "code",
   "execution_count": 100,
   "metadata": {},
   "outputs": [
    {
     "data": {
      "image/png": "[encoded data removed]",
      "text/plain": [
       "<Figure size 432x288 with 1 Axes>"
      ]
     },
     "metadata": {
      "needs_background": "light"
     },
     "output_type": "display_data"
    }
   ],
   "source": [
    "plt2.barh(y_pos, spec1, align='center', alpha=0.5,color='brown')\n",
    "plt2.yticks(y_pos, classifier)\n",
    "plt2.xlabel('Specificity')\n",
    "plt2.title('Classification Performance')\n",
    "plt2.show()"
   ]
  },
  {
   "cell_type": "markdown",
   "metadata": {},
   "source": [
    "# Sensitivity"
   ]
  },
  {
   "cell_type": "code",
   "execution_count": 101,
   "metadata": {},
   "outputs": [
    {
     "data": {
      "image/png": "[encoded data removed]",
      "text/plain": [
       "<Figure size 432x288 with 1 Axes>"
      ]
     },
     "metadata": {
      "needs_background": "light"
     },
     "output_type": "display_data"
    }
   ],
   "source": [
    "plt2.barh(y_pos, sens1, align='center', alpha=0.5,color='navy')\n",
    "plt2.yticks(y_pos, classifier)\n",
    "plt2.xlabel('Sensitivity')\n",
    "plt2.title('Classification Performance')\n",
    "plt2.show()"
   ]
  },
  {
   "cell_type": "code",
   "execution_count": null,
   "metadata": {},
   "outputs": [],
   "source": []
  }
 ],
 "metadata": {
  "kernelspec": {
   "display_name": "Python 3",
   "language": "python",
   "name": "python3"
  },
  "language_info": {
   "codemirror_mode": {
    "name": "ipython",
    "version": 3
   },
   "file_extension": ".py",
   "mimetype": "text/x-python",
   "name": "python",
   "nbconvert_exporter": "python",
   "pygments_lexer": "ipython3",
   "version": "3.7.4"
  }
 },
 "nbformat": 4,
 "nbformat_minor": 2
}
