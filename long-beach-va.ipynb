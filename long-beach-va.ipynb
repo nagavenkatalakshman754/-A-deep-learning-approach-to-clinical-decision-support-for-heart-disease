{
 "cells": [
  {
   "cell_type": "code",
   "execution_count": 1,
   "metadata": {},
   "outputs": [],
   "source": [
    "import warnings\n",
    "warnings.filterwarnings('ignore')"
   ]
  },
  {
   "cell_type": "code",
   "execution_count": 2,
   "metadata": {},
   "outputs": [],
   "source": [
    "import numpy as np\n",
    "import pandas as pd\n",
    "\n",
    "import matplotlib.pyplot as plt\n",
    "import seaborn as sns"
   ]
  },
  {
   "cell_type": "code",
   "execution_count": 3,
   "metadata": {},
   "outputs": [],
   "source": [
    "feature=[\"age\",\"sex\",\"cp\",\"trestbps\",\"chol\",\"fbs\",\"restecg\",\"thalach\",\"exang\",\"oldpeak\",\"slope\",\"ca\",\"thal\",\"target\"]"
   ]
  },
  {
   "cell_type": "code",
   "execution_count": 4,
   "metadata": {},
   "outputs": [],
   "source": [
    "# load data\n",
    "data  = pd.read_csv('heart+disease/processed.va.data', sep=\",\",names=feature)"
   ]
  },
  {
   "cell_type": "code",
   "execution_count": 5,
   "metadata": {},
   "outputs": [
    {
     "data": {
      "text/html": [
       "<div>\n",
       "<style scoped>\n",
       "    .dataframe tbody tr th:only-of-type {\n",
       "        vertical-align: middle;\n",
       "    }\n",
       "\n",
       "    .dataframe tbody tr th {\n",
       "        vertical-align: top;\n",
       "    }\n",
       "\n",
       "    .dataframe thead th {\n",
       "        text-align: right;\n",
       "    }\n",
       "</style>\n",
       "<table border=\"1\" class=\"dataframe\">\n",
       "  <thead>\n",
       "    <tr style=\"text-align: right;\">\n",
       "      <th></th>\n",
       "      <th>age</th>\n",
       "      <th>sex</th>\n",
       "      <th>cp</th>\n",
       "      <th>trestbps</th>\n",
       "      <th>chol</th>\n",
       "      <th>fbs</th>\n",
       "      <th>restecg</th>\n",
       "      <th>thalach</th>\n",
       "      <th>exang</th>\n",
       "      <th>oldpeak</th>\n",
       "      <th>slope</th>\n",
       "      <th>ca</th>\n",
       "      <th>thal</th>\n",
       "      <th>target</th>\n",
       "    </tr>\n",
       "  </thead>\n",
       "  <tbody>\n",
       "    <tr>\n",
       "      <td>0</td>\n",
       "      <td>63</td>\n",
       "      <td>1</td>\n",
       "      <td>4</td>\n",
       "      <td>140</td>\n",
       "      <td>260</td>\n",
       "      <td>0</td>\n",
       "      <td>1</td>\n",
       "      <td>112</td>\n",
       "      <td>1</td>\n",
       "      <td>3</td>\n",
       "      <td>2</td>\n",
       "      <td>?</td>\n",
       "      <td>?</td>\n",
       "      <td>2</td>\n",
       "    </tr>\n",
       "    <tr>\n",
       "      <td>1</td>\n",
       "      <td>44</td>\n",
       "      <td>1</td>\n",
       "      <td>4</td>\n",
       "      <td>130</td>\n",
       "      <td>209</td>\n",
       "      <td>0</td>\n",
       "      <td>1</td>\n",
       "      <td>127</td>\n",
       "      <td>0</td>\n",
       "      <td>0</td>\n",
       "      <td>?</td>\n",
       "      <td>?</td>\n",
       "      <td>?</td>\n",
       "      <td>0</td>\n",
       "    </tr>\n",
       "    <tr>\n",
       "      <td>2</td>\n",
       "      <td>60</td>\n",
       "      <td>1</td>\n",
       "      <td>4</td>\n",
       "      <td>132</td>\n",
       "      <td>218</td>\n",
       "      <td>0</td>\n",
       "      <td>1</td>\n",
       "      <td>140</td>\n",
       "      <td>1</td>\n",
       "      <td>1.5</td>\n",
       "      <td>3</td>\n",
       "      <td>?</td>\n",
       "      <td>?</td>\n",
       "      <td>2</td>\n",
       "    </tr>\n",
       "    <tr>\n",
       "      <td>3</td>\n",
       "      <td>55</td>\n",
       "      <td>1</td>\n",
       "      <td>4</td>\n",
       "      <td>142</td>\n",
       "      <td>228</td>\n",
       "      <td>0</td>\n",
       "      <td>1</td>\n",
       "      <td>149</td>\n",
       "      <td>1</td>\n",
       "      <td>2.5</td>\n",
       "      <td>1</td>\n",
       "      <td>?</td>\n",
       "      <td>?</td>\n",
       "      <td>1</td>\n",
       "    </tr>\n",
       "    <tr>\n",
       "      <td>4</td>\n",
       "      <td>66</td>\n",
       "      <td>1</td>\n",
       "      <td>3</td>\n",
       "      <td>110</td>\n",
       "      <td>213</td>\n",
       "      <td>1</td>\n",
       "      <td>2</td>\n",
       "      <td>99</td>\n",
       "      <td>1</td>\n",
       "      <td>1.3</td>\n",
       "      <td>2</td>\n",
       "      <td>?</td>\n",
       "      <td>?</td>\n",
       "      <td>0</td>\n",
       "    </tr>\n",
       "  </tbody>\n",
       "</table>\n",
       "</div>"
      ],
      "text/plain": [
       "   age  sex  cp trestbps chol fbs  restecg thalach exang oldpeak slope ca  \\\n",
       "0   63    1   4      140  260   0        1     112     1       3     2  ?   \n",
       "1   44    1   4      130  209   0        1     127     0       0     ?  ?   \n",
       "2   60    1   4      132  218   0        1     140     1     1.5     3  ?   \n",
       "3   55    1   4      142  228   0        1     149     1     2.5     1  ?   \n",
       "4   66    1   3      110  213   1        2      99     1     1.3     2  ?   \n",
       "\n",
       "  thal  target  \n",
       "0    ?       2  \n",
       "1    ?       0  \n",
       "2    ?       2  \n",
       "3    ?       1  \n",
       "4    ?       0  "
      ]
     },
     "execution_count": 5,
     "metadata": {},
     "output_type": "execute_result"
    }
   ],
   "source": [
    "data.head()"
   ]
  },
  {
   "cell_type": "code",
   "execution_count": 6,
   "metadata": {},
   "outputs": [
    {
     "data": {
      "text/plain": [
       "(200, 14)"
      ]
     },
     "execution_count": 6,
     "metadata": {},
     "output_type": "execute_result"
    }
   ],
   "source": [
    "data.shape"
   ]
  },
  {
   "cell_type": "code",
   "execution_count": 7,
   "metadata": {},
   "outputs": [
    {
     "name": "stdout",
     "output_type": "stream",
     "text": [
      "<class 'pandas.core.frame.DataFrame'>\n",
      "RangeIndex: 200 entries, 0 to 199\n",
      "Data columns (total 14 columns):\n",
      "age         200 non-null int64\n",
      "sex         200 non-null int64\n",
      "cp          200 non-null int64\n",
      "trestbps    200 non-null object\n",
      "chol        200 non-null object\n",
      "fbs         200 non-null object\n",
      "restecg     200 non-null int64\n",
      "thalach     200 non-null object\n",
      "exang       200 non-null object\n",
      "oldpeak     200 non-null object\n",
      "slope       200 non-null object\n",
      "ca          200 non-null object\n",
      "thal        200 non-null object\n",
      "target      200 non-null int64\n",
      "dtypes: int64(5), object(9)\n",
      "memory usage: 22.0+ KB\n"
     ]
    }
   ],
   "source": [
    "data.info()"
   ]
  },
  {
   "cell_type": "code",
   "execution_count": 8,
   "metadata": {},
   "outputs": [],
   "source": [
    "data = data.replace({'?':np.NaN})"
   ]
  },
  {
   "cell_type": "code",
   "execution_count": 9,
   "metadata": {},
   "outputs": [
    {
     "name": "stdout",
     "output_type": "stream",
     "text": [
      "<class 'pandas.core.frame.DataFrame'>\n",
      "RangeIndex: 200 entries, 0 to 199\n",
      "Data columns (total 14 columns):\n",
      "age         200 non-null int64\n",
      "sex         200 non-null int64\n",
      "cp          200 non-null int64\n",
      "trestbps    144 non-null object\n",
      "chol        193 non-null object\n",
      "fbs         193 non-null object\n",
      "restecg     200 non-null int64\n",
      "thalach     147 non-null object\n",
      "exang       147 non-null object\n",
      "oldpeak     144 non-null object\n",
      "slope       98 non-null object\n",
      "ca          2 non-null object\n",
      "thal        34 non-null object\n",
      "target      200 non-null int64\n",
      "dtypes: int64(5), object(9)\n",
      "memory usage: 22.0+ KB\n"
     ]
    }
   ],
   "source": [
    "data.info()"
   ]
  },
  {
   "cell_type": "code",
   "execution_count": 10,
   "metadata": {},
   "outputs": [],
   "source": [
    "del data['slope']\n",
    "del data['ca']\n",
    "del data['thal']"
   ]
  },
  {
   "cell_type": "code",
   "execution_count": 11,
   "metadata": {},
   "outputs": [],
   "source": [
    "data = data.dropna()"
   ]
  },
  {
   "cell_type": "code",
   "execution_count": 12,
   "metadata": {},
   "outputs": [
    {
     "name": "stdout",
     "output_type": "stream",
     "text": [
      "<class 'pandas.core.frame.DataFrame'>\n",
      "Int64Index: 130 entries, 0 to 199\n",
      "Data columns (total 11 columns):\n",
      "age         130 non-null int64\n",
      "sex         130 non-null int64\n",
      "cp          130 non-null int64\n",
      "trestbps    130 non-null object\n",
      "chol        130 non-null object\n",
      "fbs         130 non-null object\n",
      "restecg     130 non-null int64\n",
      "thalach     130 non-null object\n",
      "exang       130 non-null object\n",
      "oldpeak     130 non-null object\n",
      "target      130 non-null int64\n",
      "dtypes: int64(5), object(6)\n",
      "memory usage: 12.2+ KB\n"
     ]
    }
   ],
   "source": [
    "data.info()"
   ]
  },
  {
   "cell_type": "code",
   "execution_count": 13,
   "metadata": {},
   "outputs": [],
   "source": [
    "# Import label encoder\n",
    "from sklearn import preprocessing\n",
    "\n",
    "# label_encoder object knows\n",
    "# how to understand word labels.\n",
    "label_encoder = preprocessing.LabelEncoder()\n",
    "\n",
    "# Encode labels in column 'species'.\n",
    "data['trestbps']= label_encoder.fit_transform(data['trestbps'])\n",
    "data['chol']= label_encoder.fit_transform(data['chol'])\n",
    "data['fbs']= label_encoder.fit_transform(data['fbs'])\n",
    "\n",
    "data['thalach']= label_encoder.fit_transform(data['thalach'])\n",
    "data['exang']= label_encoder.fit_transform(data['exang'])\n",
    "data['oldpeak']= label_encoder.fit_transform(data['oldpeak'])"
   ]
  },
  {
   "cell_type": "code",
   "execution_count": 14,
   "metadata": {},
   "outputs": [
    {
     "data": {
      "image/png": "[encoded data removed]",
      "text/plain": [
       "<Figure size 288x288 with 1 Axes>"
      ]
     },
     "metadata": {
      "needs_background": "light"
     },
     "output_type": "display_data"
    }
   ],
   "source": [
    "import matplotlib.pyplot as plt\n",
    "\n",
    "plt.matshow(data.corr())\n",
    "plt.show()"
   ]
  },
  {
   "cell_type": "code",
   "execution_count": 15,
   "metadata": {},
   "outputs": [],
   "source": [
    "# changing attack labels to their respective attack class\n",
    "def change_label(df):\n",
    "  df.target.replace([1,2,3,4],1,inplace=True)"
   ]
  },
  {
   "cell_type": "code",
   "execution_count": 16,
   "metadata": {},
   "outputs": [],
   "source": [
    "change_label(data)"
   ]
  },
  {
   "cell_type": "code",
   "execution_count": 17,
   "metadata": {},
   "outputs": [
    {
     "data": {
      "image/png": "[encoded data removed]",
      "text/plain": [
       "<Figure size 432x288 with 1 Axes>"
      ]
     },
     "metadata": {
      "needs_background": "light"
     },
     "output_type": "display_data"
    }
   ],
   "source": [
    "data.target.value_counts().plot(kind='bar',color=['red','green']);"
   ]
  },
  {
   "cell_type": "code",
   "execution_count": 18,
   "metadata": {},
   "outputs": [],
   "source": [
    "data.to_csv('va_processed.csv')"
   ]
  },
  {
   "cell_type": "code",
   "execution_count": 19,
   "metadata": {},
   "outputs": [],
   "source": [
    "X = data.drop([\"target\"],axis =1)\n",
    "y = data[\"target\"]"
   ]
  },
  {
   "cell_type": "code",
   "execution_count": 20,
   "metadata": {},
   "outputs": [],
   "source": [
    "from sklearn.metrics import accuracy_score # for calculating accuracy of model\n",
    "from sklearn.model_selection import train_test_split # for splitting the dataset for training and testing\n",
    "from sklearn.metrics import classification_report # for generating a classification report of model\n",
    "\n",
    "from sklearn.metrics import precision_score\n",
    "from sklearn.metrics import recall_score\n",
    "from sklearn.metrics import f1_score"
   ]
  },
  {
   "cell_type": "code",
   "execution_count": 21,
   "metadata": {},
   "outputs": [],
   "source": [
    "from imblearn.metrics import specificity_score, sensitivity_score"
   ]
  },
  {
   "cell_type": "code",
   "execution_count": 22,
   "metadata": {},
   "outputs": [],
   "source": [
    "# splitting the dataset 80% for training and 20% testing\n",
    "X_train, X_test, y_train, y_test = train_test_split(X,y, test_size=0.10, random_state=42)"
   ]
  },
  {
   "cell_type": "code",
   "execution_count": 23,
   "metadata": {},
   "outputs": [
    {
     "data": {
      "text/plain": [
       "(117, 10)"
      ]
     },
     "execution_count": 23,
     "metadata": {},
     "output_type": "execute_result"
    }
   ],
   "source": [
    "X_train.shape"
   ]
  },
  {
   "cell_type": "code",
   "execution_count": 24,
   "metadata": {},
   "outputs": [],
   "source": [
    "ML_Model = []\n",
    "accuracy = []\n",
    "precision = []\n",
    "recall = []\n",
    "f1score = []\n",
    "spec = []\n",
    "sens = []\n",
    "\n",
    "#function to call for storing the results\n",
    "def storeResults(model, a,b,c,d,e,f):\n",
    "    ML_Model.append(model)\n",
    "    accuracy.append(round(a, 3))\n",
    "    precision.append(round(b, 3))\n",
    "    recall.append(round(c, 3))\n",
    "    f1score.append(round(d, 3))\n",
    "    spec.append(round(e,3))\n",
    "    sens.append(round(f,3))"
   ]
  },
  {
   "cell_type": "code",
   "execution_count": 68,
   "metadata": {},
   "outputs": [],
   "source": [
    "ML_Model1 = []\n",
    "accuracy1 = []\n",
    "precision1 = []\n",
    "recall1 = []\n",
    "f1score1 = []\n",
    "spec1 = []\n",
    "sens1 = []\n",
    "\n",
    "#function to call for storing the results\n",
    "def storeResults1(model, a,b,c,d,e,f):\n",
    "    ML_Model1.append(model)\n",
    "    accuracy1.append(round(a, 3))\n",
    "    precision1.append(round(b, 3))\n",
    "    recall1.append(round(c, 3))\n",
    "    f1score1.append(round(d, 3))\n",
    "    spec1.append(round(e,3))\n",
    "    sens1.append(round(f,3))"
   ]
  },
  {
   "cell_type": "markdown",
   "metadata": {},
   "source": [
    "# Modelling"
   ]
  },
  {
   "cell_type": "markdown",
   "metadata": {},
   "source": [
    "# KNN"
   ]
  },
  {
   "cell_type": "code",
   "execution_count": 25,
   "metadata": {},
   "outputs": [],
   "source": [
    "from sklearn.neighbors import KNeighborsClassifier\n",
    "knn = KNeighborsClassifier(n_neighbors=3)\n",
    "knn.fit(X_train, y_train)\n",
    "\n",
    "y_pred    = knn.predict(X_test)\n",
    "\n",
    "knn_acc = accuracy_score(y_pred, y_test)\n",
    "knn_prec = precision_score(y_pred, y_test,average='weighted')\n",
    "knn_rec = recall_score(y_pred, y_test,average='weighted')\n",
    "knn_f1 = f1_score(y_pred, y_test,average='weighted')\n",
    "knn_spec = specificity_score(y_pred, y_test,average='weighted')\n",
    "knn_sens = sensitivity_score(y_pred, y_test,average='weighted')"
   ]
  },
  {
   "cell_type": "code",
   "execution_count": 69,
   "metadata": {},
   "outputs": [],
   "source": [
    "storeResults('KNN',knn_acc,knn_prec,knn_rec,knn_f1,knn_spec,knn_sens)"
   ]
  },
  {
   "cell_type": "markdown",
   "metadata": {},
   "source": [
    "# Linear SVC"
   ]
  },
  {
   "cell_type": "code",
   "execution_count": 26,
   "metadata": {},
   "outputs": [],
   "source": [
    "from sklearn.svm import LinearSVC\n",
    "lsvc = LinearSVC(random_state=0, tol=1e-5)\n",
    "lsvc.fit(X_train, y_train)\n",
    "\n",
    "y_pred    = lsvc.predict(X_test)\n",
    "\n",
    "lsvc_acc = accuracy_score(y_pred, y_test)\n",
    "lsvc_prec = precision_score(y_pred, y_test,average='weighted')\n",
    "lsvc_rec = recall_score(y_pred, y_test,average='weighted')\n",
    "lsvc_f1 = f1_score(y_pred, y_test,average='weighted')\n",
    "lsvc_spec = specificity_score(y_pred, y_test,average='weighted')\n",
    "lsvc_sens = sensitivity_score(y_pred, y_test,average='weighted')"
   ]
  },
  {
   "cell_type": "code",
   "execution_count": 70,
   "metadata": {},
   "outputs": [],
   "source": [
    "storeResults('LinearSVC',lsvc_acc,lsvc_prec,lsvc_rec,lsvc_f1,lsvc_spec,lsvc_sens)"
   ]
  },
  {
   "cell_type": "markdown",
   "metadata": {},
   "source": [
    "# Gaussian Process"
   ]
  },
  {
   "cell_type": "code",
   "execution_count": 27,
   "metadata": {},
   "outputs": [],
   "source": [
    "from sklearn.gaussian_process import GaussianProcessClassifier\n",
    "from sklearn.gaussian_process.kernels import RBF\n",
    "\n",
    "kernel = 1.0 * RBF(1.0)\n",
    "\n",
    "gp = GaussianProcessClassifier(kernel=kernel,random_state=0)\n",
    "gp.fit(X_train, y_train)\n",
    "\n",
    "y_pred    = gp.predict(X_test)\n",
    "\n",
    "gp_acc = accuracy_score(y_pred, y_test)\n",
    "gp_prec = precision_score(y_pred, y_test,average='weighted')\n",
    "gp_rec = recall_score(y_pred, y_test,average='weighted')\n",
    "gp_f1 = f1_score(y_pred, y_test,average='weighted')\n",
    "gp_spec = specificity_score(y_pred, y_test,average='weighted')\n",
    "gp_sens = sensitivity_score(y_pred, y_test,average='weighted')"
   ]
  },
  {
   "cell_type": "code",
   "execution_count": 71,
   "metadata": {},
   "outputs": [],
   "source": [
    "storeResults('Guassian Process',gp_acc,gp_prec,gp_rec,gp_f1,gp_spec,gp_sens)"
   ]
  },
  {
   "cell_type": "markdown",
   "metadata": {},
   "source": [
    "# Decision Tree"
   ]
  },
  {
   "cell_type": "code",
   "execution_count": 28,
   "metadata": {},
   "outputs": [],
   "source": [
    "from sklearn.tree import DecisionTreeClassifier\n",
    "tree = DecisionTreeClassifier(random_state=1000)\n",
    "\n",
    "tree.fit(X_train, y_train)\n",
    "\n",
    "y_pred    = tree.predict(X_test)\n",
    "\n",
    "dt_acc = accuracy_score(y_pred, y_test)\n",
    "dt_prec = precision_score(y_pred, y_test,average='weighted')\n",
    "dt_rec = recall_score(y_pred, y_test,average='weighted')\n",
    "dt_f1 = f1_score(y_pred, y_test,average='weighted')\n",
    "dt_spec = specificity_score(y_pred, y_test,average='weighted')\n",
    "dt_sens = sensitivity_score(y_pred, y_test,average='weighted')"
   ]
  },
  {
   "cell_type": "code",
   "execution_count": 72,
   "metadata": {},
   "outputs": [],
   "source": [
    "storeResults('Decision Tree',dt_acc,dt_prec,dt_rec,dt_f1,dt_spec,dt_sens)"
   ]
  },
  {
   "cell_type": "markdown",
   "metadata": {},
   "source": [
    "# Naive Bayes"
   ]
  },
  {
   "cell_type": "code",
   "execution_count": 30,
   "metadata": {},
   "outputs": [],
   "source": [
    "from sklearn.naive_bayes import GaussianNB\n",
    "nb = GaussianNB()\n",
    "\n",
    "nb.fit(X_train, y_train)\n",
    "\n",
    "y_pred    = nb.predict(X_test)\n",
    "\n",
    "nb_acc = accuracy_score(y_pred, y_test)\n",
    "nb_prec = precision_score(y_pred, y_test,average='weighted')\n",
    "nb_rec = recall_score(y_pred, y_test,average='weighted')\n",
    "nb_f1 = f1_score(y_pred, y_test,average='weighted')\n",
    "nb_spec = specificity_score(y_pred, y_test,average='weighted')\n",
    "nb_sens = sensitivity_score(y_pred, y_test,average='weighted')"
   ]
  },
  {
   "cell_type": "code",
   "execution_count": 73,
   "metadata": {},
   "outputs": [],
   "source": [
    "storeResults('Naive Bayes',nb_acc,nb_prec,nb_rec,nb_f1,nb_spec,nb_sens)"
   ]
  },
  {
   "cell_type": "markdown",
   "metadata": {},
   "source": [
    "# QDA"
   ]
  },
  {
   "cell_type": "code",
   "execution_count": 31,
   "metadata": {},
   "outputs": [],
   "source": [
    "from sklearn.discriminant_analysis import QuadraticDiscriminantAnalysis\n",
    "qda = QuadraticDiscriminantAnalysis()\n",
    "\n",
    "qda.fit(X_train, y_train)\n",
    "\n",
    "y_pred    = qda.predict(X_test)\n",
    "\n",
    "qda_acc = accuracy_score(y_pred, y_test)\n",
    "qda_prec = precision_score(y_pred, y_test,average='weighted')\n",
    "qda_rec = recall_score(y_pred, y_test,average='weighted')\n",
    "qda_f1 = f1_score(y_pred, y_test,average='weighted')\n",
    "qda_spec = specificity_score(y_pred, y_test,average='weighted')\n",
    "qda_sens = sensitivity_score(y_pred, y_test,average='weighted')"
   ]
  },
  {
   "cell_type": "code",
   "execution_count": 74,
   "metadata": {},
   "outputs": [],
   "source": [
    "storeResults('QDA',qda_acc,qda_prec,qda_rec,qda_f1,qda_spec,qda_sens)"
   ]
  },
  {
   "cell_type": "markdown",
   "metadata": {},
   "source": [
    "# AdaBoost"
   ]
  },
  {
   "cell_type": "code",
   "execution_count": 32,
   "metadata": {},
   "outputs": [],
   "source": [
    "from sklearn.ensemble import AdaBoostClassifier\n",
    "ab = AdaBoostClassifier(n_estimators=100, random_state=0)\n",
    "\n",
    "ab.fit(X_train, y_train)\n",
    "\n",
    "y_pred    = ab.predict(X_test)\n",
    "\n",
    "ab_acc = accuracy_score(y_pred, y_test)\n",
    "ab_prec = precision_score(y_pred, y_test,average='weighted')\n",
    "ab_rec = recall_score(y_pred, y_test,average='weighted')\n",
    "ab_f1 = f1_score(y_pred, y_test,average='weighted')\n",
    "ab_spec = specificity_score(y_pred, y_test,average='weighted')\n",
    "ab_sens = sensitivity_score(y_pred, y_test,average='weighted')"
   ]
  },
  {
   "cell_type": "code",
   "execution_count": 75,
   "metadata": {},
   "outputs": [],
   "source": [
    "storeResults('AdaBoost',ab_acc,ab_prec,ab_rec,ab_f1,ab_spec,ab_sens)"
   ]
  },
  {
   "cell_type": "markdown",
   "metadata": {},
   "source": [
    "# Bagging Classifier"
   ]
  },
  {
   "cell_type": "code",
   "execution_count": 33,
   "metadata": {},
   "outputs": [],
   "source": [
    "from sklearn.ensemble import BaggingClassifier\n",
    "clf = BaggingClassifier(DecisionTreeClassifier(random_state=42),n_estimators=10, random_state=0)\n",
    "clf.fit(X_train, y_train)\n",
    "\n",
    "y_pred    = clf.predict(X_test)\n",
    "bg_acc = accuracy_score(y_pred, y_test)\n",
    "bg_prec = precision_score(y_pred, y_test,average='weighted')\n",
    "bg_rec = recall_score(y_pred, y_test,average='weighted')\n",
    "bg_f1 = f1_score(y_pred, y_test,average='weighted')\n",
    "bg_spec = specificity_score(y_pred, y_test,average='weighted')\n",
    "bg_sens = sensitivity_score(y_pred, y_test,average='weighted')"
   ]
  },
  {
   "cell_type": "code",
   "execution_count": 76,
   "metadata": {},
   "outputs": [],
   "source": [
    "storeResults('Bagging',bg_acc,bg_prec,bg_rec,bg_f1,bg_spec,bg_sens)"
   ]
  },
  {
   "cell_type": "markdown",
   "metadata": {},
   "source": [
    "# Boosting Classifier"
   ]
  },
  {
   "cell_type": "code",
   "execution_count": 34,
   "metadata": {},
   "outputs": [],
   "source": [
    "from sklearn.ensemble import GradientBoostingClassifier\n",
    "clf =  GradientBoostingClassifier(n_estimators=100, learning_rate=1.0,max_depth=1, random_state=0)\n",
    "clf.fit(X_train, y_train)\n",
    "\n",
    "y_pred    = clf.predict(X_test)\n",
    "bos_acc = accuracy_score(y_pred, y_test)\n",
    "bos_prec = precision_score(y_pred, y_test,average='weighted')\n",
    "bos_rec = recall_score(y_pred, y_test,average='weighted')\n",
    "bos_f1 = f1_score(y_pred, y_test,average='weighted')\n",
    "bos_spec = specificity_score(y_pred, y_test,average='weighted')\n",
    "bos_sens = sensitivity_score(y_pred, y_test,average='weighted')"
   ]
  },
  {
   "cell_type": "code",
   "execution_count": 77,
   "metadata": {},
   "outputs": [],
   "source": [
    "storeResults('Boosting',bos_acc,bos_prec,bos_rec,bos_f1,bos_spec,bos_sens)"
   ]
  },
  {
   "cell_type": "markdown",
   "metadata": {},
   "source": [
    "# Stacking Classifier"
   ]
  },
  {
   "cell_type": "code",
   "execution_count": 35,
   "metadata": {},
   "outputs": [],
   "source": [
    "from sklearn.ensemble import RandomForestClassifier\n",
    "from sklearn.neural_network import MLPClassifier\n",
    "from lightgbm import LGBMClassifier\n",
    "from sklearn.ensemble import StackingClassifier\n",
    "\n",
    "estimators = [('rf', RandomForestClassifier(n_estimators=1000)),('mlp', MLPClassifier(random_state=1, max_iter=3000))]\n",
    "\n",
    "clf = StackingClassifier(estimators=estimators, final_estimator=LGBMClassifier(n_estimators=1000))\n",
    "\n",
    "\n",
    "clf.fit(X_train,y_train)\n",
    "\n",
    "y_pred    = clf.predict(X_test)\n",
    "stac_acc = accuracy_score(y_pred, y_test)\n",
    "stac_prec = precision_score(y_pred, y_test,average='weighted')\n",
    "stac_rec = recall_score(y_pred, y_test,average='weighted')\n",
    "stac_f1 = f1_score(y_pred, y_test,average='weighted')\n",
    "stac_spec = specificity_score(y_pred, y_test,average='weighted')\n",
    "stac_sens = sensitivity_score(y_pred, y_test,average='weighted')"
   ]
  },
  {
   "cell_type": "code",
   "execution_count": 104,
   "metadata": {},
   "outputs": [],
   "source": [
    "storeResults('Stacking Classifier',stac_acc,stac_prec,stac_rec,stac_f1,stac_spec,stac_sens)"
   ]
  },
  {
   "cell_type": "markdown",
   "metadata": {},
   "source": [
    "# Voting Classifier"
   ]
  },
  {
   "cell_type": "code",
   "execution_count": 36,
   "metadata": {},
   "outputs": [],
   "source": [
    "from sklearn.ensemble import RandomForestClassifier, VotingClassifier\n",
    "clf1 = DecisionTreeClassifier(random_state=50)\n",
    "clf2 = RandomForestClassifier(random_state=10)\n",
    "\n",
    "eclf1 = VotingClassifier(estimators=[('ad', clf1), ('rf', clf2)], voting='soft')\n",
    "eclf1.fit(X_train,y_train)\n",
    "y_pred    = clf.predict(X_test)\n",
    "vot_acc = accuracy_score(y_pred, y_test)\n",
    "vot_prec = precision_score(y_pred, y_test,average='weighted')\n",
    "vot_rec = recall_score(y_pred, y_test,average='weighted')\n",
    "vot_f1 = f1_score(y_pred, y_test,average='weighted')\n",
    "vot_spec = specificity_score(y_pred, y_test,average='weighted')\n",
    "vot_sens = sensitivity_score(y_pred, y_test,average='weighted')"
   ]
  },
  {
   "cell_type": "code",
   "execution_count": 105,
   "metadata": {},
   "outputs": [],
   "source": [
    "storeResults('Voting Classifier',vot_acc,vot_prec,vot_rec,vot_f1,vot_spec,vot_sens)"
   ]
  },
  {
   "cell_type": "markdown",
   "metadata": {},
   "source": [
    "# DNN"
   ]
  },
  {
   "cell_type": "code",
   "execution_count": 37,
   "metadata": {},
   "outputs": [],
   "source": [
    "from keras.layers import Dense, BatchNormalization, Dropout, LSTM\n",
    "from keras.models import Sequential\n",
    "from keras import callbacks"
   ]
  },
  {
   "cell_type": "code",
   "execution_count": 38,
   "metadata": {},
   "outputs": [],
   "source": [
    "early_stopping = callbacks.EarlyStopping(\n",
    "    min_delta=0.001, # minimium amount of change to count as an improvement\n",
    "    patience=20, # how many epochs to wait before stopping\n",
    "    restore_best_weights=True)"
   ]
  },
  {
   "cell_type": "markdown",
   "metadata": {},
   "source": [
    "# 3 Layers"
   ]
  },
  {
   "cell_type": "code",
   "execution_count": 39,
   "metadata": {},
   "outputs": [],
   "source": [
    "# Initialising the NN\n",
    "model = Sequential()\n",
    "\n",
    "# layers\n",
    "model.add(Dense(units = 64, kernel_initializer = 'uniform', activation = 'relu', input_dim = 10))\n",
    "model.add(Dense(units = 32, kernel_initializer = 'uniform', activation = 'relu'))\n",
    "model.add(Dropout(0.25))\n",
    "model.add(Dense(units = 32, kernel_initializer = 'uniform', activation = 'relu'))\n",
    "model.add(Dropout(0.5))\n",
    "model.add(Dense(units = 1, kernel_initializer = 'uniform', activation = 'sigmoid'))\n",
    "\n",
    "# Compiling the ANN\n",
    "model.compile(optimizer = 'adam', loss = 'binary_crossentropy', metrics = ['accuracy'])"
   ]
  },
  {
   "cell_type": "code",
   "execution_count": 40,
   "metadata": {},
   "outputs": [
    {
     "name": "stdout",
     "output_type": "stream",
     "text": [
      "Epoch 1/100\n",
      "47/47 [==============================] - 26s 23ms/step - loss: 0.6664 - accuracy: 0.7777 - val_loss: 0.5173 - val_accuracy: 0.7917\n",
      "Epoch 2/100\n",
      "47/47 [==============================] - 0s 2ms/step - loss: 0.6371 - accuracy: 0.7527 - val_loss: 0.5425 - val_accuracy: 0.7917\n",
      "Epoch 3/100\n",
      "47/47 [==============================] - 0s 2ms/step - loss: 0.5417 - accuracy: 0.8144 - val_loss: 0.5335 - val_accuracy: 0.7917\n",
      "Epoch 4/100\n",
      "47/47 [==============================] - 0s 2ms/step - loss: 0.5157 - accuracy: 0.7729 - val_loss: 0.5519 - val_accuracy: 0.7917\n",
      "Epoch 5/100\n",
      "47/47 [==============================] - 0s 2ms/step - loss: 0.5508 - accuracy: 0.7385 - val_loss: 0.5472 - val_accuracy: 0.7917\n",
      "Epoch 6/100\n",
      "47/47 [==============================] - 0s 2ms/step - loss: 0.5780 - accuracy: 0.7998 - val_loss: 0.5666 - val_accuracy: 0.7917\n",
      "Epoch 7/100\n",
      "47/47 [==============================] - 0s 2ms/step - loss: 0.4622 - accuracy: 0.7949 - val_loss: 0.5980 - val_accuracy: 0.7917\n",
      "Epoch 8/100\n",
      "47/47 [==============================] - 0s 2ms/step - loss: 0.3673 - accuracy: 0.7988 - val_loss: 0.6102 - val_accuracy: 0.7917\n",
      "Epoch 9/100\n",
      "47/47 [==============================] - 0s 2ms/step - loss: 0.5673 - accuracy: 0.7224 - val_loss: 0.6316 - val_accuracy: 0.7917\n",
      "Epoch 10/100\n",
      "47/47 [==============================] - 0s 2ms/step - loss: 0.4486 - accuracy: 0.7765 - val_loss: 0.6167 - val_accuracy: 0.7917\n",
      "Epoch 11/100\n",
      "47/47 [==============================] - 0s 2ms/step - loss: 0.4403 - accuracy: 0.8212 - val_loss: 0.6390 - val_accuracy: 0.7917\n",
      "Epoch 12/100\n",
      "47/47 [==============================] - 0s 2ms/step - loss: 0.4497 - accuracy: 0.7673 - val_loss: 0.6291 - val_accuracy: 0.7917\n",
      "Epoch 13/100\n",
      "47/47 [==============================] - 0s 2ms/step - loss: 0.4157 - accuracy: 0.7920 - val_loss: 0.6466 - val_accuracy: 0.7917\n",
      "Epoch 14/100\n",
      "47/47 [==============================] - 0s 2ms/step - loss: 0.3739 - accuracy: 0.8106 - val_loss: 0.6306 - val_accuracy: 0.7917\n",
      "Epoch 15/100\n",
      "47/47 [==============================] - 0s 2ms/step - loss: 0.4657 - accuracy: 0.8339 - val_loss: 0.6357 - val_accuracy: 0.7917\n",
      "Epoch 16/100\n",
      "47/47 [==============================] - 0s 2ms/step - loss: 0.3932 - accuracy: 0.8168 - val_loss: 0.6505 - val_accuracy: 0.7917\n",
      "Epoch 17/100\n",
      "47/47 [==============================] - 0s 2ms/step - loss: 0.4660 - accuracy: 0.7767 - val_loss: 0.6756 - val_accuracy: 0.7917\n",
      "Epoch 18/100\n",
      "47/47 [==============================] - 0s 2ms/step - loss: 0.3617 - accuracy: 0.8320 - val_loss: 0.6518 - val_accuracy: 0.7917\n",
      "Epoch 19/100\n",
      "47/47 [==============================] - 0s 2ms/step - loss: 0.4578 - accuracy: 0.7649 - val_loss: 0.6575 - val_accuracy: 0.7917\n",
      "Epoch 20/100\n",
      "47/47 [==============================] - 0s 2ms/step - loss: 0.3498 - accuracy: 0.8187 - val_loss: 0.6664 - val_accuracy: 0.7917\n",
      "Epoch 21/100\n",
      "47/47 [==============================] - 0s 2ms/step - loss: 0.3790 - accuracy: 0.8844 - val_loss: 0.6440 - val_accuracy: 0.7917\n",
      "Epoch 22/100\n",
      "47/47 [==============================] - 0s 2ms/step - loss: 0.4567 - accuracy: 0.7764 - val_loss: 0.7160 - val_accuracy: 0.7917\n",
      "Epoch 23/100\n",
      "47/47 [==============================] - 0s 2ms/step - loss: 0.3874 - accuracy: 0.7637 - val_loss: 0.6408 - val_accuracy: 0.7917\n",
      "Epoch 24/100\n",
      "47/47 [==============================] - 0s 2ms/step - loss: 0.3624 - accuracy: 0.8430 - val_loss: 0.6950 - val_accuracy: 0.7917\n",
      "Epoch 25/100\n",
      "47/47 [==============================] - 0s 2ms/step - loss: 0.4250 - accuracy: 0.7893 - val_loss: 0.7204 - val_accuracy: 0.7917\n",
      "Epoch 26/100\n",
      "47/47 [==============================] - 0s 2ms/step - loss: 0.3280 - accuracy: 0.8064 - val_loss: 0.6693 - val_accuracy: 0.7917\n",
      "Epoch 27/100\n",
      "47/47 [==============================] - 0s 2ms/step - loss: 0.3897 - accuracy: 0.7818 - val_loss: 0.7533 - val_accuracy: 0.7917\n",
      "Epoch 28/100\n",
      "47/47 [==============================] - 0s 2ms/step - loss: 0.5164 - accuracy: 0.7743 - val_loss: 0.7140 - val_accuracy: 0.7083\n",
      "Epoch 29/100\n",
      "47/47 [==============================] - 0s 2ms/step - loss: 0.3962 - accuracy: 0.8031 - val_loss: 0.7228 - val_accuracy: 0.7917\n",
      "Epoch 30/100\n",
      "47/47 [==============================] - 0s 2ms/step - loss: 0.4173 - accuracy: 0.7892 - val_loss: 0.6942 - val_accuracy: 0.7083\n",
      "Epoch 31/100\n",
      "47/47 [==============================] - 0s 2ms/step - loss: 0.3463 - accuracy: 0.8342 - val_loss: 0.7088 - val_accuracy: 0.7500\n",
      "Epoch 32/100\n",
      "47/47 [==============================] - 0s 2ms/step - loss: 0.3801 - accuracy: 0.8880 - val_loss: 0.7588 - val_accuracy: 0.7500\n",
      "Epoch 33/100\n",
      "47/47 [==============================] - 0s 2ms/step - loss: 0.4545 - accuracy: 0.8007 - val_loss: 0.7507 - val_accuracy: 0.7083\n",
      "Epoch 34/100\n",
      "47/47 [==============================] - 0s 2ms/step - loss: 0.4165 - accuracy: 0.8284 - val_loss: 0.8258 - val_accuracy: 0.6667\n",
      "Epoch 35/100\n",
      "47/47 [==============================] - 0s 2ms/step - loss: 0.3710 - accuracy: 0.8529 - val_loss: 0.7918 - val_accuracy: 0.5833\n",
      "Epoch 36/100\n",
      "47/47 [==============================] - 0s 2ms/step - loss: 0.3147 - accuracy: 0.8891 - val_loss: 0.7918 - val_accuracy: 0.7083\n",
      "Epoch 37/100\n",
      "47/47 [==============================] - 0s 2ms/step - loss: 0.2965 - accuracy: 0.8486 - val_loss: 0.8019 - val_accuracy: 0.6250\n",
      "Epoch 38/100\n",
      "47/47 [==============================] - 0s 2ms/step - loss: 0.3558 - accuracy: 0.9059 - val_loss: 0.8192 - val_accuracy: 0.7083\n",
      "Epoch 39/100\n",
      "47/47 [==============================] - 0s 2ms/step - loss: 0.3256 - accuracy: 0.8843 - val_loss: 0.6710 - val_accuracy: 0.7083\n",
      "Epoch 40/100\n",
      "47/47 [==============================] - 0s 2ms/step - loss: 0.3866 - accuracy: 0.7896 - val_loss: 0.8081 - val_accuracy: 0.7083\n",
      "Epoch 41/100\n",
      "47/47 [==============================] - 0s 2ms/step - loss: 0.3110 - accuracy: 0.9165 - val_loss: 0.8220 - val_accuracy: 0.5417\n",
      "Epoch 42/100\n",
      "47/47 [==============================] - 0s 2ms/step - loss: 0.4134 - accuracy: 0.8407 - val_loss: 0.8688 - val_accuracy: 0.7083\n",
      "Epoch 43/100\n",
      "47/47 [==============================] - 0s 2ms/step - loss: 0.4643 - accuracy: 0.8332 - val_loss: 0.7923 - val_accuracy: 0.7500\n",
      "Epoch 44/100\n",
      "47/47 [==============================] - 0s 2ms/step - loss: 0.3288 - accuracy: 0.8898 - val_loss: 0.8338 - val_accuracy: 0.6250\n",
      "Epoch 45/100\n",
      "47/47 [==============================] - 0s 2ms/step - loss: 0.3726 - accuracy: 0.8479 - val_loss: 0.8177 - val_accuracy: 0.6667\n",
      "Epoch 46/100\n",
      "47/47 [==============================] - 0s 2ms/step - loss: 0.3468 - accuracy: 0.9158 - val_loss: 0.8362 - val_accuracy: 0.6667\n",
      "Epoch 47/100\n",
      "47/47 [==============================] - 0s 2ms/step - loss: 0.3188 - accuracy: 0.8727 - val_loss: 0.7853 - val_accuracy: 0.7500\n",
      "Epoch 48/100\n",
      "47/47 [==============================] - 0s 2ms/step - loss: 0.3785 - accuracy: 0.8506 - val_loss: 0.8704 - val_accuracy: 0.7083\n",
      "Epoch 49/100\n",
      "47/47 [==============================] - 0s 2ms/step - loss: 0.2427 - accuracy: 0.9313 - val_loss: 0.9380 - val_accuracy: 0.5833\n",
      "Epoch 50/100\n",
      "47/47 [==============================] - 0s 2ms/step - loss: 0.4641 - accuracy: 0.7924 - val_loss: 0.9119 - val_accuracy: 0.6667\n",
      "Epoch 51/100\n",
      "47/47 [==============================] - 0s 2ms/step - loss: 0.3332 - accuracy: 0.8849 - val_loss: 0.9039 - val_accuracy: 0.7083\n",
      "Epoch 52/100\n",
      "47/47 [==============================] - 0s 2ms/step - loss: 0.3160 - accuracy: 0.8955 - val_loss: 0.9348 - val_accuracy: 0.6667\n",
      "Epoch 53/100\n",
      "47/47 [==============================] - 0s 2ms/step - loss: 0.2739 - accuracy: 0.9275 - val_loss: 0.9281 - val_accuracy: 0.6667\n",
      "Epoch 54/100\n",
      "47/47 [==============================] - 0s 2ms/step - loss: 0.2920 - accuracy: 0.9055 - val_loss: 0.9145 - val_accuracy: 0.6667\n",
      "Epoch 55/100\n",
      "47/47 [==============================] - 0s 2ms/step - loss: 0.3531 - accuracy: 0.8554 - val_loss: 1.0936 - val_accuracy: 0.6667\n",
      "Epoch 56/100\n",
      "47/47 [==============================] - 0s 2ms/step - loss: 0.3407 - accuracy: 0.8737 - val_loss: 0.9903 - val_accuracy: 0.6667\n",
      "Epoch 57/100\n",
      "47/47 [==============================] - 0s 2ms/step - loss: 0.3117 - accuracy: 0.8680 - val_loss: 0.9573 - val_accuracy: 0.7500\n",
      "Epoch 58/100\n",
      "47/47 [==============================] - 0s 2ms/step - loss: 0.2781 - accuracy: 0.8517 - val_loss: 1.1525 - val_accuracy: 0.6250\n"
     ]
    },
    {
     "name": "stdout",
     "output_type": "stream",
     "text": [
      "Epoch 59/100\n",
      "47/47 [==============================] - 0s 2ms/step - loss: 0.2785 - accuracy: 0.8664 - val_loss: 1.0385 - val_accuracy: 0.6250\n",
      "Epoch 60/100\n",
      "47/47 [==============================] - 0s 2ms/step - loss: 0.3246 - accuracy: 0.8824 - val_loss: 0.9885 - val_accuracy: 0.7500\n",
      "Epoch 61/100\n",
      "47/47 [==============================] - 0s 2ms/step - loss: 0.2882 - accuracy: 0.9217 - val_loss: 0.9886 - val_accuracy: 0.7083\n",
      "Epoch 62/100\n",
      "47/47 [==============================] - 0s 2ms/step - loss: 0.2877 - accuracy: 0.8642 - val_loss: 1.1117 - val_accuracy: 0.5417\n",
      "Epoch 63/100\n",
      "47/47 [==============================] - 0s 2ms/step - loss: 0.2526 - accuracy: 0.9306 - val_loss: 1.1789 - val_accuracy: 0.4583\n",
      "Epoch 64/100\n",
      "47/47 [==============================] - 0s 2ms/step - loss: 0.3302 - accuracy: 0.8910 - val_loss: 0.9653 - val_accuracy: 0.7083\n",
      "Epoch 65/100\n",
      "47/47 [==============================] - 0s 2ms/step - loss: 0.2396 - accuracy: 0.9103 - val_loss: 1.0201 - val_accuracy: 0.7083\n",
      "Epoch 66/100\n",
      "47/47 [==============================] - 0s 2ms/step - loss: 0.3527 - accuracy: 0.8586 - val_loss: 1.0610 - val_accuracy: 0.5833\n",
      "Epoch 67/100\n",
      "47/47 [==============================] - 0s 2ms/step - loss: 0.2814 - accuracy: 0.9152 - val_loss: 1.0542 - val_accuracy: 0.7083\n",
      "Epoch 68/100\n",
      "47/47 [==============================] - 0s 2ms/step - loss: 0.2277 - accuracy: 0.9465 - val_loss: 1.0712 - val_accuracy: 0.7083\n",
      "Epoch 69/100\n",
      "47/47 [==============================] - 0s 2ms/step - loss: 0.3568 - accuracy: 0.8918 - val_loss: 1.1284 - val_accuracy: 0.5000\n",
      "Epoch 70/100\n",
      "47/47 [==============================] - 0s 2ms/step - loss: 0.2137 - accuracy: 0.9316 - val_loss: 1.1534 - val_accuracy: 0.7083\n",
      "Epoch 71/100\n",
      "47/47 [==============================] - 0s 2ms/step - loss: 0.2685 - accuracy: 0.9038 - val_loss: 1.1634 - val_accuracy: 0.7083\n",
      "Epoch 72/100\n",
      "47/47 [==============================] - 0s 2ms/step - loss: 0.4835 - accuracy: 0.8241 - val_loss: 1.0515 - val_accuracy: 0.7083\n",
      "Epoch 73/100\n",
      "47/47 [==============================] - 0s 2ms/step - loss: 0.3507 - accuracy: 0.8826 - val_loss: 1.0876 - val_accuracy: 0.7083\n",
      "Epoch 74/100\n",
      "47/47 [==============================] - 0s 2ms/step - loss: 0.3254 - accuracy: 0.8607 - val_loss: 1.1962 - val_accuracy: 0.6250\n",
      "Epoch 75/100\n",
      "47/47 [==============================] - 0s 2ms/step - loss: 0.1641 - accuracy: 0.9621 - val_loss: 1.2383 - val_accuracy: 0.6667\n",
      "Epoch 76/100\n",
      "47/47 [==============================] - 0s 2ms/step - loss: 0.1762 - accuracy: 0.9368 - val_loss: 1.1135 - val_accuracy: 0.6667\n",
      "Epoch 77/100\n",
      "47/47 [==============================] - 0s 2ms/step - loss: 0.2074 - accuracy: 0.9092 - val_loss: 1.1014 - val_accuracy: 0.6667\n",
      "Epoch 78/100\n",
      "47/47 [==============================] - 0s 2ms/step - loss: 0.2978 - accuracy: 0.8985 - val_loss: 1.2095 - val_accuracy: 0.7500\n",
      "Epoch 79/100\n",
      "47/47 [==============================] - 0s 2ms/step - loss: 0.3140 - accuracy: 0.8777 - val_loss: 0.9654 - val_accuracy: 0.7083\n",
      "Epoch 80/100\n",
      "47/47 [==============================] - 0s 2ms/step - loss: 0.2461 - accuracy: 0.9114 - val_loss: 1.1236 - val_accuracy: 0.7083\n",
      "Epoch 81/100\n",
      "47/47 [==============================] - 0s 2ms/step - loss: 0.2387 - accuracy: 0.8886 - val_loss: 1.1282 - val_accuracy: 0.7083\n",
      "Epoch 82/100\n",
      "47/47 [==============================] - 0s 2ms/step - loss: 0.2928 - accuracy: 0.9015 - val_loss: 1.3289 - val_accuracy: 0.5833\n",
      "Epoch 83/100\n",
      "47/47 [==============================] - 0s 2ms/step - loss: 0.3006 - accuracy: 0.9116 - val_loss: 1.3107 - val_accuracy: 0.6667\n",
      "Epoch 84/100\n",
      "47/47 [==============================] - 0s 2ms/step - loss: 0.3140 - accuracy: 0.8741 - val_loss: 1.2741 - val_accuracy: 0.5000\n",
      "Epoch 85/100\n",
      "47/47 [==============================] - 0s 2ms/step - loss: 0.2268 - accuracy: 0.8926 - val_loss: 1.3342 - val_accuracy: 0.5417\n",
      "Epoch 86/100\n",
      "47/47 [==============================] - 0s 2ms/step - loss: 0.3841 - accuracy: 0.8926 - val_loss: 1.3532 - val_accuracy: 0.7083\n",
      "Epoch 87/100\n",
      "47/47 [==============================] - 0s 2ms/step - loss: 0.2178 - accuracy: 0.8919 - val_loss: 1.3147 - val_accuracy: 0.6250\n",
      "Epoch 88/100\n",
      "47/47 [==============================] - 0s 2ms/step - loss: 0.2020 - accuracy: 0.9214 - val_loss: 1.3167 - val_accuracy: 0.6667\n",
      "Epoch 89/100\n",
      "47/47 [==============================] - 0s 2ms/step - loss: 0.2141 - accuracy: 0.9043 - val_loss: 1.3808 - val_accuracy: 0.5000\n",
      "Epoch 90/100\n",
      "47/47 [==============================] - 0s 2ms/step - loss: 0.2506 - accuracy: 0.8871 - val_loss: 1.3236 - val_accuracy: 0.7083\n",
      "Epoch 91/100\n",
      "47/47 [==============================] - 0s 2ms/step - loss: 0.3003 - accuracy: 0.8712 - val_loss: 1.5303 - val_accuracy: 0.4167\n",
      "Epoch 92/100\n",
      "47/47 [==============================] - 0s 2ms/step - loss: 0.2118 - accuracy: 0.9526 - val_loss: 1.4264 - val_accuracy: 0.7083\n",
      "Epoch 93/100\n",
      "47/47 [==============================] - 0s 2ms/step - loss: 0.2523 - accuracy: 0.9077 - val_loss: 1.5864 - val_accuracy: 0.5417\n",
      "Epoch 94/100\n",
      "47/47 [==============================] - 0s 2ms/step - loss: 0.1673 - accuracy: 0.9248 - val_loss: 1.5589 - val_accuracy: 0.5833\n",
      "Epoch 95/100\n",
      "47/47 [==============================] - 0s 2ms/step - loss: 0.2336 - accuracy: 0.9373 - val_loss: 1.6456 - val_accuracy: 0.7083\n",
      "Epoch 96/100\n",
      "47/47 [==============================] - 0s 2ms/step - loss: 0.1453 - accuracy: 0.9266 - val_loss: 1.5067 - val_accuracy: 0.5833\n",
      "Epoch 97/100\n",
      "47/47 [==============================] - 0s 2ms/step - loss: 0.2600 - accuracy: 0.9071 - val_loss: 1.4200 - val_accuracy: 0.7083\n",
      "Epoch 98/100\n",
      "47/47 [==============================] - 0s 2ms/step - loss: 0.2609 - accuracy: 0.8750 - val_loss: 1.4932 - val_accuracy: 0.7083\n",
      "Epoch 99/100\n",
      "47/47 [==============================] - 0s 2ms/step - loss: 0.1482 - accuracy: 0.9549 - val_loss: 1.7380 - val_accuracy: 0.5000\n",
      "Epoch 100/100\n",
      "47/47 [==============================] - 0s 2ms/step - loss: 0.1564 - accuracy: 0.9375 - val_loss: 1.5458 - val_accuracy: 0.6250\n"
     ]
    }
   ],
   "source": [
    "# Train the ANN\n",
    "history = model.fit(X_train, y_train, batch_size = 2, epochs = 100, validation_split=0.2)"
   ]
  },
  {
   "cell_type": "code",
   "execution_count": 41,
   "metadata": {},
   "outputs": [
    {
     "data": {
      "image/png": "[encoded data removed]",
      "text/plain": [
       "<Figure size 432x288 with 1 Axes>"
      ]
     },
     "metadata": {
      "needs_background": "light"
     },
     "output_type": "display_data"
    },
    {
     "data": {
      "image/png": "[encoded data removed]",
      "text/plain": [
       "<Figure size 432x288 with 1 Axes>"
      ]
     },
     "metadata": {
      "needs_background": "light"
     },
     "output_type": "display_data"
    }
   ],
   "source": [
    "history_df = pd.DataFrame(history.history)\n",
    "\n",
    "plt.plot(history_df.loc[:, ['loss']], \"#CD5C5C\", label='Training loss')\n",
    "plt.plot(history_df.loc[:, ['val_loss']],\"#FF0000\", label='Validation loss')\n",
    "plt.title('Training and Validation loss')\n",
    "plt.xlabel('Epochs')\n",
    "plt.ylabel('Loss')\n",
    "plt.legend(loc=\"best\")\n",
    "\n",
    "plt.show()\n",
    "\n",
    "history_df = pd.DataFrame(history.history)\n",
    "\n",
    "plt.plot(history_df.loc[:, ['accuracy']], \"#CD5C5C\", label='Training accuracy')\n",
    "plt.plot(history_df.loc[:, ['val_accuracy']],\"#FF0000\", label='Validation accuracy')\n",
    "\n",
    "plt.title('Training and Validation accuracy')\n",
    "plt.xlabel('Epochs')\n",
    "plt.ylabel('Accuracy')\n",
    "plt.legend()\n",
    "plt.show()"
   ]
  },
  {
   "cell_type": "code",
   "execution_count": 42,
   "metadata": {},
   "outputs": [],
   "source": [
    "# Predicting the test set results\n",
    "y_pred = model.predict(X_test)\n",
    "y_pred = (y_pred > 0.4)"
   ]
  },
  {
   "cell_type": "code",
   "execution_count": 43,
   "metadata": {},
   "outputs": [],
   "source": [
    "dnn_3_acc = accuracy_score(y_pred, y_test)\n",
    "dnn_3_prec = precision_score(y_pred, y_test,average='weighted')\n",
    "dnn_3_rec = recall_score(y_pred, y_test,average='weighted')\n",
    "dnn_3_f1 = f1_score(y_pred, y_test,average='weighted')\n",
    "dnn_3_spec = specificity_score(y_pred, y_test,average='weighted')\n",
    "dnn_3_sens = sensitivity_score(y_pred, y_test,average='weighted')"
   ]
  },
  {
   "cell_type": "code",
   "execution_count": 78,
   "metadata": {},
   "outputs": [],
   "source": [
    "storeResults1('DNN - 3 Layers',dnn_3_acc,dnn_3_prec,dnn_3_rec,dnn_3_f1,dnn_3_spec,dnn_3_sens)"
   ]
  },
  {
   "cell_type": "markdown",
   "metadata": {},
   "source": [
    "# 4 Layers"
   ]
  },
  {
   "cell_type": "code",
   "execution_count": 44,
   "metadata": {},
   "outputs": [],
   "source": [
    "# Initialising the NN\n",
    "model = Sequential()\n",
    "\n",
    "# layers\n",
    "model.add(Dense(units = 128, kernel_initializer = 'uniform', activation = 'relu', input_dim = 10))\n",
    "model.add(Dense(units = 64, kernel_initializer = 'uniform', activation = 'relu'))\n",
    "model.add(Dropout(0.25))\n",
    "model.add(Dense(units = 64, kernel_initializer = 'uniform', activation = 'relu'))\n",
    "model.add(Dropout(0.5))\n",
    "model.add(Dense(units = 32, kernel_initializer = 'uniform', activation = 'relu'))\n",
    "model.add(Dropout(0.5))\n",
    "model.add(Dense(units = 1, kernel_initializer = 'uniform', activation = 'sigmoid'))\n",
    "\n",
    "# Compiling the ANN\n",
    "model.compile(optimizer = 'adam', loss = 'binary_crossentropy', metrics = ['accuracy'])"
   ]
  },
  {
   "cell_type": "code",
   "execution_count": 45,
   "metadata": {},
   "outputs": [
    {
     "name": "stdout",
     "output_type": "stream",
     "text": [
      "Epoch 1/100\n",
      "47/47 [==============================] - 3s 16ms/step - loss: 0.6766 - accuracy: 0.6679 - val_loss: 0.5178 - val_accuracy: 0.7917\n",
      "Epoch 2/100\n",
      "47/47 [==============================] - 0s 2ms/step - loss: 0.4924 - accuracy: 0.8266 - val_loss: 0.5237 - val_accuracy: 0.7917\n",
      "Epoch 3/100\n",
      "47/47 [==============================] - 0s 2ms/step - loss: 0.4169 - accuracy: 0.8186 - val_loss: 0.5579 - val_accuracy: 0.7917\n",
      "Epoch 4/100\n",
      "47/47 [==============================] - 0s 2ms/step - loss: 0.4103 - accuracy: 0.8558 - val_loss: 0.5958 - val_accuracy: 0.7917\n",
      "Epoch 5/100\n",
      "47/47 [==============================] - 0s 3ms/step - loss: 0.5118 - accuracy: 0.8363 - val_loss: 0.6470 - val_accuracy: 0.7917\n",
      "Epoch 6/100\n",
      "47/47 [==============================] - 0s 3ms/step - loss: 0.4172 - accuracy: 0.8214 - val_loss: 0.6698 - val_accuracy: 0.7917\n",
      "Epoch 7/100\n",
      "47/47 [==============================] - 0s 3ms/step - loss: 0.5319 - accuracy: 0.7668 - val_loss: 0.7670 - val_accuracy: 0.7917\n",
      "Epoch 8/100\n",
      "47/47 [==============================] - 0s 3ms/step - loss: 0.4824 - accuracy: 0.7759 - val_loss: 0.7068 - val_accuracy: 0.7917\n",
      "Epoch 9/100\n",
      "47/47 [==============================] - 0s 3ms/step - loss: 0.4031 - accuracy: 0.7801 - val_loss: 0.7233 - val_accuracy: 0.7917\n",
      "Epoch 10/100\n",
      "47/47 [==============================] - 0s 3ms/step - loss: 0.4203 - accuracy: 0.7721 - val_loss: 0.6619 - val_accuracy: 0.7917\n",
      "Epoch 11/100\n",
      "47/47 [==============================] - 0s 3ms/step - loss: 0.3986 - accuracy: 0.8225 - val_loss: 0.6699 - val_accuracy: 0.7917\n",
      "Epoch 12/100\n",
      "47/47 [==============================] - 0s 3ms/step - loss: 0.4305 - accuracy: 0.8165 - val_loss: 0.6743 - val_accuracy: 0.7917\n",
      "Epoch 13/100\n",
      "47/47 [==============================] - 0s 3ms/step - loss: 0.3936 - accuracy: 0.7888 - val_loss: 0.7243 - val_accuracy: 0.7917\n",
      "Epoch 14/100\n",
      "47/47 [==============================] - 0s 4ms/step - loss: 0.4040 - accuracy: 0.8503 - val_loss: 0.6853 - val_accuracy: 0.7917\n",
      "Epoch 15/100\n",
      "47/47 [==============================] - 0s 3ms/step - loss: 0.6643 - accuracy: 0.7838 - val_loss: 0.7165 - val_accuracy: 0.7917\n",
      "Epoch 16/100\n",
      "47/47 [==============================] - 0s 3ms/step - loss: 0.3364 - accuracy: 0.8695 - val_loss: 0.7011 - val_accuracy: 0.7917\n",
      "Epoch 17/100\n",
      "47/47 [==============================] - 0s 3ms/step - loss: 0.4810 - accuracy: 0.7678 - val_loss: 0.7936 - val_accuracy: 0.7917\n",
      "Epoch 18/100\n",
      "47/47 [==============================] - 0s 4ms/step - loss: 0.4355 - accuracy: 0.7929 - val_loss: 0.6942 - val_accuracy: 0.7917\n",
      "Epoch 19/100\n",
      "47/47 [==============================] - 0s 4ms/step - loss: 0.3696 - accuracy: 0.8475 - val_loss: 0.7476 - val_accuracy: 0.7917\n",
      "Epoch 20/100\n",
      "47/47 [==============================] - 0s 4ms/step - loss: 0.3960 - accuracy: 0.7643 - val_loss: 0.7098 - val_accuracy: 0.7917\n",
      "Epoch 21/100\n",
      "47/47 [==============================] - 0s 4ms/step - loss: 0.4297 - accuracy: 0.7577 - val_loss: 0.7073 - val_accuracy: 0.7917\n",
      "Epoch 22/100\n",
      "47/47 [==============================] - 0s 4ms/step - loss: 0.3508 - accuracy: 0.8271 - val_loss: 0.7295 - val_accuracy: 0.7917\n",
      "Epoch 23/100\n",
      "47/47 [==============================] - 0s 4ms/step - loss: 0.2983 - accuracy: 0.8953 - val_loss: 0.6569 - val_accuracy: 0.7917\n",
      "Epoch 24/100\n",
      "47/47 [==============================] - 0s 4ms/step - loss: 0.3780 - accuracy: 0.8028 - val_loss: 0.7059 - val_accuracy: 0.7917\n",
      "Epoch 25/100\n",
      "47/47 [==============================] - 0s 4ms/step - loss: 0.6170 - accuracy: 0.7827 - val_loss: 0.6607 - val_accuracy: 0.7917\n",
      "Epoch 26/100\n",
      "47/47 [==============================] - 0s 4ms/step - loss: 0.4108 - accuracy: 0.7801 - val_loss: 0.7314 - val_accuracy: 0.7917\n",
      "Epoch 27/100\n",
      "47/47 [==============================] - 0s 4ms/step - loss: 0.3841 - accuracy: 0.7615 - val_loss: 0.7578 - val_accuracy: 0.7917\n",
      "Epoch 28/100\n",
      "47/47 [==============================] - 0s 4ms/step - loss: 0.3701 - accuracy: 0.8092 - val_loss: 0.6630 - val_accuracy: 0.7917\n",
      "Epoch 29/100\n",
      "47/47 [==============================] - 0s 4ms/step - loss: 0.3694 - accuracy: 0.8607 - val_loss: 0.6595 - val_accuracy: 0.7917\n",
      "Epoch 30/100\n",
      "47/47 [==============================] - 0s 4ms/step - loss: 0.3486 - accuracy: 0.8676 - val_loss: 0.6744 - val_accuracy: 0.7917\n",
      "Epoch 31/100\n",
      "47/47 [==============================] - 0s 4ms/step - loss: 0.4113 - accuracy: 0.7937 - val_loss: 0.6899 - val_accuracy: 0.7917\n",
      "Epoch 32/100\n",
      "47/47 [==============================] - 0s 4ms/step - loss: 0.4519 - accuracy: 0.7922 - val_loss: 0.7642 - val_accuracy: 0.7917\n",
      "Epoch 33/100\n",
      "47/47 [==============================] - 0s 3ms/step - loss: 0.3973 - accuracy: 0.7665 - val_loss: 0.7008 - val_accuracy: 0.7917\n",
      "Epoch 34/100\n",
      "47/47 [==============================] - 0s 3ms/step - loss: 0.4417 - accuracy: 0.7682 - val_loss: 0.6592 - val_accuracy: 0.7917\n",
      "Epoch 35/100\n",
      "47/47 [==============================] - 0s 4ms/step - loss: 0.4350 - accuracy: 0.7435 - val_loss: 0.6998 - val_accuracy: 0.7917\n",
      "Epoch 36/100\n",
      "47/47 [==============================] - 0s 4ms/step - loss: 0.3463 - accuracy: 0.8236 - val_loss: 0.7168 - val_accuracy: 0.7917\n",
      "Epoch 37/100\n",
      "47/47 [==============================] - 0s 3ms/step - loss: 0.3923 - accuracy: 0.8066 - val_loss: 0.7850 - val_accuracy: 0.7917\n",
      "Epoch 38/100\n",
      "47/47 [==============================] - 0s 4ms/step - loss: 0.3304 - accuracy: 0.8527 - val_loss: 0.7367 - val_accuracy: 0.7917\n",
      "Epoch 39/100\n",
      "47/47 [==============================] - 0s 4ms/step - loss: 0.3736 - accuracy: 0.7953 - val_loss: 0.7720 - val_accuracy: 0.7917\n",
      "Epoch 40/100\n",
      "47/47 [==============================] - 0s 3ms/step - loss: 0.2962 - accuracy: 0.8953 - val_loss: 0.6977 - val_accuracy: 0.6250\n",
      "Epoch 41/100\n",
      "47/47 [==============================] - 0s 3ms/step - loss: 0.4298 - accuracy: 0.8424 - val_loss: 0.7805 - val_accuracy: 0.7917\n",
      "Epoch 42/100\n",
      "47/47 [==============================] - 0s 4ms/step - loss: 0.3236 - accuracy: 0.8853 - val_loss: 0.7991 - val_accuracy: 0.6250\n",
      "Epoch 43/100\n",
      "47/47 [==============================] - 0s 4ms/step - loss: 0.3640 - accuracy: 0.8528 - val_loss: 0.7761 - val_accuracy: 0.6250\n",
      "Epoch 44/100\n",
      "47/47 [==============================] - 0s 4ms/step - loss: 0.3284 - accuracy: 0.8538 - val_loss: 0.8117 - val_accuracy: 0.6667\n",
      "Epoch 45/100\n",
      "47/47 [==============================] - 0s 4ms/step - loss: 0.3384 - accuracy: 0.8781 - val_loss: 0.8009 - val_accuracy: 0.6667\n",
      "Epoch 46/100\n",
      "47/47 [==============================] - 0s 3ms/step - loss: 0.3727 - accuracy: 0.8154 - val_loss: 0.9661 - val_accuracy: 0.6667\n",
      "Epoch 47/100\n",
      "47/47 [==============================] - 0s 3ms/step - loss: 0.3285 - accuracy: 0.8129 - val_loss: 0.9142 - val_accuracy: 0.6250\n",
      "Epoch 48/100\n",
      "47/47 [==============================] - 0s 3ms/step - loss: 0.4266 - accuracy: 0.8245 - val_loss: 0.9211 - val_accuracy: 0.6250\n",
      "Epoch 49/100\n",
      "47/47 [==============================] - 0s 3ms/step - loss: 0.3712 - accuracy: 0.8353 - val_loss: 0.8958 - val_accuracy: 0.7500\n",
      "Epoch 50/100\n",
      "47/47 [==============================] - 0s 4ms/step - loss: 0.3848 - accuracy: 0.8000 - val_loss: 1.0295 - val_accuracy: 0.6250\n",
      "Epoch 51/100\n",
      "47/47 [==============================] - 0s 3ms/step - loss: 0.2934 - accuracy: 0.8821 - val_loss: 1.1472 - val_accuracy: 0.5000\n",
      "Epoch 52/100\n",
      "47/47 [==============================] - 0s 3ms/step - loss: 0.4178 - accuracy: 0.7706 - val_loss: 1.0993 - val_accuracy: 0.6250\n",
      "Epoch 53/100\n",
      "47/47 [==============================] - 0s 4ms/step - loss: 0.3538 - accuracy: 0.8735 - val_loss: 0.9613 - val_accuracy: 0.6667\n",
      "Epoch 54/100\n",
      "47/47 [==============================] - 0s 3ms/step - loss: 0.3159 - accuracy: 0.8786 - val_loss: 1.1858 - val_accuracy: 0.6250\n",
      "Epoch 55/100\n",
      "47/47 [==============================] - 0s 4ms/step - loss: 0.3800 - accuracy: 0.8190 - val_loss: 1.1360 - val_accuracy: 0.7917\n",
      "Epoch 56/100\n",
      "47/47 [==============================] - 0s 4ms/step - loss: 0.3527 - accuracy: 0.8580 - val_loss: 1.1874 - val_accuracy: 0.6250\n",
      "Epoch 57/100\n",
      "47/47 [==============================] - 0s 3ms/step - loss: 0.3282 - accuracy: 0.8145 - val_loss: 1.3433 - val_accuracy: 0.6250\n",
      "Epoch 58/100\n",
      "47/47 [==============================] - 0s 3ms/step - loss: 0.3169 - accuracy: 0.8503 - val_loss: 1.1246 - val_accuracy: 0.7083\n"
     ]
    },
    {
     "name": "stdout",
     "output_type": "stream",
     "text": [
      "Epoch 59/100\n",
      "47/47 [==============================] - 0s 3ms/step - loss: 0.2781 - accuracy: 0.9005 - val_loss: 1.1673 - val_accuracy: 0.5833\n",
      "Epoch 60/100\n",
      "47/47 [==============================] - 0s 3ms/step - loss: 0.2896 - accuracy: 0.9302 - val_loss: 1.0339 - val_accuracy: 0.6250\n",
      "Epoch 61/100\n",
      "47/47 [==============================] - 0s 3ms/step - loss: 0.3392 - accuracy: 0.8270 - val_loss: 0.9768 - val_accuracy: 0.6250\n",
      "Epoch 62/100\n",
      "47/47 [==============================] - 0s 3ms/step - loss: 0.3937 - accuracy: 0.7979 - val_loss: 1.1570 - val_accuracy: 0.6667\n",
      "Epoch 63/100\n",
      "47/47 [==============================] - 0s 3ms/step - loss: 0.3418 - accuracy: 0.8729 - val_loss: 1.1510 - val_accuracy: 0.5833\n",
      "Epoch 64/100\n",
      "47/47 [==============================] - 0s 4ms/step - loss: 0.3822 - accuracy: 0.8584 - val_loss: 1.1064 - val_accuracy: 0.6667\n",
      "Epoch 65/100\n",
      "47/47 [==============================] - 0s 3ms/step - loss: 0.3488 - accuracy: 0.9041 - val_loss: 1.4564 - val_accuracy: 0.6250\n",
      "Epoch 66/100\n",
      "47/47 [==============================] - 0s 3ms/step - loss: 0.3914 - accuracy: 0.7807 - val_loss: 1.2620 - val_accuracy: 0.6667\n",
      "Epoch 67/100\n",
      "47/47 [==============================] - 0s 4ms/step - loss: 0.2767 - accuracy: 0.8823 - val_loss: 0.9298 - val_accuracy: 0.5417\n",
      "Epoch 68/100\n",
      "47/47 [==============================] - 0s 4ms/step - loss: 0.3317 - accuracy: 0.8306 - val_loss: 1.1465 - val_accuracy: 0.7083\n",
      "Epoch 69/100\n",
      "47/47 [==============================] - 0s 3ms/step - loss: 0.4517 - accuracy: 0.8113 - val_loss: 1.1674 - val_accuracy: 0.6667\n",
      "Epoch 70/100\n",
      "47/47 [==============================] - 0s 3ms/step - loss: 0.3757 - accuracy: 0.8391 - val_loss: 1.1502 - val_accuracy: 0.7083\n",
      "Epoch 71/100\n",
      "47/47 [==============================] - 0s 3ms/step - loss: 0.2766 - accuracy: 0.8744 - val_loss: 1.3084 - val_accuracy: 0.6667\n",
      "Epoch 72/100\n",
      "47/47 [==============================] - 0s 3ms/step - loss: 0.3049 - accuracy: 0.8848 - val_loss: 1.1944 - val_accuracy: 0.5833\n",
      "Epoch 73/100\n",
      "47/47 [==============================] - 0s 3ms/step - loss: 0.2604 - accuracy: 0.8539 - val_loss: 1.3647 - val_accuracy: 0.5417\n",
      "Epoch 74/100\n",
      "47/47 [==============================] - 0s 3ms/step - loss: 0.3709 - accuracy: 0.8243 - val_loss: 1.3349 - val_accuracy: 0.5000\n",
      "Epoch 75/100\n",
      "47/47 [==============================] - 0s 3ms/step - loss: 0.3184 - accuracy: 0.8340 - val_loss: 1.3532 - val_accuracy: 0.6250\n",
      "Epoch 76/100\n",
      "47/47 [==============================] - 0s 3ms/step - loss: 0.2674 - accuracy: 0.9065 - val_loss: 1.0755 - val_accuracy: 0.5833\n",
      "Epoch 77/100\n",
      "47/47 [==============================] - 0s 3ms/step - loss: 0.3208 - accuracy: 0.8871 - val_loss: 1.3370 - val_accuracy: 0.6667\n",
      "Epoch 78/100\n",
      "47/47 [==============================] - 0s 3ms/step - loss: 0.2407 - accuracy: 0.9006 - val_loss: 1.5047 - val_accuracy: 0.4583\n",
      "Epoch 79/100\n",
      "47/47 [==============================] - 0s 3ms/step - loss: 0.3220 - accuracy: 0.8020 - val_loss: 1.4192 - val_accuracy: 0.6250\n",
      "Epoch 80/100\n",
      "47/47 [==============================] - 0s 4ms/step - loss: 0.2533 - accuracy: 0.8766 - val_loss: 1.4223 - val_accuracy: 0.6250\n",
      "Epoch 81/100\n",
      "47/47 [==============================] - 0s 3ms/step - loss: 0.3072 - accuracy: 0.8634 - val_loss: 1.7725 - val_accuracy: 0.5000\n",
      "Epoch 82/100\n",
      "47/47 [==============================] - 0s 3ms/step - loss: 0.2732 - accuracy: 0.8759 - val_loss: 1.6400 - val_accuracy: 0.6667\n",
      "Epoch 83/100\n",
      "47/47 [==============================] - 0s 3ms/step - loss: 0.2808 - accuracy: 0.8628 - val_loss: 1.0717 - val_accuracy: 0.7500\n",
      "Epoch 84/100\n",
      "47/47 [==============================] - 0s 3ms/step - loss: 0.3505 - accuracy: 0.7960 - val_loss: 1.6281 - val_accuracy: 0.4583\n",
      "Epoch 85/100\n",
      "47/47 [==============================] - 0s 3ms/step - loss: 0.2714 - accuracy: 0.8798 - val_loss: 1.6968 - val_accuracy: 0.6667\n",
      "Epoch 86/100\n",
      "47/47 [==============================] - 0s 3ms/step - loss: 0.2680 - accuracy: 0.8665 - val_loss: 1.9438 - val_accuracy: 0.5417\n",
      "Epoch 87/100\n",
      "47/47 [==============================] - 0s 3ms/step - loss: 0.2267 - accuracy: 0.9038 - val_loss: 1.7554 - val_accuracy: 0.5833\n",
      "Epoch 88/100\n",
      "47/47 [==============================] - 0s 3ms/step - loss: 0.2819 - accuracy: 0.8941 - val_loss: 1.6421 - val_accuracy: 0.5417\n",
      "Epoch 89/100\n",
      "47/47 [==============================] - 0s 3ms/step - loss: 0.2598 - accuracy: 0.8825 - val_loss: 1.9208 - val_accuracy: 0.5833\n",
      "Epoch 90/100\n",
      "47/47 [==============================] - 0s 3ms/step - loss: 0.2354 - accuracy: 0.8914 - val_loss: 1.9960 - val_accuracy: 0.5833\n",
      "Epoch 91/100\n",
      "47/47 [==============================] - 0s 3ms/step - loss: 0.3271 - accuracy: 0.8625 - val_loss: 2.2512 - val_accuracy: 0.6250\n",
      "Epoch 92/100\n",
      "47/47 [==============================] - 0s 3ms/step - loss: 0.2827 - accuracy: 0.8828 - val_loss: 1.5193 - val_accuracy: 0.5000\n",
      "Epoch 93/100\n",
      "47/47 [==============================] - 0s 3ms/step - loss: 0.2998 - accuracy: 0.8508 - val_loss: 1.5815 - val_accuracy: 0.5833\n",
      "Epoch 94/100\n",
      "47/47 [==============================] - 0s 3ms/step - loss: 0.2381 - accuracy: 0.9024 - val_loss: 1.7081 - val_accuracy: 0.5417\n",
      "Epoch 95/100\n",
      "47/47 [==============================] - 0s 3ms/step - loss: 0.2440 - accuracy: 0.9010 - val_loss: 1.3668 - val_accuracy: 0.5833\n",
      "Epoch 96/100\n",
      "47/47 [==============================] - 0s 3ms/step - loss: 0.2569 - accuracy: 0.8863 - val_loss: 1.5448 - val_accuracy: 0.5417\n",
      "Epoch 97/100\n",
      "47/47 [==============================] - 0s 3ms/step - loss: 0.2647 - accuracy: 0.9069 - val_loss: 1.8203 - val_accuracy: 0.5000\n",
      "Epoch 98/100\n",
      "47/47 [==============================] - 0s 3ms/step - loss: 0.2231 - accuracy: 0.9397 - val_loss: 1.9187 - val_accuracy: 0.4583\n",
      "Epoch 99/100\n",
      "47/47 [==============================] - 0s 3ms/step - loss: 0.2899 - accuracy: 0.8076 - val_loss: 1.4873 - val_accuracy: 0.7500\n",
      "Epoch 100/100\n",
      "47/47 [==============================] - 0s 3ms/step - loss: 0.2274 - accuracy: 0.8791 - val_loss: 1.7082 - val_accuracy: 0.5000\n"
     ]
    }
   ],
   "source": [
    "# Train the ANN\n",
    "history = model.fit(X_train, y_train, batch_size = 2, epochs = 100, validation_split=0.2)"
   ]
  },
  {
   "cell_type": "code",
   "execution_count": 46,
   "metadata": {},
   "outputs": [
    {
     "data": {
      "image/png": "[encoded data removed]",
      "text/plain": [
       "<Figure size 432x288 with 1 Axes>"
      ]
     },
     "metadata": {
      "needs_background": "light"
     },
     "output_type": "display_data"
    },
    {
     "data": {
      "image/png": "[encoded data removed]",
      "text/plain": [
       "<Figure size 432x288 with 1 Axes>"
      ]
     },
     "metadata": {
      "needs_background": "light"
     },
     "output_type": "display_data"
    }
   ],
   "source": [
    "history_df = pd.DataFrame(history.history)\n",
    "\n",
    "plt.plot(history_df.loc[:, ['loss']], \"#CD5C5C\", label='Training loss')\n",
    "plt.plot(history_df.loc[:, ['val_loss']],\"#FF0000\", label='Validation loss')\n",
    "plt.title('Training and Validation loss')\n",
    "plt.xlabel('Epochs')\n",
    "plt.ylabel('Loss')\n",
    "plt.legend(loc=\"best\")\n",
    "\n",
    "plt.show()\n",
    "\n",
    "history_df = pd.DataFrame(history.history)\n",
    "\n",
    "plt.plot(history_df.loc[:, ['accuracy']], \"#CD5C5C\", label='Training accuracy')\n",
    "plt.plot(history_df.loc[:, ['val_accuracy']],\"#FF0000\", label='Validation accuracy')\n",
    "\n",
    "plt.title('Training and Validation accuracy')\n",
    "plt.xlabel('Epochs')\n",
    "plt.ylabel('Accuracy')\n",
    "plt.legend()\n",
    "plt.show()"
   ]
  },
  {
   "cell_type": "code",
   "execution_count": 47,
   "metadata": {},
   "outputs": [],
   "source": [
    "# Predicting the test set results\n",
    "y_pred = model.predict(X_test)\n",
    "y_pred = (y_pred > 0.4)\n",
    "\n",
    "dnn_4_acc = accuracy_score(y_pred, y_test)\n",
    "dnn_4_prec = precision_score(y_pred, y_test,average='weighted')\n",
    "dnn_4_rec = recall_score(y_pred, y_test,average='weighted')\n",
    "dnn_4_f1 = f1_score(y_pred, y_test,average='weighted')\n",
    "dnn_4_spec = specificity_score(y_pred, y_test,average='weighted')\n",
    "dnn_4_sens = sensitivity_score(y_pred, y_test,average='weighted')"
   ]
  },
  {
   "cell_type": "code",
   "execution_count": 79,
   "metadata": {},
   "outputs": [],
   "source": [
    "storeResults1('DNN - 4 Layers',dnn_4_acc,dnn_4_prec,dnn_4_rec,dnn_4_f1,dnn_4_spec,dnn_4_sens)"
   ]
  },
  {
   "cell_type": "markdown",
   "metadata": {},
   "source": [
    "# 5 Layers"
   ]
  },
  {
   "cell_type": "code",
   "execution_count": 48,
   "metadata": {},
   "outputs": [],
   "source": [
    "# Initialising the NN\n",
    "model = Sequential()\n",
    "\n",
    "# layers\n",
    "model.add(Dense(units = 128, kernel_initializer = 'uniform', activation = 'relu', input_dim = 10))\n",
    "model.add(Dense(units = 64, kernel_initializer = 'uniform', activation = 'relu'))\n",
    "model.add(Dropout(0.25))\n",
    "model.add(Dense(units = 64, kernel_initializer = 'uniform', activation = 'relu'))\n",
    "model.add(Dropout(0.5))\n",
    "model.add(Dense(units = 32, kernel_initializer = 'uniform', activation = 'relu'))\n",
    "model.add(Dropout(0.5))\n",
    "model.add(Dense(units = 32, kernel_initializer = 'uniform', activation = 'relu'))\n",
    "model.add(Dropout(0.5))\n",
    "model.add(Dense(units = 1, kernel_initializer = 'uniform', activation = 'sigmoid'))\n",
    "\n",
    "# Compiling the ANN\n",
    "model.compile(optimizer = 'adam', loss = 'binary_crossentropy', metrics = ['accuracy'])"
   ]
  },
  {
   "cell_type": "code",
   "execution_count": 49,
   "metadata": {},
   "outputs": [
    {
     "name": "stdout",
     "output_type": "stream",
     "text": [
      "Epoch 1/100\n",
      "47/47 [==============================] - 6s 33ms/step - loss: 0.6873 - accuracy: 0.7174 - val_loss: 0.5762 - val_accuracy: 0.7917\n",
      "Epoch 2/100\n",
      "47/47 [==============================] - 0s 4ms/step - loss: 0.5562 - accuracy: 0.7791 - val_loss: 0.5332 - val_accuracy: 0.7917\n",
      "Epoch 3/100\n",
      "47/47 [==============================] - 0s 4ms/step - loss: 0.4659 - accuracy: 0.8014 - val_loss: 0.5541 - val_accuracy: 0.7917\n",
      "Epoch 4/100\n",
      "47/47 [==============================] - 0s 4ms/step - loss: 0.5073 - accuracy: 0.8028 - val_loss: 0.5791 - val_accuracy: 0.7917\n",
      "Epoch 5/100\n",
      "47/47 [==============================] - 0s 4ms/step - loss: 0.5493 - accuracy: 0.7844 - val_loss: 0.6001 - val_accuracy: 0.7917\n",
      "Epoch 6/100\n",
      "47/47 [==============================] - 0s 4ms/step - loss: 0.4283 - accuracy: 0.8166 - val_loss: 0.6386 - val_accuracy: 0.7917\n",
      "Epoch 7/100\n",
      "47/47 [==============================] - 0s 4ms/step - loss: 0.4393 - accuracy: 0.8027 - val_loss: 0.6366 - val_accuracy: 0.7917\n",
      "Epoch 8/100\n",
      "47/47 [==============================] - 0s 4ms/step - loss: 0.3845 - accuracy: 0.8518 - val_loss: 0.6332 - val_accuracy: 0.7917\n",
      "Epoch 9/100\n",
      "47/47 [==============================] - 0s 4ms/step - loss: 0.5188 - accuracy: 0.7550 - val_loss: 0.7237 - val_accuracy: 0.7917\n",
      "Epoch 10/100\n",
      "47/47 [==============================] - 0s 4ms/step - loss: 0.3697 - accuracy: 0.7966 - val_loss: 0.6803 - val_accuracy: 0.7917\n",
      "Epoch 11/100\n",
      "47/47 [==============================] - ETA: 0s - loss: 0.4559 - accuracy: 0.82 - 0s 4ms/step - loss: 0.4553 - accuracy: 0.8255 - val_loss: 0.7677 - val_accuracy: 0.7917\n",
      "Epoch 12/100\n",
      "47/47 [==============================] - 0s 4ms/step - loss: 0.3913 - accuracy: 0.8039 - val_loss: 0.6774 - val_accuracy: 0.7917\n",
      "Epoch 13/100\n",
      "47/47 [==============================] - 0s 4ms/step - loss: 0.4319 - accuracy: 0.7774 - val_loss: 0.8352 - val_accuracy: 0.7917\n",
      "Epoch 14/100\n",
      "47/47 [==============================] - 0s 4ms/step - loss: 0.3691 - accuracy: 0.8080 - val_loss: 0.7815 - val_accuracy: 0.7917\n",
      "Epoch 15/100\n",
      "47/47 [==============================] - 0s 4ms/step - loss: 0.3827 - accuracy: 0.8299 - val_loss: 0.6497 - val_accuracy: 0.7917\n",
      "Epoch 16/100\n",
      "47/47 [==============================] - 0s 4ms/step - loss: 0.4077 - accuracy: 0.8361 - val_loss: 0.6355 - val_accuracy: 0.7917\n",
      "Epoch 17/100\n",
      "47/47 [==============================] - 0s 4ms/step - loss: 0.5059 - accuracy: 0.7745 - val_loss: 0.6482 - val_accuracy: 0.7917\n",
      "Epoch 18/100\n",
      "47/47 [==============================] - 0s 4ms/step - loss: 0.5051 - accuracy: 0.7638 - val_loss: 0.7021 - val_accuracy: 0.7917\n",
      "Epoch 19/100\n",
      "47/47 [==============================] - 0s 4ms/step - loss: 0.3611 - accuracy: 0.8067 - val_loss: 0.7569 - val_accuracy: 0.7917\n",
      "Epoch 20/100\n",
      "47/47 [==============================] - 0s 4ms/step - loss: 0.4390 - accuracy: 0.8227 - val_loss: 0.8376 - val_accuracy: 0.7917\n",
      "Epoch 21/100\n",
      "47/47 [==============================] - 0s 4ms/step - loss: 0.4043 - accuracy: 0.8337 - val_loss: 0.8292 - val_accuracy: 0.7917\n",
      "Epoch 22/100\n",
      "47/47 [==============================] - 0s 4ms/step - loss: 0.5080 - accuracy: 0.7729 - val_loss: 0.8647 - val_accuracy: 0.7917\n",
      "Epoch 23/100\n",
      "47/47 [==============================] - 0s 4ms/step - loss: 0.4304 - accuracy: 0.7527 - val_loss: 0.9314 - val_accuracy: 0.7917\n",
      "Epoch 24/100\n",
      "47/47 [==============================] - 0s 4ms/step - loss: 0.3630 - accuracy: 0.8519 - val_loss: 0.6969 - val_accuracy: 0.7917\n",
      "Epoch 25/100\n",
      "47/47 [==============================] - 0s 4ms/step - loss: 0.4412 - accuracy: 0.7750 - val_loss: 0.8316 - val_accuracy: 0.7917\n",
      "Epoch 26/100\n",
      "47/47 [==============================] - 0s 4ms/step - loss: 0.3863 - accuracy: 0.8196 - val_loss: 0.8418 - val_accuracy: 0.7917\n",
      "Epoch 27/100\n",
      "47/47 [==============================] - 0s 4ms/step - loss: 0.4988 - accuracy: 0.7737 - val_loss: 0.9511 - val_accuracy: 0.7917\n",
      "Epoch 28/100\n",
      "47/47 [==============================] - 0s 4ms/step - loss: 0.3950 - accuracy: 0.8067 - val_loss: 0.7569 - val_accuracy: 0.7917\n",
      "Epoch 29/100\n",
      "47/47 [==============================] - 0s 4ms/step - loss: 0.4184 - accuracy: 0.7762 - val_loss: 0.7663 - val_accuracy: 0.7917\n",
      "Epoch 30/100\n",
      "47/47 [==============================] - 0s 4ms/step - loss: 0.4833 - accuracy: 0.7574 - val_loss: 0.7770 - val_accuracy: 0.7917\n",
      "Epoch 31/100\n",
      "47/47 [==============================] - 0s 4ms/step - loss: 0.3647 - accuracy: 0.8302 - val_loss: 0.7583 - val_accuracy: 0.7917\n",
      "Epoch 32/100\n",
      "47/47 [==============================] - 0s 4ms/step - loss: 0.4281 - accuracy: 0.7806 - val_loss: 0.7294 - val_accuracy: 0.7917\n",
      "Epoch 33/100\n",
      "47/47 [==============================] - 0s 4ms/step - loss: 0.4640 - accuracy: 0.7080 - val_loss: 0.8612 - val_accuracy: 0.7917\n",
      "Epoch 34/100\n",
      "47/47 [==============================] - 0s 4ms/step - loss: 0.3930 - accuracy: 0.8073 - val_loss: 0.7564 - val_accuracy: 0.7917\n",
      "Epoch 35/100\n",
      "47/47 [==============================] - 0s 4ms/step - loss: 0.3714 - accuracy: 0.8623 - val_loss: 0.7362 - val_accuracy: 0.7917\n",
      "Epoch 36/100\n",
      "47/47 [==============================] - 0s 4ms/step - loss: 0.4005 - accuracy: 0.7637 - val_loss: 1.0406 - val_accuracy: 0.7917\n",
      "Epoch 37/100\n",
      "47/47 [==============================] - 0s 4ms/step - loss: 0.4261 - accuracy: 0.7793 - val_loss: 0.9606 - val_accuracy: 0.7917\n",
      "Epoch 38/100\n",
      "47/47 [==============================] - 0s 4ms/step - loss: 0.3641 - accuracy: 0.8017 - val_loss: 0.9381 - val_accuracy: 0.7917\n",
      "Epoch 39/100\n",
      "47/47 [==============================] - 0s 4ms/step - loss: 0.3306 - accuracy: 0.8235 - val_loss: 0.9282 - val_accuracy: 0.7917\n",
      "Epoch 40/100\n",
      "47/47 [==============================] - 0s 5ms/step - loss: 0.3774 - accuracy: 0.8224 - val_loss: 0.9857 - val_accuracy: 0.7917\n",
      "Epoch 41/100\n",
      "47/47 [==============================] - 0s 5ms/step - loss: 0.4258 - accuracy: 0.7387 - val_loss: 0.8741 - val_accuracy: 0.7917\n",
      "Epoch 42/100\n",
      "47/47 [==============================] - 0s 4ms/step - loss: 0.3253 - accuracy: 0.8348 - val_loss: 0.9362 - val_accuracy: 0.7917\n",
      "Epoch 43/100\n",
      "47/47 [==============================] - 0s 4ms/step - loss: 0.4696 - accuracy: 0.7284 - val_loss: 1.1574 - val_accuracy: 0.7917\n",
      "Epoch 44/100\n",
      "47/47 [==============================] - 0s 4ms/step - loss: 0.3935 - accuracy: 0.8072 - val_loss: 1.0806 - val_accuracy: 0.7917\n",
      "Epoch 45/100\n",
      "47/47 [==============================] - 0s 4ms/step - loss: 0.4316 - accuracy: 0.7716 - val_loss: 0.9246 - val_accuracy: 0.7917\n",
      "Epoch 46/100\n",
      "47/47 [==============================] - 0s 4ms/step - loss: 0.3817 - accuracy: 0.8292 - val_loss: 0.9879 - val_accuracy: 0.7917\n",
      "Epoch 47/100\n",
      "47/47 [==============================] - 0s 4ms/step - loss: 0.3219 - accuracy: 0.8336 - val_loss: 0.8889 - val_accuracy: 0.7917\n",
      "Epoch 48/100\n",
      "47/47 [==============================] - 0s 4ms/step - loss: 0.4739 - accuracy: 0.7192 - val_loss: 1.1173 - val_accuracy: 0.7917\n",
      "Epoch 49/100\n",
      "47/47 [==============================] - 0s 4ms/step - loss: 0.4111 - accuracy: 0.7308 - val_loss: 1.1845 - val_accuracy: 0.7917\n",
      "Epoch 50/100\n",
      "47/47 [==============================] - 0s 4ms/step - loss: 0.4869 - accuracy: 0.6614 - val_loss: 0.9508 - val_accuracy: 0.7917\n",
      "Epoch 51/100\n",
      "47/47 [==============================] - 0s 4ms/step - loss: 0.3747 - accuracy: 0.7374 - val_loss: 1.2772 - val_accuracy: 0.7917\n",
      "Epoch 52/100\n",
      "47/47 [==============================] - 0s 4ms/step - loss: 0.3168 - accuracy: 0.8278 - val_loss: 0.8787 - val_accuracy: 0.7917\n",
      "Epoch 53/100\n",
      "47/47 [==============================] - 0s 4ms/step - loss: 0.4190 - accuracy: 0.7617 - val_loss: 1.3776 - val_accuracy: 0.7917\n",
      "Epoch 54/100\n",
      "47/47 [==============================] - 0s 5ms/step - loss: 0.3631 - accuracy: 0.7768 - val_loss: 1.1221 - val_accuracy: 0.7917\n",
      "Epoch 55/100\n",
      "47/47 [==============================] - 0s 4ms/step - loss: 0.2838 - accuracy: 0.8291 - val_loss: 1.3136 - val_accuracy: 0.7917\n",
      "Epoch 56/100\n",
      "47/47 [==============================] - 0s 5ms/step - loss: 0.4179 - accuracy: 0.7791 - val_loss: 1.5375 - val_accuracy: 0.7917\n",
      "Epoch 57/100\n",
      "47/47 [==============================] - 0s 4ms/step - loss: 0.4295 - accuracy: 0.7289 - val_loss: 1.0810 - val_accuracy: 0.7917\n",
      "Epoch 58/100\n"
     ]
    },
    {
     "name": "stdout",
     "output_type": "stream",
     "text": [
      "47/47 [==============================] - 0s 4ms/step - loss: 0.4069 - accuracy: 0.8327 - val_loss: 1.4466 - val_accuracy: 0.7917\n",
      "Epoch 59/100\n",
      "47/47 [==============================] - 0s 5ms/step - loss: 0.3098 - accuracy: 0.8266 - val_loss: 1.1574 - val_accuracy: 0.7917\n",
      "Epoch 60/100\n",
      "47/47 [==============================] - 0s 5ms/step - loss: 0.3200 - accuracy: 0.8550 - val_loss: 1.1915 - val_accuracy: 0.7917\n",
      "Epoch 61/100\n",
      "47/47 [==============================] - 0s 5ms/step - loss: 0.3288 - accuracy: 0.8030 - val_loss: 1.3797 - val_accuracy: 0.7917\n",
      "Epoch 62/100\n",
      "47/47 [==============================] - 0s 5ms/step - loss: 0.3414 - accuracy: 0.8340 - val_loss: 1.1310 - val_accuracy: 0.7917\n",
      "Epoch 63/100\n",
      "47/47 [==============================] - 0s 5ms/step - loss: 0.3128 - accuracy: 0.8295 - val_loss: 1.1015 - val_accuracy: 0.7917\n",
      "Epoch 64/100\n",
      "47/47 [==============================] - 0s 4ms/step - loss: 0.2969 - accuracy: 0.8455 - val_loss: 1.0794 - val_accuracy: 0.7917\n",
      "Epoch 65/100\n",
      "47/47 [==============================] - 0s 5ms/step - loss: 0.3602 - accuracy: 0.7972 - val_loss: 1.2711 - val_accuracy: 0.7917\n",
      "Epoch 66/100\n",
      "47/47 [==============================] - 0s 4ms/step - loss: 0.2528 - accuracy: 0.8548 - val_loss: 1.3021 - val_accuracy: 0.7917\n",
      "Epoch 67/100\n",
      "47/47 [==============================] - 0s 4ms/step - loss: 0.3737 - accuracy: 0.7681 - val_loss: 1.2529 - val_accuracy: 0.7917\n",
      "Epoch 68/100\n",
      "47/47 [==============================] - 0s 5ms/step - loss: 0.3607 - accuracy: 0.7870 - val_loss: 1.3327 - val_accuracy: 0.7917\n",
      "Epoch 69/100\n",
      "47/47 [==============================] - 0s 4ms/step - loss: 0.3423 - accuracy: 0.7986 - val_loss: 1.3815 - val_accuracy: 0.7917\n",
      "Epoch 70/100\n",
      "47/47 [==============================] - 0s 4ms/step - loss: 0.3737 - accuracy: 0.7681 - val_loss: 1.3630 - val_accuracy: 0.7917\n",
      "Epoch 71/100\n",
      "47/47 [==============================] - 0s 4ms/step - loss: 0.4111 - accuracy: 0.7904 - val_loss: 1.6568 - val_accuracy: 0.7917\n",
      "Epoch 72/100\n",
      "47/47 [==============================] - 0s 5ms/step - loss: 0.2648 - accuracy: 0.8486 - val_loss: 1.1988 - val_accuracy: 0.7917\n",
      "Epoch 73/100\n",
      "47/47 [==============================] - 0s 5ms/step - loss: 0.2586 - accuracy: 0.8243 - val_loss: 1.6136 - val_accuracy: 0.7917\n",
      "Epoch 74/100\n",
      "47/47 [==============================] - 0s 5ms/step - loss: 0.2897 - accuracy: 0.8385 - val_loss: 1.5754 - val_accuracy: 0.7917\n",
      "Epoch 75/100\n",
      "47/47 [==============================] - 0s 4ms/step - loss: 0.3323 - accuracy: 0.8022 - val_loss: 1.3425 - val_accuracy: 0.7917\n",
      "Epoch 76/100\n",
      "47/47 [==============================] - 0s 4ms/step - loss: 0.3798 - accuracy: 0.7755 - val_loss: 1.6316 - val_accuracy: 0.7917\n",
      "Epoch 77/100\n",
      "47/47 [==============================] - 0s 5ms/step - loss: 0.3143 - accuracy: 0.7935 - val_loss: 1.8749 - val_accuracy: 0.7917\n",
      "Epoch 78/100\n",
      "47/47 [==============================] - 0s 5ms/step - loss: 0.3711 - accuracy: 0.7785 - val_loss: 1.4940 - val_accuracy: 0.7917\n",
      "Epoch 79/100\n",
      "47/47 [==============================] - 0s 4ms/step - loss: 0.2961 - accuracy: 0.8239 - val_loss: 1.6801 - val_accuracy: 0.7917\n",
      "Epoch 80/100\n",
      "47/47 [==============================] - 0s 4ms/step - loss: 0.3188 - accuracy: 0.7881 - val_loss: 1.9442 - val_accuracy: 0.7917\n",
      "Epoch 81/100\n",
      "47/47 [==============================] - 0s 4ms/step - loss: 0.3020 - accuracy: 0.8430 - val_loss: 1.4615 - val_accuracy: 0.7917\n",
      "Epoch 82/100\n",
      "47/47 [==============================] - 0s 4ms/step - loss: 0.3791 - accuracy: 0.8173 - val_loss: 1.9851 - val_accuracy: 0.7917\n",
      "Epoch 83/100\n",
      "47/47 [==============================] - 0s 4ms/step - loss: 0.2961 - accuracy: 0.8504 - val_loss: 1.9868 - val_accuracy: 0.7917\n",
      "Epoch 84/100\n",
      "47/47 [==============================] - 0s 4ms/step - loss: 0.3492 - accuracy: 0.7922 - val_loss: 2.1901 - val_accuracy: 0.7917\n",
      "Epoch 85/100\n",
      "47/47 [==============================] - 0s 5ms/step - loss: 0.2935 - accuracy: 0.7990 - val_loss: 1.8282 - val_accuracy: 0.7917\n",
      "Epoch 86/100\n",
      "47/47 [==============================] - 0s 4ms/step - loss: 0.2992 - accuracy: 0.8161 - val_loss: 1.5396 - val_accuracy: 0.7917\n",
      "Epoch 87/100\n",
      "47/47 [==============================] - 0s 5ms/step - loss: 0.3285 - accuracy: 0.7888 - val_loss: 1.4621 - val_accuracy: 0.7917\n",
      "Epoch 88/100\n",
      "47/47 [==============================] - 0s 4ms/step - loss: 0.3614 - accuracy: 0.7780 - val_loss: 2.1422 - val_accuracy: 0.7917\n",
      "Epoch 89/100\n",
      "47/47 [==============================] - 0s 5ms/step - loss: 0.2885 - accuracy: 0.8560 - val_loss: 1.6663 - val_accuracy: 0.7917\n",
      "Epoch 90/100\n",
      "47/47 [==============================] - 0s 5ms/step - loss: 0.3534 - accuracy: 0.7707 - val_loss: 1.8640 - val_accuracy: 0.7917\n",
      "Epoch 91/100\n",
      "47/47 [==============================] - 0s 4ms/step - loss: 0.4327 - accuracy: 0.7458 - val_loss: 1.4078 - val_accuracy: 0.7917\n",
      "Epoch 92/100\n",
      "47/47 [==============================] - 0s 5ms/step - loss: 0.3266 - accuracy: 0.8290 - val_loss: 1.4228 - val_accuracy: 0.7917\n",
      "Epoch 93/100\n",
      "47/47 [==============================] - 0s 4ms/step - loss: 0.3156 - accuracy: 0.8251 - val_loss: 1.8929 - val_accuracy: 0.7917\n",
      "Epoch 94/100\n",
      "47/47 [==============================] - 0s 4ms/step - loss: 0.2670 - accuracy: 0.8583 - val_loss: 2.0912 - val_accuracy: 0.7917\n",
      "Epoch 95/100\n",
      "47/47 [==============================] - 0s 3ms/step - loss: 0.3522 - accuracy: 0.7751 - val_loss: 1.5278 - val_accuracy: 0.7917\n",
      "Epoch 96/100\n",
      "47/47 [==============================] - 0s 3ms/step - loss: 0.4227 - accuracy: 0.6764 - val_loss: 2.4824 - val_accuracy: 0.7917\n",
      "Epoch 97/100\n",
      "47/47 [==============================] - 0s 5ms/step - loss: 0.3090 - accuracy: 0.8562 - val_loss: 1.7626 - val_accuracy: 0.7917\n",
      "Epoch 98/100\n",
      "47/47 [==============================] - 0s 5ms/step - loss: 0.3393 - accuracy: 0.7854 - val_loss: 2.3659 - val_accuracy: 0.7917\n",
      "Epoch 99/100\n",
      "47/47 [==============================] - 0s 5ms/step - loss: 0.2825 - accuracy: 0.8102 - val_loss: 2.3051 - val_accuracy: 0.7917\n",
      "Epoch 100/100\n",
      "47/47 [==============================] - 0s 4ms/step - loss: 0.2754 - accuracy: 0.7830 - val_loss: 2.5610 - val_accuracy: 0.7917\n"
     ]
    }
   ],
   "source": [
    "# Train the ANN\n",
    "history = model.fit(X_train, y_train, batch_size = 2, epochs = 100, validation_split=0.2)"
   ]
  },
  {
   "cell_type": "code",
   "execution_count": 50,
   "metadata": {},
   "outputs": [
    {
     "data": {
      "image/png": "[encoded data removed]",
      "text/plain": [
       "<Figure size 432x288 with 1 Axes>"
      ]
     },
     "metadata": {
      "needs_background": "light"
     },
     "output_type": "display_data"
    },
    {
     "data": {
      "image/png": "[encoded data removed]",
      "text/plain": [
       "<Figure size 432x288 with 1 Axes>"
      ]
     },
     "metadata": {
      "needs_background": "light"
     },
     "output_type": "display_data"
    }
   ],
   "source": [
    "history_df = pd.DataFrame(history.history)\n",
    "\n",
    "plt.plot(history_df.loc[:, ['loss']], \"#CD5C5C\", label='Training loss')\n",
    "plt.plot(history_df.loc[:, ['val_loss']],\"#FF0000\", label='Validation loss')\n",
    "plt.title('Training and Validation loss')\n",
    "plt.xlabel('Epochs')\n",
    "plt.ylabel('Loss')\n",
    "plt.legend(loc=\"best\")\n",
    "\n",
    "plt.show()\n",
    "\n",
    "history_df = pd.DataFrame(history.history)\n",
    "\n",
    "plt.plot(history_df.loc[:, ['accuracy']], \"#CD5C5C\", label='Training accuracy')\n",
    "plt.plot(history_df.loc[:, ['val_accuracy']],\"#FF0000\", label='Validation accuracy')\n",
    "\n",
    "plt.title('Training and Validation accuracy')\n",
    "plt.xlabel('Epochs')\n",
    "plt.ylabel('Accuracy')\n",
    "plt.legend()\n",
    "plt.show()"
   ]
  },
  {
   "cell_type": "code",
   "execution_count": 51,
   "metadata": {},
   "outputs": [],
   "source": [
    "# Predicting the test set results\n",
    "y_pred = model.predict(X_test)\n",
    "y_pred = (y_pred > 0.4)\n",
    "\n",
    "dnn_5_acc = accuracy_score(y_pred, y_test)\n",
    "dnn_5_prec = precision_score(y_pred, y_test,average='weighted')\n",
    "dnn_5_rec = recall_score(y_pred, y_test,average='weighted')\n",
    "dnn_5_f1 = f1_score(y_pred, y_test,average='weighted')\n",
    "dnn_5_spec = specificity_score(y_pred, y_test,average='weighted')\n",
    "dnn_5_sens = sensitivity_score(y_pred, y_test,average='weighted')"
   ]
  },
  {
   "cell_type": "code",
   "execution_count": 80,
   "metadata": {},
   "outputs": [],
   "source": [
    "storeResults1('DNN - 5 Layers',dnn_5_acc,dnn_5_prec,dnn_5_rec,dnn_5_f1,dnn_5_spec,dnn_5_sens)"
   ]
  },
  {
   "cell_type": "markdown",
   "metadata": {},
   "source": [
    "# 6 Layers"
   ]
  },
  {
   "cell_type": "code",
   "execution_count": 52,
   "metadata": {},
   "outputs": [],
   "source": [
    "# Initialising the NN\n",
    "model = Sequential()\n",
    "\n",
    "# layers\n",
    "model.add(Dense(units = 128, kernel_initializer = 'uniform', activation = 'relu', input_dim = 10))\n",
    "model.add(Dense(units = 64, kernel_initializer = 'uniform', activation = 'relu'))\n",
    "model.add(Dropout(0.25))\n",
    "model.add(Dense(units = 64, kernel_initializer = 'uniform', activation = 'relu'))\n",
    "model.add(Dropout(0.5))\n",
    "model.add(Dense(units = 32, kernel_initializer = 'uniform', activation = 'relu'))\n",
    "model.add(Dropout(0.5))\n",
    "model.add(Dense(units = 32, kernel_initializer = 'uniform', activation = 'relu'))\n",
    "model.add(Dropout(0.5))\n",
    "model.add(Dense(units = 16, kernel_initializer = 'uniform', activation = 'relu'))\n",
    "model.add(Dropout(0.5))\n",
    "model.add(Dense(units = 1, kernel_initializer = 'uniform', activation = 'sigmoid'))\n",
    "\n",
    "# Compiling the ANN\n",
    "model.compile(optimizer = 'adam', loss = 'binary_crossentropy', metrics = ['accuracy'])"
   ]
  },
  {
   "cell_type": "code",
   "execution_count": 53,
   "metadata": {},
   "outputs": [
    {
     "name": "stdout",
     "output_type": "stream",
     "text": [
      "Epoch 1/100\n",
      "47/47 [==============================] - 10s 41ms/step - loss: 0.6897 - accuracy: 0.7994 - val_loss: 0.6740 - val_accuracy: 0.7917\n",
      "Epoch 2/100\n",
      "47/47 [==============================] - 0s 4ms/step - loss: 0.6358 - accuracy: 0.7987 - val_loss: 0.5194 - val_accuracy: 0.7917\n",
      "Epoch 3/100\n",
      "47/47 [==============================] - 0s 4ms/step - loss: 0.5470 - accuracy: 0.7933 - val_loss: 0.5278 - val_accuracy: 0.7917\n",
      "Epoch 4/100\n",
      "47/47 [==============================] - 0s 4ms/step - loss: 0.5386 - accuracy: 0.7907 - val_loss: 0.5337 - val_accuracy: 0.7917\n",
      "Epoch 5/100\n",
      "47/47 [==============================] - 0s 4ms/step - loss: 0.4473 - accuracy: 0.7978 - val_loss: 0.5405 - val_accuracy: 0.7917\n",
      "Epoch 6/100\n",
      "47/47 [==============================] - 0s 4ms/step - loss: 0.3794 - accuracy: 0.8845 - val_loss: 0.5437 - val_accuracy: 0.7917\n",
      "Epoch 7/100\n",
      "47/47 [==============================] - 0s 4ms/step - loss: 0.6056 - accuracy: 0.7566 - val_loss: 0.5697 - val_accuracy: 0.7917\n",
      "Epoch 8/100\n",
      "47/47 [==============================] - 0s 4ms/step - loss: 0.6404 - accuracy: 0.7148 - val_loss: 0.6076 - val_accuracy: 0.7917\n",
      "Epoch 9/100\n",
      "47/47 [==============================] - 0s 4ms/step - loss: 0.5364 - accuracy: 0.7779 - val_loss: 0.6415 - val_accuracy: 0.7917\n",
      "Epoch 10/100\n",
      "47/47 [==============================] - 0s 4ms/step - loss: 0.4516 - accuracy: 0.7968 - val_loss: 0.6318 - val_accuracy: 0.7917\n",
      "Epoch 11/100\n",
      "47/47 [==============================] - 0s 4ms/step - loss: 0.4678 - accuracy: 0.7501 - val_loss: 0.6802 - val_accuracy: 0.7917\n",
      "Epoch 12/100\n",
      "47/47 [==============================] - 0s 5ms/step - loss: 0.5049 - accuracy: 0.7741 - val_loss: 0.6643 - val_accuracy: 0.7917\n",
      "Epoch 13/100\n",
      "47/47 [==============================] - 0s 4ms/step - loss: 0.4421 - accuracy: 0.8360 - val_loss: 0.6700 - val_accuracy: 0.7917\n",
      "Epoch 14/100\n",
      "47/47 [==============================] - 0s 4ms/step - loss: 0.4740 - accuracy: 0.7878 - val_loss: 0.7098 - val_accuracy: 0.7917\n",
      "Epoch 15/100\n",
      "47/47 [==============================] - 0s 5ms/step - loss: 0.4633 - accuracy: 0.7780 - val_loss: 0.6550 - val_accuracy: 0.7917\n",
      "Epoch 16/100\n",
      "47/47 [==============================] - 0s 4ms/step - loss: 0.4901 - accuracy: 0.7984 - val_loss: 0.7005 - val_accuracy: 0.7917\n",
      "Epoch 17/100\n",
      "47/47 [==============================] - 0s 4ms/step - loss: 0.5468 - accuracy: 0.7470 - val_loss: 0.7209 - val_accuracy: 0.7917\n",
      "Epoch 18/100\n",
      "47/47 [==============================] - 0s 4ms/step - loss: 0.3428 - accuracy: 0.8548 - val_loss: 0.7682 - val_accuracy: 0.7917\n",
      "Epoch 19/100\n",
      "47/47 [==============================] - 0s 4ms/step - loss: 0.4843 - accuracy: 0.7860 - val_loss: 0.6614 - val_accuracy: 0.7917\n",
      "Epoch 20/100\n",
      "47/47 [==============================] - 0s 4ms/step - loss: 0.4687 - accuracy: 0.8207 - val_loss: 0.7272 - val_accuracy: 0.7917\n",
      "Epoch 21/100\n",
      "47/47 [==============================] - 0s 4ms/step - loss: 0.5973 - accuracy: 0.7562 - val_loss: 0.6889 - val_accuracy: 0.7917\n",
      "Epoch 22/100\n",
      "47/47 [==============================] - 0s 4ms/step - loss: 0.4631 - accuracy: 0.7992 - val_loss: 0.7892 - val_accuracy: 0.7917\n",
      "Epoch 23/100\n",
      "47/47 [==============================] - 0s 4ms/step - loss: 0.4330 - accuracy: 0.7827 - val_loss: 0.8654 - val_accuracy: 0.7917\n",
      "Epoch 24/100\n",
      "47/47 [==============================] - 0s 4ms/step - loss: 0.4389 - accuracy: 0.7899 - val_loss: 0.7063 - val_accuracy: 0.7917\n",
      "Epoch 25/100\n",
      "47/47 [==============================] - 0s 5ms/step - loss: 0.5044 - accuracy: 0.8001 - val_loss: 0.7567 - val_accuracy: 0.7917\n",
      "Epoch 26/100\n",
      "47/47 [==============================] - 0s 5ms/step - loss: 0.4776 - accuracy: 0.7111 - val_loss: 1.0166 - val_accuracy: 0.7917\n",
      "Epoch 27/100\n",
      "47/47 [==============================] - 0s 4ms/step - loss: 0.4921 - accuracy: 0.7924 - val_loss: 0.7491 - val_accuracy: 0.7917\n",
      "Epoch 28/100\n",
      "47/47 [==============================] - 0s 4ms/step - loss: 0.4656 - accuracy: 0.7754 - val_loss: 0.7885 - val_accuracy: 0.7917\n",
      "Epoch 29/100\n",
      "47/47 [==============================] - 0s 4ms/step - loss: 0.4385 - accuracy: 0.8090 - val_loss: 0.8758 - val_accuracy: 0.7917\n",
      "Epoch 30/100\n",
      "47/47 [==============================] - 0s 4ms/step - loss: 0.4148 - accuracy: 0.8023 - val_loss: 0.9522 - val_accuracy: 0.7917\n",
      "Epoch 31/100\n",
      "47/47 [==============================] - 0s 5ms/step - loss: 0.4621 - accuracy: 0.8122 - val_loss: 0.9036 - val_accuracy: 0.7917\n",
      "Epoch 32/100\n",
      "47/47 [==============================] - 0s 4ms/step - loss: 0.4493 - accuracy: 0.8028 - val_loss: 1.0307 - val_accuracy: 0.7917\n",
      "Epoch 33/100\n",
      "47/47 [==============================] - 0s 4ms/step - loss: 0.3782 - accuracy: 0.7908 - val_loss: 1.0224 - val_accuracy: 0.7917\n",
      "Epoch 34/100\n",
      "47/47 [==============================] - 0s 5ms/step - loss: 0.4729 - accuracy: 0.8197 - val_loss: 0.9914 - val_accuracy: 0.7917\n",
      "Epoch 35/100\n",
      "47/47 [==============================] - 0s 5ms/step - loss: 0.3876 - accuracy: 0.8130 - val_loss: 1.1702 - val_accuracy: 0.7917\n",
      "Epoch 36/100\n",
      "47/47 [==============================] - 0s 5ms/step - loss: 0.4312 - accuracy: 0.7771 - val_loss: 0.9343 - val_accuracy: 0.7917\n",
      "Epoch 37/100\n",
      "47/47 [==============================] - 0s 5ms/step - loss: 0.4010 - accuracy: 0.8051 - val_loss: 1.3035 - val_accuracy: 0.7917\n",
      "Epoch 38/100\n",
      "47/47 [==============================] - 0s 5ms/step - loss: 0.4714 - accuracy: 0.7184 - val_loss: 1.0941 - val_accuracy: 0.7917\n",
      "Epoch 39/100\n",
      "47/47 [==============================] - 0s 5ms/step - loss: 0.3966 - accuracy: 0.7705 - val_loss: 1.4506 - val_accuracy: 0.7917\n",
      "Epoch 40/100\n",
      "47/47 [==============================] - 0s 4ms/step - loss: 0.3096 - accuracy: 0.8164 - val_loss: 1.1247 - val_accuracy: 0.7917\n",
      "Epoch 41/100\n",
      "47/47 [==============================] - 0s 4ms/step - loss: 0.4242 - accuracy: 0.8172 - val_loss: 1.3289 - val_accuracy: 0.7917\n",
      "Epoch 42/100\n",
      "47/47 [==============================] - 0s 5ms/step - loss: 0.3448 - accuracy: 0.7851 - val_loss: 1.3220 - val_accuracy: 0.7917\n",
      "Epoch 43/100\n",
      "47/47 [==============================] - 0s 5ms/step - loss: 0.5097 - accuracy: 0.7481 - val_loss: 0.9147 - val_accuracy: 0.7917\n",
      "Epoch 44/100\n",
      "47/47 [==============================] - 0s 5ms/step - loss: 0.4912 - accuracy: 0.8146 - val_loss: 1.0374 - val_accuracy: 0.7917\n",
      "Epoch 45/100\n",
      "47/47 [==============================] - 0s 5ms/step - loss: 0.3967 - accuracy: 0.7909 - val_loss: 1.4776 - val_accuracy: 0.7917\n",
      "Epoch 46/100\n",
      "47/47 [==============================] - 0s 5ms/step - loss: 0.4242 - accuracy: 0.7908 - val_loss: 1.3029 - val_accuracy: 0.7917\n",
      "Epoch 47/100\n",
      "47/47 [==============================] - 0s 5ms/step - loss: 0.4073 - accuracy: 0.7589 - val_loss: 0.7252 - val_accuracy: 0.7917\n",
      "Epoch 48/100\n",
      "47/47 [==============================] - 0s 4ms/step - loss: 0.4532 - accuracy: 0.8312 - val_loss: 1.1553 - val_accuracy: 0.7917\n",
      "Epoch 49/100\n",
      "47/47 [==============================] - 0s 4ms/step - loss: 0.4616 - accuracy: 0.7361 - val_loss: 1.6403 - val_accuracy: 0.7917\n",
      "Epoch 50/100\n",
      "47/47 [==============================] - 0s 4ms/step - loss: 0.3646 - accuracy: 0.8300 - val_loss: 1.2005 - val_accuracy: 0.7917\n",
      "Epoch 51/100\n",
      "47/47 [==============================] - 0s 4ms/step - loss: 0.3855 - accuracy: 0.7945 - val_loss: 1.3116 - val_accuracy: 0.7917\n",
      "Epoch 52/100\n",
      "47/47 [==============================] - 0s 4ms/step - loss: 0.3810 - accuracy: 0.7814 - val_loss: 1.2556 - val_accuracy: 0.7917\n",
      "Epoch 53/100\n",
      "47/47 [==============================] - 0s 4ms/step - loss: 0.3802 - accuracy: 0.8007 - val_loss: 1.0118 - val_accuracy: 0.7917\n",
      "Epoch 54/100\n",
      "47/47 [==============================] - 0s 5ms/step - loss: 0.3359 - accuracy: 0.8631 - val_loss: 1.0719 - val_accuracy: 0.7917\n",
      "Epoch 55/100\n",
      "47/47 [==============================] - 0s 4ms/step - loss: 0.3617 - accuracy: 0.8531 - val_loss: 1.2212 - val_accuracy: 0.7917\n",
      "Epoch 56/100\n",
      "47/47 [==============================] - 0s 4ms/step - loss: 0.3741 - accuracy: 0.7951 - val_loss: 1.6423 - val_accuracy: 0.7917\n",
      "Epoch 57/100\n",
      "47/47 [==============================] - 0s 5ms/step - loss: 0.3637 - accuracy: 0.7835 - val_loss: 1.0997 - val_accuracy: 0.7917\n",
      "Epoch 58/100\n",
      "47/47 [==============================] - 0s 4ms/step - loss: 0.3693 - accuracy: 0.8446 - val_loss: 0.9953 - val_accuracy: 0.7917\n"
     ]
    },
    {
     "name": "stdout",
     "output_type": "stream",
     "text": [
      "Epoch 59/100\n",
      "47/47 [==============================] - 0s 4ms/step - loss: 0.3748 - accuracy: 0.8286 - val_loss: 1.4191 - val_accuracy: 0.7917\n",
      "Epoch 60/100\n",
      "47/47 [==============================] - 0s 4ms/step - loss: 0.3454 - accuracy: 0.8404 - val_loss: 1.2426 - val_accuracy: 0.7917\n",
      "Epoch 61/100\n",
      "47/47 [==============================] - 0s 5ms/step - loss: 0.4141 - accuracy: 0.8437 - val_loss: 1.2178 - val_accuracy: 0.7917\n",
      "Epoch 62/100\n",
      "47/47 [==============================] - 0s 5ms/step - loss: 0.3804 - accuracy: 0.8379 - val_loss: 1.4508 - val_accuracy: 0.7917\n",
      "Epoch 63/100\n",
      "47/47 [==============================] - 0s 4ms/step - loss: 0.3745 - accuracy: 0.8142 - val_loss: 1.6568 - val_accuracy: 0.7917\n",
      "Epoch 64/100\n",
      "47/47 [==============================] - 0s 4ms/step - loss: 0.3204 - accuracy: 0.8202 - val_loss: 1.3217 - val_accuracy: 0.7917\n",
      "Epoch 65/100\n",
      "47/47 [==============================] - 0s 4ms/step - loss: 0.3675 - accuracy: 0.8295 - val_loss: 1.0926 - val_accuracy: 0.7917\n",
      "Epoch 66/100\n",
      "47/47 [==============================] - 0s 4ms/step - loss: 0.4125 - accuracy: 0.7568 - val_loss: 1.4804 - val_accuracy: 0.7917\n",
      "Epoch 67/100\n",
      "47/47 [==============================] - 0s 6ms/step - loss: 0.3675 - accuracy: 0.8023 - val_loss: 1.8479 - val_accuracy: 0.7917\n",
      "Epoch 68/100\n",
      "47/47 [==============================] - 0s 5ms/step - loss: 0.3862 - accuracy: 0.8001 - val_loss: 1.3045 - val_accuracy: 0.7917\n",
      "Epoch 69/100\n",
      "47/47 [==============================] - 0s 5ms/step - loss: 0.3572 - accuracy: 0.8142 - val_loss: 1.8825 - val_accuracy: 0.7917\n",
      "Epoch 70/100\n",
      "47/47 [==============================] - 0s 5ms/step - loss: 0.3661 - accuracy: 0.8015 - val_loss: 1.6336 - val_accuracy: 0.7917\n",
      "Epoch 71/100\n",
      "47/47 [==============================] - 0s 4ms/step - loss: 0.4035 - accuracy: 0.7556 - val_loss: 1.5191 - val_accuracy: 0.7917\n",
      "Epoch 72/100\n",
      "47/47 [==============================] - 0s 4ms/step - loss: 0.3925 - accuracy: 0.7504 - val_loss: 2.0111 - val_accuracy: 0.7917\n",
      "Epoch 73/100\n",
      "47/47 [==============================] - 0s 4ms/step - loss: 0.3246 - accuracy: 0.8240 - val_loss: 1.5085 - val_accuracy: 0.7917\n",
      "Epoch 74/100\n",
      "47/47 [==============================] - 0s 4ms/step - loss: 0.3957 - accuracy: 0.7465 - val_loss: 1.9737 - val_accuracy: 0.7917\n",
      "Epoch 75/100\n",
      "47/47 [==============================] - 0s 4ms/step - loss: 0.3670 - accuracy: 0.7926 - val_loss: 1.8158 - val_accuracy: 0.7917\n",
      "Epoch 76/100\n",
      "47/47 [==============================] - 0s 4ms/step - loss: 0.3088 - accuracy: 0.8380 - val_loss: 1.3436 - val_accuracy: 0.7917\n",
      "Epoch 77/100\n",
      "47/47 [==============================] - 0s 4ms/step - loss: 0.3923 - accuracy: 0.7979 - val_loss: 1.4630 - val_accuracy: 0.7917\n",
      "Epoch 78/100\n",
      "47/47 [==============================] - 0s 4ms/step - loss: 0.3484 - accuracy: 0.7982 - val_loss: 2.1334 - val_accuracy: 0.7917\n",
      "Epoch 79/100\n",
      "47/47 [==============================] - 0s 4ms/step - loss: 0.3456 - accuracy: 0.7978 - val_loss: 2.2870 - val_accuracy: 0.7917\n",
      "Epoch 80/100\n",
      "47/47 [==============================] - 0s 4ms/step - loss: 0.3106 - accuracy: 0.8607 - val_loss: 1.7403 - val_accuracy: 0.7917\n",
      "Epoch 81/100\n",
      "47/47 [==============================] - 0s 4ms/step - loss: 0.3825 - accuracy: 0.7725 - val_loss: 2.4390 - val_accuracy: 0.7917\n",
      "Epoch 82/100\n",
      "47/47 [==============================] - 0s 4ms/step - loss: 0.3033 - accuracy: 0.8154 - val_loss: 2.3701 - val_accuracy: 0.7917\n",
      "Epoch 83/100\n",
      "47/47 [==============================] - 0s 4ms/step - loss: 0.2958 - accuracy: 0.8031 - val_loss: 2.3813 - val_accuracy: 0.7917\n",
      "Epoch 84/100\n",
      "47/47 [==============================] - 0s 4ms/step - loss: 0.4504 - accuracy: 0.8031 - val_loss: 1.9812 - val_accuracy: 0.7917\n",
      "Epoch 85/100\n",
      "47/47 [==============================] - 0s 4ms/step - loss: 0.4179 - accuracy: 0.8181 - val_loss: 2.2004 - val_accuracy: 0.7917\n",
      "Epoch 86/100\n",
      "47/47 [==============================] - 0s 4ms/step - loss: 0.4394 - accuracy: 0.7684 - val_loss: 2.0804 - val_accuracy: 0.7917\n",
      "Epoch 87/100\n",
      "47/47 [==============================] - 0s 4ms/step - loss: 0.3991 - accuracy: 0.7509 - val_loss: 2.8098 - val_accuracy: 0.7917\n",
      "Epoch 88/100\n",
      "47/47 [==============================] - 0s 4ms/step - loss: 0.3917 - accuracy: 0.7920 - val_loss: 2.1230 - val_accuracy: 0.7917\n",
      "Epoch 89/100\n",
      "47/47 [==============================] - 0s 4ms/step - loss: 0.3598 - accuracy: 0.7610 - val_loss: 2.1831 - val_accuracy: 0.7917\n",
      "Epoch 90/100\n",
      "47/47 [==============================] - 0s 4ms/step - loss: 0.3870 - accuracy: 0.7471 - val_loss: 2.7572 - val_accuracy: 0.7917\n",
      "Epoch 91/100\n",
      "47/47 [==============================] - 0s 4ms/step - loss: 0.4425 - accuracy: 0.8353 - val_loss: 1.3602 - val_accuracy: 0.7917\n",
      "Epoch 92/100\n",
      "47/47 [==============================] - 0s 4ms/step - loss: 0.3335 - accuracy: 0.8438 - val_loss: 1.1357 - val_accuracy: 0.7917\n",
      "Epoch 93/100\n",
      "47/47 [==============================] - 0s 4ms/step - loss: 0.3763 - accuracy: 0.7941 - val_loss: 1.8451 - val_accuracy: 0.7917\n",
      "Epoch 94/100\n",
      "47/47 [==============================] - 0s 4ms/step - loss: 0.3709 - accuracy: 0.8309 - val_loss: 1.3373 - val_accuracy: 0.7917\n",
      "Epoch 95/100\n",
      "47/47 [==============================] - 0s 4ms/step - loss: 0.3495 - accuracy: 0.7921 - val_loss: 1.4417 - val_accuracy: 0.7917\n",
      "Epoch 96/100\n",
      "47/47 [==============================] - 0s 4ms/step - loss: 0.3567 - accuracy: 0.7911 - val_loss: 1.8708 - val_accuracy: 0.7917\n",
      "Epoch 97/100\n",
      "47/47 [==============================] - 0s 4ms/step - loss: 0.4076 - accuracy: 0.7376 - val_loss: 1.6682 - val_accuracy: 0.7917\n",
      "Epoch 98/100\n",
      "47/47 [==============================] - 0s 3ms/step - loss: 0.3854 - accuracy: 0.8053 - val_loss: 1.9599 - val_accuracy: 0.7917\n",
      "Epoch 99/100\n",
      "47/47 [==============================] - 0s 4ms/step - loss: 0.3799 - accuracy: 0.8449 - val_loss: 1.1747 - val_accuracy: 0.7917\n",
      "Epoch 100/100\n",
      "47/47 [==============================] - 0s 4ms/step - loss: 0.4516 - accuracy: 0.7962 - val_loss: 1.6298 - val_accuracy: 0.7917\n"
     ]
    }
   ],
   "source": [
    "# Train the ANN\n",
    "history = model.fit(X_train, y_train, batch_size = 2, epochs = 100, validation_split=0.2)"
   ]
  },
  {
   "cell_type": "code",
   "execution_count": 54,
   "metadata": {},
   "outputs": [
    {
     "data": {
      "image/png": "[encoded data removed]",
      "text/plain": [
       "<Figure size 432x288 with 1 Axes>"
      ]
     },
     "metadata": {
      "needs_background": "light"
     },
     "output_type": "display_data"
    },
    {
     "data": {
      "image/png": "[encoded data removed]",
      "text/plain": [
       "<Figure size 432x288 with 1 Axes>"
      ]
     },
     "metadata": {
      "needs_background": "light"
     },
     "output_type": "display_data"
    }
   ],
   "source": [
    "history_df = pd.DataFrame(history.history)\n",
    "\n",
    "plt.plot(history_df.loc[:, ['loss']], \"#CD5C5C\", label='Training loss')\n",
    "plt.plot(history_df.loc[:, ['val_loss']],\"#FF0000\", label='Validation loss')\n",
    "plt.title('Training and Validation loss')\n",
    "plt.xlabel('Epochs')\n",
    "plt.ylabel('Loss')\n",
    "plt.legend(loc=\"best\")\n",
    "\n",
    "plt.show()\n",
    "\n",
    "history_df = pd.DataFrame(history.history)\n",
    "\n",
    "plt.plot(history_df.loc[:, ['accuracy']], \"#CD5C5C\", label='Training accuracy')\n",
    "plt.plot(history_df.loc[:, ['val_accuracy']],\"#FF0000\", label='Validation accuracy')\n",
    "\n",
    "plt.title('Training and Validation accuracy')\n",
    "plt.xlabel('Epochs')\n",
    "plt.ylabel('Accuracy')\n",
    "plt.legend()\n",
    "plt.show()"
   ]
  },
  {
   "cell_type": "code",
   "execution_count": 55,
   "metadata": {},
   "outputs": [],
   "source": [
    "# Predicting the test set results\n",
    "y_pred = model.predict(X_test)\n",
    "y_pred = (y_pred > 0.4)\n",
    "\n",
    "dnn_6_acc = accuracy_score(y_pred, y_test)\n",
    "dnn_6_prec = precision_score(y_pred, y_test,average='weighted')\n",
    "dnn_6_rec = recall_score(y_pred, y_test,average='weighted')\n",
    "dnn_6_f1 = f1_score(y_pred, y_test,average='weighted')\n",
    "dnn_6_spec = specificity_score(y_pred, y_test,average='weighted')\n",
    "dnn_6_sens = sensitivity_score(y_pred, y_test,average='weighted')"
   ]
  },
  {
   "cell_type": "code",
   "execution_count": 81,
   "metadata": {},
   "outputs": [],
   "source": [
    "storeResults1('DNN - 6 Layers',dnn_6_acc,dnn_6_prec,dnn_6_rec,dnn_6_f1,dnn_6_spec,dnn_6_sens)"
   ]
  },
  {
   "cell_type": "markdown",
   "metadata": {},
   "source": [
    "# 7 Layers"
   ]
  },
  {
   "cell_type": "code",
   "execution_count": 56,
   "metadata": {},
   "outputs": [],
   "source": [
    "# Initialising the NN\n",
    "model = Sequential()\n",
    "\n",
    "# layers\n",
    "model.add(Dense(units = 128, kernel_initializer = 'uniform', activation = 'relu', input_dim = 10))\n",
    "model.add(Dense(units = 64, kernel_initializer = 'uniform', activation = 'relu'))\n",
    "model.add(Dropout(0.25))\n",
    "model.add(Dense(units = 64, kernel_initializer = 'uniform', activation = 'relu'))\n",
    "model.add(Dropout(0.5))\n",
    "model.add(Dense(units = 32, kernel_initializer = 'uniform', activation = 'relu'))\n",
    "model.add(Dropout(0.5))\n",
    "model.add(Dense(units = 32, kernel_initializer = 'uniform', activation = 'relu'))\n",
    "model.add(Dropout(0.5))\n",
    "model.add(Dense(units = 16, kernel_initializer = 'uniform', activation = 'relu'))\n",
    "model.add(Dropout(0.5))\n",
    "model.add(Dense(units = 16, kernel_initializer = 'uniform', activation = 'relu'))\n",
    "model.add(Dropout(0.5))\n",
    "model.add(Dense(units = 1, kernel_initializer = 'uniform', activation = 'sigmoid'))\n",
    "\n",
    "# Compiling the ANN\n",
    "model.compile(optimizer = 'adam', loss = 'binary_crossentropy', metrics = ['accuracy'])"
   ]
  },
  {
   "cell_type": "code",
   "execution_count": 57,
   "metadata": {},
   "outputs": [
    {
     "name": "stdout",
     "output_type": "stream",
     "text": [
      "Epoch 1/100\n",
      "47/47 [==============================] - 13s 59ms/step - loss: 0.6907 - accuracy: 0.7317 - val_loss: 0.6820 - val_accuracy: 0.7917\n",
      "Epoch 2/100\n",
      "47/47 [==============================] - 0s 5ms/step - loss: 0.6733 - accuracy: 0.8252 - val_loss: 0.5525 - val_accuracy: 0.7917\n",
      "Epoch 3/100\n",
      "47/47 [==============================] - 0s 5ms/step - loss: 0.6482 - accuracy: 0.7828 - val_loss: 0.5352 - val_accuracy: 0.7917\n",
      "Epoch 4/100\n",
      "47/47 [==============================] - 0s 5ms/step - loss: 0.4824 - accuracy: 0.8201 - val_loss: 0.5472 - val_accuracy: 0.7917\n",
      "Epoch 5/100\n",
      "47/47 [==============================] - 0s 4ms/step - loss: 0.6672 - accuracy: 0.7385 - val_loss: 0.5594 - val_accuracy: 0.7917\n",
      "Epoch 6/100\n",
      "47/47 [==============================] - 0s 4ms/step - loss: 0.4085 - accuracy: 0.8456 - val_loss: 0.5623 - val_accuracy: 0.7917\n",
      "Epoch 7/100\n",
      "47/47 [==============================] - 0s 6ms/step - loss: 0.5992 - accuracy: 0.8153 - val_loss: 0.5727 - val_accuracy: 0.7917\n",
      "Epoch 8/100\n",
      "47/47 [==============================] - 0s 5ms/step - loss: 0.5595 - accuracy: 0.7770 - val_loss: 0.5951 - val_accuracy: 0.7917\n",
      "Epoch 9/100\n",
      "47/47 [==============================] - 0s 6ms/step - loss: 0.5122 - accuracy: 0.7418 - val_loss: 0.6625 - val_accuracy: 0.7917\n",
      "Epoch 10/100\n",
      "47/47 [==============================] - 0s 5ms/step - loss: 0.6394 - accuracy: 0.8454 - val_loss: 0.6211 - val_accuracy: 0.7917\n",
      "Epoch 11/100\n",
      "47/47 [==============================] - 0s 5ms/step - loss: 0.9585 - accuracy: 0.7764 - val_loss: 0.6188 - val_accuracy: 0.7917\n",
      "Epoch 12/100\n",
      "47/47 [==============================] - 0s 5ms/step - loss: 0.5406 - accuracy: 0.8377 - val_loss: 0.5942 - val_accuracy: 0.7917\n",
      "Epoch 13/100\n",
      "47/47 [==============================] - 0s 6ms/step - loss: 0.5449 - accuracy: 0.7287 - val_loss: 0.6233 - val_accuracy: 0.7917\n",
      "Epoch 14/100\n",
      "47/47 [==============================] - 0s 5ms/step - loss: 0.3889 - accuracy: 0.8166 - val_loss: 0.6020 - val_accuracy: 0.7917\n",
      "Epoch 15/100\n",
      "47/47 [==============================] - 0s 4ms/step - loss: 0.4402 - accuracy: 0.8206 - val_loss: 0.7914 - val_accuracy: 0.7917\n",
      "Epoch 16/100\n",
      "47/47 [==============================] - 0s 4ms/step - loss: 0.4088 - accuracy: 0.8356 - val_loss: 0.6660 - val_accuracy: 0.7917\n",
      "Epoch 17/100\n",
      "47/47 [==============================] - 0s 4ms/step - loss: 0.3875 - accuracy: 0.8463 - val_loss: 0.6508 - val_accuracy: 0.7917\n",
      "Epoch 18/100\n",
      "47/47 [==============================] - 0s 5ms/step - loss: 0.4943 - accuracy: 0.8073 - val_loss: 0.6087 - val_accuracy: 0.7917\n",
      "Epoch 19/100\n",
      "47/47 [==============================] - 0s 6ms/step - loss: 0.5014 - accuracy: 0.8494 - val_loss: 0.6163 - val_accuracy: 0.7917\n",
      "Epoch 20/100\n",
      "47/47 [==============================] - 0s 6ms/step - loss: 0.4248 - accuracy: 0.8707 - val_loss: 0.6580 - val_accuracy: 0.7917\n",
      "Epoch 21/100\n",
      "47/47 [==============================] - 0s 5ms/step - loss: 0.4825 - accuracy: 0.7566 - val_loss: 0.8982 - val_accuracy: 0.7917\n",
      "Epoch 22/100\n",
      "47/47 [==============================] - 0s 5ms/step - loss: 0.4248 - accuracy: 0.7848 - val_loss: 1.1294 - val_accuracy: 0.7917\n",
      "Epoch 23/100\n",
      "47/47 [==============================] - 0s 5ms/step - loss: 0.6525 - accuracy: 0.7657 - val_loss: 1.1121 - val_accuracy: 0.7917\n",
      "Epoch 24/100\n",
      "47/47 [==============================] - 0s 5ms/step - loss: 0.4703 - accuracy: 0.7637 - val_loss: 1.0655 - val_accuracy: 0.7917\n",
      "Epoch 25/100\n",
      "47/47 [==============================] - 0s 4ms/step - loss: 0.5046 - accuracy: 0.7147 - val_loss: 1.1437 - val_accuracy: 0.7917\n",
      "Epoch 26/100\n",
      "47/47 [==============================] - 0s 5ms/step - loss: 0.4544 - accuracy: 0.8257 - val_loss: 0.8878 - val_accuracy: 0.7917\n",
      "Epoch 27/100\n",
      "47/47 [==============================] - 0s 5ms/step - loss: 0.4224 - accuracy: 0.7762 - val_loss: 0.8692 - val_accuracy: 0.7917\n",
      "Epoch 28/100\n",
      "47/47 [==============================] - 0s 4ms/step - loss: 0.3582 - accuracy: 0.8185 - val_loss: 1.2583 - val_accuracy: 0.7917\n",
      "Epoch 29/100\n",
      "47/47 [==============================] - 0s 4ms/step - loss: 0.5168 - accuracy: 0.7292 - val_loss: 0.8387 - val_accuracy: 0.7917\n",
      "Epoch 30/100\n",
      "47/47 [==============================] - 0s 5ms/step - loss: 0.3887 - accuracy: 0.8192 - val_loss: 0.9059 - val_accuracy: 0.7917\n",
      "Epoch 31/100\n",
      "47/47 [==============================] - 0s 5ms/step - loss: 0.4254 - accuracy: 0.7690 - val_loss: 0.7343 - val_accuracy: 0.7917\n",
      "Epoch 32/100\n",
      "47/47 [==============================] - 0s 4ms/step - loss: 0.4138 - accuracy: 0.8333 - val_loss: 0.6996 - val_accuracy: 0.7917\n",
      "Epoch 33/100\n",
      "47/47 [==============================] - 0s 4ms/step - loss: 0.3886 - accuracy: 0.8138 - val_loss: 0.8670 - val_accuracy: 0.7917\n",
      "Epoch 34/100\n",
      "47/47 [==============================] - 0s 4ms/step - loss: 0.3878 - accuracy: 0.8286 - val_loss: 0.8188 - val_accuracy: 0.7917\n",
      "Epoch 35/100\n",
      "47/47 [==============================] - 0s 5ms/step - loss: 0.4493 - accuracy: 0.7848 - val_loss: 1.1279 - val_accuracy: 0.7917\n",
      "Epoch 36/100\n",
      "47/47 [==============================] - 0s 4ms/step - loss: 0.3999 - accuracy: 0.7988 - val_loss: 1.1236 - val_accuracy: 0.7917\n",
      "Epoch 37/100\n",
      "47/47 [==============================] - 0s 4ms/step - loss: 0.3959 - accuracy: 0.7790 - val_loss: 1.1765 - val_accuracy: 0.7917\n",
      "Epoch 38/100\n",
      "47/47 [==============================] - 0s 4ms/step - loss: 0.5583 - accuracy: 0.7809 - val_loss: 0.9169 - val_accuracy: 0.7917\n",
      "Epoch 39/100\n",
      "47/47 [==============================] - 0s 4ms/step - loss: 0.3727 - accuracy: 0.8733 - val_loss: 0.7085 - val_accuracy: 0.7917\n",
      "Epoch 40/100\n",
      "47/47 [==============================] - 0s 4ms/step - loss: 0.4349 - accuracy: 0.8230 - val_loss: 0.8890 - val_accuracy: 0.7917\n",
      "Epoch 41/100\n",
      "47/47 [==============================] - 0s 4ms/step - loss: 0.3562 - accuracy: 0.8306 - val_loss: 0.8688 - val_accuracy: 0.7917\n",
      "Epoch 42/100\n",
      "47/47 [==============================] - 0s 4ms/step - loss: 0.4966 - accuracy: 0.6704 - val_loss: 1.1406 - val_accuracy: 0.7917\n",
      "Epoch 43/100\n",
      "47/47 [==============================] - 0s 4ms/step - loss: 0.4181 - accuracy: 0.7509 - val_loss: 1.1764 - val_accuracy: 0.7917\n",
      "Epoch 44/100\n",
      "47/47 [==============================] - 0s 4ms/step - loss: 0.3699 - accuracy: 0.8448 - val_loss: 0.9798 - val_accuracy: 0.7917\n",
      "Epoch 45/100\n",
      "47/47 [==============================] - 0s 4ms/step - loss: 0.4317 - accuracy: 0.7760 - val_loss: 1.1093 - val_accuracy: 0.7917\n",
      "Epoch 46/100\n",
      "47/47 [==============================] - 0s 4ms/step - loss: 0.4186 - accuracy: 0.7566 - val_loss: 1.2635 - val_accuracy: 0.7917\n",
      "Epoch 47/100\n",
      "47/47 [==============================] - 0s 4ms/step - loss: 0.4955 - accuracy: 0.8110 - val_loss: 1.2790 - val_accuracy: 0.7917\n",
      "Epoch 48/100\n",
      "47/47 [==============================] - 0s 4ms/step - loss: 0.4544 - accuracy: 0.7755 - val_loss: 1.1166 - val_accuracy: 0.7917\n",
      "Epoch 49/100\n",
      "47/47 [==============================] - 0s 4ms/step - loss: 0.3259 - accuracy: 0.8332 - val_loss: 0.9749 - val_accuracy: 0.7917\n",
      "Epoch 50/100\n",
      "47/47 [==============================] - 0s 4ms/step - loss: 0.4351 - accuracy: 0.7449 - val_loss: 1.0047 - val_accuracy: 0.7917\n",
      "Epoch 51/100\n",
      "47/47 [==============================] - 0s 4ms/step - loss: 0.3273 - accuracy: 0.8368 - val_loss: 1.0814 - val_accuracy: 0.7917\n",
      "Epoch 52/100\n",
      "47/47 [==============================] - 0s 4ms/step - loss: 0.3179 - accuracy: 0.7912 - val_loss: 1.3205 - val_accuracy: 0.7917\n",
      "Epoch 53/100\n",
      "47/47 [==============================] - 0s 4ms/step - loss: 0.4069 - accuracy: 0.8200 - val_loss: 1.0783 - val_accuracy: 0.7917\n",
      "Epoch 54/100\n",
      "47/47 [==============================] - 0s 4ms/step - loss: 0.3607 - accuracy: 0.8548 - val_loss: 1.0645 - val_accuracy: 0.7917\n",
      "Epoch 55/100\n",
      "47/47 [==============================] - 0s 4ms/step - loss: 0.3970 - accuracy: 0.8042 - val_loss: 1.0684 - val_accuracy: 0.7917\n",
      "Epoch 56/100\n",
      "47/47 [==============================] - 0s 4ms/step - loss: 0.3982 - accuracy: 0.8199 - val_loss: 1.2326 - val_accuracy: 0.7917\n",
      "Epoch 57/100\n",
      "47/47 [==============================] - 0s 4ms/step - loss: 0.3633 - accuracy: 0.7608 - val_loss: 1.4936 - val_accuracy: 0.7917\n",
      "Epoch 58/100\n",
      "47/47 [==============================] - 0s 4ms/step - loss: 0.3300 - accuracy: 0.8119 - val_loss: 1.6526 - val_accuracy: 0.7917\n"
     ]
    },
    {
     "name": "stdout",
     "output_type": "stream",
     "text": [
      "Epoch 59/100\n",
      "47/47 [==============================] - 0s 4ms/step - loss: 0.3350 - accuracy: 0.8102 - val_loss: 1.7488 - val_accuracy: 0.7917\n",
      "Epoch 60/100\n",
      "47/47 [==============================] - 0s 4ms/step - loss: 0.3239 - accuracy: 0.8172 - val_loss: 1.3003 - val_accuracy: 0.7917\n",
      "Epoch 61/100\n",
      "47/47 [==============================] - 0s 4ms/step - loss: 0.4031 - accuracy: 0.7525 - val_loss: 1.8775 - val_accuracy: 0.7917\n",
      "Epoch 62/100\n",
      "47/47 [==============================] - 0s 4ms/step - loss: 0.2704 - accuracy: 0.8346 - val_loss: 1.4880 - val_accuracy: 0.7917\n",
      "Epoch 63/100\n",
      "47/47 [==============================] - 0s 4ms/step - loss: 0.3939 - accuracy: 0.8095 - val_loss: 1.1996 - val_accuracy: 0.7917\n",
      "Epoch 64/100\n",
      "47/47 [==============================] - 0s 4ms/step - loss: 0.3693 - accuracy: 0.8242 - val_loss: 1.4866 - val_accuracy: 0.7917\n",
      "Epoch 65/100\n",
      "47/47 [==============================] - 0s 4ms/step - loss: 0.3697 - accuracy: 0.8390 - val_loss: 0.9729 - val_accuracy: 0.7917\n",
      "Epoch 66/100\n",
      "47/47 [==============================] - 0s 4ms/step - loss: 0.4394 - accuracy: 0.8261 - val_loss: 0.9675 - val_accuracy: 0.7917\n",
      "Epoch 67/100\n",
      "47/47 [==============================] - 0s 4ms/step - loss: 0.4051 - accuracy: 0.7819 - val_loss: 1.3433 - val_accuracy: 0.7917\n",
      "Epoch 68/100\n",
      "47/47 [==============================] - 0s 4ms/step - loss: 0.5264 - accuracy: 0.7910 - val_loss: 1.0754 - val_accuracy: 0.7917\n",
      "Epoch 69/100\n",
      "47/47 [==============================] - 0s 4ms/step - loss: 0.3501 - accuracy: 0.8573 - val_loss: 1.1176 - val_accuracy: 0.7917\n",
      "Epoch 70/100\n",
      "47/47 [==============================] - 0s 4ms/step - loss: 0.3871 - accuracy: 0.8135 - val_loss: 1.3622 - val_accuracy: 0.7917\n",
      "Epoch 71/100\n",
      "47/47 [==============================] - 0s 4ms/step - loss: 0.5157 - accuracy: 0.7463 - val_loss: 1.5369 - val_accuracy: 0.7917\n",
      "Epoch 72/100\n",
      "47/47 [==============================] - 0s 4ms/step - loss: 0.3360 - accuracy: 0.8366 - val_loss: 1.4640 - val_accuracy: 0.7917\n",
      "Epoch 73/100\n",
      "47/47 [==============================] - 0s 4ms/step - loss: 0.3127 - accuracy: 0.8722 - val_loss: 1.4727 - val_accuracy: 0.7917\n",
      "Epoch 74/100\n",
      "47/47 [==============================] - 0s 4ms/step - loss: 0.2862 - accuracy: 0.8482 - val_loss: 1.3049 - val_accuracy: 0.7917\n",
      "Epoch 75/100\n",
      "47/47 [==============================] - 0s 4ms/step - loss: 0.3371 - accuracy: 0.7725 - val_loss: 1.7401 - val_accuracy: 0.7917\n",
      "Epoch 76/100\n",
      "47/47 [==============================] - 0s 4ms/step - loss: 0.4537 - accuracy: 0.7716 - val_loss: 1.1666 - val_accuracy: 0.7917\n",
      "Epoch 77/100\n",
      "47/47 [==============================] - 0s 4ms/step - loss: 0.4178 - accuracy: 0.7929 - val_loss: 1.1799 - val_accuracy: 0.7917\n",
      "Epoch 78/100\n",
      "47/47 [==============================] - 0s 4ms/step - loss: 0.4229 - accuracy: 0.7740 - val_loss: 1.2216 - val_accuracy: 0.7917\n",
      "Epoch 79/100\n",
      "47/47 [==============================] - 0s 4ms/step - loss: 0.3381 - accuracy: 0.8118 - val_loss: 1.1952 - val_accuracy: 0.7917\n",
      "Epoch 80/100\n",
      "47/47 [==============================] - 0s 4ms/step - loss: 0.3805 - accuracy: 0.8445 - val_loss: 1.1004 - val_accuracy: 0.7917\n",
      "Epoch 81/100\n",
      "47/47 [==============================] - 0s 4ms/step - loss: 0.3415 - accuracy: 0.7925 - val_loss: 1.5626 - val_accuracy: 0.7917\n",
      "Epoch 82/100\n",
      "47/47 [==============================] - 0s 4ms/step - loss: 0.3628 - accuracy: 0.8038 - val_loss: 1.3230 - val_accuracy: 0.7917\n",
      "Epoch 83/100\n",
      "47/47 [==============================] - 0s 4ms/step - loss: 0.3488 - accuracy: 0.7822 - val_loss: 1.1482 - val_accuracy: 0.7917\n",
      "Epoch 84/100\n",
      "47/47 [==============================] - 0s 4ms/step - loss: 0.4144 - accuracy: 0.7602 - val_loss: 1.9883 - val_accuracy: 0.7917\n",
      "Epoch 85/100\n",
      "47/47 [==============================] - 0s 4ms/step - loss: 0.3666 - accuracy: 0.8024 - val_loss: 1.4170 - val_accuracy: 0.7917\n",
      "Epoch 86/100\n",
      "47/47 [==============================] - 0s 4ms/step - loss: 0.3533 - accuracy: 0.8259 - val_loss: 1.5294 - val_accuracy: 0.7917\n",
      "Epoch 87/100\n",
      "47/47 [==============================] - 0s 4ms/step - loss: 0.2913 - accuracy: 0.8117 - val_loss: 1.4184 - val_accuracy: 0.7917\n",
      "Epoch 88/100\n",
      "47/47 [==============================] - 0s 4ms/step - loss: 0.3093 - accuracy: 0.7962 - val_loss: 1.9365 - val_accuracy: 0.7917\n",
      "Epoch 89/100\n",
      "47/47 [==============================] - 0s 4ms/step - loss: 0.3357 - accuracy: 0.8074 - val_loss: 1.9917 - val_accuracy: 0.7917\n",
      "Epoch 90/100\n",
      "47/47 [==============================] - 0s 4ms/step - loss: 0.3140 - accuracy: 0.8250 - val_loss: 1.7764 - val_accuracy: 0.7917\n",
      "Epoch 91/100\n",
      "47/47 [==============================] - 0s 4ms/step - loss: 0.3671 - accuracy: 0.7308 - val_loss: 1.8806 - val_accuracy: 0.7917\n",
      "Epoch 92/100\n",
      "47/47 [==============================] - 0s 5ms/step - loss: 0.3289 - accuracy: 0.8324 - val_loss: 0.9685 - val_accuracy: 0.7917\n",
      "Epoch 93/100\n",
      "47/47 [==============================] - 0s 5ms/step - loss: 0.3909 - accuracy: 0.8429 - val_loss: 1.3805 - val_accuracy: 0.7917\n",
      "Epoch 94/100\n",
      "47/47 [==============================] - 0s 5ms/step - loss: 0.4242 - accuracy: 0.7196 - val_loss: 1.8632 - val_accuracy: 0.7917\n",
      "Epoch 95/100\n",
      "47/47 [==============================] - 0s 5ms/step - loss: 0.3538 - accuracy: 0.7958 - val_loss: 1.9084 - val_accuracy: 0.7917\n",
      "Epoch 96/100\n",
      "47/47 [==============================] - 0s 5ms/step - loss: 0.3403 - accuracy: 0.7728 - val_loss: 1.9428 - val_accuracy: 0.7917\n",
      "Epoch 97/100\n",
      "47/47 [==============================] - 0s 5ms/step - loss: 0.3063 - accuracy: 0.8139 - val_loss: 2.2462 - val_accuracy: 0.7917\n",
      "Epoch 98/100\n",
      "47/47 [==============================] - 0s 5ms/step - loss: 0.3418 - accuracy: 0.8064 - val_loss: 1.9545 - val_accuracy: 0.7917\n",
      "Epoch 99/100\n",
      "47/47 [==============================] - 0s 5ms/step - loss: 0.3586 - accuracy: 0.7173 - val_loss: 2.1336 - val_accuracy: 0.7917\n",
      "Epoch 100/100\n",
      "47/47 [==============================] - 0s 5ms/step - loss: 0.3316 - accuracy: 0.8020 - val_loss: 1.8700 - val_accuracy: 0.7917\n"
     ]
    }
   ],
   "source": [
    "# Train the ANN\n",
    "history = model.fit(X_train, y_train, batch_size = 2, epochs = 100, validation_split=0.2)"
   ]
  },
  {
   "cell_type": "code",
   "execution_count": 58,
   "metadata": {},
   "outputs": [
    {
     "data": {
      "image/png": "[encoded data removed]",
      "text/plain": [
       "<Figure size 432x288 with 1 Axes>"
      ]
     },
     "metadata": {
      "needs_background": "light"
     },
     "output_type": "display_data"
    },
    {
     "data": {
      "image/png": "[encoded data removed]",
      "text/plain": [
       "<Figure size 432x288 with 1 Axes>"
      ]
     },
     "metadata": {
      "needs_background": "light"
     },
     "output_type": "display_data"
    }
   ],
   "source": [
    "history_df = pd.DataFrame(history.history)\n",
    "\n",
    "plt.plot(history_df.loc[:, ['loss']], \"#CD5C5C\", label='Training loss')\n",
    "plt.plot(history_df.loc[:, ['val_loss']],\"#FF0000\", label='Validation loss')\n",
    "plt.title('Training and Validation loss')\n",
    "plt.xlabel('Epochs')\n",
    "plt.ylabel('Loss')\n",
    "plt.legend(loc=\"best\")\n",
    "\n",
    "plt.show()\n",
    "\n",
    "history_df = pd.DataFrame(history.history)\n",
    "\n",
    "plt.plot(history_df.loc[:, ['accuracy']], \"#CD5C5C\", label='Training accuracy')\n",
    "plt.plot(history_df.loc[:, ['val_accuracy']],\"#FF0000\", label='Validation accuracy')\n",
    "\n",
    "plt.title('Training and Validation accuracy')\n",
    "plt.xlabel('Epochs')\n",
    "plt.ylabel('Accuracy')\n",
    "plt.legend()\n",
    "plt.show()"
   ]
  },
  {
   "cell_type": "code",
   "execution_count": 59,
   "metadata": {},
   "outputs": [
    {
     "name": "stdout",
     "output_type": "stream",
     "text": [
      "WARNING:tensorflow:5 out of the last 5 calls to <function Model.make_predict_function.<locals>.predict_function at 0x0000024A732BB288> triggered tf.function retracing. Tracing is expensive and the excessive number of tracings could be due to (1) creating @tf.function repeatedly in a loop, (2) passing tensors with different shapes, (3) passing Python objects instead of tensors. For (1), please define your @tf.function outside of the loop. For (2), @tf.function has experimental_relax_shapes=True option that relaxes argument shapes that can avoid unnecessary retracing. For (3), please refer to https://www.tensorflow.org/guide/function#controlling_retracing and https://www.tensorflow.org/api_docs/python/tf/function for  more details.\n"
     ]
    }
   ],
   "source": [
    "# Predicting the test set results\n",
    "y_pred = model.predict(X_test)\n",
    "y_pred = (y_pred > 0.4)\n",
    "\n",
    "dnn_7_acc = accuracy_score(y_pred, y_test)\n",
    "dnn_7_prec = precision_score(y_pred, y_test,average='weighted')\n",
    "dnn_7_rec = recall_score(y_pred, y_test,average='weighted')\n",
    "dnn_7_f1 = f1_score(y_pred, y_test,average='weighted')\n",
    "dnn_7_spec = specificity_score(y_pred, y_test,average='weighted')\n",
    "dnn_7_sens = sensitivity_score(y_pred, y_test,average='weighted')"
   ]
  },
  {
   "cell_type": "code",
   "execution_count": 82,
   "metadata": {},
   "outputs": [],
   "source": [
    "storeResults1('DNN - 7 Layers',dnn_7_acc,dnn_7_prec,dnn_7_rec,dnn_7_f1,dnn_7_spec,dnn_7_sens)"
   ]
  },
  {
   "cell_type": "markdown",
   "metadata": {},
   "source": [
    "# 8 Layers"
   ]
  },
  {
   "cell_type": "code",
   "execution_count": 60,
   "metadata": {},
   "outputs": [],
   "source": [
    "# Initialising the NN\n",
    "model = Sequential()\n",
    "\n",
    "# layers\n",
    "model.add(Dense(units = 128, kernel_initializer = 'uniform', activation = 'relu', input_dim = 10))\n",
    "model.add(Dense(units = 64, kernel_initializer = 'uniform', activation = 'relu'))\n",
    "model.add(Dropout(0.25))\n",
    "model.add(Dense(units = 64, kernel_initializer = 'uniform', activation = 'relu'))\n",
    "model.add(Dropout(0.5))\n",
    "model.add(Dense(units = 32, kernel_initializer = 'uniform', activation = 'relu'))\n",
    "model.add(Dropout(0.5))\n",
    "model.add(Dense(units = 32, kernel_initializer = 'uniform', activation = 'relu'))\n",
    "model.add(Dropout(0.5))\n",
    "model.add(Dense(units = 16, kernel_initializer = 'uniform', activation = 'relu'))\n",
    "model.add(Dropout(0.5))\n",
    "model.add(Dense(units = 16, kernel_initializer = 'uniform', activation = 'relu'))\n",
    "model.add(Dropout(0.5))\n",
    "model.add(Dense(units = 8, kernel_initializer = 'uniform', activation = 'relu'))\n",
    "model.add(Dropout(0.5))\n",
    "model.add(Dense(units = 1, kernel_initializer = 'uniform', activation = 'sigmoid'))\n",
    "\n",
    "# Compiling the ANN\n",
    "model.compile(optimizer = 'adam', loss = 'binary_crossentropy', metrics = ['accuracy'])"
   ]
  },
  {
   "cell_type": "code",
   "execution_count": 61,
   "metadata": {},
   "outputs": [
    {
     "name": "stdout",
     "output_type": "stream",
     "text": [
      "Epoch 1/100\n",
      "47/47 [==============================] - 10s 45ms/step - loss: 0.6905 - accuracy: 0.6948 - val_loss: 0.6820 - val_accuracy: 0.7917\n",
      "Epoch 2/100\n",
      "47/47 [==============================] - 0s 4ms/step - loss: 0.6738 - accuracy: 0.8950 - val_loss: 0.6642 - val_accuracy: 0.7917\n",
      "Epoch 3/100\n",
      "47/47 [==============================] - 0s 4ms/step - loss: 0.6452 - accuracy: 0.7658 - val_loss: 0.5490 - val_accuracy: 0.7917\n",
      "Epoch 4/100\n",
      "47/47 [==============================] - 0s 4ms/step - loss: 0.6769 - accuracy: 0.7975 - val_loss: 0.5285 - val_accuracy: 0.7917\n",
      "Epoch 5/100\n",
      "47/47 [==============================] - 0s 4ms/step - loss: 0.6743 - accuracy: 0.6634 - val_loss: 0.5484 - val_accuracy: 0.7917\n",
      "Epoch 6/100\n",
      "47/47 [==============================] - 0s 4ms/step - loss: 0.5665 - accuracy: 0.7802 - val_loss: 0.5500 - val_accuracy: 0.7917\n",
      "Epoch 7/100\n",
      "47/47 [==============================] - 0s 4ms/step - loss: 0.5729 - accuracy: 0.8169 - val_loss: 0.5704 - val_accuracy: 0.7917\n",
      "Epoch 8/100\n",
      "47/47 [==============================] - 0s 4ms/step - loss: 0.5488 - accuracy: 0.7888 - val_loss: 0.5439 - val_accuracy: 0.7917\n",
      "Epoch 9/100\n",
      "47/47 [==============================] - 0s 5ms/step - loss: 0.4749 - accuracy: 0.8387 - val_loss: 0.5486 - val_accuracy: 0.7917\n",
      "Epoch 10/100\n",
      "47/47 [==============================] - 0s 4ms/step - loss: 0.6371 - accuracy: 0.7614 - val_loss: 0.5639 - val_accuracy: 0.7917\n",
      "Epoch 11/100\n",
      "47/47 [==============================] - 0s 4ms/step - loss: 0.4797 - accuracy: 0.7993 - val_loss: 0.5989 - val_accuracy: 0.7917\n",
      "Epoch 12/100\n",
      "47/47 [==============================] - 0s 4ms/step - loss: 0.5446 - accuracy: 0.7519 - val_loss: 0.5807 - val_accuracy: 0.7917\n",
      "Epoch 13/100\n",
      "47/47 [==============================] - 0s 4ms/step - loss: 0.4587 - accuracy: 0.8242 - val_loss: 0.5998 - val_accuracy: 0.7917\n",
      "Epoch 14/100\n",
      "47/47 [==============================] - 0s 5ms/step - loss: 0.5154 - accuracy: 0.8053 - val_loss: 0.6053 - val_accuracy: 0.7917\n",
      "Epoch 15/100\n",
      "47/47 [==============================] - 0s 5ms/step - loss: 0.5528 - accuracy: 0.7769 - val_loss: 0.6013 - val_accuracy: 0.7917\n",
      "Epoch 16/100\n",
      "47/47 [==============================] - 0s 5ms/step - loss: 0.4320 - accuracy: 0.8732 - val_loss: 0.6308 - val_accuracy: 0.7917\n",
      "Epoch 17/100\n",
      "47/47 [==============================] - 0s 5ms/step - loss: 0.4893 - accuracy: 0.7554 - val_loss: 0.7594 - val_accuracy: 0.7917\n",
      "Epoch 18/100\n",
      "47/47 [==============================] - 0s 5ms/step - loss: 0.4111 - accuracy: 0.8052 - val_loss: 0.8849 - val_accuracy: 0.7917\n",
      "Epoch 19/100\n",
      "47/47 [==============================] - 0s 5ms/step - loss: 0.4246 - accuracy: 0.8137 - val_loss: 0.6719 - val_accuracy: 0.7917\n",
      "Epoch 20/100\n",
      "47/47 [==============================] - 0s 5ms/step - loss: 0.4496 - accuracy: 0.8405 - val_loss: 0.8190 - val_accuracy: 0.7917\n",
      "Epoch 21/100\n",
      "47/47 [==============================] - 0s 5ms/step - loss: 0.5121 - accuracy: 0.8405 - val_loss: 0.7292 - val_accuracy: 0.7917\n",
      "Epoch 22/100\n",
      "47/47 [==============================] - 0s 5ms/step - loss: 0.4643 - accuracy: 0.7575 - val_loss: 0.7439 - val_accuracy: 0.7917\n",
      "Epoch 23/100\n",
      "47/47 [==============================] - 0s 5ms/step - loss: 0.4671 - accuracy: 0.7965 - val_loss: 0.7611 - val_accuracy: 0.7917\n",
      "Epoch 24/100\n",
      "47/47 [==============================] - 0s 4ms/step - loss: 0.4037 - accuracy: 0.8442 - val_loss: 0.8071 - val_accuracy: 0.7917\n",
      "Epoch 25/100\n",
      "47/47 [==============================] - 0s 4ms/step - loss: 0.4632 - accuracy: 0.8044 - val_loss: 0.6948 - val_accuracy: 0.7917\n",
      "Epoch 26/100\n",
      "47/47 [==============================] - 0s 5ms/step - loss: 0.4473 - accuracy: 0.7834 - val_loss: 0.6546 - val_accuracy: 0.7917\n",
      "Epoch 27/100\n",
      "47/47 [==============================] - 0s 6ms/step - loss: 0.4313 - accuracy: 0.8237 - val_loss: 0.9134 - val_accuracy: 0.7917\n",
      "Epoch 28/100\n",
      "47/47 [==============================] - 0s 5ms/step - loss: 0.4205 - accuracy: 0.8278 - val_loss: 0.9665 - val_accuracy: 0.7917\n",
      "Epoch 29/100\n",
      "47/47 [==============================] - 0s 5ms/step - loss: 0.6048 - accuracy: 0.8106 - val_loss: 0.7868 - val_accuracy: 0.7917\n",
      "Epoch 30/100\n",
      "47/47 [==============================] - 0s 5ms/step - loss: 0.5362 - accuracy: 0.7916 - val_loss: 0.6056 - val_accuracy: 0.7917\n",
      "Epoch 31/100\n",
      "47/47 [==============================] - 0s 5ms/step - loss: 0.5201 - accuracy: 0.8047 - val_loss: 0.6761 - val_accuracy: 0.7917\n",
      "Epoch 32/100\n",
      "47/47 [==============================] - 0s 5ms/step - loss: 0.5513 - accuracy: 0.7472 - val_loss: 0.7894 - val_accuracy: 0.7917\n",
      "Epoch 33/100\n",
      "47/47 [==============================] - 0s 5ms/step - loss: 0.4677 - accuracy: 0.8419 - val_loss: 0.6577 - val_accuracy: 0.7917\n",
      "Epoch 34/100\n",
      "47/47 [==============================] - 0s 5ms/step - loss: 0.4641 - accuracy: 0.7846 - val_loss: 0.7950 - val_accuracy: 0.7917\n",
      "Epoch 35/100\n",
      "47/47 [==============================] - 0s 4ms/step - loss: 0.4373 - accuracy: 0.8073 - val_loss: 0.9790 - val_accuracy: 0.7917\n",
      "Epoch 36/100\n",
      "47/47 [==============================] - 0s 4ms/step - loss: 0.4201 - accuracy: 0.8278 - val_loss: 1.0120 - val_accuracy: 0.7917\n",
      "Epoch 37/100\n",
      "47/47 [==============================] - 0s 4ms/step - loss: 0.4705 - accuracy: 0.8364 - val_loss: 1.0714 - val_accuracy: 0.7917\n",
      "Epoch 38/100\n",
      "47/47 [==============================] - 0s 4ms/step - loss: 0.3973 - accuracy: 0.8597 - val_loss: 0.7462 - val_accuracy: 0.7917\n",
      "Epoch 39/100\n",
      "47/47 [==============================] - 0s 6ms/step - loss: 0.4577 - accuracy: 0.8258 - val_loss: 0.7759 - val_accuracy: 0.7917\n",
      "Epoch 40/100\n",
      "47/47 [==============================] - 0s 6ms/step - loss: 0.4917 - accuracy: 0.8402 - val_loss: 0.6253 - val_accuracy: 0.7917\n",
      "Epoch 41/100\n",
      "47/47 [==============================] - 0s 5ms/step - loss: 0.4808 - accuracy: 0.8593 - val_loss: 0.7446 - val_accuracy: 0.7917\n",
      "Epoch 42/100\n",
      "47/47 [==============================] - 0s 5ms/step - loss: 0.4765 - accuracy: 0.7394 - val_loss: 0.9332 - val_accuracy: 0.7917\n",
      "Epoch 43/100\n",
      "47/47 [==============================] - 0s 5ms/step - loss: 0.4053 - accuracy: 0.7597 - val_loss: 1.0814 - val_accuracy: 0.7917\n",
      "Epoch 44/100\n",
      "47/47 [==============================] - 0s 5ms/step - loss: 0.4202 - accuracy: 0.7707 - val_loss: 0.7933 - val_accuracy: 0.7917\n",
      "Epoch 45/100\n",
      "47/47 [==============================] - 0s 5ms/step - loss: 0.4086 - accuracy: 0.8383 - val_loss: 1.0269 - val_accuracy: 0.7917\n",
      "Epoch 46/100\n",
      "47/47 [==============================] - 0s 5ms/step - loss: 0.4393 - accuracy: 0.7594 - val_loss: 1.1917 - val_accuracy: 0.7917\n",
      "Epoch 47/100\n",
      "47/47 [==============================] - 0s 5ms/step - loss: 0.3717 - accuracy: 0.8278 - val_loss: 1.4638 - val_accuracy: 0.7917\n",
      "Epoch 48/100\n",
      "47/47 [==============================] - 0s 4ms/step - loss: 0.4133 - accuracy: 0.7628 - val_loss: 1.2230 - val_accuracy: 0.7917\n",
      "Epoch 49/100\n",
      "47/47 [==============================] - 0s 4ms/step - loss: 0.4440 - accuracy: 0.7968 - val_loss: 1.0019 - val_accuracy: 0.7917\n",
      "Epoch 50/100\n",
      "47/47 [==============================] - 0s 4ms/step - loss: 0.4301 - accuracy: 0.8263 - val_loss: 1.3524 - val_accuracy: 0.7917\n",
      "Epoch 51/100\n",
      "47/47 [==============================] - 0s 5ms/step - loss: 0.4388 - accuracy: 0.7908 - val_loss: 1.3253 - val_accuracy: 0.7917\n",
      "Epoch 52/100\n",
      "47/47 [==============================] - 0s 5ms/step - loss: 0.4407 - accuracy: 0.7565 - val_loss: 1.8783 - val_accuracy: 0.7917\n",
      "Epoch 53/100\n",
      "47/47 [==============================] - 0s 5ms/step - loss: 0.3743 - accuracy: 0.7968 - val_loss: 1.8257 - val_accuracy: 0.7917\n",
      "Epoch 54/100\n",
      "47/47 [==============================] - 0s 5ms/step - loss: 0.4219 - accuracy: 0.7701 - val_loss: 1.8471 - val_accuracy: 0.7917\n",
      "Epoch 55/100\n",
      "47/47 [==============================] - 0s 5ms/step - loss: 0.3619 - accuracy: 0.8252 - val_loss: 1.4669 - val_accuracy: 0.7917\n",
      "Epoch 56/100\n",
      "47/47 [==============================] - 0s 5ms/step - loss: 0.4434 - accuracy: 0.7829 - val_loss: 2.0739 - val_accuracy: 0.7917\n",
      "Epoch 57/100\n",
      "47/47 [==============================] - 0s 5ms/step - loss: 0.3867 - accuracy: 0.8276 - val_loss: 1.7682 - val_accuracy: 0.7917\n",
      "Epoch 58/100\n",
      "47/47 [==============================] - 0s 5ms/step - loss: 0.3588 - accuracy: 0.8347 - val_loss: 1.3169 - val_accuracy: 0.7917\n"
     ]
    },
    {
     "name": "stdout",
     "output_type": "stream",
     "text": [
      "Epoch 59/100\n",
      "47/47 [==============================] - 0s 5ms/step - loss: 0.4495 - accuracy: 0.7363 - val_loss: 1.3718 - val_accuracy: 0.7917\n",
      "Epoch 60/100\n",
      "47/47 [==============================] - 0s 4ms/step - loss: 0.4380 - accuracy: 0.7668 - val_loss: 1.8392 - val_accuracy: 0.7917\n",
      "Epoch 61/100\n",
      "47/47 [==============================] - 0s 4ms/step - loss: 0.3779 - accuracy: 0.8140 - val_loss: 1.3819 - val_accuracy: 0.7917\n",
      "Epoch 62/100\n",
      "47/47 [==============================] - 0s 4ms/step - loss: 0.3321 - accuracy: 0.8533 - val_loss: 1.9542 - val_accuracy: 0.7917\n",
      "Epoch 63/100\n",
      "47/47 [==============================] - 0s 5ms/step - loss: 0.3660 - accuracy: 0.8247 - val_loss: 2.0911 - val_accuracy: 0.7917\n",
      "Epoch 64/100\n",
      "47/47 [==============================] - 0s 5ms/step - loss: 0.3561 - accuracy: 0.8197 - val_loss: 1.5574 - val_accuracy: 0.7917\n",
      "Epoch 65/100\n",
      "47/47 [==============================] - 0s 6ms/step - loss: 0.3950 - accuracy: 0.8397 - val_loss: 2.1384 - val_accuracy: 0.7917\n",
      "Epoch 66/100\n",
      "47/47 [==============================] - 0s 5ms/step - loss: 0.3728 - accuracy: 0.8409 - val_loss: 0.8044 - val_accuracy: 0.7917\n",
      "Epoch 67/100\n",
      "47/47 [==============================] - 0s 5ms/step - loss: 0.4952 - accuracy: 0.8169 - val_loss: 0.8884 - val_accuracy: 0.7917\n",
      "Epoch 68/100\n",
      "47/47 [==============================] - 0s 5ms/step - loss: 0.4590 - accuracy: 0.7801 - val_loss: 0.9684 - val_accuracy: 0.7917\n",
      "Epoch 69/100\n",
      "47/47 [==============================] - 0s 5ms/step - loss: 0.4007 - accuracy: 0.8222 - val_loss: 1.2021 - val_accuracy: 0.7917\n",
      "Epoch 70/100\n",
      "47/47 [==============================] - 0s 5ms/step - loss: 0.4455 - accuracy: 0.8004 - val_loss: 1.0211 - val_accuracy: 0.7917\n",
      "Epoch 71/100\n",
      "47/47 [==============================] - 0s 4ms/step - loss: 0.4536 - accuracy: 0.8108 - val_loss: 1.4693 - val_accuracy: 0.7917\n",
      "Epoch 72/100\n",
      "47/47 [==============================] - 0s 5ms/step - loss: 0.3648 - accuracy: 0.8433 - val_loss: 0.9574 - val_accuracy: 0.7917\n",
      "Epoch 73/100\n",
      "47/47 [==============================] - 0s 4ms/step - loss: 0.4872 - accuracy: 0.7378 - val_loss: 1.5699 - val_accuracy: 0.7917\n",
      "Epoch 74/100\n",
      "47/47 [==============================] - 0s 4ms/step - loss: 0.4093 - accuracy: 0.7953 - val_loss: 1.5831 - val_accuracy: 0.7917\n",
      "Epoch 75/100\n",
      "47/47 [==============================] - 0s 5ms/step - loss: 0.5013 - accuracy: 0.7093 - val_loss: 1.7313 - val_accuracy: 0.7917\n",
      "Epoch 76/100\n",
      "47/47 [==============================] - 0s 6ms/step - loss: 0.3867 - accuracy: 0.8278 - val_loss: 0.8186 - val_accuracy: 0.7917\n",
      "Epoch 77/100\n",
      "47/47 [==============================] - 0s 5ms/step - loss: 0.4997 - accuracy: 0.8193 - val_loss: 0.8340 - val_accuracy: 0.7917\n",
      "Epoch 78/100\n",
      "47/47 [==============================] - 0s 5ms/step - loss: 0.4442 - accuracy: 0.7996 - val_loss: 1.3086 - val_accuracy: 0.7917\n",
      "Epoch 79/100\n",
      "47/47 [==============================] - 0s 4ms/step - loss: 0.4107 - accuracy: 0.7832 - val_loss: 1.8325 - val_accuracy: 0.7917\n",
      "Epoch 80/100\n",
      "47/47 [==============================] - 0s 4ms/step - loss: 0.5113 - accuracy: 0.7835 - val_loss: 0.8956 - val_accuracy: 0.7917\n",
      "Epoch 81/100\n",
      "47/47 [==============================] - 0s 4ms/step - loss: 0.4475 - accuracy: 0.8158 - val_loss: 1.1657 - val_accuracy: 0.7917\n",
      "Epoch 82/100\n",
      "47/47 [==============================] - 0s 4ms/step - loss: 0.4329 - accuracy: 0.8132 - val_loss: 1.6138 - val_accuracy: 0.7917\n",
      "Epoch 83/100\n",
      "47/47 [==============================] - 0s 4ms/step - loss: 0.3953 - accuracy: 0.8208 - val_loss: 1.8831 - val_accuracy: 0.7917\n",
      "Epoch 84/100\n",
      "47/47 [==============================] - 0s 4ms/step - loss: 0.3257 - accuracy: 0.8771 - val_loss: 2.0170 - val_accuracy: 0.7917\n",
      "Epoch 85/100\n",
      "47/47 [==============================] - 0s 4ms/step - loss: 0.4394 - accuracy: 0.7606 - val_loss: 1.4374 - val_accuracy: 0.7917\n",
      "Epoch 86/100\n",
      "47/47 [==============================] - 0s 3ms/step - loss: 0.4034 - accuracy: 0.8268 - val_loss: 2.0848 - val_accuracy: 0.7917\n",
      "Epoch 87/100\n",
      "47/47 [==============================] - 0s 4ms/step - loss: 0.4565 - accuracy: 0.7775 - val_loss: 1.4816 - val_accuracy: 0.7917\n",
      "Epoch 88/100\n",
      "47/47 [==============================] - 0s 5ms/step - loss: 0.4431 - accuracy: 0.7552 - val_loss: 2.1174 - val_accuracy: 0.7917\n",
      "Epoch 89/100\n",
      "47/47 [==============================] - 0s 5ms/step - loss: 0.3942 - accuracy: 0.8149 - val_loss: 1.6018 - val_accuracy: 0.7917\n",
      "Epoch 90/100\n",
      "47/47 [==============================] - 0s 5ms/step - loss: 0.4349 - accuracy: 0.7902 - val_loss: 2.3319 - val_accuracy: 0.7917\n",
      "Epoch 91/100\n",
      "47/47 [==============================] - 0s 5ms/step - loss: 0.3652 - accuracy: 0.8309 - val_loss: 2.7894 - val_accuracy: 0.7917\n",
      "Epoch 92/100\n",
      "47/47 [==============================] - 0s 5ms/step - loss: 0.4545 - accuracy: 0.7206 - val_loss: 2.6084 - val_accuracy: 0.7917\n",
      "Epoch 93/100\n",
      "47/47 [==============================] - 0s 5ms/step - loss: 0.3743 - accuracy: 0.7909 - val_loss: 3.3945 - val_accuracy: 0.7917\n",
      "Epoch 94/100\n",
      "47/47 [==============================] - 0s 5ms/step - loss: 0.4140 - accuracy: 0.7992 - val_loss: 2.5304 - val_accuracy: 0.7917\n",
      "Epoch 95/100\n",
      "47/47 [==============================] - 0s 5ms/step - loss: 0.4378 - accuracy: 0.7714 - val_loss: 2.6472 - val_accuracy: 0.7917\n",
      "Epoch 96/100\n",
      "47/47 [==============================] - 0s 4ms/step - loss: 0.3737 - accuracy: 0.8660 - val_loss: 2.5221 - val_accuracy: 0.7917\n",
      "Epoch 97/100\n",
      "47/47 [==============================] - 0s 4ms/step - loss: 0.3675 - accuracy: 0.8063 - val_loss: 3.4302 - val_accuracy: 0.7917\n",
      "Epoch 98/100\n",
      "47/47 [==============================] - 0s 5ms/step - loss: 0.4593 - accuracy: 0.7706 - val_loss: 1.6736 - val_accuracy: 0.7917\n",
      "Epoch 99/100\n",
      "47/47 [==============================] - 0s 5ms/step - loss: 0.3941 - accuracy: 0.8261 - val_loss: 1.4475 - val_accuracy: 0.7917\n",
      "Epoch 100/100\n",
      "47/47 [==============================] - 0s 6ms/step - loss: 0.4109 - accuracy: 0.8210 - val_loss: 2.2707 - val_accuracy: 0.7917\n"
     ]
    }
   ],
   "source": [
    "# Train the ANN\n",
    "history = model.fit(X_train, y_train, batch_size = 2, epochs = 100, validation_split=0.2)"
   ]
  },
  {
   "cell_type": "code",
   "execution_count": 62,
   "metadata": {},
   "outputs": [
    {
     "data": {
      "image/png": "[encoded data removed]",
      "text/plain": [
       "<Figure size 432x288 with 1 Axes>"
      ]
     },
     "metadata": {
      "needs_background": "light"
     },
     "output_type": "display_data"
    },
    {
     "data": {
      "image/png": "[encoded data removed]",
      "text/plain": [
       "<Figure size 432x288 with 1 Axes>"
      ]
     },
     "metadata": {
      "needs_background": "light"
     },
     "output_type": "display_data"
    }
   ],
   "source": [
    "history_df = pd.DataFrame(history.history)\n",
    "\n",
    "plt.plot(history_df.loc[:, ['loss']], \"#CD5C5C\", label='Training loss')\n",
    "plt.plot(history_df.loc[:, ['val_loss']],\"#FF0000\", label='Validation loss')\n",
    "plt.title('Training and Validation loss')\n",
    "plt.xlabel('Epochs')\n",
    "plt.ylabel('Loss')\n",
    "plt.legend(loc=\"best\")\n",
    "\n",
    "plt.show()\n",
    "\n",
    "history_df = pd.DataFrame(history.history)\n",
    "\n",
    "plt.plot(history_df.loc[:, ['accuracy']], \"#CD5C5C\", label='Training accuracy')\n",
    "plt.plot(history_df.loc[:, ['val_accuracy']],\"#FF0000\", label='Validation accuracy')\n",
    "\n",
    "plt.title('Training and Validation accuracy')\n",
    "plt.xlabel('Epochs')\n",
    "plt.ylabel('Accuracy')\n",
    "plt.legend()\n",
    "plt.show()"
   ]
  },
  {
   "cell_type": "code",
   "execution_count": 63,
   "metadata": {},
   "outputs": [
    {
     "name": "stdout",
     "output_type": "stream",
     "text": [
      "WARNING:tensorflow:6 out of the last 6 calls to <function Model.make_predict_function.<locals>.predict_function at 0x0000024A6EE255E8> triggered tf.function retracing. Tracing is expensive and the excessive number of tracings could be due to (1) creating @tf.function repeatedly in a loop, (2) passing tensors with different shapes, (3) passing Python objects instead of tensors. For (1), please define your @tf.function outside of the loop. For (2), @tf.function has experimental_relax_shapes=True option that relaxes argument shapes that can avoid unnecessary retracing. For (3), please refer to https://www.tensorflow.org/guide/function#controlling_retracing and https://www.tensorflow.org/api_docs/python/tf/function for  more details.\n"
     ]
    }
   ],
   "source": [
    "# Predicting the test set results\n",
    "y_pred = model.predict(X_test)\n",
    "y_pred = (y_pred > 0.4)\n",
    "\n",
    "dnn_8_acc = accuracy_score(y_pred, y_test)\n",
    "dnn_8_prec = precision_score(y_pred, y_test,average='weighted')\n",
    "dnn_8_rec = recall_score(y_pred, y_test,average='weighted')\n",
    "dnn_8_f1 = f1_score(y_pred, y_test,average='weighted')\n",
    "dnn_8_spec = specificity_score(y_pred, y_test,average='weighted')\n",
    "dnn_8_sens = sensitivity_score(y_pred, y_test,average='weighted')"
   ]
  },
  {
   "cell_type": "code",
   "execution_count": 83,
   "metadata": {},
   "outputs": [],
   "source": [
    "storeResults1('DNN - 8 Layers',dnn_8_acc,dnn_8_prec,dnn_8_rec,dnn_8_f1,dnn_8_spec,dnn_8_sens)"
   ]
  },
  {
   "cell_type": "markdown",
   "metadata": {},
   "source": [
    "# 9 Layers"
   ]
  },
  {
   "cell_type": "code",
   "execution_count": 64,
   "metadata": {},
   "outputs": [],
   "source": [
    "# Initialising the NN\n",
    "model = Sequential()\n",
    "\n",
    "# layers\n",
    "model.add(Dense(units = 128, kernel_initializer = 'uniform', activation = 'relu', input_dim = 10))\n",
    "model.add(Dense(units = 64, kernel_initializer = 'uniform', activation = 'relu'))\n",
    "model.add(Dropout(0.25))\n",
    "model.add(Dense(units = 64, kernel_initializer = 'uniform', activation = 'relu'))\n",
    "model.add(Dropout(0.5))\n",
    "model.add(Dense(units = 32, kernel_initializer = 'uniform', activation = 'relu'))\n",
    "model.add(Dropout(0.5))\n",
    "model.add(Dense(units = 32, kernel_initializer = 'uniform', activation = 'relu'))\n",
    "model.add(Dropout(0.5))\n",
    "model.add(Dense(units = 16, kernel_initializer = 'uniform', activation = 'relu'))\n",
    "model.add(Dropout(0.5))\n",
    "model.add(Dense(units = 16, kernel_initializer = 'uniform', activation = 'relu'))\n",
    "model.add(Dropout(0.5))\n",
    "model.add(Dense(units = 8, kernel_initializer = 'uniform', activation = 'relu'))\n",
    "model.add(Dropout(0.5))\n",
    "model.add(Dense(units = 8, kernel_initializer = 'uniform', activation = 'relu'))\n",
    "model.add(Dropout(0.5))\n",
    "model.add(Dense(units = 1, kernel_initializer = 'uniform', activation = 'sigmoid'))\n",
    "\n",
    "# Compiling the ANN\n",
    "model.compile(optimizer = 'adam', loss = 'binary_crossentropy', metrics = ['accuracy'])"
   ]
  },
  {
   "cell_type": "code",
   "execution_count": 65,
   "metadata": {},
   "outputs": [
    {
     "name": "stdout",
     "output_type": "stream",
     "text": [
      "Epoch 1/100\n",
      "47/47 [==============================] - 13s 63ms/step - loss: 0.6905 - accuracy: 0.7164 - val_loss: 0.6825 - val_accuracy: 0.7917\n",
      "Epoch 2/100\n",
      "47/47 [==============================] - 0s 5ms/step - loss: 0.6827 - accuracy: 0.7338 - val_loss: 0.6714 - val_accuracy: 0.7917\n",
      "Epoch 3/100\n",
      "47/47 [==============================] - 0s 5ms/step - loss: 0.6756 - accuracy: 0.6907 - val_loss: 0.6417 - val_accuracy: 0.7917\n",
      "Epoch 4/100\n",
      "47/47 [==============================] - 0s 5ms/step - loss: 0.6846 - accuracy: 0.7785 - val_loss: 0.5701 - val_accuracy: 0.7917\n",
      "Epoch 5/100\n",
      "47/47 [==============================] - 0s 5ms/step - loss: 0.6068 - accuracy: 0.7890 - val_loss: 0.5417 - val_accuracy: 0.7917\n",
      "Epoch 6/100\n",
      "47/47 [==============================] - 0s 5ms/step - loss: 0.5286 - accuracy: 0.8398 - val_loss: 0.5345 - val_accuracy: 0.7917\n",
      "Epoch 7/100\n",
      "47/47 [==============================] - 0s 5ms/step - loss: 0.4856 - accuracy: 0.7940 - val_loss: 0.5723 - val_accuracy: 0.7917\n",
      "Epoch 8/100\n",
      "47/47 [==============================] - 0s 4ms/step - loss: 0.6052 - accuracy: 0.7246 - val_loss: 0.5512 - val_accuracy: 0.7917\n",
      "Epoch 9/100\n",
      "47/47 [==============================] - 0s 4ms/step - loss: 0.5167 - accuracy: 0.8629 - val_loss: 0.5618 - val_accuracy: 0.7917\n",
      "Epoch 10/100\n",
      "47/47 [==============================] - 0s 5ms/step - loss: 0.5462 - accuracy: 0.7829 - val_loss: 0.5558 - val_accuracy: 0.7917\n",
      "Epoch 11/100\n",
      "47/47 [==============================] - 0s 6ms/step - loss: 0.5230 - accuracy: 0.7670 - val_loss: 0.6009 - val_accuracy: 0.7917\n",
      "Epoch 12/100\n",
      "47/47 [==============================] - 0s 5ms/step - loss: 0.5780 - accuracy: 0.7972 - val_loss: 0.5924 - val_accuracy: 0.7917\n",
      "Epoch 13/100\n",
      "47/47 [==============================] - 0s 5ms/step - loss: 0.5433 - accuracy: 0.7482 - val_loss: 0.5710 - val_accuracy: 0.7917\n",
      "Epoch 14/100\n",
      "47/47 [==============================] - 0s 6ms/step - loss: 0.5410 - accuracy: 0.7852 - val_loss: 0.5700 - val_accuracy: 0.7917\n",
      "Epoch 15/100\n",
      "47/47 [==============================] - 0s 5ms/step - loss: 0.6053 - accuracy: 0.7956 - val_loss: 0.5723 - val_accuracy: 0.7917\n",
      "Epoch 16/100\n",
      "47/47 [==============================] - 0s 5ms/step - loss: 0.5017 - accuracy: 0.8108 - val_loss: 0.6019 - val_accuracy: 0.7917\n",
      "Epoch 17/100\n",
      "47/47 [==============================] - 0s 4ms/step - loss: 0.5054 - accuracy: 0.8249 - val_loss: 0.6731 - val_accuracy: 0.7917\n",
      "Epoch 18/100\n",
      "47/47 [==============================] - 0s 4ms/step - loss: 0.3729 - accuracy: 0.8085 - val_loss: 0.7106 - val_accuracy: 0.7917\n",
      "Epoch 19/100\n",
      "47/47 [==============================] - 0s 4ms/step - loss: 0.5206 - accuracy: 0.8016 - val_loss: 0.6125 - val_accuracy: 0.7917\n",
      "Epoch 20/100\n",
      "47/47 [==============================] - 0s 4ms/step - loss: 0.4285 - accuracy: 0.8483 - val_loss: 0.6823 - val_accuracy: 0.7917\n",
      "Epoch 21/100\n",
      "47/47 [==============================] - 0s 3ms/step - loss: 0.4337 - accuracy: 0.8154 - val_loss: 0.7013 - val_accuracy: 0.7917\n",
      "Epoch 22/100\n",
      "47/47 [==============================] - 0s 4ms/step - loss: 0.5639 - accuracy: 0.7854 - val_loss: 0.5996 - val_accuracy: 0.7917\n",
      "Epoch 23/100\n",
      "47/47 [==============================] - 0s 4ms/step - loss: 0.5096 - accuracy: 0.7390 - val_loss: 0.7337 - val_accuracy: 0.7917\n",
      "Epoch 24/100\n",
      "47/47 [==============================] - 0s 4ms/step - loss: 0.4174 - accuracy: 0.8033 - val_loss: 0.8915 - val_accuracy: 0.7917\n",
      "Epoch 25/100\n",
      "47/47 [==============================] - 0s 4ms/step - loss: 0.3337 - accuracy: 0.8316 - val_loss: 0.8273 - val_accuracy: 0.7917\n",
      "Epoch 26/100\n",
      "47/47 [==============================] - 0s 4ms/step - loss: 0.5033 - accuracy: 0.7402 - val_loss: 0.6799 - val_accuracy: 0.7917\n",
      "Epoch 27/100\n",
      "47/47 [==============================] - 0s 4ms/step - loss: 0.4399 - accuracy: 0.7991 - val_loss: 0.6624 - val_accuracy: 0.7917\n",
      "Epoch 28/100\n",
      "47/47 [==============================] - 0s 4ms/step - loss: 0.4498 - accuracy: 0.7705 - val_loss: 0.8152 - val_accuracy: 0.7917\n",
      "Epoch 29/100\n",
      "47/47 [==============================] - 0s 4ms/step - loss: 0.3322 - accuracy: 0.8449 - val_loss: 0.9270 - val_accuracy: 0.7917\n",
      "Epoch 30/100\n",
      "47/47 [==============================] - 0s 4ms/step - loss: 0.4706 - accuracy: 0.7818 - val_loss: 0.8496 - val_accuracy: 0.7917\n",
      "Epoch 31/100\n",
      "47/47 [==============================] - 0s 5ms/step - loss: 0.4815 - accuracy: 0.7835 - val_loss: 0.9579 - val_accuracy: 0.7917\n",
      "Epoch 32/100\n",
      "47/47 [==============================] - 0s 4ms/step - loss: 0.4327 - accuracy: 0.8265 - val_loss: 1.0295 - val_accuracy: 0.7917\n",
      "Epoch 33/100\n",
      "47/47 [==============================] - 0s 4ms/step - loss: 0.4503 - accuracy: 0.8377 - val_loss: 0.6851 - val_accuracy: 0.7917\n",
      "Epoch 34/100\n",
      "47/47 [==============================] - 0s 4ms/step - loss: 0.4649 - accuracy: 0.7950 - val_loss: 0.7346 - val_accuracy: 0.7917\n",
      "Epoch 35/100\n",
      "47/47 [==============================] - 0s 4ms/step - loss: 0.4246 - accuracy: 0.7825 - val_loss: 0.8630 - val_accuracy: 0.7917\n",
      "Epoch 36/100\n",
      "47/47 [==============================] - 0s 4ms/step - loss: 0.4230 - accuracy: 0.8141 - val_loss: 0.6726 - val_accuracy: 0.7917\n",
      "Epoch 37/100\n",
      "47/47 [==============================] - 0s 4ms/step - loss: 0.5219 - accuracy: 0.8403 - val_loss: 0.6335 - val_accuracy: 0.7917\n",
      "Epoch 38/100\n",
      "47/47 [==============================] - 0s 4ms/step - loss: 0.3936 - accuracy: 0.8019 - val_loss: 0.6995 - val_accuracy: 0.7917\n",
      "Epoch 39/100\n",
      "47/47 [==============================] - 0s 4ms/step - loss: 0.3615 - accuracy: 0.8491 - val_loss: 0.8153 - val_accuracy: 0.7917\n",
      "Epoch 40/100\n",
      "47/47 [==============================] - ETA: 0s - loss: 0.3732 - accuracy: 0.83 - 0s 4ms/step - loss: 0.3888 - accuracy: 0.8259 - val_loss: 0.7602 - val_accuracy: 0.7917\n",
      "Epoch 41/100\n",
      "47/47 [==============================] - 0s 4ms/step - loss: 0.4402 - accuracy: 0.8117 - val_loss: 0.7951 - val_accuracy: 0.7917\n",
      "Epoch 42/100\n",
      "47/47 [==============================] - 0s 4ms/step - loss: 0.5226 - accuracy: 0.6966 - val_loss: 0.9105 - val_accuracy: 0.7917\n",
      "Epoch 43/100\n",
      "47/47 [==============================] - 0s 4ms/step - loss: 0.4366 - accuracy: 0.7468 - val_loss: 1.1601 - val_accuracy: 0.7917\n",
      "Epoch 44/100\n",
      "47/47 [==============================] - 0s 4ms/step - loss: 0.5925 - accuracy: 0.7483 - val_loss: 0.7981 - val_accuracy: 0.7917\n",
      "Epoch 45/100\n",
      "47/47 [==============================] - 0s 4ms/step - loss: 0.4765 - accuracy: 0.7282 - val_loss: 0.8883 - val_accuracy: 0.7917\n",
      "Epoch 46/100\n",
      "47/47 [==============================] - 0s 4ms/step - loss: 0.5816 - accuracy: 0.8164 - val_loss: 0.7861 - val_accuracy: 0.7917\n",
      "Epoch 47/100\n",
      "47/47 [==============================] - 0s 4ms/step - loss: 0.4918 - accuracy: 0.7730 - val_loss: 0.7177 - val_accuracy: 0.7917\n",
      "Epoch 48/100\n",
      "47/47 [==============================] - 0s 4ms/step - loss: 0.4233 - accuracy: 0.8119 - val_loss: 0.8218 - val_accuracy: 0.7917\n",
      "Epoch 49/100\n",
      "47/47 [==============================] - 0s 4ms/step - loss: 0.4671 - accuracy: 0.8151 - val_loss: 0.6121 - val_accuracy: 0.7917\n",
      "Epoch 50/100\n",
      "47/47 [==============================] - 0s 4ms/step - loss: 0.5185 - accuracy: 0.7781 - val_loss: 0.8109 - val_accuracy: 0.7917\n",
      "Epoch 51/100\n",
      "47/47 [==============================] - 0s 4ms/step - loss: 0.4734 - accuracy: 0.7700 - val_loss: 0.7635 - val_accuracy: 0.7917\n",
      "Epoch 52/100\n",
      "47/47 [==============================] - 0s 4ms/step - loss: 0.5262 - accuracy: 0.7187 - val_loss: 0.7244 - val_accuracy: 0.7917\n",
      "Epoch 53/100\n",
      "47/47 [==============================] - 0s 4ms/step - loss: 0.4589 - accuracy: 0.7651 - val_loss: 1.1197 - val_accuracy: 0.7917\n",
      "Epoch 54/100\n",
      "47/47 [==============================] - 0s 4ms/step - loss: 0.4188 - accuracy: 0.7770 - val_loss: 0.8672 - val_accuracy: 0.7917\n",
      "Epoch 55/100\n",
      "47/47 [==============================] - 0s 4ms/step - loss: 0.4063 - accuracy: 0.8067 - val_loss: 0.8427 - val_accuracy: 0.7917\n",
      "Epoch 56/100\n",
      "47/47 [==============================] - 0s 4ms/step - loss: 0.4597 - accuracy: 0.7914 - val_loss: 0.7885 - val_accuracy: 0.7917\n",
      "Epoch 57/100\n",
      "47/47 [==============================] - 0s 4ms/step - loss: 0.4588 - accuracy: 0.7760 - val_loss: 0.8606 - val_accuracy: 0.7917\n",
      "Epoch 58/100\n"
     ]
    },
    {
     "name": "stdout",
     "output_type": "stream",
     "text": [
      "47/47 [==============================] - 0s 4ms/step - loss: 0.3818 - accuracy: 0.8267 - val_loss: 1.0510 - val_accuracy: 0.7917\n",
      "Epoch 59/100\n",
      "47/47 [==============================] - 0s 4ms/step - loss: 0.4894 - accuracy: 0.7178 - val_loss: 0.7524 - val_accuracy: 0.7917\n",
      "Epoch 60/100\n",
      "47/47 [==============================] - 0s 4ms/step - loss: 0.4425 - accuracy: 0.7631 - val_loss: 0.6929 - val_accuracy: 0.7917\n",
      "Epoch 61/100\n",
      "47/47 [==============================] - 0s 4ms/step - loss: 0.4832 - accuracy: 0.7330 - val_loss: 1.0490 - val_accuracy: 0.7917\n",
      "Epoch 62/100\n",
      "47/47 [==============================] - 0s 4ms/step - loss: 0.3812 - accuracy: 0.8079 - val_loss: 0.7794 - val_accuracy: 0.7917\n",
      "Epoch 63/100\n",
      "47/47 [==============================] - 0s 4ms/step - loss: 0.5282 - accuracy: 0.7542 - val_loss: 0.9002 - val_accuracy: 0.7917\n",
      "Epoch 64/100\n",
      "47/47 [==============================] - 0s 4ms/step - loss: 0.4037 - accuracy: 0.8183 - val_loss: 1.0838 - val_accuracy: 0.7917\n",
      "Epoch 65/100\n",
      "47/47 [==============================] - 0s 4ms/step - loss: 0.6342 - accuracy: 0.8052 - val_loss: 1.2111 - val_accuracy: 0.7917\n",
      "Epoch 66/100\n",
      "47/47 [==============================] - 0s 4ms/step - loss: 0.3450 - accuracy: 0.8457 - val_loss: 0.8809 - val_accuracy: 0.7917\n",
      "Epoch 67/100\n",
      "47/47 [==============================] - 0s 4ms/step - loss: 0.4932 - accuracy: 0.7744 - val_loss: 0.7145 - val_accuracy: 0.7917\n",
      "Epoch 68/100\n",
      "47/47 [==============================] - 0s 4ms/step - loss: 0.4635 - accuracy: 0.7760 - val_loss: 1.1520 - val_accuracy: 0.7917\n",
      "Epoch 69/100\n",
      "47/47 [==============================] - 0s 4ms/step - loss: 0.3981 - accuracy: 0.8199 - val_loss: 0.9529 - val_accuracy: 0.7917\n",
      "Epoch 70/100\n",
      "47/47 [==============================] - 0s 5ms/step - loss: 0.4184 - accuracy: 0.7813 - val_loss: 1.0587 - val_accuracy: 0.7917\n",
      "Epoch 71/100\n",
      "47/47 [==============================] - 0s 5ms/step - loss: 0.5354 - accuracy: 0.7597 - val_loss: 0.8507 - val_accuracy: 0.7917\n",
      "Epoch 72/100\n",
      "47/47 [==============================] - 0s 5ms/step - loss: 0.4212 - accuracy: 0.8263 - val_loss: 1.0243 - val_accuracy: 0.7917\n",
      "Epoch 73/100\n",
      "47/47 [==============================] - 0s 5ms/step - loss: 0.4442 - accuracy: 0.7356 - val_loss: 1.2183 - val_accuracy: 0.7917\n",
      "Epoch 74/100\n",
      "47/47 [==============================] - 0s 6ms/step - loss: 0.4101 - accuracy: 0.7523 - val_loss: 1.3188 - val_accuracy: 0.7917\n",
      "Epoch 75/100\n",
      "47/47 [==============================] - 0s 5ms/step - loss: 0.4405 - accuracy: 0.7609 - val_loss: 0.9482 - val_accuracy: 0.7917\n",
      "Epoch 76/100\n",
      "47/47 [==============================] - 0s 6ms/step - loss: 0.3746 - accuracy: 0.8266 - val_loss: 1.2064 - val_accuracy: 0.7917\n",
      "Epoch 77/100\n",
      "47/47 [==============================] - 0s 5ms/step - loss: 0.3923 - accuracy: 0.7602 - val_loss: 1.4681 - val_accuracy: 0.7917\n",
      "Epoch 78/100\n",
      "47/47 [==============================] - 0s 5ms/step - loss: 0.4077 - accuracy: 0.7359 - val_loss: 1.6657 - val_accuracy: 0.7917\n",
      "Epoch 79/100\n",
      "47/47 [==============================] - 0s 6ms/step - loss: 0.4262 - accuracy: 0.7935 - val_loss: 1.5570 - val_accuracy: 0.7917\n",
      "Epoch 80/100\n",
      "47/47 [==============================] - 0s 5ms/step - loss: 0.3063 - accuracy: 0.8572 - val_loss: 1.5830 - val_accuracy: 0.7917\n",
      "Epoch 81/100\n",
      "47/47 [==============================] - 0s 5ms/step - loss: 0.3684 - accuracy: 0.7727 - val_loss: 1.8173 - val_accuracy: 0.7917\n",
      "Epoch 82/100\n",
      "47/47 [==============================] - 0s 5ms/step - loss: 0.3260 - accuracy: 0.8153 - val_loss: 1.7199 - val_accuracy: 0.7917\n",
      "Epoch 83/100\n",
      "47/47 [==============================] - ETA: 0s - loss: 0.3295 - accuracy: 0.79 - 0s 6ms/step - loss: 0.3353 - accuracy: 0.7991 - val_loss: 1.7336 - val_accuracy: 0.7917\n",
      "Epoch 84/100\n",
      "47/47 [==============================] - 0s 5ms/step - loss: 0.4357 - accuracy: 0.7457 - val_loss: 1.6710 - val_accuracy: 0.7917\n",
      "Epoch 85/100\n",
      "47/47 [==============================] - 0s 6ms/step - loss: 0.5942 - accuracy: 0.8172 - val_loss: 1.1418 - val_accuracy: 0.7917\n",
      "Epoch 86/100\n",
      "47/47 [==============================] - 0s 5ms/step - loss: 0.4588 - accuracy: 0.7677 - val_loss: 1.3279 - val_accuracy: 0.7917\n",
      "Epoch 87/100\n",
      "47/47 [==============================] - 0s 5ms/step - loss: 0.3798 - accuracy: 0.7769 - val_loss: 1.4580 - val_accuracy: 0.7917\n",
      "Epoch 88/100\n",
      "47/47 [==============================] - 0s 5ms/step - loss: 0.4083 - accuracy: 0.8242 - val_loss: 1.0763 - val_accuracy: 0.7917\n",
      "Epoch 89/100\n",
      "47/47 [==============================] - 0s 4ms/step - loss: 0.3878 - accuracy: 0.8337 - val_loss: 1.1543 - val_accuracy: 0.7917\n",
      "Epoch 90/100\n",
      "47/47 [==============================] - 0s 6ms/step - loss: 0.4354 - accuracy: 0.8095 - val_loss: 0.9064 - val_accuracy: 0.7917\n",
      "Epoch 91/100\n",
      "47/47 [==============================] - 0s 6ms/step - loss: 0.4090 - accuracy: 0.8340 - val_loss: 1.2903 - val_accuracy: 0.7917\n",
      "Epoch 92/100\n",
      "47/47 [==============================] - 0s 6ms/step - loss: 0.4257 - accuracy: 0.7672 - val_loss: 1.4636 - val_accuracy: 0.7917\n",
      "Epoch 93/100\n",
      "47/47 [==============================] - 0s 6ms/step - loss: 0.4615 - accuracy: 0.7297 - val_loss: 1.3508 - val_accuracy: 0.7917\n",
      "Epoch 94/100\n",
      "47/47 [==============================] - 0s 5ms/step - loss: 0.3877 - accuracy: 0.8034 - val_loss: 1.5350 - val_accuracy: 0.7917\n",
      "Epoch 95/100\n",
      "47/47 [==============================] - 0s 5ms/step - loss: 0.3259 - accuracy: 0.7961 - val_loss: 1.5468 - val_accuracy: 0.7917\n",
      "Epoch 96/100\n",
      "47/47 [==============================] - 0s 6ms/step - loss: 0.3493 - accuracy: 0.7875 - val_loss: 1.6885 - val_accuracy: 0.7917\n",
      "Epoch 97/100\n",
      "47/47 [==============================] - 0s 5ms/step - loss: 0.3630 - accuracy: 0.8289 - val_loss: 1.3455 - val_accuracy: 0.7917\n",
      "Epoch 98/100\n",
      "47/47 [==============================] - 0s 5ms/step - loss: 0.3415 - accuracy: 0.8700 - val_loss: 1.7092 - val_accuracy: 0.7917\n",
      "Epoch 99/100\n",
      "47/47 [==============================] - 0s 4ms/step - loss: 0.3175 - accuracy: 0.8625 - val_loss: 1.3554 - val_accuracy: 0.7917\n",
      "Epoch 100/100\n",
      "47/47 [==============================] - 0s 4ms/step - loss: 0.4336 - accuracy: 0.8058 - val_loss: 1.2292 - val_accuracy: 0.7917\n"
     ]
    }
   ],
   "source": [
    "# Train the ANN\n",
    "history = model.fit(X_train, y_train, batch_size = 2, epochs = 100, validation_split=0.2)"
   ]
  },
  {
   "cell_type": "code",
   "execution_count": 66,
   "metadata": {},
   "outputs": [
    {
     "data": {
      "image/png": "[encoded data removed]",
      "text/plain": [
       "<Figure size 432x288 with 1 Axes>"
      ]
     },
     "metadata": {
      "needs_background": "light"
     },
     "output_type": "display_data"
    },
    {
     "data": {
      "image/png": "[encoded data removed]",
      "text/plain": [
       "<Figure size 432x288 with 1 Axes>"
      ]
     },
     "metadata": {
      "needs_background": "light"
     },
     "output_type": "display_data"
    }
   ],
   "source": [
    "history_df = pd.DataFrame(history.history)\n",
    "\n",
    "plt.plot(history_df.loc[:, ['loss']], \"#CD5C5C\", label='Training loss')\n",
    "plt.plot(history_df.loc[:, ['val_loss']],\"#FF0000\", label='Validation loss')\n",
    "plt.title('Training and Validation loss')\n",
    "plt.xlabel('Epochs')\n",
    "plt.ylabel('Loss')\n",
    "plt.legend(loc=\"best\")\n",
    "\n",
    "plt.show()\n",
    "\n",
    "history_df = pd.DataFrame(history.history)\n",
    "\n",
    "plt.plot(history_df.loc[:, ['accuracy']], \"#CD5C5C\", label='Training accuracy')\n",
    "plt.plot(history_df.loc[:, ['val_accuracy']],\"#FF0000\", label='Validation accuracy')\n",
    "\n",
    "plt.title('Training and Validation accuracy')\n",
    "plt.xlabel('Epochs')\n",
    "plt.ylabel('Accuracy')\n",
    "plt.legend()\n",
    "plt.show()"
   ]
  },
  {
   "cell_type": "code",
   "execution_count": 67,
   "metadata": {},
   "outputs": [],
   "source": [
    "# Predicting the test set results\n",
    "y_pred = model.predict(X_test)\n",
    "y_pred = (y_pred > 0.4)\n",
    "\n",
    "dnn_9_acc = accuracy_score(y_pred, y_test)\n",
    "dnn_9_prec = precision_score(y_pred, y_test,average='weighted')\n",
    "dnn_9_rec = recall_score(y_pred, y_test,average='weighted')\n",
    "dnn_9_f1 = f1_score(y_pred, y_test,average='weighted')\n",
    "dnn_9_spec = specificity_score(y_pred, y_test,average='weighted')\n",
    "dnn_9_sens = sensitivity_score(y_pred, y_test,average='weighted')"
   ]
  },
  {
   "cell_type": "code",
   "execution_count": 84,
   "metadata": {},
   "outputs": [],
   "source": [
    "storeResults1('DNN - 9 Layers',dnn_9_acc,dnn_9_prec,dnn_9_rec,dnn_9_f1,dnn_9_spec,dnn_9_sens)"
   ]
  },
  {
   "cell_type": "markdown",
   "metadata": {},
   "source": [
    "# Comparison"
   ]
  },
  {
   "cell_type": "code",
   "execution_count": 106,
   "metadata": {},
   "outputs": [],
   "source": [
    "#creating dataframe\n",
    "result = pd.DataFrame({ 'ML Model' : ML_Model,\n",
    "                        'Accuracy' : accuracy,\n",
    "                       'Precision': precision,\n",
    "                       'Recall'   : recall, \n",
    "                       'F1_score' : f1score,\n",
    "                       'Specificity' : spec,\n",
    "                       'Sensitivity' : sens\n",
    "                      }) "
   ]
  },
  {
   "cell_type": "code",
   "execution_count": 107,
   "metadata": {},
   "outputs": [
    {
     "data": {
      "text/html": [
       "<div>\n",
       "<style scoped>\n",
       "    .dataframe tbody tr th:only-of-type {\n",
       "        vertical-align: middle;\n",
       "    }\n",
       "\n",
       "    .dataframe tbody tr th {\n",
       "        vertical-align: top;\n",
       "    }\n",
       "\n",
       "    .dataframe thead th {\n",
       "        text-align: right;\n",
       "    }\n",
       "</style>\n",
       "<table border=\"1\" class=\"dataframe\">\n",
       "  <thead>\n",
       "    <tr style=\"text-align: right;\">\n",
       "      <th></th>\n",
       "      <th>ML Model</th>\n",
       "      <th>Accuracy</th>\n",
       "      <th>Precision</th>\n",
       "      <th>Recall</th>\n",
       "      <th>F1_score</th>\n",
       "      <th>Specificity</th>\n",
       "      <th>Sensitivity</th>\n",
       "    </tr>\n",
       "  </thead>\n",
       "  <tbody>\n",
       "    <tr>\n",
       "      <td>0</td>\n",
       "      <td>KNN</td>\n",
       "      <td>0.692</td>\n",
       "      <td>0.938</td>\n",
       "      <td>0.692</td>\n",
       "      <td>0.764</td>\n",
       "      <td>0.974</td>\n",
       "      <td>0.692</td>\n",
       "    </tr>\n",
       "    <tr>\n",
       "      <td>1</td>\n",
       "      <td>LinearSVC</td>\n",
       "      <td>0.615</td>\n",
       "      <td>1.000</td>\n",
       "      <td>0.615</td>\n",
       "      <td>0.762</td>\n",
       "      <td>0.000</td>\n",
       "      <td>0.615</td>\n",
       "    </tr>\n",
       "    <tr>\n",
       "      <td>2</td>\n",
       "      <td>Guassian Process</td>\n",
       "      <td>0.615</td>\n",
       "      <td>0.771</td>\n",
       "      <td>0.615</td>\n",
       "      <td>0.667</td>\n",
       "      <td>0.521</td>\n",
       "      <td>0.615</td>\n",
       "    </tr>\n",
       "    <tr>\n",
       "      <td>3</td>\n",
       "      <td>Decision Tree</td>\n",
       "      <td>0.615</td>\n",
       "      <td>0.642</td>\n",
       "      <td>0.615</td>\n",
       "      <td>0.625</td>\n",
       "      <td>0.551</td>\n",
       "      <td>0.615</td>\n",
       "    </tr>\n",
       "    <tr>\n",
       "      <td>4</td>\n",
       "      <td>Naive Bayes</td>\n",
       "      <td>0.615</td>\n",
       "      <td>0.771</td>\n",
       "      <td>0.615</td>\n",
       "      <td>0.667</td>\n",
       "      <td>0.521</td>\n",
       "      <td>0.615</td>\n",
       "    </tr>\n",
       "    <tr>\n",
       "      <td>5</td>\n",
       "      <td>QDA</td>\n",
       "      <td>0.615</td>\n",
       "      <td>1.000</td>\n",
       "      <td>0.615</td>\n",
       "      <td>0.762</td>\n",
       "      <td>0.000</td>\n",
       "      <td>0.615</td>\n",
       "    </tr>\n",
       "    <tr>\n",
       "      <td>6</td>\n",
       "      <td>AdaBoost</td>\n",
       "      <td>0.692</td>\n",
       "      <td>0.765</td>\n",
       "      <td>0.692</td>\n",
       "      <td>0.714</td>\n",
       "      <td>0.674</td>\n",
       "      <td>0.692</td>\n",
       "    </tr>\n",
       "    <tr>\n",
       "      <td>7</td>\n",
       "      <td>Bagging</td>\n",
       "      <td>0.538</td>\n",
       "      <td>0.808</td>\n",
       "      <td>0.538</td>\n",
       "      <td>0.646</td>\n",
       "      <td>0.045</td>\n",
       "      <td>0.538</td>\n",
       "    </tr>\n",
       "    <tr>\n",
       "      <td>8</td>\n",
       "      <td>Boosting</td>\n",
       "      <td>0.692</td>\n",
       "      <td>0.765</td>\n",
       "      <td>0.692</td>\n",
       "      <td>0.714</td>\n",
       "      <td>0.674</td>\n",
       "      <td>0.692</td>\n",
       "    </tr>\n",
       "    <tr>\n",
       "      <td>9</td>\n",
       "      <td>Stacking Classifier</td>\n",
       "      <td>0.792</td>\n",
       "      <td>0.854</td>\n",
       "      <td>0.792</td>\n",
       "      <td>0.816</td>\n",
       "      <td>0.595</td>\n",
       "      <td>0.792</td>\n",
       "    </tr>\n",
       "    <tr>\n",
       "      <td>10</td>\n",
       "      <td>Voting Classifier</td>\n",
       "      <td>0.792</td>\n",
       "      <td>0.854</td>\n",
       "      <td>0.792</td>\n",
       "      <td>0.816</td>\n",
       "      <td>0.595</td>\n",
       "      <td>0.792</td>\n",
       "    </tr>\n",
       "  </tbody>\n",
       "</table>\n",
       "</div>"
      ],
      "text/plain": [
       "               ML Model  Accuracy  Precision  Recall  F1_score  Specificity  \\\n",
       "0                   KNN     0.692      0.938   0.692     0.764        0.974   \n",
       "1             LinearSVC     0.615      1.000   0.615     0.762        0.000   \n",
       "2      Guassian Process     0.615      0.771   0.615     0.667        0.521   \n",
       "3         Decision Tree     0.615      0.642   0.615     0.625        0.551   \n",
       "4           Naive Bayes     0.615      0.771   0.615     0.667        0.521   \n",
       "5                   QDA     0.615      1.000   0.615     0.762        0.000   \n",
       "6              AdaBoost     0.692      0.765   0.692     0.714        0.674   \n",
       "7               Bagging     0.538      0.808   0.538     0.646        0.045   \n",
       "8              Boosting     0.692      0.765   0.692     0.714        0.674   \n",
       "9   Stacking Classifier     0.792      0.854   0.792     0.816        0.595   \n",
       "10    Voting Classifier     0.792      0.854   0.792     0.816        0.595   \n",
       "\n",
       "    Sensitivity  \n",
       "0         0.692  \n",
       "1         0.615  \n",
       "2         0.615  \n",
       "3         0.615  \n",
       "4         0.615  \n",
       "5         0.615  \n",
       "6         0.692  \n",
       "7         0.538  \n",
       "8         0.692  \n",
       "9         0.792  \n",
       "10        0.792  "
      ]
     },
     "execution_count": 107,
     "metadata": {},
     "output_type": "execute_result"
    }
   ],
   "source": [
    "result"
   ]
  },
  {
   "cell_type": "code",
   "execution_count": 108,
   "metadata": {},
   "outputs": [],
   "source": [
    "#creating dataframe\n",
    "result1 = pd.DataFrame({ 'ML Model' : ML_Model1,\n",
    "                        'Accuracy' : accuracy1,\n",
    "                       'Precision': precision1,\n",
    "                       'Recall'   : recall1, \n",
    "                       'F1_score' : f1score1,\n",
    "                       'Specificity' : spec1,\n",
    "                       'Sensitivity' : sens1\n",
    "                      }) "
   ]
  },
  {
   "cell_type": "code",
   "execution_count": 109,
   "metadata": {},
   "outputs": [
    {
     "data": {
      "text/html": [
       "<div>\n",
       "<style scoped>\n",
       "    .dataframe tbody tr th:only-of-type {\n",
       "        vertical-align: middle;\n",
       "    }\n",
       "\n",
       "    .dataframe tbody tr th {\n",
       "        vertical-align: top;\n",
       "    }\n",
       "\n",
       "    .dataframe thead th {\n",
       "        text-align: right;\n",
       "    }\n",
       "</style>\n",
       "<table border=\"1\" class=\"dataframe\">\n",
       "  <thead>\n",
       "    <tr style=\"text-align: right;\">\n",
       "      <th></th>\n",
       "      <th>ML Model</th>\n",
       "      <th>Accuracy</th>\n",
       "      <th>Precision</th>\n",
       "      <th>Recall</th>\n",
       "      <th>F1_score</th>\n",
       "      <th>Specificity</th>\n",
       "      <th>Sensitivity</th>\n",
       "    </tr>\n",
       "  </thead>\n",
       "  <tbody>\n",
       "    <tr>\n",
       "      <td>0</td>\n",
       "      <td>DNN - 3 Layers</td>\n",
       "      <td>0.769</td>\n",
       "      <td>0.908</td>\n",
       "      <td>0.769</td>\n",
       "      <td>0.800</td>\n",
       "      <td>0.958</td>\n",
       "      <td>0.769</td>\n",
       "    </tr>\n",
       "    <tr>\n",
       "      <td>1</td>\n",
       "      <td>DNN - 4 Layers</td>\n",
       "      <td>0.769</td>\n",
       "      <td>0.908</td>\n",
       "      <td>0.769</td>\n",
       "      <td>0.800</td>\n",
       "      <td>0.958</td>\n",
       "      <td>0.769</td>\n",
       "    </tr>\n",
       "    <tr>\n",
       "      <td>2</td>\n",
       "      <td>DNN - 5 Layers</td>\n",
       "      <td>0.615</td>\n",
       "      <td>1.000</td>\n",
       "      <td>0.615</td>\n",
       "      <td>0.762</td>\n",
       "      <td>0.000</td>\n",
       "      <td>0.615</td>\n",
       "    </tr>\n",
       "    <tr>\n",
       "      <td>3</td>\n",
       "      <td>DNN - 6 Layers</td>\n",
       "      <td>0.615</td>\n",
       "      <td>1.000</td>\n",
       "      <td>0.615</td>\n",
       "      <td>0.762</td>\n",
       "      <td>0.000</td>\n",
       "      <td>0.615</td>\n",
       "    </tr>\n",
       "    <tr>\n",
       "      <td>4</td>\n",
       "      <td>DNN - 7 Layers</td>\n",
       "      <td>0.615</td>\n",
       "      <td>1.000</td>\n",
       "      <td>0.615</td>\n",
       "      <td>0.762</td>\n",
       "      <td>0.000</td>\n",
       "      <td>0.615</td>\n",
       "    </tr>\n",
       "    <tr>\n",
       "      <td>5</td>\n",
       "      <td>DNN - 8 Layers</td>\n",
       "      <td>0.615</td>\n",
       "      <td>1.000</td>\n",
       "      <td>0.615</td>\n",
       "      <td>0.762</td>\n",
       "      <td>0.000</td>\n",
       "      <td>0.615</td>\n",
       "    </tr>\n",
       "    <tr>\n",
       "      <td>6</td>\n",
       "      <td>DNN - 9 Layers</td>\n",
       "      <td>0.615</td>\n",
       "      <td>1.000</td>\n",
       "      <td>0.615</td>\n",
       "      <td>0.762</td>\n",
       "      <td>0.000</td>\n",
       "      <td>0.615</td>\n",
       "    </tr>\n",
       "  </tbody>\n",
       "</table>\n",
       "</div>"
      ],
      "text/plain": [
       "         ML Model  Accuracy  Precision  Recall  F1_score  Specificity  \\\n",
       "0  DNN - 3 Layers     0.769      0.908   0.769     0.800        0.958   \n",
       "1  DNN - 4 Layers     0.769      0.908   0.769     0.800        0.958   \n",
       "2  DNN - 5 Layers     0.615      1.000   0.615     0.762        0.000   \n",
       "3  DNN - 6 Layers     0.615      1.000   0.615     0.762        0.000   \n",
       "4  DNN - 7 Layers     0.615      1.000   0.615     0.762        0.000   \n",
       "5  DNN - 8 Layers     0.615      1.000   0.615     0.762        0.000   \n",
       "6  DNN - 9 Layers     0.615      1.000   0.615     0.762        0.000   \n",
       "\n",
       "   Sensitivity  \n",
       "0        0.769  \n",
       "1        0.769  \n",
       "2        0.615  \n",
       "3        0.615  \n",
       "4        0.615  \n",
       "5        0.615  \n",
       "6        0.615  "
      ]
     },
     "execution_count": 109,
     "metadata": {},
     "output_type": "execute_result"
    }
   ],
   "source": [
    "result1"
   ]
  },
  {
   "cell_type": "markdown",
   "metadata": {},
   "source": [
    "# Graph"
   ]
  },
  {
   "cell_type": "markdown",
   "metadata": {},
   "source": [
    "# ML"
   ]
  },
  {
   "cell_type": "code",
   "execution_count": 110,
   "metadata": {},
   "outputs": [],
   "source": [
    "classifier = ML_Model\n",
    "y_pos = np.arange(len(classifier))"
   ]
  },
  {
   "cell_type": "markdown",
   "metadata": {},
   "source": [
    "# Accuracy"
   ]
  },
  {
   "cell_type": "code",
   "execution_count": 111,
   "metadata": {},
   "outputs": [
    {
     "data": {
      "image/png": "[encoded data removed]",
      "text/plain": [
       "<Figure size 432x288 with 1 Axes>"
      ]
     },
     "metadata": {
      "needs_background": "light"
     },
     "output_type": "display_data"
    }
   ],
   "source": [
    "import matplotlib.pyplot as plt2\n",
    "plt2.barh(y_pos, accuracy, align='center', alpha=0.5,color='blue')\n",
    "plt2.yticks(y_pos, classifier)\n",
    "plt2.xlabel('Accuracy Score')\n",
    "plt2.title('Classification Performance')\n",
    "plt2.show()"
   ]
  },
  {
   "cell_type": "markdown",
   "metadata": {},
   "source": [
    "# Precision"
   ]
  },
  {
   "cell_type": "code",
   "execution_count": 112,
   "metadata": {},
   "outputs": [
    {
     "data": {
      "image/png": "[encoded data removed]",
      "text/plain": [
       "<Figure size 432x288 with 1 Axes>"
      ]
     },
     "metadata": {
      "needs_background": "light"
     },
     "output_type": "display_data"
    }
   ],
   "source": [
    "plt2.barh(y_pos, precision, align='center', alpha=0.5,color='red')\n",
    "plt2.yticks(y_pos, classifier)\n",
    "plt2.xlabel('Precision Score')\n",
    "plt2.title('Classification Performance')\n",
    "plt2.show()"
   ]
  },
  {
   "cell_type": "markdown",
   "metadata": {},
   "source": [
    "# Recall"
   ]
  },
  {
   "cell_type": "code",
   "execution_count": 113,
   "metadata": {},
   "outputs": [
    {
     "data": {
      "image/png": "[encoded data removed]",
      "text/plain": [
       "<Figure size 432x288 with 1 Axes>"
      ]
     },
     "metadata": {
      "needs_background": "light"
     },
     "output_type": "display_data"
    }
   ],
   "source": [
    "plt2.barh(y_pos, recall, align='center', alpha=0.5,color='yellow')\n",
    "plt2.yticks(y_pos, classifier)\n",
    "plt2.xlabel('Recall Score')\n",
    "plt2.title('Classification Performance')\n",
    "plt2.show()"
   ]
  },
  {
   "cell_type": "markdown",
   "metadata": {},
   "source": [
    "# F1 Score"
   ]
  },
  {
   "cell_type": "code",
   "execution_count": 114,
   "metadata": {},
   "outputs": [
    {
     "data": {
      "image/png": "[encoded data removed]",
      "text/plain": [
       "<Figure size 432x288 with 1 Axes>"
      ]
     },
     "metadata": {
      "needs_background": "light"
     },
     "output_type": "display_data"
    }
   ],
   "source": [
    "plt2.barh(y_pos, f1score, align='center', alpha=0.5,color='pink')\n",
    "plt2.yticks(y_pos, classifier)\n",
    "plt2.xlabel('F1 Score')\n",
    "plt2.title('Classification Performance')\n",
    "plt2.show()"
   ]
  },
  {
   "cell_type": "markdown",
   "metadata": {},
   "source": [
    "# Specificity"
   ]
  },
  {
   "cell_type": "code",
   "execution_count": 115,
   "metadata": {},
   "outputs": [
    {
     "data": {
      "image/png": "[encoded data removed]",
      "text/plain": [
       "<Figure size 432x288 with 1 Axes>"
      ]
     },
     "metadata": {
      "needs_background": "light"
     },
     "output_type": "display_data"
    }
   ],
   "source": [
    "plt2.barh(y_pos, spec, align='center', alpha=0.5,color='brown')\n",
    "plt2.yticks(y_pos, classifier)\n",
    "plt2.xlabel('Specificity')\n",
    "plt2.title('Classification Performance')\n",
    "plt2.show()"
   ]
  },
  {
   "cell_type": "markdown",
   "metadata": {},
   "source": [
    "# Sensitivity"
   ]
  },
  {
   "cell_type": "code",
   "execution_count": 116,
   "metadata": {},
   "outputs": [
    {
     "data": {
      "image/png": "[encoded data removed]",
      "text/plain": [
       "<Figure size 432x288 with 1 Axes>"
      ]
     },
     "metadata": {
      "needs_background": "light"
     },
     "output_type": "display_data"
    }
   ],
   "source": [
    "plt2.barh(y_pos, sens, align='center', alpha=0.5,color='navy')\n",
    "plt2.yticks(y_pos, classifier)\n",
    "plt2.xlabel('Sensitivity')\n",
    "plt2.title('Classification Performance')\n",
    "plt2.show()"
   ]
  },
  {
   "cell_type": "markdown",
   "metadata": {},
   "source": [
    "# DL"
   ]
  },
  {
   "cell_type": "code",
   "execution_count": 97,
   "metadata": {},
   "outputs": [],
   "source": [
    "classifier = ML_Model1\n",
    "y_pos = np.arange(len(classifier))"
   ]
  },
  {
   "cell_type": "markdown",
   "metadata": {},
   "source": [
    "# Accuracy"
   ]
  },
  {
   "cell_type": "code",
   "execution_count": 98,
   "metadata": {},
   "outputs": [
    {
     "data": {
      "image/png": "[encoded data removed]",
      "text/plain": [
       "<Figure size 432x288 with 1 Axes>"
      ]
     },
     "metadata": {
      "needs_background": "light"
     },
     "output_type": "display_data"
    }
   ],
   "source": [
    "plt2.barh(y_pos, accuracy1, align='center', alpha=0.5,color='blue')\n",
    "plt2.yticks(y_pos, classifier)\n",
    "plt2.xlabel('Accuracy Score')\n",
    "plt2.title('Classification Performance')\n",
    "plt2.show()"
   ]
  },
  {
   "cell_type": "markdown",
   "metadata": {},
   "source": [
    "# Precision"
   ]
  },
  {
   "cell_type": "code",
   "execution_count": 99,
   "metadata": {},
   "outputs": [
    {
     "data": {
      "image/png": "[encoded data removed]",
      "text/plain": [
       "<Figure size 432x288 with 1 Axes>"
      ]
     },
     "metadata": {
      "needs_background": "light"
     },
     "output_type": "display_data"
    }
   ],
   "source": [
    "plt2.barh(y_pos, precision1, align='center', alpha=0.5,color='red')\n",
    "plt2.yticks(y_pos, classifier)\n",
    "plt2.xlabel('Precision Score')\n",
    "plt2.title('Classification Performance')\n",
    "plt2.show()"
   ]
  },
  {
   "cell_type": "markdown",
   "metadata": {},
   "source": [
    "# Recall"
   ]
  },
  {
   "cell_type": "code",
   "execution_count": 100,
   "metadata": {},
   "outputs": [
    {
     "data": {
      "image/png": "[encoded data removed]",
      "text/plain": [
       "<Figure size 432x288 with 1 Axes>"
      ]
     },
     "metadata": {
      "needs_background": "light"
     },
     "output_type": "display_data"
    }
   ],
   "source": [
    "plt2.barh(y_pos, recall1, align='center', alpha=0.5,color='yellow')\n",
    "plt2.yticks(y_pos, classifier)\n",
    "plt2.xlabel('Recall Score')\n",
    "plt2.title('Classification Performance')\n",
    "plt2.show()"
   ]
  },
  {
   "cell_type": "markdown",
   "metadata": {},
   "source": [
    "# F1 SCore"
   ]
  },
  {
   "cell_type": "code",
   "execution_count": 101,
   "metadata": {},
   "outputs": [
    {
     "data": {
      "image/png": "[encoded data removed]",
      "text/plain": [
       "<Figure size 432x288 with 1 Axes>"
      ]
     },
     "metadata": {
      "needs_background": "light"
     },
     "output_type": "display_data"
    }
   ],
   "source": [
    "plt2.barh(y_pos, f1score1, align='center', alpha=0.5,color='pink')\n",
    "plt2.yticks(y_pos, classifier)\n",
    "plt2.xlabel('F1 Score')\n",
    "plt2.title('Classification Performance')\n",
    "plt2.show()"
   ]
  },
  {
   "cell_type": "markdown",
   "metadata": {},
   "source": [
    "# Specificity"
   ]
  },
  {
   "cell_type": "code",
   "execution_count": 102,
   "metadata": {},
   "outputs": [
    {
     "data": {
      "image/png": "[encoded data removed]",
      "text/plain": [
       "<Figure size 432x288 with 1 Axes>"
      ]
     },
     "metadata": {
      "needs_background": "light"
     },
     "output_type": "display_data"
    }
   ],
   "source": [
    "plt2.barh(y_pos, spec1, align='center', alpha=0.5,color='brown')\n",
    "plt2.yticks(y_pos, classifier)\n",
    "plt2.xlabel('Specificity')\n",
    "plt2.title('Classification Performance')\n",
    "plt2.show()"
   ]
  },
  {
   "cell_type": "markdown",
   "metadata": {},
   "source": [
    "# Sensitivity"
   ]
  },
  {
   "cell_type": "code",
   "execution_count": 103,
   "metadata": {},
   "outputs": [
    {
     "data": {
      "image/png": "[encoded data removed]",
      "text/plain": [
       "<Figure size 432x288 with 1 Axes>"
      ]
     },
     "metadata": {
      "needs_background": "light"
     },
     "output_type": "display_data"
    }
   ],
   "source": [
    "plt2.barh(y_pos, sens1, align='center', alpha=0.5,color='navy')\n",
    "plt2.yticks(y_pos, classifier)\n",
    "plt2.xlabel('Sensitivity')\n",
    "plt2.title('Classification Performance')\n",
    "plt2.show()"
   ]
  },
  {
   "cell_type": "code",
   "execution_count": null,
   "metadata": {},
   "outputs": [],
   "source": []
  }
 ],
 "metadata": {
  "kernelspec": {
   "display_name": "Python 3",
   "language": "python",
   "name": "python3"
  },
  "language_info": {
   "codemirror_mode": {
    "name": "ipython",
    "version": 3
   },
   "file_extension": ".py",
   "mimetype": "text/x-python",
   "name": "python",
   "nbconvert_exporter": "python",
   "pygments_lexer": "ipython3",
   "version": "3.7.4"
  }
 },
 "nbformat": 4,
 "nbformat_minor": 2
}
